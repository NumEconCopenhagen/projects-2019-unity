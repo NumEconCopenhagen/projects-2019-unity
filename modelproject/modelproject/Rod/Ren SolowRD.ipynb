{
 "cells": [
  {
   "cell_type": "code",
   "execution_count": 12,
   "metadata": {},
   "outputs": [],
   "source": [
    "import matplotlib.pyplot as plt\n",
    "from scipy import optimize\n",
    "import numpy as np\n",
    "import sympy as sm\n",
    "import func"
   ]
  },
  {
   "cell_type": "code",
   "execution_count": 32,
   "metadata": {},
   "outputs": [],
   "source": [
    "sm.init_printing(use_unicode=True)"
   ]
  },
  {
   "cell_type": "code",
   "execution_count": 16,
   "metadata": {},
   "outputs": [],
   "source": [
    "#valgmuligheder:\n",
    "# andelen af mulig arbejdstid som bruges på forskning:\n",
    "sr = sm.symbols('s_Rt')\n",
    "# I starten antages kapitalopspsparingsraten at være konstant\n",
    "sk = sm.symbols('s_Kt')\n",
    "\n",
    "# Ud fra de valg nogle udfald\n",
    "# Først defineres variable\n",
    "l = sm.symbols('L_{t}')\n",
    "alpha = sm.symbols('alpha')\n",
    "k =sm.symbols('K_{t}')\n",
    "k1 = sm.symbols('K_{t+1}')\n",
    "y = sm.symbols('Y_{t}')\n",
    "c = sm.symbols('C')\n",
    "ct = sm.symbols('C_{t}')\n",
    "a = sm.symbols('A_{t}')\n",
    "a1 = sm.symbols('A_{t+1}')\n",
    "r = sm.symbols('r')\n",
    "l1  = sm.symbols('L_{t+1}')\n",
    "n = sm.symbols('n')\n",
    "\n",
    "#Greek:\n",
    "rho = sm.symbols('rho')\n",
    "beta = sm.symbols('beta')\n",
    "alpha = sm.symbols('alpha')\n",
    "phi = sm.symbols('phi')\n",
    "delta = sm.symbols('delta')\n",
    "lambd = sm.symbols('lambda')\n",
    "theta = sm.symbols('theta')\n",
    "\n",
    "t = sm.symbols('t')\n",
    "\n",
    "# Functions:\n",
    "uc = sm.Function('u')(ct) \n",
    "u = sm.Function('U')(c)"
   ]
  },
  {
   "cell_type": "code",
   "execution_count": 18,
   "metadata": {},
   "outputs": [],
   "source": [
    "prod = sm.Eq(y,a*k**alpha*(l*(1-sr))**(1-alpha))"
   ]
  },
  {
   "cell_type": "code",
   "execution_count": 20,
   "metadata": {},
   "outputs": [],
   "source": [
    "capakku = sm.Eq(k1,sk*y+(1-delta)*k)"
   ]
  },
  {
   "cell_type": "code",
   "execution_count": 22,
   "metadata": {},
   "outputs": [],
   "source": [
    "research = sm.Eq(a1,a+rho*a**phi*(l*sr)**lambd)"
   ]
  },
  {
   "cell_type": "code",
   "execution_count": 24,
   "metadata": {},
   "outputs": [],
   "source": [
    "popgrowth = sm.Eq(l1,(1+n)*l)"
   ]
  },
  {
   "cell_type": "markdown",
   "metadata": {},
   "source": [
    "Model:"
   ]
  },
  {
   "cell_type": "code",
   "execution_count": 26,
   "metadata": {},
   "outputs": [
    {
     "data": {
      "image/png": "[encoded data removed]",
      "text/latex": [
       "$$Y_{t} = A_{t} K_{t}^{\\alpha} \\left(L_{t} \\left(- s_{Rt} + 1\\right)\\right)^{- \\alpha + 1}$$"
      ],
      "text/plain": [
       "                   α                    -α + 1\n",
       "Y_{t} = A_{t}⋅K_{t} ⋅(L_{t}⋅(-s_Rt + 1))      "
      ]
     },
     "execution_count": 26,
     "metadata": {},
     "output_type": "execute_result"
    }
   ],
   "source": [
    "prod"
   ]
  },
  {
   "cell_type": "code",
   "execution_count": 27,
   "metadata": {},
   "outputs": [
    {
     "data": {
      "image/png": "[encoded data removed]",
      "text/latex": [
       "$$K_{t+1} = K_{t} \\left(- \\delta + 1\\right) + Y_{t} s_{Kt}$$"
      ],
      "text/plain": [
       "K_{t+1} = K_{t}⋅(-δ + 1) + Y_{t}⋅s_Kt"
      ]
     },
     "execution_count": 27,
     "metadata": {},
     "output_type": "execute_result"
    }
   ],
   "source": [
    "capakku"
   ]
  },
  {
   "cell_type": "code",
   "execution_count": 29,
   "metadata": {},
   "outputs": [
    {
     "data": {
      "image/png": "[encoded data removed]",
      "text/latex": [
       "$$A_{t+1} = A_{t} + A_{t}^{\\phi} \\rho \\left(L_{t} s_{Rt}\\right)^{\\lambda}$$"
      ],
      "text/plain": [
       "                       φ               λ\n",
       "A_{t+1} = A_{t} + A_{t} ⋅ρ⋅(L_{t}⋅s_Rt) "
      ]
     },
     "execution_count": 29,
     "metadata": {},
     "output_type": "execute_result"
    }
   ],
   "source": [
    "research"
   ]
  },
  {
   "cell_type": "code",
   "execution_count": 31,
   "metadata": {},
   "outputs": [
    {
     "data": {
      "image/png": "[encoded data removed]",
      "text/latex": [
       "$$L_{t+1} = L_{t} \\left(n + 1\\right)$$"
      ],
      "text/plain": [
       "L_{t+1} = L_{t}⋅(n + 1)"
      ]
     },
     "execution_count": 31,
     "metadata": {},
     "output_type": "execute_result"
    }
   ],
   "source": [
    "popgrowth"
   ]
  },
  {
   "cell_type": "markdown",
   "metadata": {},
   "source": [
    "also:"
   ]
  },
  {
   "cell_type": "markdown",
   "metadata": {},
   "source": [
    "solving:"
   ]
  },
  {
   "cell_type": "code",
   "execution_count": 34,
   "metadata": {},
   "outputs": [],
   "source": [
    "sm.init_printing(use_unicode=False)"
   ]
  },
  {
   "cell_type": "markdown",
   "metadata": {},
   "source": [
    "# Nummerisk"
   ]
  },
  {
   "cell_type": "code",
   "execution_count": 91,
   "metadata": {},
   "outputs": [],
   "source": [
    "# funktiions\n",
    "def prod(a,k,l,sr,alpha):\n",
    "    return k**alpha*(a*(1-sr)*l)**(1-alpha)\n",
    "def capitalakku(a,k,l,sr,sk,alpha,delta):\n",
    "    return prod(a,k,l,sr,alpha)*sk+(1-delta)*k\n",
    "def research(a,sr,l,rho,phi):\n",
    "    return a+rho*a**phi*(l*sr)**lambd"
   ]
  },
  {
   "cell_type": "code",
   "execution_count": 418,
   "metadata": {},
   "outputs": [],
   "source": [
    "def solowwalk(k0,a0, l0, n, sr, sk, alpha, delta, rho, phi, t):\n",
    "    k_path = np.array([k0])\n",
    "    a_path = np.array([a0])\n",
    "    l_path = [l0*(1+n)**i for i in list(range(t))]\n",
    "    y_path = np.array([prod(a_path[0],k_path[0],l_path[0],sr,alpha)])\n",
    "    \n",
    "    for i in range(1,t):\n",
    "        k_plus = capitalakku(a_path[i-1],k_path[i-1],l_path[i-1],sr,sk,alpha,delta)\n",
    "        a_plus = research(a_path[i-1],sr,l_path[i-1],rho,phi)\n",
    "        y_plus = prod(a_plus,k_plus,l_path[i-1],sr,alpha)\n",
    "        \n",
    "        k_path = np.append(k_path, k_plus)\n",
    "        a_path = np.append(a_path, a_plus)\n",
    "        y_path = np.append(y_path, y_plus)\n",
    "        \n",
    "    k_tilde_path = k_path/(a_path*l_path)   \n",
    "    y_tilde_path = y_path/(a_path*l_path)                      \n",
    "    return y_path, a_path, k_path, k_tilde_path, y_tilde_path"
   ]
  },
  {
   "cell_type": "markdown",
   "metadata": {},
   "source": [
    "*** semi-endogen *** "
   ]
  },
  {
   "cell_type": "code",
   "execution_count": 239,
   "metadata": {},
   "outputs": [],
   "source": [
    "# parameters:\n",
    "alpha = 1/3\n",
    "delta = 0.05\n",
    "rho = 0.9\n",
    "phi = 0.1\n",
    "lambd = 0.1\n",
    "n=0.01\n",
    "\n",
    "# fixed parameters\n",
    "sr = 0.05\n",
    "sk = 0.2\n",
    "\n",
    "# starting values:\n",
    "l0 = 100\n",
    "k0 = 1000\n",
    "a0 = 1000"
   ]
  },
  {
   "cell_type": "code",
   "execution_count": 241,
   "metadata": {},
   "outputs": [],
   "source": [
    "t = 1000\n",
    "y_path, a_path, k_path, k_tilde_path, y_tilde_path = solowwalk(k0,a0, l0, n, sr, sk, alpha, delta, rho, phi, t)"
   ]
  },
  {
   "cell_type": "code",
   "execution_count": 243,
   "metadata": {},
   "outputs": [
    {
     "data": {
      "image/png": "[encoded data removed]",
      "text/plain": [
       "<Figure size 432x288 with 1 Axes>"
      ]
     },
     "metadata": {
      "needs_background": "light"
     },
     "output_type": "display_data"
    }
   ],
   "source": [
    "func.plot(range(t),k_tilde_path)"
   ]
  },
  {
   "cell_type": "code",
   "execution_count": 245,
   "metadata": {},
   "outputs": [],
   "source": [
    "gse = (1+n)**(lambd/(1-phi))-1"
   ]
  },
  {
   "cell_type": "code",
   "execution_count": 247,
   "metadata": {},
   "outputs": [
    {
     "data": {
      "image/png": "[encoded data removed]",
      "text/latex": [
       "$$5.623707497022151$$"
      ],
      "text/plain": [
       "5.623707497022151"
      ]
     },
     "execution_count": 247,
     "metadata": {},
     "output_type": "execute_result"
    }
   ],
   "source": [
    "# Predikteret k_tilde_ss:\n",
    "(sk/(n+gse+delta+n*gse))**(1/(1-alpha))*(1-sr)"
   ]
  },
  {
   "cell_type": "code",
   "execution_count": 248,
   "metadata": {},
   "outputs": [
    {
     "data": {
      "image/png": "[encoded data removed]",
      "text/latex": [
       "$$5.613168945853291$$"
      ],
      "text/plain": [
       "5.613168945853291"
      ]
     },
     "execution_count": 248,
     "metadata": {},
     "output_type": "execute_result"
    }
   ],
   "source": [
    "k_tilde_path[-1]"
   ]
  },
  {
   "cell_type": "markdown",
   "metadata": {},
   "source": [
    "*** fuldt endogen ***"
   ]
  },
  {
   "cell_type": "code",
   "execution_count": 449,
   "metadata": {},
   "outputs": [],
   "source": [
    "# parameters:\n",
    "alpha = 1/3\n",
    "delta = 0.05\n",
    "rho = 0.05\n",
    "phi = 1 #here \n",
    "lambd = 0.1\n",
    "n = 0.00 # here\n",
    "\n",
    "# fixed parameters\n",
    "sr = 0.005\n",
    "sk = 0.2\n",
    "\n",
    "# starting values:\n",
    "l0 = 10\n",
    "k0 = 150\n",
    "a0 = 10"
   ]
  },
  {
   "cell_type": "code",
   "execution_count": 451,
   "metadata": {},
   "outputs": [],
   "source": [
    "t = 100\n",
    "y_path, a_path, k_path, k_tilde_path,y_tilde_path = solowwalk(k0,a0, l0, n, sr, sk, alpha, delta, rho, phi, t)"
   ]
  },
  {
   "cell_type": "code",
   "execution_count": 453,
   "metadata": {},
   "outputs": [
    {
     "data": {
      "image/png": "[encoded data removed]",
      "text/plain": [
       "<Figure size 432x288 with 1 Axes>"
      ]
     },
     "metadata": {
      "needs_background": "light"
     },
     "output_type": "display_data"
    }
   ],
   "source": [
    "func.plot(range(t),y_tilde_path)"
   ]
  },
  {
   "cell_type": "markdown",
   "metadata": {},
   "source": [
    "analytisk"
   ]
  },
  {
   "cell_type": "code",
   "execution_count": 455,
   "metadata": {},
   "outputs": [],
   "source": [
    "ge = rho*(sr*l0)**lambd"
   ]
  },
  {
   "cell_type": "code",
   "execution_count": 457,
   "metadata": {},
   "outputs": [
    {
     "data": {
      "image/png": "[encoded data removed]",
      "text/latex": [
       "$$3.4572065837280626$$"
      ],
      "text/plain": [
       "3.4572065837280626"
      ]
     },
     "execution_count": 457,
     "metadata": {},
     "output_type": "execute_result"
    }
   ],
   "source": [
    "k_tilde_path[-1]"
   ]
  },
  {
   "cell_type": "code",
   "execution_count": 459,
   "metadata": {},
   "outputs": [
    {
     "data": {
      "image/png": "[encoded data removed]",
      "text/latex": [
       "$$3.464691776591753$$"
      ],
      "text/plain": [
       "3.464691776591753"
      ]
     },
     "execution_count": 459,
     "metadata": {},
     "output_type": "execute_result"
    }
   ],
   "source": [
    "# k_tilde\n",
    "(sk/(ge+delta))**(1/(1-alpha))*(1-sr)"
   ]
  },
  {
   "cell_type": "code",
   "execution_count": 461,
   "metadata": {},
   "outputs": [
    {
     "data": {
      "image/png": "[encoded data removed]",
      "text/latex": [
       "$$1.5070367082881506$$"
      ],
      "text/plain": [
       "1.5070367082881506"
      ]
     },
     "execution_count": 461,
     "metadata": {},
     "output_type": "execute_result"
    }
   ],
   "source": [
    "y_tilde_path[-1]"
   ]
  },
  {
   "cell_type": "code",
   "execution_count": 462,
   "metadata": {},
   "outputs": [
    {
     "data": {
      "image/png": "[encoded data removed]",
      "text/latex": [
       "$$1.5081235519403635$$"
      ],
      "text/plain": [
       "1.5081235519403635"
      ]
     },
     "execution_count": 462,
     "metadata": {},
     "output_type": "execute_result"
    }
   ],
   "source": [
    "# y_tilde\n",
    "(sk/(ge+delta))**(alpha/(1-alpha))*(1-sr)"
   ]
  }
 ],
 "metadata": {
  "kernelspec": {
   "display_name": "Python 3",
   "language": "python",
   "name": "python3"
  },
  "language_info": {
   "codemirror_mode": {
    "name": "ipython",
    "version": 3
   },
   "file_extension": ".py",
   "mimetype": "text/x-python",
   "name": "python",
   "nbconvert_exporter": "python",
   "pygments_lexer": "ipython3",
   "version": "3.7.1"
  }
 },
 "nbformat": 4,
 "nbformat_minor": 2
}
