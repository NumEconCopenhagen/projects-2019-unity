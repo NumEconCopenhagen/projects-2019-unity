{
 "cells": [
  {
   "cell_type": "markdown",
   "metadata": {},
   "source": [
    "# Idéer til R&D endogen vækst modeller med et dynamisk element "
   ]
  },
  {
   "cell_type": "code",
   "execution_count": 213,
   "metadata": {},
   "outputs": [],
   "source": [
    "import matplotlib.pyplot as plt\n",
    "from scipy import optimize\n",
    "import sympy as sm\n",
    "sm.init_printing(use_unicode=True)"
   ]
  },
  {
   "cell_type": "markdown",
   "metadata": {},
   "source": [
    "# mikro problemet \n",
    "Optimal arbejdsfordeling"
   ]
  },
  {
   "cell_type": "markdown",
   "metadata": {},
   "source": [
    "I hver periode, t, skal den enkelte repræsentative forbruger vælge hvor meget han vil arbejde med produktion og arbejde med forskning. Produktion bruges til forbrug i periode t og kapitalopsparing som bidrag til fremtidig produktion. Forskning øger produktiviten i fremtidige perioder ."
   ]
  },
  {
   "cell_type": "code",
   "execution_count": 215,
   "metadata": {},
   "outputs": [],
   "source": [
    "#valgmuligheder:\n",
    "# andelen af mulig arbejdstid som bruges på forskning:\n",
    "sr = sm.symbols('s_Rt')\n",
    "# I starten antages kapitalopspsparingsraten at være konstant\n",
    "sk = sm.symbols('s_Kt')"
   ]
  },
  {
   "cell_type": "code",
   "execution_count": 217,
   "metadata": {},
   "outputs": [],
   "source": [
    "# Ud fra de valg nogle udfald\n",
    "# Først defineres variable\n",
    "l = sm.symbols('L_{t}')\n",
    "ly = sm.symbols('L_{Yt}')\n",
    "la = sm.symbols('L_{At}')\n",
    "alpha = sm.symbols('alpha')\n",
    "k =sm.symbols('K_{t}')\n",
    "k1 = sm.symbols('K_{t+1}')\n",
    "y = sm.symbols('Y_{t}')\n",
    "c = sm.symbols('C')\n",
    "ct = sm.symbols('C_{t}')\n",
    "a = sm.symbols('A_{t}')\n",
    "a1 = sm.symbols('A_{t+1}')\n",
    "\n",
    "#Greek:\n",
    "rho = sm.symbols('rho')\n",
    "beta = sm.symbols('beta')\n",
    "alpha = sm.symbols('alpha')\n",
    "phi = sm.symbols('phi')\n",
    "delta = sm.symbols('delta')\n",
    "\n",
    "t = sm.symbols('t')\n",
    "\n",
    "# Functions:\n",
    "uc = sm.Function('u')(ct) \n",
    "u = sm.Function('U')(c)"
   ]
  },
  {
   "cell_type": "markdown",
   "metadata": {},
   "source": [
    "Nyttefunktion:"
   ]
  },
  {
   "cell_type": "code",
   "execution_count": 219,
   "metadata": {},
   "outputs": [
    {
     "data": {
      "image/png": "[encoded data removed]",
      "text/latex": [
       "$$u{\\left (C_{t} \\right )} = \\frac{C_{t}^{- \\rho + 1}}{- \\rho + 1}$$"
      ],
      "text/plain": [
       "                -ρ + 1\n",
       "           C_{t}      \n",
       "u(C_{t}) = ───────────\n",
       "              -ρ + 1  "
      ]
     },
     "execution_count": 219,
     "metadata": {},
     "output_type": "execute_result"
    }
   ],
   "source": [
    "sm.Eq(uc,ct**(1-rho)/(1-rho))"
   ]
  },
  {
   "cell_type": "code",
   "execution_count": 221,
   "metadata": {},
   "outputs": [
    {
     "data": {
      "image/png": "[encoded data removed]",
      "text/latex": [
       "$$U{\\left (C \\right )} = \\sum_{t=1}^{3} \\frac{C_{t}^{- \\rho + 1} \\beta^{t}}{- \\rho + 1}$$"
      ],
      "text/plain": [
       "         3                 \n",
       "        ____               \n",
       "        ╲                  \n",
       "         ╲        -ρ + 1  t\n",
       "          ╲  C_{t}      ⋅β \n",
       "U(C) =    ╱  ──────────────\n",
       "         ╱       -ρ + 1    \n",
       "        ╱                  \n",
       "        ‾‾‾‾               \n",
       "       t = 1               "
      ]
     },
     "execution_count": 221,
     "metadata": {},
     "output_type": "execute_result"
    }
   ],
   "source": [
    "sm.Eq(u,sm.Sum(beta**t*ct**(1-rho)/(1-rho),(t,1,3)))"
   ]
  },
  {
   "cell_type": "markdown",
   "metadata": {},
   "source": [
    "Betingelser i produktion:"
   ]
  },
  {
   "cell_type": "code",
   "execution_count": 6,
   "metadata": {},
   "outputs": [
    {
     "data": {
      "image/png": "[encoded data removed]",
      "text/latex": [
       "$$C = Y_{t} s_{Kt}$$"
      ],
      "text/plain": [
       "C = Y_{t}⋅s_Kt"
      ]
     },
     "execution_count": 6,
     "metadata": {},
     "output_type": "execute_result"
    }
   ],
   "source": [
    "sm.Eq(c,sk*y)"
   ]
  },
  {
   "cell_type": "code",
   "execution_count": 7,
   "metadata": {},
   "outputs": [
    {
     "data": {
      "image/png": "[encoded data removed]",
      "text/latex": [
       "$$Y_{t} = A_{t} K_{t}^{\\alpha} \\left(L_{t} \\left(- s_{Rt} + 1\\right)\\right)^{- \\alpha + 1}$$"
      ],
      "text/plain": [
       "                   α                    -α + 1\n",
       "Y_{t} = A_{t}⋅K_{t} ⋅(L_{t}⋅(-s_Rt + 1))      "
      ]
     },
     "execution_count": 7,
     "metadata": {},
     "output_type": "execute_result"
    }
   ],
   "source": [
    "sm.Eq(y,a*k**alpha*(l*(1-sr))**(1-alpha))"
   ]
  },
  {
   "cell_type": "markdown",
   "metadata": {},
   "source": [
    "Tidshorisonts betingelser"
   ]
  },
  {
   "cell_type": "code",
   "execution_count": 8,
   "metadata": {},
   "outputs": [
    {
     "data": {
      "image/png": "[encoded data removed]",
      "text/latex": [
       "$$A_{t+1} = A_{t} \\left(\\rho \\left(L_{t} s_{Rt}\\right)^{\\phi} + 1\\right)$$"
      ],
      "text/plain": [
       "                ⎛              φ    ⎞\n",
       "A_{t+1} = A_{t}⋅⎝ρ⋅(L_{t}⋅s_Rt)  + 1⎠"
      ]
     },
     "execution_count": 8,
     "metadata": {},
     "output_type": "execute_result"
    }
   ],
   "source": [
    "sm.Eq(a1,a*(1+rho*(l*sr)**phi))"
   ]
  },
  {
   "cell_type": "code",
   "execution_count": 9,
   "metadata": {},
   "outputs": [
    {
     "data": {
      "image/png": "[encoded data removed]",
      "text/latex": [
       "$$K_{t+1} = - K_{t} \\delta + Y_{t} s_{Kt}$$"
      ],
      "text/plain": [
       "K_{t+1} = -K_{t}⋅δ + Y_{t}⋅s_Kt"
      ]
     },
     "execution_count": 9,
     "metadata": {},
     "output_type": "execute_result"
    }
   ],
   "source": [
    "sm.Eq(k1,sk*y-delta*k)"
   ]
  },
  {
   "cell_type": "code",
   "execution_count": 419,
   "metadata": {},
   "outputs": [],
   "source": [
    "def utility(c):\n",
    "    return c**(1-rho)/(1-rho)\n",
    "\n",
    "def total_utility(c,beta):\n",
    "    t_u = 0\n",
    "    for i,ct in enumerate(c):\n",
    "        t_u += beta**i*utility(ct)\n",
    "    return t_u\n",
    "\n",
    "def prod(k,l):\n",
    "    return k**alpha*l**(1-alpha)"
   ]
  },
  {
   "cell_type": "code",
   "execution_count": 420,
   "metadata": {},
   "outputs": [],
   "source": [
    "def tot_ut_sk(sk,t,beta, vector=False):\n",
    "    for i in range(t):\n",
    "        y[i] = prod(k[i],l)\n",
    "        c[i]=(1-sk)*y[i]\n",
    "        if i+1<t:\n",
    "            k[i+1]=sk*y[i]-delta*k[i]\n",
    "    if vector==False:\n",
    "        return total_utility(c,beta)\n",
    "    elif vector==True:\n",
    "        return total_utility(c,beta), y, c, k"
   ]
  },
  {
   "cell_type": "code",
   "execution_count": 421,
   "metadata": {},
   "outputs": [],
   "source": [
    "rho = 0.5\n",
    "alpha = 0.3\n",
    "delta = 0.05"
   ]
  },
  {
   "cell_type": "code",
   "execution_count": 424,
   "metadata": {},
   "outputs": [],
   "source": [
    "t = 5\n",
    "c = np.empty(t)\n",
    "k = np.empty(t)\n",
    "y = np.empty(t)\n",
    "k[0] = 25\n",
    "l = 100\n",
    "beta = 0.9"
   ]
  },
  {
   "cell_type": "code",
   "execution_count": 425,
   "metadata": {},
   "outputs": [
    {
     "name": "stdout",
     "output_type": "stream",
     "text": [
      "Optimal sk = 0.2227, with total utility = 53.9390\n"
     ]
    }
   ],
   "source": [
    "obj = lambda sk: -tot_ut_sk(sk,t,beta)\n",
    "sk0 = [0.3]\n",
    "res = optimize.minimize(obj, sk0, method='Nelder-Mead')\n",
    "print(f'Optimal sk = {res.x[0]:.4f}, with total utility = {-res.fun:.4f}')"
   ]
  },
  {
   "cell_type": "code",
   "execution_count": 278,
   "metadata": {},
   "outputs": [],
   "source": [
    "sk_optimal = np.empty(50)\n",
    "k0s = np.linspace(1,200,50)\n",
    "\n",
    "for i, k0 in enumerate(k0s):\n",
    "    k[0]=k0\n",
    "    obj = lambda sk: -tot_ut_sk(sk,t,beta)\n",
    "    res = optimize.minimize(obj, sk0, method='Nelder-Mead')\n",
    "    sk_optimal[i] = res.x[0]\n",
    "    \n",
    "    "
   ]
  },
  {
   "cell_type": "code",
   "execution_count": 297,
   "metadata": {},
   "outputs": [],
   "source": [
    "tot, y, c, k = tot_ut_sk(0.5,t,beta,vector=True)"
   ]
  },
  {
   "cell_type": "code",
   "execution_count": 301,
   "metadata": {},
   "outputs": [
    {
     "data": {
      "text/plain": [
       "[<matplotlib.lines.Line2D at 0x126cc87b8>]"
      ]
     },
     "execution_count": 301,
     "metadata": {},
     "output_type": "execute_result"
    },
    {
     "data": {
      "image/png": "[encoded data removed]",
      "text/plain": [
       "<Figure size 432x288 with 1 Axes>"
      ]
     },
     "metadata": {
      "needs_background": "light"
     },
     "output_type": "display_data"
    }
   ],
   "source": [
    "fig = plt.figure()\n",
    "ax = fig.add_subplot(1,1,1)\n",
    "ax.plot(range(t),k)"
   ]
  },
  {
   "cell_type": "markdown",
   "metadata": {},
   "source": [
    "# I makro sammensætning"
   ]
  },
  {
   "cell_type": "code",
   "execution_count": 787,
   "metadata": {},
   "outputs": [],
   "source": [
    "# Funktioner\n",
    "def utility(c,rho):\n",
    "    return c**(1-rho)/(1-rho)\n",
    "\n",
    "def total_utility(c,beta,rho):\n",
    "    t_u = 0\n",
    "    for i,ct in enumerate(c):\n",
    "        t_u += beta**i*utility(ct,rho)\n",
    "    return t_u\n",
    "\n",
    "def prod(k,l,alpha):\n",
    "    return k**alpha*l**(1-alpha)\n",
    "\n",
    "def tot_ut_sk(sk,t,beta,k0,alpha, rho, delta, detail=False):\n",
    "    k_short = np.empty(t)\n",
    "    c_short = np.empty(t)\n",
    "    y_short = np.empty(t)\n",
    "    k_short[0] = k0\n",
    "    for i in range(t):\n",
    "        y_short[i] = prod(k_short[i],l,alpha)\n",
    "        c_short[i]=(1-sk)*y_short[i]\n",
    "        if i+1<t:\n",
    "            k_short[i+1]=sk*y_short[i]-delta*k_short[i] \n",
    "    if detail:\n",
    "        return k_short,c_short,y_short\n",
    "    else:\n",
    "        return total_utility(c_short,beta,rho)\n",
    "\n",
    "def opt_sk(t,beta, delta, alpha, rho, k0):\n",
    "    obj = lambda sk: -tot_ut_sk(sk,t,beta,k0, alpha, rho, delta)\n",
    "    sk0 = alpha\n",
    "    res = optimize.minimize_scalar(obj, sk0, method='bounded',bounds=[0,1])\n",
    "    return res.x"
   ]
  },
  {
   "cell_type": "code",
   "execution_count": 805,
   "metadata": {},
   "outputs": [],
   "source": [
    "rho = 0.5\n",
    "alpha = 1/3\n",
    "delta = 0.05\n",
    "t = 1000\n",
    "k0 = 10\n",
    "l = 100\n",
    "beta = 0.9"
   ]
  },
  {
   "cell_type": "code",
   "execution_count": 818,
   "metadata": {},
   "outputs": [
    {
     "data": {
      "image/png": "[encoded data removed]",
      "text/latex": [
       "$$0.30143510731568457$$"
      ],
      "text/plain": [
       "0.30143510731568457"
      ]
     },
     "execution_count": 818,
     "metadata": {},
     "output_type": "execute_result"
    }
   ],
   "source": [
    "opt_sk(t, beta,delta,alpha,rho,k0)"
   ]
  },
  {
   "cell_type": "code",
   "execution_count": 813,
   "metadata": {},
   "outputs": [],
   "source": [
    "t_store = 25\n",
    "c = np.empty(t_store)\n",
    "k = np.empty(t_store)\n",
    "k[0] = 15.4\n",
    "y = np.empty(t_store)\n",
    "sks = np.empty(t_store)"
   ]
  },
  {
   "cell_type": "code",
   "execution_count": 814,
   "metadata": {},
   "outputs": [],
   "source": [
    "for i in range(t_store):\n",
    "    k0 = k[i]\n",
    "    sks[i] = opt_sk(t,beta,delta,alpha,rho,k0)\n",
    "    if i+1<t_store:\n",
    "        k[i+1] = sks[i]*prod(k[i],l,alpha)-delta*k[i]"
   ]
  },
  {
   "cell_type": "code",
   "execution_count": 815,
   "metadata": {},
   "outputs": [
    {
     "data": {
      "text/plain": [
       "[<matplotlib.lines.Line2D at 0x1282aa630>]"
      ]
     },
     "execution_count": 815,
     "metadata": {},
     "output_type": "execute_result"
    },
    {
     "data": {
      "image/png": "[encoded data removed]",
      "text/plain": [
       "<Figure size 432x288 with 1 Axes>"
      ]
     },
     "metadata": {
      "needs_background": "light"
     },
     "output_type": "display_data"
    }
   ],
   "source": [
    "fig = plt.figure()\n",
    "ax = fig.add_subplot(1,1,1)\n",
    "ax.plot(range(t_store),k)"
   ]
  },
  {
   "cell_type": "code",
   "execution_count": 819,
   "metadata": {},
   "outputs": [
    {
     "data": {
      "text/plain": [
       "[<matplotlib.lines.Line2D at 0x1283b1be0>]"
      ]
     },
     "execution_count": 819,
     "metadata": {},
     "output_type": "execute_result"
    },
    {
     "data": {
      "image/png": "[encoded data removed]",
      "text/plain": [
       "<Figure size 432x288 with 1 Axes>"
      ]
     },
     "metadata": {
      "needs_background": "light"
     },
     "output_type": "display_data"
    }
   ],
   "source": [
    "fig = plt.figure()\n",
    "ax = fig.add_subplot(1,1,1)\n",
    "ax.plot(range(t_store),sks)"
   ]
  },
  {
   "cell_type": "code",
   "execution_count": null,
   "metadata": {},
   "outputs": [],
   "source": []
  },
  {
   "cell_type": "code",
   "execution_count": null,
   "metadata": {},
   "outputs": [],
   "source": []
  },
  {
   "cell_type": "code",
   "execution_count": null,
   "metadata": {},
   "outputs": [],
   "source": []
  }
 ],
 "metadata": {
  "kernelspec": {
   "display_name": "Python 3",
   "language": "python",
   "name": "python3"
  },
  "language_info": {
   "codemirror_mode": {
    "name": "ipython",
    "version": 3
   },
   "file_extension": ".py",
   "mimetype": "text/x-python",
   "name": "python",
   "nbconvert_exporter": "python",
   "pygments_lexer": "ipython3",
   "version": "3.7.1"
  }
 },
 "nbformat": 4,
 "nbformat_minor": 2
}
