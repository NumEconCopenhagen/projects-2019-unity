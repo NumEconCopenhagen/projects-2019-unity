{
 "cells": [
  {
   "cell_type": "markdown",
   "metadata": {},
   "source": [
    "# Idéer til R&D endogen vækst modeller med et dynamisk element "
   ]
  },
  {
   "cell_type": "code",
   "execution_count": 2,
   "metadata": {},
   "outputs": [],
   "source": [
    "import sympy as sm\n",
    "sm.init_printing(use_unicode=True)"
   ]
  },
  {
   "cell_type": "markdown",
   "metadata": {},
   "source": [
    "# mikro problemet \n",
    "Optimal arbejdsfordeling"
   ]
  },
  {
   "cell_type": "markdown",
   "metadata": {},
   "source": [
    "I hver periode, t, skal den enkelte repræsentative forbruger vælge hvor meget han vil arbejde med produktion og arbejde med forskning. Produktion bruges til forbrug i periode t og kapitalopsparing som bidrag til fremtidig produktion. Forskning øger produktiviten i fremtidige perioder ."
   ]
  },
  {
   "cell_type": "code",
   "execution_count": 4,
   "metadata": {},
   "outputs": [],
   "source": [
    "#valgmuligheder:\n",
    "# andelen af mulig arbejdstid som bruges på forskning:\n",
    "sr = sm.symbols('s_Rt')\n",
    "# I starten antages kapitalopspsparingsraten at være konstant\n",
    "sk = sm.symbols('s_Kt')"
   ]
  },
  {
   "cell_type": "code",
   "execution_count": 6,
   "metadata": {},
   "outputs": [],
   "source": [
    "# Ud fra de valg nogle udfald\n",
    "# Først defineres variable\n",
    "l = sm.symbols('L_{t}')\n",
    "alpha = sm.symbols('alpha')\n",
    "k =sm.symbols('K_{t}')\n",
    "y = sm.symbols('Y_{t}')"
   ]
  },
  {
   "cell_type": "code",
   "execution_count": 10,
   "metadata": {},
   "outputs": [],
   "source": [
    "c = sm.symbols('C')\n",
    "ct = sm.symbols('C_{t}')\n",
    "\n",
    "rho = sm.symbols('rho')\n",
    "beta = sm.symbols('beta')\n",
    "t = sm.symbols('t')\n",
    "uc = sm.Function('u')(ct) "
   ]
  },
  {
   "cell_type": "code",
   "execution_count": 12,
   "metadata": {},
   "outputs": [
    {
     "data": {
      "image/png": "[encoded data removed]",
      "text/latex": [
       "$$u{\\left (C_{t} \\right )} = \\frac{C_{t}^{- \\rho + 1} \\beta^{t}}{- \\rho + 1}$$"
      ],
      "text/plain": [
       "                -ρ + 1  t\n",
       "           C_{t}      ⋅β \n",
       "u(C_{t}) = ──────────────\n",
       "               -ρ + 1    "
      ]
     },
     "execution_count": 12,
     "metadata": {},
     "output_type": "execute_result"
    }
   ],
   "source": [
    "sm.Eq(uc,beta**t*ct**(1-rho)/(1-rho))"
   ]
  },
  {
   "cell_type": "code",
   "execution_count": 13,
   "metadata": {},
   "outputs": [
    {
     "data": {
      "image/png": "[encoded data removed]",
      "text/latex": [
       "$$U{\\left (C \\right )} = \\sum_{t=1}^{\\infty} u{\\left (C_{t} \\right )}$$"
      ],
      "text/plain": [
       "         ∞           \n",
       "        ___          \n",
       "        ╲            \n",
       "         ╲   u(C_{t})\n",
       "U(C) =   ╱           \n",
       "        ╱            \n",
       "        ‾‾‾          \n",
       "       t = 1         "
      ]
     },
     "execution_count": 13,
     "metadata": {},
     "output_type": "execute_result"
    }
   ],
   "source": [
    "u = sm.Function('U')(c)\n",
    "sm.Eq(u,sm.Sum(uc,(t,1,sm.oo)))"
   ]
  },
  {
   "cell_type": "code",
   "execution_count": null,
   "metadata": {},
   "outputs": [],
   "source": []
  },
  {
   "cell_type": "code",
   "execution_count": null,
   "metadata": {},
   "outputs": [],
   "source": [
    "u_c"
   ]
  },
  {
   "cell_type": "code",
   "execution_count": null,
   "metadata": {},
   "outputs": [],
   "source": [
    "u"
   ]
  },
  {
   "cell_type": "code",
   "execution_count": null,
   "metadata": {},
   "outputs": [],
   "source": [
    "u.doit()"
   ]
  },
  {
   "cell_type": "code",
   "execution_count": null,
   "metadata": {},
   "outputs": [],
   "source": [
    "y = sm.symbols('Y_t')\n",
    "kt = sm.symbols('K_{t}')\n",
    "alpha = sm.symbols('alpha')\n",
    "lyt = sm.symbols('L_{Yt}')\n",
    "lat = sm.symbols('L_{At}')\n",
    "at = sm.symbols('A_{t}')\n",
    "at1 = sm.symbols('A_{t+1}')\n",
    "phi = sm.symbols('phi')\n",
    "lamb = sm.symbols('lambda')\n",
    "delta = sm.symbols('delta')\n",
    "lt = sm.symbols('L_{t}')"
   ]
  },
  {
   "cell_type": "code",
   "execution_count": null,
   "metadata": {},
   "outputs": [],
   "source": [
    "first = sm.Eq(y,kt**alpha*(at*lyt)**(1-alpha))"
   ]
  },
  {
   "cell_type": "code",
   "execution_count": null,
   "metadata": {},
   "outputs": [],
   "source": [
    "sm.solve(first,kt)"
   ]
  }
 ],
 "metadata": {
  "kernelspec": {
   "display_name": "Python 3",
   "language": "python",
   "name": "python3"
  },
  "language_info": {
   "codemirror_mode": {
    "name": "ipython",
    "version": 3
   },
   "file_extension": ".py",
   "mimetype": "text/x-python",
   "name": "python",
   "nbconvert_exporter": "python",
   "pygments_lexer": "ipython3",
   "version": "3.7.1"
  }
 },
 "nbformat": 4,
 "nbformat_minor": 2
}
