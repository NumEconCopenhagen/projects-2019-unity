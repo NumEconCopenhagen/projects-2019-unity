{
 "cells": [
  {
   "cell_type": "markdown",
   "metadata": {},
   "source": [
    "# Idéer til R&D endogen vækst modeller med et dynamisk element "
   ]
  },
  {
   "cell_type": "code",
   "execution_count": 1,
   "metadata": {},
   "outputs": [],
   "source": [
    "import matplotlib.pyplot as plt\n",
    "from scipy import optimize\n",
    "import numpy as np\n",
    "import sympy as sm\n",
    "sm.init_printing(use_unicode=True)"
   ]
  },
  {
   "cell_type": "code",
   "execution_count": 2,
   "metadata": {},
   "outputs": [],
   "source": [
    "def plot(x,y):\n",
    "    fig = plt.figure()\n",
    "    ax = fig.add_subplot(1,1,1)\n",
    "    ax.plot(x,y)"
   ]
  },
  {
   "cell_type": "markdown",
   "metadata": {},
   "source": [
    "# mikro problemet \n",
    "Optimal arbejdsfordeling"
   ]
  },
  {
   "cell_type": "markdown",
   "metadata": {},
   "source": [
    "I hver periode, t, skal den enkelte repræsentative forbruger vælge hvor meget han vil arbejde med produktion og arbejde med forskning. Produktion bruges til forbrug i periode t og kapitalopsparing som bidrag til fremtidig produktion. Forskning øger produktiviten i fremtidige perioder ."
   ]
  },
  {
   "cell_type": "code",
   "execution_count": 3,
   "metadata": {},
   "outputs": [],
   "source": [
    "#valgmuligheder:\n",
    "# andelen af mulig arbejdstid som bruges på forskning:\n",
    "sr = sm.symbols('s_Rt')\n",
    "# I starten antages kapitalopspsparingsraten at være konstant\n",
    "sk = sm.symbols('s_Kt')"
   ]
  },
  {
   "cell_type": "code",
   "execution_count": 4,
   "metadata": {},
   "outputs": [],
   "source": [
    "# Ud fra de valg nogle udfald\n",
    "# Først defineres variable\n",
    "l = sm.symbols('L_{t}')\n",
    "ly = sm.symbols('L_{Yt}')\n",
    "la = sm.symbols('L_{At}')\n",
    "alpha = sm.symbols('alpha')\n",
    "k =sm.symbols('K_{t}')\n",
    "k1 = sm.symbols('K_{t+1}')\n",
    "y = sm.symbols('Y_{t}')\n",
    "c = sm.symbols('C')\n",
    "ct = sm.symbols('C_{t}')\n",
    "a = sm.symbols('A_{t}')\n",
    "a1 = sm.symbols('A_{t+1}')\n",
    "r = sm.symbols('r')\n",
    "\n",
    "#Greek:\n",
    "rho = sm.symbols('rho')\n",
    "beta = sm.symbols('beta')\n",
    "alpha = sm.symbols('alpha')\n",
    "phi = sm.symbols('phi')\n",
    "delta = sm.symbols('delta')\n",
    "theta = sm.symbols('theta')\n",
    "\n",
    "t = sm.symbols('t')\n",
    "\n",
    "# Functions:\n",
    "uc = sm.Function('u')(ct) \n",
    "u = sm.Function('U')(c)"
   ]
  },
  {
   "cell_type": "markdown",
   "metadata": {},
   "source": [
    "Nyttefunktion:"
   ]
  },
  {
   "cell_type": "code",
   "execution_count": 5,
   "metadata": {},
   "outputs": [
    {
     "data": {
      "image/png": "[encoded data removed]",
      "text/latex": [
       "$$u{\\left (C_{t} \\right )} = \\frac{C_{t}^{- \\theta + 1} - 1}{- \\theta + 1}$$"
      ],
      "text/plain": [
       "                -θ + 1    \n",
       "           C_{t}       - 1\n",
       "u(C_{t}) = ───────────────\n",
       "                -θ + 1    "
      ]
     },
     "execution_count": 5,
     "metadata": {},
     "output_type": "execute_result"
    }
   ],
   "source": [
    "sm.Eq(uc,(ct**(1-theta)-1)/(1-theta))"
   ]
  },
  {
   "cell_type": "code",
   "execution_count": 6,
   "metadata": {},
   "outputs": [],
   "source": [
    "hello = sm.Limit((ct**(1-theta)-1)/(1-theta),theta,1)"
   ]
  },
  {
   "cell_type": "code",
   "execution_count": 7,
   "metadata": {},
   "outputs": [
    {
     "data": {
      "image/png": "[encoded data removed]",
      "text/latex": [
       "$$\\lim_{\\theta \\to 1^+}\\left(\\frac{C_{t}^{- \\theta + 1} - 1}{- \\theta + 1}\\right)$$"
      ],
      "text/plain": [
       "     ⎛     -θ + 1    ⎞\n",
       "     ⎜C_{t}       - 1⎟\n",
       " lim ⎜───────────────⎟\n",
       "θ─→1⁺⎝     -θ + 1    ⎠"
      ]
     },
     "execution_count": 7,
     "metadata": {},
     "output_type": "execute_result"
    }
   ],
   "source": [
    "hello"
   ]
  },
  {
   "cell_type": "code",
   "execution_count": 8,
   "metadata": {},
   "outputs": [
    {
     "data": {
      "image/png": "[encoded data removed]",
      "text/latex": [
       "$$\\log{\\left (C_{t} \\right )}$$"
      ],
      "text/plain": [
       "log(C_{t})"
      ]
     },
     "execution_count": 8,
     "metadata": {},
     "output_type": "execute_result"
    }
   ],
   "source": [
    "hello.doit()"
   ]
  },
  {
   "cell_type": "code",
   "execution_count": 9,
   "metadata": {},
   "outputs": [
    {
     "data": {
      "image/png": "[encoded data removed]",
      "text/latex": [
       "$$- C_{t}^{- \\rho + 1} \\log{\\left (C_{t} \\right )}$$"
      ],
      "text/plain": [
       "      -ρ + 1           \n",
       "-C_{t}      ⋅log(C_{t})"
      ]
     },
     "execution_count": 9,
     "metadata": {},
     "output_type": "execute_result"
    }
   ],
   "source": [
    "sm.diff(ct**(1-rho),rho)"
   ]
  },
  {
   "cell_type": "code",
   "execution_count": 10,
   "metadata": {},
   "outputs": [
    {
     "data": {
      "image/png": "[encoded data removed]",
      "text/latex": [
       "$$U{\\left (C \\right )} = \\sum_{t=1}^{3} \\frac{\\beta^{t} \\left(C_{t}^{- \\theta + 1} - 1\\right)}{- \\theta + 1}$$"
      ],
      "text/plain": [
       "         3                       \n",
       "        ____                     \n",
       "        ╲                        \n",
       "         ╲    t ⎛     -θ + 1    ⎞\n",
       "          ╲  β ⋅⎝C_{t}       - 1⎠\n",
       "U(C) =    ╱  ────────────────────\n",
       "         ╱          -θ + 1       \n",
       "        ╱                        \n",
       "        ‾‾‾‾                     \n",
       "       t = 1                     "
      ]
     },
     "execution_count": 10,
     "metadata": {},
     "output_type": "execute_result"
    }
   ],
   "source": [
    "sm.Eq(u,sm.Sum(beta**t*(ct**(1-theta)-1)/(1-theta),(t,1,3)))"
   ]
  },
  {
   "cell_type": "markdown",
   "metadata": {},
   "source": [
    "*** Value of capital leftover capital ***"
   ]
  },
  {
   "cell_type": "code",
   "execution_count": 11,
   "metadata": {},
   "outputs": [
    {
     "data": {
      "image/png": "[encoded data removed]",
      "text/latex": [
       "$$\\frac{K_{t}}{r + 1}$$"
      ],
      "text/plain": [
       "K_{t}\n",
       "─────\n",
       "r + 1"
      ]
     },
     "execution_count": 11,
     "metadata": {},
     "output_type": "execute_result"
    }
   ],
   "source": [
    "k/(1+r)"
   ]
  },
  {
   "cell_type": "code",
   "execution_count": 12,
   "metadata": {},
   "outputs": [
    {
     "data": {
      "image/png": "[encoded data removed]",
      "text/latex": [
       "$$Y_{t} = A_{t} K_{t}^{\\alpha} \\left(L_{t} \\left(- s_{Rt} + 1\\right)\\right)^{- \\alpha + 1}$$"
      ],
      "text/plain": [
       "                   α                    -α + 1\n",
       "Y_{t} = A_{t}⋅K_{t} ⋅(L_{t}⋅(-s_Rt + 1))      "
      ]
     },
     "execution_count": 12,
     "metadata": {},
     "output_type": "execute_result"
    }
   ],
   "source": [
    "sm.Eq(y,a*k**alpha*(l*(1-sr))**(1-alpha))"
   ]
  },
  {
   "cell_type": "code",
   "execution_count": 13,
   "metadata": {},
   "outputs": [],
   "source": [
    "mpl = sm.Derivative(a*k**alpha*(l*(1-sr))**(1-alpha),k)"
   ]
  },
  {
   "cell_type": "code",
   "execution_count": 14,
   "metadata": {},
   "outputs": [
    {
     "data": {
      "image/png": "[encoded data removed]",
      "text/latex": [
       "$$r = \\frac{\\partial}{\\partial K_{t}} A_{t} K_{t}^{\\alpha} \\left(L_{t} \\left(- s_{Rt} + 1\\right)\\right)^{- \\alpha + 1}$$"
      ],
      "text/plain": [
       "      ∂   ⎛           α                    -α + 1⎞\n",
       "r = ──────⎝A_{t}⋅K_{t} ⋅(L_{t}⋅(-s_Rt + 1))      ⎠\n",
       "    ∂K_{t}                                        "
      ]
     },
     "execution_count": 14,
     "metadata": {},
     "output_type": "execute_result"
    }
   ],
   "source": [
    "sm.Eq(r,mpl)"
   ]
  },
  {
   "cell_type": "code",
   "execution_count": 15,
   "metadata": {},
   "outputs": [
    {
     "data": {
      "image/png": "[encoded data removed]",
      "text/latex": [
       "$$r = \\frac{A_{t} K_{t}^{\\alpha} \\alpha \\left(L_{t} \\left(- s_{Rt} + 1\\right)\\right)^{- \\alpha + 1}}{K_{t}}$$"
      ],
      "text/plain": [
       "               α                      -α + 1\n",
       "    A_{t}⋅K_{t} ⋅α⋅(L_{t}⋅(-s_Rt + 1))      \n",
       "r = ────────────────────────────────────────\n",
       "                     K_{t}                  "
      ]
     },
     "execution_count": 15,
     "metadata": {},
     "output_type": "execute_result"
    }
   ],
   "source": [
    "sm.Eq(r,mpl.doit())"
   ]
  },
  {
   "cell_type": "code",
   "execution_count": 16,
   "metadata": {},
   "outputs": [
    {
     "data": {
      "image/png": "[encoded data removed]",
      "text/latex": [
       "$$A_{t} \\alpha \\left(\\frac{K_{t} \\left(- s_{Rt} + 1\\right)}{L_{t}}\\right)^{\\alpha - 1}$$"
      ],
      "text/plain": [
       "                           α - 1\n",
       "        ⎛K_{t}⋅(-s_Rt + 1)⎞     \n",
       "A_{t}⋅α⋅⎜─────────────────⎟     \n",
       "        ⎝      L_{t}      ⎠     "
      ]
     },
     "execution_count": 16,
     "metadata": {},
     "output_type": "execute_result"
    }
   ],
   "source": [
    "a*alpha*((k/l*(1-sr))**(alpha-1))"
   ]
  },
  {
   "cell_type": "markdown",
   "metadata": {},
   "source": [
    "Betingelser i produktion:"
   ]
  },
  {
   "cell_type": "code",
   "execution_count": 17,
   "metadata": {},
   "outputs": [
    {
     "data": {
      "image/png": "[encoded data removed]",
      "text/latex": [
       "$$C = Y_{t} s_{Kt}$$"
      ],
      "text/plain": [
       "C = Y_{t}⋅s_Kt"
      ]
     },
     "execution_count": 17,
     "metadata": {},
     "output_type": "execute_result"
    }
   ],
   "source": [
    "sm.Eq(c,sk*y)"
   ]
  },
  {
   "cell_type": "markdown",
   "metadata": {},
   "source": [
    "Tidshorisonts betingelser"
   ]
  },
  {
   "cell_type": "code",
   "execution_count": 18,
   "metadata": {},
   "outputs": [
    {
     "data": {
      "image/png": "[encoded data removed]",
      "text/latex": [
       "$$A_{t+1} = A_{t} \\left(\\rho \\left(L_{t} s_{Rt}\\right)^{\\phi} + 1\\right)$$"
      ],
      "text/plain": [
       "                ⎛              φ    ⎞\n",
       "A_{t+1} = A_{t}⋅⎝ρ⋅(L_{t}⋅s_Rt)  + 1⎠"
      ]
     },
     "execution_count": 18,
     "metadata": {},
     "output_type": "execute_result"
    }
   ],
   "source": [
    "sm.Eq(a1,a*(1+rho*(l*sr)**phi))"
   ]
  },
  {
   "cell_type": "code",
   "execution_count": 19,
   "metadata": {},
   "outputs": [
    {
     "data": {
      "image/png": "[encoded data removed]",
      "text/latex": [
       "$$K_{t+1} = K_{t} \\left(- \\delta + 1\\right) + Y_{t} s_{Kt}$$"
      ],
      "text/plain": [
       "K_{t+1} = K_{t}⋅(-δ + 1) + Y_{t}⋅s_Kt"
      ]
     },
     "execution_count": 19,
     "metadata": {},
     "output_type": "execute_result"
    }
   ],
   "source": [
    "sm.Eq(k1,sk*y+(1-delta)*k)"
   ]
  },
  {
   "cell_type": "code",
   "execution_count": 20,
   "metadata": {},
   "outputs": [],
   "source": [
    "sm.init_printing(use_unicode=False)"
   ]
  },
  {
   "cell_type": "code",
   "execution_count": 21,
   "metadata": {},
   "outputs": [],
   "source": [
    "def utility(c,theta):\n",
    "    ''' Utility function for consumption including the limit case for rho->1 '''\n",
    "    if c<0:\n",
    "        raise error\n",
    "    if rho == 1:\n",
    "        return np.log(c)\n",
    "    else:\n",
    "        return (c**(1-theta)-1)/(1-theta)\n",
    "\n",
    "def total_utility(c, beta, theta, k):\n",
    "    '''\n",
    "    Sums utility for c for multiple years\n",
    "    c is an array \n",
    "    '''\n",
    "    t_u = 0\n",
    "    for i,ct in enumerate(c):\n",
    "        t_u += beta**i*utility(ct,theta)\n",
    "    t_u += beta**(len(c))*utility(ct,theta)\n",
    "    return t_u\n",
    "\n",
    "def prod(k,l,alpha,b):\n",
    "    return b*k**alpha*l**(1-alpha)"
   ]
  },
  {
   "cell_type": "code",
   "execution_count": 22,
   "metadata": {},
   "outputs": [],
   "source": [
    "def tot_ut_sk(sk,t, k0, b, beta, alpha, theta, delta, detail=False):\n",
    "    '''\n",
    "    Returns utitlity for  given period \n",
    "    depending on initial amount of kapital, k0,\n",
    "    and a fixed savingsrate, sk, for all periods \n",
    "    '''\n",
    "    k_short = np.empty(t)\n",
    "    c_short = np.empty(t)\n",
    "    y_short = np.empty(t)\n",
    "    k_short[0] = k0\n",
    "    for i in range(t):\n",
    "        y_short[i] = prod(k_short[i],l,alpha,b)\n",
    "        c_short[i]=(1-sk)*y_short[i]\n",
    "        if i+1<t:\n",
    "            k_short[i+1]=sk*y_short[i]+(1-delta)*k_short[i] \n",
    "    if detail:\n",
    "        return k_short,c_short,y_short\n",
    "    else:\n",
    "        return total_utility(c_short,beta,theta,k_short[-1])\n",
    "\n",
    "def opt_sk(t, b, beta, delta, alpha, theta, k0):\n",
    "    '''Finds optimal fixed savings rate, sk, \n",
    "    for maximal total utility '''\n",
    "    obj = lambda sk: -tot_ut_sk(sk,t,k0, b, beta, alpha, theta, delta)\n",
    "    res = optimize.minimize_scalar(obj, alpha, method='bounded',bounds=[0,1])\n",
    "    return res.x"
   ]
  },
  {
   "cell_type": "code",
   "execution_count": 23,
   "metadata": {},
   "outputs": [],
   "source": [
    "theta = 0.5\n",
    "alpha = 1/3\n",
    "delta = 0.05"
   ]
  },
  {
   "cell_type": "code",
   "execution_count": 24,
   "metadata": {},
   "outputs": [],
   "source": [
    "t = 1000\n",
    "b = 10\n",
    "k0 = 10\n",
    "l = 1\n",
    "beta = 0.9"
   ]
  },
  {
   "cell_type": "code",
   "execution_count": 25,
   "metadata": {},
   "outputs": [
    {
     "name": "stdout",
     "output_type": "stream",
     "text": [
      "Optimal sk = 0.2419, with total utility = 84.1670\n"
     ]
    }
   ],
   "source": [
    "obj = lambda sk: -tot_ut_sk(sk,t, k0, b, beta,alpha, theta, delta)\n",
    "sk0 = [0.3]\n",
    "res = optimize.minimize(obj, sk0, method='Nelder-Mead')\n",
    "print(f'Optimal sk = {res.x[0]:.4f}, with total utility = {-res.fun:.4f}')"
   ]
  },
  {
   "cell_type": "code",
   "execution_count": 26,
   "metadata": {},
   "outputs": [
    {
     "name": "stdout",
     "output_type": "stream",
     "text": [
      "Optimal sk = 0.2420, with total utility = 84.1670\n"
     ]
    }
   ],
   "source": [
    "obj = lambda sk: -tot_ut_sk(sk,t, k0, b, beta,alpha, theta, delta)\n",
    "sk0 = [0.3]\n",
    "res = optimize.minimize_scalar(obj, sk0, method='bounded',bounds=[0,1])\n",
    "print(f'Optimal sk = {res.x:.4f}, with total utility = {-res.fun:.4f}')"
   ]
  },
  {
   "cell_type": "code",
   "execution_count": 27,
   "metadata": {},
   "outputs": [],
   "source": [
    "n = 100\n",
    "ks = np.linspace(0.1,200,n)\n",
    "sks = np.zeros(n)\n",
    "for i,k in enumerate(ks):\n",
    "    sks[i] = opt_sk(t, b, beta,delta,alpha,theta,k)"
   ]
  },
  {
   "cell_type": "code",
   "execution_count": 28,
   "metadata": {},
   "outputs": [
    {
     "data": {
      "text/plain": [
       "[<matplotlib.lines.Line2D at 0x1247e7be0>]"
      ]
     },
     "execution_count": 28,
     "metadata": {},
     "output_type": "execute_result"
    },
    {
     "data": {
      "image/png": "[encoded data removed]",
      "text/plain": [
       "<Figure size 432x288 with 1 Axes>"
      ]
     },
     "metadata": {
      "needs_background": "light"
     },
     "output_type": "display_data"
    }
   ],
   "source": [
    "fig = plt.figure()\n",
    "ax = fig.add_subplot(1,1,1)\n",
    "ax.plot(ks,sks)"
   ]
  },
  {
   "cell_type": "markdown",
   "metadata": {},
   "source": [
    "# Hvad hvis forskellige opsparingsrater kan vælges hvert år?"
   ]
  },
  {
   "cell_type": "code",
   "execution_count": 29,
   "metadata": {},
   "outputs": [],
   "source": [
    "def tot_ut_multiple_sks(sks, k0, b, beta, theta, alpha, delta, vector=False):\n",
    "    '''\n",
    "    Finds total utitilty for a set of years with a savingsrate for each year\n",
    "    '''\n",
    "    t = len(sks)\n",
    "    k_short = np.empty(t)\n",
    "    c_short = np.empty(t)\n",
    "    y_short = np.empty(t)\n",
    "    k_short[0] = k0\n",
    "    for i in range(t):\n",
    "        y_short[i] = prod(k_short[i],l,alpha,b)\n",
    "        c_short[i]=(1-sks[i])*y_short[i]\n",
    "        if i+1<t:\n",
    "            k_short[i+1]=sks[i]*y_short[i]+(1-delta)*k_short[i]\n",
    "    if vector==False:\n",
    "        return total_utility(c_short, beta, theta, k_short[-1])\n",
    "    elif vector==True:\n",
    "        return total_utility(c_short, beta, theta, k_short[-1]), y_short, c_short, k_short"
   ]
  },
  {
   "cell_type": "code",
   "execution_count": 30,
   "metadata": {},
   "outputs": [],
   "source": [
    "theta = 0.9\n",
    "alpha = 1/3\n",
    "delta = 0.05\n",
    "beta = 1\n",
    "b = 100\n",
    "k0 = 20\n",
    "l = 1"
   ]
  },
  {
   "cell_type": "code",
   "execution_count": 31,
   "metadata": {},
   "outputs": [
    {
     "data": {
      "image/png": "[encoded data removed]",
      "text/latex": [
       "$$48.55327633429062$$"
      ],
      "text/plain": [
       "48.55327633429062"
      ]
     },
     "execution_count": 31,
     "metadata": {},
     "output_type": "execute_result"
    }
   ],
   "source": [
    "sks = [0.4, 0.3201, 0.2988, 0.9, 0.]\n",
    "tot_ut_multiple_sks(sks, k0, b, beta, theta, alpha,delta)"
   ]
  },
  {
   "cell_type": "code",
   "execution_count": 32,
   "metadata": {},
   "outputs": [
    {
     "name": "stdout",
     "output_type": "stream",
     "text": [
      "Optimal sk\n",
      "[0.6413 0.6466 0.6271 0.6044 0.583  0.5634 0.5458 0.5299 0.5154 0.5023\n",
      " 0.4904 0.4794 0.4693 0.4601 0.4516 0.4437 0.4365 0.4297 0.4234 0.4177\n",
      " 0.4122 0.4072 0.4026 0.3982 0.3941 0.3903 0.3868 0.3835 0.3804 0.3775\n",
      " 0.3747 0.3722 0.3698 0.3676 0.3655 0.3635 0.3617 0.36   0.3584 0.3569\n",
      " 0.3555 0.3541 0.3529 0.3517 0.3506 0.3495 0.3485 0.3476 0.3468 0.346\n",
      " 0.3453 0.3445 0.3439 0.3432 0.3426 0.3421 0.3415 0.341  0.3406 0.3401\n",
      " 0.3397 0.3393 0.3389 0.3386 0.3383 0.338  0.3377 0.3374 0.3372 0.3369\n",
      " 0.3367 0.3365 0.3362 0.3361 0.3359 0.3357 0.3355 0.3354 0.3352 0.3351\n",
      " 0.3349 0.3348 0.3347 0.3346 0.3345 0.3343 0.3342 0.3341 0.334  0.3339\n",
      " 0.3338 0.3337 0.3336 0.3336 0.3334 0.3333 0.3332 0.3332 0.3331 0.333\n",
      " 0.3329 0.3328 0.3327 0.3326 0.3325 0.3324 0.3322 0.3321 0.332  0.3319\n",
      " 0.3318 0.3316 0.3315 0.3313 0.3312 0.331  0.3308 0.3307 0.3305 0.3303\n",
      " 0.33   0.3298 0.3296 0.3294 0.3291 0.3288 0.3285 0.3282 0.3278 0.3274\n",
      " 0.3271 0.3266 0.3262 0.3257 0.3252 0.3247 0.3241 0.3236 0.3229 0.3222\n",
      " 0.3215 0.3207 0.3199 0.319  0.3181 0.3171 0.3161 0.3149 0.3137 0.3124\n",
      " 0.3111 0.3096 0.308  0.3063 0.3046 0.3026 0.3006 0.2984 0.296  0.2934\n",
      " 0.2907 0.2877 0.2846 0.2811 0.2774 0.2735 0.2692 0.2645 0.2595 0.2541\n",
      " 0.2482 0.2417 0.2347 0.2271 0.2187 0.2095 0.1993 0.188  0.1757 0.1619\n",
      " 0.1465 0.1291 0.1094 0.0869 0.0614 0.0319 0.     0.     0.     0.\n",
      " 0.     0.     0.     0.     0.     0.     0.     0.     0.     0.    ]\n",
      "Total utility:\n",
      "2189.2619\n"
     ]
    }
   ],
   "source": [
    "t = 200\n",
    "obj = lambda sks: -tot_ut_multiple_sks(sks, k0, b, beta, theta, alpha, delta)\n",
    "sks0 = np.full(t,0.3)\n",
    "sks0[-1] = 0\n",
    "bounds = np.full((t,2),[0,1])\n",
    "\n",
    "\n",
    "res = optimize.minimize(obj, sks0, method='SLSQP', bounds=bounds)\n",
    "\n",
    "print(f'Optimal sk')\n",
    "np.set_printoptions(precision=4,suppress=True)\n",
    "print(res.x)\n",
    "print('Total utility:')\n",
    "print(f'{-res.fun:.4f}')"
   ]
  },
  {
   "cell_type": "code",
   "execution_count": 33,
   "metadata": {},
   "outputs": [],
   "source": [
    "def optimal_sks(t, b, beta, delta, alpha, theta, k0, first=True):\n",
    "    obj = lambda sks: -tot_ut_multiple_sks(sks, k0, b, beta, theta, alpha, delta)\n",
    "    sks0 = np.full(t,0.3)\n",
    "    sks0[-1] = 0\n",
    "    bounds = np.full((t,2),[0,1])\n",
    "    res = optimize.minimize(obj, sks0, method='SLSQP', bounds=bounds)\n",
    "    if res.success == False:\n",
    "        print('Optimization was sadly not succesfull')\n",
    "    elif first:\n",
    "        return res.x[0]\n",
    "    else:\n",
    "        return res.x"
   ]
  },
  {
   "cell_type": "code",
   "execution_count": 34,
   "metadata": {},
   "outputs": [],
   "source": [
    "theta = 0.9\n",
    "alpha = 1/3\n",
    "delta = 0.05\n",
    "beta = 1\n",
    "b = 2\n",
    "beta = 0.99\n",
    "k0 = 40\n",
    "l = 1\n",
    "t = 100"
   ]
  },
  {
   "cell_type": "code",
   "execution_count": 35,
   "metadata": {},
   "outputs": [
    {
     "data": {
      "image/png": "[encoded data removed]",
      "text/latex": [
       "$$0.23175602272874288$$"
      ],
      "text/plain": [
       "0.23175602272874288"
      ]
     },
     "execution_count": 35,
     "metadata": {},
     "output_type": "execute_result"
    }
   ],
   "source": [
    "opt_sk(t, b, beta, delta, alpha, theta, k0)"
   ]
  },
  {
   "cell_type": "code",
   "execution_count": 36,
   "metadata": {},
   "outputs": [],
   "source": [
    "sks = optimal_sks(t, b, beta, delta, alpha, theta, k0,first=False)"
   ]
  },
  {
   "cell_type": "code",
   "execution_count": 37,
   "metadata": {},
   "outputs": [],
   "source": [
    "total, y, c, k = tot_ut_multiple_sks(sks, k0, b, beta, theta, alpha, delta, vector=True)"
   ]
  },
  {
   "cell_type": "code",
   "execution_count": 38,
   "metadata": {},
   "outputs": [],
   "source": [
    "sks_alt = [alpha for i in list(range(t))]\n",
    "total_alt, y_alt, c_alt, k_alt = tot_ut_multiple_sks(sks_alt, k0, b, beta, theta, alpha, delta, vector=True)"
   ]
  },
  {
   "cell_type": "code",
   "execution_count": 39,
   "metadata": {},
   "outputs": [
    {
     "data": {
      "text/plain": [
       "[<matplotlib.lines.Line2D at 0x124c16f28>]"
      ]
     },
     "execution_count": 39,
     "metadata": {},
     "output_type": "execute_result"
    },
    {
     "data": {
      "image/png": "[encoded data removed]",
      "text/plain": [
       "<Figure size 432x288 with 1 Axes>"
      ]
     },
     "metadata": {
      "needs_background": "light"
     },
     "output_type": "display_data"
    }
   ],
   "source": [
    "fig = plt.figure()\n",
    "ax = fig.add_subplot(1,1,1)\n",
    "ax.plot(list(range(t)),sks)\n",
    "ax.plot(list(range(t)),sks_alt)"
   ]
  },
  {
   "cell_type": "code",
   "execution_count": 40,
   "metadata": {},
   "outputs": [
    {
     "data": {
      "text/plain": [
       "[<matplotlib.lines.Line2D at 0x124f36da0>]"
      ]
     },
     "execution_count": 40,
     "metadata": {},
     "output_type": "execute_result"
    },
    {
     "data": {
      "image/png": "[encoded data removed]",
      "text/plain": [
       "<Figure size 432x288 with 1 Axes>"
      ]
     },
     "metadata": {
      "needs_background": "light"
     },
     "output_type": "display_data"
    }
   ],
   "source": [
    "fig = plt.figure()\n",
    "ax = fig.add_subplot(1,1,1)\n",
    "ax.plot(list(range(t)),k)\n",
    "ax.plot(list(range(t)),k_alt)"
   ]
  },
  {
   "cell_type": "code",
   "execution_count": 41,
   "metadata": {},
   "outputs": [
    {
     "data": {
      "text/plain": [
       "[<matplotlib.lines.Line2D at 0x125004ba8>]"
      ]
     },
     "execution_count": 41,
     "metadata": {},
     "output_type": "execute_result"
    },
    {
     "data": {
      "image/png": "[encoded data removed]",
      "text/plain": [
       "<Figure size 432x288 with 1 Axes>"
      ]
     },
     "metadata": {
      "needs_background": "light"
     },
     "output_type": "display_data"
    }
   ],
   "source": [
    "fig = plt.figure()\n",
    "ax = fig.add_subplot(1,1,1)\n",
    "ax.plot(list(range(t)),c)\n",
    "ax.plot(list(range(t)),c_alt)"
   ]
  },
  {
   "cell_type": "code",
   "execution_count": 42,
   "metadata": {},
   "outputs": [
    {
     "data": {
      "text/plain": [
       "[<matplotlib.lines.Line2D at 0x1250d8860>]"
      ]
     },
     "execution_count": 42,
     "metadata": {},
     "output_type": "execute_result"
    },
    {
     "data": {
      "image/png": "[encoded data removed]",
      "text/plain": [
       "<Figure size 432x288 with 1 Axes>"
      ]
     },
     "metadata": {
      "needs_background": "light"
     },
     "output_type": "display_data"
    }
   ],
   "source": [
    "fig = plt.figure()\n",
    "ax = fig.add_subplot(1,1,1)\n",
    "ax.plot(list(range(t)), [utility(ct,theta)for ct in c])\n",
    "ax.plot(list(range(t)), [utility(ct,theta)for ct in c_alt])"
   ]
  },
  {
   "cell_type": "code",
   "execution_count": 43,
   "metadata": {},
   "outputs": [],
   "source": [
    "ks = np.linspace(0.1,100,100)\n",
    "sks1 = np.empty(100)\n",
    "\n",
    "for i, k in enumerate(ks):\n",
    "    sks1[i] = optimal_sks(t, b, beta, delta, alpha, theta, k)"
   ]
  },
  {
   "cell_type": "code",
   "execution_count": 44,
   "metadata": {},
   "outputs": [
    {
     "data": {
      "text/plain": [
       "[<matplotlib.lines.Line2D at 0x125173a90>]"
      ]
     },
     "execution_count": 44,
     "metadata": {},
     "output_type": "execute_result"
    },
    {
     "data": {
      "image/png": "[encoded data removed]",
      "text/plain": [
       "<Figure size 432x288 with 1 Axes>"
      ]
     },
     "metadata": {
      "needs_background": "light"
     },
     "output_type": "display_data"
    }
   ],
   "source": [
    "fig = plt.figure()\n",
    "ax = fig.add_subplot(1,1,1)\n",
    "ax.plot(ks,sks1)"
   ]
  },
  {
   "cell_type": "code",
   "execution_count": 45,
   "metadata": {},
   "outputs": [],
   "source": [
    "ks = np.linspace(1,600,50)\n",
    "sks1 = np.empty(50)\n",
    "\n",
    "for i, k in enumerate(ks):\n",
    "    sks1[i] = optimal_sks(t, b, beta, delta, alpha, theta, k)"
   ]
  },
  {
   "cell_type": "code",
   "execution_count": 46,
   "metadata": {},
   "outputs": [
    {
     "data": {
      "text/plain": [
       "[<matplotlib.lines.Line2D at 0x125246198>]"
      ]
     },
     "execution_count": 46,
     "metadata": {},
     "output_type": "execute_result"
    },
    {
     "data": {
      "image/png": "[encoded data removed]",
      "text/plain": [
       "<Figure size 432x288 with 1 Axes>"
      ]
     },
     "metadata": {
      "needs_background": "light"
     },
     "output_type": "display_data"
    }
   ],
   "source": [
    "fig = plt.figure()\n",
    "ax = fig.add_subplot(1,1,1)\n",
    "ax.plot(ks,sks1)"
   ]
  },
  {
   "cell_type": "markdown",
   "metadata": {},
   "source": [
    "# Need for speed"
   ]
  },
  {
   "cell_type": "code",
   "execution_count": 47,
   "metadata": {},
   "outputs": [],
   "source": [
    "import time"
   ]
  },
  {
   "cell_type": "code",
   "execution_count": null,
   "metadata": {},
   "outputs": [],
   "source": []
  },
  {
   "cell_type": "markdown",
   "metadata": {},
   "source": [
    "# Makro sammensætning"
   ]
  },
  {
   "cell_type": "code",
   "execution_count": 48,
   "metadata": {},
   "outputs": [],
   "source": [
    "sm.init_printing(use_unicode=True)"
   ]
  },
  {
   "cell_type": "code",
   "execution_count": 49,
   "metadata": {},
   "outputs": [],
   "source": [
    "#valgmuligheder:\n",
    "# andelen af mulig arbejdstid som bruges på forskning:\n",
    "sr = sm.symbols('s_Rt')\n",
    "# I starten antages kapitalopspsparingsraten at være konstant\n",
    "sk = sm.symbols('s_Kt')\n",
    "\n",
    "# Ud fra de valg nogle udfald\n",
    "# Først defineres variable\n",
    "l = sm.symbols('L_{t}')\n",
    "alpha = sm.symbols('alpha')\n",
    "k =sm.symbols('K_{t}')\n",
    "k1 = sm.symbols('K_{t+1}')\n",
    "y = sm.symbols('Y_{t}')\n",
    "c = sm.symbols('C')\n",
    "ct = sm.symbols('C_{t}')\n",
    "a = sm.symbols('A_{t}')\n",
    "a1 = sm.symbols('A_{t+1}')\n",
    "r = sm.symbols('r')\n",
    "\n",
    "#Greek:\n",
    "rho = sm.symbols('rho')\n",
    "beta = sm.symbols('beta')\n",
    "alpha = sm.symbols('alpha')\n",
    "phi = sm.symbols('phi')\n",
    "delta = sm.symbols('delta')\n",
    "lambd = sm.symbols('lambda')\n",
    "theta = sm.symbols('theta')\n",
    "\n",
    "t = sm.symbols('t')\n",
    "\n",
    "# Functions:\n",
    "uc = sm.Function('u')(ct) \n",
    "u = sm.Function('U')(c)"
   ]
  },
  {
   "cell_type": "code",
   "execution_count": 50,
   "metadata": {},
   "outputs": [
    {
     "data": {
      "image/png": "[encoded data removed]",
      "text/latex": [
       "$$Y_{t} = A_{t} K_{t}^{\\alpha} \\left(L_{t} \\left(- s_{Rt} + 1\\right)\\right)^{- \\alpha + 1}$$"
      ],
      "text/plain": [
       "                   α                    -α + 1\n",
       "Y_{t} = A_{t}⋅K_{t} ⋅(L_{t}⋅(-s_Rt + 1))      "
      ]
     },
     "execution_count": 50,
     "metadata": {},
     "output_type": "execute_result"
    }
   ],
   "source": [
    "sm.Eq(y,a*k**alpha*(l*(1-sr))**(1-alpha))"
   ]
  },
  {
   "cell_type": "code",
   "execution_count": 51,
   "metadata": {},
   "outputs": [
    {
     "data": {
      "image/png": "[encoded data removed]",
      "text/latex": [
       "$$K_{t+1} = K_{t} \\left(- \\delta + 1\\right) + Y_{t} s_{Kt}$$"
      ],
      "text/plain": [
       "K_{t+1} = K_{t}⋅(-δ + 1) + Y_{t}⋅s_Kt"
      ]
     },
     "execution_count": 51,
     "metadata": {},
     "output_type": "execute_result"
    }
   ],
   "source": [
    "sm.Eq(k1,sk*y+(1-delta)*k)"
   ]
  },
  {
   "cell_type": "code",
   "execution_count": 52,
   "metadata": {},
   "outputs": [
    {
     "data": {
      "image/png": "[encoded data removed]",
      "text/latex": [
       "$$A_{t+1} = A_{t} + A_{t}^{\\phi} \\rho \\left(L_{t} s_{Rt}\\right)^{\\lambda}$$"
      ],
      "text/plain": [
       "                       φ               λ\n",
       "A_{t+1} = A_{t} + A_{t} ⋅ρ⋅(L_{t}⋅s_Rt) "
      ]
     },
     "execution_count": 52,
     "metadata": {},
     "output_type": "execute_result"
    }
   ],
   "source": [
    "sm.Eq(a1,a+rho*a**phi*(l*sr)**lambd)"
   ]
  },
  {
   "cell_type": "code",
   "execution_count": 61,
   "metadata": {},
   "outputs": [],
   "source": [
    "# parameters:\n",
    "alpha = 1/3\n",
    "delta = 0.05\n",
    "rho = 0.9\n",
    "phi = 0.1\n",
    "lambd = 0.1\n",
    "n=0\n",
    "\n",
    "# fixed parameters\n",
    "sr = 0.05\n",
    "sk = 0.2\n",
    "\n",
    "# starting values:\n",
    "l0 = 100\n",
    "k0 = 1000\n",
    "a0 = 1000"
   ]
  },
  {
   "cell_type": "code",
   "execution_count": 57,
   "metadata": {},
   "outputs": [],
   "source": [
    "# funktiions\n",
    "def prod(a,k,l,sr,alpha):\n",
    "    return k**alpha*(a*(1-sr)*l)**(1-alpha)\n",
    "def capitalakku(a,k,l,sr,sk,alpha,delta):\n",
    "    return prod(a,k,l,sr,alpha)*sk+(1-delta)*k\n",
    "def research(a,sr,l,rho,phi):\n",
    "    return a+rho*a**phi*(l*sr)**lambd"
   ]
  },
  {
   "cell_type": "code",
   "execution_count": 58,
   "metadata": {},
   "outputs": [],
   "source": [
    "def solowwalk(k0,a0, l0, n, sr, sk, alpha, delta, rho, phi, t):\n",
    "    k_path=np.array([k0])\n",
    "    a_path=np.array([a0])\n",
    "    l_path = [(1+n)**i for i in list(range(end))]\n",
    "    \n",
    "    for i in range(1,t):\n",
    "        k_plus = capitalakku(a_path[i-1],k_path[i-1],l_path[i-1],sr,sk,alpha,delta)\n",
    "        a_plus = research(a_path[i-1],sr,l_path[i-1],rho,phi)\n",
    "        \n",
    "        np.append(k_path, k_plus)\n",
    "        np.append(a_path, a_plus)\n",
    "    k_tilde_path = k_path/(a_path*l_path)    \n",
    "    return a_path, k_path, k_tilde_path"
   ]
  },
  {
   "cell_type": "code",
   "execution_count": 59,
   "metadata": {},
   "outputs": [],
   "source": [
    "t=10000"
   ]
  },
  {
   "cell_type": "code",
   "execution_count": null,
   "metadata": {},
   "outputs": [],
   "source": [
    "plot(range(t),np.log(a_path))"
   ]
  },
  {
   "cell_type": "code",
   "execution_count": null,
   "metadata": {},
   "outputs": [],
   "source": [
    "end = 10000\n",
    "ks = np.empty(end)\n",
    "ys = np.empty(end)\n",
    "ls = [(1+n)**i for i in list(range(end))]\n",
    "ks[0] = k0\n",
    "ats = np.zeros(end)\n",
    "ats[0] = a0\n",
    "margin = 1e-3\n",
    "ys[0] = prod(ats[0],ks[0],ls[0],sr,alpha)\n",
    "ks[1]   = capitalakku(ats[0],ks[0],ls[0],sr,sk,alpha,delta)\n",
    "ats[1] = research(ats[0],sr,ls[0],rho,phi)"
   ]
  },
  {
   "cell_type": "code",
   "execution_count": null,
   "metadata": {},
   "outputs": [],
   "source": [
    "\n",
    "t = 1\n",
    "while True:\n",
    "    ys[t] = prod(ats[t],ks[t],ls[t],sr,alpha)\n",
    "    if -margin<ys[t]-ys[t-1]<margin:\n",
    "        k_tilde = ks[t]/(ats[t]*ls[t])\n",
    "        y_tilde = ys[t]/(ats[t]*ls[t])\n",
    "        print(f'Succesful convergens')\n",
    "        print(f'Periode = {t}')\n",
    "        print(f'y_tilde = {y_tilde:.4f}')\n",
    "        print(f'k_tilde = {k_tilde:.4f}')\n",
    "        break\n",
    "    ks[t+1]   = capitalakku(ats[t],ks[t],ls[t],sr,sk,alpha,delta)\n",
    "    ats[t+1] = research(ats[t],sr,ls[t],rho,phi)\n",
    "    t += 1 \n",
    "    if t+1 == end:\n",
    "        print('no convergens')\n",
    "        print(t)\n",
    "        break"
   ]
  },
  {
   "cell_type": "code",
   "execution_count": null,
   "metadata": {},
   "outputs": [],
   "source": [
    "ks_small = ks/ls"
   ]
  },
  {
   "cell_type": "code",
   "execution_count": null,
   "metadata": {},
   "outputs": [],
   "source": [
    "plot(range(t),ks_small[:t])"
   ]
  },
  {
   "cell_type": "markdown",
   "metadata": {},
   "source": [
    "Simulation"
   ]
  },
  {
   "cell_type": "code",
   "execution_count": null,
   "metadata": {},
   "outputs": [],
   "source": [
    "t = 1000\n",
    "ys = np.zeros(t)\n",
    "ks = np.zeros(t)\n",
    "ls = [(1+n)**i for i in list(range(t))]\n",
    "ks[0] = k0\n",
    "ats = np.zeros(t)\n",
    "ats[0] = a0"
   ]
  },
  {
   "cell_type": "code",
   "execution_count": null,
   "metadata": {},
   "outputs": [],
   "source": [
    "for i in list(range(t)):\n",
    "    ys[i] = prod(ats[i],ks[i],ls[i],sr,alpha)\n",
    "    if i+1<t:\n",
    "        ks[i+1]   = capitalakku(ats[i],ks[i],ls[i],sr,sk,alpha,delta)\n",
    "        ats[i+1] = research(ats[i],sr,ls[i],rho,phi)\n",
    "    "
   ]
  },
  {
   "cell_type": "code",
   "execution_count": null,
   "metadata": {},
   "outputs": [],
   "source": [
    "y_small = ys/ls\n",
    "y_tildes = y_small/ats\n",
    "log_ys = np.log(ys)\n",
    "ks_small = ks/ls\n",
    "ks_tilde = ks_small/ats\n",
    "log_ats = np.log(ats)\n",
    "log_ls = np.log(ls)\n",
    "log_ks = np.log(ks)\n",
    "log_ks_small = np.log(ks_small)"
   ]
  },
  {
   "cell_type": "code",
   "execution_count": null,
   "metadata": {},
   "outputs": [],
   "source": [
    "plot(range(t),ks_small)"
   ]
  },
  {
   "cell_type": "code",
   "execution_count": null,
   "metadata": {},
   "outputs": [],
   "source": [
    "plot(range(t),log_ats)\n",
    "plot(range(t),log_ls)\n",
    "plot(range(t),log_ks)\n",
    "plot(range(t),log_ys)"
   ]
  },
  {
   "cell_type": "markdown",
   "metadata": {},
   "source": [
    "# Makro med mikro-valg"
   ]
  },
  {
   "cell_type": "code",
   "execution_count": null,
   "metadata": {},
   "outputs": [],
   "source": [
    "rho = 0.5\n",
    "alpha = 1/3\n",
    "delta = 0.05\n",
    "beta = 0.5\n",
    "b = 10\n",
    "l = 1\n",
    "t= 50\n",
    "k0 = 10\n",
    "l = 1\n",
    "beta = 0.9"
   ]
  },
  {
   "cell_type": "code",
   "execution_count": null,
   "metadata": {},
   "outputs": [],
   "source": [
    "opt_sk(t, b, beta,delta,alpha,rho,k0)"
   ]
  },
  {
   "cell_type": "code",
   "execution_count": null,
   "metadata": {},
   "outputs": [],
   "source": [
    "t_store = 25\n",
    "c = np.empty(t_store)\n",
    "k = np.empty(t_store)\n",
    "k[0] = 1\n",
    "y = np.empty(t_store)\n",
    "sks = np.empty(t_store)"
   ]
  },
  {
   "cell_type": "code",
   "execution_count": null,
   "metadata": {},
   "outputs": [],
   "source": [
    "for i in range(t_store):\n",
    "    k0 = k[i]\n",
    "    sks[i] = opt_sk(t,b, beta,delta,alpha,rho,k0)\n",
    "    if i+1<t_store:\n",
    "        k[i+1] = sks[i]*prod(k[i],l,alpha,b)-delta*k[i]"
   ]
  },
  {
   "cell_type": "code",
   "execution_count": null,
   "metadata": {},
   "outputs": [],
   "source": [
    "fig = plt.figure()\n",
    "ax = fig.add_subplot(1,1,1)\n",
    "ax.plot(range(t_store),sks)"
   ]
  },
  {
   "cell_type": "code",
   "execution_count": null,
   "metadata": {},
   "outputs": [],
   "source": [
    "fig = plt.figure()\n",
    "ax = fig.add_subplot(1,1,1)\n",
    "ax.plot(range(t_store),k)"
   ]
  },
  {
   "cell_type": "code",
   "execution_count": null,
   "metadata": {},
   "outputs": [],
   "source": [
    "def capakku(k1,l,sk,delta,alpha,b):\n",
    "    return sk*prod(k1,l,alpha,b)-delta*k1"
   ]
  },
  {
   "cell_type": "code",
   "execution_count": null,
   "metadata": {},
   "outputs": [],
   "source": [
    "t=10\n",
    "alpha = 1/3\n",
    "delta = 0.05\n",
    "sk_fix = 1/3\n",
    "n= 0.01"
   ]
  },
  {
   "cell_type": "code",
   "execution_count": null,
   "metadata": {},
   "outputs": [],
   "source": [
    "ks = np.empty(t)\n",
    "ys = np.empty(t)\n",
    "l = 1\n",
    "ks[0]= 5.6"
   ]
  },
  {
   "cell_type": "code",
   "execution_count": null,
   "metadata": {},
   "outputs": [],
   "source": [
    "for i in range(t):\n",
    "    ys[i]=prod(ks[i],l,alpha,b)\n",
    "    if i+1<t:\n",
    "        ks[i+1] = capakku(ks[i],l,sk_fix,delta,alpha,b)"
   ]
  },
  {
   "cell_type": "code",
   "execution_count": null,
   "metadata": {},
   "outputs": [],
   "source": [
    "fig = plt.figure()\n",
    "ax = fig.add_subplot(1,1,1)\n",
    "ax.plot(range(t),ys)"
   ]
  }
 ],
 "metadata": {
  "kernelspec": {
   "display_name": "Python 3",
   "language": "python",
   "name": "python3"
  },
  "language_info": {
   "codemirror_mode": {
    "name": "ipython",
    "version": 3
   },
   "file_extension": ".py",
   "mimetype": "text/x-python",
   "name": "python",
   "nbconvert_exporter": "python",
   "pygments_lexer": "ipython3",
   "version": "3.7.1"
  }
 },
 "nbformat": 4,
 "nbformat_minor": 2
}
