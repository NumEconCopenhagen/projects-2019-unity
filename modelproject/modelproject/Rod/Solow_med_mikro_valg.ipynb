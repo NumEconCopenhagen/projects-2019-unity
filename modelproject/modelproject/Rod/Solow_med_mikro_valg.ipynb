{
 "cells": [
  {
   "cell_type": "code",
   "execution_count": 1,
   "metadata": {},
   "outputs": [],
   "source": [
    "import matplotlib.pyplot as plt\n",
    "from scipy import optimize\n",
    "import numpy as np\n",
    "import sympy as sm\n",
    "import func"
   ]
  },
  {
   "cell_type": "code",
   "execution_count": 2,
   "metadata": {},
   "outputs": [],
   "source": [
    "# Parameters\n",
    "#Micro:\n",
    "theta = 0.9\n",
    "beta = 0.99\n",
    "#Macro:\n",
    "alpha = 1/3\n",
    "delta = 0.05\n",
    "n = 0.01\n",
    "\n",
    "# produktion:\n",
    "b = 1\n",
    "k0 = 5\n",
    "l0 = 1"
   ]
  },
  {
   "cell_type": "code",
   "execution_count": 3,
   "metadata": {},
   "outputs": [],
   "source": [
    "t = 40\n",
    "weight = np.array([beta**i for i in range(t)])"
   ]
  },
  {
   "cell_type": "code",
   "execution_count": 4,
   "metadata": {},
   "outputs": [],
   "source": [
    "times = 50\n",
    "ks = np.linspace(0.1,100,times)\n",
    "sks = np.empty(times)\n",
    "for i,k in enumerate(ks):\n",
    "    sks[i] = func.optimal_sks(t, b, l0, n, weight, delta, alpha, theta, k)\n",
    "    "
   ]
  },
  {
   "cell_type": "code",
   "execution_count": 5,
   "metadata": {},
   "outputs": [
    {
     "data": {
      "image/png": "[encoded data removed]",
      "text/plain": [
       "<Figure size 432x288 with 1 Axes>"
      ]
     },
     "metadata": {
      "needs_background": "light"
     },
     "output_type": "display_data"
    }
   ],
   "source": [
    "func.plot(ks,sks)"
   ]
  },
  {
   "cell_type": "markdown",
   "metadata": {},
   "source": [
    "# Solowwalk"
   ]
  },
  {
   "cell_type": "markdown",
   "metadata": {},
   "source": [
    "With fixed savings rate"
   ]
  },
  {
   "cell_type": "code",
   "execution_count": 6,
   "metadata": {},
   "outputs": [],
   "source": [
    "def capitalakku(b,k,l,sk,alpha,delta):\n",
    "    return func.prod(k,l,alpha,b)*sk+(1-delta)*k\n",
    "def prod(k,l,alpha,b):\n",
    "    return (k**alpha)*((b*l)**(1-alpha))"
   ]
  },
  {
   "cell_type": "code",
   "execution_count": 7,
   "metadata": {},
   "outputs": [],
   "source": [
    "def solowwalk(k0, b, l0, n, sk, alpha, delta, theta,t_big):\n",
    "    k_path = np.array([k0])\n",
    "    l_path = np.array([l0*(1+n)**i for i in list(range(t_big))])\n",
    "    y_path = np.array([prod(k_path[0],l_path[0],alpha,b)])\n",
    "    \n",
    "    for i in range(1,t_big):\n",
    "        k_plus = capitalakku(b,k_path[i-1],l_path[i-1],sk,alpha,delta)\n",
    "        y_plus = func.prod(k_plus,l_path[i-1],alpha,b)\n",
    "        \n",
    "        k_path = np.append(k_path, k_plus)\n",
    "        y_path = np.append(y_path, y_plus)\n",
    "        \n",
    "    k_pr_path = k_path/l_path   \n",
    "    y_pr_path = y_path/l_path                      \n",
    "    return y_path, k_path, k_pr_path, y_pr_path"
   ]
  },
  {
   "cell_type": "code",
   "execution_count": 8,
   "metadata": {},
   "outputs": [],
   "source": [
    "t_big = 150\n",
    "sk = alpha"
   ]
  },
  {
   "cell_type": "code",
   "execution_count": 9,
   "metadata": {},
   "outputs": [
    {
     "data": {
      "text/plain": [
       "13.071844455355642"
      ]
     },
     "execution_count": 9,
     "metadata": {},
     "output_type": "execute_result"
    }
   ],
   "source": [
    "y_path, k_path, k_pr_path, y_pr_path = solowwalk(k0, b, l0, n, sk, alpha, delta, theta,t_big)\n",
    "k_pr_path[-1]"
   ]
  },
  {
   "cell_type": "code",
   "execution_count": 10,
   "metadata": {},
   "outputs": [],
   "source": [
    "steady_state = ((b*sk)/(n+delta))**(1/(1-alpha))\n",
    "steady_states = np.full(t_big,steady_state)"
   ]
  },
  {
   "cell_type": "code",
   "execution_count": 11,
   "metadata": {},
   "outputs": [
    {
     "data": {
      "image/png": "[encoded data removed]",
      "text/plain": [
       "<Figure size 432x288 with 1 Axes>"
      ]
     },
     "metadata": {
      "needs_background": "light"
     },
     "output_type": "display_data"
    }
   ],
   "source": [
    "func.plot2(range(t_big),k_pr_path,steady_states)"
   ]
  },
  {
   "cell_type": "markdown",
   "metadata": {},
   "source": [
    "**Finding steady state for given savings rate:**"
   ]
  },
  {
   "cell_type": "markdown",
   "metadata": {},
   "source": [
    "\\\\[\n",
    "Y=B \\cdot K^{\\alpha} \\cdot L^{1-\\alpha} \\Leftrightarrow y=B k^{\\alpha}\n",
    "\\\\]\n",
    "\\\\[\n",
    "K_{t+1}=s_{Kt} \\cdot Y_{t} + \\left(1-\\delta\\right)K_{t}\n",
    "\\\\]\n",
    "\\\\[\n",
    "k_{t+1}=\\frac{1}{1+n} \\left(s_{Kt} B k^{\\alpha} + \\left(1-\\delta\\right)k_{t}\\right)\n",
    "\\\\]\n",
    "Steady state implies:\n",
    "\\\\[\n",
    "k_{t+1}=k_{t}\n",
    "\\\\]\n",
    "Inserting gives:\n",
    "\\\\[\n",
    "k_{t}=\\frac{1}{1+n} \\left(s_{Kt} B k^{\\alpha} + \\left(1-\\delta\\right)k_{t}\\right)\n",
    "\\\\]\n",
    "\\\\[\n",
    "1=\\frac{1}{1+n} \\left(s_{Kt} B k^{\\alpha -1} + \\left(1-\\delta\\right)\\right)\n",
    "\\\\]\n",
    "\\\\[\n",
    "n+\\delta = s_{Kt} B k^{\\alpha -1}\n",
    "\\\\]"
   ]
  },
  {
   "cell_type": "code",
   "execution_count": 12,
   "metadata": {},
   "outputs": [],
   "source": [
    "sm.init_printing(use_unicode=True)"
   ]
  },
  {
   "cell_type": "code",
   "execution_count": 13,
   "metadata": {},
   "outputs": [],
   "source": [
    "sk = sm.symbols('s_Kt')\n",
    "# Ud fra de valg nogle udfald\n",
    "# Først defineres variable\n",
    "alpha = sm.symbols('alpha')\n",
    "k =sm.symbols('k_{t}')\n",
    "delta = sm.symbols('delta')\n",
    "k_star = sm.symbols('k^{*}')\n",
    "n = sm.symbols('n')\n",
    "b = sm.symbols('B')"
   ]
  },
  {
   "cell_type": "code",
   "execution_count": 14,
   "metadata": {},
   "outputs": [
    {
     "data": {
      "image/png": "[encoded data removed]",
      "text/latex": [
       "$$k_{t} = \\frac{B k_{t}^{\\alpha} s_{Kt} + k_{t} \\left(- \\delta + 1\\right)}{n + 1}$$"
      ],
      "text/plain": [
       "               α                      \n",
       "        B⋅k_{t} ⋅s_Kt + k_{t}⋅(-δ + 1)\n",
       "k_{t} = ──────────────────────────────\n",
       "                    n + 1             "
      ]
     },
     "execution_count": 14,
     "metadata": {},
     "output_type": "execute_result"
    }
   ],
   "source": [
    "sseq = sm.Eq(k,1/(1+n)*(sk*b*k**alpha+(1-delta)*k))\n",
    "sseq"
   ]
  },
  {
   "cell_type": "code",
   "execution_count": 15,
   "metadata": {},
   "outputs": [],
   "source": [
    "ss_sk = sm.solve(sseq,sk)[0]\n",
    "ss_k = sm.solve(sseq,k)[0]"
   ]
  },
  {
   "cell_type": "code",
   "execution_count": 16,
   "metadata": {},
   "outputs": [
    {
     "data": {
      "image/png": "[encoded data removed]",
      "text/latex": [
       "$$s_{Kt} = \\frac{k_{t}^{- \\alpha + 1} \\left(\\delta + n\\right)}{B}$$"
      ],
      "text/plain": [
       "            -α + 1        \n",
       "       k_{t}      ⋅(δ + n)\n",
       "s_Kt = ───────────────────\n",
       "                B         "
      ]
     },
     "execution_count": 16,
     "metadata": {},
     "output_type": "execute_result"
    }
   ],
   "source": [
    "sm.Eq(sk,ss_sk)"
   ]
  },
  {
   "cell_type": "code",
   "execution_count": 17,
   "metadata": {},
   "outputs": [
    {
     "data": {
      "image/png": "[encoded data removed]",
      "text/latex": [
       "$$k^{*} = \\left(\\frac{B s_{Kt}}{\\delta + n}\\right)^{- \\frac{1}{\\alpha - 1}}$$"
      ],
      "text/plain": [
       "                  -1  \n",
       "                 ─────\n",
       "                 α - 1\n",
       "         ⎛B⋅s_Kt⎞     \n",
       "k__{*} = ⎜──────⎟     \n",
       "         ⎝δ + n ⎠     "
      ]
     },
     "execution_count": 17,
     "metadata": {},
     "output_type": "execute_result"
    }
   ],
   "source": [
    "sm.Eq(k_star,ss_k)"
   ]
  },
  {
   "cell_type": "code",
   "execution_count": 18,
   "metadata": {},
   "outputs": [],
   "source": [
    "find_ssk_sk = sm.lambdify((k,b,delta,n,alpha),ss_sk)\n",
    "find_ssk_k = sm.lambdify((sk,b,delta,n,alpha),ss_k)"
   ]
  },
  {
   "cell_type": "code",
   "execution_count": 19,
   "metadata": {},
   "outputs": [],
   "source": [
    "sm.init_printing(use_unicode=False)"
   ]
  },
  {
   "cell_type": "code",
   "execution_count": 26,
   "metadata": {},
   "outputs": [],
   "source": [
    "# Parameters\n",
    "#Micro:\n",
    "theta = 0.9\n",
    "beta = 0.99\n",
    "rho = 0.5\n",
    "#Macro:\n",
    "alpha = 1/3\n",
    "delta = 0.05\n",
    "n = 0.01\n",
    "\n",
    "# produktion:\n",
    "b = 1\n",
    "k0 = 5\n",
    "l0 = 1"
   ]
  },
  {
   "cell_type": "code",
   "execution_count": 28,
   "metadata": {},
   "outputs": [],
   "source": [
    "t = 40\n",
    "weight = np.array([beta**i for i in range(t)])"
   ]
  },
  {
   "cell_type": "code",
   "execution_count": 30,
   "metadata": {},
   "outputs": [
    {
     "data": {
      "image/png": "[encoded data removed]",
      "text/latex": [
       "$$0.2784953300167668$$"
      ],
      "text/plain": [
       "0.2784953300167668"
      ]
     },
     "execution_count": 30,
     "metadata": {},
     "output_type": "execute_result"
    }
   ],
   "source": [
    "find_ssk_sk(10,b,delta,n,alpha)"
   ]
  },
  {
   "cell_type": "code",
   "execution_count": 32,
   "metadata": {},
   "outputs": [
    {
     "data": {
      "image/png": "[encoded data removed]",
      "text/latex": [
       "$$9.999999999999998$$"
      ],
      "text/plain": [
       "9.999999999999998"
      ]
     },
     "execution_count": 32,
     "metadata": {},
     "output_type": "execute_result"
    }
   ],
   "source": [
    "find_ssk_k(0.2784953300167668,b,delta,n,alpha)"
   ]
  },
  {
   "cell_type": "code",
   "execution_count": 34,
   "metadata": {},
   "outputs": [],
   "source": [
    "times = 30\n",
    "ks = np.linspace(0.1,30,times)\n",
    "sks = np.empty(times)\n",
    "for i,k in enumerate(ks):\n",
    "    sks[i] = func.optimal_sks(t, b, 1, n, weight, delta, alpha, theta, k)"
   ]
  },
  {
   "cell_type": "code",
   "execution_count": 36,
   "metadata": {},
   "outputs": [],
   "source": [
    "sksopt = find_ssk_sk(ks,b,delta,n,alpha)"
   ]
  },
  {
   "cell_type": "code",
   "execution_count": 37,
   "metadata": {},
   "outputs": [
    {
     "data": {
      "image/png": "[encoded data removed]",
      "text/plain": [
       "<Figure size 432x288 with 1 Axes>"
      ]
     },
     "metadata": {
      "needs_background": "light"
     },
     "output_type": "display_data"
    }
   ],
   "source": [
    "func.plot2(ks,sks,sksopt)"
   ]
  },
  {
   "cell_type": "code",
   "execution_count": 43,
   "metadata": {},
   "outputs": [],
   "source": [
    "def find_ss(t, b, n, beta, delta, alpha, theta,bracket):\n",
    "    weight = np.array([beta**i for i in range(t)])\n",
    "    obj = lambda k_star: find_ssk_sk(k_star,b,delta,n,alpha)-func.optimal_sks(t, b, 1, n, weight, delta, alpha, theta, k_star)\n",
    "    res = optimize.root_scalar(obj,method='brentq',bracket=bracket)\n",
    "    if res.converged:\n",
    "        k_star = res.root\n",
    "        sk_star = find_ssk_sk(k_star,b,delta,n,alpha)\n",
    "        return k_star,sk_star\n",
    "    else:\n",
    "        print('Convergence failed')\n",
    "    "
   ]
  },
  {
   "cell_type": "code",
   "execution_count": 40,
   "metadata": {},
   "outputs": [],
   "source": [
    "bracket =[0,100]"
   ]
  },
  {
   "cell_type": "code",
   "execution_count": 44,
   "metadata": {},
   "outputs": [
    {
     "data": {
      "image/png": "[encoded data removed]",
      "text/latex": [
       "$$\\left ( 10.347421706485845, \\quad 0.2849089002765781\\right )$$"
      ],
      "text/plain": [
       "(10.347421706485845, 0.2849089002765781)"
      ]
     },
     "execution_count": 44,
     "metadata": {},
     "output_type": "execute_result"
    }
   ],
   "source": [
    "find_ss(100, b, n, beta, delta, alpha, theta, bracket)"
   ]
  },
  {
   "cell_type": "markdown",
   "metadata": {},
   "source": [
    "**With changing savings rate**"
   ]
  },
  {
   "cell_type": "code",
   "execution_count": 57,
   "metadata": {},
   "outputs": [],
   "source": [
    "def mod_solowwalk(k0, b, l0, n, alpha, delta, rho, beta, theta, t, t_big):\n",
    "    weight = np.array([beta**i for i in range(t)])\n",
    "    k_path = np.array([k0])\n",
    "    l_path = np.array([l0*(1+n)**i for i in list(range(t_big))])\n",
    "    y_path = np.array([func.prod(k_path[0],l_path[0],alpha,b)])\n",
    "    \n",
    "    sk_path = np.array([func.optimal_sks(\n",
    "        t, b, l_path[0], n, weight, delta, alpha, theta, k_path[0])])\n",
    "    \n",
    "    for i in range(1,t_big):\n",
    "        k_plus = capitalakku(b,k_path[i-1],l_path[i-1],sk_path[i-1],alpha,delta)\n",
    "        y_plus = func.prod(k_plus,l_path[i-1],alpha,b)\n",
    "        sk_plus = np.array([func.optimal_sks(t, b, l_path[i], n, weight, delta, alpha, theta, k_plus)])\n",
    "        \n",
    "        k_path = np.append(k_path, k_plus)\n",
    "        y_path = np.append(y_path, y_plus)\n",
    "        sk_path = np.append(sk_path,sk_plus)\n",
    "        \n",
    "    k_pr_path = k_path/l_path   \n",
    "    y_pr_path = y_path/l_path                      \n",
    "    return y_path, k_path, k_pr_path, y_pr_path, sk_path"
   ]
  },
  {
   "cell_type": "code",
   "execution_count": 58,
   "metadata": {},
   "outputs": [],
   "source": [
    "t_big = 150"
   ]
  },
  {
   "cell_type": "code",
   "execution_count": 60,
   "metadata": {},
   "outputs": [],
   "source": [
    "y_path, k_path, k_pr_path, y_pr_path, sk_path = mod_solowwalk(\n",
    "    k0, b, l0, n, alpha, delta, rho, beta,theta, t, t_big)"
   ]
  },
  {
   "cell_type": "code",
   "execution_count": 62,
   "metadata": {},
   "outputs": [],
   "source": [
    "brakcet = [0,30]"
   ]
  },
  {
   "cell_type": "code",
   "execution_count": 64,
   "metadata": {},
   "outputs": [],
   "source": [
    "k_star,sk_star = find_ss(t, b, n, beta, delta, alpha, theta, bracket)"
   ]
  },
  {
   "cell_type": "code",
   "execution_count": 66,
   "metadata": {},
   "outputs": [
    {
     "data": {
      "image/png": "[encoded data removed]",
      "text/plain": [
       "<Figure size 432x288 with 1 Axes>"
      ]
     },
     "metadata": {
      "needs_background": "light"
     },
     "output_type": "display_data"
    },
    {
     "data": {
      "image/png": "[encoded data removed]",
      "text/plain": [
       "<Figure size 432x288 with 1 Axes>"
      ]
     },
     "metadata": {
      "needs_background": "light"
     },
     "output_type": "display_data"
    },
    {
     "data": {
      "image/png": "[encoded data removed]",
      "text/plain": [
       "<Figure size 432x288 with 1 Axes>"
      ]
     },
     "metadata": {
      "needs_background": "light"
     },
     "output_type": "display_data"
    }
   ],
   "source": [
    "func.plot2(range(t_big),k_pr_path,np.full(t_big,k_star))\n",
    "func.plot2(range(t_big), sk_path,np.full(t_big,sk_star))\n",
    "func.plot(range(t_big), k_path)"
   ]
  },
  {
   "cell_type": "code",
   "execution_count": 68,
   "metadata": {},
   "outputs": [
    {
     "data": {
      "image/png": "[encoded data removed]",
      "text/latex": [
       "$$0.27592770755477897$$"
      ],
      "text/plain": [
       "0.27592770755477897"
      ]
     },
     "execution_count": 68,
     "metadata": {},
     "output_type": "execute_result"
    }
   ],
   "source": [
    "# capital savingsrate in ss.\n",
    "sk_path[-1]"
   ]
  },
  {
   "cell_type": "code",
   "execution_count": 70,
   "metadata": {},
   "outputs": [
    {
     "data": {
      "image/png": "[encoded data removed]",
      "text/latex": [
       "$$9.862002384858691$$"
      ],
      "text/plain": [
       "9.862002384858691"
      ]
     },
     "execution_count": 70,
     "metadata": {},
     "output_type": "execute_result"
    }
   ],
   "source": [
    "# Capital pr. worker in ss.\n",
    "k_pr_path[-1]"
   ]
  },
  {
   "cell_type": "markdown",
   "metadata": {},
   "source": [
    "# R&D with fixed sr but adjustable sk"
   ]
  },
  {
   "cell_type": "markdown",
   "metadata": {},
   "source": [
    "**Needs new micro fundation that understands growth in tech**"
   ]
  },
  {
   "cell_type": "code",
   "execution_count": 71,
   "metadata": {},
   "outputs": [],
   "source": [
    "def capitalakku_a(a,k,l,sk,sr,alpha,delta):\n",
    "    return proda(k,l,alpha,a,sr)*sk+(1-delta)*k\n",
    "\n",
    "def research(a,sr,l,rho,phi):\n",
    "    return a+rho*a**phi*(l*sr)**lambd\n",
    "\n",
    "def proda(k,l,alpha,a,sr):\n",
    "    return (k**alpha)*((a*l)**(1-alpha))\n",
    "\n",
    "def mod_solowwalk(k0,a0, l0, n, sr, alpha, delta, rho, phi, theta, beta, t, t_big):\n",
    "    weight = np.array([beta**i for i in range(t)])\n",
    "    k_path = np.array([k0])\n",
    "    a_path = np.array([a0])\n",
    "    l_path = np.array([l0*(1+n)**i for i in list(range(t_big))])\n",
    "    y_path = np.array([proda(k_path[0],l_path[0],alpha,a_path[0],sr)])\n",
    "    sk_path = np.array([func.optimal_sks(\n",
    "        t, b, l_path[0], n, weight, delta, alpha, theta, k_path[0])])\n",
    "    \n",
    "    for i in range(1,t_big):\n",
    "        k_plus = capitalakku_a(a_path[i-1],k_path[i-1],l_path[i-1],sk_path[i-1],sr,alpha,delta)\n",
    "        a_plus = research(a_path[i-1],sr,l_path[i-1],rho,phi)\n",
    "        y_plus = proda(k_plus,l_path[i],alpha,a_plus,sr)\n",
    "        sk_plus = np.array([func.optimal_sks(t, b, l_path[i], n, weight, delta, alpha, theta, k_plus)])\n",
    "        \n",
    "        k_path = np.append(k_path, k_plus)\n",
    "        a_path = np.append(a_path, a_plus)\n",
    "        y_path = np.append(y_path, y_plus)\n",
    "        sk_path = np.append(sk_path,sk_plus)\n",
    "        \n",
    "    k_tilde_path = k_path/(a_path*l_path)   \n",
    "    y_tilde_path = y_path/(a_path*l_path)                      \n",
    "    return a_path, k_tilde_path, y_tilde_path, sk_path"
   ]
  },
  {
   "cell_type": "code",
   "execution_count": 73,
   "metadata": {},
   "outputs": [],
   "source": [
    "# Parameters\n",
    "#Micro:\n",
    "theta = 0.9\n",
    "beta = 0.99\n",
    "#Macro:\n",
    "alpha = 1/3\n",
    "delta = 0.05\n",
    "n = 0.01\n",
    "rho = 0.01\n",
    "phi = 0.1\n",
    "lambd = 0.1\n",
    "sr = 0.01\n",
    "\n",
    "# produktion:\n",
    "l0 = 10\n",
    "k0 = 150\n",
    "a0 = 10\n",
    "\n",
    "t_big = 300\n",
    "t = 30"
   ]
  },
  {
   "cell_type": "code",
   "execution_count": 75,
   "metadata": {},
   "outputs": [],
   "source": [
    "a_path, k_tilde_path, y_tilde_path, sk_path = mod_solowwalk(k0,a0, l0, n, sr, alpha, delta, rho, phi, theta, beta, t, t_big)"
   ]
  },
  {
   "cell_type": "code",
   "execution_count": 76,
   "metadata": {},
   "outputs": [
    {
     "data": {
      "image/png": "[encoded data removed]",
      "text/plain": [
       "<Figure size 432x288 with 1 Axes>"
      ]
     },
     "metadata": {
      "needs_background": "light"
     },
     "output_type": "display_data"
    },
    {
     "data": {
      "image/png": "[encoded data removed]",
      "text/plain": [
       "<Figure size 432x288 with 1 Axes>"
      ]
     },
     "metadata": {
      "needs_background": "light"
     },
     "output_type": "display_data"
    },
    {
     "data": {
      "image/png": "[encoded data removed]",
      "text/plain": [
       "<Figure size 432x288 with 1 Axes>"
      ]
     },
     "metadata": {
      "needs_background": "light"
     },
     "output_type": "display_data"
    },
    {
     "data": {
      "image/png": "[encoded data removed]",
      "text/plain": [
       "<Figure size 432x288 with 1 Axes>"
      ]
     },
     "metadata": {
      "needs_background": "light"
     },
     "output_type": "display_data"
    }
   ],
   "source": [
    "func.plot(range(t_big),k_tilde_path)\n",
    "func.plot(range(t_big),y_tilde_path)\n",
    "func.plot(range(t_big),sk_path)\n",
    "func.plot(range(t_big),np.log(a_path))"
   ]
  },
  {
   "cell_type": "markdown",
   "metadata": {},
   "source": [
    "# Speed"
   ]
  },
  {
   "cell_type": "code",
   "execution_count": null,
   "metadata": {},
   "outputs": [],
   "source": [
    "import time\n",
    "%load_ext line_profiler"
   ]
  },
  {
   "cell_type": "code",
   "execution_count": null,
   "metadata": {},
   "outputs": [],
   "source": [
    "%timeit mod_solowwalk(k0, b, l0, n, alpha, delta, rho, beta,theta, t, t_big)"
   ]
  },
  {
   "cell_type": "code",
   "execution_count": null,
   "metadata": {},
   "outputs": [],
   "source": [
    "%lprun -f mod_solowwalk mod_solowwalk(k0, b, l0, n, alpha, delta, rho, beta,theta, t, t_big)\n"
   ]
  }
 ],
 "metadata": {
  "kernelspec": {
   "display_name": "Python 3",
   "language": "python",
   "name": "python3"
  },
  "language_info": {
   "codemirror_mode": {
    "name": "ipython",
    "version": 3
   },
   "file_extension": ".py",
   "mimetype": "text/x-python",
   "name": "python",
   "nbconvert_exporter": "python",
   "pygments_lexer": "ipython3",
   "version": "3.7.1"
  }
 },
 "nbformat": 4,
 "nbformat_minor": 2
}
