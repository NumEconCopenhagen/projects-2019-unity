{
 "cells": [
  {
   "cell_type": "code",
   "execution_count": 1,
   "metadata": {},
   "outputs": [],
   "source": [
    "import matplotlib.pyplot as plt\n",
    "from scipy import optimize\n",
    "import numpy as np\n",
    "import sympy as sm\n",
    "import func"
   ]
  },
  {
   "cell_type": "code",
   "execution_count": 270,
   "metadata": {},
   "outputs": [],
   "source": [
    "# Parameters\n",
    "#Micro:\n",
    "theta = 0.9\n",
    "beta = 0.99\n",
    "rho = 0.5\n",
    "#Macro:\n",
    "alpha = 1/3\n",
    "delta = 0.05\n",
    "n = 0.01\n",
    "\n",
    "# produktion:\n",
    "b = 1\n",
    "k0 = 10\n",
    "l0 = 1"
   ]
  },
  {
   "cell_type": "code",
   "execution_count": 191,
   "metadata": {},
   "outputs": [],
   "source": [
    "t = 40"
   ]
  },
  {
   "cell_type": "code",
   "execution_count": 196,
   "metadata": {},
   "outputs": [],
   "source": [
    "times = 20\n",
    "ks = np.linspace(0.1,100,times)\n",
    "sks = np.empty(times)\n",
    "for i,k in enumerate(ks):\n",
    "    sks[i] = func.optimal_sks(t, b, l0, n, beta, delta, alpha, theta, k)\n",
    "    "
   ]
  },
  {
   "cell_type": "code",
   "execution_count": 197,
   "metadata": {},
   "outputs": [
    {
     "data": {
      "image/png": "[encoded data removed]",
      "text/plain": [
       "<Figure size 432x288 with 1 Axes>"
      ]
     },
     "metadata": {
      "needs_background": "light"
     },
     "output_type": "display_data"
    }
   ],
   "source": [
    "func.plot(ks,sks)"
   ]
  },
  {
   "cell_type": "markdown",
   "metadata": {},
   "source": [
    "# Solowwalk"
   ]
  },
  {
   "cell_type": "markdown",
   "metadata": {},
   "source": [
    "With fixed savings rate"
   ]
  },
  {
   "cell_type": "code",
   "execution_count": 38,
   "metadata": {},
   "outputs": [],
   "source": [
    "def capitalakku(b,k,l,sk,alpha,delta):\n",
    "    return func.prod(k,l,alpha,b)*sk+(1-delta)*k"
   ]
  },
  {
   "cell_type": "code",
   "execution_count": 61,
   "metadata": {},
   "outputs": [],
   "source": [
    "def solowwalk(k0, b, l0, n, sk, alpha, delta, theta,t_big):\n",
    "    k_path = np.array([k0])\n",
    "    l_path = np.array([l0*(1+n)**i for i in list(range(t_big))])\n",
    "    y_path = np.array([func.prod(k_path[0],l_path[0],alpha,b)])\n",
    "    \n",
    "    for i in range(1,t_big):\n",
    "        k_plus = capitalakku(b,k_path[i-1],l_path[i-1],sk,alpha,delta)\n",
    "        y_plus = func.prod(k_plus,l_path[i-1],alpha,b)\n",
    "        \n",
    "        k_path = np.append(k_path, k_plus)\n",
    "        y_path = np.append(y_path, y_plus)\n",
    "        \n",
    "    k_pr_path = k_path/l_path   \n",
    "    y_pr_path = y_path/l_path                      \n",
    "    return y_path, k_path, k_pr_path, y_pr_path"
   ]
  },
  {
   "cell_type": "code",
   "execution_count": 306,
   "metadata": {},
   "outputs": [],
   "source": [
    "t_big = 150\n",
    "sk = alpha"
   ]
  },
  {
   "cell_type": "code",
   "execution_count": 312,
   "metadata": {},
   "outputs": [
    {
     "data": {
      "image/png": "[encoded data removed]",
      "text/latex": [
       "$$13.086713164710863$$"
      ],
      "text/plain": [
       "13.086713164710863"
      ]
     },
     "execution_count": 312,
     "metadata": {},
     "output_type": "execute_result"
    }
   ],
   "source": [
    "y_path, k_path, k_pr_path, y_pr_path = solowwalk(k0, b, l0, n, sk, alpha, delta, theta,t_big)\n",
    "k_pr_path[-1]"
   ]
  },
  {
   "cell_type": "code",
   "execution_count": 311,
   "metadata": {},
   "outputs": [
    {
     "data": {
      "image/png": "[encoded data removed]",
      "text/plain": [
       "<Figure size 432x288 with 1 Axes>"
      ]
     },
     "metadata": {
      "needs_background": "light"
     },
     "output_type": "display_data"
    }
   ],
   "source": [
    "func.plot(range(t_big),k_pr_path)"
   ]
  },
  {
   "cell_type": "markdown",
   "metadata": {},
   "source": [
    "**Finding steady state for given savings rate:**"
   ]
  },
  {
   "cell_type": "markdown",
   "metadata": {},
   "source": [
    "\\\\[\n",
    "Y=B \\cdot K^{\\alpha} \\cdot L^{1-\\alpha} \\Leftrightarrow y=B k^{\\alpha}\n",
    "\\\\]\n",
    "\\\\[\n",
    "K_{t+1}=s_{Kt} \\cdot Y_{t} + \\left(1-\\delta\\right)K_{t}\n",
    "\\\\]\n",
    "\\\\[\n",
    "k_{t+1}=\\frac{1}{1+n} \\left(s_{Kt} B k^{\\alpha} + \\left(1-\\delta\\right)k_{t}\\right)\n",
    "\\\\]\n",
    "Steady state implies:\n",
    "\\\\[\n",
    "k_{t+1}=k_{t}\n",
    "\\\\]\n",
    "Inserting gives:\n",
    "\\\\[\n",
    "k_{t}=\\frac{1}{1+n} \\left(s_{Kt} B k^{\\alpha} + \\left(1-\\delta\\right)k_{t}\\right)\n",
    "\\\\]\n",
    "\\\\[\n",
    "1=\\frac{1}{1+n} \\left(s_{Kt} B k^{\\alpha -1} + \\left(1-\\delta\\right)\\right)\n",
    "\\\\]\n",
    "\\\\[\n",
    "n+\\delta = s_{Kt} B k^{\\alpha -1}\n",
    "\\\\]"
   ]
  },
  {
   "cell_type": "code",
   "execution_count": 341,
   "metadata": {},
   "outputs": [],
   "source": [
    "sm.init_printing(use_unicode=True)"
   ]
  },
  {
   "cell_type": "code",
   "execution_count": 344,
   "metadata": {},
   "outputs": [],
   "source": [
    "sk = sm.symbols('s_Kt')\n",
    "# Ud fra de valg nogle udfald\n",
    "# Først defineres variable\n",
    "alpha = sm.symbols('alpha')\n",
    "k =sm.symbols('k_{t}')\n",
    "delta = sm.symbols('delta')\n",
    "k_star = sm.symbols('k^{*}')\n",
    "n = sm.symbols('n')\n",
    "b = sm.symbols('B')"
   ]
  },
  {
   "cell_type": "code",
   "execution_count": 346,
   "metadata": {},
   "outputs": [
    {
     "data": {
      "image/png": "[encoded data removed]",
      "text/latex": [
       "$$k_{t} = \\frac{B k_{t}^{\\alpha} s_{Kt} + k_{t} \\left(- \\delta + 1\\right)}{n + 1}$$"
      ],
      "text/plain": [
       "               α                      \n",
       "        B⋅k_{t} ⋅s_Kt + k_{t}⋅(-δ + 1)\n",
       "k_{t} = ──────────────────────────────\n",
       "                    n + 1             "
      ]
     },
     "execution_count": 346,
     "metadata": {},
     "output_type": "execute_result"
    }
   ],
   "source": [
    "sseq = sm.Eq(k,1/(1+n)*(sk*b*k**alpha+(1-delta)*k))\n",
    "sseq"
   ]
  },
  {
   "cell_type": "code",
   "execution_count": 349,
   "metadata": {},
   "outputs": [
    {
     "data": {
      "image/png": "[encoded data removed]",
      "text/latex": [
       "$$\\frac{k_{t}^{- \\alpha + 1} \\left(\\delta + n\\right)}{B}$$"
      ],
      "text/plain": [
       "     -α + 1        \n",
       "k_{t}      ⋅(δ + n)\n",
       "───────────────────\n",
       "         B         "
      ]
     },
     "execution_count": 349,
     "metadata": {},
     "output_type": "execute_result"
    }
   ],
   "source": [
    "ssk = sm.solve(sseq,sk)[0]\n",
    "ssk"
   ]
  },
  {
   "cell_type": "code",
   "execution_count": 351,
   "metadata": {},
   "outputs": [
    {
     "data": {
      "image/png": "[encoded data removed]",
      "text/latex": [
       "$$s_{Kt} = \\frac{k_{t}^{- \\alpha + 1} \\left(\\delta + n\\right)}{B}$$"
      ],
      "text/plain": [
       "            -α + 1        \n",
       "       k_{t}      ⋅(δ + n)\n",
       "s_Kt = ───────────────────\n",
       "                B         "
      ]
     },
     "execution_count": 351,
     "metadata": {},
     "output_type": "execute_result"
    }
   ],
   "source": [
    "sm.Eq(sk,ssk)"
   ]
  },
  {
   "cell_type": "code",
   "execution_count": 353,
   "metadata": {},
   "outputs": [],
   "source": [
    "find_ssk_sk = sm.lambdify((k,b,delta,n,alpha),ssk)"
   ]
  },
  {
   "cell_type": "code",
   "execution_count": 355,
   "metadata": {},
   "outputs": [],
   "source": [
    "sm.init_printing(use_unicode=False)"
   ]
  },
  {
   "cell_type": "code",
   "execution_count": 357,
   "metadata": {},
   "outputs": [],
   "source": [
    "k= 13.094570021973093"
   ]
  },
  {
   "cell_type": "code",
   "execution_count": 360,
   "metadata": {},
   "outputs": [
    {
     "data": {
      "image/png": "[encoded data removed]",
      "text/latex": [
       "$$0.33333333333333326$$"
      ],
      "text/plain": [
       "0.33333333333333326"
      ]
     },
     "execution_count": 360,
     "metadata": {},
     "output_type": "execute_result"
    }
   ],
   "source": [
    "find_ssk_sk(k,b,delta,n,alpha)"
   ]
  },
  {
   "cell_type": "code",
   "execution_count": 407,
   "metadata": {},
   "outputs": [],
   "source": [
    "times = 30\n",
    "ks = np.linspace(0.1,30,times)\n",
    "sks = np.empty(times)\n",
    "for i,k in enumerate(ks):\n",
    "    sks[i] = func.optimal_sks(t, b, l0, n, beta, delta, alpha, theta, k)"
   ]
  },
  {
   "cell_type": "code",
   "execution_count": 409,
   "metadata": {},
   "outputs": [],
   "source": [
    "sksopt = find_ssk_sk(ks,b,delta,n,alpha)"
   ]
  },
  {
   "cell_type": "code",
   "execution_count": 410,
   "metadata": {},
   "outputs": [
    {
     "data": {
      "image/png": "[encoded data removed]",
      "text/plain": [
       "<Figure size 432x288 with 1 Axes>"
      ]
     },
     "metadata": {
      "needs_background": "light"
     },
     "output_type": "display_data"
    }
   ],
   "source": [
    "func.plot2(ks,sks,sksopt)"
   ]
  },
  {
   "cell_type": "markdown",
   "metadata": {},
   "source": [
    "**With changing savings rate**"
   ]
  },
  {
   "cell_type": "code",
   "execution_count": 372,
   "metadata": {},
   "outputs": [],
   "source": [
    "# Parameters\n",
    "#Micro:\n",
    "theta = 0.9\n",
    "beta = 0.99\n",
    "rho = 0.5\n",
    "#Macro:\n",
    "alpha = 1/3\n",
    "delta = 0.05\n",
    "n = 0.01\n",
    "\n",
    "# produktion:\n",
    "b = 1\n",
    "k0 = 10\n",
    "l0 = 1"
   ]
  },
  {
   "cell_type": "code",
   "execution_count": 162,
   "metadata": {},
   "outputs": [],
   "source": [
    "def mod_solowwalk(k0, b, l0, n, alpha, delta, rho, beta,theta, t, t_big):\n",
    "    k_path = np.array([k0])\n",
    "    l_path = np.array([l0*(1+n)**i for i in list(range(t_big))])\n",
    "    y_path = np.array([func.prod(k_path[0],l_path[0],alpha,b)])\n",
    "    \n",
    "    sk_path = np.array([func.optimal_sks(\n",
    "        t, b, l_path[0], n, beta, delta, alpha, theta, k_path[0])])\n",
    "    \n",
    "    for i in range(1,t_big):\n",
    "        k_plus = capitalakku(b,k_path[i-1],l_path[i-1],sk_path[i-1],alpha,delta)\n",
    "        y_plus = func.prod(k_plus,l_path[i-1],alpha,b)\n",
    "        sk_plus = np.array([func.optimal_sks(t, b, l_path[i], n, beta, delta, alpha, theta, k_plus)])\n",
    "        \n",
    "        k_path = np.append(k_path, k_plus)\n",
    "        y_path = np.append(y_path, y_plus)\n",
    "        sk_path = np.append(sk_path,sk_plus)\n",
    "        \n",
    "    k_pr_path = k_path/l_path   \n",
    "    y_pr_path = y_path/l_path                      \n",
    "    return y_path, k_path, k_pr_path, y_pr_path, sk_path"
   ]
  },
  {
   "cell_type": "code",
   "execution_count": 172,
   "metadata": {},
   "outputs": [],
   "source": [
    "t_big = 150"
   ]
  },
  {
   "cell_type": "code",
   "execution_count": 174,
   "metadata": {},
   "outputs": [],
   "source": [
    "y_path, k_path, k_pr_path, y_pr_path, sk_path = mod_solowwalk(\n",
    "    k0, b, l0, n, alpha, delta, rho, beta,theta, t, t_big)"
   ]
  },
  {
   "cell_type": "code",
   "execution_count": 175,
   "metadata": {},
   "outputs": [
    {
     "data": {
      "image/png": "[encoded data removed]",
      "text/plain": [
       "<Figure size 432x288 with 1 Axes>"
      ]
     },
     "metadata": {
      "needs_background": "light"
     },
     "output_type": "display_data"
    },
    {
     "data": {
      "image/png": "[encoded data removed]",
      "text/plain": [
       "<Figure size 432x288 with 1 Axes>"
      ]
     },
     "metadata": {
      "needs_background": "light"
     },
     "output_type": "display_data"
    },
    {
     "data": {
      "image/png": "[encoded data removed]",
      "text/plain": [
       "<Figure size 432x288 with 1 Axes>"
      ]
     },
     "metadata": {
      "needs_background": "light"
     },
     "output_type": "display_data"
    }
   ],
   "source": [
    "func.plot(range(t_big),k_pr_path)\n",
    "func.plot(range(t_big), sk_path)\n",
    "func.plot(range(t_big), k_path)"
   ]
  },
  {
   "cell_type": "code",
   "execution_count": 180,
   "metadata": {},
   "outputs": [
    {
     "data": {
      "text/plain": [
       "0.26239314198017794"
      ]
     },
     "execution_count": 180,
     "metadata": {},
     "output_type": "execute_result"
    }
   ],
   "source": [
    "# capital savingsrate in ss.\n",
    "sk_path[-1]"
   ]
  },
  {
   "cell_type": "code",
   "execution_count": 181,
   "metadata": {},
   "outputs": [
    {
     "data": {
      "text/plain": [
       "9.145336971334572"
      ]
     },
     "execution_count": 181,
     "metadata": {},
     "output_type": "execute_result"
    }
   ],
   "source": [
    "# Capital pr. worker in ss.\n",
    "k_pr_path[-1]"
   ]
  },
  {
   "cell_type": "markdown",
   "metadata": {},
   "source": [
    "# Speed"
   ]
  },
  {
   "cell_type": "code",
   "execution_count": 160,
   "metadata": {},
   "outputs": [],
   "source": [
    "import time\n",
    "%load_ext line_profiler"
   ]
  },
  {
   "cell_type": "code",
   "execution_count": 164,
   "metadata": {},
   "outputs": [
    {
     "name": "stdout",
     "output_type": "stream",
     "text": [
      "1.77 s ± 131 ms per loop (mean ± std. dev. of 7 runs, 1 loop each)\n"
     ]
    }
   ],
   "source": [
    "%timeit mod_solowwalk(k0, b, l0, n, alpha, delta, rho, beta,theta, t, t_big)"
   ]
  },
  {
   "cell_type": "code",
   "execution_count": 163,
   "metadata": {},
   "outputs": [
    {
     "data": {
      "text/plain": [
       "Timer unit: 1e-06 s\n",
       "\n",
       "Total time: 2.58089 s\n",
       "File: <ipython-input-162-ec0801b7b8f7>\n",
       "Function: mod_solowwalk at line 1\n",
       "\n",
       "Line #      Hits         Time  Per Hit   % Time  Line Contents\n",
       "==============================================================\n",
       "     1                                           def mod_solowwalk(k0, b, l0, n, alpha, delta, rho, beta,theta, t, t_big):\n",
       "     2         1         19.0     19.0      0.0      k_path = np.array([k0])\n",
       "     3         1         89.0     89.0      0.0      l_path = np.array([l0*(1+n)**i for i in list(range(t_big))])\n",
       "     4         1         68.0     68.0      0.0      y_path = np.array([func.prod(k_path[0],l_path[0],alpha,b)])\n",
       "     5                                               \n",
       "     6         1          2.0      2.0      0.0      sk_path = np.array([func.optimal_sks(\n",
       "     7         1     128046.0 128046.0      5.0          t, b, l_path[0], n, beta, delta, alpha, theta, k_path[0])])\n",
       "     8                                               \n",
       "     9        50         57.0      1.1      0.0      for i in range(1,t_big):\n",
       "    10        49        473.0      9.7      0.0          k_plus = capitalakku(b,k_path[i-1],l_path[i-1],sk_path[i-1],alpha,delta)\n",
       "    11        49        148.0      3.0      0.0          y_plus = func.prod(k_plus,l_path[i-1],alpha,b)\n",
       "    12        49    2449777.0  49995.4     94.9          sk_plus = np.array([func.optimal_sks(t, b, l_path[i], n, beta, delta, alpha, theta, k_plus)])\n",
       "    13                                                   \n",
       "    14        49       1099.0     22.4      0.0          k_path = np.append(k_path, k_plus)\n",
       "    15        49        554.0     11.3      0.0          y_path = np.append(y_path, y_plus)\n",
       "    16        49        498.0     10.2      0.0          sk_path = np.append(sk_path,sk_plus)\n",
       "    17                                                   \n",
       "    18         1          7.0      7.0      0.0      k_pr_path = k_path/l_path   \n",
       "    19         1         51.0     51.0      0.0      y_pr_path = y_path/l_path                      \n",
       "    20         1          3.0      3.0      0.0      return y_path, k_path, k_pr_path, y_pr_path, sk_path"
      ]
     },
     "metadata": {},
     "output_type": "display_data"
    }
   ],
   "source": [
    "%lprun -f mod_solowwalk mod_solowwalk(k0, b, l0, n, alpha, delta, rho, beta,theta, t, t_big)\n"
   ]
  }
 ],
 "metadata": {
  "kernelspec": {
   "display_name": "Python 3",
   "language": "python",
   "name": "python3"
  },
  "language_info": {
   "codemirror_mode": {
    "name": "ipython",
    "version": 3
   },
   "file_extension": ".py",
   "mimetype": "text/x-python",
   "name": "python",
   "nbconvert_exporter": "python",
   "pygments_lexer": "ipython3",
   "version": "3.7.1"
  }
 },
 "nbformat": 4,
 "nbformat_minor": 2
}
