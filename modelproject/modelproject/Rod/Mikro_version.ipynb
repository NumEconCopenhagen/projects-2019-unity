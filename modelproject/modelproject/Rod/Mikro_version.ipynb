{
 "cells": [
  {
   "cell_type": "code",
   "execution_count": 1,
   "metadata": {},
   "outputs": [],
   "source": [
    "import matplotlib.pyplot as plt\n",
    "from scipy import optimize\n",
    "import numpy as np\n",
    "import sympy as sm\n",
    "import func\n",
    "import time\n",
    "%reload_ext line_profiler"
   ]
  },
  {
   "cell_type": "code",
   "execution_count": 2,
   "metadata": {},
   "outputs": [],
   "source": [
    "def utility(c,theta):\n",
    "    ''' Utility function for consumption including the limit case for rho->1 '''\n",
    "    '''not actually used because direct calculation is faster'''\n",
    "    if c<0:\n",
    "        raise error\n",
    "    if rho !=1 :\n",
    "        return (c**(1-theta)-1)/(1-theta)\n",
    "    else:\n",
    "        return np.log(c)\n",
    "\n",
    "def total_utility(c, weight, theta):\n",
    "    '''\n",
    "    Sums utility for c for multiple years\n",
    "    c is an array \n",
    "    '''\n",
    "    uts = (c**(1-theta)-1)/(1-theta)\n",
    "    # sum of utitity\n",
    "    t_u = np.dot(uts,weight)\n",
    "    \n",
    "    return t_u\n",
    "\n",
    "def prod(k,l,alpha,b):\n",
    "    return (b*k**alpha)*(l**(1-alpha))"
   ]
  },
  {
   "cell_type": "markdown",
   "metadata": {},
   "source": [
    "assert np.allclose(total_utility1(c, beta, theta),total_utility2(c, beta, theta))\n",
    "\n",
    "times = 500000\n",
    "def loop1(times):\n",
    "    for i in range(times):\n",
    "        total_utility1(c, beta, theta)\n",
    "        \n",
    "def loop2(times):\n",
    "    for i in range(times):\n",
    "        total_utility2(c, beta, theta)"
   ]
  },
  {
   "cell_type": "markdown",
   "metadata": {},
   "source": [
    "%lprun -f total_utility1 -f loop1 loop1(times)"
   ]
  },
  {
   "cell_type": "markdown",
   "metadata": {},
   "source": [
    "%lprun -f total_utility2 -f loop2 loop2(times)"
   ]
  },
  {
   "cell_type": "code",
   "execution_count": 3,
   "metadata": {},
   "outputs": [],
   "source": [
    "def tot_ut_sk(sk,t, k0, l, b, weight, alpha, theta, delta, quick=True):\n",
    "    '''\n",
    "    Returns utitlity for  given period \n",
    "    depending on initial amount of kapital, k0,\n",
    "    and a fixed savingsrate, sk, for all periods \n",
    "    '''\n",
    "    k_short = np.empty(t)\n",
    "    c_short = np.empty(t)\n",
    "    y_short = np.empty(t)\n",
    "    k_short[0] = k0\n",
    "    for i in range(t):\n",
    "        y_short[i] = prod(k_short[i],l[i],alpha,b)\n",
    "        c_short[i]=(1-sk)*y_short[i]\n",
    "        if i+1<t:\n",
    "            k_short[i+1]=sk*y_short[i]+(1-delta)*k_short[i] \n",
    "    if quick:\n",
    "        return total_utility(c_short,weight,theta)\n",
    "    else:\n",
    "        return k_short,c_short,y_short\n",
    "\n",
    "def opt_sk(t, b, weight, delta, alpha, theta, k0,l):\n",
    "    '''Finds optimal fixed savings rate, sk, \n",
    "    for maximal total utility '''\n",
    "    obj = lambda sk: -tot_ut_sk(sk,t,k0, l, b, weight, alpha, theta, delta)\n",
    "    res = optimize.minimize_scalar(obj, alpha, method='bounded',bounds=[0,1])\n",
    "    return res.x"
   ]
  },
  {
   "cell_type": "markdown",
   "metadata": {},
   "source": [
    "# Fast opsparingsrate"
   ]
  },
  {
   "cell_type": "markdown",
   "metadata": {},
   "source": [
    "analytisk"
   ]
  },
  {
   "cell_type": "code",
   "execution_count": 4,
   "metadata": {},
   "outputs": [],
   "source": [
    "sm.init_printing(use_unicode=True)"
   ]
  },
  {
   "cell_type": "code",
   "execution_count": 5,
   "metadata": {},
   "outputs": [],
   "source": [
    "#valgmuligheder:\n",
    "# andelen af mulig arbejdstid som bruges på forskning:\n",
    "sr = sm.symbols('s_Rt')\n",
    "# I starten antages kapitalopspsparingsraten at være konstant\n",
    "sk = sm.symbols('s_Kt')\n",
    "# Ud fra de valg nogle udfald\n",
    "# Først defineres variable\n",
    "l = sm.symbols('L_{t}')\n",
    "ly = sm.symbols('L_{Yt}')\n",
    "la = sm.symbols('L_{At}')\n",
    "alpha = sm.symbols('alpha')\n",
    "k =sm.symbols('K_{t}')\n",
    "k1 = sm.symbols('K_{t+1}')\n",
    "y = sm.symbols('Y_{t}')\n",
    "c = sm.symbols('C')\n",
    "ct = sm.symbols('C_{t}')\n",
    "a = sm.symbols('A_{t}')\n",
    "a1 = sm.symbols('A_{t+1}')\n",
    "r = sm.symbols('r')\n",
    "\n",
    "#Greek:\n",
    "rho = sm.symbols('rho')\n",
    "beta = sm.symbols('beta')\n",
    "alpha = sm.symbols('alpha')\n",
    "phi = sm.symbols('phi')\n",
    "delta = sm.symbols('delta')\n",
    "theta = sm.symbols('theta')\n",
    "\n",
    "t = sm.symbols('t')\n",
    "ts = sm.symbols('T')\n",
    "# Functions:\n",
    "uc = sm.Function('u')(ct) \n",
    "u = sm.Function('U')(c)"
   ]
  },
  {
   "cell_type": "code",
   "execution_count": 6,
   "metadata": {},
   "outputs": [
    {
     "data": {
      "image/png": "[encoded data removed]",
      "text/latex": [
       "$$u{\\left (C_{t} \\right )} = \\frac{C_{t}^{- \\theta + 1} - 1}{- \\theta + 1}$$"
      ],
      "text/plain": [
       "                -θ + 1    \n",
       "           C_{t}       - 1\n",
       "u(C_{t}) = ───────────────\n",
       "                -θ + 1    "
      ]
     },
     "execution_count": 6,
     "metadata": {},
     "output_type": "execute_result"
    }
   ],
   "source": [
    "sm.Eq(uc,(ct**(1-theta)-1)/(1-theta))"
   ]
  },
  {
   "cell_type": "code",
   "execution_count": 7,
   "metadata": {},
   "outputs": [
    {
     "data": {
      "image/png": "[encoded data removed]",
      "text/latex": [
       "$$U{\\left (C \\right )} = \\sum_{t=0}^{T} \\frac{\\beta^{t} \\left(C_{t}^{- \\theta + 1} - 1\\right)}{- \\theta + 1}$$"
      ],
      "text/plain": [
       "         T                       \n",
       "        ____                     \n",
       "        ╲                        \n",
       "         ╲    t ⎛     -θ + 1    ⎞\n",
       "          ╲  β ⋅⎝C_{t}       - 1⎠\n",
       "U(C) =    ╱  ────────────────────\n",
       "         ╱          -θ + 1       \n",
       "        ╱                        \n",
       "        ‾‾‾‾                     \n",
       "       t = 0                     "
      ]
     },
     "execution_count": 7,
     "metadata": {},
     "output_type": "execute_result"
    }
   ],
   "source": [
    "sm.Eq(u,sm.Sum(beta**t*(ct**(1-theta)-1)/(1-theta),(t,0,ts)))"
   ]
  },
  {
   "cell_type": "code",
   "execution_count": 8,
   "metadata": {},
   "outputs": [],
   "source": [
    "sm.init_printing(use_unicode=False)"
   ]
  },
  {
   "cell_type": "markdown",
   "metadata": {},
   "source": [
    "Nummerisk"
   ]
  },
  {
   "cell_type": "code",
   "execution_count": 9,
   "metadata": {},
   "outputs": [],
   "source": [
    "theta = 0.5\n",
    "alpha = 1/3\n",
    "delta = 0.05\n",
    "rho = 0.5\n",
    "n=0.008"
   ]
  },
  {
   "cell_type": "code",
   "execution_count": 10,
   "metadata": {},
   "outputs": [],
   "source": [
    "t = 100\n",
    "b = 10\n",
    "k0 = 10\n",
    "l = [(1+n)**i for i in range(t)]\n",
    "beta = 0.9\n",
    "weight = np.array([beta**i for i in range(t)])\n",
    "c = np.random.normal(100,1,t)\n",
    "sks  = alpha"
   ]
  },
  {
   "cell_type": "code",
   "execution_count": 11,
   "metadata": {},
   "outputs": [
    {
     "data": {
      "image/png": "[encoded data removed]",
      "text/latex": [
       "$$86.6439635467891$$"
      ],
      "text/plain": [
       "86.6439635467891"
      ]
     },
     "execution_count": 11,
     "metadata": {},
     "output_type": "execute_result"
    }
   ],
   "source": [
    "tot_ut_sk(sks,t, k0, l, b, weight, alpha, theta, delta, quick=True)"
   ]
  },
  {
   "cell_type": "code",
   "execution_count": 12,
   "metadata": {},
   "outputs": [],
   "source": [
    "n = 100\n",
    "ks = np.linspace(0.0001,300,n)\n",
    "sks = np.zeros(n)\n",
    "for i,k in enumerate(ks):\n",
    "    sks[i] = opt_sk(t, b, weight,delta,alpha,theta,k,l)"
   ]
  },
  {
   "cell_type": "code",
   "execution_count": 13,
   "metadata": {},
   "outputs": [
    {
     "data": {
      "image/png": "[encoded data removed]",
      "text/plain": [
       "<Figure size 432x288 with 1 Axes>"
      ]
     },
     "metadata": {
      "needs_background": "light"
     },
     "output_type": "display_data"
    }
   ],
   "source": [
    "func.plot(ks,sks)"
   ]
  },
  {
   "cell_type": "markdown",
   "metadata": {},
   "source": [
    "# Need speed?"
   ]
  },
  {
   "cell_type": "code",
   "execution_count": 14,
   "metadata": {},
   "outputs": [],
   "source": [
    "def opt_sk1(t, b, weight, delta, alpha, theta, k0, l):\n",
    "    '''Finds optimal fixed savings rate, sk, \n",
    "    for maximal total utility '''\n",
    "    obj = lambda sk: -tot_ut_sk(sk,t,k0, l, b, weight, alpha, theta, delta)\n",
    "    res = optimize.minimize_scalar(obj, alpha, method='bounded',bounds=[0,1])\n",
    "    return res.x"
   ]
  },
  {
   "cell_type": "code",
   "execution_count": 15,
   "metadata": {},
   "outputs": [],
   "source": [
    "def loop1(n):\n",
    "    for i in range(n):\n",
    "        opt_sk1(t, b, beta, delta, alpha, theta, k0,l)"
   ]
  },
  {
   "cell_type": "code",
   "execution_count": 16,
   "metadata": {},
   "outputs": [],
   "source": [
    "#%lprun -f opt_sk1 -f loop1 loop1(n)"
   ]
  },
  {
   "cell_type": "markdown",
   "metadata": {},
   "source": [
    "# Varierende opsparingsrate"
   ]
  },
  {
   "cell_type": "code",
   "execution_count": 17,
   "metadata": {},
   "outputs": [],
   "source": [
    "def tot_ut_multiple_sks(sks, k0, l, b, weight, theta, alpha, delta, simple=True):\n",
    "    '''\n",
    "    Finds total utitilty for a set of years with a savingsrate for each year\n",
    "    '''\n",
    "    t = len(sks)\n",
    "    k_short = np.empty(t)\n",
    "    k_short[0] = k0\n",
    "    \n",
    "    for i in range(1,t):    \n",
    "        k_short[i]=sks[i-1]*prod(k_short[i-1],l[i-1],alpha,b)+(1-delta)*k_short[i-1]\n",
    "    \n",
    "    y_short = prod(k_short,l,alpha,b)\n",
    "    if simple:\n",
    "        return total_utility(y_short*(1-sks)/l, weight, theta)\n",
    "    else:\n",
    "        return total_utility(y_short*(1-sks)/l, weight, theta), y_short, y_short*(1-sks), k_short"
   ]
  },
  {
   "cell_type": "code",
   "execution_count": 18,
   "metadata": {},
   "outputs": [],
   "source": [
    "def tot_ut_multiple_sks_quick(sks, k0, l, b, weight, theta, alpha, delta):\n",
    "    '''\n",
    "    Finds total utitilty for a set of years with a savingsrate for each year\n",
    "    '''\n",
    "    t = len(sks)\n",
    "    k_short = np.empty(t)\n",
    "    k_short[0] = k0\n",
    "    \n",
    "    for i in range(1,t):    \n",
    "        k_short[i]=sks[i-1]*prod(k_short[i-1],l[i-1],alpha,b)+(1-delta)*k_short[i-1]\n",
    "    \n",
    "    y_short = prod(k_short,l,alpha,b)\n",
    "    \n",
    "    return total_utility(y_short*(1-sks)/l, weight, theta)"
   ]
  },
  {
   "cell_type": "code",
   "execution_count": 19,
   "metadata": {},
   "outputs": [],
   "source": [
    "theta = 0.9\n",
    "alpha = 1/3\n",
    "delta = 0.05\n",
    "beta = 1\n",
    "n = 0.01\n",
    "b = 10\n",
    "k0 = 1\n",
    "l0 = 1\n",
    "\n"
   ]
  },
  {
   "cell_type": "code",
   "execution_count": 20,
   "metadata": {},
   "outputs": [
    {
     "name": "stdout",
     "output_type": "stream",
     "text": [
      "Optimal sk\n",
      "[0.6309 0.6264 0.6028 0.5775 0.5537 0.5323 0.5127 0.4949 0.4787 0.4637\n",
      " 0.4498 0.4369 0.4247 0.4132 0.4022 0.3918 0.3816 0.3717 0.362  0.3524\n",
      " 0.3428 0.3331 0.3232 0.3132 0.3028 0.2919 0.2806 0.2685 0.2555 0.2414\n",
      " 0.226  0.2092 0.1905 0.1695 0.1457 0.1184 0.0866 0.049  0.004  0.\n",
      " 0.     0.     0.     0.     0.     0.     0.     0.     0.     0.    ]\n",
      "Total utility:\n",
      "218.9665\n"
     ]
    }
   ],
   "source": [
    "t = 50\n",
    "l = np.array([l0*(1+n)**i for i in range(t)])\n",
    "weight = np.array([beta**i for i in range(t)])\n",
    "\n",
    "obj = lambda sks: -tot_ut_multiple_sks_quick(sks, k0, l, b, weight, theta, alpha, delta)\n",
    "sks0 = np.full(t,alpha)\n",
    "sks0[-1] = 0\n",
    "bounds = np.full((t,2),[0,1])\n",
    "\n",
    "\n",
    "res = optimize.minimize(obj, sks0, method='SLSQP', bounds=bounds)\n",
    "\n",
    "print(f'Optimal sk')\n",
    "np.set_printoptions(precision=4,suppress=True)\n",
    "print(res.x)\n",
    "print('Total utility:')\n",
    "print(f'{-res.fun:.4f}')"
   ]
  },
  {
   "cell_type": "code",
   "execution_count": 21,
   "metadata": {},
   "outputs": [
    {
     "data": {
      "image/png": "[encoded data removed]",
      "text/plain": [
       "<Figure size 432x288 with 1 Axes>"
      ]
     },
     "metadata": {
      "needs_background": "light"
     },
     "output_type": "display_data"
    }
   ],
   "source": [
    "func.plot(range(t),res.x)"
   ]
  },
  {
   "cell_type": "code",
   "execution_count": 22,
   "metadata": {},
   "outputs": [],
   "source": [
    "def optimal_sks(t, b, l, weight, delta, alpha, theta, k0, first=True):\n",
    "    obj = lambda sks: -tot_ut_multiple_sks_quick(sks, k0, l, b, weight, theta, alpha, delta)\n",
    "    sks0 = np.linspace(alpha,0,t)\n",
    "\n",
    "    bounds = np.full((t,2),[0,1])\n",
    "    res = optimize.minimize(obj, sks0, method='SLSQP', bounds=bounds)\n",
    "    if res.success == False:\n",
    "        print('Optimization was sadly not succesfull')\n",
    "    elif first:\n",
    "        return res.x[0]\n",
    "    else:\n",
    "        return res.x"
   ]
  },
  {
   "cell_type": "code",
   "execution_count": 23,
   "metadata": {},
   "outputs": [],
   "source": [
    "theta = 0.9\n",
    "alpha = 1/3\n",
    "delta = 0.05\n",
    "beta = 1\n",
    "b = 2\n",
    "n = 0.01\n",
    "beta = 0.99\n",
    "k0 = 20\n",
    "l0 = 1\n",
    "t = 200\n",
    "l = np.array([l0*(1+n)**i for i in range(t)])\n",
    "weight = np.array([beta**i for i in range(t)])"
   ]
  },
  {
   "cell_type": "code",
   "execution_count": 24,
   "metadata": {},
   "outputs": [],
   "source": [
    "sks = optimal_sks(t, b, l, weight, delta, alpha, theta, k0, first=False)\n",
    "total, y, c, k = tot_ut_multiple_sks(sks, k0, l, b, weight, theta, alpha, delta, simple=False)"
   ]
  },
  {
   "cell_type": "code",
   "execution_count": 25,
   "metadata": {},
   "outputs": [],
   "source": [
    "sks_alt = np.array([alpha for i in list(range(t))])\n",
    "total_alt, y_alt, c_alt, k_alt = tot_ut_multiple_sks(sks_alt, k0, l, b, weight, theta, alpha, delta, simple=False)"
   ]
  },
  {
   "cell_type": "code",
   "execution_count": 26,
   "metadata": {},
   "outputs": [
    {
     "data": {
      "image/png": "[encoded data removed]",
      "text/plain": [
       "<Figure size 432x288 with 1 Axes>"
      ]
     },
     "metadata": {
      "needs_background": "light"
     },
     "output_type": "display_data"
    },
    {
     "data": {
      "image/png": "[encoded data removed]",
      "text/plain": [
       "<Figure size 432x288 with 1 Axes>"
      ]
     },
     "metadata": {
      "needs_background": "light"
     },
     "output_type": "display_data"
    },
    {
     "data": {
      "image/png": "[encoded data removed]",
      "text/plain": [
       "<Figure size 432x288 with 1 Axes>"
      ]
     },
     "metadata": {
      "needs_background": "light"
     },
     "output_type": "display_data"
    }
   ],
   "source": [
    "func.plot2(range(t),sks,sks_alt)\n",
    "func.plot2(range(t),k/l,k_alt/l)\n",
    "func.plot2(range(t),c/l,c_alt/l)"
   ]
  },
  {
   "cell_type": "code",
   "execution_count": 27,
   "metadata": {},
   "outputs": [],
   "source": [
    "n = 50\n",
    "ks = np.linspace(0.1,100,50)\n",
    "sks1 = np.empty(50)\n",
    "\n",
    "for i, k in enumerate(ks):\n",
    "    sks1[i] = optimal_sks(t, b, l, weight, delta, alpha, theta, k)"
   ]
  },
  {
   "cell_type": "code",
   "execution_count": 28,
   "metadata": {},
   "outputs": [
    {
     "data": {
      "image/png": "[encoded data removed]",
      "text/plain": [
       "<Figure size 432x288 with 1 Axes>"
      ]
     },
     "metadata": {
      "needs_background": "light"
     },
     "output_type": "display_data"
    }
   ],
   "source": [
    "func.plot(ks,sks1)"
   ]
  },
  {
   "cell_type": "code",
   "execution_count": 29,
   "metadata": {},
   "outputs": [],
   "source": [
    "n= 20\n",
    "ks = np.linspace(1,600,20)\n",
    "sks1 = np.empty(20)\n",
    "\n",
    "for i, k in enumerate(ks):\n",
    "    sks1[i] = optimal_sks(t, b, l, weight, delta, alpha, theta, k)"
   ]
  },
  {
   "cell_type": "code",
   "execution_count": 30,
   "metadata": {},
   "outputs": [
    {
     "data": {
      "image/png": "[encoded data removed]",
      "text/plain": [
       "<Figure size 432x288 with 1 Axes>"
      ]
     },
     "metadata": {
      "needs_background": "light"
     },
     "output_type": "display_data"
    }
   ],
   "source": [
    "func.plot(ks,sks1)"
   ]
  },
  {
   "cell_type": "code",
   "execution_count": 31,
   "metadata": {},
   "outputs": [],
   "source": [
    "ns = [-0.1,0,0.01,0.02,0.05,0.1,0.2]\n",
    "sks1 = np.empty(len(ns))\n",
    "for i,n in enumerate(ns):\n",
    "    l = np.array([l0*(1+n)**i for i in range(t)])\n",
    "    sks1[i] = optimal_sks(t, b, l, weight, delta, alpha, theta, k0)\n",
    "    "
   ]
  },
  {
   "cell_type": "code",
   "execution_count": 32,
   "metadata": {},
   "outputs": [
    {
     "data": {
      "image/png": "[encoded data removed]",
      "text/plain": [
       "<Figure size 432x288 with 1 Axes>"
      ]
     },
     "metadata": {
      "needs_background": "light"
     },
     "output_type": "display_data"
    }
   ],
   "source": [
    "func.plot(ns,sks1)"
   ]
  },
  {
   "cell_type": "markdown",
   "metadata": {},
   "source": [
    "# Need for speed"
   ]
  },
  {
   "cell_type": "code",
   "execution_count": 33,
   "metadata": {},
   "outputs": [],
   "source": [
    "def tot_ut_multiple_sks1(sks, k0, l, b, weight, theta, alpha, delta, simple=True):\n",
    "    '''\n",
    "    Finds total utitilty for a set of years with a savingsrate for each year\n",
    "    '''\n",
    "    t = len(sks)\n",
    "    k_short = np.empty(t)\n",
    "    k_short[0] = k0\n",
    "    \n",
    "    for i in range(1,t):    \n",
    "        k_short[i]=sks[i-1]*prod(k_short[i-1],l[i-1],alpha,b)+(1-delta)*k_short[i-1]\n",
    "    \n",
    "    y_short = prod(k_short,l,alpha,b)\n",
    "    if simple:\n",
    "        return total_utility(y_short*(1-sks)/l, weight, theta)\n",
    "    else:\n",
    "        return total_utility(y_short*(1-sks)/l, weight, theta), y_short, y_short*(1-sks), k_short\n",
    "\n",
    "\n",
    "def tot_ut_multiple_sks2(sks, k0, l, b, weight, theta, alpha, delta):\n",
    "    '''\n",
    "    Finds total utitilty for a set of years with a savingsrate for each year\n",
    "    '''\n",
    "    t = len(sks)\n",
    "    k_short = np.empty(t)\n",
    "    k_short[0] = k0\n",
    "    \n",
    "    for i in range(1,t):    \n",
    "        k_short[i]=sks[i-1]*prod(k_short[i-1],l[i-1],alpha,b)+(1-delta)*k_short[i-1]\n",
    "    \n",
    "    y_short = prod(k_short,l,alpha,b)\n",
    "    \n",
    "    return total_utility(y_short*(1-sks)/l, weight, theta)\n"
   ]
  },
  {
   "cell_type": "code",
   "execution_count": 34,
   "metadata": {},
   "outputs": [],
   "source": [
    "n = 0.005"
   ]
  },
  {
   "cell_type": "code",
   "execution_count": 35,
   "metadata": {},
   "outputs": [],
   "source": [
    "t = 60\n",
    "l = np.array([(1+n)**i for i in range(t)])\n",
    "weight = np.array([beta**i for i in range(t)])\n",
    "sks = np.full(t,alpha)\n",
    "k = np.full(t,10)"
   ]
  },
  {
   "cell_type": "code",
   "execution_count": 36,
   "metadata": {},
   "outputs": [],
   "source": [
    "times = 100"
   ]
  },
  {
   "cell_type": "code",
   "execution_count": 37,
   "metadata": {},
   "outputs": [],
   "source": [
    "assert np.allclose(tot_ut_multiple_sks1(sks, k0, l, b, weight, theta, alpha, delta),tot_ut_multiple_sks2(sks, k0, l, b, weight, theta, alpha, delta))\n",
    "                   \n",
    "def loop1(times):\n",
    "    for i in range(times):\n",
    "        tot_ut_multiple_sks1(sks, k0, l, b, weight, theta, alpha, delta)\n",
    "        \n",
    "def loop2(times):\n",
    "    for i in range(times):\n",
    "        tot_ut_multiple_sks2(sks, k0, l, b, weight, theta, alpha, delta)"
   ]
  },
  {
   "cell_type": "code",
   "execution_count": 38,
   "metadata": {},
   "outputs": [
    {
     "data": {
      "image/png": "[encoded data removed]",
      "text/latex": [
       "$$69.81521459073922$$"
      ],
      "text/plain": [
       "69.81521459073922"
      ]
     },
     "execution_count": 38,
     "metadata": {},
     "output_type": "execute_result"
    }
   ],
   "source": [
    "tot_ut_multiple_sks1(sks, k0, l, b, weight, theta, alpha, delta)"
   ]
  },
  {
   "cell_type": "code",
   "execution_count": 39,
   "metadata": {},
   "outputs": [
    {
     "name": "stdout",
     "output_type": "stream",
     "text": [
      "14.1 ms ± 476 µs per loop (mean ± std. dev. of 7 runs, 100 loops each)\n",
      "14.3 ms ± 463 µs per loop (mean ± std. dev. of 7 runs, 100 loops each)\n"
     ]
    }
   ],
   "source": [
    "%timeit loop1(times)\n",
    "%timeit loop2(times)"
   ]
  },
  {
   "cell_type": "code",
   "execution_count": 40,
   "metadata": {},
   "outputs": [
    {
     "data": {
      "text/plain": [
       "Timer unit: 1e-06 s\n",
       "\n",
       "Total time: 0.03645 s\n",
       "File: <ipython-input-33-0dd545985c8d>\n",
       "Function: tot_ut_multiple_sks1 at line 1\n",
       "\n",
       "Line #      Hits         Time  Per Hit   % Time  Line Contents\n",
       "==============================================================\n",
       "     1                                           def tot_ut_multiple_sks1(sks, k0, l, b, weight, theta, alpha, delta, simple=True):\n",
       "     2                                               '''\n",
       "     3                                               Finds total utitilty for a set of years with a savingsrate for each year\n",
       "     4                                               '''\n",
       "     5       100        135.0      1.4      0.4      t = len(sks)\n",
       "     6       100        604.0      6.0      1.7      k_short = np.empty(t)\n",
       "     7       100        153.0      1.5      0.4      k_short[0] = k0\n",
       "     8                                               \n",
       "     9      6000       4246.0      0.7     11.6      for i in range(1,t):    \n",
       "    10      5900      25569.0      4.3     70.1          k_short[i]=sks[i-1]*prod(k_short[i-1],l[i-1],alpha,b)+(1-delta)*k_short[i-1]\n",
       "    11                                               \n",
       "    12       100       2220.0     22.2      6.1      y_short = prod(k_short,l,alpha,b)\n",
       "    13       100         95.0      0.9      0.3      if simple:\n",
       "    14       100       3428.0     34.3      9.4          return total_utility(y_short*(1-sks)/l, weight, theta)\n",
       "    15                                               else:\n",
       "    16                                                   return total_utility(y_short*(1-sks)/l, weight, theta), y_short, y_short*(1-sks), k_short\n",
       "\n",
       "Total time: 0.045146 s\n",
       "File: <ipython-input-37-0944c6798fd4>\n",
       "Function: loop1 at line 3\n",
       "\n",
       "Line #      Hits         Time  Per Hit   % Time  Line Contents\n",
       "==============================================================\n",
       "     3                                           def loop1(times):\n",
       "     4       101        406.0      4.0      0.9      for i in range(times):\n",
       "     5       100      44740.0    447.4     99.1          tot_ut_multiple_sks1(sks, k0, l, b, weight, theta, alpha, delta)"
      ]
     },
     "metadata": {},
     "output_type": "display_data"
    }
   ],
   "source": [
    "%lprun -f tot_ut_multiple_sks1 -f loop1 loop1(times)"
   ]
  },
  {
   "cell_type": "code",
   "execution_count": 41,
   "metadata": {},
   "outputs": [
    {
     "data": {
      "text/plain": [
       "Timer unit: 1e-06 s\n",
       "\n",
       "Total time: 0.027266 s\n",
       "File: <ipython-input-33-0dd545985c8d>\n",
       "Function: tot_ut_multiple_sks2 at line 19\n",
       "\n",
       "Line #      Hits         Time  Per Hit   % Time  Line Contents\n",
       "==============================================================\n",
       "    19                                           def tot_ut_multiple_sks2(sks, k0, l, b, weight, theta, alpha, delta):\n",
       "    20                                               '''\n",
       "    21                                               Finds total utitilty for a set of years with a savingsrate for each year\n",
       "    22                                               '''\n",
       "    23       100         95.0      0.9      0.3      t = len(sks)\n",
       "    24       100        354.0      3.5      1.3      k_short = np.empty(t)\n",
       "    25       100        115.0      1.1      0.4      k_short[0] = k0\n",
       "    26                                               \n",
       "    27      6000       3220.0      0.5     11.8      for i in range(1,t):    \n",
       "    28      5900      19478.0      3.3     71.4          k_short[i]=sks[i-1]*prod(k_short[i-1],l[i-1],alpha,b)+(1-delta)*k_short[i-1]\n",
       "    29                                               \n",
       "    30       100       1425.0     14.2      5.2      y_short = prod(k_short,l,alpha,b)\n",
       "    31                                               \n",
       "    32       100       2579.0     25.8      9.5      return total_utility(y_short*(1-sks)/l, weight, theta)\n",
       "\n",
       "Total time: 0.033976 s\n",
       "File: <ipython-input-37-0944c6798fd4>\n",
       "Function: loop2 at line 7\n",
       "\n",
       "Line #      Hits         Time  Per Hit   % Time  Line Contents\n",
       "==============================================================\n",
       "     7                                           def loop2(times):\n",
       "     8       101         97.0      1.0      0.3      for i in range(times):\n",
       "     9       100      33879.0    338.8     99.7          tot_ut_multiple_sks2(sks, k0, l, b, weight, theta, alpha, delta)"
      ]
     },
     "metadata": {},
     "output_type": "display_data"
    }
   ],
   "source": [
    "%lprun -f tot_ut_multiple_sks2 -f loop2 loop2(times)"
   ]
  },
  {
   "cell_type": "code",
   "execution_count": 42,
   "metadata": {},
   "outputs": [],
   "source": [
    "def optimal_sks2(t, b, l, weight, delta, alpha, theta, k0, first=True):\n",
    "    obj = lambda sks: -tot_ut_multiple_sks2(sks, k0, l, b, weight, theta, alpha, delta)\n",
    "    sks0 = np.linspace(alpha,0,t)\n",
    "\n",
    "    bounds = np.full((t,2),[0,1])\n",
    "    res = optimize.minimize(obj, sks0, method='L-BFGS-B', bounds=bounds)\n",
    "    if res.success == False:\n",
    "        print('Optimization was sadly not succesfull')\n",
    "    elif first:\n",
    "        return res.x[0]\n",
    "    else:\n",
    "        return res.x"
   ]
  },
  {
   "cell_type": "code",
   "execution_count": 43,
   "metadata": {},
   "outputs": [
    {
     "data": {
      "image/png": "[encoded data removed]",
      "text/latex": [
       "$$0.362314505935358$$"
      ],
      "text/plain": [
       "0.362314505935358"
      ]
     },
     "execution_count": 43,
     "metadata": {},
     "output_type": "execute_result"
    }
   ],
   "source": [
    "optimal_sks2(t, b, l, weight, delta, alpha, theta, k0)"
   ]
  },
  {
   "cell_type": "code",
   "execution_count": 44,
   "metadata": {},
   "outputs": [
    {
     "data": {
      "image/png": "[encoded data removed]",
      "text/latex": [
       "$$0.3625014173834399$$"
      ],
      "text/plain": [
       "0.3625014173834399"
      ]
     },
     "execution_count": 44,
     "metadata": {},
     "output_type": "execute_result"
    }
   ],
   "source": [
    "optimal_sks(t, b, l, weight, delta, alpha, theta, k0)"
   ]
  },
  {
   "cell_type": "code",
   "execution_count": 45,
   "metadata": {},
   "outputs": [],
   "source": [
    "times = 5"
   ]
  },
  {
   "cell_type": "code",
   "execution_count": 46,
   "metadata": {},
   "outputs": [],
   "source": [
    "assert np.allclose(tot_ut_multiple_sks_quick(optimal_sks(t, b, l, weight, delta, alpha, theta, k0, first =False), k0, l, b, weight, theta, alpha, delta),tot_ut_multiple_sks_quick(optimal_sks2(t, b, l, weight, delta, alpha, theta, k0, first =False), k0, l, b, weight, theta, alpha, delta))\n",
    "    \n",
    "def loop1(times):\n",
    "    for i in range(times):\n",
    "        optimal_sks(t, b, l, weight, delta, alpha, theta, k0)\n",
    "        \n",
    "def loop2(times):\n",
    "    for i in range(times):\n",
    "        optimal_sks2(t, b, l, weight, delta, alpha, theta, k0)"
   ]
  },
  {
   "cell_type": "code",
   "execution_count": 47,
   "metadata": {},
   "outputs": [
    {
     "name": "stdout",
     "output_type": "stream",
     "text": [
      "476 ms ± 2.45 ms per loop (mean ± std. dev. of 7 runs, 1 loop each)\n",
      "543 ms ± 13.4 ms per loop (mean ± std. dev. of 7 runs, 1 loop each)\n"
     ]
    }
   ],
   "source": [
    "%timeit loop1(times)\n",
    "%timeit loop2(times)"
   ]
  },
  {
   "cell_type": "code",
   "execution_count": 48,
   "metadata": {},
   "outputs": [
    {
     "data": {
      "text/plain": [
       "Timer unit: 1e-06 s\n",
       "\n",
       "Total time: 0.701143 s\n",
       "File: <ipython-input-22-be530121cece>\n",
       "Function: optimal_sks at line 1\n",
       "\n",
       "Line #      Hits         Time  Per Hit   % Time  Line Contents\n",
       "==============================================================\n",
       "     1                                           def optimal_sks(t, b, l, weight, delta, alpha, theta, k0, first=True):\n",
       "     2         5          7.0      1.4      0.0      obj = lambda sks: -tot_ut_multiple_sks_quick(sks, k0, l, b, weight, theta, alpha, delta)\n",
       "     3         5        441.0     88.2      0.1      sks0 = np.linspace(alpha,0,t)\n",
       "     4                                           \n",
       "     5         5        130.0     26.0      0.0      bounds = np.full((t,2),[0,1])\n",
       "     6         5     700474.0 140094.8     99.9      res = optimize.minimize(obj, sks0, method='SLSQP', bounds=bounds)\n",
       "     7         5         71.0     14.2      0.0      if res.success == False:\n",
       "     8                                                   print('Optimization was sadly not succesfull')\n",
       "     9         5          4.0      0.8      0.0      elif first:\n",
       "    10         5         16.0      3.2      0.0          return res.x[0]\n",
       "    11                                               else:\n",
       "    12                                                   return res.x\n",
       "\n",
       "Total time: 0.701236 s\n",
       "File: <ipython-input-46-0339548f23e0>\n",
       "Function: loop1 at line 3\n",
       "\n",
       "Line #      Hits         Time  Per Hit   % Time  Line Contents\n",
       "==============================================================\n",
       "     3                                           def loop1(times):\n",
       "     4         6          8.0      1.3      0.0      for i in range(times):\n",
       "     5         5     701228.0 140245.6    100.0          optimal_sks(t, b, l, weight, delta, alpha, theta, k0)"
      ]
     },
     "metadata": {},
     "output_type": "display_data"
    }
   ],
   "source": [
    "%lprun -f optimal_sks -f loop1 loop1(times)"
   ]
  }
 ],
 "metadata": {
  "kernelspec": {
   "display_name": "Python 3",
   "language": "python",
   "name": "python3"
  },
  "language_info": {
   "codemirror_mode": {
    "name": "ipython",
    "version": 3
   },
   "file_extension": ".py",
   "mimetype": "text/x-python",
   "name": "python",
   "nbconvert_exporter": "python",
   "pygments_lexer": "ipython3",
   "version": "3.7.1"
  }
 },
 "nbformat": 4,
 "nbformat_minor": 2
}
