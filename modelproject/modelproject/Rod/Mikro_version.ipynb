{
 "cells": [
  {
   "cell_type": "code",
   "execution_count": 2,
   "metadata": {},
   "outputs": [],
   "source": [
    "import matplotlib.pyplot as plt\n",
    "from scipy import optimize\n",
    "import numpy as np\n",
    "import sympy as sm\n",
    "import func\n",
    "import time\n",
    "%reload_ext line_profiler"
   ]
  },
  {
   "cell_type": "code",
   "execution_count": 380,
   "metadata": {},
   "outputs": [],
   "source": [
    "def utility(c,theta):\n",
    "    ''' Utility function for consumption including the limit case for rho->1 '''\n",
    "    '''not actually used because direct calculation is faster'''\n",
    "    if c<0:\n",
    "        raise error\n",
    "    if rho !=1 :\n",
    "        return (c**(1-theta)-1)/(1-theta)\n",
    "    else:\n",
    "        return np.log(c)\n",
    "\n",
    "def total_utility(c, beta, theta):\n",
    "    '''\n",
    "    Sums utility for c for multiple years\n",
    "    c is an array \n",
    "    '''\n",
    "    uts = (c**(1-theta)-1)/(1-theta)\n",
    "     #time dicounting: \n",
    "    timeweights = [beta**i for i in range(len(c))]\n",
    "    # sum of utitity\n",
    "    t_u = np.dot(uts,timeweights)\n",
    "    \n",
    "    return t_u\n",
    "\n",
    "def prod(k,l,alpha,b):\n",
    "    return (b*k**alpha)*(l**(1-alpha))"
   ]
  },
  {
   "cell_type": "markdown",
   "metadata": {},
   "source": [
    "assert np.allclose(total_utility1(c, beta, theta),total_utility2(c, beta, theta))\n",
    "\n",
    "times = 500000\n",
    "def loop1(times):\n",
    "    for i in range(times):\n",
    "        total_utility1(c, beta, theta)\n",
    "        \n",
    "def loop2(times):\n",
    "    for i in range(times):\n",
    "        total_utility2(c, beta, theta)"
   ]
  },
  {
   "cell_type": "markdown",
   "metadata": {},
   "source": [
    "%lprun -f total_utility1 -f loop1 loop1(times)"
   ]
  },
  {
   "cell_type": "markdown",
   "metadata": {},
   "source": [
    "%lprun -f total_utility2 -f loop2 loop2(times)"
   ]
  },
  {
   "cell_type": "code",
   "execution_count": 4,
   "metadata": {},
   "outputs": [],
   "source": [
    "def tot_ut_sk(sk,t, k0, l, b, beta, alpha, theta, delta, quick=True):\n",
    "    '''\n",
    "    Returns utitlity for  given period \n",
    "    depending on initial amount of kapital, k0,\n",
    "    and a fixed savingsrate, sk, for all periods \n",
    "    '''\n",
    "    k_short = np.empty(t)\n",
    "    c_short = np.empty(t)\n",
    "    y_short = np.empty(t)\n",
    "    k_short[0] = k0\n",
    "    for i in range(t):\n",
    "        y_short[i] = prod(k_short[i],l[i],alpha,b)\n",
    "        c_short[i]=(1-sk)*y_short[i]\n",
    "        if i+1<t:\n",
    "            k_short[i+1]=sk*y_short[i]+(1-delta)*k_short[i] \n",
    "    if quick:\n",
    "        return total_utility(c_short,beta,theta)\n",
    "    else:\n",
    "        return k_short,c_short,y_short\n",
    "\n",
    "def opt_sk(t, b, beta, delta, alpha, theta, k0,l):\n",
    "    '''Finds optimal fixed savings rate, sk, \n",
    "    for maximal total utility '''\n",
    "    obj = lambda sk: -tot_ut_sk(sk,t,k0, l, b, beta, alpha, theta, delta)\n",
    "    res = optimize.minimize_scalar(obj, alpha, method='bounded',bounds=[0,1])\n",
    "    return res.x"
   ]
  },
  {
   "cell_type": "markdown",
   "metadata": {},
   "source": [
    "# Fast opsparingsrate"
   ]
  },
  {
   "cell_type": "markdown",
   "metadata": {},
   "source": [
    "analytisk"
   ]
  },
  {
   "cell_type": "code",
   "execution_count": null,
   "metadata": {},
   "outputs": [],
   "source": [
    "sm.init_printing(use_unicode=True)"
   ]
  },
  {
   "cell_type": "code",
   "execution_count": null,
   "metadata": {},
   "outputs": [],
   "source": [
    "#valgmuligheder:\n",
    "# andelen af mulig arbejdstid som bruges på forskning:\n",
    "sr = sm.symbols('s_Rt')\n",
    "# I starten antages kapitalopspsparingsraten at være konstant\n",
    "sk = sm.symbols('s_Kt')\n",
    "# Ud fra de valg nogle udfald\n",
    "# Først defineres variable\n",
    "l = sm.symbols('L_{t}')\n",
    "ly = sm.symbols('L_{Yt}')\n",
    "la = sm.symbols('L_{At}')\n",
    "alpha = sm.symbols('alpha')\n",
    "k =sm.symbols('K_{t}')\n",
    "k1 = sm.symbols('K_{t+1}')\n",
    "y = sm.symbols('Y_{t}')\n",
    "c = sm.symbols('C')\n",
    "ct = sm.symbols('C_{t}')\n",
    "a = sm.symbols('A_{t}')\n",
    "a1 = sm.symbols('A_{t+1}')\n",
    "r = sm.symbols('r')\n",
    "\n",
    "#Greek:\n",
    "rho = sm.symbols('rho')\n",
    "beta = sm.symbols('beta')\n",
    "alpha = sm.symbols('alpha')\n",
    "phi = sm.symbols('phi')\n",
    "delta = sm.symbols('delta')\n",
    "theta = sm.symbols('theta')\n",
    "\n",
    "t = sm.symbols('t')\n",
    "ts = sm.symbols('T')\n",
    "# Functions:\n",
    "uc = sm.Function('u')(ct) \n",
    "u = sm.Function('U')(c)"
   ]
  },
  {
   "cell_type": "code",
   "execution_count": null,
   "metadata": {},
   "outputs": [],
   "source": [
    "sm.Eq(uc,(ct**(1-theta)-1)/(1-theta))"
   ]
  },
  {
   "cell_type": "code",
   "execution_count": null,
   "metadata": {},
   "outputs": [],
   "source": [
    "sm.Eq(u,sm.Sum(beta**t*(ct**(1-theta)-1)/(1-theta),(t,0,ts)))"
   ]
  },
  {
   "cell_type": "code",
   "execution_count": null,
   "metadata": {},
   "outputs": [],
   "source": [
    "sm.init_printing(use_unicode=False)"
   ]
  },
  {
   "cell_type": "markdown",
   "metadata": {},
   "source": [
    "Nummerisk"
   ]
  },
  {
   "cell_type": "code",
   "execution_count": 19,
   "metadata": {},
   "outputs": [],
   "source": [
    "theta = 0.5\n",
    "alpha = 1/3\n",
    "delta = 0.05\n",
    "rho = 0.5\n",
    "n=0.008"
   ]
  },
  {
   "cell_type": "code",
   "execution_count": 21,
   "metadata": {},
   "outputs": [],
   "source": [
    "t = 100\n",
    "b = 10\n",
    "k0 = 10\n",
    "l = [(1+n)**i for i in range(t)]\n",
    "beta = 0.9"
   ]
  },
  {
   "cell_type": "code",
   "execution_count": 32,
   "metadata": {},
   "outputs": [],
   "source": [
    "n = 100\n",
    "ks = np.linspace(0.0001,300,n)\n",
    "sks = np.zeros(n)\n",
    "for i,k in enumerate(ks):\n",
    "    sks[i] = opt_sk(t, b, beta,delta,alpha,theta,k,l)"
   ]
  },
  {
   "cell_type": "code",
   "execution_count": 33,
   "metadata": {},
   "outputs": [
    {
     "data": {
      "image/png": "[encoded data removed]",
      "text/plain": [
       "<Figure size 432x288 with 1 Axes>"
      ]
     },
     "metadata": {
      "needs_background": "light"
     },
     "output_type": "display_data"
    }
   ],
   "source": [
    "func.plot(ks,sks)"
   ]
  },
  {
   "cell_type": "markdown",
   "metadata": {},
   "source": [
    "# Need speed?"
   ]
  },
  {
   "cell_type": "code",
   "execution_count": 35,
   "metadata": {},
   "outputs": [],
   "source": [
    "def opt_sk1(t, b, beta, delta, alpha, theta, k0, l):\n",
    "    '''Finds optimal fixed savings rate, sk, \n",
    "    for maximal total utility '''\n",
    "    obj = lambda sk: -tot_ut_sk(sk,t,k0, l, b, beta, alpha, theta, delta)\n",
    "    res = optimize.minimize_scalar(obj, alpha, method='bounded',bounds=[0,1])\n",
    "    return res.x"
   ]
  },
  {
   "cell_type": "code",
   "execution_count": 37,
   "metadata": {},
   "outputs": [],
   "source": [
    "def loop1(n):\n",
    "    for i in range(n):\n",
    "        opt_sk1(t, b, beta, delta, alpha, theta, k0,l)"
   ]
  },
  {
   "cell_type": "code",
   "execution_count": 38,
   "metadata": {},
   "outputs": [
    {
     "data": {
      "text/plain": [
       "Timer unit: 1e-06 s\n",
       "\n",
       "Total time: 0.715449 s\n",
       "File: <ipython-input-35-dc2ccc10dfc5>\n",
       "Function: opt_sk1 at line 1\n",
       "\n",
       "Line #      Hits         Time  Per Hit   % Time  Line Contents\n",
       "==============================================================\n",
       "     1                                           def opt_sk1(t, b, beta, delta, alpha, theta, k0, l):\n",
       "     2                                               '''Finds optimal fixed savings rate, sk, \n",
       "     3                                               for maximal total utility '''\n",
       "     4       100        182.0      1.8      0.0      obj = lambda sk: -tot_ut_sk(sk,t,k0, l, b, beta, alpha, theta, delta)\n",
       "     5       100     714520.0   7145.2     99.9      res = optimize.minimize_scalar(obj, alpha, method='bounded',bounds=[0,1])\n",
       "     6       100        747.0      7.5      0.1      return res.x\n",
       "\n",
       "Total time: 0.716467 s\n",
       "File: <ipython-input-37-186312989a80>\n",
       "Function: loop1 at line 1\n",
       "\n",
       "Line #      Hits         Time  Per Hit   % Time  Line Contents\n",
       "==============================================================\n",
       "     1                                           def loop1(n):\n",
       "     2       101         82.0      0.8      0.0      for i in range(n):\n",
       "     3       100     716385.0   7163.9    100.0          opt_sk1(t, b, beta, delta, alpha, theta, k0,l)"
      ]
     },
     "metadata": {},
     "output_type": "display_data"
    }
   ],
   "source": [
    "%lprun -f opt_sk1 -f loop1 loop1(n)"
   ]
  },
  {
   "cell_type": "markdown",
   "metadata": {},
   "source": [
    "# Varierende opsparingsrate"
   ]
  },
  {
   "cell_type": "code",
   "execution_count": 382,
   "metadata": {},
   "outputs": [],
   "source": [
    "def tot_ut_multiple_sks(sks, k0, l, b, beta, theta, alpha, delta, simple=True):\n",
    "    '''\n",
    "    Finds total utitilty for a set of years with a savingsrate for each year\n",
    "    '''\n",
    "    t = len(sks)\n",
    "    k_short = np.empty(t)\n",
    "    k_short[0] = k0\n",
    "    \n",
    "    for i in range(1,t):    \n",
    "        k_short[i]=sks[i-1]*prod(k_short[i-1],l[i-1],alpha,b)+(1-delta)*k_short[i-1]\n",
    "    \n",
    "    y_short = prod(k_short,l,alpha,b)\n",
    "    if simple:\n",
    "        return total_utility(y_short*(1-sks)/l, beta, theta)\n",
    "    else:\n",
    "        return total_utility(y_short*(1-sks)/l, beta, theta), y_short, y_short*(1-sks), k_short"
   ]
  },
  {
   "cell_type": "code",
   "execution_count": 384,
   "metadata": {},
   "outputs": [],
   "source": [
    "def tot_ut_multiple_sks_quick(sks, k0, l, b, beta, theta, alpha, delta):\n",
    "    '''\n",
    "    Finds total utitilty for a set of years with a savingsrate for each year\n",
    "    '''\n",
    "    t = len(sks)\n",
    "    k_short = np.empty(t)\n",
    "    k_short[0] = k0\n",
    "    \n",
    "    for i in range(1,t):    \n",
    "        k_short[i]=sks[i-1]*prod(k_short[i-1],l[i-1],alpha,b)+(1-delta)*k_short[i-1]\n",
    "    \n",
    "    y_short = prod(k_short,l,alpha,b)\n",
    "    \n",
    "    return total_utility(y_short*(1-sks)/l, beta, theta)"
   ]
  },
  {
   "cell_type": "code",
   "execution_count": 386,
   "metadata": {},
   "outputs": [],
   "source": [
    "theta = 0.9\n",
    "alpha = 1/3\n",
    "delta = 0.05\n",
    "beta = 1\n",
    "n = 0.01\n",
    "b = 10\n",
    "k0 = 1\n",
    "l0 = 1\n"
   ]
  },
  {
   "cell_type": "code",
   "execution_count": 388,
   "metadata": {},
   "outputs": [
    {
     "name": "stdout",
     "output_type": "stream",
     "text": [
      "Optimal sk\n",
      "[0.6309 0.6264 0.6028 0.5775 0.5537 0.5323 0.5127 0.4949 0.4787 0.4637\n",
      " 0.4498 0.4369 0.4247 0.4132 0.4022 0.3918 0.3816 0.3717 0.362  0.3524\n",
      " 0.3428 0.3331 0.3232 0.3132 0.3028 0.2919 0.2806 0.2685 0.2555 0.2414\n",
      " 0.226  0.2092 0.1905 0.1695 0.1457 0.1184 0.0866 0.049  0.004  0.\n",
      " 0.     0.     0.     0.     0.     0.     0.     0.     0.     0.    ]\n",
      "Total utility:\n",
      "218.9665\n"
     ]
    }
   ],
   "source": [
    "t = 50\n",
    "l = np.array([l0*(1+n)**i for i in range(t)])\n",
    "obj = lambda sks: -tot_ut_multiple_sks_quick(sks, k0, l, b, beta, theta, alpha, delta)\n",
    "sks0 = np.full(t,alpha)\n",
    "sks0[-1] = 0\n",
    "bounds = np.full((t,2),[0,1])\n",
    "\n",
    "\n",
    "res = optimize.minimize(obj, sks0, method='SLSQP', bounds=bounds)\n",
    "\n",
    "print(f'Optimal sk')\n",
    "np.set_printoptions(precision=4,suppress=True)\n",
    "print(res.x)\n",
    "print('Total utility:')\n",
    "print(f'{-res.fun:.4f}')"
   ]
  },
  {
   "cell_type": "code",
   "execution_count": 390,
   "metadata": {},
   "outputs": [
    {
     "data": {
      "image/png": "[encoded data removed]",
      "text/plain": [
       "<Figure size 432x288 with 1 Axes>"
      ]
     },
     "metadata": {
      "needs_background": "light"
     },
     "output_type": "display_data"
    }
   ],
   "source": [
    "func.plot(range(t),res.x)"
   ]
  },
  {
   "cell_type": "code",
   "execution_count": 627,
   "metadata": {},
   "outputs": [],
   "source": [
    "def optimal_sks(t, b, l, beta, delta, alpha, theta, k0, first=True):\n",
    "    obj = lambda sks: -tot_ut_multiple_sks_quick(sks, k0, l, b, beta, theta, alpha, delta)\n",
    "    sks0 = np.linspace(alpha,0,t)\n",
    "\n",
    "    bounds = np.full((t,2),[0,1])\n",
    "    res = optimize.minimize(obj, sks0, method='SLSQP', bounds=bounds)\n",
    "    if res.success == False:\n",
    "        print('Optimization was sadly not succesfull')\n",
    "    elif first:\n",
    "        return res.x[0]\n",
    "    else:\n",
    "        return res.x"
   ]
  },
  {
   "cell_type": "code",
   "execution_count": 629,
   "metadata": {},
   "outputs": [],
   "source": [
    "theta = 0.9\n",
    "alpha = 1/3\n",
    "delta = 0.05\n",
    "beta = 1\n",
    "b = 2\n",
    "n = 0.01\n",
    "beta = 0.99\n",
    "k0 = 20\n",
    "l0 = 1\n",
    "t = 60\n",
    "l = np.array([l0*(1+n)**i for i in range(t)])"
   ]
  },
  {
   "cell_type": "code",
   "execution_count": 630,
   "metadata": {},
   "outputs": [],
   "source": [
    "sks = optimal_sks(t, b, l, beta, delta, alpha, theta, k0, first=False)\n",
    "total, y, c, k = tot_ut_multiple_sks(sks, k0, l, b, beta, theta, alpha, delta, simple=False)"
   ]
  },
  {
   "cell_type": "code",
   "execution_count": 456,
   "metadata": {},
   "outputs": [],
   "source": [
    "sks_alt = np.array([alpha for i in list(range(t))])\n",
    "total_alt, y_alt, c_alt, k_alt = tot_ut_multiple_sks(sks_alt, k0, l, b, beta, theta, alpha, delta, simple=False)"
   ]
  },
  {
   "cell_type": "code",
   "execution_count": 458,
   "metadata": {},
   "outputs": [
    {
     "data": {
      "image/png": "[encoded data removed]",
      "text/plain": [
       "<Figure size 432x288 with 1 Axes>"
      ]
     },
     "metadata": {
      "needs_background": "light"
     },
     "output_type": "display_data"
    },
    {
     "data": {
      "image/png": "[encoded data removed]",
      "text/plain": [
       "<Figure size 432x288 with 1 Axes>"
      ]
     },
     "metadata": {
      "needs_background": "light"
     },
     "output_type": "display_data"
    },
    {
     "data": {
      "image/png": "[encoded data removed]",
      "text/plain": [
       "<Figure size 432x288 with 1 Axes>"
      ]
     },
     "metadata": {
      "needs_background": "light"
     },
     "output_type": "display_data"
    }
   ],
   "source": [
    "func.plot2(range(t),sks,sks_alt)\n",
    "func.plot2(range(t),k/l,k_alt/l)\n",
    "func.plot2(range(t),c/l,c_alt/l)"
   ]
  },
  {
   "cell_type": "code",
   "execution_count": 459,
   "metadata": {},
   "outputs": [],
   "source": [
    "n = 50\n",
    "ks = np.linspace(0.1,100,50)\n",
    "sks1 = np.empty(50)\n",
    "\n",
    "for i, k in enumerate(ks):\n",
    "    sks1[i] = optimal_sks(t, b, l, beta, delta, alpha, theta, k)"
   ]
  },
  {
   "cell_type": "code",
   "execution_count": 460,
   "metadata": {},
   "outputs": [
    {
     "data": {
      "image/png": "[encoded data removed]",
      "text/plain": [
       "<Figure size 432x288 with 1 Axes>"
      ]
     },
     "metadata": {
      "needs_background": "light"
     },
     "output_type": "display_data"
    }
   ],
   "source": [
    "func.plot(ks,sks1)"
   ]
  },
  {
   "cell_type": "code",
   "execution_count": 432,
   "metadata": {},
   "outputs": [],
   "source": [
    "n= 20\n",
    "ks = np.linspace(1,600,20)\n",
    "sks1 = np.empty(20)\n",
    "\n",
    "for i, k in enumerate(ks):\n",
    "    sks1[i] = optimal_sks(t, b, l, beta, delta, alpha, theta, k)"
   ]
  },
  {
   "cell_type": "code",
   "execution_count": 434,
   "metadata": {},
   "outputs": [
    {
     "data": {
      "image/png": "[encoded data removed]",
      "text/plain": [
       "<Figure size 432x288 with 1 Axes>"
      ]
     },
     "metadata": {
      "needs_background": "light"
     },
     "output_type": "display_data"
    }
   ],
   "source": [
    "func.plot(ks,sks1)"
   ]
  },
  {
   "cell_type": "code",
   "execution_count": 448,
   "metadata": {},
   "outputs": [],
   "source": [
    "ns = [-0.1,0,0.01,0.02,0.05,0.1,0.2]\n",
    "sks1 = np.empty(len(ns))\n",
    "for i,n in enumerate(ns):\n",
    "    l = np.array([l0*(1+n)**i for i in range(t)])\n",
    "    sks1[i] = optimal_sks(t, b, l, beta, delta, alpha, theta, k0)\n",
    "    "
   ]
  },
  {
   "cell_type": "code",
   "execution_count": 449,
   "metadata": {},
   "outputs": [
    {
     "data": {
      "image/png": "[encoded data removed]",
      "text/plain": [
       "<Figure size 432x288 with 1 Axes>"
      ]
     },
     "metadata": {
      "needs_background": "light"
     },
     "output_type": "display_data"
    }
   ],
   "source": [
    "func.plot(ns,sks1)"
   ]
  },
  {
   "cell_type": "markdown",
   "metadata": {},
   "source": [
    "# Need for speed"
   ]
  },
  {
   "cell_type": "code",
   "execution_count": 550,
   "metadata": {},
   "outputs": [],
   "source": [
    "def tot_ut_multiple_sks1(sks, k0, l, b, beta, theta, alpha, delta, simple=True):\n",
    "    '''\n",
    "    Finds total utitilty for a set of years with a savingsrate for each year\n",
    "    '''\n",
    "    t = len(sks)\n",
    "    k_short = np.empty(t)\n",
    "    k_short[0] = k0\n",
    "    \n",
    "    for i in range(1,t):    \n",
    "        k_short[i]=sks[i-1]*prod(k_short[i-1],l[i-1],alpha,b)+(1-delta)*k_short[i-1]\n",
    "    \n",
    "    y_short = prod(k_short,l,alpha,b)\n",
    "    if simple:\n",
    "        return total_utility(y_short*(1-sks)/l, beta, theta)\n",
    "    else:\n",
    "        return total_utility(y_short*(1-sks)/l, beta, theta), y_short, y_short*(1-sks), k_short\n",
    "\n",
    "\n",
    "def tot_ut_multiple_sks2(sks, k0, l, b, beta, theta, alpha, delta):\n",
    "    '''\n",
    "    Finds total utitilty for a set of years with a savingsrate for each year\n",
    "    '''\n",
    "    t = len(sks)\n",
    "    k_short = np.empty(t)\n",
    "    k_short[0] = k0\n",
    "    \n",
    "    for i in range(1,t):    \n",
    "        k_short[i]=sks[i-1]*prod(k_short[i-1],l[i-1],alpha,b)+(1-delta)*k_short[i-1]\n",
    "    \n",
    "    y_short = prod(k_short,l,alpha,b)\n",
    "    \n",
    "    return total_utility(y_short*(1-sks)/l, beta, theta)\n"
   ]
  },
  {
   "cell_type": "code",
   "execution_count": 552,
   "metadata": {},
   "outputs": [],
   "source": [
    "n = 0.005"
   ]
  },
  {
   "cell_type": "code",
   "execution_count": 554,
   "metadata": {},
   "outputs": [],
   "source": [
    "t = 60\n",
    "l = np.array([(1+n)**i for i in range(t)])\n",
    "sks = np.full(t,alpha)\n",
    "k = np.full(t,10)"
   ]
  },
  {
   "cell_type": "code",
   "execution_count": 556,
   "metadata": {},
   "outputs": [],
   "source": [
    "times = 100"
   ]
  },
  {
   "cell_type": "code",
   "execution_count": 558,
   "metadata": {},
   "outputs": [],
   "source": [
    "assert np.allclose(tot_ut_multiple_sks1(sks, k0, l, b, beta, theta, alpha, delta),tot_ut_multiple_sks2(sks, k0, l, b, beta, theta, alpha, delta))\n",
    "                   \n",
    "def loop1(times):\n",
    "    for i in range(times):\n",
    "        tot_ut_multiple_sks1(sks, k0, l, b, beta, theta, alpha, delta)\n",
    "        \n",
    "def loop2(times):\n",
    "    for i in range(times):\n",
    "        tot_ut_multiple_sks2(sks, k0, l, b, beta, theta, alpha, delta)"
   ]
  },
  {
   "cell_type": "code",
   "execution_count": 559,
   "metadata": {},
   "outputs": [
    {
     "name": "stdout",
     "output_type": "stream",
     "text": [
      "15.3 ms ± 291 µs per loop (mean ± std. dev. of 7 runs, 100 loops each)\n",
      "15.1 ms ± 240 µs per loop (mean ± std. dev. of 7 runs, 100 loops each)\n"
     ]
    }
   ],
   "source": [
    "%timeit loop1(times)\n",
    "%timeit loop2(times)"
   ]
  },
  {
   "cell_type": "code",
   "execution_count": 489,
   "metadata": {},
   "outputs": [
    {
     "data": {
      "text/plain": [
       "Timer unit: 1e-06 s\n",
       "\n",
       "Total time: 0.322696 s\n",
       "File: <ipython-input-462-407e0d85146e>\n",
       "Function: tot_ut_multiple_sks1 at line 1\n",
       "\n",
       "Line #      Hits         Time  Per Hit   % Time  Line Contents\n",
       "==============================================================\n",
       "     1                                           def tot_ut_multiple_sks1(sks, k0, l, b, beta, theta, alpha, delta, simple=True):\n",
       "     2                                               '''\n",
       "     3                                               Finds total utitilty for a set of years with a savingsrate for each year\n",
       "     4                                               '''\n",
       "     5      1000        929.0      0.9      0.3      t = len(sks)\n",
       "     6      1000       3546.0      3.5      1.1      k_short = np.empty(t)\n",
       "     7      1000       1266.0      1.3      0.4      k_short[0] = k0\n",
       "     8                                               \n",
       "     9     60000      34979.0      0.6     10.8      for i in range(1,t):    \n",
       "    10     59000     207002.0      3.5     64.1          k_short[i]=sks[i-1]*prod(k_short[i-1],l[i-1],alpha,b)+(1-delta)*k_short[i-1]\n",
       "    11                                               \n",
       "    12      1000      16113.0     16.1      5.0      y_short = prod(k_short,l,alpha,b)\n",
       "    13      1000        746.0      0.7      0.2      if simple:\n",
       "    14      1000      58115.0     58.1     18.0          return total_utility(y_short*(1-sks)/l, beta, theta)\n",
       "    15                                               else:\n",
       "    16                                                   return total_utility(y_short*(1-sks)/l, beta, theta), y_short, y_short*(1-sks), k_short\n",
       "\n",
       "Total time: 0.388798 s\n",
       "File: <ipython-input-487-f5c8ccdb81e8>\n",
       "Function: loop1 at line 3\n",
       "\n",
       "Line #      Hits         Time  Per Hit   % Time  Line Contents\n",
       "==============================================================\n",
       "     3                                           def loop1(times):\n",
       "     4      1001       1042.0      1.0      0.3      for i in range(times):\n",
       "     5      1000     387756.0    387.8     99.7          tot_ut_multiple_sks1(sks, k0, l, b, beta, theta, alpha, delta)"
      ]
     },
     "metadata": {},
     "output_type": "display_data"
    }
   ],
   "source": [
    "%lprun -f tot_ut_multiple_sks1 -f loop1 loop1(times)"
   ]
  },
  {
   "cell_type": "code",
   "execution_count": 490,
   "metadata": {},
   "outputs": [
    {
     "data": {
      "text/plain": [
       "Timer unit: 1e-06 s\n",
       "\n",
       "Total time: 0.402293 s\n",
       "File: <ipython-input-462-407e0d85146e>\n",
       "Function: tot_ut_multiple_sks2 at line 19\n",
       "\n",
       "Line #      Hits         Time  Per Hit   % Time  Line Contents\n",
       "==============================================================\n",
       "    19                                           def tot_ut_multiple_sks2(sks, k0, l, b, beta, theta, alpha, delta):\n",
       "    20                                               '''\n",
       "    21                                               Finds total utitilty for a set of years with a savingsrate for each year\n",
       "    22                                               '''\n",
       "    23      1000       2368.0      2.4      0.6      t = len(sks)\n",
       "    24      1000       4881.0      4.9      1.2      k_short = np.empty(t)\n",
       "    25      1000       1583.0      1.6      0.4      k_short[0] = k0\n",
       "    26                                               \n",
       "    27     60000      46014.0      0.8     11.4      for i in range(1,t):    \n",
       "    28     59000     249111.0      4.2     61.9          k_short[i]=sks[i-1]*prod(k_short[i-1],l[i-1],alpha,b)+(1-delta)*k_short[i-1]\n",
       "    29                                               \n",
       "    30      1000      26053.0     26.1      6.5      y_short = prod(k_short,l,alpha,b)\n",
       "    31                                               \n",
       "    32      1000      72283.0     72.3     18.0      return total_utility(y_short*(1-sks)/l, beta, theta)\n",
       "\n",
       "Total time: 0.480599 s\n",
       "File: <ipython-input-487-f5c8ccdb81e8>\n",
       "Function: loop2 at line 7\n",
       "\n",
       "Line #      Hits         Time  Per Hit   % Time  Line Contents\n",
       "==============================================================\n",
       "     7                                           def loop2(times):\n",
       "     8      1001       1271.0      1.3      0.3      for i in range(times):\n",
       "     9      1000     479328.0    479.3     99.7          tot_ut_multiple_sks2(sks, k0, l, b, beta, theta, alpha, delta)"
      ]
     },
     "metadata": {},
     "output_type": "display_data"
    }
   ],
   "source": [
    "%lprun -f tot_ut_multiple_sks2 -f loop2 loop2(times)"
   ]
  },
  {
   "cell_type": "code",
   "execution_count": 616,
   "metadata": {},
   "outputs": [],
   "source": [
    "def optimal_sks2(t, b, l, beta, delta, alpha, theta, k0, first=True):\n",
    "    obj = lambda sks: -tot_ut_multiple_sks2(sks, k0, l, b, beta, theta, alpha, delta)\n",
    "    sks0 = np.linspace(alpha,0,t)\n",
    "\n",
    "    bounds = np.full((t,2),[0,1])\n",
    "    res = optimize.minimize(obj, sks0, method='L-BFGS-B', bounds=bounds)\n",
    "    if res.success == False:\n",
    "        print('Optimization was sadly not succesfull')\n",
    "    elif first:\n",
    "        return res.x[0]\n",
    "    else:\n",
    "        return res.x"
   ]
  },
  {
   "cell_type": "code",
   "execution_count": 622,
   "metadata": {},
   "outputs": [
    {
     "data": {
      "text/plain": [
       "0.362314505935358"
      ]
     },
     "execution_count": 622,
     "metadata": {},
     "output_type": "execute_result"
    }
   ],
   "source": [
    "optimal_sks2(t, b, l, beta, delta, alpha, theta, k0)"
   ]
  },
  {
   "cell_type": "code",
   "execution_count": 610,
   "metadata": {},
   "outputs": [
    {
     "data": {
      "text/plain": [
       "0.3625014173834399"
      ]
     },
     "execution_count": 610,
     "metadata": {},
     "output_type": "execute_result"
    }
   ],
   "source": [
    "optimal_sks(t, b, l, beta, delta, alpha, theta, k0)"
   ]
  },
  {
   "cell_type": "code",
   "execution_count": 611,
   "metadata": {},
   "outputs": [],
   "source": [
    "times = 5"
   ]
  },
  {
   "cell_type": "code",
   "execution_count": 613,
   "metadata": {},
   "outputs": [],
   "source": [
    "assert np.allclose(tot_ut_multiple_sks_quick(optimal_sks(t, b, l, beta, delta, alpha, theta, k0, first =False), k0, l, b, beta, theta, alpha, delta),tot_ut_multiple_sks_quick(optimal_sks2(t, b, l, beta, delta, alpha, theta, k0, first =False), k0, l, b, beta, theta, alpha, delta))\n",
    "    \n",
    "def loop1(times):\n",
    "    for i in range(times):\n",
    "        optimal_sks(t, b, l, beta, delta, alpha, theta, k0)\n",
    "        \n",
    "def loop2(times):\n",
    "    for i in range(times):\n",
    "        optimal_sks2(t, b, l, beta, delta, alpha, theta, k0)"
   ]
  },
  {
   "cell_type": "code",
   "execution_count": 614,
   "metadata": {},
   "outputs": [
    {
     "name": "stdout",
     "output_type": "stream",
     "text": [
      "638 ms ± 73.4 ms per loop (mean ± std. dev. of 7 runs, 1 loop each)\n",
      "636 ms ± 23.1 ms per loop (mean ± std. dev. of 7 runs, 1 loop each)\n"
     ]
    }
   ],
   "source": [
    "%timeit loop1(times)\n",
    "%timeit loop2(times)"
   ]
  },
  {
   "cell_type": "code",
   "execution_count": 615,
   "metadata": {},
   "outputs": [
    {
     "data": {
      "text/plain": [
       "Timer unit: 1e-06 s\n",
       "\n",
       "Total time: 0.798335 s\n",
       "File: <ipython-input-548-62e2313c9cec>\n",
       "Function: optimal_sks at line 1\n",
       "\n",
       "Line #      Hits         Time  Per Hit   % Time  Line Contents\n",
       "==============================================================\n",
       "     1                                           def optimal_sks(t, b, l, beta, delta, alpha, theta, k0, first=True):\n",
       "     2         5          8.0      1.6      0.0      obj = lambda sks: -tot_ut_multiple_sks2(sks, k0, l, b, beta, theta, alpha, delta)\n",
       "     3         5        450.0     90.0      0.1      sks0 = np.linspace(alpha,0,t)\n",
       "     4                                           \n",
       "     5         5        115.0     23.0      0.0      bounds = np.full((t,2),[0,1])\n",
       "     6         5     797671.0 159534.2     99.9      res = optimize.minimize(obj, sks0, method='SLSQP', bounds=bounds)\n",
       "     7         5         69.0     13.8      0.0      if res.success == False:\n",
       "     8                                                   print('Optimization was sadly not succesfull')\n",
       "     9         5          5.0      1.0      0.0      elif first:\n",
       "    10         5         17.0      3.4      0.0          return res.x[0]\n",
       "    11                                               else:\n",
       "    12                                                   return res.x\n",
       "\n",
       "Total time: 0.798448 s\n",
       "File: <ipython-input-613-1ca2e949ade3>\n",
       "Function: loop1 at line 3\n",
       "\n",
       "Line #      Hits         Time  Per Hit   % Time  Line Contents\n",
       "==============================================================\n",
       "     3                                           def loop1(times):\n",
       "     4         6         21.0      3.5      0.0      for i in range(times):\n",
       "     5         5     798427.0 159685.4    100.0          optimal_sks(t, b, l, beta, delta, alpha, theta, k0)"
      ]
     },
     "metadata": {},
     "output_type": "display_data"
    }
   ],
   "source": [
    "%lprun -f optimal_sks -f loop1 loop1(times)"
   ]
  }
 ],
 "metadata": {
  "kernelspec": {
   "display_name": "Python 3",
   "language": "python",
   "name": "python3"
  },
  "language_info": {
   "codemirror_mode": {
    "name": "ipython",
    "version": 3
   },
   "file_extension": ".py",
   "mimetype": "text/x-python",
   "name": "python",
   "nbconvert_exporter": "python",
   "pygments_lexer": "ipython3",
   "version": "3.7.1"
  }
 },
 "nbformat": 4,
 "nbformat_minor": 2
}
