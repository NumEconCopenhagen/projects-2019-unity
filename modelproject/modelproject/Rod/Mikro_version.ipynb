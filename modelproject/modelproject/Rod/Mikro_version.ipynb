{
 "cells": [
  {
   "cell_type": "code",
   "execution_count": 142,
   "metadata": {},
   "outputs": [
    {
     "name": "stdout",
     "output_type": "stream",
     "text": [
      "The line_profiler extension is already loaded. To reload it, use:\n",
      "  %reload_ext line_profiler\n"
     ]
    }
   ],
   "source": [
    "import matplotlib.pyplot as plt\n",
    "from scipy import optimize\n",
    "import numpy as np\n",
    "import sympy as sm\n",
    "import func\n",
    "import time\n",
    "%load_ext line_profiler\n",
    "%reload_ext line_profiler"
   ]
  },
  {
   "cell_type": "code",
   "execution_count": 145,
   "metadata": {},
   "outputs": [],
   "source": [
    "def utility(c,theta):\n",
    "    ''' Utility function for consumption including the limit case for rho->1 '''\n",
    "    if c<0:\n",
    "        raise error\n",
    "    if rho !=1 :\n",
    "        return (c**(1-theta)-1)/(1-theta)\n",
    "    else:\n",
    "        return np.log(c)\n",
    "\n",
    "def total_utility(c, beta, theta, k):\n",
    "    '''\n",
    "    Sums utility for c for multiple years\n",
    "    c is an array \n",
    "    '''\n",
    "    t_u = 0\n",
    "    for i,ct in enumerate(c):\n",
    "        t_u += beta**i*utility(ct,theta)\n",
    "    t_u += beta**(len(c))*utility(k,theta)\n",
    "    return t_u\n",
    "\n",
    "def prod(k,l,alpha,b):\n",
    "    return b*k**alpha*l**(1-alpha)"
   ]
  },
  {
   "cell_type": "code",
   "execution_count": 251,
   "metadata": {},
   "outputs": [],
   "source": [
    "def tot_ut2(c, beta, theta, k):\n",
    "    t_u = 0\n",
    "    for i in range(len(c)):\n",
    "        t_u += beta**i*utility(c[i],theta)\n",
    "    t_u += beta**(len(c))*utility(k,theta)\n",
    "    return t_u"
   ]
  },
  {
   "cell_type": "code",
   "execution_count": 265,
   "metadata": {},
   "outputs": [
    {
     "data": {
      "text/plain": [
       "Timer unit: 1e-06 s\n",
       "\n",
       "Total time: 0.000715 s\n",
       "File: <ipython-input-251-506b471cc1b3>\n",
       "Function: tot_ut2 at line 1\n",
       "\n",
       "Line #      Hits         Time  Per Hit   % Time  Line Contents\n",
       "==============================================================\n",
       "     1                                           def tot_ut2(c, beta, theta, k):\n",
       "     2         1          4.0      4.0      0.6      t_u = 0\n",
       "     3       101        116.0      1.1     16.2      for i in range(len(c)):\n",
       "     4       100        589.0      5.9     82.4          t_u += beta**i*utility(c[i],theta)\n",
       "     5         1          5.0      5.0      0.7      t_u += beta**(len(c))*utility(k,theta)\n",
       "     6         1          1.0      1.0      0.1      return t_u"
      ]
     },
     "metadata": {},
     "output_type": "display_data"
    }
   ],
   "source": [
    "%lprun -f tot_ut2 tot_ut2(c, beta, theta, k)"
   ]
  },
  {
   "cell_type": "code",
   "execution_count": 270,
   "metadata": {},
   "outputs": [
    {
     "data": {
      "text/plain": [
       "Timer unit: 1e-06 s\n",
       "\n",
       "Total time: 0.001086 s\n",
       "File: <ipython-input-145-fa141ec671e5>\n",
       "Function: total_utility at line 10\n",
       "\n",
       "Line #      Hits         Time  Per Hit   % Time  Line Contents\n",
       "==============================================================\n",
       "    10                                           def total_utility(c, beta, theta, k):\n",
       "    11                                               '''\n",
       "    12                                               Sums utility for c for multiple years\n",
       "    13                                               c is an array \n",
       "    14                                               '''\n",
       "    15         1          3.0      3.0      0.3      t_u = 0\n",
       "    16       101        233.0      2.3     21.5      for i,ct in enumerate(c):\n",
       "    17       100        837.0      8.4     77.1          t_u += beta**i*utility(ct,theta)\n",
       "    18         1         12.0     12.0      1.1      t_u += beta**(len(c))*utility(ct,theta)\n",
       "    19         1          1.0      1.0      0.1      return t_u"
      ]
     },
     "metadata": {},
     "output_type": "display_data"
    }
   ],
   "source": [
    "%lprun -f total_utility total_utility(c, beta, theta, k)"
   ]
  },
  {
   "cell_type": "markdown",
   "metadata": {},
   "source": [
    "# Fast opsparingsrate"
   ]
  },
  {
   "cell_type": "code",
   "execution_count": 4,
   "metadata": {},
   "outputs": [],
   "source": [
    "theta = 0.5\n",
    "alpha = 1/3\n",
    "delta = 0.05\n",
    "rho = 0.5"
   ]
  },
  {
   "cell_type": "code",
   "execution_count": 5,
   "metadata": {},
   "outputs": [],
   "source": [
    "t = 1000\n",
    "b = 10\n",
    "k0 = 10\n",
    "l = 1\n",
    "beta = 0.9"
   ]
  },
  {
   "cell_type": "code",
   "execution_count": 6,
   "metadata": {},
   "outputs": [],
   "source": [
    "n = 100\n",
    "ks = np.linspace(0.1,200,n)\n",
    "sks = np.zeros(n)\n",
    "for i,k in enumerate(ks):\n",
    "    sks[i] = opt_sk(t, b, beta,delta,alpha,theta,k)"
   ]
  },
  {
   "cell_type": "code",
   "execution_count": 7,
   "metadata": {},
   "outputs": [
    {
     "data": {
      "image/png": "[encoded data removed]",
      "text/plain": [
       "<Figure size 432x288 with 1 Axes>"
      ]
     },
     "metadata": {
      "needs_background": "light"
     },
     "output_type": "display_data"
    }
   ],
   "source": [
    "func.plot(ks,sks)"
   ]
  },
  {
   "cell_type": "markdown",
   "metadata": {},
   "source": [
    "# Varierende opsparingsrate"
   ]
  },
  {
   "cell_type": "code",
   "execution_count": 120,
   "metadata": {},
   "outputs": [],
   "source": [
    "def tot_ut_multiple_sks(sks, k0, l, b, beta, theta, alpha, delta, vector=False):\n",
    "    '''\n",
    "    Finds total utitilty for a set of years with a savingsrate for each year\n",
    "    '''\n",
    "    t = len(sks)\n",
    "    k_short = np.empty(t)\n",
    "    k_short[0] = k0\n",
    "    \n",
    "    for i in range(1,t):    \n",
    "        k_short[i]=sks[i-1]*prod(k_short[i-1],l,alpha,b)+(1-delta)*k_short[i-1]\n",
    "    y_short = [prod(k,l,alpha,b) for k in k_short]\n",
    "    if vector==False:\n",
    "        return total_utility(y_short*(1-sks), beta, theta, k_short[-1])\n",
    "    elif vector==True:\n",
    "        return total_utility(y_short*(1-sks), beta, theta, k_short[-1]), y_short, y_short*(1-sks), k_short"
   ]
  },
  {
   "cell_type": "code",
   "execution_count": 75,
   "metadata": {},
   "outputs": [],
   "source": [
    "theta = 0.9\n",
    "alpha = 1/3\n",
    "delta = 0.05\n",
    "beta = 1\n",
    "b = 10\n",
    "k0 = 1\n",
    "l = 10"
   ]
  },
  {
   "cell_type": "code",
   "execution_count": 90,
   "metadata": {},
   "outputs": [
    {
     "name": "stdout",
     "output_type": "stream",
     "text": [
      "Optimal sk\n",
      "[0.6152 0.6445 0.6292 0.605  0.581  0.5585 0.538  0.5191 0.5016 0.4854\n",
      " 0.4702 0.456  0.4425 0.4295 0.4172 0.4052 0.3936 0.3821 0.3708 0.3597\n",
      " 0.3484 0.3371 0.3256 0.3138 0.3017 0.2891 0.276  0.2621 0.2472 0.2313\n",
      " 0.2141 0.1954 0.1748 0.1519 0.1262 0.097  0.0636 0.0247 0.     0.\n",
      " 0.     0.     0.     0.     0.     0.     0.     0.     0.     0.    ]\n",
      "Total utility:\n",
      "414.7627\n"
     ]
    }
   ],
   "source": [
    "t = 50\n",
    "obj = lambda sks: -tot_ut_multiple_sks(sks, k0, l, b, beta, theta, alpha, delta)\n",
    "sks0 = np.full(t,0.3)\n",
    "sks0[-1] = 0\n",
    "bounds = np.full((t,2),[0,1])\n",
    "\n",
    "\n",
    "res = optimize.minimize(obj, sks0, method='SLSQP', bounds=bounds)\n",
    "\n",
    "print(f'Optimal sk')\n",
    "np.set_printoptions(precision=4,suppress=True)\n",
    "print(res.x)\n",
    "print('Total utility:')\n",
    "print(f'{-res.fun:.4f}')"
   ]
  },
  {
   "cell_type": "code",
   "execution_count": 91,
   "metadata": {},
   "outputs": [
    {
     "data": {
      "image/png": "[encoded data removed]",
      "text/plain": [
       "<Figure size 432x288 with 1 Axes>"
      ]
     },
     "metadata": {
      "needs_background": "light"
     },
     "output_type": "display_data"
    }
   ],
   "source": [
    "func.plot(range(t),res.x)"
   ]
  },
  {
   "cell_type": "code",
   "execution_count": 110,
   "metadata": {},
   "outputs": [],
   "source": [
    "def optimal_sks(t, b, l, beta, delta, alpha, theta, k0, first=True):\n",
    "    obj = lambda sks: -tot_ut_multiple_sks(sks, k0, l, b, beta, theta, alpha, delta)\n",
    "    sks0 = np.full(t,0.3)\n",
    "    sks0[-1] = 0\n",
    "    bounds = np.full((t,2),[0,1])\n",
    "    res = optimize.minimize(obj, sks0, method='SLSQP', bounds=bounds)\n",
    "    if res.success == False:\n",
    "        print('Optimization was sadly not succesfull')\n",
    "    elif first:\n",
    "        return res.x[0]\n",
    "    else:\n",
    "        return res.x"
   ]
  },
  {
   "cell_type": "code",
   "execution_count": 122,
   "metadata": {},
   "outputs": [],
   "source": [
    "theta = 0.9\n",
    "alpha = 1/3\n",
    "delta = 0.05\n",
    "beta = 1\n",
    "b = 2\n",
    "beta = 0.99\n",
    "k0 = 40\n",
    "l = 1\n",
    "t = 100"
   ]
  },
  {
   "cell_type": "code",
   "execution_count": 123,
   "metadata": {},
   "outputs": [],
   "source": [
    "sks = optimal_sks(t, b, l, beta, delta, alpha, theta, k0, first=False)\n",
    "total, y, c, k = tot_ut_multiple_sks(sks, k0, l, b, beta, theta, alpha, delta, vector=True)"
   ]
  },
  {
   "cell_type": "code",
   "execution_count": 128,
   "metadata": {},
   "outputs": [],
   "source": [
    "sks_alt = np.array([alpha for i in list(range(t))])\n",
    "total_alt, y_alt, c_alt, k_alt = tot_ut_multiple_sks(sks_alt, k0, l, b, beta, theta, alpha, delta, vector=True)"
   ]
  },
  {
   "cell_type": "code",
   "execution_count": 130,
   "metadata": {},
   "outputs": [
    {
     "data": {
      "image/png": "[encoded data removed]",
      "text/plain": [
       "<Figure size 432x288 with 1 Axes>"
      ]
     },
     "metadata": {
      "needs_background": "light"
     },
     "output_type": "display_data"
    },
    {
     "data": {
      "image/png": "[encoded data removed]",
      "text/plain": [
       "<Figure size 432x288 with 1 Axes>"
      ]
     },
     "metadata": {
      "needs_background": "light"
     },
     "output_type": "display_data"
    },
    {
     "data": {
      "image/png": "[encoded data removed]",
      "text/plain": [
       "<Figure size 432x288 with 1 Axes>"
      ]
     },
     "metadata": {
      "needs_background": "light"
     },
     "output_type": "display_data"
    }
   ],
   "source": [
    "func.plot2(range(t),sks,sks_alt)\n",
    "func.plot2(range(t),k,k_alt)\n",
    "func.plot2(range(t),c,c_alt)"
   ]
  },
  {
   "cell_type": "code",
   "execution_count": 133,
   "metadata": {},
   "outputs": [],
   "source": [
    "ks = np.linspace(0.1,100,100)\n",
    "sks1 = np.empty(100)\n",
    "\n",
    "for i, k in enumerate(ks):\n",
    "    sks1[i] = optimal_sks(t, b, l, beta, delta, alpha, theta, k)"
   ]
  },
  {
   "cell_type": "code",
   "execution_count": 134,
   "metadata": {},
   "outputs": [
    {
     "data": {
      "image/png": "[encoded data removed]",
      "text/plain": [
       "<Figure size 432x288 with 1 Axes>"
      ]
     },
     "metadata": {
      "needs_background": "light"
     },
     "output_type": "display_data"
    }
   ],
   "source": [
    "func.plot(ks,sks1)"
   ]
  },
  {
   "cell_type": "code",
   "execution_count": 21,
   "metadata": {},
   "outputs": [],
   "source": [
    "ks = np.linspace(1,600,50)\n",
    "sks1 = np.empty(50)\n",
    "\n",
    "for i, k in enumerate(ks):\n",
    "    sks1[i] = optimal_sks(t, b, beta, delta, alpha, theta, k)"
   ]
  },
  {
   "cell_type": "code",
   "execution_count": 22,
   "metadata": {},
   "outputs": [
    {
     "data": {
      "image/png": "[encoded data removed]",
      "text/plain": [
       "<Figure size 432x288 with 1 Axes>"
      ]
     },
     "metadata": {
      "needs_background": "light"
     },
     "output_type": "display_data"
    }
   ],
   "source": [
    "func.plot(ks,sks1)"
   ]
  },
  {
   "cell_type": "markdown",
   "metadata": {},
   "source": [
    "# Need for speed"
   ]
  },
  {
   "cell_type": "code",
   "execution_count": 137,
   "metadata": {},
   "outputs": [
    {
     "name": "stdout",
     "output_type": "stream",
     "text": [
      "CPU times: user 505 ms, sys: 13.1 ms, total: 518 ms\n",
      "Wall time: 506 ms\n"
     ]
    }
   ],
   "source": [
    "%time sk = optimal_sks(t, b, l, beta, delta, alpha, theta, k0)"
   ]
  },
  {
   "cell_type": "code",
   "execution_count": 138,
   "metadata": {},
   "outputs": [
    {
     "data": {
      "text/plain": [
       "Timer unit: 1e-06 s\n",
       "\n",
       "Total time: 1.06284 s\n",
       "File: <ipython-input-110-782af4b0fee0>\n",
       "Function: optimal_sks at line 1\n",
       "\n",
       "Line #      Hits         Time  Per Hit   % Time  Line Contents\n",
       "==============================================================\n",
       "     1                                           def optimal_sks(t, b, l, beta, delta, alpha, theta, k0, first=True):\n",
       "     2         1          3.0      3.0      0.0      obj = lambda sks: -tot_ut_multiple_sks(sks, k0, l, b, beta, theta, alpha, delta)\n",
       "     3         1         26.0     26.0      0.0      sks0 = np.full(t,0.3)\n",
       "     4         1          2.0      2.0      0.0      sks0[-1] = 0\n",
       "     5         1         27.0     27.0      0.0      bounds = np.full((t,2),[0,1])\n",
       "     6         1    1062762.0 1062762.0    100.0      res = optimize.minimize(obj, sks0, method='SLSQP', bounds=bounds)\n",
       "     7         1         14.0     14.0      0.0      if res.success == False:\n",
       "     8                                                   print('Optimization was sadly not succesfull')\n",
       "     9         1          1.0      1.0      0.0      elif first:\n",
       "    10         1          4.0      4.0      0.0          return res.x[0]\n",
       "    11                                               else:\n",
       "    12                                                   return res.x\n",
       "\n",
       "Total time: 0.853842 s\n",
       "File: <ipython-input-120-2f5dae2fa68b>\n",
       "Function: tot_ut_multiple_sks at line 1\n",
       "\n",
       "Line #      Hits         Time  Per Hit   % Time  Line Contents\n",
       "==============================================================\n",
       "     1                                           def tot_ut_multiple_sks(sks, k0, l, b, beta, theta, alpha, delta, vector=False):\n",
       "     2                                               '''\n",
       "     3                                               Finds total utitilty for a set of years with a savingsrate for each year\n",
       "     4                                               '''\n",
       "     5      1021       1743.0      1.7      0.2      t = len(sks)\n",
       "     6      1021       4072.0      4.0      0.5      k_short = np.empty(t)\n",
       "     7      1021       1235.0      1.2      0.1      k_short[0] = k0\n",
       "     8                                               \n",
       "     9    102100      70171.0      0.7      8.2      for i in range(1,t):    \n",
       "    10    101079     318614.0      3.2     37.3          k_short[i]=sks[i-1]*prod(k_short[i-1],l,alpha,b)+(1-delta)*k_short[i-1]\n",
       "    11      1021     150167.0    147.1     17.6      y_short = [prod(k,l,alpha,b) for k in k_short]\n",
       "    12      1021       1138.0      1.1      0.1      if vector==False:\n",
       "    13      1021     306702.0    300.4     35.9          return total_utility(y_short*(1-sks), beta, theta, k_short[-1])\n",
       "    14                                               elif vector==True:\n",
       "    15                                                   return total_utility(y_short*(1-sks), beta, theta, k_short[-1]), y_short, y_short*(1-sks), k_short"
      ]
     },
     "metadata": {},
     "output_type": "display_data"
    }
   ],
   "source": [
    "%lprun -f tot_ut_multiple_sks -f optimal_sks optimal_sks(t, b, l, beta, delta, alpha, theta, k0)"
   ]
  }
 ],
 "metadata": {
  "kernelspec": {
   "display_name": "Python 3",
   "language": "python",
   "name": "python3"
  },
  "language_info": {
   "codemirror_mode": {
    "name": "ipython",
    "version": 3
   },
   "file_extension": ".py",
   "mimetype": "text/x-python",
   "name": "python",
   "nbconvert_exporter": "python",
   "pygments_lexer": "ipython3",
   "version": "3.7.1"
  }
 },
 "nbformat": 4,
 "nbformat_minor": 2
}
