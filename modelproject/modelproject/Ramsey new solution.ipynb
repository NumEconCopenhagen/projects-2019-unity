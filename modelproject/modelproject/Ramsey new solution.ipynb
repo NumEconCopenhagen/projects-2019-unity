{
 "cells": [
  {
   "cell_type": "code",
   "execution_count": 1,
   "metadata": {},
   "outputs": [],
   "source": [
    "import sys\n",
    "sys.path.append('../')"
   ]
  },
  {
   "cell_type": "code",
   "execution_count": 3,
   "metadata": {},
   "outputs": [],
   "source": [
    "from model_funcs import *"
   ]
  },
  {
   "cell_type": "code",
   "execution_count": 9,
   "metadata": {},
   "outputs": [
    {
     "name": "stdout",
     "output_type": "stream",
     "text": [
      "Help on function comsumption_plan in module model_funcs:\n",
      "\n",
      "comsumption_plan(t, a, n, beta, delta, alpha, theta, k0, l0)\n",
      "    Solving the micro problem, returns the entire plan for t periods \n",
      "    \n",
      "    Args:\n",
      "        t (int)         : Number of periods evaluated by the representative household\n",
      "        a (float)       : The A parameter in the production function\n",
      "        n (float)       : Yearly population growth\n",
      "        beta (float)    : Time discount factor of the representative household\n",
      "        delta (float)   : Depreciation rate\n",
      "        alpha (float)   : Alpha in the productionfunction\n",
      "        theta (float)   : Parameter in the utitlty function\n",
      "        k0 (float)      : Initial level of capital\n",
      "        l0 (float)      : Inital population\n",
      "    \n",
      "    Returns:\n",
      "        sks (np.array)      : The chosen savings rate in each period, timed by 100 to get percentage\n",
      "        k_pr_plan(np.array) : Planned level of capital in each period \n",
      "        c_pr_plan (np.array): Planned level of compsumption in each period.\n",
      "\n"
     ]
    }
   ],
   "source": []
  }
 ],
 "metadata": {
  "kernelspec": {
   "display_name": "Python 3",
   "language": "python",
   "name": "python3"
  },
  "language_info": {
   "codemirror_mode": {
    "name": "ipython",
    "version": 3
   },
   "file_extension": ".py",
   "mimetype": "text/x-python",
   "name": "python",
   "nbconvert_exporter": "python",
   "pygments_lexer": "ipython3",
   "version": "3.7.1"
  }
 },
 "nbformat": 4,
 "nbformat_minor": 2
}
