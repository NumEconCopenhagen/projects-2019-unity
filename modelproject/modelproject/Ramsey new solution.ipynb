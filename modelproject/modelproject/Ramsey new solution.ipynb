{
 "cells": [
  {
   "cell_type": "code",
   "execution_count": 5,
   "metadata": {},
   "outputs": [],
   "source": [
    "import sys\n",
    "sys.path.append('../')"
   ]
  },
  {
   "cell_type": "code",
   "execution_count": 14,
   "metadata": {},
   "outputs": [
    {
     "data": {
      "text/html": [
       "\n",
       "    <div class=\"bk-root\">\n",
       "        <a href=\"https://bokeh.pydata.org\" target=\"_blank\" class=\"bk-logo bk-logo-small bk-logo-notebook\"></a>\n",
       "        <span id=\"1293\">Loading BokehJS ...</span>\n",
       "    </div>"
      ]
     },
     "metadata": {},
     "output_type": "display_data"
    },
    {
     "data": {
      "application/javascript": [
       "\n",
       "(function(root) {\n",
       "  function now() {\n",
       "    return new Date();\n",
       "  }\n",
       "\n",
       "  var force = true;\n",
       "\n",
       "  if (typeof (root._bokeh_onload_callbacks) === \"undefined\" || force === true) {\n",
       "    root._bokeh_onload_callbacks = [];\n",
       "    root._bokeh_is_loading = undefined;\n",
       "  }\n",
       "\n",
       "  var JS_MIME_TYPE = 'application/javascript';\n",
       "  var HTML_MIME_TYPE = 'text/html';\n",
       "  var EXEC_MIME_TYPE = 'application/vnd.bokehjs_exec.v0+json';\n",
       "  var CLASS_NAME = 'output_bokeh rendered_html';\n",
       "\n",
       "  /**\n",
       "   * Render data to the DOM node\n",
       "   */\n",
       "  function render(props, node) {\n",
       "    var script = document.createElement(\"script\");\n",
       "    node.appendChild(script);\n",
       "  }\n",
       "\n",
       "  /**\n",
       "   * Handle when an output is cleared or removed\n",
       "   */\n",
       "  function handleClearOutput(event, handle) {\n",
       "    var cell = handle.cell;\n",
       "\n",
       "    var id = cell.output_area._bokeh_element_id;\n",
       "    var server_id = cell.output_area._bokeh_server_id;\n",
       "    // Clean up Bokeh references\n",
       "    if (id != null && id in Bokeh.index) {\n",
       "      Bokeh.index[id].model.document.clear();\n",
       "      delete Bokeh.index[id];\n",
       "    }\n",
       "\n",
       "    if (server_id !== undefined) {\n",
       "      // Clean up Bokeh references\n",
       "      var cmd = \"from bokeh.io.state import curstate; print(curstate().uuid_to_server['\" + server_id + \"'].get_sessions()[0].document.roots[0]._id)\";\n",
       "      cell.notebook.kernel.execute(cmd, {\n",
       "        iopub: {\n",
       "          output: function(msg) {\n",
       "            var id = msg.content.text.trim();\n",
       "            if (id in Bokeh.index) {\n",
       "              Bokeh.index[id].model.document.clear();\n",
       "              delete Bokeh.index[id];\n",
       "            }\n",
       "          }\n",
       "        }\n",
       "      });\n",
       "      // Destroy server and session\n",
       "      var cmd = \"import bokeh.io.notebook as ion; ion.destroy_server('\" + server_id + \"')\";\n",
       "      cell.notebook.kernel.execute(cmd);\n",
       "    }\n",
       "  }\n",
       "\n",
       "  /**\n",
       "   * Handle when a new output is added\n",
       "   */\n",
       "  function handleAddOutput(event, handle) {\n",
       "    var output_area = handle.output_area;\n",
       "    var output = handle.output;\n",
       "\n",
       "    // limit handleAddOutput to display_data with EXEC_MIME_TYPE content only\n",
       "    if ((output.output_type != \"display_data\") || (!output.data.hasOwnProperty(EXEC_MIME_TYPE))) {\n",
       "      return\n",
       "    }\n",
       "\n",
       "    var toinsert = output_area.element.find(\".\" + CLASS_NAME.split(' ')[0]);\n",
       "\n",
       "    if (output.metadata[EXEC_MIME_TYPE][\"id\"] !== undefined) {\n",
       "      toinsert[toinsert.length - 1].firstChild.textContent = output.data[JS_MIME_TYPE];\n",
       "      // store reference to embed id on output_area\n",
       "      output_area._bokeh_element_id = output.metadata[EXEC_MIME_TYPE][\"id\"];\n",
       "    }\n",
       "    if (output.metadata[EXEC_MIME_TYPE][\"server_id\"] !== undefined) {\n",
       "      var bk_div = document.createElement(\"div\");\n",
       "      bk_div.innerHTML = output.data[HTML_MIME_TYPE];\n",
       "      var script_attrs = bk_div.children[0].attributes;\n",
       "      for (var i = 0; i < script_attrs.length; i++) {\n",
       "        toinsert[toinsert.length - 1].firstChild.setAttribute(script_attrs[i].name, script_attrs[i].value);\n",
       "      }\n",
       "      // store reference to server id on output_area\n",
       "      output_area._bokeh_server_id = output.metadata[EXEC_MIME_TYPE][\"server_id\"];\n",
       "    }\n",
       "  }\n",
       "\n",
       "  function register_renderer(events, OutputArea) {\n",
       "\n",
       "    function append_mime(data, metadata, element) {\n",
       "      // create a DOM node to render to\n",
       "      var toinsert = this.create_output_subarea(\n",
       "        metadata,\n",
       "        CLASS_NAME,\n",
       "        EXEC_MIME_TYPE\n",
       "      );\n",
       "      this.keyboard_manager.register_events(toinsert);\n",
       "      // Render to node\n",
       "      var props = {data: data, metadata: metadata[EXEC_MIME_TYPE]};\n",
       "      render(props, toinsert[toinsert.length - 1]);\n",
       "      element.append(toinsert);\n",
       "      return toinsert\n",
       "    }\n",
       "\n",
       "    /* Handle when an output is cleared or removed */\n",
       "    events.on('clear_output.CodeCell', handleClearOutput);\n",
       "    events.on('delete.Cell', handleClearOutput);\n",
       "\n",
       "    /* Handle when a new output is added */\n",
       "    events.on('output_added.OutputArea', handleAddOutput);\n",
       "\n",
       "    /**\n",
       "     * Register the mime type and append_mime function with output_area\n",
       "     */\n",
       "    OutputArea.prototype.register_mime_type(EXEC_MIME_TYPE, append_mime, {\n",
       "      /* Is output safe? */\n",
       "      safe: true,\n",
       "      /* Index of renderer in `output_area.display_order` */\n",
       "      index: 0\n",
       "    });\n",
       "  }\n",
       "\n",
       "  // register the mime type if in Jupyter Notebook environment and previously unregistered\n",
       "  if (root.Jupyter !== undefined) {\n",
       "    var events = require('base/js/events');\n",
       "    var OutputArea = require('notebook/js/outputarea').OutputArea;\n",
       "\n",
       "    if (OutputArea.prototype.mime_types().indexOf(EXEC_MIME_TYPE) == -1) {\n",
       "      register_renderer(events, OutputArea);\n",
       "    }\n",
       "  }\n",
       "\n",
       "  \n",
       "  if (typeof (root._bokeh_timeout) === \"undefined\" || force === true) {\n",
       "    root._bokeh_timeout = Date.now() + 5000;\n",
       "    root._bokeh_failed_load = false;\n",
       "  }\n",
       "\n",
       "  var NB_LOAD_WARNING = {'data': {'text/html':\n",
       "     \"<div style='background-color: #fdd'>\\n\"+\n",
       "     \"<p>\\n\"+\n",
       "     \"BokehJS does not appear to have successfully loaded. If loading BokehJS from CDN, this \\n\"+\n",
       "     \"may be due to a slow or bad network connection. Possible fixes:\\n\"+\n",
       "     \"</p>\\n\"+\n",
       "     \"<ul>\\n\"+\n",
       "     \"<li>re-rerun `output_notebook()` to attempt to load from CDN again, or</li>\\n\"+\n",
       "     \"<li>use INLINE resources instead, as so:</li>\\n\"+\n",
       "     \"</ul>\\n\"+\n",
       "     \"<code>\\n\"+\n",
       "     \"from bokeh.resources import INLINE\\n\"+\n",
       "     \"output_notebook(resources=INLINE)\\n\"+\n",
       "     \"</code>\\n\"+\n",
       "     \"</div>\"}};\n",
       "\n",
       "  function display_loaded() {\n",
       "    var el = document.getElementById(\"1293\");\n",
       "    if (el != null) {\n",
       "      el.textContent = \"BokehJS is loading...\";\n",
       "    }\n",
       "    if (root.Bokeh !== undefined) {\n",
       "      if (el != null) {\n",
       "        el.textContent = \"BokehJS \" + root.Bokeh.version + \" successfully loaded.\";\n",
       "      }\n",
       "    } else if (Date.now() < root._bokeh_timeout) {\n",
       "      setTimeout(display_loaded, 100)\n",
       "    }\n",
       "  }\n",
       "\n",
       "\n",
       "  function run_callbacks() {\n",
       "    try {\n",
       "      root._bokeh_onload_callbacks.forEach(function(callback) { callback() });\n",
       "    }\n",
       "    finally {\n",
       "      delete root._bokeh_onload_callbacks\n",
       "    }\n",
       "    console.info(\"Bokeh: all callbacks have finished\");\n",
       "  }\n",
       "\n",
       "  function load_libs(js_urls, callback) {\n",
       "    root._bokeh_onload_callbacks.push(callback);\n",
       "    if (root._bokeh_is_loading > 0) {\n",
       "      console.log(\"Bokeh: BokehJS is being loaded, scheduling callback at\", now());\n",
       "      return null;\n",
       "    }\n",
       "    if (js_urls == null || js_urls.length === 0) {\n",
       "      run_callbacks();\n",
       "      return null;\n",
       "    }\n",
       "    console.log(\"Bokeh: BokehJS not loaded, scheduling load and callback at\", now());\n",
       "    root._bokeh_is_loading = js_urls.length;\n",
       "    for (var i = 0; i < js_urls.length; i++) {\n",
       "      var url = js_urls[i];\n",
       "      var s = document.createElement('script');\n",
       "      s.src = url;\n",
       "      s.async = false;\n",
       "      s.onreadystatechange = s.onload = function() {\n",
       "        root._bokeh_is_loading--;\n",
       "        if (root._bokeh_is_loading === 0) {\n",
       "          console.log(\"Bokeh: all BokehJS libraries loaded\");\n",
       "          run_callbacks()\n",
       "        }\n",
       "      };\n",
       "      s.onerror = function() {\n",
       "        console.warn(\"failed to load library \" + url);\n",
       "      };\n",
       "      console.log(\"Bokeh: injecting script tag for BokehJS library: \", url);\n",
       "      document.getElementsByTagName(\"head\")[0].appendChild(s);\n",
       "    }\n",
       "  };var element = document.getElementById(\"1293\");\n",
       "  if (element == null) {\n",
       "    console.log(\"Bokeh: ERROR: autoload.js configured with elementid '1293' but no matching script tag was found. \")\n",
       "    return false;\n",
       "  }\n",
       "\n",
       "  var js_urls = [\"https://cdn.pydata.org/bokeh/release/bokeh-1.0.2.min.js\", \"https://cdn.pydata.org/bokeh/release/bokeh-widgets-1.0.2.min.js\", \"https://cdn.pydata.org/bokeh/release/bokeh-tables-1.0.2.min.js\", \"https://cdn.pydata.org/bokeh/release/bokeh-gl-1.0.2.min.js\"];\n",
       "\n",
       "  var inline_js = [\n",
       "    function(Bokeh) {\n",
       "      Bokeh.set_log_level(\"info\");\n",
       "    },\n",
       "    \n",
       "    function(Bokeh) {\n",
       "      \n",
       "    },\n",
       "    function(Bokeh) {\n",
       "      console.log(\"Bokeh: injecting CSS: https://cdn.pydata.org/bokeh/release/bokeh-1.0.2.min.css\");\n",
       "      Bokeh.embed.inject_css(\"https://cdn.pydata.org/bokeh/release/bokeh-1.0.2.min.css\");\n",
       "      console.log(\"Bokeh: injecting CSS: https://cdn.pydata.org/bokeh/release/bokeh-widgets-1.0.2.min.css\");\n",
       "      Bokeh.embed.inject_css(\"https://cdn.pydata.org/bokeh/release/bokeh-widgets-1.0.2.min.css\");\n",
       "      console.log(\"Bokeh: injecting CSS: https://cdn.pydata.org/bokeh/release/bokeh-tables-1.0.2.min.css\");\n",
       "      Bokeh.embed.inject_css(\"https://cdn.pydata.org/bokeh/release/bokeh-tables-1.0.2.min.css\");\n",
       "    }\n",
       "  ];\n",
       "\n",
       "  function run_inline_js() {\n",
       "    \n",
       "    if ((root.Bokeh !== undefined) || (force === true)) {\n",
       "      for (var i = 0; i < inline_js.length; i++) {\n",
       "        inline_js[i].call(root, root.Bokeh);\n",
       "      }if (force === true) {\n",
       "        display_loaded();\n",
       "      }} else if (Date.now() < root._bokeh_timeout) {\n",
       "      setTimeout(run_inline_js, 100);\n",
       "    } else if (!root._bokeh_failed_load) {\n",
       "      console.log(\"Bokeh: BokehJS failed to load within specified timeout.\");\n",
       "      root._bokeh_failed_load = true;\n",
       "    } else if (force !== true) {\n",
       "      var cell = $(document.getElementById(\"1293\")).parents('.cell').data().cell;\n",
       "      cell.output_area.append_execute_result(NB_LOAD_WARNING)\n",
       "    }\n",
       "\n",
       "  }\n",
       "\n",
       "  if (root._bokeh_is_loading === 0) {\n",
       "    console.log(\"Bokeh: BokehJS loaded, going straight to plotting\");\n",
       "    run_inline_js();\n",
       "  } else {\n",
       "    load_libs(js_urls, function() {\n",
       "      console.log(\"Bokeh: BokehJS plotting callback run at\", now());\n",
       "      run_inline_js();\n",
       "    });\n",
       "  }\n",
       "}(window));"
      ],
      "application/vnd.bokehjs_load.v0+json": "\n(function(root) {\n  function now() {\n    return new Date();\n  }\n\n  var force = true;\n\n  if (typeof (root._bokeh_onload_callbacks) === \"undefined\" || force === true) {\n    root._bokeh_onload_callbacks = [];\n    root._bokeh_is_loading = undefined;\n  }\n\n  \n\n  \n  if (typeof (root._bokeh_timeout) === \"undefined\" || force === true) {\n    root._bokeh_timeout = Date.now() + 5000;\n    root._bokeh_failed_load = false;\n  }\n\n  var NB_LOAD_WARNING = {'data': {'text/html':\n     \"<div style='background-color: #fdd'>\\n\"+\n     \"<p>\\n\"+\n     \"BokehJS does not appear to have successfully loaded. If loading BokehJS from CDN, this \\n\"+\n     \"may be due to a slow or bad network connection. Possible fixes:\\n\"+\n     \"</p>\\n\"+\n     \"<ul>\\n\"+\n     \"<li>re-rerun `output_notebook()` to attempt to load from CDN again, or</li>\\n\"+\n     \"<li>use INLINE resources instead, as so:</li>\\n\"+\n     \"</ul>\\n\"+\n     \"<code>\\n\"+\n     \"from bokeh.resources import INLINE\\n\"+\n     \"output_notebook(resources=INLINE)\\n\"+\n     \"</code>\\n\"+\n     \"</div>\"}};\n\n  function display_loaded() {\n    var el = document.getElementById(\"1293\");\n    if (el != null) {\n      el.textContent = \"BokehJS is loading...\";\n    }\n    if (root.Bokeh !== undefined) {\n      if (el != null) {\n        el.textContent = \"BokehJS \" + root.Bokeh.version + \" successfully loaded.\";\n      }\n    } else if (Date.now() < root._bokeh_timeout) {\n      setTimeout(display_loaded, 100)\n    }\n  }\n\n\n  function run_callbacks() {\n    try {\n      root._bokeh_onload_callbacks.forEach(function(callback) { callback() });\n    }\n    finally {\n      delete root._bokeh_onload_callbacks\n    }\n    console.info(\"Bokeh: all callbacks have finished\");\n  }\n\n  function load_libs(js_urls, callback) {\n    root._bokeh_onload_callbacks.push(callback);\n    if (root._bokeh_is_loading > 0) {\n      console.log(\"Bokeh: BokehJS is being loaded, scheduling callback at\", now());\n      return null;\n    }\n    if (js_urls == null || js_urls.length === 0) {\n      run_callbacks();\n      return null;\n    }\n    console.log(\"Bokeh: BokehJS not loaded, scheduling load and callback at\", now());\n    root._bokeh_is_loading = js_urls.length;\n    for (var i = 0; i < js_urls.length; i++) {\n      var url = js_urls[i];\n      var s = document.createElement('script');\n      s.src = url;\n      s.async = false;\n      s.onreadystatechange = s.onload = function() {\n        root._bokeh_is_loading--;\n        if (root._bokeh_is_loading === 0) {\n          console.log(\"Bokeh: all BokehJS libraries loaded\");\n          run_callbacks()\n        }\n      };\n      s.onerror = function() {\n        console.warn(\"failed to load library \" + url);\n      };\n      console.log(\"Bokeh: injecting script tag for BokehJS library: \", url);\n      document.getElementsByTagName(\"head\")[0].appendChild(s);\n    }\n  };var element = document.getElementById(\"1293\");\n  if (element == null) {\n    console.log(\"Bokeh: ERROR: autoload.js configured with elementid '1293' but no matching script tag was found. \")\n    return false;\n  }\n\n  var js_urls = [\"https://cdn.pydata.org/bokeh/release/bokeh-1.0.2.min.js\", \"https://cdn.pydata.org/bokeh/release/bokeh-widgets-1.0.2.min.js\", \"https://cdn.pydata.org/bokeh/release/bokeh-tables-1.0.2.min.js\", \"https://cdn.pydata.org/bokeh/release/bokeh-gl-1.0.2.min.js\"];\n\n  var inline_js = [\n    function(Bokeh) {\n      Bokeh.set_log_level(\"info\");\n    },\n    \n    function(Bokeh) {\n      \n    },\n    function(Bokeh) {\n      console.log(\"Bokeh: injecting CSS: https://cdn.pydata.org/bokeh/release/bokeh-1.0.2.min.css\");\n      Bokeh.embed.inject_css(\"https://cdn.pydata.org/bokeh/release/bokeh-1.0.2.min.css\");\n      console.log(\"Bokeh: injecting CSS: https://cdn.pydata.org/bokeh/release/bokeh-widgets-1.0.2.min.css\");\n      Bokeh.embed.inject_css(\"https://cdn.pydata.org/bokeh/release/bokeh-widgets-1.0.2.min.css\");\n      console.log(\"Bokeh: injecting CSS: https://cdn.pydata.org/bokeh/release/bokeh-tables-1.0.2.min.css\");\n      Bokeh.embed.inject_css(\"https://cdn.pydata.org/bokeh/release/bokeh-tables-1.0.2.min.css\");\n    }\n  ];\n\n  function run_inline_js() {\n    \n    if ((root.Bokeh !== undefined) || (force === true)) {\n      for (var i = 0; i < inline_js.length; i++) {\n        inline_js[i].call(root, root.Bokeh);\n      }if (force === true) {\n        display_loaded();\n      }} else if (Date.now() < root._bokeh_timeout) {\n      setTimeout(run_inline_js, 100);\n    } else if (!root._bokeh_failed_load) {\n      console.log(\"Bokeh: BokehJS failed to load within specified timeout.\");\n      root._bokeh_failed_load = true;\n    } else if (force !== true) {\n      var cell = $(document.getElementById(\"1293\")).parents('.cell').data().cell;\n      cell.output_area.append_execute_result(NB_LOAD_WARNING)\n    }\n\n  }\n\n  if (root._bokeh_is_loading === 0) {\n    console.log(\"Bokeh: BokehJS loaded, going straight to plotting\");\n    run_inline_js();\n  } else {\n    load_libs(js_urls, function() {\n      console.log(\"Bokeh: BokehJS plotting callback run at\", now());\n      run_inline_js();\n    });\n  }\n}(window));"
     },
     "metadata": {},
     "output_type": "display_data"
    }
   ],
   "source": [
    "from model_funcs import *\n",
    "from bokeh.io import output_notebook,show\n",
    "output_notebook()"
   ]
  },
  {
   "cell_type": "code",
   "execution_count": 132,
   "metadata": {},
   "outputs": [],
   "source": [
    "alpha = 0.33\n",
    "delta = 0.05\n",
    "n = 0.01\n",
    "sk = 0.2\n",
    "\n",
    "\n",
    "# production:\n",
    "a = 1\n",
    "k0 = 5\n",
    "l0 = 1\n",
    "theta = 0.5\n",
    "beta = 0.99\n",
    "\n",
    "\n",
    "t = 50"
   ]
  },
  {
   "cell_type": "code",
   "execution_count": 228,
   "metadata": {},
   "outputs": [
    {
     "data": {
      "text/plain": [
       "(10.076366058037316, 0.28207518894565353)"
      ]
     },
     "execution_count": 228,
     "metadata": {},
     "output_type": "execute_result"
    }
   ],
   "source": [
    "find_ss(100, a, n, beta, delta, alpha, theta, bracket=[0.01,30])"
   ]
  },
  {
   "cell_type": "code",
   "execution_count": 66,
   "metadata": {},
   "outputs": [],
   "source": [
    "sks, k_pr_plan, c_pr_plan = comsumption_plan(200, a, n, beta, delta, alpha, theta, k0, l0)"
   ]
  },
  {
   "cell_type": "code",
   "execution_count": 67,
   "metadata": {},
   "outputs": [
    {
     "name": "stdout",
     "output_type": "stream",
     "text": [
      "94\n",
      "steady state savings rate: 28.202199708015023\n"
     ]
    }
   ],
   "source": [
    "i=0\n",
    "max=len(sks)\n",
    "while i<max:\n",
    "    if np.isclose(sks[i],sks[i+1]):\n",
    "        print(i)\n",
    "        print(f'steady state savings rate: {sks[i]}')\n",
    "        break\n",
    "    i += 1"
   ]
  },
  {
   "cell_type": "code",
   "execution_count": 206,
   "metadata": {},
   "outputs": [],
   "source": [
    "t = 200\n",
    "l = np.array([l0*(1+n)**i for i in range(t)])\n",
    "weight = np.array([beta**i for i in range(t)])"
   ]
  },
  {
   "cell_type": "code",
   "execution_count": 208,
   "metadata": {},
   "outputs": [],
   "source": [
    "sks = optimal_sks(t, a, l, weight, delta, alpha, theta, k0, first=False)"
   ]
  },
  {
   "cell_type": "code",
   "execution_count": 209,
   "metadata": {},
   "outputs": [
    {
     "name": "stdout",
     "output_type": "stream",
     "text": [
      "94\n",
      "steady state savings rate: 0.28202199708015024\n"
     ]
    }
   ],
   "source": [
    "i=0\n",
    "max=t\n",
    "while i<max:\n",
    "    if np.isclose(sks[i],sks[i+1]):\n",
    "        print(i)\n",
    "        print(f'steady state savings rate: {sks[i]}')\n",
    "        break\n",
    "    i += 1"
   ]
  },
  {
   "cell_type": "code",
   "execution_count": 168,
   "metadata": {},
   "outputs": [
    {
     "data": {
      "text/plain": [
       "100"
      ]
     },
     "execution_count": 168,
     "metadata": {},
     "output_type": "execute_result"
    }
   ],
   "source": []
  },
  {
   "cell_type": "code",
   "execution_count": 234,
   "metadata": {},
   "outputs": [],
   "source": [
    "def find_ss_alt(a, n, beta, delta, alpha, theta, k0,l0):\n",
    "    t = 200\n",
    "    weight = np.array([beta**i for i in range(t)])\n",
    "    l = l0*np.array([(1+n)**i for i in range(t)])\n",
    "    \n",
    "    sks = optimal_sks(t, a, l, weight, delta, alpha, theta, k0, first=False)\n",
    "    ss_sk = False\n",
    "    i = int(0.25*t)\n",
    "    while i < int(0.75*t):\n",
    "        if np.isclose(sks[i],sks[i+1]):\n",
    "            ss_sk = sks[i]\n",
    "            break\n",
    "\n",
    "        i+=1\n",
    "\n",
    "    if ss_sk==False:\n",
    "        # We try again with a longer timerframe\n",
    "        t = 400\n",
    "        weight = np.array([beta**i for i in range(t)])\n",
    "        l = l0*np.array([(1+n)**i for i in range(t)])\n",
    "    \n",
    "        sks = optimal_sks(t, a, l, weight, delta, alpha, theta, k0, first=False)\n",
    "        i=0\n",
    "        while i < t:\n",
    "            if np.isclose(sks[i],sks[i+1]):\n",
    "                ss_sk=sks[i]\n",
    "                break\n",
    "            \n",
    "            i += 1 \n",
    "    # We use the analytical solution to find the steady state of capital\n",
    "    # for this savings rate:\n",
    "    ss_k = find_ssk_k(ss_sk,a,delta,n,alpha)\n",
    "    return ss_sk, ss_k"
   ]
  },
  {
   "cell_type": "code",
   "execution_count": 232,
   "metadata": {},
   "outputs": [
    {
     "data": {
      "text/plain": [
       "10.073530168579872"
      ]
     },
     "execution_count": 232,
     "metadata": {},
     "output_type": "execute_result"
    }
   ],
   "source": [
    "ss_sk, ss_k = find_ss_alt(a, n, beta, delta, alpha, theta, k0,l0)\n",
    "ss_k"
   ]
  },
  {
   "cell_type": "code",
   "execution_count": 233,
   "metadata": {},
   "outputs": [
    {
     "data": {
      "text/plain": [
       "0.28202199708015024"
      ]
     },
     "execution_count": 233,
     "metadata": {},
     "output_type": "execute_result"
    }
   ],
   "source": [
    "ss_sk"
   ]
  },
  {
   "cell_type": "code",
   "execution_count": 154,
   "metadata": {},
   "outputs": [
    {
     "name": "stdout",
     "output_type": "stream",
     "text": [
      "0\n",
      "1\n",
      "2\n",
      "3\n",
      "4\n"
     ]
    }
   ],
   "source": [
    "i=0\n",
    "while i<10:\n",
    "    print(i)\n",
    "    if i==4:\n",
    "        if i>5:\n",
    "            break\n",
    "        else:\n",
    "            break\n",
    "    i += 1"
   ]
  },
  {
   "cell_type": "code",
   "execution_count": 142,
   "metadata": {},
   "outputs": [
    {
     "data": {
      "text/plain": [
       "False"
      ]
     },
     "execution_count": 142,
     "metadata": {},
     "output_type": "execute_result"
    }
   ],
   "source": [
    "np.isclose(sol,0)"
   ]
  },
  {
   "cell_type": "code",
   "execution_count": 131,
   "metadata": {},
   "outputs": [
    {
     "name": "stdout",
     "output_type": "stream",
     "text": [
      "0.000000010\n"
     ]
    }
   ],
   "source": [
    "print(f'{sol:.9f}')"
   ]
  },
  {
   "cell_type": "code",
   "execution_count": 23,
   "metadata": {},
   "outputs": [
    {
     "data": {
      "application/vnd.jupyter.widget-view+json": {
       "model_id": "8452bac463804eeb92198174934fcab6",
       "version_major": 2,
       "version_minor": 0
      },
      "text/plain": [
       "Output()"
      ]
     },
     "metadata": {},
     "output_type": "display_data"
    },
    {
     "data": {
      "application/vnd.jupyter.widget-view+json": {
       "model_id": "027bcc38f1f34f609e5e3b7c4c46ff9a",
       "version_major": 2,
       "version_minor": 0
      },
      "text/plain": [
       "HBox(children=(IntSlider(value=200, description='T', max=500, min=10, orientation='vertical', step=10), FloatS…"
      ]
     },
     "metadata": {},
     "output_type": "display_data"
    },
    {
     "data": {
      "text/html": [
       "\n",
       "\n",
       "\n",
       "\n",
       "\n",
       "\n",
       "  <div class=\"bk-root\" id=\"1e5938d3-311a-4378-96fd-f0d2a354058d\"></div>\n"
      ]
     },
     "metadata": {},
     "output_type": "display_data"
    },
    {
     "data": {
      "application/javascript": [
       "(function(root) {\n",
       "  function embed_document(root) {\n",
       "    \n",
       "  var docs_json = {\"4d715ce6-d542-49ae-a888-dafdded9ae2d\":{\"roots\":{\"references\":[{\"attributes\":{\"children\":[{\"id\":\"1691\",\"type\":\"Column\"},{\"id\":\"1605\",\"subtype\":\"Figure\",\"type\":\"Plot\"}]},\"id\":\"1692\",\"type\":\"Row\"},{\"attributes\":{},\"id\":\"1625\",\"type\":\"PanTool\"},{\"attributes\":{\"callback\":null},\"id\":\"1571\",\"type\":\"DataRange1d\"},{\"attributes\":{\"line_alpha\":0.1,\"line_color\":\"#1f77b4\",\"x\":{\"field\":\"T\"},\"y\":{\"field\":\"c_pr\"}},\"id\":\"1687\",\"type\":\"Line\"},{\"attributes\":{},\"id\":\"1575\",\"type\":\"LinearScale\"},{\"attributes\":{},\"id\":\"1626\",\"type\":\"WheelZoomTool\"},{\"attributes\":{\"data_source\":{\"id\":\"1566\",\"type\":\"ColumnDataSource\"},\"glyph\":{\"id\":\"1686\",\"type\":\"Line\"},\"hover_glyph\":null,\"muted_glyph\":null,\"nonselection_glyph\":{\"id\":\"1687\",\"type\":\"Line\"},\"selection_glyph\":null,\"view\":{\"id\":\"1689\",\"type\":\"CDSView\"}},\"id\":\"1688\",\"type\":\"GlyphRenderer\"},{\"attributes\":{\"overlay\":{\"id\":\"1633\",\"type\":\"BoxAnnotation\"}},\"id\":\"1627\",\"type\":\"BoxZoomTool\"},{\"attributes\":{\"below\":[{\"id\":\"1615\",\"type\":\"LinearAxis\"}],\"left\":[{\"id\":\"1620\",\"type\":\"LinearAxis\"}],\"plot_height\":430,\"plot_width\":430,\"renderers\":[{\"id\":\"1615\",\"type\":\"LinearAxis\"},{\"id\":\"1619\",\"type\":\"Grid\"},{\"id\":\"1620\",\"type\":\"LinearAxis\"},{\"id\":\"1624\",\"type\":\"Grid\"},{\"id\":\"1633\",\"type\":\"BoxAnnotation\"},{\"id\":\"1683\",\"type\":\"GlyphRenderer\"}],\"title\":{\"id\":\"1604\",\"type\":\"Title\"},\"toolbar\":{\"id\":\"1630\",\"type\":\"Toolbar\"},\"x_range\":{\"id\":\"1607\",\"type\":\"DataRange1d\"},\"x_scale\":{\"id\":\"1611\",\"type\":\"LinearScale\"},\"y_range\":{\"id\":\"1609\",\"type\":\"DataRange1d\"},\"y_scale\":{\"id\":\"1613\",\"type\":\"LinearScale\"}},\"id\":\"1605\",\"subtype\":\"Figure\",\"type\":\"Plot\"},{\"attributes\":{\"source\":{\"id\":\"1566\",\"type\":\"ColumnDataSource\"}},\"id\":\"1689\",\"type\":\"CDSView\"},{\"attributes\":{\"plot\":null,\"text\":\"Savingsrate in %\"},\"id\":\"1568\",\"type\":\"Title\"},{\"attributes\":{},\"id\":\"1628\",\"type\":\"ResetTool\"},{\"attributes\":{},\"id\":\"1717\",\"type\":\"BasicTickFormatter\"},{\"attributes\":{},\"id\":\"1629\",\"type\":\"SaveTool\"},{\"attributes\":{},\"id\":\"1719\",\"type\":\"BasicTickFormatter\"},{\"attributes\":{\"active_drag\":\"auto\",\"active_inspect\":\"auto\",\"active_multi\":null,\"active_scroll\":\"auto\",\"active_tap\":\"auto\",\"tools\":[{\"id\":\"1603\",\"type\":\"HoverTool\"},{\"id\":\"1625\",\"type\":\"PanTool\"},{\"id\":\"1626\",\"type\":\"WheelZoomTool\"},{\"id\":\"1627\",\"type\":\"BoxZoomTool\"},{\"id\":\"1628\",\"type\":\"ResetTool\"},{\"id\":\"1629\",\"type\":\"SaveTool\"}]},\"id\":\"1630\",\"type\":\"Toolbar\"},{\"attributes\":{},\"id\":\"1721\",\"type\":\"BasicTickFormatter\"},{\"attributes\":{\"below\":[{\"id\":\"1579\",\"type\":\"LinearAxis\"}],\"left\":[{\"id\":\"1584\",\"type\":\"LinearAxis\"}],\"plot_height\":430,\"plot_width\":430,\"renderers\":[{\"id\":\"1579\",\"type\":\"LinearAxis\"},{\"id\":\"1583\",\"type\":\"Grid\"},{\"id\":\"1584\",\"type\":\"LinearAxis\"},{\"id\":\"1588\",\"type\":\"Grid\"},{\"id\":\"1597\",\"type\":\"BoxAnnotation\"},{\"id\":\"1678\",\"type\":\"GlyphRenderer\"}],\"title\":{\"id\":\"1568\",\"type\":\"Title\"},\"toolbar\":{\"id\":\"1594\",\"type\":\"Toolbar\"},\"x_range\":{\"id\":\"1571\",\"type\":\"DataRange1d\"},\"x_scale\":{\"id\":\"1575\",\"type\":\"LinearScale\"},\"y_range\":{\"id\":\"1573\",\"type\":\"DataRange1d\"},\"y_scale\":{\"id\":\"1577\",\"type\":\"LinearScale\"}},\"id\":\"1569\",\"subtype\":\"Figure\",\"type\":\"Plot\"},{\"attributes\":{\"bottom_units\":\"screen\",\"fill_alpha\":{\"value\":0.5},\"fill_color\":{\"value\":\"lightgrey\"},\"left_units\":\"screen\",\"level\":\"overlay\",\"line_alpha\":{\"value\":1.0},\"line_color\":{\"value\":\"black\"},\"line_dash\":[4,4],\"line_width\":{\"value\":2},\"plot\":null,\"render_mode\":\"css\",\"right_units\":\"screen\",\"top_units\":\"screen\"},\"id\":\"1633\",\"type\":\"BoxAnnotation\"},{\"attributes\":{},\"id\":\"1723\",\"type\":\"BasicTickFormatter\"},{\"attributes\":{},\"id\":\"1577\",\"type\":\"LinearScale\"},{\"attributes\":{},\"id\":\"1725\",\"type\":\"BasicTickFormatter\"},{\"attributes\":{\"callback\":null},\"id\":\"1643\",\"type\":\"DataRange1d\"},{\"attributes\":{\"dimension\":1,\"plot\":{\"id\":\"1605\",\"subtype\":\"Figure\",\"type\":\"Plot\"},\"ticker\":{\"id\":\"1621\",\"type\":\"BasicTicker\"}},\"id\":\"1624\",\"type\":\"Grid\"},{\"attributes\":{},\"id\":\"1727\",\"type\":\"BasicTickFormatter\"},{\"attributes\":{\"below\":[{\"id\":\"1651\",\"type\":\"LinearAxis\"}],\"left\":[{\"id\":\"1656\",\"type\":\"LinearAxis\"}],\"plot_height\":430,\"plot_width\":430,\"renderers\":[{\"id\":\"1651\",\"type\":\"LinearAxis\"},{\"id\":\"1655\",\"type\":\"Grid\"},{\"id\":\"1656\",\"type\":\"LinearAxis\"},{\"id\":\"1660\",\"type\":\"Grid\"},{\"id\":\"1669\",\"type\":\"BoxAnnotation\"},{\"id\":\"1688\",\"type\":\"GlyphRenderer\"}],\"title\":{\"id\":\"1640\",\"type\":\"Title\"},\"toolbar\":{\"id\":\"1666\",\"type\":\"Toolbar\"},\"x_range\":{\"id\":\"1643\",\"type\":\"DataRange1d\"},\"x_scale\":{\"id\":\"1647\",\"type\":\"LinearScale\"},\"y_range\":{\"id\":\"1645\",\"type\":\"DataRange1d\"},\"y_scale\":{\"id\":\"1649\",\"type\":\"LinearScale\"}},\"id\":\"1641\",\"subtype\":\"Figure\",\"type\":\"Plot\"},{\"attributes\":{\"callback\":null},\"id\":\"1645\",\"type\":\"DataRange1d\"},{\"attributes\":{},\"id\":\"1729\",\"type\":\"Selection\"},{\"attributes\":{},\"id\":\"1647\",\"type\":\"LinearScale\"},{\"attributes\":{},\"id\":\"1730\",\"type\":\"UnionRenderers\"},{\"attributes\":{\"axis_label\":\"T\",\"formatter\":{\"id\":\"1723\",\"type\":\"BasicTickFormatter\"},\"plot\":{\"id\":\"1569\",\"subtype\":\"Figure\",\"type\":\"Plot\"},\"ticker\":{\"id\":\"1580\",\"type\":\"BasicTicker\"}},\"id\":\"1579\",\"type\":\"LinearAxis\"},{\"attributes\":{},\"id\":\"1649\",\"type\":\"LinearScale\"},{\"attributes\":{\"dimension\":1,\"plot\":{\"id\":\"1569\",\"subtype\":\"Figure\",\"type\":\"Plot\"},\"ticker\":{\"id\":\"1585\",\"type\":\"BasicTicker\"}},\"id\":\"1588\",\"type\":\"Grid\"},{\"attributes\":{\"axis_label\":\"T\",\"formatter\":{\"id\":\"1727\",\"type\":\"BasicTickFormatter\"},\"plot\":{\"id\":\"1641\",\"subtype\":\"Figure\",\"type\":\"Plot\"},\"ticker\":{\"id\":\"1652\",\"type\":\"BasicTicker\"}},\"id\":\"1651\",\"type\":\"LinearAxis\"},{\"attributes\":{\"callback\":null},\"id\":\"1573\",\"type\":\"DataRange1d\"},{\"attributes\":{\"callback\":null,\"tooltips\":[[\"T\",\"@T\"],[\"Capital pr. capita\",\"@k_pr{0.00}\"]]},\"id\":\"1603\",\"type\":\"HoverTool\"},{\"attributes\":{},\"id\":\"1652\",\"type\":\"BasicTicker\"},{\"attributes\":{\"plot\":{\"id\":\"1641\",\"subtype\":\"Figure\",\"type\":\"Plot\"},\"ticker\":{\"id\":\"1652\",\"type\":\"BasicTicker\"}},\"id\":\"1655\",\"type\":\"Grid\"},{\"attributes\":{\"callback\":null,\"tooltips\":[[\"T\",\"@T\"],[\"Consumption pr. capita\",\"@c_pr{0.00}\"]]},\"id\":\"1639\",\"type\":\"HoverTool\"},{\"attributes\":{},\"id\":\"1580\",\"type\":\"BasicTicker\"},{\"attributes\":{\"axis_label\":\"Consumption pr. capita\",\"formatter\":{\"id\":\"1725\",\"type\":\"BasicTickFormatter\"},\"plot\":{\"id\":\"1641\",\"subtype\":\"Figure\",\"type\":\"Plot\"},\"ticker\":{\"id\":\"1657\",\"type\":\"BasicTicker\"}},\"id\":\"1656\",\"type\":\"LinearAxis\"},{\"attributes\":{\"callback\":null,\"tooltips\":[[\"T\",\"@T\"],[\"Savings rate\",\"@sks{0.00} %\"]]},\"id\":\"1567\",\"type\":\"HoverTool\"},{\"attributes\":{\"plot\":null,\"text\":\"Consumption pr. capita\"},\"id\":\"1640\",\"type\":\"Title\"},{\"attributes\":{},\"id\":\"1657\",\"type\":\"BasicTicker\"},{\"attributes\":{},\"id\":\"1589\",\"type\":\"PanTool\"},{\"attributes\":{\"dimension\":1,\"plot\":{\"id\":\"1641\",\"subtype\":\"Figure\",\"type\":\"Plot\"},\"ticker\":{\"id\":\"1657\",\"type\":\"BasicTicker\"}},\"id\":\"1660\",\"type\":\"Grid\"},{\"attributes\":{\"plot\":{\"id\":\"1569\",\"subtype\":\"Figure\",\"type\":\"Plot\"},\"ticker\":{\"id\":\"1580\",\"type\":\"BasicTicker\"}},\"id\":\"1583\",\"type\":\"Grid\"},{\"attributes\":{},\"id\":\"1590\",\"type\":\"WheelZoomTool\"},{\"attributes\":{\"line_color\":\"blue\",\"x\":{\"field\":\"T\"},\"y\":{\"field\":\"sks\"}},\"id\":\"1676\",\"type\":\"Line\"},{\"attributes\":{\"overlay\":{\"id\":\"1597\",\"type\":\"BoxAnnotation\"}},\"id\":\"1591\",\"type\":\"BoxZoomTool\"},{\"attributes\":{\"axis_label\":\"Savingsrate in %\",\"formatter\":{\"id\":\"1721\",\"type\":\"BasicTickFormatter\"},\"plot\":{\"id\":\"1569\",\"subtype\":\"Figure\",\"type\":\"Plot\"},\"ticker\":{\"id\":\"1585\",\"type\":\"BasicTicker\"}},\"id\":\"1584\",\"type\":\"LinearAxis\"},{\"attributes\":{},\"id\":\"1661\",\"type\":\"PanTool\"},{\"attributes\":{},\"id\":\"1592\",\"type\":\"ResetTool\"},{\"attributes\":{},\"id\":\"1662\",\"type\":\"WheelZoomTool\"},{\"attributes\":{},\"id\":\"1593\",\"type\":\"SaveTool\"},{\"attributes\":{\"overlay\":{\"id\":\"1669\",\"type\":\"BoxAnnotation\"}},\"id\":\"1663\",\"type\":\"BoxZoomTool\"},{\"attributes\":{\"active_drag\":\"auto\",\"active_inspect\":\"auto\",\"active_multi\":null,\"active_scroll\":\"auto\",\"active_tap\":\"auto\",\"tools\":[{\"id\":\"1567\",\"type\":\"HoverTool\"},{\"id\":\"1589\",\"type\":\"PanTool\"},{\"id\":\"1590\",\"type\":\"WheelZoomTool\"},{\"id\":\"1591\",\"type\":\"BoxZoomTool\"},{\"id\":\"1592\",\"type\":\"ResetTool\"},{\"id\":\"1593\",\"type\":\"SaveTool\"}]},\"id\":\"1594\",\"type\":\"Toolbar\"},{\"attributes\":{},\"id\":\"1664\",\"type\":\"ResetTool\"},{\"attributes\":{\"plot\":null,\"text\":\"Capita pr. capita\"},\"id\":\"1604\",\"type\":\"Title\"},{\"attributes\":{},\"id\":\"1665\",\"type\":\"SaveTool\"},{\"attributes\":{\"bottom_units\":\"screen\",\"fill_alpha\":{\"value\":0.5},\"fill_color\":{\"value\":\"lightgrey\"},\"left_units\":\"screen\",\"level\":\"overlay\",\"line_alpha\":{\"value\":1.0},\"line_color\":{\"value\":\"black\"},\"line_dash\":[4,4],\"line_width\":{\"value\":2},\"plot\":null,\"render_mode\":\"css\",\"right_units\":\"screen\",\"top_units\":\"screen\"},\"id\":\"1597\",\"type\":\"BoxAnnotation\"},{\"attributes\":{\"active_drag\":\"auto\",\"active_inspect\":\"auto\",\"active_multi\":null,\"active_scroll\":\"auto\",\"active_tap\":\"auto\",\"tools\":[{\"id\":\"1639\",\"type\":\"HoverTool\"},{\"id\":\"1661\",\"type\":\"PanTool\"},{\"id\":\"1662\",\"type\":\"WheelZoomTool\"},{\"id\":\"1663\",\"type\":\"BoxZoomTool\"},{\"id\":\"1664\",\"type\":\"ResetTool\"},{\"id\":\"1665\",\"type\":\"SaveTool\"}]},\"id\":\"1666\",\"type\":\"Toolbar\"},{\"attributes\":{\"line_alpha\":0.1,\"line_color\":\"#1f77b4\",\"x\":{\"field\":\"T\"},\"y\":{\"field\":\"sks\"}},\"id\":\"1677\",\"type\":\"Line\"},{\"attributes\":{\"callback\":null},\"id\":\"1607\",\"type\":\"DataRange1d\"},{\"attributes\":{\"bottom_units\":\"screen\",\"fill_alpha\":{\"value\":0.5},\"fill_color\":{\"value\":\"lightgrey\"},\"left_units\":\"screen\",\"level\":\"overlay\",\"line_alpha\":{\"value\":1.0},\"line_color\":{\"value\":\"black\"},\"line_dash\":[4,4],\"line_width\":{\"value\":2},\"plot\":null,\"render_mode\":\"css\",\"right_units\":\"screen\",\"top_units\":\"screen\"},\"id\":\"1669\",\"type\":\"BoxAnnotation\"},{\"attributes\":{\"callback\":null},\"id\":\"1609\",\"type\":\"DataRange1d\"},{\"attributes\":{\"data_source\":{\"id\":\"1566\",\"type\":\"ColumnDataSource\"},\"glyph\":{\"id\":\"1676\",\"type\":\"Line\"},\"hover_glyph\":null,\"muted_glyph\":null,\"nonselection_glyph\":{\"id\":\"1677\",\"type\":\"Line\"},\"selection_glyph\":null,\"view\":{\"id\":\"1679\",\"type\":\"CDSView\"}},\"id\":\"1678\",\"type\":\"GlyphRenderer\"},{\"attributes\":{},\"id\":\"1611\",\"type\":\"LinearScale\"},{\"attributes\":{\"callback\":null,\"data\":{\"T\":[0,1,2,3,4,5,6,7,8,9,10,11,12,13,14,15,16,17,18,19,20,21,22,23,24,25,26,27,28,29,30,31,32,33,34,35,36,37,38,39,40,41,42,43,44,45,46,47,48,49,50,51,52,53,54,55,56,57,58,59,60,61,62,63,64,65,66,67,68,69,70,71,72,73,74,75,76,77,78,79,80,81,82,83,84,85,86,87,88,89,90,91,92,93,94,95,96,97,98,99,100,101,102,103,104,105,106,107,108,109,110,111,112,113,114,115,116,117,118,119,120,121,122,123,124,125,126,127,128,129,130,131,132,133,134,135,136,137,138,139,140,141,142,143,144,145,146,147,148,149,150,151,152,153,154,155,156,157,158,159,160,161,162,163,164,165,166,167,168,169,170,171,172,173,174,175,176,177,178,179,180,181,182,183,184,185,186,187,188,189,190,191,192,193,194,195,196,197,198,199],\"c_pr\":{\"__ndarray__\":\"vo5NMD+i9D+WaOY8fA31Pw/Cu8ylbfU/IivfFtTD9T/lKCf6CRH2PzHu558tVvY/15cj1xOU9j8pn9Moesv2P43O59EK/fY/g5j2mmEp9z8/rhAhCVH3PytpiLd+dPc/xxQM7TSU9z9t4Y+cjrD3PwfIxGTlyfc/ygoC6Y7g9z/t3wTvy/T3P1DOxYjiBvg/3WUk6A4X+D/KWLyLhSX4P+6RPndsMvg/rq2Hrfk9+D8Z+GxRR0j4PwdCNcB/Ufg/rWSzlrlZ+D8UJjgRE2H4P6jp8fakZ/g/hM1OeoRt+D8AqggOwHL4PzLcKCZvd/g/EGILa597+D/tY0IhXX/4PyLUsQOxgvg/AcTyK6uF+D+qzSoKVYj4P0ZjNge1ivg/AZcI1NKM+D9lLHFSto74P1VrSV9jkPg/ZUROleaR+D/kIIauPZP4PwOt7vBvlPg/SWbA6ICV+D8BxWauc5b4P+NPlL1Ml/g/TBFnOA+Y+D9lfh1Iu5j4PyYo8E1Umfg/T9GEudyZ+D9wSoSFV5r4P2llCRDGmvg/ZiHbnyeb+D8v2HdPf5v4P55dtyjPm/g/Ho0pwhKc+D8YqYeHUJz4PwyzalyKnPg/RfB1Qbuc+D9brbjL6Zz4P48JuuMRnfg/scvxyTed+D+tZiWRWp34P7ytluV6nfg/nJ8r9Jad+D9X0Ph3r534P7mtqL3Jnfg/K2/G/tyd+D9qFDje8534PzUE3vwHnvg/VrS/uRie+D/S/Uy6KZ74P3I614s8nvg/ZRYLnEme+D8/BE2qWZ74Pwh6zT1mnvg/wMMEj3Ke+D+jaD3Bf574PzZz+vSLnvg/HBubO5ae+D8PjXH2n574P6+XJvCpnvg/QHABvbGe+D/hAqQCu574P7ws5sHCnvg/MHQWdsme+D8p5CIu0J74P1vnLEnUnvg/lNfsl9ye+D8N6M1U3574P/Ju9qzinvg/bEz8vOSe+D/p5y496p74P2ILps7snvg/IiszE+2e+D9OMrOx7J74P7qmdJftnvg/Jb3A6u2e+D8AWwQw7p74P8Qopl/snvg/oq7+7+ue+D8A5dYK7J74PziZYILrnvg/WYXRjOme+D8icpNA6J74P/HnKhLonvg/GNQGCuee+D8qvTAO6J74P2kDFR7onvg/Yft2jOee+D/qnJEY6J74Pxmgo2Pqnvg/2a1uiuye+D+gNxtM7574PwNc/a/wnvg/fakw2vWe+D99eJPv+p74Pxheifr9nvg/TaiewgOf+D/PSA0DCJ/4P2hh4PYPn/g/IOoUCBif+D/8Rai8IJ/4P6xa6Uwqn/g/egy3ZDSf+D/W6nAmQJ/4Px5Dfx9Qn/g/i3F+712f+D/ohfEkb5/4P2sLDs6Dn/g/+JuJHpuf+D9Ca40rtJ/4PzNeG7/Tn/g/3eanC/ef+D+NfJXSIKD4P+mR/IFOoPg/jmE9K4eg+D8QrH3KxaD4PyeL1DESofg/Dr+jl2Sh+D/IOEfZyKH4Pxz1HPo6ovg/idl+ob2i+D9CdMnyVKP4P3ncEUUApPg/E4wNgsWk+D92ptTIo6X4P5J5IxChpvg/C+V1dMKn+D+SC8RPB6n4P0mR3fp4qvg/KY1xuhis+D9+Ly187a34PwyCGaT9r/g/IIVEuk+y+D/C7j2j67T4P1cAdYHZt/g/wJs5VyW7+D9d8W011774P98+CvX9wvg/PrA2hKrH+D9Bvvv26cz4P+Bh5+bT0vg/lM73AoDZ+D+Jp4qmA+H4P3fLpOuE6fg/4dpbQSLz+D8XcGtyD/74P3arGF5yCvk/tCAe3YsY+T9jXkwdoyj5P5BKPdEEO/k/AF+K1BZQ+T/vMoguRGj5P8Uc3gEXhPk/uXXT6TKk+T/TUl4JWsn5P0MxUXdp9Pk/1G2hEHUm+j/lg7vTymD6P1V4uI3qpPo/3pMUq6z0+j8WWztWPVL7Pz+UA6knwPs/lcfmBG1B/D8jBaPKf9n8PwRHV7M2jP0/PJ7zoKpd/j/2fmU5iZX+P6zt9eXi+P0/XiHN615f/T/gZVg97cj8P1b4PR9+Nfw/BuS3JgKl+z8tTPc3ahf7P8H3j4SnjPo/uvTriasE+j+PKccPaH/5PyissibP/Pg/l7afJtN8+D94EnKtZv/3Pw==\",\"dtype\":\"float64\",\"shape\":[200]},\"k_pr\":{\"__ndarray__\":\"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\",\"dtype\":\"float64\",\"shape\":[200]},\"sks\":{\"__ndarray__\":\"gJwQ5RSJQUDDIt75DCpBQFnShtFj1UBAjZY8BfWJQEBIjvbDt0ZAQIF9C1PICkBAyavCRKyqP0BcJfcXWEs/QIZoAKhU9j5ADaV4BX+qPkDSqUQM2WY+QNGMYKB+Kj5A3+Ak2J70PUDNXZEti8Q9QH15jq+lmT1APUNTLlJzPUDcqJIsKFE9QEagxCOoMj1ALw8GQmcXPUCn8QIYCv88QNZHJV1Z6TxACKbGR+rVPED8ibz3nMQ8QMWwf9setTxA4vp3zlGnPECbwyiU/po8QDEeoAX6jzxANICmRyCGPECjtlSDXn08QFoair+FdTxAvLiFiIBuPEAp3rO4O2g8QHD5JOysYjxAJkmyH7NdPEA7W7GaPlk8QJTyX0BHVTxAEaHhZcBRPEDmJsLPm048QFimG/LVSzxAjq69QlFJPEBtEaDjGUc8QMCxRH0gRTxA2oktmV9DPEDJn/ub0kE8QCZedXZwQDxAiPCybTM/PEAkLBUHHj48QNdUDWYpPTxAWPP6+FA8PEAILctEjjs8QJybzBjfOjxAnuOVL0c6PEBelzk5vzk8QFOKHJJCOTxAAK9mHt84PEDeBtjQgzg8QApIL+krODxAIgOBeOY3PEAhVYOFoTc8QDuQU0ZpNzxAi47WNDI3PEAuLCVJ/zY8QIOIVPTONjxAADoI2KY2PED3rtdmhTY8QMws1KZbNjxAU0SL5UI2PEB8hcsaHTY8QCSMHE78NTxAm5eas+I1PEBGdUQgxjU8QHMP7v2hNTxAR4KPF4w1PEB3Foa6azU8QEulXlJTNTxAlxrF9jk1PEBFOIRbHDU8QLZGwtH/NDxABTioMec0PEDl0Dm4zjQ8QK4QGSe0NDxAmyC+gJ40PEBBJutvgzQ8QKFhAXhrNDxAbSC9ZlU0PEDAs/ZJPjQ8QGviscgtNDxAdSXYYRA0PECOJCH2ATQ8QL5S807xMzxAmAs21uMzPEBvtJ72yzM8QAmVEcO7MzxAkGSnzrEzPEBzfsGcqTM8QD8Ao6adMzxAufX+IZMzPEA5AGShiDM8QJ9NvBGEMzxA3p6Xp3szPECOjL2gcTM8QFmGDllpMzxA7Il6NGUzPEB+xqBRXzM8QOhmjERWMzxAL1lioE8zPEAjRrEQQzM8QGiipAo5MzxA6NjMvzAzPEB06ycvJTM8QLYi11gUMzxADQOWfAMzPEAigBJx8DI8QJhXbN7gMjxAnY8V+MUyPED7uVBvqjI8QAD4uvuTMjxA6Gzi9nQyPEDLmRFsWTI8QKL5plAyMjxAJY3rjQkyPEAEKGaV3TE8QFIwkqetMTxALG8BlnoxPECBxPX5QDE8QJl4ZR/5MDxAWsLE/LQwPECkxTOnZDA8QAREm3AHMDxAkdqxJJ8vPEA+wp8ELi88QGnKB86lLjxA/RCRrw0uPECerq8HXS08QLU7l1SaLDxAabtnVbArPEC2sqX9qyo8QGO7HYd1KTxA2xqBiyEoPEDL8aZujCY8QMqr4RK/JDxAHG2liK8iPEAZOOIhTyA8QJNNx4ycHTxAyzAlWYMaPECDsTr/ARc8QDCO5xMDEzxA2bLrunIOPEAn5CQVTQk8QMPQDxtxAzxABNOh4tP8O0Auw6yvWfU7QK8/DTLn7DtARZsQmF/jO0DDE+vwoNg7QI7cBTWHzDtA1euClOG+O0ArEeysiK87QCc/YbY/njtAHcFxJsGKO0BTlpmez3Q7QLJNFVIMXDtAwHfMzBNAO0Ci2dHFhCA7QFfjP1TI/DpAd3/ZiVbUOkCJTqMEYqY6QFMBsYI7cjpApcMFI9s2OkA6LL+tF/M5QO/H2nqmpTlAGJ/nrt5MOUCRfwBh7eY4QOO49XCEcThA7eZ80uDpN0C6rLEKsEw3QE2wM5MLljZAn5YjGxPBNUAKtwkmxMc0QCUPft7qojNAMW0033hJMkDRlV6PQrAwQBa5OPjYki1AXPo3F/wGKUDsBked6pAjQKVF/Gq+8RlAVDigPfDdA0D1yMyg98awPo3ttaD3xrA+je21oPfGsD5oGgGh98awPnE9F6H3xrA+je21oPfGsD6N7bWg98awPo3ttaD3xrA+je21oPfGsD6N7bWg98awPo3ttaD3xrA+je21oPfGsD6N7bWg98awPg==\",\"dtype\":\"float64\",\"shape\":[200]}},\"selected\":{\"id\":\"1729\",\"type\":\"Selection\"},\"selection_policy\":{\"id\":\"1730\",\"type\":\"UnionRenderers\"}},\"id\":\"1566\",\"type\":\"ColumnDataSource\"},{\"attributes\":{\"source\":{\"id\":\"1566\",\"type\":\"ColumnDataSource\"}},\"id\":\"1679\",\"type\":\"CDSView\"},{\"attributes\":{},\"id\":\"1613\",\"type\":\"LinearScale\"},{\"attributes\":{\"axis_label\":\"T\",\"formatter\":{\"id\":\"1719\",\"type\":\"BasicTickFormatter\"},\"plot\":{\"id\":\"1605\",\"subtype\":\"Figure\",\"type\":\"Plot\"},\"ticker\":{\"id\":\"1616\",\"type\":\"BasicTicker\"}},\"id\":\"1615\",\"type\":\"LinearAxis\"},{\"attributes\":{\"children\":[{\"id\":\"1569\",\"subtype\":\"Figure\",\"type\":\"Plot\"},{\"id\":\"1641\",\"subtype\":\"Figure\",\"type\":\"Plot\"}]},\"id\":\"1691\",\"type\":\"Column\"},{\"attributes\":{\"line_color\":\"blue\",\"x\":{\"field\":\"T\"},\"y\":{\"field\":\"k_pr\"}},\"id\":\"1681\",\"type\":\"Line\"},{\"attributes\":{},\"id\":\"1585\",\"type\":\"BasicTicker\"},{\"attributes\":{\"line_alpha\":0.1,\"line_color\":\"#1f77b4\",\"x\":{\"field\":\"T\"},\"y\":{\"field\":\"k_pr\"}},\"id\":\"1682\",\"type\":\"Line\"},{\"attributes\":{},\"id\":\"1616\",\"type\":\"BasicTicker\"},{\"attributes\":{\"data_source\":{\"id\":\"1566\",\"type\":\"ColumnDataSource\"},\"glyph\":{\"id\":\"1681\",\"type\":\"Line\"},\"hover_glyph\":null,\"muted_glyph\":null,\"nonselection_glyph\":{\"id\":\"1682\",\"type\":\"Line\"},\"selection_glyph\":null,\"view\":{\"id\":\"1684\",\"type\":\"CDSView\"}},\"id\":\"1683\",\"type\":\"GlyphRenderer\"},{\"attributes\":{\"plot\":{\"id\":\"1605\",\"subtype\":\"Figure\",\"type\":\"Plot\"},\"ticker\":{\"id\":\"1616\",\"type\":\"BasicTicker\"}},\"id\":\"1619\",\"type\":\"Grid\"},{\"attributes\":{\"source\":{\"id\":\"1566\",\"type\":\"ColumnDataSource\"}},\"id\":\"1684\",\"type\":\"CDSView\"},{\"attributes\":{\"axis_label\":\"Capita pr. capita\",\"formatter\":{\"id\":\"1717\",\"type\":\"BasicTickFormatter\"},\"plot\":{\"id\":\"1605\",\"subtype\":\"Figure\",\"type\":\"Plot\"},\"ticker\":{\"id\":\"1621\",\"type\":\"BasicTicker\"}},\"id\":\"1620\",\"type\":\"LinearAxis\"},{\"attributes\":{},\"id\":\"1621\",\"type\":\"BasicTicker\"},{\"attributes\":{\"line_color\":\"blue\",\"x\":{\"field\":\"T\"},\"y\":{\"field\":\"c_pr\"}},\"id\":\"1686\",\"type\":\"Line\"}],\"root_ids\":[\"1692\"]},\"title\":\"Bokeh Application\",\"version\":\"1.0.2\"}};\n",
       "  var render_items = [{\"docid\":\"4d715ce6-d542-49ae-a888-dafdded9ae2d\",\"notebook_comms_target\":\"1733\",\"roots\":{\"1692\":\"1e5938d3-311a-4378-96fd-f0d2a354058d\"}}];\n",
       "  root.Bokeh.embed.embed_items_notebook(docs_json, render_items);\n",
       "\n",
       "  }\n",
       "  if (root.Bokeh !== undefined) {\n",
       "    embed_document(root);\n",
       "  } else {\n",
       "    var attempts = 0;\n",
       "    var timer = setInterval(function(root) {\n",
       "      if (root.Bokeh !== undefined) {\n",
       "        embed_document(root);\n",
       "        clearInterval(timer);\n",
       "      }\n",
       "      attempts++;\n",
       "      if (attempts > 100) {\n",
       "        console.log(\"Bokeh: ERROR: Unable to run BokehJS code because BokehJS library is missing\");\n",
       "        clearInterval(timer);\n",
       "      }\n",
       "    }, 10, root)\n",
       "  }\n",
       "})(window);"
      ],
      "application/vnd.bokehjs_exec.v0+json": ""
     },
     "metadata": {
      "application/vnd.bokehjs_exec.v0+json": {
       "id": "1692"
      }
     },
     "output_type": "display_data"
    }
   ],
   "source": [
    "plotting_plan()"
   ]
  }
 ],
 "metadata": {
  "kernelspec": {
   "display_name": "Python 3",
   "language": "python",
   "name": "python3"
  },
  "language_info": {
   "codemirror_mode": {
    "name": "ipython",
    "version": 3
   },
   "file_extension": ".py",
   "mimetype": "text/x-python",
   "name": "python",
   "nbconvert_exporter": "python",
   "pygments_lexer": "ipython3",
   "version": "3.7.1"
  }
 },
 "nbformat": 4,
 "nbformat_minor": 2
}
