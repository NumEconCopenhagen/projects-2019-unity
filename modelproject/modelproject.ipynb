{
 "cells": [
  {
   "cell_type": "code",
   "execution_count": 1,
   "metadata": {},
   "outputs": [],
   "source": [
    "%load_ext autoreload\n",
    "%autoreload 2"
   ]
  },
  {
   "cell_type": "code",
   "execution_count": 2,
   "metadata": {},
   "outputs": [
    {
     "data": {
      "text/html": [
       "\n",
       "    <div class=\"bk-root\">\n",
       "        <a href=\"https://bokeh.pydata.org\" target=\"_blank\" class=\"bk-logo bk-logo-small bk-logo-notebook\"></a>\n",
       "        <span id=\"1001\">Loading BokehJS ...</span>\n",
       "    </div>"
      ]
     },
     "metadata": {},
     "output_type": "display_data"
    },
    {
     "data": {
      "application/javascript": [
       "\n",
       "(function(root) {\n",
       "  function now() {\n",
       "    return new Date();\n",
       "  }\n",
       "\n",
       "  var force = true;\n",
       "\n",
       "  if (typeof (root._bokeh_onload_callbacks) === \"undefined\" || force === true) {\n",
       "    root._bokeh_onload_callbacks = [];\n",
       "    root._bokeh_is_loading = undefined;\n",
       "  }\n",
       "\n",
       "  var JS_MIME_TYPE = 'application/javascript';\n",
       "  var HTML_MIME_TYPE = 'text/html';\n",
       "  var EXEC_MIME_TYPE = 'application/vnd.bokehjs_exec.v0+json';\n",
       "  var CLASS_NAME = 'output_bokeh rendered_html';\n",
       "\n",
       "  /**\n",
       "   * Render data to the DOM node\n",
       "   */\n",
       "  function render(props, node) {\n",
       "    var script = document.createElement(\"script\");\n",
       "    node.appendChild(script);\n",
       "  }\n",
       "\n",
       "  /**\n",
       "   * Handle when an output is cleared or removed\n",
       "   */\n",
       "  function handleClearOutput(event, handle) {\n",
       "    var cell = handle.cell;\n",
       "\n",
       "    var id = cell.output_area._bokeh_element_id;\n",
       "    var server_id = cell.output_area._bokeh_server_id;\n",
       "    // Clean up Bokeh references\n",
       "    if (id != null && id in Bokeh.index) {\n",
       "      Bokeh.index[id].model.document.clear();\n",
       "      delete Bokeh.index[id];\n",
       "    }\n",
       "\n",
       "    if (server_id !== undefined) {\n",
       "      // Clean up Bokeh references\n",
       "      var cmd = \"from bokeh.io.state import curstate; print(curstate().uuid_to_server['\" + server_id + \"'].get_sessions()[0].document.roots[0]._id)\";\n",
       "      cell.notebook.kernel.execute(cmd, {\n",
       "        iopub: {\n",
       "          output: function(msg) {\n",
       "            var id = msg.content.text.trim();\n",
       "            if (id in Bokeh.index) {\n",
       "              Bokeh.index[id].model.document.clear();\n",
       "              delete Bokeh.index[id];\n",
       "            }\n",
       "          }\n",
       "        }\n",
       "      });\n",
       "      // Destroy server and session\n",
       "      var cmd = \"import bokeh.io.notebook as ion; ion.destroy_server('\" + server_id + \"')\";\n",
       "      cell.notebook.kernel.execute(cmd);\n",
       "    }\n",
       "  }\n",
       "\n",
       "  /**\n",
       "   * Handle when a new output is added\n",
       "   */\n",
       "  function handleAddOutput(event, handle) {\n",
       "    var output_area = handle.output_area;\n",
       "    var output = handle.output;\n",
       "\n",
       "    // limit handleAddOutput to display_data with EXEC_MIME_TYPE content only\n",
       "    if ((output.output_type != \"display_data\") || (!output.data.hasOwnProperty(EXEC_MIME_TYPE))) {\n",
       "      return\n",
       "    }\n",
       "\n",
       "    var toinsert = output_area.element.find(\".\" + CLASS_NAME.split(' ')[0]);\n",
       "\n",
       "    if (output.metadata[EXEC_MIME_TYPE][\"id\"] !== undefined) {\n",
       "      toinsert[toinsert.length - 1].firstChild.textContent = output.data[JS_MIME_TYPE];\n",
       "      // store reference to embed id on output_area\n",
       "      output_area._bokeh_element_id = output.metadata[EXEC_MIME_TYPE][\"id\"];\n",
       "    }\n",
       "    if (output.metadata[EXEC_MIME_TYPE][\"server_id\"] !== undefined) {\n",
       "      var bk_div = document.createElement(\"div\");\n",
       "      bk_div.innerHTML = output.data[HTML_MIME_TYPE];\n",
       "      var script_attrs = bk_div.children[0].attributes;\n",
       "      for (var i = 0; i < script_attrs.length; i++) {\n",
       "        toinsert[toinsert.length - 1].firstChild.setAttribute(script_attrs[i].name, script_attrs[i].value);\n",
       "      }\n",
       "      // store reference to server id on output_area\n",
       "      output_area._bokeh_server_id = output.metadata[EXEC_MIME_TYPE][\"server_id\"];\n",
       "    }\n",
       "  }\n",
       "\n",
       "  function register_renderer(events, OutputArea) {\n",
       "\n",
       "    function append_mime(data, metadata, element) {\n",
       "      // create a DOM node to render to\n",
       "      var toinsert = this.create_output_subarea(\n",
       "        metadata,\n",
       "        CLASS_NAME,\n",
       "        EXEC_MIME_TYPE\n",
       "      );\n",
       "      this.keyboard_manager.register_events(toinsert);\n",
       "      // Render to node\n",
       "      var props = {data: data, metadata: metadata[EXEC_MIME_TYPE]};\n",
       "      render(props, toinsert[toinsert.length - 1]);\n",
       "      element.append(toinsert);\n",
       "      return toinsert\n",
       "    }\n",
       "\n",
       "    /* Handle when an output is cleared or removed */\n",
       "    events.on('clear_output.CodeCell', handleClearOutput);\n",
       "    events.on('delete.Cell', handleClearOutput);\n",
       "\n",
       "    /* Handle when a new output is added */\n",
       "    events.on('output_added.OutputArea', handleAddOutput);\n",
       "\n",
       "    /**\n",
       "     * Register the mime type and append_mime function with output_area\n",
       "     */\n",
       "    OutputArea.prototype.register_mime_type(EXEC_MIME_TYPE, append_mime, {\n",
       "      /* Is output safe? */\n",
       "      safe: true,\n",
       "      /* Index of renderer in `output_area.display_order` */\n",
       "      index: 0\n",
       "    });\n",
       "  }\n",
       "\n",
       "  // register the mime type if in Jupyter Notebook environment and previously unregistered\n",
       "  if (root.Jupyter !== undefined) {\n",
       "    var events = require('base/js/events');\n",
       "    var OutputArea = require('notebook/js/outputarea').OutputArea;\n",
       "\n",
       "    if (OutputArea.prototype.mime_types().indexOf(EXEC_MIME_TYPE) == -1) {\n",
       "      register_renderer(events, OutputArea);\n",
       "    }\n",
       "  }\n",
       "\n",
       "  \n",
       "  if (typeof (root._bokeh_timeout) === \"undefined\" || force === true) {\n",
       "    root._bokeh_timeout = Date.now() + 5000;\n",
       "    root._bokeh_failed_load = false;\n",
       "  }\n",
       "\n",
       "  var NB_LOAD_WARNING = {'data': {'text/html':\n",
       "     \"<div style='background-color: #fdd'>\\n\"+\n",
       "     \"<p>\\n\"+\n",
       "     \"BokehJS does not appear to have successfully loaded. If loading BokehJS from CDN, this \\n\"+\n",
       "     \"may be due to a slow or bad network connection. Possible fixes:\\n\"+\n",
       "     \"</p>\\n\"+\n",
       "     \"<ul>\\n\"+\n",
       "     \"<li>re-rerun `output_notebook()` to attempt to load from CDN again, or</li>\\n\"+\n",
       "     \"<li>use INLINE resources instead, as so:</li>\\n\"+\n",
       "     \"</ul>\\n\"+\n",
       "     \"<code>\\n\"+\n",
       "     \"from bokeh.resources import INLINE\\n\"+\n",
       "     \"output_notebook(resources=INLINE)\\n\"+\n",
       "     \"</code>\\n\"+\n",
       "     \"</div>\"}};\n",
       "\n",
       "  function display_loaded() {\n",
       "    var el = document.getElementById(\"1001\");\n",
       "    if (el != null) {\n",
       "      el.textContent = \"BokehJS is loading...\";\n",
       "    }\n",
       "    if (root.Bokeh !== undefined) {\n",
       "      if (el != null) {\n",
       "        el.textContent = \"BokehJS \" + root.Bokeh.version + \" successfully loaded.\";\n",
       "      }\n",
       "    } else if (Date.now() < root._bokeh_timeout) {\n",
       "      setTimeout(display_loaded, 100)\n",
       "    }\n",
       "  }\n",
       "\n",
       "\n",
       "  function run_callbacks() {\n",
       "    try {\n",
       "      root._bokeh_onload_callbacks.forEach(function(callback) { callback() });\n",
       "    }\n",
       "    finally {\n",
       "      delete root._bokeh_onload_callbacks\n",
       "    }\n",
       "    console.info(\"Bokeh: all callbacks have finished\");\n",
       "  }\n",
       "\n",
       "  function load_libs(js_urls, callback) {\n",
       "    root._bokeh_onload_callbacks.push(callback);\n",
       "    if (root._bokeh_is_loading > 0) {\n",
       "      console.log(\"Bokeh: BokehJS is being loaded, scheduling callback at\", now());\n",
       "      return null;\n",
       "    }\n",
       "    if (js_urls == null || js_urls.length === 0) {\n",
       "      run_callbacks();\n",
       "      return null;\n",
       "    }\n",
       "    console.log(\"Bokeh: BokehJS not loaded, scheduling load and callback at\", now());\n",
       "    root._bokeh_is_loading = js_urls.length;\n",
       "    for (var i = 0; i < js_urls.length; i++) {\n",
       "      var url = js_urls[i];\n",
       "      var s = document.createElement('script');\n",
       "      s.src = url;\n",
       "      s.async = false;\n",
       "      s.onreadystatechange = s.onload = function() {\n",
       "        root._bokeh_is_loading--;\n",
       "        if (root._bokeh_is_loading === 0) {\n",
       "          console.log(\"Bokeh: all BokehJS libraries loaded\");\n",
       "          run_callbacks()\n",
       "        }\n",
       "      };\n",
       "      s.onerror = function() {\n",
       "        console.warn(\"failed to load library \" + url);\n",
       "      };\n",
       "      console.log(\"Bokeh: injecting script tag for BokehJS library: \", url);\n",
       "      document.getElementsByTagName(\"head\")[0].appendChild(s);\n",
       "    }\n",
       "  };var element = document.getElementById(\"1001\");\n",
       "  if (element == null) {\n",
       "    console.log(\"Bokeh: ERROR: autoload.js configured with elementid '1001' but no matching script tag was found. \")\n",
       "    return false;\n",
       "  }\n",
       "\n",
       "  var js_urls = [\"https://cdn.pydata.org/bokeh/release/bokeh-1.0.2.min.js\", \"https://cdn.pydata.org/bokeh/release/bokeh-widgets-1.0.2.min.js\", \"https://cdn.pydata.org/bokeh/release/bokeh-tables-1.0.2.min.js\", \"https://cdn.pydata.org/bokeh/release/bokeh-gl-1.0.2.min.js\"];\n",
       "\n",
       "  var inline_js = [\n",
       "    function(Bokeh) {\n",
       "      Bokeh.set_log_level(\"info\");\n",
       "    },\n",
       "    \n",
       "    function(Bokeh) {\n",
       "      \n",
       "    },\n",
       "    function(Bokeh) {\n",
       "      console.log(\"Bokeh: injecting CSS: https://cdn.pydata.org/bokeh/release/bokeh-1.0.2.min.css\");\n",
       "      Bokeh.embed.inject_css(\"https://cdn.pydata.org/bokeh/release/bokeh-1.0.2.min.css\");\n",
       "      console.log(\"Bokeh: injecting CSS: https://cdn.pydata.org/bokeh/release/bokeh-widgets-1.0.2.min.css\");\n",
       "      Bokeh.embed.inject_css(\"https://cdn.pydata.org/bokeh/release/bokeh-widgets-1.0.2.min.css\");\n",
       "      console.log(\"Bokeh: injecting CSS: https://cdn.pydata.org/bokeh/release/bokeh-tables-1.0.2.min.css\");\n",
       "      Bokeh.embed.inject_css(\"https://cdn.pydata.org/bokeh/release/bokeh-tables-1.0.2.min.css\");\n",
       "    }\n",
       "  ];\n",
       "\n",
       "  function run_inline_js() {\n",
       "    \n",
       "    if ((root.Bokeh !== undefined) || (force === true)) {\n",
       "      for (var i = 0; i < inline_js.length; i++) {\n",
       "        inline_js[i].call(root, root.Bokeh);\n",
       "      }if (force === true) {\n",
       "        display_loaded();\n",
       "      }} else if (Date.now() < root._bokeh_timeout) {\n",
       "      setTimeout(run_inline_js, 100);\n",
       "    } else if (!root._bokeh_failed_load) {\n",
       "      console.log(\"Bokeh: BokehJS failed to load within specified timeout.\");\n",
       "      root._bokeh_failed_load = true;\n",
       "    } else if (force !== true) {\n",
       "      var cell = $(document.getElementById(\"1001\")).parents('.cell').data().cell;\n",
       "      cell.output_area.append_execute_result(NB_LOAD_WARNING)\n",
       "    }\n",
       "\n",
       "  }\n",
       "\n",
       "  if (root._bokeh_is_loading === 0) {\n",
       "    console.log(\"Bokeh: BokehJS loaded, going straight to plotting\");\n",
       "    run_inline_js();\n",
       "  } else {\n",
       "    load_libs(js_urls, function() {\n",
       "      console.log(\"Bokeh: BokehJS plotting callback run at\", now());\n",
       "      run_inline_js();\n",
       "    });\n",
       "  }\n",
       "}(window));"
      ],
      "application/vnd.bokehjs_load.v0+json": "\n(function(root) {\n  function now() {\n    return new Date();\n  }\n\n  var force = true;\n\n  if (typeof (root._bokeh_onload_callbacks) === \"undefined\" || force === true) {\n    root._bokeh_onload_callbacks = [];\n    root._bokeh_is_loading = undefined;\n  }\n\n  \n\n  \n  if (typeof (root._bokeh_timeout) === \"undefined\" || force === true) {\n    root._bokeh_timeout = Date.now() + 5000;\n    root._bokeh_failed_load = false;\n  }\n\n  var NB_LOAD_WARNING = {'data': {'text/html':\n     \"<div style='background-color: #fdd'>\\n\"+\n     \"<p>\\n\"+\n     \"BokehJS does not appear to have successfully loaded. If loading BokehJS from CDN, this \\n\"+\n     \"may be due to a slow or bad network connection. Possible fixes:\\n\"+\n     \"</p>\\n\"+\n     \"<ul>\\n\"+\n     \"<li>re-rerun `output_notebook()` to attempt to load from CDN again, or</li>\\n\"+\n     \"<li>use INLINE resources instead, as so:</li>\\n\"+\n     \"</ul>\\n\"+\n     \"<code>\\n\"+\n     \"from bokeh.resources import INLINE\\n\"+\n     \"output_notebook(resources=INLINE)\\n\"+\n     \"</code>\\n\"+\n     \"</div>\"}};\n\n  function display_loaded() {\n    var el = document.getElementById(\"1001\");\n    if (el != null) {\n      el.textContent = \"BokehJS is loading...\";\n    }\n    if (root.Bokeh !== undefined) {\n      if (el != null) {\n        el.textContent = \"BokehJS \" + root.Bokeh.version + \" successfully loaded.\";\n      }\n    } else if (Date.now() < root._bokeh_timeout) {\n      setTimeout(display_loaded, 100)\n    }\n  }\n\n\n  function run_callbacks() {\n    try {\n      root._bokeh_onload_callbacks.forEach(function(callback) { callback() });\n    }\n    finally {\n      delete root._bokeh_onload_callbacks\n    }\n    console.info(\"Bokeh: all callbacks have finished\");\n  }\n\n  function load_libs(js_urls, callback) {\n    root._bokeh_onload_callbacks.push(callback);\n    if (root._bokeh_is_loading > 0) {\n      console.log(\"Bokeh: BokehJS is being loaded, scheduling callback at\", now());\n      return null;\n    }\n    if (js_urls == null || js_urls.length === 0) {\n      run_callbacks();\n      return null;\n    }\n    console.log(\"Bokeh: BokehJS not loaded, scheduling load and callback at\", now());\n    root._bokeh_is_loading = js_urls.length;\n    for (var i = 0; i < js_urls.length; i++) {\n      var url = js_urls[i];\n      var s = document.createElement('script');\n      s.src = url;\n      s.async = false;\n      s.onreadystatechange = s.onload = function() {\n        root._bokeh_is_loading--;\n        if (root._bokeh_is_loading === 0) {\n          console.log(\"Bokeh: all BokehJS libraries loaded\");\n          run_callbacks()\n        }\n      };\n      s.onerror = function() {\n        console.warn(\"failed to load library \" + url);\n      };\n      console.log(\"Bokeh: injecting script tag for BokehJS library: \", url);\n      document.getElementsByTagName(\"head\")[0].appendChild(s);\n    }\n  };var element = document.getElementById(\"1001\");\n  if (element == null) {\n    console.log(\"Bokeh: ERROR: autoload.js configured with elementid '1001' but no matching script tag was found. \")\n    return false;\n  }\n\n  var js_urls = [\"https://cdn.pydata.org/bokeh/release/bokeh-1.0.2.min.js\", \"https://cdn.pydata.org/bokeh/release/bokeh-widgets-1.0.2.min.js\", \"https://cdn.pydata.org/bokeh/release/bokeh-tables-1.0.2.min.js\", \"https://cdn.pydata.org/bokeh/release/bokeh-gl-1.0.2.min.js\"];\n\n  var inline_js = [\n    function(Bokeh) {\n      Bokeh.set_log_level(\"info\");\n    },\n    \n    function(Bokeh) {\n      \n    },\n    function(Bokeh) {\n      console.log(\"Bokeh: injecting CSS: https://cdn.pydata.org/bokeh/release/bokeh-1.0.2.min.css\");\n      Bokeh.embed.inject_css(\"https://cdn.pydata.org/bokeh/release/bokeh-1.0.2.min.css\");\n      console.log(\"Bokeh: injecting CSS: https://cdn.pydata.org/bokeh/release/bokeh-widgets-1.0.2.min.css\");\n      Bokeh.embed.inject_css(\"https://cdn.pydata.org/bokeh/release/bokeh-widgets-1.0.2.min.css\");\n      console.log(\"Bokeh: injecting CSS: https://cdn.pydata.org/bokeh/release/bokeh-tables-1.0.2.min.css\");\n      Bokeh.embed.inject_css(\"https://cdn.pydata.org/bokeh/release/bokeh-tables-1.0.2.min.css\");\n    }\n  ];\n\n  function run_inline_js() {\n    \n    if ((root.Bokeh !== undefined) || (force === true)) {\n      for (var i = 0; i < inline_js.length; i++) {\n        inline_js[i].call(root, root.Bokeh);\n      }if (force === true) {\n        display_loaded();\n      }} else if (Date.now() < root._bokeh_timeout) {\n      setTimeout(run_inline_js, 100);\n    } else if (!root._bokeh_failed_load) {\n      console.log(\"Bokeh: BokehJS failed to load within specified timeout.\");\n      root._bokeh_failed_load = true;\n    } else if (force !== true) {\n      var cell = $(document.getElementById(\"1001\")).parents('.cell').data().cell;\n      cell.output_area.append_execute_result(NB_LOAD_WARNING)\n    }\n\n  }\n\n  if (root._bokeh_is_loading === 0) {\n    console.log(\"Bokeh: BokehJS loaded, going straight to plotting\");\n    run_inline_js();\n  } else {\n    load_libs(js_urls, function() {\n      console.log(\"Bokeh: BokehJS plotting callback run at\", now());\n      run_inline_js();\n    });\n  }\n}(window));"
     },
     "metadata": {},
     "output_type": "display_data"
    }
   ],
   "source": [
    "import model_funcs\n",
    "import sympy as sm\n",
    "from scipy import interpolate\n",
    "from bokeh.io import output_notebook,show\n",
    "from bokeh.layouts import row\n",
    "output_notebook()"
   ]
  },
  {
   "cell_type": "markdown",
   "metadata": {},
   "source": [
    "# Our Model"
   ]
  },
  {
   "cell_type": "markdown",
   "metadata": {},
   "source": [
    "Our model is the classic solowmodel, but instead of having a fixed savings rate, in each period the savings rate is decided by a micro-household optimization problem. We will get back to this later but first we will solve the simple Solow model with a fixed savingsrate."
   ]
  },
  {
   "cell_type": "markdown",
   "metadata": {},
   "source": [
    "**Macro foundations**\n",
    "\n",
    "The basic solow model consists of the following equations:\n",
    "$$\n",
    "Y_t = A K^{\\alpha} L^{1-\\alpha}\n",
    "$$$$\n",
    "K_{t+1}=s_{K}\\cdot Y_{t}+\\left(1-\\delta\\right)K_{t}\n",
    "$$$$\n",
    "L_{t+1}=\\left(1+n\\right) L_{t}\n",
    "$$\n",
    "\n",
    "By denoting $k_{t},y_{t}=\\frac{K_{t}}{L_{t}},\\frac{Y_{t}}{L_{t}}$ the following transition equation can be derived:\n",
    "$$\n",
    "k_{t+1}= \\frac{1}{1+n} \\left(s_{Kt}\\cdot A k_{t}^{\\alpha} + \\left(1+\\delta\\right)k_{t} \\right)\n",
    "$$"
   ]
  },
  {
   "cell_type": "markdown",
   "metadata": {},
   "source": [
    "# Solving the basic Solow model"
   ]
  },
  {
   "cell_type": "markdown",
   "metadata": {},
   "source": [
    "For a fixed savings rate we know that basic Solow model has convergenge to steady state (Inada-conditions). Convergence will imply $k_{t+1}=k_{t}=k^{*}$ thus we have from the transtition equation that:\n",
    "$$\n",
    "k^{*}= \\frac{1}{1+n} \\left(s_{Kt}\\cdot A {k^{*}}^{\\alpha} + \\left(1+\\delta\\right)k^{*} \\right)\n",
    "$$\n",
    "And can use sympy to derive our steady state capital for a given fixed savings will be:"
   ]
  },
  {
   "cell_type": "code",
   "execution_count": 3,
   "metadata": {},
   "outputs": [
    {
     "data": {
      "image/png": "[encoded data removed]",
      "text/latex": [
       "$$k^{*} = \\left(\\frac{B s_{K}}{\\delta + n}\\right)^{- \\frac{1}{\\alpha - 1}}$$"
      ],
      "text/plain": [
       "                 -1  \n",
       "                ─────\n",
       "                α - 1\n",
       "         ⎛B⋅s_K⎞     \n",
       "k__{*} = ⎜─────⎟     \n",
       "         ⎝δ + n⎠     "
      ]
     },
     "execution_count": 3,
     "metadata": {},
     "output_type": "execute_result"
    }
   ],
   "source": [
    "sm.init_printing(use_unicode=True)\n",
    "# Function that solve the transtion equation\n",
    "ss_k = model_funcs.steadystate()\n",
    "ss_k"
   ]
  },
  {
   "cell_type": "code",
   "execution_count": 4,
   "metadata": {},
   "outputs": [],
   "source": [
    "sm.init_printing(use_unicode=False)"
   ]
  },
  {
   "cell_type": "markdown",
   "metadata": {},
   "source": [
    "We can also simulate the model with a function defined in model_funcs.py and show it visually.\n",
    "First we set up reasonble parameter values"
   ]
  },
  {
   "cell_type": "markdown",
   "metadata": {},
   "source": [
    "$\\alpha$, with a Cobb-Douglas production function the incomeshare of capital, is set to $\\frac{1}{3}$, a ordinary macro-assumption. <br>\n",
    "$\\delta$, capital depreciation, is set to $5\\%$. <br>\n",
    "$n$, population growth is set to $0.8\\%$ representing average european population growth. <br>\n",
    "$s_{K}$, the fixed savings rate is set to $20\\%$. <br>\n",
    "$B$ and $L_{0}$ is both normalized to 1. <br>\n",
    "$K_{0}$ is set to 5, below the steady state. <br>"
   ]
  },
  {
   "cell_type": "code",
   "execution_count": 5,
   "metadata": {},
   "outputs": [
    {
     "data": {
      "text/html": [
       "\n",
       "\n",
       "\n",
       "\n",
       "\n",
       "\n",
       "  <div class=\"bk-root\" id=\"b4c2d37b-555f-4e50-8c28-f8f83a27fe47\"></div>\n"
      ]
     },
     "metadata": {},
     "output_type": "display_data"
    },
    {
     "data": {
      "application/javascript": [
       "(function(root) {\n",
       "  function embed_document(root) {\n",
       "    \n",
       "  var docs_json = {\"78dd7eb3-9fb1-4fa6-bc15-44494fcb58b5\":{\"roots\":{\"references\":[{\"attributes\":{\"below\":[{\"id\":\"1015\",\"type\":\"LinearAxis\"}],\"left\":[{\"id\":\"1020\",\"type\":\"LinearAxis\"}],\"plot_height\":500,\"renderers\":[{\"id\":\"1015\",\"type\":\"LinearAxis\"},{\"id\":\"1019\",\"type\":\"Grid\"},{\"id\":\"1020\",\"type\":\"LinearAxis\"},{\"id\":\"1024\",\"type\":\"Grid\"},{\"id\":\"1033\",\"type\":\"BoxAnnotation\"},{\"id\":\"1050\",\"type\":\"Legend\"},{\"id\":\"1042\",\"type\":\"GlyphRenderer\"},{\"id\":\"1055\",\"type\":\"GlyphRenderer\"}],\"title\":{\"id\":\"1004\",\"type\":\"Title\"},\"toolbar\":{\"id\":\"1030\",\"type\":\"Toolbar\"},\"x_range\":{\"id\":\"1007\",\"type\":\"DataRange1d\"},\"x_scale\":{\"id\":\"1011\",\"type\":\"LinearScale\"},\"y_range\":{\"id\":\"1009\",\"type\":\"DataRange1d\"},\"y_scale\":{\"id\":\"1013\",\"type\":\"LinearScale\"}},\"id\":\"1005\",\"subtype\":\"Figure\",\"type\":\"Plot\"},{\"attributes\":{\"line_alpha\":0.1,\"line_color\":\"#1f77b4\",\"x\":{\"field\":\"x\"},\"y\":{\"field\":\"b\"}},\"id\":\"1054\",\"type\":\"Line\"},{\"attributes\":{\"data_source\":{\"id\":\"1003\",\"type\":\"ColumnDataSource\"},\"glyph\":{\"id\":\"1053\",\"type\":\"Line\"},\"hover_glyph\":null,\"muted_glyph\":null,\"nonselection_glyph\":{\"id\":\"1054\",\"type\":\"Line\"},\"selection_glyph\":null,\"view\":{\"id\":\"1056\",\"type\":\"CDSView\"}},\"id\":\"1055\",\"type\":\"GlyphRenderer\"},{\"attributes\":{\"callback\":null,\"data\":{\"a\":{\"__ndarray__\":\"AAAAAAAAFEBBKe4M0jQUQAz6MtrKZxRAy6ThAfmYFEDfMhbXasgUQAKDvmIu9hRAedMEYVEiFUC310k/4UwVQMgznhrrdRVAE9+svnudFUBZawmln8MVQEKA1vRi6BVAAgy6gtELFkD4uhXR9i0WQGM9exDeThZAF79UIJJuFkBtu7qPHY0WQJoKcZ6KqhZAe6YFPuPGFkAuNgwTMeIWQJ/ycXZ9/BZAc+zldtEVF0A2JlLaNS4XQAtWYh+zRRdACnkVf1FcF0DdsFfuGHIXQDsroh8RhxdA0xKfhEGbF0Apw89Psa4XQPmsM3ZnwRdAPIjusGrTF0AKm+x+weQXQIkDhCZy9RdASBUSt4IFGEAj+pMK+RQYQIviOcfaIxhA2yr0YC0yGEDe8fka9j8YQH+xSAk6TRhA3HwcEv5ZGECvl2DvRmYYQKopGDAZchhA8N2+OXl9GEBjSqFJa4gYQGcFLXbzkhhA4lk4sBWdGEDukUHE1aYYQNHXpVs3sBhAl7PP/T25GEBoMV0R7cEYQLjBPd1HyhhA3ejHiVHSGECQ18YhDdoYQBEJgJN94RhAlwaxsaXoGEAacoU0iO8YQJB8hbon9hhAjO18yYb8GEBS41rPpwIZQNVzCiONCBlAzldEBTkOGUC/yVmhrRMZQDrD+A3tGBlA/sLpTfkdGUCLRsdQ1CIZQN4hr/N/JxlA3t/tAf4rGUCTVaQ1UDAZQCWSZzh4NBlABFXbo3c4GUAfM0cCUDwZQHKTJs8CQBlAuKqzd5FDGUAknW1b/UYZQHvsmcxHShlAEFjBEHJNGUBtUyhhfVAZQIc3Q+tqUxlAvVEm0TtWGUDc8vEp8VgZQKyfOgKMWxlAl4NtXA1eGUBTRTExdmAZQFpcw2/HYhlAbwVS/gFlGUBc81K6JmcZQHDY1ng2aRlASuTZBjJrGUDZUJEpGm0ZQJAYtp7vbhlABO/MHLNwGUCDlGtTZXIZQEKce+sGdBlAT7x6h5h1GUA7vbjDGncZQGsfkzaOeBlAjoqucPN5GUCxGy79SnsZQEul6GGVfBlANfSbH9N9GUDIKx6yBH8ZQNVKjZAqgBlAa+p8LUWBGUABRyL3VIIZQNWjfldagxlA8xeItFWEGUC201BwR4UZQAntLOkvhhlAV8DWeQ+HGUBp85F55ocZQCcnTTy1iBlAq2TCEnyJGUCHUZZKO4oZQPE2di7zihlA9OY0BqSLGUBTiuYWTowZQJ1h+6LxjBlAUINZ6o6NGUDToHUqJo4ZQG/bap63jhlAWLIRf0OPGUBPEhYDyo8ZQEmPDF9LkBlA/s+GxceQGUA+MydnP5EZQFa2s3KykRlA1SMoFSGSGUB0kcd5i5IZQOwzLcrxkhlA9Y5cLlSTGUDSB9HMspMZQB7gjMoNlBlAvZ4nS2WUGUBo7NtwuZQZQBbplFwKlRlAZ//6LViVGUACO4ADo5UZQJQmbPrqlRlA+jXnLjCWGUAawQW8cpYZQHmT0ruylhlAtBRZR/CWGUDQDa92K5cZQA0P/mBklxlA5XmMHJuXGUC3Msa+z5cZQIP9RFwCmBlA1YjYCDOYGUAWKo7XYZgZQDNOuNqOmBlAg6H1I7qYGUCm8TfE45gZQBTMyssLmRlA39tZSjKZGUAvCfdOV5kZQMlcIOh6mRlA+anFI52ZGUD7AE4PvpkZQBvsnLfdmRlAg3kXKfyZGUCtE6lvGZoZQG4qyJY1mhlAQ656qVCaGUDMX1qyapoZQP30mLuDmhlAuRUEz5uaGUBdMQn2spoZQK0uuTnJmhlAqvfLot6aGUCd4qM585oZQL/5UAYHmxlAqSKUEBqbGUDtJuJfLJsZQNmeZvs9mxlAu78G6k6bGUCJDmQyX5sZQCb43tpumxlALVCZ6X2bGUBCt3hkjJsZQOLpKFGamxlAhvgdtaebGUAKapaVtJsZQB1JnffAmxlAlx0M4MybGUBr0oxT2JsZQP2Im1bjmxlAjFqI7e2bGUBnCHkc+JsZQJKbaucBnBlAdPQyUgucGUBAS4JgFJwZQJmh5BUdnBlADCbDdSWcGUDyiWWDLZwZQCZK80E1nBlAOet0tDycGUBsKdXdQ5wZQBod4sBKnBlA4lNOYFGcGUAD37G+V5wZQA==\",\"dtype\":\"float64\",\"shape\":[200]},\"b\":[6.403287523346615,6.403287523346615,6.403287523346615,6.403287523346615,6.403287523346615,6.403287523346615,6.403287523346615,6.403287523346615,6.403287523346615,6.403287523346615,6.403287523346615,6.403287523346615,6.403287523346615,6.403287523346615,6.403287523346615,6.403287523346615,6.403287523346615,6.403287523346615,6.403287523346615,6.403287523346615,6.403287523346615,6.403287523346615,6.403287523346615,6.403287523346615,6.403287523346615,6.403287523346615,6.403287523346615,6.403287523346615,6.403287523346615,6.403287523346615,6.403287523346615,6.403287523346615,6.403287523346615,6.403287523346615,6.403287523346615,6.403287523346615,6.403287523346615,6.403287523346615,6.403287523346615,6.403287523346615,6.403287523346615,6.403287523346615,6.403287523346615,6.403287523346615,6.403287523346615,6.403287523346615,6.403287523346615,6.403287523346615,6.403287523346615,6.403287523346615,6.403287523346615,6.403287523346615,6.403287523346615,6.403287523346615,6.403287523346615,6.403287523346615,6.403287523346615,6.403287523346615,6.403287523346615,6.403287523346615,6.403287523346615,6.403287523346615,6.403287523346615,6.403287523346615,6.403287523346615,6.403287523346615,6.403287523346615,6.403287523346615,6.403287523346615,6.403287523346615,6.403287523346615,6.403287523346615,6.403287523346615,6.403287523346615,6.403287523346615,6.403287523346615,6.403287523346615,6.403287523346615,6.403287523346615,6.403287523346615,6.403287523346615,6.403287523346615,6.403287523346615,6.403287523346615,6.403287523346615,6.403287523346615,6.403287523346615,6.403287523346615,6.403287523346615,6.403287523346615,6.403287523346615,6.403287523346615,6.403287523346615,6.403287523346615,6.403287523346615,6.403287523346615,6.403287523346615,6.403287523346615,6.403287523346615,6.403287523346615,6.403287523346615,6.403287523346615,6.403287523346615,6.403287523346615,6.403287523346615,6.403287523346615,6.403287523346615,6.403287523346615,6.403287523346615,6.403287523346615,6.403287523346615,6.403287523346615,6.403287523346615,6.403287523346615,6.403287523346615,6.403287523346615,6.403287523346615,6.403287523346615,6.403287523346615,6.403287523346615,6.403287523346615,6.403287523346615,6.403287523346615,6.403287523346615,6.403287523346615,6.403287523346615,6.403287523346615,6.403287523346615,6.403287523346615,6.403287523346615,6.403287523346615,6.403287523346615,6.403287523346615,6.403287523346615,6.403287523346615,6.403287523346615,6.403287523346615,6.403287523346615,6.403287523346615,6.403287523346615,6.403287523346615,6.403287523346615,6.403287523346615,6.403287523346615,6.403287523346615,6.403287523346615,6.403287523346615,6.403287523346615,6.403287523346615,6.403287523346615,6.403287523346615,6.403287523346615,6.403287523346615,6.403287523346615,6.403287523346615,6.403287523346615,6.403287523346615,6.403287523346615,6.403287523346615,6.403287523346615,6.403287523346615,6.403287523346615,6.403287523346615,6.403287523346615,6.403287523346615,6.403287523346615,6.403287523346615,6.403287523346615,6.403287523346615,6.403287523346615,6.403287523346615,6.403287523346615,6.403287523346615,6.403287523346615,6.403287523346615,6.403287523346615,6.403287523346615,6.403287523346615,6.403287523346615,6.403287523346615,6.403287523346615,6.403287523346615,6.403287523346615,6.403287523346615,6.403287523346615,6.403287523346615,6.403287523346615,6.403287523346615,6.403287523346615,6.403287523346615,6.403287523346615,6.403287523346615,6.403287523346615,6.403287523346615,6.403287523346615,6.403287523346615,6.403287523346615,6.403287523346615,6.403287523346615,6.403287523346615],\"x\":[0,1,2,3,4,5,6,7,8,9,10,11,12,13,14,15,16,17,18,19,20,21,22,23,24,25,26,27,28,29,30,31,32,33,34,35,36,37,38,39,40,41,42,43,44,45,46,47,48,49,50,51,52,53,54,55,56,57,58,59,60,61,62,63,64,65,66,67,68,69,70,71,72,73,74,75,76,77,78,79,80,81,82,83,84,85,86,87,88,89,90,91,92,93,94,95,96,97,98,99,100,101,102,103,104,105,106,107,108,109,110,111,112,113,114,115,116,117,118,119,120,121,122,123,124,125,126,127,128,129,130,131,132,133,134,135,136,137,138,139,140,141,142,143,144,145,146,147,148,149,150,151,152,153,154,155,156,157,158,159,160,161,162,163,164,165,166,167,168,169,170,171,172,173,174,175,176,177,178,179,180,181,182,183,184,185,186,187,188,189,190,191,192,193,194,195,196,197,198,199]},\"selected\":{\"id\":\"1062\",\"type\":\"Selection\"},\"selection_policy\":{\"id\":\"1063\",\"type\":\"UnionRenderers\"}},\"id\":\"1003\",\"type\":\"ColumnDataSource\"},{\"attributes\":{},\"id\":\"1025\",\"type\":\"PanTool\"},{\"attributes\":{\"label\":{\"value\":\"Steady state\"},\"renderers\":[{\"id\":\"1055\",\"type\":\"GlyphRenderer\"}]},\"id\":\"1065\",\"type\":\"LegendItem\"},{\"attributes\":{\"data_source\":{\"id\":\"1003\",\"type\":\"ColumnDataSource\"},\"glyph\":{\"id\":\"1040\",\"type\":\"Line\"},\"hover_glyph\":null,\"muted_glyph\":null,\"nonselection_glyph\":{\"id\":\"1041\",\"type\":\"Line\"},\"selection_glyph\":null,\"view\":{\"id\":\"1043\",\"type\":\"CDSView\"}},\"id\":\"1042\",\"type\":\"GlyphRenderer\"},{\"attributes\":{},\"id\":\"1016\",\"type\":\"BasicTicker\"},{\"attributes\":{\"line_color\":\"red\",\"x\":{\"field\":\"x\"},\"y\":{\"field\":\"a\"}},\"id\":\"1040\",\"type\":\"Line\"},{\"attributes\":{},\"id\":\"1063\",\"type\":\"UnionRenderers\"},{\"attributes\":{\"dimension\":1,\"plot\":{\"id\":\"1005\",\"subtype\":\"Figure\",\"type\":\"Plot\"},\"ticker\":{\"id\":\"1021\",\"type\":\"BasicTicker\"}},\"id\":\"1024\",\"type\":\"Grid\"},{\"attributes\":{\"active_drag\":\"auto\",\"active_inspect\":\"auto\",\"active_multi\":null,\"active_scroll\":\"auto\",\"active_tap\":\"auto\",\"tools\":[{\"id\":\"1002\",\"type\":\"HoverTool\"},{\"id\":\"1025\",\"type\":\"PanTool\"},{\"id\":\"1026\",\"type\":\"WheelZoomTool\"},{\"id\":\"1027\",\"type\":\"BoxZoomTool\"},{\"id\":\"1028\",\"type\":\"ResetTool\"},{\"id\":\"1029\",\"type\":\"SaveTool\"}]},\"id\":\"1030\",\"type\":\"Toolbar\"},{\"attributes\":{\"callback\":null,\"tooltips\":[[\"T\",\"@x{0,0.00}\"],[\"Capital pr. capita for Solow path\",\"@a{0.00}\"],[\"Capital pr. capita for Steady state\",\"@b{0.00}\"]]},\"id\":\"1002\",\"type\":\"HoverTool\"},{\"attributes\":{\"line_alpha\":0.1,\"line_color\":\"#1f77b4\",\"x\":{\"field\":\"x\"},\"y\":{\"field\":\"a\"}},\"id\":\"1041\",\"type\":\"Line\"},{\"attributes\":{\"callback\":null},\"id\":\"1007\",\"type\":\"DataRange1d\"},{\"attributes\":{},\"id\":\"1013\",\"type\":\"LinearScale\"},{\"attributes\":{\"line_color\":\"blue\",\"x\":{\"field\":\"x\"},\"y\":{\"field\":\"b\"}},\"id\":\"1053\",\"type\":\"Line\"},{\"attributes\":{\"source\":{\"id\":\"1003\",\"type\":\"ColumnDataSource\"}},\"id\":\"1043\",\"type\":\"CDSView\"},{\"attributes\":{},\"id\":\"1021\",\"type\":\"BasicTicker\"},{\"attributes\":{\"axis_label\":\"T\",\"formatter\":{\"id\":\"1045\",\"type\":\"BasicTickFormatter\"},\"plot\":{\"id\":\"1005\",\"subtype\":\"Figure\",\"type\":\"Plot\"},\"ticker\":{\"id\":\"1016\",\"type\":\"BasicTicker\"}},\"id\":\"1015\",\"type\":\"LinearAxis\"},{\"attributes\":{},\"id\":\"1062\",\"type\":\"Selection\"},{\"attributes\":{},\"id\":\"1026\",\"type\":\"WheelZoomTool\"},{\"attributes\":{\"plot\":{\"id\":\"1005\",\"subtype\":\"Figure\",\"type\":\"Plot\"},\"ticker\":{\"id\":\"1016\",\"type\":\"BasicTicker\"}},\"id\":\"1019\",\"type\":\"Grid\"},{\"attributes\":{},\"id\":\"1045\",\"type\":\"BasicTickFormatter\"},{\"attributes\":{\"source\":{\"id\":\"1003\",\"type\":\"ColumnDataSource\"}},\"id\":\"1056\",\"type\":\"CDSView\"},{\"attributes\":{\"items\":[{\"id\":\"1051\",\"type\":\"LegendItem\"},{\"id\":\"1065\",\"type\":\"LegendItem\"}],\"location\":\"bottom_center\",\"plot\":{\"id\":\"1005\",\"subtype\":\"Figure\",\"type\":\"Plot\"}},\"id\":\"1050\",\"type\":\"Legend\"},{\"attributes\":{\"overlay\":{\"id\":\"1033\",\"type\":\"BoxAnnotation\"}},\"id\":\"1027\",\"type\":\"BoxZoomTool\"},{\"attributes\":{},\"id\":\"1047\",\"type\":\"BasicTickFormatter\"},{\"attributes\":{\"label\":{\"value\":\"Solow path\"},\"renderers\":[{\"id\":\"1042\",\"type\":\"GlyphRenderer\"}]},\"id\":\"1051\",\"type\":\"LegendItem\"},{\"attributes\":{\"bottom_units\":\"screen\",\"fill_alpha\":{\"value\":0.5},\"fill_color\":{\"value\":\"lightgrey\"},\"left_units\":\"screen\",\"level\":\"overlay\",\"line_alpha\":{\"value\":1.0},\"line_color\":{\"value\":\"black\"},\"line_dash\":[4,4],\"line_width\":{\"value\":2},\"plot\":null,\"render_mode\":\"css\",\"right_units\":\"screen\",\"top_units\":\"screen\"},\"id\":\"1033\",\"type\":\"BoxAnnotation\"},{\"attributes\":{\"axis_label\":\"Capital pr. capita\",\"formatter\":{\"id\":\"1047\",\"type\":\"BasicTickFormatter\"},\"plot\":{\"id\":\"1005\",\"subtype\":\"Figure\",\"type\":\"Plot\"},\"ticker\":{\"id\":\"1021\",\"type\":\"BasicTicker\"}},\"id\":\"1020\",\"type\":\"LinearAxis\"},{\"attributes\":{},\"id\":\"1011\",\"type\":\"LinearScale\"},{\"attributes\":{},\"id\":\"1028\",\"type\":\"ResetTool\"},{\"attributes\":{\"callback\":null},\"id\":\"1009\",\"type\":\"DataRange1d\"},{\"attributes\":{},\"id\":\"1029\",\"type\":\"SaveTool\"},{\"attributes\":{\"plot\":null,\"text\":\"Traditional Solowpath\"},\"id\":\"1004\",\"type\":\"Title\"}],\"root_ids\":[\"1005\"]},\"title\":\"Bokeh Application\",\"version\":\"1.0.2\"}};\n",
       "  var render_items = [{\"docid\":\"78dd7eb3-9fb1-4fa6-bc15-44494fcb58b5\",\"notebook_comms_target\":\"1074\",\"roots\":{\"1005\":\"b4c2d37b-555f-4e50-8c28-f8f83a27fe47\"}}];\n",
       "  root.Bokeh.embed.embed_items_notebook(docs_json, render_items);\n",
       "\n",
       "  }\n",
       "  if (root.Bokeh !== undefined) {\n",
       "    embed_document(root);\n",
       "  } else {\n",
       "    var attempts = 0;\n",
       "    var timer = setInterval(function(root) {\n",
       "      if (root.Bokeh !== undefined) {\n",
       "        embed_document(root);\n",
       "        clearInterval(timer);\n",
       "      }\n",
       "      attempts++;\n",
       "      if (attempts > 100) {\n",
       "        console.log(\"Bokeh: ERROR: Unable to run BokehJS code because BokehJS library is missing\");\n",
       "        clearInterval(timer);\n",
       "      }\n",
       "    }, 10, root)\n",
       "  }\n",
       "})(window);"
      ],
      "application/vnd.bokehjs_exec.v0+json": ""
     },
     "metadata": {
      "application/vnd.bokehjs_exec.v0+json": {
       "id": "1005"
      }
     },
     "output_type": "display_data"
    },
    {
     "data": {
      "text/html": [
       "<p><code>&lt;Bokeh Notebook handle for <strong>In[5]</strong>&gt;</code></p>"
      ],
      "text/plain": [
       "<bokeh.io.notebook.CommsHandle at 0x11b5f6550>"
      ]
     },
     "execution_count": 5,
     "metadata": {},
     "output_type": "execute_result"
    }
   ],
   "source": [
    "# Reasonable parameters:\n",
    "#Macro:\n",
    "alpha = 1/3\n",
    "delta = 0.05\n",
    "n = 0.008\n",
    "sk = 0.2\n",
    "\n",
    "\n",
    "# production:\n",
    "b = 1\n",
    "k0 = 5\n",
    "l0 = 1\n",
    "\n",
    "# Our timeline:\n",
    "timeline = 200\n",
    "\n",
    "\n",
    "# Steady state kapital pr. worker:\n",
    "k_star = model_funcs.find_ssk_k(sk,b,delta,n,alpha)\n",
    "k_stars  =[k_star for i in range(timeline)]\n",
    "\n",
    "# The evolution of the normal solow model:\n",
    "trad_k_pr, trad_y_pr = model_funcs.solowwalk(\n",
    "    k0, b, l0, n, sk, alpha, delta, timeline)\n",
    "\n",
    "p = model_funcs.plotting(\"T\",['Solow path', 'Steady state'], range(timeline), [trad_k_pr,k_stars],\n",
    "                    y_name='Capital pr. capita', title = 'Traditional Solowpath',\n",
    "                    legendlocation ='bottom_center', width = 600)\n",
    "show(p,notebook_handle=True)"
   ]
  },
  {
   "cell_type": "markdown",
   "metadata": {},
   "source": [
    "# The micro model"
   ]
  },
  {
   "cell_type": "markdown",
   "metadata": {},
   "source": [
    "Now that we have seen the solow model with a fixed savingsrate. We will show how the the savingsrate is formed in our micromodel:"
   ]
  },
  {
   "cell_type": "markdown",
   "metadata": {},
   "source": [
    "**Micro-foundation of the savingsrate** \n",
    "\n",
    "Representative household utilityfunction in single periode:\n",
    "$$\n",
    "u\\left(c_{t}\\right)=\\frac{c^{1-\\theta}-1}{1-\\theta}\n",
    "$$\n",
    "When the household sums its total utility for mulitple future periods, it disocunts future consumption for immediate consumption by $1-\\beta$ so utility for all periods from period 0 to period T, given a vector C of consumption in each period is:\n",
    "$$\n",
    "U\\left(C\\right)=\\sum_{t=0}^{T}\\beta^{t}\\frac{c_{t}^{1-\\theta}-1}{1-\\theta}\n",
    "$$\n",
    "We assume that the household understands how the solow model works, e.g. how production for consumption is made and how capital accumulation works. From the calulations above we have:\n",
    "$$\n",
    "y_{t}=A k_{t}^{\\alpha} \\Rightarrow\n",
    "c_{t} = \\left(1-s_{Kt}\\right) A k_{t}^{\\alpha}\n",
    "$$ $$\n",
    "k_{t+1}= \\frac{1}{1+n} \\left(s_{Kt}\\cdot A k_{t}^{\\alpha} + \\left(1+\\delta\\right)k_{t} \\right)\n",
    "$$\n",
    "This is our 'budget constraint' more precisely defined as production constraints for all periods \n",
    "\n",
    "So the final optimizationproblem is:\n",
    "$$\n",
    "\\max_{s_{K_t}}U\\left(C\\right)=\\sum_{t=0}^{T}\\beta^{t}\\frac{c_{t}^{1-\\theta}-1}{1-\\theta}\n",
    "$$\n",
    "$$ s.t.$$$$\n",
    "c_{t} = \\left(1-s_{Kt}\\right) A k_{t}^{\\alpha},\\;t\\in [0,T]\n",
    "$$$$\n",
    "k_{t}=\n",
    "\\begin{cases}\n",
    "k_{0}& \\text{if }t=0\\\\\n",
    "\\frac{1}{1+n} \\left(s_{Kt-1}\\cdot A k_{t-1}^{\\alpha} + \\left(1+\\delta\\right)k_{t-1} \\right)& \\text{if }t\\in\\left[1,T\\right]\n",
    "\\end{cases}\n",
    "$$$$\n",
    "k_{0} \\text{ given}\n",
    "$$\n",
    "It's important to note that although the optimizationsolution, $s_{Kt}$, is solved for all periods. Only the solution for t=0 is used, since the problem is solved again in the next period. E.g. in each period the household formualtes a plan for current and future comsumption. In the current period the plan is pursued but in the following period a new plan is formulated, which is then also only followed for one period. "
   ]
  },
  {
   "cell_type": "markdown",
   "metadata": {},
   "source": [
    "First we set up microparameter values: <br>\n",
    "$\\theta$, determining the representative household's aversion to fluctations in consumption is as base, set to 0.5, but values below and above are also looked at, as we don't know an approximate of the true value<br>\n",
    "$\\beta$, determining how much the representative households values immediate above future consumption, is set to 0.99. Representing a low preference. <br>\n",
    "$t$, the amount of future time periods considered by the household, is set to 40 for two reasons: <br>\n",
    "1. Computational limitations, honestely speed becomes a factor when we simulate a more foresighted representative household.\n",
    "2. It approximately represents the average remaining lifetime of the working population. As we asumme no 'warm glow' from bequesting, this will also be the timeline that the population cares about on average. "
   ]
  },
  {
   "cell_type": "code",
   "execution_count": 6,
   "metadata": {},
   "outputs": [],
   "source": [
    "# Parameters\n",
    "#Micro:\n",
    "theta = 0.5\n",
    "beta = 0.99\n",
    "\n",
    "t = 40\n",
    "\n",
    "# time preference utility weights and population growth \n",
    "# are precomputed to save time:\n",
    "weight = np.array([beta**i for i in range(t)])\n",
    "l = np.array([l0*(1+n)**i for i in range(t)])"
   ]
  },
  {
   "cell_type": "markdown",
   "metadata": {},
   "source": [
    "**Solving the micro-foundation numerically**"
   ]
  },
  {
   "cell_type": "markdown",
   "metadata": {},
   "source": [
    "First we look at how, for different thetas, optimal savings rate in period t=0, depends on the level of initial capital:"
   ]
  },
  {
   "cell_type": "code",
   "execution_count": 7,
   "metadata": {},
   "outputs": [],
   "source": [
    "'''We find the prefered savings rate in period t=0\n",
    "for different thetas an initial capitals'''\n",
    "k_n = 100\n",
    "thetas = [0.3,0.5,0.7 ,1.5]\n",
    "sks = [np.zeros(k_n) for i in range(len(thetas))]\n",
    "k0s = np.linspace(0.001,30,k_n)\n",
    "\n",
    "for j in range(len(thetas)):\n",
    "    for i in range(k_n):\n",
    "            sks[j][i] = model_funcs.optimal_sks(\n",
    "                t, b, l, weight, delta, alpha, thetas[j], k0s[i])\n",
    "            \n",
    "# We save these resoluts as a interpolater for use in Macro model\n",
    "sk_interpers = [interpolate.RegularGridInterpolator([k0s], sks[i],\n",
    "        bounds_error=False,fill_value=None) for i in range(4)]   "
   ]
  },
  {
   "cell_type": "code",
   "execution_count": 8,
   "metadata": {},
   "outputs": [
    {
     "data": {
      "text/html": [
       "\n",
       "\n",
       "\n",
       "\n",
       "\n",
       "\n",
       "  <div class=\"bk-root\" id=\"2feefdbc-a211-46c3-9b8c-a0531169528b\"></div>\n"
      ]
     },
     "metadata": {},
     "output_type": "display_data"
    },
    {
     "data": {
      "application/javascript": [
       "(function(root) {\n",
       "  function embed_document(root) {\n",
       "    \n",
       "  var docs_json = {\"679bf78c-1004-4227-a8ae-06e65aa985fb\":{\"roots\":{\"references\":[{\"attributes\":{\"below\":[{\"id\":\"1136\",\"type\":\"LinearAxis\"}],\"left\":[{\"id\":\"1141\",\"type\":\"LinearAxis\"}],\"plot_height\":500,\"renderers\":[{\"id\":\"1136\",\"type\":\"LinearAxis\"},{\"id\":\"1140\",\"type\":\"Grid\"},{\"id\":\"1141\",\"type\":\"LinearAxis\"},{\"id\":\"1145\",\"type\":\"Grid\"},{\"id\":\"1154\",\"type\":\"BoxAnnotation\"},{\"id\":\"1171\",\"type\":\"Legend\"},{\"id\":\"1163\",\"type\":\"GlyphRenderer\"},{\"id\":\"1176\",\"type\":\"GlyphRenderer\"},{\"id\":\"1190\",\"type\":\"GlyphRenderer\"},{\"id\":\"1204\",\"type\":\"GlyphRenderer\"}],\"title\":{\"id\":\"1125\",\"type\":\"Title\"},\"toolbar\":{\"id\":\"1151\",\"type\":\"Toolbar\"},\"x_range\":{\"id\":\"1128\",\"type\":\"DataRange1d\"},\"x_scale\":{\"id\":\"1132\",\"type\":\"LinearScale\"},\"y_range\":{\"id\":\"1130\",\"type\":\"DataRange1d\"},\"y_scale\":{\"id\":\"1134\",\"type\":\"LinearScale\"}},\"id\":\"1126\",\"subtype\":\"Figure\",\"type\":\"Plot\"},{\"attributes\":{\"label\":{\"value\":\"\\u03b8 = 0.3\"},\"renderers\":[{\"id\":\"1163\",\"type\":\"GlyphRenderer\"}]},\"id\":\"1172\",\"type\":\"LegendItem\"},{\"attributes\":{\"line_color\":\"red\",\"x\":{\"field\":\"x\"},\"y\":{\"field\":\"a\"}},\"id\":\"1161\",\"type\":\"Line\"},{\"attributes\":{},\"id\":\"1134\",\"type\":\"LinearScale\"},{\"attributes\":{\"line_alpha\":0.1,\"line_color\":\"#1f77b4\",\"x\":{\"field\":\"x\"},\"y\":{\"field\":\"a\"}},\"id\":\"1162\",\"type\":\"Line\"},{\"attributes\":{},\"id\":\"1166\",\"type\":\"BasicTickFormatter\"},{\"attributes\":{},\"id\":\"1132\",\"type\":\"LinearScale\"},{\"attributes\":{\"source\":{\"id\":\"1124\",\"type\":\"ColumnDataSource\"}},\"id\":\"1205\",\"type\":\"CDSView\"},{\"attributes\":{},\"id\":\"1150\",\"type\":\"SaveTool\"},{\"attributes\":{\"data_source\":{\"id\":\"1124\",\"type\":\"ColumnDataSource\"},\"glyph\":{\"id\":\"1202\",\"type\":\"Line\"},\"hover_glyph\":null,\"muted_glyph\":null,\"nonselection_glyph\":{\"id\":\"1203\",\"type\":\"Line\"},\"selection_glyph\":null,\"view\":{\"id\":\"1205\",\"type\":\"CDSView\"}},\"id\":\"1204\",\"type\":\"GlyphRenderer\"},{\"attributes\":{},\"id\":\"1137\",\"type\":\"BasicTicker\"},{\"attributes\":{\"items\":[{\"id\":\"1172\",\"type\":\"LegendItem\"},{\"id\":\"1186\",\"type\":\"LegendItem\"},{\"id\":\"1200\",\"type\":\"LegendItem\"},{\"id\":\"1214\",\"type\":\"LegendItem\"}],\"location\":\"top_center\",\"plot\":{\"id\":\"1126\",\"subtype\":\"Figure\",\"type\":\"Plot\"}},\"id\":\"1171\",\"type\":\"Legend\"},{\"attributes\":{\"line_alpha\":0.1,\"line_color\":\"#1f77b4\",\"x\":{\"field\":\"x\"},\"y\":{\"field\":\"d\"}},\"id\":\"1203\",\"type\":\"Line\"},{\"attributes\":{},\"id\":\"1149\",\"type\":\"ResetTool\"},{\"attributes\":{\"active_drag\":\"auto\",\"active_inspect\":\"auto\",\"active_multi\":null,\"active_scroll\":\"auto\",\"active_tap\":\"auto\",\"tools\":[{\"id\":\"1123\",\"type\":\"HoverTool\"},{\"id\":\"1146\",\"type\":\"PanTool\"},{\"id\":\"1147\",\"type\":\"WheelZoomTool\"},{\"id\":\"1148\",\"type\":\"BoxZoomTool\"},{\"id\":\"1149\",\"type\":\"ResetTool\"},{\"id\":\"1150\",\"type\":\"SaveTool\"}]},\"id\":\"1151\",\"type\":\"Toolbar\"},{\"attributes\":{\"label\":{\"value\":\"\\u03b8 = 0.7\"},\"renderers\":[{\"id\":\"1190\",\"type\":\"GlyphRenderer\"}]},\"id\":\"1200\",\"type\":\"LegendItem\"},{\"attributes\":{\"line_color\":\"purple\",\"x\":{\"field\":\"x\"},\"y\":{\"field\":\"d\"}},\"id\":\"1202\",\"type\":\"Line\"},{\"attributes\":{\"callback\":null},\"id\":\"1128\",\"type\":\"DataRange1d\"},{\"attributes\":{\"bottom_units\":\"screen\",\"fill_alpha\":{\"value\":0.5},\"fill_color\":{\"value\":\"lightgrey\"},\"left_units\":\"screen\",\"level\":\"overlay\",\"line_alpha\":{\"value\":1.0},\"line_color\":{\"value\":\"black\"},\"line_dash\":[4,4],\"line_width\":{\"value\":2},\"plot\":null,\"render_mode\":\"css\",\"right_units\":\"screen\",\"top_units\":\"screen\"},\"id\":\"1154\",\"type\":\"BoxAnnotation\"},{\"attributes\":{},\"id\":\"1146\",\"type\":\"PanTool\"},{\"attributes\":{\"label\":{\"value\":\"\\u03b8 = 1.5\"},\"renderers\":[{\"id\":\"1204\",\"type\":\"GlyphRenderer\"}]},\"id\":\"1214\",\"type\":\"LegendItem\"},{\"attributes\":{\"plot\":{\"id\":\"1126\",\"subtype\":\"Figure\",\"type\":\"Plot\"},\"ticker\":{\"id\":\"1137\",\"type\":\"BasicTicker\"}},\"id\":\"1140\",\"type\":\"Grid\"},{\"attributes\":{\"overlay\":{\"id\":\"1154\",\"type\":\"BoxAnnotation\"}},\"id\":\"1148\",\"type\":\"BoxZoomTool\"},{\"attributes\":{\"callback\":null},\"id\":\"1130\",\"type\":\"DataRange1d\"},{\"attributes\":{\"line_color\":\"blue\",\"x\":{\"field\":\"x\"},\"y\":{\"field\":\"b\"}},\"id\":\"1174\",\"type\":\"Line\"},{\"attributes\":{\"dimension\":1,\"plot\":{\"id\":\"1126\",\"subtype\":\"Figure\",\"type\":\"Plot\"},\"ticker\":{\"id\":\"1142\",\"type\":\"BasicTicker\"}},\"id\":\"1145\",\"type\":\"Grid\"},{\"attributes\":{\"source\":{\"id\":\"1124\",\"type\":\"ColumnDataSource\"}},\"id\":\"1191\",\"type\":\"CDSView\"},{\"attributes\":{\"data_source\":{\"id\":\"1124\",\"type\":\"ColumnDataSource\"},\"glyph\":{\"id\":\"1161\",\"type\":\"Line\"},\"hover_glyph\":null,\"muted_glyph\":null,\"nonselection_glyph\":{\"id\":\"1162\",\"type\":\"Line\"},\"selection_glyph\":null,\"view\":{\"id\":\"1164\",\"type\":\"CDSView\"}},\"id\":\"1163\",\"type\":\"GlyphRenderer\"},{\"attributes\":{\"callback\":null,\"data\":{\"a\":{\"__ndarray__\":\"tlE6JJiB7z80vA8ma7HsP3c0G5mkhes/mGNz5DyM6j/EikKag63pPyLiKhX/4eg/wRfhGBAi6D9Z9jm3D27nPwvzbbvWwOY/j2dGI9cZ5j8Qm9UZRHnlP7vvT70r3uQ/OMkGSPZF5D8h0rDWWrHjP1n+QuWUIOM//ZUC9F2T4j/XuC6CKwniP25xfFKogeE/xfMM+l784D/B+qzQtnngP/eHPdQn8t8/4r1EE5z03j9rdWCkofrdP8jxYToIBN0/55uYCmkQ3D8bxo+TqR7bP69lA428Mto/NA7y74NI2T8Co/9kpGHYP28qAID+etc/R1qJPmiY1j8neHc79LfVP8PT4OZY2dQ/14030V/70z+yVs2ARiLTPzwp3MeDStI/AD/ZI6t00T9EBVn+maDQP1gkw1eUnM8/W4jK1Tn7zT+k8/9x91zMP2zrBde5wco/lFBAWHIpyT8T9tFglZfHPxJpcoTHBMY/4MjmDvF0xD8wAVin+OfCPyMo7fTQXcE/SEWDGxWsvz8DVk2X2aC8PwKIsQZ8mrk/Oi4H7kyYtj/g5JSo/pmzP5lXxgq9nbA/pd65xalLqz+qrd1902ulPzbzQsVqQJ8/zBF+npO6kz/g//La71aAPzqMMOKOeUU+Ooww4o55RT6020fnjnlFPitKvuiOeUU+vVza4o55RT6SVT7xjnlFPkPr9uKOeUU++L536o55RT46jDDijnlFPoAIU+aOeUU+PyyP9455RT46jDDijnlFPtlYK+OOeUU+Ooww4o55RT46jDDijnlFPv4iLPKOeUU+Ooww4o55RT46jDDijnlFPvE4BfiOeUU+x8tc8455RT46jDDijnlFPot4yuWOeUU+Ooww4o55RT46jDDijnlFPjqMMOKOeUU+qJ/g5Y55RT46jDDijnlFPjqMMOKOeUU+y3ba4455RT46jDDijnlFPjqMMOKOeUU+Ooww4o55RT5z9sTjjnlFPjqMMOKOeUU+Ooww4o55RT46jDDijnlFPjqMMOKOeUU+H9HO6Y55RT46jDDijnlFPj1AVPOOeUU+gM6l9I55RT4=\",\"dtype\":\"float64\",\"shape\":[100]},\"b\":{\"__ndarray__\":\"6DHAC+r/6z9MUXYvs6voP477R74XfOc/6h+8vQiM5j9LSBv5sL7lP1EBZhOSBeU/fMTA3Pdc5D9K0GX6TsDjP57/gr6kLeM/bGkNCVai4j9bZCO26B3iP63uKPbinuE/mehfGlYj4T9aXxVZ4a3gP+wrqrVGPOA/7YS+bVGc3z81V1ZXZMbeP9LCtGkx9t0/y33OxDsr3T/YN7DIkmrcP4LhDsoTqNs/XKl2YeTp2j/lLHoewS/aP4EF1Itnedk/yytGdLTG2D+i9hMCShPYP2qIDcR/Ztc/mypQcm681j8Vx/5BQxjWP8ib+hGactU/xuf+A9rP1D+8lUptrTPUPz3o4An2k9M/aiaINvX40j+8ZnCEtV7SP846EACSxtE/u1HdZWYw0T/F/6PID5zQP9l23DXyA9A/p0tUMbjnzj8HY4xLesrNPxJ+3U3Dr8w/6agO1QiYyz+6adyU74LKPywID+JqcMk/nokahZhgyD/LBk60VFPHP17LAk8GSMY//1LNnGk+xT85AhraEj/EP/Gu31RLOMM/UXGgX3I1wj/oRqFf6jPBP/xtCHjwNMA/L8l0iXRwvj+GhJ95F3u8PzaVzdOWibo/nK2Yp+abuD8JbZQs2rG2PyuWEQNby7Q/KbHB5E3osj9OZ/DknQixP31mAL6AWK4/njzRDwOmqj+pkLba0/mmPznYMSKmU6M/8W3aacBmnz96md8zzDGYP2eEMablCJE//EE3B5vXgz8g4nmXM9BmPzqMMOKOeUU+Ooww4o55RT46jDDijnlFPtkwhOWOeUU+Ooww4o55RT70ad78jnlFPnzWZ+OOeUU+Ooww4o55RT46jDDijnlFPg1A+OWOeUU+Ooww4o55RT46jDDijnlFPtqHwOWOeUU+Ooww4o55RT78ERjjjnlFPjqMMOKOeUU+Ooww4o55RT6rWoHojnlFPjqMMOKOeUU+VwB++o55RT46jDDijnlFPj+vju+OeUU+Ooww4o55RT46jDDijnlFPgTA2ueOeUU+zajl6Y55RT46jDDijnlFPr5ToeuOeUU+Ooww4o55RT4=\",\"dtype\":\"float64\",\"shape\":[100]},\"c\":{\"__ndarray__\":\"ugUQ8I385j/MyiobWnjlP2wm3xEyf+Q/+0Vscke24z/BNtjxuAjjPx0bOLSpbeI/cNgiEuHf4T8SNLtvIl3hPyrNMhi54+A/Qn2xJYNv4D+QINaihQLgP/r4Z7TGNN8/gq/9bVpz3j9iG7WbrLPdP0YtCE4S+9w/RJaYJdBI3D91TB5nSJzbP1xqdKP09No/bX6s/QZM2j/waEvKmq7ZP25hG6UiFdk/uHd4mE9/2D+r0yRl2+zXPzm0Jvd4Xdc/EW3blhLU1j9r5DlWBkvWP9P+cbZRwdU/vl/sM2Y81T+I2aeNN7jUPxGwAPNeN9Q/HaxZy+C+0z9kVro63D7TPxNZiWWfxtI/wsZa5V9O0j9QL3bNN9rRP3BtQZejZdE/2LSgfIby0D+m1t472YDQP2LGYriUENA/XYyaWl1Dzz9vpJn4N2jOP3GgmXuqj80/nfHCj5S5zD9+1ZiZ7OXLP78pVh6VFMs/HINCoGxFyj98ZuY5f3jJP/7EWfLBrcg/6BI4PhLlxz/5/OhvUR7HP85wmpF8WcY/ll3GxoOWxT8s2+x9xtDEPyNjf53DEcQ/ItszJnlUwz+EtuQw5JjCPwNVaXTg3sE/ofNwJ3EmwT+qs5KQg2/APxiCgQQedL8/rJkC+AoMvj9HO8r6x6a8P1ey1E4+RLs/CcaZz2nkuT8G3ns+Ioe4P/SjI1VJLLc/tvNE/uXTtT+LgSPMgX20P46TY8lHKbM/9l6enYXXsT8JM7L8/IewP7zE+4ZCda4/t42ijMXeqz+MHJNHj0ypP/T0q/xavqY/nKFgcD40pD9aSkQI/a2hPzk8sJW0Wp4/HjK7o48tmT9ilRCfeUCUP9Ug4Tq+sY4/PH34q5buhD8Cgqn4pm52P4fpsWhhEUg/e1u25Y55RT46jDDijnlFPjqMMOKOeUU+A+mw4455RT5o4e7pjnlFPjqMMOKOeUU+e6Rp6455RT74KUjmjnlFPlVFgeiOeUU+Ooww4o55RT46jDDijnlFPjqMMOKOeUU+Ooww4o55RT46jDDijnlFPtXFjuOOeUU+Ooww4o55RT4=\",\"dtype\":\"float64\",\"shape\":[100]},\"d\":{\"__ndarray__\":\"c5+nfvL60j9Scr5paBTcP8/+OwI5pts/IJdvSUUR2z9CyH278n3aP2sPOCG28tk/8HtnH0du2T+qbrNzsfHYP8Ho6pGwfNg/+/yHD9sM2D/Gq8zEjaLXPwdrI+CpPNc/F+ANmu3a1j9W3uY9wHvWP531jWGTIdY/eLB3KmDL1T/o1+hJ33bVPyjauimqJNU/aTsxR17Y1D8eQhSzyYbUP1BP5serO9Q/Lqg6a4/z0z/mpLoUEqvTP0hpiNnSY9M/Cfwu0BMf0z+2XersAeDSP5fB75NwntI/imZaCJNe0j+EEUZ5AhzSPxxTX1f73tE/1Nx53c+i0T9YQ4V2j2fRP1cC4RI6LdE/tXo/eJv40D+Iq6aqhb/QP3sz7kFPh9A/kLn/h+xP0D+4hVZQWRnQP2EjRnatvc8/a8FJ0m5Vzz8mbfAVgO7OP5eiSlLTiM4/rQVi+lUkzj8xwFKUAsHNP1ytBHDJXs0/QvY1RKn9zD8KvTynlp3MP8X7TrWSPsw/+qnp95Dgyz+1irH3iYPLP2QgSwRHKMs/xOxOLdnNyj/wqvKIHnTKP9nBAorgGso/tEXNH2XCyT9sLDxioGrJP5Et94hcE8k/PAMuVge9yD9vCue4eWfIPx75uzikEsg/+RINOY++xz82eK8WNmvHP0i4glSTGMc/B/q3/abGxj/MffXIC23GP38dUqf4HMY/zxvleYzNxT9cDJ2pwn7FP3Rw13CXMMU/+BdWE/7ixD/IycQg95XEP/PNgV+DScQ/DyLHPIb9wz+s9ngJELLDPwbmNjApZ8M/GL4VQ8Acwz+2Lp5Q3NLCP9qAd85/icI/KMyhRZhAwj+TJf/1GPjBPwrqbPL7r8E/oHeQhy9owT/wgDa+1iDBPwxbBCbt2cA/G7A2N3CTwD/di114YE3AP8UY2B+8B8A/XC0J+veEvz80b7wzRPu+P4r/0Khdcr4/naHTjDbqvT+BVxt1zmK9PyUW0psr3Lw/jMqkDjxWvD8WOIrQC9G7P/BqazqzNLs//lqqbNWyuj9wfRSkkDG6PyoQ/9jdsLk/G/x7yMcwuT8=\",\"dtype\":\"float64\",\"shape\":[100]},\"x\":{\"__ndarray__\":\"/Knx0k1iUD9TAUAmEXXTP36IVv/fbOM/UxCNazcf7T8TzOFrx2jzP/0P/SHzQfg/6FMY2B4b/T/pyxlHJfoAQN5tJyK7ZgNA0w81/VDTBUDIsULY5j8IQL1TULN8rApAs/VdjhIZDUCol2tpqIUPQM+cPCIf+RBAyW3DD2ovEkDEPkr9tGUTQL8P0er/mxRAueBX2ErSFUC0sd7FlQgXQK6CZbPgPhhAqVPsoCt1GUCjJHOOdqsaQJ71+XvB4RtAmcaAaQwYHUCTlwdXV04eQI5ojkSihB9AxJwKmXZdIEBBBc4PnPggQL5tkYbBkyFAO9ZU/eYuIkC5Phh0DMoiQDan2+oxZSNAsw+fYVcAJEAxeGLYfJskQK7gJU+iNiVAK0npxcfRJUCosaw87WwmQCYacLMSCCdAo4IzKjijJ0Ag6/agXT4oQJ5TuheD2ShAG7x9jqh0KUCYJEEFzg8qQBWNBHzzqipAk/XH8hhGK0AQXotpPuErQI3GTuBjfCxACy8SV4kXLUCIl9XNrrItQAUAmUTUTS5Agmhcu/noLkAA0R8yH4QvQL+ccVSiDzBA/lDTDzVdMEA8BTXLx6owQHu5loZa+DBAum34Qe1FMUD4IVr9f5MxQDfWu7gS4TFAdYoddKUuMkC0Pn8vOHwyQPPy4OrKyTJAMadCpl0XM0BwW6Rh8GQzQK8PBh2DsjNA7cNn2BUANEAseMmTqE00QGssK087mzRAqeCMCs7oNEDolO7FYDY1QCZJUIHzgzVAZf2xPIbRNUCksRP4GB82QOJldbOrbDZAIRrXbj66NkBgzjgq0Qc3QJ6CmuVjVTdA3Tb8oPaiN0Ac611cifA3QFqfvxccPjhAmVMh066LOEDYB4OOQdk4QBa85EnUJjlAVXBGBWd0OUCTJKjA+cE5QNLYCXyMDzpAEY1rNx9dOkBPQc3ysao6QI71Lq5E+DpAzamQaddFO0ALXvIkapM7QEoSVOD84DtAica1m48uPEDHehdXInw8QAYveRK1yTxARePazUcXPUCDlzyJ2mQ9QMJLnkRtsj1AAAAAAAAAPkA=\",\"dtype\":\"float64\",\"shape\":[100]}},\"selected\":{\"id\":\"1183\",\"type\":\"Selection\"},\"selection_policy\":{\"id\":\"1184\",\"type\":\"UnionRenderers\"}},\"id\":\"1124\",\"type\":\"ColumnDataSource\"},{\"attributes\":{\"source\":{\"id\":\"1124\",\"type\":\"ColumnDataSource\"}},\"id\":\"1164\",\"type\":\"CDSView\"},{\"attributes\":{\"axis_label\":\"Savings rate\",\"formatter\":{\"id\":\"1168\",\"type\":\"BasicTickFormatter\"},\"plot\":{\"id\":\"1126\",\"subtype\":\"Figure\",\"type\":\"Plot\"},\"ticker\":{\"id\":\"1142\",\"type\":\"BasicTicker\"}},\"id\":\"1141\",\"type\":\"LinearAxis\"},{\"attributes\":{\"data_source\":{\"id\":\"1124\",\"type\":\"ColumnDataSource\"},\"glyph\":{\"id\":\"1174\",\"type\":\"Line\"},\"hover_glyph\":null,\"muted_glyph\":null,\"nonselection_glyph\":{\"id\":\"1175\",\"type\":\"Line\"},\"selection_glyph\":null,\"view\":{\"id\":\"1177\",\"type\":\"CDSView\"}},\"id\":\"1176\",\"type\":\"GlyphRenderer\"},{\"attributes\":{},\"id\":\"1147\",\"type\":\"WheelZoomTool\"},{\"attributes\":{\"line_color\":\"green\",\"x\":{\"field\":\"x\"},\"y\":{\"field\":\"c\"}},\"id\":\"1188\",\"type\":\"Line\"},{\"attributes\":{\"line_alpha\":0.1,\"line_color\":\"#1f77b4\",\"x\":{\"field\":\"x\"},\"y\":{\"field\":\"c\"}},\"id\":\"1189\",\"type\":\"Line\"},{\"attributes\":{\"label\":{\"value\":\"\\u03b8 = 0.5\"},\"renderers\":[{\"id\":\"1176\",\"type\":\"GlyphRenderer\"}]},\"id\":\"1186\",\"type\":\"LegendItem\"},{\"attributes\":{\"axis_label\":\"Capital pr. capita\",\"formatter\":{\"id\":\"1166\",\"type\":\"BasicTickFormatter\"},\"plot\":{\"id\":\"1126\",\"subtype\":\"Figure\",\"type\":\"Plot\"},\"ticker\":{\"id\":\"1137\",\"type\":\"BasicTicker\"}},\"id\":\"1136\",\"type\":\"LinearAxis\"},{\"attributes\":{},\"id\":\"1184\",\"type\":\"UnionRenderers\"},{\"attributes\":{\"plot\":null,\"text\":\"Figure\"},\"id\":\"1125\",\"type\":\"Title\"},{\"attributes\":{},\"id\":\"1183\",\"type\":\"Selection\"},{\"attributes\":{\"line_alpha\":0.1,\"line_color\":\"#1f77b4\",\"x\":{\"field\":\"x\"},\"y\":{\"field\":\"b\"}},\"id\":\"1175\",\"type\":\"Line\"},{\"attributes\":{\"source\":{\"id\":\"1124\",\"type\":\"ColumnDataSource\"}},\"id\":\"1177\",\"type\":\"CDSView\"},{\"attributes\":{\"callback\":null,\"tooltips\":[[\"Capital pr. capita\",\"@x{0,0.00}\"],[\"Savings rate for \\u03b8 = 0.3\",\"@a{0.00}\"],[\"Savings rate for \\u03b8 = 0.5\",\"@b{0.00}\"],[\"Savings rate for \\u03b8 = 0.7\",\"@c{0.00}\"],[\"Savings rate for \\u03b8 = 1.5\",\"@d{0.00}\"]]},\"id\":\"1123\",\"type\":\"HoverTool\"},{\"attributes\":{\"data_source\":{\"id\":\"1124\",\"type\":\"ColumnDataSource\"},\"glyph\":{\"id\":\"1188\",\"type\":\"Line\"},\"hover_glyph\":null,\"muted_glyph\":null,\"nonselection_glyph\":{\"id\":\"1189\",\"type\":\"Line\"},\"selection_glyph\":null,\"view\":{\"id\":\"1191\",\"type\":\"CDSView\"}},\"id\":\"1190\",\"type\":\"GlyphRenderer\"},{\"attributes\":{},\"id\":\"1168\",\"type\":\"BasicTickFormatter\"},{\"attributes\":{},\"id\":\"1142\",\"type\":\"BasicTicker\"}],\"root_ids\":[\"1126\"]},\"title\":\"Bokeh Application\",\"version\":\"1.0.2\"}};\n",
       "  var render_items = [{\"docid\":\"679bf78c-1004-4227-a8ae-06e65aa985fb\",\"notebook_comms_target\":\"1231\",\"roots\":{\"1126\":\"2feefdbc-a211-46c3-9b8c-a0531169528b\"}}];\n",
       "  root.Bokeh.embed.embed_items_notebook(docs_json, render_items);\n",
       "\n",
       "  }\n",
       "  if (root.Bokeh !== undefined) {\n",
       "    embed_document(root);\n",
       "  } else {\n",
       "    var attempts = 0;\n",
       "    var timer = setInterval(function(root) {\n",
       "      if (root.Bokeh !== undefined) {\n",
       "        embed_document(root);\n",
       "        clearInterval(timer);\n",
       "      }\n",
       "      attempts++;\n",
       "      if (attempts > 100) {\n",
       "        console.log(\"Bokeh: ERROR: Unable to run BokehJS code because BokehJS library is missing\");\n",
       "        clearInterval(timer);\n",
       "      }\n",
       "    }, 10, root)\n",
       "  }\n",
       "})(window);"
      ],
      "application/vnd.bokehjs_exec.v0+json": ""
     },
     "metadata": {
      "application/vnd.bokehjs_exec.v0+json": {
       "id": "1126"
      }
     },
     "output_type": "display_data"
    },
    {
     "data": {
      "text/html": [
       "<p><code>&lt;Bokeh Notebook handle for <strong>In[8]</strong>&gt;</code></p>"
      ],
      "text/plain": [
       "<bokeh.io.notebook.CommsHandle at 0x11b6114e0>"
      ]
     },
     "execution_count": 8,
     "metadata": {},
     "output_type": "execute_result"
    }
   ],
   "source": [
    "''' We use Bokeh to plot and have defined a function in model_funcs.py \n",
    "that calls the plot to bokeh ''' \n",
    "\n",
    "y_names=[]\n",
    "# \\u03B8 is code for theta \n",
    "for theta in thetas:\n",
    "    y_names.append(f'\\u03B8 = {theta:.1f}')\n",
    "\n",
    "p = model_funcs.plotting(\"Capital pr. capita\",y_names, k0s, sks, width=600)\n",
    "show(p,notebook_handle=True)"
   ]
  },
  {
   "cell_type": "markdown",
   "metadata": {},
   "source": [
    "So our models implies a negative relationship between amount of capital pr. capita. This makes well intuitive sense, since marginal product of capital is relatively smaller, when there is more of it, and thus the household will choose to consume more now, rather than making a bad investment for future consumption. This also bodes well for our model having convergence, to explain why first we plot the same graph, but with a line indicating steady state for a given fixed savings rate. To do this we use the below formula derived ealier and plot it for varying $s_{K}$.\n",
    "$$\n",
    "k^{*}=\\left(\\frac{B\\cdot s_{K}}{\\delta+n}\\right)^{\\frac{1}{1-\\alpha}}\n",
    "$$\n"
   ]
  },
  {
   "cell_type": "code",
   "execution_count": 9,
   "metadata": {},
   "outputs": [],
   "source": [
    "sksopt = model_funcs.find_ssk_sk(k0s,b,delta,n,alpha)\n",
    "y_names.append('Steady state')\n",
    "sks.append(sksopt)"
   ]
  },
  {
   "cell_type": "code",
   "execution_count": 10,
   "metadata": {},
   "outputs": [
    {
     "data": {
      "text/html": [
       "\n",
       "\n",
       "\n",
       "\n",
       "\n",
       "\n",
       "  <div class=\"bk-root\" id=\"f706483c-e641-4216-964c-6491f8991d12\"></div>\n"
      ]
     },
     "metadata": {},
     "output_type": "display_data"
    },
    {
     "data": {
      "application/javascript": [
       "(function(root) {\n",
       "  function embed_document(root) {\n",
       "    \n",
       "  var docs_json = {\"16af8642-93d9-405e-97a8-8925652b9a4b\":{\"roots\":{\"references\":[{\"attributes\":{\"below\":[{\"id\":\"1293\",\"type\":\"LinearAxis\"}],\"left\":[{\"id\":\"1298\",\"type\":\"LinearAxis\"}],\"plot_height\":500,\"renderers\":[{\"id\":\"1293\",\"type\":\"LinearAxis\"},{\"id\":\"1297\",\"type\":\"Grid\"},{\"id\":\"1298\",\"type\":\"LinearAxis\"},{\"id\":\"1302\",\"type\":\"Grid\"},{\"id\":\"1311\",\"type\":\"BoxAnnotation\"},{\"id\":\"1328\",\"type\":\"Legend\"},{\"id\":\"1320\",\"type\":\"GlyphRenderer\"},{\"id\":\"1333\",\"type\":\"GlyphRenderer\"},{\"id\":\"1347\",\"type\":\"GlyphRenderer\"},{\"id\":\"1361\",\"type\":\"GlyphRenderer\"},{\"id\":\"1375\",\"type\":\"GlyphRenderer\"}],\"title\":{\"id\":\"1282\",\"type\":\"Title\"},\"toolbar\":{\"id\":\"1308\",\"type\":\"Toolbar\"},\"x_range\":{\"id\":\"1285\",\"type\":\"DataRange1d\"},\"x_scale\":{\"id\":\"1289\",\"type\":\"LinearScale\"},\"y_range\":{\"id\":\"1287\",\"type\":\"DataRange1d\"},\"y_scale\":{\"id\":\"1291\",\"type\":\"LinearScale\"}},\"id\":\"1283\",\"subtype\":\"Figure\",\"type\":\"Plot\"},{\"attributes\":{},\"id\":\"1291\",\"type\":\"LinearScale\"},{\"attributes\":{},\"id\":\"1306\",\"type\":\"ResetTool\"},{\"attributes\":{\"line_alpha\":0.1,\"line_color\":\"#1f77b4\",\"x\":{\"field\":\"x\"},\"y\":{\"field\":\"c\"}},\"id\":\"1346\",\"type\":\"Line\"},{\"attributes\":{},\"id\":\"1307\",\"type\":\"SaveTool\"},{\"attributes\":{\"data_source\":{\"id\":\"1281\",\"type\":\"ColumnDataSource\"},\"glyph\":{\"id\":\"1345\",\"type\":\"Line\"},\"hover_glyph\":null,\"muted_glyph\":null,\"nonselection_glyph\":{\"id\":\"1346\",\"type\":\"Line\"},\"selection_glyph\":null,\"view\":{\"id\":\"1348\",\"type\":\"CDSView\"}},\"id\":\"1347\",\"type\":\"GlyphRenderer\"},{\"attributes\":{\"line_color\":\"red\",\"x\":{\"field\":\"x\"},\"y\":{\"field\":\"a\"}},\"id\":\"1318\",\"type\":\"Line\"},{\"attributes\":{},\"id\":\"1340\",\"type\":\"Selection\"},{\"attributes\":{\"items\":[{\"id\":\"1329\",\"type\":\"LegendItem\"},{\"id\":\"1343\",\"type\":\"LegendItem\"},{\"id\":\"1357\",\"type\":\"LegendItem\"},{\"id\":\"1371\",\"type\":\"LegendItem\"},{\"id\":\"1385\",\"type\":\"LegendItem\"}],\"location\":\"top_center\",\"plot\":{\"id\":\"1283\",\"subtype\":\"Figure\",\"type\":\"Plot\"}},\"id\":\"1328\",\"type\":\"Legend\"},{\"attributes\":{\"source\":{\"id\":\"1281\",\"type\":\"ColumnDataSource\"}},\"id\":\"1348\",\"type\":\"CDSView\"},{\"attributes\":{\"line_alpha\":0.1,\"line_color\":\"#1f77b4\",\"x\":{\"field\":\"x\"},\"y\":{\"field\":\"a\"}},\"id\":\"1319\",\"type\":\"Line\"},{\"attributes\":{},\"id\":\"1304\",\"type\":\"WheelZoomTool\"},{\"attributes\":{\"callback\":null},\"id\":\"1285\",\"type\":\"DataRange1d\"},{\"attributes\":{\"label\":{\"value\":\"\\u03b8 = 0.7\"},\"renderers\":[{\"id\":\"1347\",\"type\":\"GlyphRenderer\"}]},\"id\":\"1357\",\"type\":\"LegendItem\"},{\"attributes\":{\"data_source\":{\"id\":\"1281\",\"type\":\"ColumnDataSource\"},\"glyph\":{\"id\":\"1318\",\"type\":\"Line\"},\"hover_glyph\":null,\"muted_glyph\":null,\"nonselection_glyph\":{\"id\":\"1319\",\"type\":\"Line\"},\"selection_glyph\":null,\"view\":{\"id\":\"1321\",\"type\":\"CDSView\"}},\"id\":\"1320\",\"type\":\"GlyphRenderer\"},{\"attributes\":{},\"id\":\"1303\",\"type\":\"PanTool\"},{\"attributes\":{\"source\":{\"id\":\"1281\",\"type\":\"ColumnDataSource\"}},\"id\":\"1321\",\"type\":\"CDSView\"},{\"attributes\":{\"line_color\":\"purple\",\"x\":{\"field\":\"x\"},\"y\":{\"field\":\"d\"}},\"id\":\"1359\",\"type\":\"Line\"},{\"attributes\":{},\"id\":\"1323\",\"type\":\"BasicTickFormatter\"},{\"attributes\":{\"line_alpha\":0.1,\"line_color\":\"#1f77b4\",\"x\":{\"field\":\"x\"},\"y\":{\"field\":\"d\"}},\"id\":\"1360\",\"type\":\"Line\"},{\"attributes\":{\"callback\":null,\"tooltips\":[[\"Capital pr. capita\",\"@x{0,0.00}\"],[\"Savings rate for \\u03b8 = 0.3\",\"@a{0.00}\"],[\"Savings rate for \\u03b8 = 0.5\",\"@b{0.00}\"],[\"Savings rate for \\u03b8 = 0.7\",\"@c{0.00}\"],[\"Savings rate for \\u03b8 = 1.5\",\"@d{0.00}\"],[\"Savings rate for Steady state\",\"@e{0.00}\"]]},\"id\":\"1280\",\"type\":\"HoverTool\"},{\"attributes\":{\"data_source\":{\"id\":\"1281\",\"type\":\"ColumnDataSource\"},\"glyph\":{\"id\":\"1359\",\"type\":\"Line\"},\"hover_glyph\":null,\"muted_glyph\":null,\"nonselection_glyph\":{\"id\":\"1360\",\"type\":\"Line\"},\"selection_glyph\":null,\"view\":{\"id\":\"1362\",\"type\":\"CDSView\"}},\"id\":\"1361\",\"type\":\"GlyphRenderer\"},{\"attributes\":{\"label\":{\"value\":\"\\u03b8 = 0.3\"},\"renderers\":[{\"id\":\"1320\",\"type\":\"GlyphRenderer\"}]},\"id\":\"1329\",\"type\":\"LegendItem\"},{\"attributes\":{\"callback\":null,\"data\":{\"a\":{\"__ndarray__\":\"tlE6JJiB7z80vA8ma7HsP3c0G5mkhes/mGNz5DyM6j/EikKag63pPyLiKhX/4eg/wRfhGBAi6D9Z9jm3D27nPwvzbbvWwOY/j2dGI9cZ5j8Qm9UZRHnlP7vvT70r3uQ/OMkGSPZF5D8h0rDWWrHjP1n+QuWUIOM//ZUC9F2T4j/XuC6CKwniP25xfFKogeE/xfMM+l784D/B+qzQtnngP/eHPdQn8t8/4r1EE5z03j9rdWCkofrdP8jxYToIBN0/55uYCmkQ3D8bxo+TqR7bP69lA428Mto/NA7y74NI2T8Co/9kpGHYP28qAID+etc/R1qJPmiY1j8neHc79LfVP8PT4OZY2dQ/14030V/70z+yVs2ARiLTPzwp3MeDStI/AD/ZI6t00T9EBVn+maDQP1gkw1eUnM8/W4jK1Tn7zT+k8/9x91zMP2zrBde5wco/lFBAWHIpyT8T9tFglZfHPxJpcoTHBMY/4MjmDvF0xD8wAVin+OfCPyMo7fTQXcE/SEWDGxWsvz8DVk2X2aC8PwKIsQZ8mrk/Oi4H7kyYtj/g5JSo/pmzP5lXxgq9nbA/pd65xalLqz+qrd1902ulPzbzQsVqQJ8/zBF+npO6kz/g//La71aAPzqMMOKOeUU+Ooww4o55RT6020fnjnlFPitKvuiOeUU+vVza4o55RT6SVT7xjnlFPkPr9uKOeUU++L536o55RT46jDDijnlFPoAIU+aOeUU+PyyP9455RT46jDDijnlFPtlYK+OOeUU+Ooww4o55RT46jDDijnlFPv4iLPKOeUU+Ooww4o55RT46jDDijnlFPvE4BfiOeUU+x8tc8455RT46jDDijnlFPot4yuWOeUU+Ooww4o55RT46jDDijnlFPjqMMOKOeUU+qJ/g5Y55RT46jDDijnlFPjqMMOKOeUU+y3ba4455RT46jDDijnlFPjqMMOKOeUU+Ooww4o55RT5z9sTjjnlFPjqMMOKOeUU+Ooww4o55RT46jDDijnlFPjqMMOKOeUU+H9HO6Y55RT46jDDijnlFPj1AVPOOeUU+gM6l9I55RT4=\",\"dtype\":\"float64\",\"shape\":[100]},\"b\":{\"__ndarray__\":\"6DHAC+r/6z9MUXYvs6voP477R74XfOc/6h+8vQiM5j9LSBv5sL7lP1EBZhOSBeU/fMTA3Pdc5D9K0GX6TsDjP57/gr6kLeM/bGkNCVai4j9bZCO26B3iP63uKPbinuE/mehfGlYj4T9aXxVZ4a3gP+wrqrVGPOA/7YS+bVGc3z81V1ZXZMbeP9LCtGkx9t0/y33OxDsr3T/YN7DIkmrcP4LhDsoTqNs/XKl2YeTp2j/lLHoewS/aP4EF1Itnedk/yytGdLTG2D+i9hMCShPYP2qIDcR/Ztc/mypQcm681j8Vx/5BQxjWP8ib+hGactU/xuf+A9rP1D+8lUptrTPUPz3o4An2k9M/aiaINvX40j+8ZnCEtV7SP846EACSxtE/u1HdZWYw0T/F/6PID5zQP9l23DXyA9A/p0tUMbjnzj8HY4xLesrNPxJ+3U3Dr8w/6agO1QiYyz+6adyU74LKPywID+JqcMk/nokahZhgyD/LBk60VFPHP17LAk8GSMY//1LNnGk+xT85AhraEj/EP/Gu31RLOMM/UXGgX3I1wj/oRqFf6jPBP/xtCHjwNMA/L8l0iXRwvj+GhJ95F3u8PzaVzdOWibo/nK2Yp+abuD8JbZQs2rG2PyuWEQNby7Q/KbHB5E3osj9OZ/DknQixP31mAL6AWK4/njzRDwOmqj+pkLba0/mmPznYMSKmU6M/8W3aacBmnz96md8zzDGYP2eEMablCJE//EE3B5vXgz8g4nmXM9BmPzqMMOKOeUU+Ooww4o55RT46jDDijnlFPtkwhOWOeUU+Ooww4o55RT70ad78jnlFPnzWZ+OOeUU+Ooww4o55RT46jDDijnlFPg1A+OWOeUU+Ooww4o55RT46jDDijnlFPtqHwOWOeUU+Ooww4o55RT78ERjjjnlFPjqMMOKOeUU+Ooww4o55RT6rWoHojnlFPjqMMOKOeUU+VwB++o55RT46jDDijnlFPj+vju+OeUU+Ooww4o55RT46jDDijnlFPgTA2ueOeUU+zajl6Y55RT46jDDijnlFPr5ToeuOeUU+Ooww4o55RT4=\",\"dtype\":\"float64\",\"shape\":[100]},\"c\":{\"__ndarray__\":\"ugUQ8I385j/MyiobWnjlP2wm3xEyf+Q/+0Vscke24z/BNtjxuAjjPx0bOLSpbeI/cNgiEuHf4T8SNLtvIl3hPyrNMhi54+A/Qn2xJYNv4D+QINaihQLgP/r4Z7TGNN8/gq/9bVpz3j9iG7WbrLPdP0YtCE4S+9w/RJaYJdBI3D91TB5nSJzbP1xqdKP09No/bX6s/QZM2j/waEvKmq7ZP25hG6UiFdk/uHd4mE9/2D+r0yRl2+zXPzm0Jvd4Xdc/EW3blhLU1j9r5DlWBkvWP9P+cbZRwdU/vl/sM2Y81T+I2aeNN7jUPxGwAPNeN9Q/HaxZy+C+0z9kVro63D7TPxNZiWWfxtI/wsZa5V9O0j9QL3bNN9rRP3BtQZejZdE/2LSgfIby0D+m1t472YDQP2LGYriUENA/XYyaWl1Dzz9vpJn4N2jOP3GgmXuqj80/nfHCj5S5zD9+1ZiZ7OXLP78pVh6VFMs/HINCoGxFyj98ZuY5f3jJP/7EWfLBrcg/6BI4PhLlxz/5/OhvUR7HP85wmpF8WcY/ll3GxoOWxT8s2+x9xtDEPyNjf53DEcQ/ItszJnlUwz+EtuQw5JjCPwNVaXTg3sE/ofNwJ3EmwT+qs5KQg2/APxiCgQQedL8/rJkC+AoMvj9HO8r6x6a8P1ey1E4+RLs/CcaZz2nkuT8G3ns+Ioe4P/SjI1VJLLc/tvNE/uXTtT+LgSPMgX20P46TY8lHKbM/9l6enYXXsT8JM7L8/IewP7zE+4ZCda4/t42ijMXeqz+MHJNHj0ypP/T0q/xavqY/nKFgcD40pD9aSkQI/a2hPzk8sJW0Wp4/HjK7o48tmT9ilRCfeUCUP9Ug4Tq+sY4/PH34q5buhD8Cgqn4pm52P4fpsWhhEUg/e1u25Y55RT46jDDijnlFPjqMMOKOeUU+A+mw4455RT5o4e7pjnlFPjqMMOKOeUU+e6Rp6455RT74KUjmjnlFPlVFgeiOeUU+Ooww4o55RT46jDDijnlFPjqMMOKOeUU+Ooww4o55RT46jDDijnlFPtXFjuOOeUU+Ooww4o55RT4=\",\"dtype\":\"float64\",\"shape\":[100]},\"d\":{\"__ndarray__\":\"c5+nfvL60j9Scr5paBTcP8/+OwI5pts/IJdvSUUR2z9CyH278n3aP2sPOCG28tk/8HtnH0du2T+qbrNzsfHYP8Ho6pGwfNg/+/yHD9sM2D/Gq8zEjaLXPwdrI+CpPNc/F+ANmu3a1j9W3uY9wHvWP531jWGTIdY/eLB3KmDL1T/o1+hJ33bVPyjauimqJNU/aTsxR17Y1D8eQhSzyYbUP1BP5serO9Q/Lqg6a4/z0z/mpLoUEqvTP0hpiNnSY9M/Cfwu0BMf0z+2XersAeDSP5fB75NwntI/imZaCJNe0j+EEUZ5AhzSPxxTX1f73tE/1Nx53c+i0T9YQ4V2j2fRP1cC4RI6LdE/tXo/eJv40D+Iq6aqhb/QP3sz7kFPh9A/kLn/h+xP0D+4hVZQWRnQP2EjRnatvc8/a8FJ0m5Vzz8mbfAVgO7OP5eiSlLTiM4/rQVi+lUkzj8xwFKUAsHNP1ytBHDJXs0/QvY1RKn9zD8KvTynlp3MP8X7TrWSPsw/+qnp95Dgyz+1irH3iYPLP2QgSwRHKMs/xOxOLdnNyj/wqvKIHnTKP9nBAorgGso/tEXNH2XCyT9sLDxioGrJP5Et94hcE8k/PAMuVge9yD9vCue4eWfIPx75uzikEsg/+RINOY++xz82eK8WNmvHP0i4glSTGMc/B/q3/abGxj/MffXIC23GP38dUqf4HMY/zxvleYzNxT9cDJ2pwn7FP3Rw13CXMMU/+BdWE/7ixD/IycQg95XEP/PNgV+DScQ/DyLHPIb9wz+s9ngJELLDPwbmNjApZ8M/GL4VQ8Acwz+2Lp5Q3NLCP9qAd85/icI/KMyhRZhAwj+TJf/1GPjBPwrqbPL7r8E/oHeQhy9owT/wgDa+1iDBPwxbBCbt2cA/G7A2N3CTwD/di114YE3AP8UY2B+8B8A/XC0J+veEvz80b7wzRPu+P4r/0Khdcr4/naHTjDbqvT+BVxt1zmK9PyUW0psr3Lw/jMqkDjxWvD8WOIrQC9G7P/BqazqzNLs//lqqbNWyuj9wfRSkkDG6PyoQ/9jdsLk/G/x7yMcwuT8=\",\"dtype\":\"float64\",\"shape\":[100]},\"e\":{\"__ndarray__\":\"GBcOhGQBQz/YiGcfbNqaPzE1vKk/SqU/D+sbQjvjqz+JUyxSfeOwPxFvBOtpmLM/ZyfYC1Ygtj/uaMDEE4W4P8gr59A5zbo/MagULHn9vD84mpZATxm/P9AG2Le1kcA/U7+adPaOwT/WalMtRYXCPznxCz9WdcM/xvhUQMBfxD/eryiRAkXFPxTFHieKJcY/4ybAIrUBxz+Tq4SJ1dnHP79nrGEzrsg/bZPgWQ5/yT/KiPQZn0zKP0gFuFEYF8s/siMPlafeyz+af4YQdqPMPzxWxh6pZc0/CAk/xWIlzj99sO0cwuLOP8G7/qrjnc8/okoh1nAr0D/lr+Qq6obQP3u0QAZp4dA/Ixmryvc60T/JeYIfoJPRP+4VUQNr69E/dT7P22BC0j+UdPqDiZjSP03Fh1js7dI/wjXsQpBC0z8DkCzDe5bTP1gYnvi06dM/Nk67qUE81D+IlCpLJ47UP646EAZr39Q/HLjBvREw1T/d3OwUIIDVPx8mQ3Kaz9U/aTm3BIUe1j8/sVjH42zWP7/U2IS6utY/1nzB2gwI1z9eRGY83lTXP/kjl/Uxodc/O8EaLQvt1z+C/PXmbDjYPwGmhQZag9g/r7RuUNXN2D9a3mhs4RfZPx0E5+aAYdk/y4egMraq2T8wTP6pg/PZP3PYbZDrO9o/6tacE/CD2j9l7p5Mk8vaP5zC/0DXEts/urvC471Z2z//DFIWSaDbPyZPXql65ts/deOvXVQs3D8yOOvk13HcP8HtSOIGt9w/DsVC6+L73D9hKzaIbUDdP5Al/TSohN0/okt+YZTI3T9ZdzRyMwzeP226rsCGT94/ECUJnI+S3j802l5JT9XeP0flNQTHF98/eTvl/vdZ3z/ZSvVi45vfP69xe1GK3d8/31i48XYP4D9S9gGVBzDgP4v4c5d3UOA/k81Oesdw4D+JIl2795DgP+ZgFdUIseA/D4u5PvvQ4D/hkHVsz/DgPywzfM+FEOE/cIsi1h4w4T/MS/rrmk/hP6nJ6nn6buE/fORI5j2O4T/J2O2UZa3hP54OTedxzOE/g/GIPGPr4T8=\",\"dtype\":\"float64\",\"shape\":[100]},\"x\":{\"__ndarray__\":\"/Knx0k1iUD9TAUAmEXXTP36IVv/fbOM/UxCNazcf7T8TzOFrx2jzP/0P/SHzQfg/6FMY2B4b/T/pyxlHJfoAQN5tJyK7ZgNA0w81/VDTBUDIsULY5j8IQL1TULN8rApAs/VdjhIZDUCol2tpqIUPQM+cPCIf+RBAyW3DD2ovEkDEPkr9tGUTQL8P0er/mxRAueBX2ErSFUC0sd7FlQgXQK6CZbPgPhhAqVPsoCt1GUCjJHOOdqsaQJ71+XvB4RtAmcaAaQwYHUCTlwdXV04eQI5ojkSihB9AxJwKmXZdIEBBBc4PnPggQL5tkYbBkyFAO9ZU/eYuIkC5Phh0DMoiQDan2+oxZSNAsw+fYVcAJEAxeGLYfJskQK7gJU+iNiVAK0npxcfRJUCosaw87WwmQCYacLMSCCdAo4IzKjijJ0Ag6/agXT4oQJ5TuheD2ShAG7x9jqh0KUCYJEEFzg8qQBWNBHzzqipAk/XH8hhGK0AQXotpPuErQI3GTuBjfCxACy8SV4kXLUCIl9XNrrItQAUAmUTUTS5Agmhcu/noLkAA0R8yH4QvQL+ccVSiDzBA/lDTDzVdMEA8BTXLx6owQHu5loZa+DBAum34Qe1FMUD4IVr9f5MxQDfWu7gS4TFAdYoddKUuMkC0Pn8vOHwyQPPy4OrKyTJAMadCpl0XM0BwW6Rh8GQzQK8PBh2DsjNA7cNn2BUANEAseMmTqE00QGssK087mzRAqeCMCs7oNEDolO7FYDY1QCZJUIHzgzVAZf2xPIbRNUCksRP4GB82QOJldbOrbDZAIRrXbj66NkBgzjgq0Qc3QJ6CmuVjVTdA3Tb8oPaiN0Ac611cifA3QFqfvxccPjhAmVMh066LOEDYB4OOQdk4QBa85EnUJjlAVXBGBWd0OUCTJKjA+cE5QNLYCXyMDzpAEY1rNx9dOkBPQc3ysao6QI71Lq5E+DpAzamQaddFO0ALXvIkapM7QEoSVOD84DtAica1m48uPEDHehdXInw8QAYveRK1yTxARePazUcXPUCDlzyJ2mQ9QMJLnkRtsj1AAAAAAAAAPkA=\",\"dtype\":\"float64\",\"shape\":[100]}},\"selected\":{\"id\":\"1340\",\"type\":\"Selection\"},\"selection_policy\":{\"id\":\"1341\",\"type\":\"UnionRenderers\"}},\"id\":\"1281\",\"type\":\"ColumnDataSource\"},{\"attributes\":{\"source\":{\"id\":\"1281\",\"type\":\"ColumnDataSource\"}},\"id\":\"1362\",\"type\":\"CDSView\"},{\"attributes\":{\"label\":{\"value\":\"\\u03b8 = 1.5\"},\"renderers\":[{\"id\":\"1361\",\"type\":\"GlyphRenderer\"}]},\"id\":\"1371\",\"type\":\"LegendItem\"},{\"attributes\":{\"line_color\":\"blue\",\"x\":{\"field\":\"x\"},\"y\":{\"field\":\"b\"}},\"id\":\"1331\",\"type\":\"Line\"},{\"attributes\":{\"bottom_units\":\"screen\",\"fill_alpha\":{\"value\":0.5},\"fill_color\":{\"value\":\"lightgrey\"},\"left_units\":\"screen\",\"level\":\"overlay\",\"line_alpha\":{\"value\":1.0},\"line_color\":{\"value\":\"black\"},\"line_dash\":[4,4],\"line_width\":{\"value\":2},\"plot\":null,\"render_mode\":\"css\",\"right_units\":\"screen\",\"top_units\":\"screen\"},\"id\":\"1311\",\"type\":\"BoxAnnotation\"},{\"attributes\":{},\"id\":\"1289\",\"type\":\"LinearScale\"},{\"attributes\":{\"line_alpha\":0.1,\"line_color\":\"#1f77b4\",\"x\":{\"field\":\"x\"},\"y\":{\"field\":\"b\"}},\"id\":\"1332\",\"type\":\"Line\"},{\"attributes\":{\"callback\":null},\"id\":\"1287\",\"type\":\"DataRange1d\"},{\"attributes\":{\"active_drag\":\"auto\",\"active_inspect\":\"auto\",\"active_multi\":null,\"active_scroll\":\"auto\",\"active_tap\":\"auto\",\"tools\":[{\"id\":\"1280\",\"type\":\"HoverTool\"},{\"id\":\"1303\",\"type\":\"PanTool\"},{\"id\":\"1304\",\"type\":\"WheelZoomTool\"},{\"id\":\"1305\",\"type\":\"BoxZoomTool\"},{\"id\":\"1306\",\"type\":\"ResetTool\"},{\"id\":\"1307\",\"type\":\"SaveTool\"}]},\"id\":\"1308\",\"type\":\"Toolbar\"},{\"attributes\":{\"data_source\":{\"id\":\"1281\",\"type\":\"ColumnDataSource\"},\"glyph\":{\"id\":\"1331\",\"type\":\"Line\"},\"hover_glyph\":null,\"muted_glyph\":null,\"nonselection_glyph\":{\"id\":\"1332\",\"type\":\"Line\"},\"selection_glyph\":null,\"view\":{\"id\":\"1334\",\"type\":\"CDSView\"}},\"id\":\"1333\",\"type\":\"GlyphRenderer\"},{\"attributes\":{\"line_color\":\"yellow\",\"x\":{\"field\":\"x\"},\"y\":{\"field\":\"e\"}},\"id\":\"1373\",\"type\":\"Line\"},{\"attributes\":{\"plot\":{\"id\":\"1283\",\"subtype\":\"Figure\",\"type\":\"Plot\"},\"ticker\":{\"id\":\"1294\",\"type\":\"BasicTicker\"}},\"id\":\"1297\",\"type\":\"Grid\"},{\"attributes\":{\"line_alpha\":0.1,\"line_color\":\"#1f77b4\",\"x\":{\"field\":\"x\"},\"y\":{\"field\":\"e\"}},\"id\":\"1374\",\"type\":\"Line\"},{\"attributes\":{},\"id\":\"1294\",\"type\":\"BasicTicker\"},{\"attributes\":{\"source\":{\"id\":\"1281\",\"type\":\"ColumnDataSource\"}},\"id\":\"1334\",\"type\":\"CDSView\"},{\"attributes\":{\"overlay\":{\"id\":\"1311\",\"type\":\"BoxAnnotation\"}},\"id\":\"1305\",\"type\":\"BoxZoomTool\"},{\"attributes\":{\"data_source\":{\"id\":\"1281\",\"type\":\"ColumnDataSource\"},\"glyph\":{\"id\":\"1373\",\"type\":\"Line\"},\"hover_glyph\":null,\"muted_glyph\":null,\"nonselection_glyph\":{\"id\":\"1374\",\"type\":\"Line\"},\"selection_glyph\":null,\"view\":{\"id\":\"1376\",\"type\":\"CDSView\"}},\"id\":\"1375\",\"type\":\"GlyphRenderer\"},{\"attributes\":{},\"id\":\"1299\",\"type\":\"BasicTicker\"},{\"attributes\":{},\"id\":\"1325\",\"type\":\"BasicTickFormatter\"},{\"attributes\":{\"source\":{\"id\":\"1281\",\"type\":\"ColumnDataSource\"}},\"id\":\"1376\",\"type\":\"CDSView\"},{\"attributes\":{},\"id\":\"1341\",\"type\":\"UnionRenderers\"},{\"attributes\":{\"axis_label\":\"Capital pr. capita\",\"formatter\":{\"id\":\"1323\",\"type\":\"BasicTickFormatter\"},\"plot\":{\"id\":\"1283\",\"subtype\":\"Figure\",\"type\":\"Plot\"},\"ticker\":{\"id\":\"1294\",\"type\":\"BasicTicker\"}},\"id\":\"1293\",\"type\":\"LinearAxis\"},{\"attributes\":{\"label\":{\"value\":\"Steady state\"},\"renderers\":[{\"id\":\"1375\",\"type\":\"GlyphRenderer\"}]},\"id\":\"1385\",\"type\":\"LegendItem\"},{\"attributes\":{\"label\":{\"value\":\"\\u03b8 = 0.5\"},\"renderers\":[{\"id\":\"1333\",\"type\":\"GlyphRenderer\"}]},\"id\":\"1343\",\"type\":\"LegendItem\"},{\"attributes\":{\"axis_label\":\"Savings rate\",\"formatter\":{\"id\":\"1325\",\"type\":\"BasicTickFormatter\"},\"plot\":{\"id\":\"1283\",\"subtype\":\"Figure\",\"type\":\"Plot\"},\"ticker\":{\"id\":\"1299\",\"type\":\"BasicTicker\"}},\"id\":\"1298\",\"type\":\"LinearAxis\"},{\"attributes\":{\"plot\":null,\"text\":\"Optimal savings rate for varying \\u03b8 and capital pr. capita\"},\"id\":\"1282\",\"type\":\"Title\"},{\"attributes\":{\"dimension\":1,\"plot\":{\"id\":\"1283\",\"subtype\":\"Figure\",\"type\":\"Plot\"},\"ticker\":{\"id\":\"1299\",\"type\":\"BasicTicker\"}},\"id\":\"1302\",\"type\":\"Grid\"},{\"attributes\":{\"line_color\":\"green\",\"x\":{\"field\":\"x\"},\"y\":{\"field\":\"c\"}},\"id\":\"1345\",\"type\":\"Line\"}],\"root_ids\":[\"1283\"]},\"title\":\"Bokeh Application\",\"version\":\"1.0.2\"}};\n",
       "  var render_items = [{\"docid\":\"16af8642-93d9-405e-97a8-8925652b9a4b\",\"notebook_comms_target\":\"1410\",\"roots\":{\"1283\":\"f706483c-e641-4216-964c-6491f8991d12\"}}];\n",
       "  root.Bokeh.embed.embed_items_notebook(docs_json, render_items);\n",
       "\n",
       "  }\n",
       "  if (root.Bokeh !== undefined) {\n",
       "    embed_document(root);\n",
       "  } else {\n",
       "    var attempts = 0;\n",
       "    var timer = setInterval(function(root) {\n",
       "      if (root.Bokeh !== undefined) {\n",
       "        embed_document(root);\n",
       "        clearInterval(timer);\n",
       "      }\n",
       "      attempts++;\n",
       "      if (attempts > 100) {\n",
       "        console.log(\"Bokeh: ERROR: Unable to run BokehJS code because BokehJS library is missing\");\n",
       "        clearInterval(timer);\n",
       "      }\n",
       "    }, 10, root)\n",
       "  }\n",
       "})(window);"
      ],
      "application/vnd.bokehjs_exec.v0+json": ""
     },
     "metadata": {
      "application/vnd.bokehjs_exec.v0+json": {
       "id": "1283"
      }
     },
     "output_type": "display_data"
    },
    {
     "data": {
      "text/html": [
       "<p><code>&lt;Bokeh Notebook handle for <strong>In[10]</strong>&gt;</code></p>"
      ],
      "text/plain": [
       "<bokeh.io.notebook.CommsHandle at 0x11b640400>"
      ]
     },
     "execution_count": 10,
     "metadata": {},
     "output_type": "execute_result"
    }
   ],
   "source": [
    "figure1 = model_funcs.plotting(\"Capital pr. capita\",y_names, k0s, sks,title='Optimal savings rate for varying \\u03B8 and capital pr. capita',width= 600)\n",
    "show(figure1,notebook_handle=True)"
   ]
  },
  {
   "cell_type": "markdown",
   "metadata": {},
   "source": [
    "Now we can see that we have convergence. Furthermore we acutaully have faster convergence, than in the traditional solow model. For at fixed savings rate $k_{t}<k^{*}$, the transition equation would imply $\\Delta k_{t}>0$. But now, if $k_{t}<k^{*}$ the chosen savings rate by the household will be bigger than at the steady state-level, savings will thus be bigger, implying a bigger $\\Delta k_{t}$ when $k_{t} \\rightarrow k^{*}$ we will see $s_{Kt} \\rightarrow s_{K}^{*}$ and the chosen savings rate will be fixed. <br>\n",
    "Since we have simple solow model, we know that the real optimal fixed savings rate for maximum overall consumption in the long is acutally $s_{K}^{**}=\\alpha$ which in our case is $\\frac{1}{3}$, but we see that this steady state can't be achieved in our model. This is because our representative household is shortsighted and values immediate consumption above future consumption."
   ]
  },
  {
   "cell_type": "markdown",
   "metadata": {},
   "source": [
    "# The simple solow walk"
   ]
  },
  {
   "cell_type": "markdown",
   "metadata": {},
   "source": [
    "Now that we have showed in theory that the model will have convergence, we will show it with a simulation of our model, we will look at a timerange of 150 periods and compare how fast this model compares to the traditional solow-model with a fixed savings rate set at the steady state level savings of our model."
   ]
  },
  {
   "cell_type": "code",
   "execution_count": 11,
   "metadata": {},
   "outputs": [],
   "source": [
    "timeline = 150\n",
    "k0 = 5\n",
    "'''This function finds the implied steady state values of s_k and k_t in our model,\n",
    "basicly by finding the crossing in the above figure.\n",
    "'''\n",
    "\n",
    "k_star, sk_star = model_funcs.find_ss(\n",
    "    t, b, n, beta, delta, alpha, thetas[1], bracket=[0.1,30])\n",
    "\n",
    "# The evolution of the normal solow model:\n",
    "trad_k_pr, trad_y_pr = model_funcs.solowwalk(\n",
    "    k0, b, l0, n, sk_star, alpha, delta, timeline)\n",
    "\n",
    "# The evolution of the modified solowmodel:\n",
    "k_pr, y_pr, sk_path = model_funcs.new_mod_solowwalk(\n",
    "    k0, l0, b,n, alpha, delta, sk_interpers[1], timeline)\n"
   ]
  },
  {
   "cell_type": "code",
   "execution_count": 12,
   "metadata": {},
   "outputs": [
    {
     "data": {
      "text/html": [
       "\n",
       "\n",
       "\n",
       "\n",
       "\n",
       "\n",
       "  <div class=\"bk-root\" id=\"f874fbb7-0300-4dbf-8ce5-dae89797f3ca\"></div>\n"
      ]
     },
     "metadata": {},
     "output_type": "display_data"
    },
    {
     "data": {
      "application/javascript": [
       "(function(root) {\n",
       "  function embed_document(root) {\n",
       "    \n",
       "  var docs_json = {\"6edcdf4e-c949-4b4e-81a5-8884eb70736a\":{\"roots\":{\"references\":[{\"attributes\":{\"children\":[{\"id\":\"1462\",\"subtype\":\"Figure\",\"type\":\"Plot\"},{\"id\":\"1540\",\"subtype\":\"Figure\",\"type\":\"Plot\"}]},\"id\":\"1601\",\"type\":\"Row\"},{\"attributes\":{},\"id\":\"1582\",\"type\":\"BasicTickFormatter\"},{\"attributes\":{\"line_color\":\"blue\",\"x\":{\"field\":\"x\"},\"y\":{\"field\":\"b\"}},\"id\":\"1588\",\"type\":\"Line\"},{\"attributes\":{\"line_alpha\":0.1,\"line_color\":\"#1f77b4\",\"x\":{\"field\":\"x\"},\"y\":{\"field\":\"b\"}},\"id\":\"1589\",\"type\":\"Line\"},{\"attributes\":{\"data_source\":{\"id\":\"1538\",\"type\":\"ColumnDataSource\"},\"glyph\":{\"id\":\"1588\",\"type\":\"Line\"},\"hover_glyph\":null,\"muted_glyph\":null,\"nonselection_glyph\":{\"id\":\"1589\",\"type\":\"Line\"},\"selection_glyph\":null,\"view\":{\"id\":\"1591\",\"type\":\"CDSView\"}},\"id\":\"1590\",\"type\":\"GlyphRenderer\"},{\"attributes\":{\"source\":{\"id\":\"1538\",\"type\":\"ColumnDataSource\"}},\"id\":\"1591\",\"type\":\"CDSView\"},{\"attributes\":{},\"id\":\"1548\",\"type\":\"LinearScale\"},{\"attributes\":{\"callback\":null,\"data\":{\"a\":{\"__ndarray__\":\"AAAAAAAAFEB6BZyruhEWQKcg8od1+hdA1wv6NYy7GUCK0ossKFYbQLF25rx6zBxAcSvt1t4gHkBZTwmhXVUfQPP+iyZeNiBAE/jBlrS0IECfrMRo8CYhQOGNJrQUjiFAgfKYWQLrIUC72JKQtj4iQKqzreIOiiJAJawDCvjNIkC9seWkHAsjQJle9rkGQiNACp7um05zI0CR4QN4h58jQAaLuitAxyNAXRwC++jqI0CcAMdA6AokQGAItfebJyRADplnDlpBJEC5fYCcblgkQL87134ebSRARzhZ8ad/JED83+ogQ5AkQHgghLQinyRAZ+eMKHWsJEB1OIS+ZbgkQLcZvMIYwyRAw4fa3a7MJEB0neptRdUkQCg4z9f23CRAtp2M0drjJECSYeOlBuokQLeyt3GN7yRAJWK+W4D0JEB5IeXG7vgkQMxQ5n/m/CRAtq1y5nMAJUDDr1QSogMlQACf6vR6BiVA5qpNdwcJJUDjoHWVTwslQItzonZaDSVAzqBOgy4PJUBBued40RAlQBXbhHtIEiVATOPNJZgTJUCCZ0GXxBQlQHU3A4HRFSVAyCxZMcIWJUBkbPidmRclQMTqQW1aGCVAZP6J/gYZJUCHC4RxoRklQDXW6KwrGiVA+8RrZKcaJUCHUxEeFhslQMob9zZ5GyVAeTGc59EbJUAkC7dHIRwlQJLZpFFoHCVA+fV85accJUAS99HL4BwlQHQAKbgTHSVAA/0uS0EdJUBTqbIUah0lQPGbaZWOHSVAYtWFQK8dJUALziB9zB0lQGF0gKfmHSVA0BY6Ev4dJUCwyjYHEx4lQE2CnMglHiVAja6ekTYeJUA5/DiXRR4lQGJ41ghTHiVA0ynnEF8eJUCX9mXVaR4lQBd7UHhzHiVAbEwSGHweJUC/9+TPgx4lQD/tJbiKHiVAhmWj5pAeJUDJM+Fulh4lQN1dVmKbHiVAPTyk0J8eJUD9z8fHox4lQD7qRVSnHiVAZ7BSgaoeJUDT+fRYrR4lQJf2JeSvHiVAFIPtKrIeJUDugXs0tB4lQDOMPge2HiVAfz/4qLceJUD/ac8euR4lQNJNYG26HiVADi/LmLseJUBeWsGkvB4lQE3NkJS9HiVAEKUua74eJUDNdEArvx4lQLCgJNe/HiVAXtj5cMAeJUA/yKX6wB4lQMoW23XBHiVAxcAe5MEeJUBU5cxGwh4lQAwRHZ/CHiVAhRUm7sIeJUCieeE0wx4lQFyNLnTDHiVAxSrVrMMeJUAALYjfwx4lQOuk5wzEHiVAe9KCNcQeJUAA6dlZxB4lQOCjX3rEHiVA1rB6l8QeJUAZ9IaxxB4lQH+q1sjEHiVAGW2z3cQeJUCYGV/wxB4lQDuiFAHFHiVA58cIEMUeJUC6wGodxR4lQBLNZCnFHiVA/LwcNMUeJUCJZ7Q9xR4lQLEVSkbFHiVA5eH4TcUeJUCsDdlUxR4lQC9OAFvFHiVAwxCCYMUeJUBFuG9lxR4lQPjT2GnFHiVApFDLbcUeJUCPpFNxxR4lQNz2fHTFHiVAtUJRd8UeJUDRdtl5xR4lQLCRHXzFHiVAz7okfsUeJUBDWfV/xR4lQO4nlYHFHiVA\",\"dtype\":\"float64\",\"shape\":[150]},\"b\":{\"__ndarray__\":\"AAAAAAAAFEB6j340Wb4UQE6YuVyudxVA7/U7zP4rFkBN449wTtsWQO2MuCylhRdA+FkASQ4rGEAJzGH0l8sYQLGdPdVSZxlAjrBpp1H+GUDak+3lqJAaQLgh/n5uHhtAG1z8kLmnG0C9O2YvoiwcQMcMzC5BrRxA7G779q8pHUCLC6taCKIdQNlXCHRkFh5AsN6bhd6GHkCRFwnfkPMeQEolPcWVXB9ArU2sXQfCH0DDbSTO/xEgQPXP8xlMQSBAl1BnRPVuIEDw7pjSB5sgQOtBtBeQxSBALFrVMJruIED9f5YBMhYhQLahOTFjPCFAF0dcKDlhIUA7pSYPv4QhQDkF6Mv/piFA+hkUAgbIIUBUJpYR3OchQIX2bxaMBiJAyrSb6B8kIkDaiSgcoUAiQBLMigEZXCJAYTwZppB2IkCsebHUEJAiQORrfhaiqCJApfHbs0zAIkDqllO1GNciQGSLruQN7SJAc3MZzjMCI0AUClfBkRYjQObb/tIuKiNAya3F3RE9I0BhZM2DQU8jQHh++i/EYCNAnmpNF6BxI0D8MT4624EjQK8eGWZ7kSNAcCxbNoagI0BvNg0WAa8jQEr2HEHxvCNAegWzxVvKI0BZLYWFRdcjQOtpJDez4yNAOhlGZ6nvI0Ci5Ad6LPsjQAcDLqxABiRAhYJbFOoQJECJVkSkLBskQNnz2CkMJSRAck9rUIwuJEBQH82hsDckQE1FZ4d8QCRAVVRKS/NIJEBiJzgZGFEkQAqIpv/tWCRAHei68HdgJEC/Nj/DuGckQNHdjzOzbiRAP/iC5Gl1JEBB1Uhg33skQFffRRkWgiRAXwDmahCIJEA0nmma0I0kQCxNrNdYkyRAFlflPauYJEDVNmLUyZ0kQHUpO4+2oiRAoPYBUHOnJECsEmvmAawkQCA98RBksCRAuL5zfZu0JEAGas/JqbgkQPeBcoSQvCRAPanrLFHAJECY/XM07cMkQI2BdP5lxyRA7fYG4bzKJEDhS3Il880kQCi8oggK0SRAGseduwLUJEAgG/Jj3tYkQCOWIxye2SRAQXoT9ELcJEA69WTxzd4kQIQY3g9A4SRAJV/FQZrjJEDw3Ttw3eUkQNg5lHsK6CRAnH+mOyLqJEA29yCAJewkQLwM1hAV7iRA1mcHrvHvJEATSq4QvPEkQOVLwep08yRAMo935xz1JEDPfYmrtPYkQKgpb9U8+CRAj2Oc/bX5JEAOnbq2IPskQBqp4I19/CRAtm7ICs39JEAmoAKwD/8kQJuIKPtFACVAyAEMZXABJUAmouVhjwIlQEI0gWGjAyVAvYZoz6wEJUBFpAwTrAUlQEWC7Y+hBiVAbTTApY0HJUDvspOwcAglQJlA9AhLCSVAsn0NBB0KJUABNMvz5golQNrn+CapCyVAzzlg6WMMJUAtJOaDFw0lQOkepzzEDSVAgDQSV2oOJUCtEQMUCg8lQLUZ27GjDyVAfoiZbDcQJUCIq/J9xRAlQFg6Zh1OESVAs9ZUgNERJUDKvBTaTxIlQPaqBVzJEiVAlgikNT4TJUA/U5uUrhMlQCzZ16QaFCVAn8eXkIIUJUCjk3uA5hQlQG7DlZtGFSVA\",\"dtype\":\"float64\",\"shape\":[150]},\"c\":[10.559941402455378,10.559941402455378,10.559941402455378,10.559941402455378,10.559941402455378,10.559941402455378,10.559941402455378,10.559941402455378,10.559941402455378,10.559941402455378,10.559941402455378,10.559941402455378,10.559941402455378,10.559941402455378,10.559941402455378,10.559941402455378,10.559941402455378,10.559941402455378,10.559941402455378,10.559941402455378,10.559941402455378,10.559941402455378,10.559941402455378,10.559941402455378,10.559941402455378,10.559941402455378,10.559941402455378,10.559941402455378,10.559941402455378,10.559941402455378,10.559941402455378,10.559941402455378,10.559941402455378,10.559941402455378,10.559941402455378,10.559941402455378,10.559941402455378,10.559941402455378,10.559941402455378,10.559941402455378,10.559941402455378,10.559941402455378,10.559941402455378,10.559941402455378,10.559941402455378,10.559941402455378,10.559941402455378,10.559941402455378,10.559941402455378,10.559941402455378,10.559941402455378,10.559941402455378,10.559941402455378,10.559941402455378,10.559941402455378,10.559941402455378,10.559941402455378,10.559941402455378,10.559941402455378,10.559941402455378,10.559941402455378,10.559941402455378,10.559941402455378,10.559941402455378,10.559941402455378,10.559941402455378,10.559941402455378,10.559941402455378,10.559941402455378,10.559941402455378,10.559941402455378,10.559941402455378,10.559941402455378,10.559941402455378,10.559941402455378,10.559941402455378,10.559941402455378,10.559941402455378,10.559941402455378,10.559941402455378,10.559941402455378,10.559941402455378,10.559941402455378,10.559941402455378,10.559941402455378,10.559941402455378,10.559941402455378,10.559941402455378,10.559941402455378,10.559941402455378,10.559941402455378,10.559941402455378,10.559941402455378,10.559941402455378,10.559941402455378,10.559941402455378,10.559941402455378,10.559941402455378,10.559941402455378,10.559941402455378,10.559941402455378,10.559941402455378,10.559941402455378,10.559941402455378,10.559941402455378,10.559941402455378,10.559941402455378,10.559941402455378,10.559941402455378,10.559941402455378,10.559941402455378,10.559941402455378,10.559941402455378,10.559941402455378,10.559941402455378,10.559941402455378,10.559941402455378,10.559941402455378,10.559941402455378,10.559941402455378,10.559941402455378,10.559941402455378,10.559941402455378,10.559941402455378,10.559941402455378,10.559941402455378,10.559941402455378,10.559941402455378,10.559941402455378,10.559941402455378,10.559941402455378,10.559941402455378,10.559941402455378,10.559941402455378,10.559941402455378,10.559941402455378,10.559941402455378,10.559941402455378,10.559941402455378,10.559941402455378,10.559941402455378,10.559941402455378,10.559941402455378,10.559941402455378,10.559941402455378,10.559941402455378,10.559941402455378,10.559941402455378,10.559941402455378,10.559941402455378],\"x\":[0,1,2,3,4,5,6,7,8,9,10,11,12,13,14,15,16,17,18,19,20,21,22,23,24,25,26,27,28,29,30,31,32,33,34,35,36,37,38,39,40,41,42,43,44,45,46,47,48,49,50,51,52,53,54,55,56,57,58,59,60,61,62,63,64,65,66,67,68,69,70,71,72,73,74,75,76,77,78,79,80,81,82,83,84,85,86,87,88,89,90,91,92,93,94,95,96,97,98,99,100,101,102,103,104,105,106,107,108,109,110,111,112,113,114,115,116,117,118,119,120,121,122,123,124,125,126,127,128,129,130,131,132,133,134,135,136,137,138,139,140,141,142,143,144,145,146,147,148,149]},\"selected\":{\"id\":\"1519\",\"type\":\"Selection\"},\"selection_policy\":{\"id\":\"1520\",\"type\":\"UnionRenderers\"}},\"id\":\"1460\",\"type\":\"ColumnDataSource\"},{\"attributes\":{\"callback\":null,\"tooltips\":[[\"T\",\"@x{0,0.00}\"],[\"Capital pr. capita for Model path\",\"@a{0.00}\"],[\"Capital pr. capita for Fixed Savings rate\",\"@b{0.00}\"],[\"Capital pr. capita for Steady state level\",\"@c{0.00}\"]]},\"id\":\"1459\",\"type\":\"HoverTool\"},{\"attributes\":{},\"id\":\"1597\",\"type\":\"Selection\"},{\"attributes\":{\"label\":{\"value\":\"Model path\"},\"renderers\":[{\"id\":\"1499\",\"type\":\"GlyphRenderer\"}]},\"id\":\"1508\",\"type\":\"LegendItem\"},{\"attributes\":{},\"id\":\"1598\",\"type\":\"UnionRenderers\"},{\"attributes\":{\"below\":[{\"id\":\"1472\",\"type\":\"LinearAxis\"}],\"left\":[{\"id\":\"1477\",\"type\":\"LinearAxis\"}],\"plot_height\":500,\"plot_width\":400,\"renderers\":[{\"id\":\"1472\",\"type\":\"LinearAxis\"},{\"id\":\"1476\",\"type\":\"Grid\"},{\"id\":\"1477\",\"type\":\"LinearAxis\"},{\"id\":\"1481\",\"type\":\"Grid\"},{\"id\":\"1490\",\"type\":\"BoxAnnotation\"},{\"id\":\"1507\",\"type\":\"Legend\"},{\"id\":\"1499\",\"type\":\"GlyphRenderer\"},{\"id\":\"1512\",\"type\":\"GlyphRenderer\"},{\"id\":\"1526\",\"type\":\"GlyphRenderer\"}],\"title\":{\"id\":\"1461\",\"type\":\"Title\"},\"toolbar\":{\"id\":\"1487\",\"type\":\"Toolbar\"},\"x_range\":{\"id\":\"1464\",\"type\":\"DataRange1d\"},\"x_scale\":{\"id\":\"1468\",\"type\":\"LinearScale\"},\"y_range\":{\"id\":\"1466\",\"type\":\"DataRange1d\"},\"y_scale\":{\"id\":\"1470\",\"type\":\"LinearScale\"}},\"id\":\"1462\",\"subtype\":\"Figure\",\"type\":\"Plot\"},{\"attributes\":{\"plot\":null,\"text\":\"Evolution of capital\"},\"id\":\"1461\",\"type\":\"Title\"},{\"attributes\":{\"label\":{\"value\":\"Steady state/Fixed\"},\"renderers\":[{\"id\":\"1590\",\"type\":\"GlyphRenderer\"}]},\"id\":\"1600\",\"type\":\"LegendItem\"},{\"attributes\":{\"callback\":null},\"id\":\"1464\",\"type\":\"DataRange1d\"},{\"attributes\":{\"callback\":null},\"id\":\"1466\",\"type\":\"DataRange1d\"},{\"attributes\":{},\"id\":\"1468\",\"type\":\"LinearScale\"},{\"attributes\":{\"axis_label\":\"T\",\"formatter\":{\"id\":\"1502\",\"type\":\"BasicTickFormatter\"},\"plot\":{\"id\":\"1462\",\"subtype\":\"Figure\",\"type\":\"Plot\"},\"ticker\":{\"id\":\"1473\",\"type\":\"BasicTicker\"}},\"id\":\"1472\",\"type\":\"LinearAxis\"},{\"attributes\":{},\"id\":\"1473\",\"type\":\"BasicTicker\"},{\"attributes\":{\"items\":[{\"id\":\"1508\",\"type\":\"LegendItem\"},{\"id\":\"1522\",\"type\":\"LegendItem\"},{\"id\":\"1536\",\"type\":\"LegendItem\"}],\"location\":\"bottom_center\",\"plot\":{\"id\":\"1462\",\"subtype\":\"Figure\",\"type\":\"Plot\"}},\"id\":\"1507\",\"type\":\"Legend\"},{\"attributes\":{\"plot\":{\"id\":\"1462\",\"subtype\":\"Figure\",\"type\":\"Plot\"},\"ticker\":{\"id\":\"1473\",\"type\":\"BasicTicker\"}},\"id\":\"1476\",\"type\":\"Grid\"},{\"attributes\":{\"axis_label\":\"Capital pr. capita\",\"formatter\":{\"id\":\"1504\",\"type\":\"BasicTickFormatter\"},\"plot\":{\"id\":\"1462\",\"subtype\":\"Figure\",\"type\":\"Plot\"},\"ticker\":{\"id\":\"1478\",\"type\":\"BasicTicker\"}},\"id\":\"1477\",\"type\":\"LinearAxis\"},{\"attributes\":{},\"id\":\"1478\",\"type\":\"BasicTicker\"},{\"attributes\":{\"dimension\":1,\"plot\":{\"id\":\"1462\",\"subtype\":\"Figure\",\"type\":\"Plot\"},\"ticker\":{\"id\":\"1478\",\"type\":\"BasicTicker\"}},\"id\":\"1481\",\"type\":\"Grid\"},{\"attributes\":{\"callback\":null,\"tooltips\":[[\"T\",\"@x{0,0.00}\"],[\"Savings rate for Model\",\"@a{0.00}\"],[\"Savings rate for Steady state/Fixed\",\"@b{0.00}\"]]},\"id\":\"1537\",\"type\":\"HoverTool\"},{\"attributes\":{},\"id\":\"1482\",\"type\":\"PanTool\"},{\"attributes\":{},\"id\":\"1483\",\"type\":\"WheelZoomTool\"},{\"attributes\":{\"overlay\":{\"id\":\"1490\",\"type\":\"BoxAnnotation\"}},\"id\":\"1484\",\"type\":\"BoxZoomTool\"},{\"attributes\":{},\"id\":\"1485\",\"type\":\"ResetTool\"},{\"attributes\":{},\"id\":\"1486\",\"type\":\"SaveTool\"},{\"attributes\":{\"active_drag\":\"auto\",\"active_inspect\":\"auto\",\"active_multi\":null,\"active_scroll\":\"auto\",\"active_tap\":\"auto\",\"tools\":[{\"id\":\"1459\",\"type\":\"HoverTool\"},{\"id\":\"1482\",\"type\":\"PanTool\"},{\"id\":\"1483\",\"type\":\"WheelZoomTool\"},{\"id\":\"1484\",\"type\":\"BoxZoomTool\"},{\"id\":\"1485\",\"type\":\"ResetTool\"},{\"id\":\"1486\",\"type\":\"SaveTool\"}]},\"id\":\"1487\",\"type\":\"Toolbar\"},{\"attributes\":{\"line_color\":\"red\",\"x\":{\"field\":\"x\"},\"y\":{\"field\":\"a\"}},\"id\":\"1497\",\"type\":\"Line\"},{\"attributes\":{\"bottom_units\":\"screen\",\"fill_alpha\":{\"value\":0.5},\"fill_color\":{\"value\":\"lightgrey\"},\"left_units\":\"screen\",\"level\":\"overlay\",\"line_alpha\":{\"value\":1.0},\"line_color\":{\"value\":\"black\"},\"line_dash\":[4,4],\"line_width\":{\"value\":2},\"plot\":null,\"render_mode\":\"css\",\"right_units\":\"screen\",\"top_units\":\"screen\"},\"id\":\"1490\",\"type\":\"BoxAnnotation\"},{\"attributes\":{\"line_alpha\":0.1,\"line_color\":\"#1f77b4\",\"x\":{\"field\":\"x\"},\"y\":{\"field\":\"a\"}},\"id\":\"1498\",\"type\":\"Line\"},{\"attributes\":{\"data_source\":{\"id\":\"1460\",\"type\":\"ColumnDataSource\"},\"glyph\":{\"id\":\"1497\",\"type\":\"Line\"},\"hover_glyph\":null,\"muted_glyph\":null,\"nonselection_glyph\":{\"id\":\"1498\",\"type\":\"Line\"},\"selection_glyph\":null,\"view\":{\"id\":\"1500\",\"type\":\"CDSView\"}},\"id\":\"1499\",\"type\":\"GlyphRenderer\"},{\"attributes\":{\"source\":{\"id\":\"1460\",\"type\":\"ColumnDataSource\"}},\"id\":\"1500\",\"type\":\"CDSView\"},{\"attributes\":{\"line_color\":\"blue\",\"x\":{\"field\":\"x\"},\"y\":{\"field\":\"b\"}},\"id\":\"1510\",\"type\":\"Line\"},{\"attributes\":{\"line_alpha\":0.1,\"line_color\":\"#1f77b4\",\"x\":{\"field\":\"x\"},\"y\":{\"field\":\"b\"}},\"id\":\"1511\",\"type\":\"Line\"},{\"attributes\":{\"data_source\":{\"id\":\"1460\",\"type\":\"ColumnDataSource\"},\"glyph\":{\"id\":\"1510\",\"type\":\"Line\"},\"hover_glyph\":null,\"muted_glyph\":null,\"nonselection_glyph\":{\"id\":\"1511\",\"type\":\"Line\"},\"selection_glyph\":null,\"view\":{\"id\":\"1513\",\"type\":\"CDSView\"}},\"id\":\"1512\",\"type\":\"GlyphRenderer\"},{\"attributes\":{\"source\":{\"id\":\"1460\",\"type\":\"ColumnDataSource\"}},\"id\":\"1513\",\"type\":\"CDSView\"},{\"attributes\":{},\"id\":\"1519\",\"type\":\"Selection\"},{\"attributes\":{},\"id\":\"1520\",\"type\":\"UnionRenderers\"},{\"attributes\":{},\"id\":\"1502\",\"type\":\"BasicTickFormatter\"},{\"attributes\":{\"label\":{\"value\":\"Model\"},\"renderers\":[{\"id\":\"1577\",\"type\":\"GlyphRenderer\"}]},\"id\":\"1586\",\"type\":\"LegendItem\"},{\"attributes\":{\"line_color\":\"green\",\"x\":{\"field\":\"x\"},\"y\":{\"field\":\"c\"}},\"id\":\"1524\",\"type\":\"Line\"},{\"attributes\":{\"line_alpha\":0.1,\"line_color\":\"#1f77b4\",\"x\":{\"field\":\"x\"},\"y\":{\"field\":\"c\"}},\"id\":\"1525\",\"type\":\"Line\"},{\"attributes\":{\"data_source\":{\"id\":\"1460\",\"type\":\"ColumnDataSource\"},\"glyph\":{\"id\":\"1524\",\"type\":\"Line\"},\"hover_glyph\":null,\"muted_glyph\":null,\"nonselection_glyph\":{\"id\":\"1525\",\"type\":\"Line\"},\"selection_glyph\":null,\"view\":{\"id\":\"1527\",\"type\":\"CDSView\"}},\"id\":\"1526\",\"type\":\"GlyphRenderer\"},{\"attributes\":{\"source\":{\"id\":\"1460\",\"type\":\"ColumnDataSource\"}},\"id\":\"1527\",\"type\":\"CDSView\"},{\"attributes\":{\"label\":{\"value\":\"Steady state level\"},\"renderers\":[{\"id\":\"1526\",\"type\":\"GlyphRenderer\"}]},\"id\":\"1536\",\"type\":\"LegendItem\"},{\"attributes\":{\"callback\":null,\"data\":{\"a\":{\"__ndarray__\":\"Isw3dN1e3j8rmI5+2APdP9Q+64720ts/gy1boay/2j/6xDNQccvZPwBXAME58tg/V7OOt5Qt2D+Jad8k0oDXP1I6nHZJ59Y/mRqppR1g1j/4xgAdy+bVP/GcPlqpeNU/8YUzfxIX1T/OzCeg77/UP4QhfIUXdNQ/H7ONR6Qv1D8cr9KbsvDTP0Pf2m0quNM/8ED0rdyF0z/GzVRDrlnTP77u/fD+MdM/7iqDjV4O0z+B3jr9c+7SPwSiGcjq0dI/FPgs0VK40j8z+4NxYKHSPxQRQzLPjNI//6enM2F60j9zGv+b3mnSP9BYycIhW9I/yKTaaxFO0j+e3NgWXELSP5IZlSveN9I/W998o3cu0j8A+EKyCybSP18DAXaAHtI/VHxerr4X0j/CVEV6sRHSPw1iqxtGDNI/TaT5wGsH0j/DL55TEwPSP/SOWksv/9E/KVvmhbP70T9DLoQilfjRPxavLWHK9dE/IB4ChUrz0T99Tqm5DfHRP1tFY/sM79E/Pb6CAULt0T8fghYrp+vRP9DTim036tE/5SoRRe7o0T+UD6Gmx+fRP3MnafO/5tE/H2iL7dPl0T/K9QKuAOXRP151lZtD5NE/3JC0Yprj0T8gHzfuAuPRPwbS02B74tE/EYVJDwLi0T8gSCN7leHRP9IQCE404dE/7Z+HVd3g0T89oVd/j+DRPxpg9dVJ4NE/BJ2hfQvg0T+oI62x09/RP4u4DcKh39E/qNMzEXXf0T9qZRoSTd/RP52WikYp39E/KhWOPQnf0T/nDwuS7N7RPz+FhenS3tE/A/0B87ve0T/ELQZmp97RP4trtAGV3tE/jBH/i4Te0T+gY/HQdd7RP1enC6Jo3tE/8nCw1Vze0T9eVqFGUt7RP8lqidNI3tE/pBCUXkDe0T+s1g7NON7RP0w3FQcy3tE/5DBF9yve0T8VyXuKJt7RP3SmmK8h3tE/DAJIVx3e0T9KRtJzGd7RP6LC8PgV3tE/eOum2xLe0T/uqx8SEN7RPzpcjpMN3tE/ofoSWAve0T9QT6FYCd7RP9Ks6o4H3tE/rQZK9QXe0T+OH7KGBN7RP56WnT4D3tE/uqEAGQLe0T92RzwSAd7RP7HwEicA3tE/iy2eVP/d0T98jUWY/t3RP7Bttu/93dE/s6PcWP3d0T9g7dvR/N3RP0wRCln83dE/H53p7Pvd0T9WMSWM+93RP31LizX73dE/roEK6Prd0T9cI66i+t3RP8g0m2T63dE/srsNLfrd0T+QVFb7+d3RP+II2M753dE/nF8Gp/nd0T+moWOD+d3RP/xMf2P53dE/dLH0Rvnd0T/esmkt+d3RP4SsjRb53dE/lHIYAvnd0T87bsnv+N3RP8TRZt/43dE/GOK80Pjd0T9jU53D+N3RP/a23rf43dE/a/hbrfjd0T+j6POj+N3RP/DUiJv43dE/YykAlPjd0T/VHEKN+N3RP9hlOYf43dE/gffSgfjd0T85xf18+N3RP/eMqnj43dE/DafLdPjd0T8N21Rx+N3RPy45O2743dE/z/d0a/jd0T+MVPlo+N3RP5J4wGb43dE/5l/DZPjd0T82w/ti+N3RPxQEZGH43dE/\",\"dtype\":\"float64\",\"shape\":[150]},\"b\":[0.2791701623252936,0.2791701623252936,0.2791701623252936,0.2791701623252936,0.2791701623252936,0.2791701623252936,0.2791701623252936,0.2791701623252936,0.2791701623252936,0.2791701623252936,0.2791701623252936,0.2791701623252936,0.2791701623252936,0.2791701623252936,0.2791701623252936,0.2791701623252936,0.2791701623252936,0.2791701623252936,0.2791701623252936,0.2791701623252936,0.2791701623252936,0.2791701623252936,0.2791701623252936,0.2791701623252936,0.2791701623252936,0.2791701623252936,0.2791701623252936,0.2791701623252936,0.2791701623252936,0.2791701623252936,0.2791701623252936,0.2791701623252936,0.2791701623252936,0.2791701623252936,0.2791701623252936,0.2791701623252936,0.2791701623252936,0.2791701623252936,0.2791701623252936,0.2791701623252936,0.2791701623252936,0.2791701623252936,0.2791701623252936,0.2791701623252936,0.2791701623252936,0.2791701623252936,0.2791701623252936,0.2791701623252936,0.2791701623252936,0.2791701623252936,0.2791701623252936,0.2791701623252936,0.2791701623252936,0.2791701623252936,0.2791701623252936,0.2791701623252936,0.2791701623252936,0.2791701623252936,0.2791701623252936,0.2791701623252936,0.2791701623252936,0.2791701623252936,0.2791701623252936,0.2791701623252936,0.2791701623252936,0.2791701623252936,0.2791701623252936,0.2791701623252936,0.2791701623252936,0.2791701623252936,0.2791701623252936,0.2791701623252936,0.2791701623252936,0.2791701623252936,0.2791701623252936,0.2791701623252936,0.2791701623252936,0.2791701623252936,0.2791701623252936,0.2791701623252936,0.2791701623252936,0.2791701623252936,0.2791701623252936,0.2791701623252936,0.2791701623252936,0.2791701623252936,0.2791701623252936,0.2791701623252936,0.2791701623252936,0.2791701623252936,0.2791701623252936,0.2791701623252936,0.2791701623252936,0.2791701623252936,0.2791701623252936,0.2791701623252936,0.2791701623252936,0.2791701623252936,0.2791701623252936,0.2791701623252936,0.2791701623252936,0.2791701623252936,0.2791701623252936,0.2791701623252936,0.2791701623252936,0.2791701623252936,0.2791701623252936,0.2791701623252936,0.2791701623252936,0.2791701623252936,0.2791701623252936,0.2791701623252936,0.2791701623252936,0.2791701623252936,0.2791701623252936,0.2791701623252936,0.2791701623252936,0.2791701623252936,0.2791701623252936,0.2791701623252936,0.2791701623252936,0.2791701623252936,0.2791701623252936,0.2791701623252936,0.2791701623252936,0.2791701623252936,0.2791701623252936,0.2791701623252936,0.2791701623252936,0.2791701623252936,0.2791701623252936,0.2791701623252936,0.2791701623252936,0.2791701623252936,0.2791701623252936,0.2791701623252936,0.2791701623252936,0.2791701623252936,0.2791701623252936,0.2791701623252936,0.2791701623252936,0.2791701623252936,0.2791701623252936,0.2791701623252936,0.2791701623252936,0.2791701623252936,0.2791701623252936,0.2791701623252936,0.2791701623252936,0.2791701623252936],\"x\":[0,1,2,3,4,5,6,7,8,9,10,11,12,13,14,15,16,17,18,19,20,21,22,23,24,25,26,27,28,29,30,31,32,33,34,35,36,37,38,39,40,41,42,43,44,45,46,47,48,49,50,51,52,53,54,55,56,57,58,59,60,61,62,63,64,65,66,67,68,69,70,71,72,73,74,75,76,77,78,79,80,81,82,83,84,85,86,87,88,89,90,91,92,93,94,95,96,97,98,99,100,101,102,103,104,105,106,107,108,109,110,111,112,113,114,115,116,117,118,119,120,121,122,123,124,125,126,127,128,129,130,131,132,133,134,135,136,137,138,139,140,141,142,143,144,145,146,147,148,149]},\"selected\":{\"id\":\"1597\",\"type\":\"Selection\"},\"selection_policy\":{\"id\":\"1598\",\"type\":\"UnionRenderers\"}},\"id\":\"1538\",\"type\":\"ColumnDataSource\"},{\"attributes\":{\"below\":[{\"id\":\"1550\",\"type\":\"LinearAxis\"}],\"left\":[{\"id\":\"1555\",\"type\":\"LinearAxis\"}],\"plot_height\":500,\"plot_width\":400,\"renderers\":[{\"id\":\"1550\",\"type\":\"LinearAxis\"},{\"id\":\"1554\",\"type\":\"Grid\"},{\"id\":\"1555\",\"type\":\"LinearAxis\"},{\"id\":\"1559\",\"type\":\"Grid\"},{\"id\":\"1568\",\"type\":\"BoxAnnotation\"},{\"id\":\"1585\",\"type\":\"Legend\"},{\"id\":\"1577\",\"type\":\"GlyphRenderer\"},{\"id\":\"1590\",\"type\":\"GlyphRenderer\"}],\"title\":{\"id\":\"1539\",\"type\":\"Title\"},\"toolbar\":{\"id\":\"1565\",\"type\":\"Toolbar\"},\"x_range\":{\"id\":\"1542\",\"type\":\"DataRange1d\"},\"x_scale\":{\"id\":\"1546\",\"type\":\"LinearScale\"},\"y_range\":{\"id\":\"1544\",\"type\":\"DataRange1d\"},\"y_scale\":{\"id\":\"1548\",\"type\":\"LinearScale\"}},\"id\":\"1540\",\"subtype\":\"Figure\",\"type\":\"Plot\"},{\"attributes\":{\"label\":{\"value\":\"Fixed Savings rate\"},\"renderers\":[{\"id\":\"1512\",\"type\":\"GlyphRenderer\"}]},\"id\":\"1522\",\"type\":\"LegendItem\"},{\"attributes\":{\"plot\":null,\"text\":\"Evolution of the savings rate\"},\"id\":\"1539\",\"type\":\"Title\"},{\"attributes\":{\"callback\":null},\"id\":\"1542\",\"type\":\"DataRange1d\"},{\"attributes\":{\"callback\":null},\"id\":\"1544\",\"type\":\"DataRange1d\"},{\"attributes\":{},\"id\":\"1546\",\"type\":\"LinearScale\"},{\"attributes\":{\"axis_label\":\"T\",\"formatter\":{\"id\":\"1580\",\"type\":\"BasicTickFormatter\"},\"plot\":{\"id\":\"1540\",\"subtype\":\"Figure\",\"type\":\"Plot\"},\"ticker\":{\"id\":\"1551\",\"type\":\"BasicTicker\"}},\"id\":\"1550\",\"type\":\"LinearAxis\"},{\"attributes\":{},\"id\":\"1551\",\"type\":\"BasicTicker\"},{\"attributes\":{\"plot\":{\"id\":\"1540\",\"subtype\":\"Figure\",\"type\":\"Plot\"},\"ticker\":{\"id\":\"1551\",\"type\":\"BasicTicker\"}},\"id\":\"1554\",\"type\":\"Grid\"},{\"attributes\":{\"axis_label\":\"Savings rate\",\"formatter\":{\"id\":\"1582\",\"type\":\"BasicTickFormatter\"},\"plot\":{\"id\":\"1540\",\"subtype\":\"Figure\",\"type\":\"Plot\"},\"ticker\":{\"id\":\"1556\",\"type\":\"BasicTicker\"}},\"id\":\"1555\",\"type\":\"LinearAxis\"},{\"attributes\":{},\"id\":\"1556\",\"type\":\"BasicTicker\"},{\"attributes\":{\"dimension\":1,\"plot\":{\"id\":\"1540\",\"subtype\":\"Figure\",\"type\":\"Plot\"},\"ticker\":{\"id\":\"1556\",\"type\":\"BasicTicker\"}},\"id\":\"1559\",\"type\":\"Grid\"},{\"attributes\":{\"items\":[{\"id\":\"1586\",\"type\":\"LegendItem\"},{\"id\":\"1600\",\"type\":\"LegendItem\"}],\"location\":\"top_center\",\"plot\":{\"id\":\"1540\",\"subtype\":\"Figure\",\"type\":\"Plot\"}},\"id\":\"1585\",\"type\":\"Legend\"},{\"attributes\":{},\"id\":\"1504\",\"type\":\"BasicTickFormatter\"},{\"attributes\":{},\"id\":\"1560\",\"type\":\"PanTool\"},{\"attributes\":{},\"id\":\"1470\",\"type\":\"LinearScale\"},{\"attributes\":{},\"id\":\"1561\",\"type\":\"WheelZoomTool\"},{\"attributes\":{\"overlay\":{\"id\":\"1568\",\"type\":\"BoxAnnotation\"}},\"id\":\"1562\",\"type\":\"BoxZoomTool\"},{\"attributes\":{},\"id\":\"1563\",\"type\":\"ResetTool\"},{\"attributes\":{},\"id\":\"1564\",\"type\":\"SaveTool\"},{\"attributes\":{\"active_drag\":\"auto\",\"active_inspect\":\"auto\",\"active_multi\":null,\"active_scroll\":\"auto\",\"active_tap\":\"auto\",\"tools\":[{\"id\":\"1537\",\"type\":\"HoverTool\"},{\"id\":\"1560\",\"type\":\"PanTool\"},{\"id\":\"1561\",\"type\":\"WheelZoomTool\"},{\"id\":\"1562\",\"type\":\"BoxZoomTool\"},{\"id\":\"1563\",\"type\":\"ResetTool\"},{\"id\":\"1564\",\"type\":\"SaveTool\"}]},\"id\":\"1565\",\"type\":\"Toolbar\"},{\"attributes\":{\"line_color\":\"red\",\"x\":{\"field\":\"x\"},\"y\":{\"field\":\"a\"}},\"id\":\"1575\",\"type\":\"Line\"},{\"attributes\":{\"bottom_units\":\"screen\",\"fill_alpha\":{\"value\":0.5},\"fill_color\":{\"value\":\"lightgrey\"},\"left_units\":\"screen\",\"level\":\"overlay\",\"line_alpha\":{\"value\":1.0},\"line_color\":{\"value\":\"black\"},\"line_dash\":[4,4],\"line_width\":{\"value\":2},\"plot\":null,\"render_mode\":\"css\",\"right_units\":\"screen\",\"top_units\":\"screen\"},\"id\":\"1568\",\"type\":\"BoxAnnotation\"},{\"attributes\":{\"line_alpha\":0.1,\"line_color\":\"#1f77b4\",\"x\":{\"field\":\"x\"},\"y\":{\"field\":\"a\"}},\"id\":\"1576\",\"type\":\"Line\"},{\"attributes\":{\"data_source\":{\"id\":\"1538\",\"type\":\"ColumnDataSource\"},\"glyph\":{\"id\":\"1575\",\"type\":\"Line\"},\"hover_glyph\":null,\"muted_glyph\":null,\"nonselection_glyph\":{\"id\":\"1576\",\"type\":\"Line\"},\"selection_glyph\":null,\"view\":{\"id\":\"1578\",\"type\":\"CDSView\"}},\"id\":\"1577\",\"type\":\"GlyphRenderer\"},{\"attributes\":{\"source\":{\"id\":\"1538\",\"type\":\"ColumnDataSource\"}},\"id\":\"1578\",\"type\":\"CDSView\"},{\"attributes\":{},\"id\":\"1580\",\"type\":\"BasicTickFormatter\"}],\"root_ids\":[\"1601\"]},\"title\":\"Bokeh Application\",\"version\":\"1.0.2\"}};\n",
       "  var render_items = [{\"docid\":\"6edcdf4e-c949-4b4e-81a5-8884eb70736a\",\"notebook_comms_target\":\"1642\",\"roots\":{\"1601\":\"f874fbb7-0300-4dbf-8ce5-dae89797f3ca\"}}];\n",
       "  root.Bokeh.embed.embed_items_notebook(docs_json, render_items);\n",
       "\n",
       "  }\n",
       "  if (root.Bokeh !== undefined) {\n",
       "    embed_document(root);\n",
       "  } else {\n",
       "    var attempts = 0;\n",
       "    var timer = setInterval(function(root) {\n",
       "      if (root.Bokeh !== undefined) {\n",
       "        embed_document(root);\n",
       "        clearInterval(timer);\n",
       "      }\n",
       "      attempts++;\n",
       "      if (attempts > 100) {\n",
       "        console.log(\"Bokeh: ERROR: Unable to run BokehJS code because BokehJS library is missing\");\n",
       "        clearInterval(timer);\n",
       "      }\n",
       "    }, 10, root)\n",
       "  }\n",
       "})(window);"
      ],
      "application/vnd.bokehjs_exec.v0+json": ""
     },
     "metadata": {
      "application/vnd.bokehjs_exec.v0+json": {
       "id": "1601"
      }
     },
     "output_type": "display_data"
    },
    {
     "data": {
      "text/html": [
       "<p><code>&lt;Bokeh Notebook handle for <strong>In[12]</strong>&gt;</code></p>"
      ],
      "text/plain": [
       "<bokeh.io.notebook.CommsHandle at 0x11b6967f0>"
      ]
     },
     "execution_count": 12,
     "metadata": {},
     "output_type": "execute_result"
    }
   ],
   "source": [
    "# Again plotting with the help of bokeh:\n",
    "# These are the ones that are shown:\n",
    "y_names = ['Model path', 'Fixed Savings rate','Steady state level']\n",
    "\n",
    "ys = [k_pr ,trad_k_pr, [k_star for i in range(timeline)]]\n",
    "\n",
    "p1 = model_funcs.plotting(\"T\",y_names, list(range(timeline)), ys, \n",
    "                     y_name= 'Capital pr. capita',legendlocation ='bottom_center',\n",
    "                    title = 'Evolution of capital')\n",
    "\n",
    "ys2 = [sk_path, [sk_star for i in range(timeline)]]\n",
    "\n",
    "p2 = model_funcs.plotting(\"T\",['Model','Steady state/Fixed'], list(range(timeline)), ys2,\n",
    "                     y_name= 'Savings rate',legendlocation ='top_center',\n",
    "                    title = 'Evolution of the savings rate')\n",
    "\n",
    "show(row(p1,p2),notebook_handle=True)"
   ]
  },
  {
   "cell_type": "markdown",
   "metadata": {},
   "source": [
    "Thus we see the faster convergence to the same steady state. we get the same result if our intial $k_{0}>k^{*}$. Lets try with $k_{0}=25$ implying that in the first period, the representative household will actually not want to save any money for the future in the first period."
   ]
  },
  {
   "cell_type": "code",
   "execution_count": 13,
   "metadata": {},
   "outputs": [],
   "source": [
    "k0 = 20\n",
    "# Exactly the same as before\n",
    "k_star, sk_star = model_funcs.find_ss(\n",
    "    t, b, n, beta, delta, alpha, thetas[1], bracket=[5,30])\n",
    "\n",
    "trad_k_pr, trad_y_pr = model_funcs.solowwalk(\n",
    "    k0, b, l0, n, sk_star, alpha, delta,timeline)\n",
    "\n",
    "k_pr, y_pr, sk_path = model_funcs.new_mod_solowwalk(\n",
    "    k0, l0, b,n, alpha, delta, sk_interpers[1], timeline)"
   ]
  },
  {
   "cell_type": "code",
   "execution_count": 14,
   "metadata": {},
   "outputs": [
    {
     "data": {
      "text/html": [
       "\n",
       "\n",
       "\n",
       "\n",
       "\n",
       "\n",
       "  <div class=\"bk-root\" id=\"cde667cd-b862-4450-b081-5cb67a988ca2\"></div>\n"
      ]
     },
     "metadata": {},
     "output_type": "display_data"
    },
    {
     "data": {
      "application/javascript": [
       "(function(root) {\n",
       "  function embed_document(root) {\n",
       "    \n",
       "  var docs_json = {\"9d318264-1fd8-43ad-9de9-9dd13dd55cd9\":{\"roots\":{\"references\":[{\"attributes\":{\"children\":[{\"id\":\"1742\",\"subtype\":\"Figure\",\"type\":\"Plot\"},{\"id\":\"1820\",\"subtype\":\"Figure\",\"type\":\"Plot\"}]},\"id\":\"1881\",\"type\":\"Row\"},{\"attributes\":{\"callback\":null},\"id\":\"1822\",\"type\":\"DataRange1d\"},{\"attributes\":{\"callback\":null},\"id\":\"1824\",\"type\":\"DataRange1d\"},{\"attributes\":{},\"id\":\"1826\",\"type\":\"LinearScale\"},{\"attributes\":{},\"id\":\"1828\",\"type\":\"LinearScale\"},{\"attributes\":{\"axis_label\":\"T\",\"formatter\":{\"id\":\"1860\",\"type\":\"BasicTickFormatter\"},\"plot\":{\"id\":\"1820\",\"subtype\":\"Figure\",\"type\":\"Plot\"},\"ticker\":{\"id\":\"1831\",\"type\":\"BasicTicker\"}},\"id\":\"1830\",\"type\":\"LinearAxis\"},{\"attributes\":{},\"id\":\"1831\",\"type\":\"BasicTicker\"},{\"attributes\":{\"plot\":{\"id\":\"1820\",\"subtype\":\"Figure\",\"type\":\"Plot\"},\"ticker\":{\"id\":\"1831\",\"type\":\"BasicTicker\"}},\"id\":\"1834\",\"type\":\"Grid\"},{\"attributes\":{\"axis_label\":\"Savings rate\",\"formatter\":{\"id\":\"1862\",\"type\":\"BasicTickFormatter\"},\"plot\":{\"id\":\"1820\",\"subtype\":\"Figure\",\"type\":\"Plot\"},\"ticker\":{\"id\":\"1836\",\"type\":\"BasicTicker\"}},\"id\":\"1835\",\"type\":\"LinearAxis\"},{\"attributes\":{\"plot\":{\"id\":\"1742\",\"subtype\":\"Figure\",\"type\":\"Plot\"},\"ticker\":{\"id\":\"1753\",\"type\":\"BasicTicker\"}},\"id\":\"1756\",\"type\":\"Grid\"},{\"attributes\":{},\"id\":\"1836\",\"type\":\"BasicTicker\"},{\"attributes\":{\"dimension\":1,\"plot\":{\"id\":\"1820\",\"subtype\":\"Figure\",\"type\":\"Plot\"},\"ticker\":{\"id\":\"1836\",\"type\":\"BasicTicker\"}},\"id\":\"1839\",\"type\":\"Grid\"},{\"attributes\":{\"line_color\":\"red\",\"x\":{\"field\":\"x\"},\"y\":{\"field\":\"a\"}},\"id\":\"1855\",\"type\":\"Line\"},{\"attributes\":{},\"id\":\"1862\",\"type\":\"BasicTickFormatter\"},{\"attributes\":{},\"id\":\"1753\",\"type\":\"BasicTicker\"},{\"attributes\":{},\"id\":\"1840\",\"type\":\"PanTool\"},{\"attributes\":{},\"id\":\"1748\",\"type\":\"LinearScale\"},{\"attributes\":{},\"id\":\"1841\",\"type\":\"WheelZoomTool\"},{\"attributes\":{\"overlay\":{\"id\":\"1848\",\"type\":\"BoxAnnotation\"}},\"id\":\"1842\",\"type\":\"BoxZoomTool\"},{\"attributes\":{},\"id\":\"1843\",\"type\":\"ResetTool\"},{\"attributes\":{},\"id\":\"1844\",\"type\":\"SaveTool\"},{\"attributes\":{\"active_drag\":\"auto\",\"active_inspect\":\"auto\",\"active_multi\":null,\"active_scroll\":\"auto\",\"active_tap\":\"auto\",\"tools\":[{\"id\":\"1817\",\"type\":\"HoverTool\"},{\"id\":\"1840\",\"type\":\"PanTool\"},{\"id\":\"1841\",\"type\":\"WheelZoomTool\"},{\"id\":\"1842\",\"type\":\"BoxZoomTool\"},{\"id\":\"1843\",\"type\":\"ResetTool\"},{\"id\":\"1844\",\"type\":\"SaveTool\"}]},\"id\":\"1845\",\"type\":\"Toolbar\"},{\"attributes\":{\"bottom_units\":\"screen\",\"fill_alpha\":{\"value\":0.5},\"fill_color\":{\"value\":\"lightgrey\"},\"left_units\":\"screen\",\"level\":\"overlay\",\"line_alpha\":{\"value\":1.0},\"line_color\":{\"value\":\"black\"},\"line_dash\":[4,4],\"line_width\":{\"value\":2},\"plot\":null,\"render_mode\":\"css\",\"right_units\":\"screen\",\"top_units\":\"screen\"},\"id\":\"1848\",\"type\":\"BoxAnnotation\"},{\"attributes\":{},\"id\":\"1860\",\"type\":\"BasicTickFormatter\"},{\"attributes\":{\"items\":[{\"id\":\"1866\",\"type\":\"LegendItem\"},{\"id\":\"1880\",\"type\":\"LegendItem\"}],\"location\":\"bottom_center\",\"plot\":{\"id\":\"1820\",\"subtype\":\"Figure\",\"type\":\"Plot\"}},\"id\":\"1865\",\"type\":\"Legend\"},{\"attributes\":{\"label\":{\"value\":\"Model\"},\"renderers\":[{\"id\":\"1857\",\"type\":\"GlyphRenderer\"}]},\"id\":\"1866\",\"type\":\"LegendItem\"},{\"attributes\":{\"line_color\":\"blue\",\"x\":{\"field\":\"x\"},\"y\":{\"field\":\"b\"}},\"id\":\"1868\",\"type\":\"Line\"},{\"attributes\":{\"line_alpha\":0.1,\"line_color\":\"#1f77b4\",\"x\":{\"field\":\"x\"},\"y\":{\"field\":\"b\"}},\"id\":\"1869\",\"type\":\"Line\"},{\"attributes\":{\"data_source\":{\"id\":\"1818\",\"type\":\"ColumnDataSource\"},\"glyph\":{\"id\":\"1868\",\"type\":\"Line\"},\"hover_glyph\":null,\"muted_glyph\":null,\"nonselection_glyph\":{\"id\":\"1869\",\"type\":\"Line\"},\"selection_glyph\":null,\"view\":{\"id\":\"1871\",\"type\":\"CDSView\"}},\"id\":\"1870\",\"type\":\"GlyphRenderer\"},{\"attributes\":{\"callback\":null,\"data\":{\"a\":{\"__ndarray__\":\"AAAAAAAANEDOEbzMiu4yQM+Vhth5/TFAq3vFlbwoMUAiPch4zmwwQCX1wFFDjS9A+DprRiBnLkAGbPICmmItQK32KWKJeyxAZ/5zRFuuK0DSW4wOIvgqQD9TKCApVipAUn9iXhjGKUA4l2nS4EUpQEaV0zqy0yhAyTl9KvNtKEC+I9W6QhMoQOkL+MtgwidAS6Vo0zR6J0DigdQ2yTknQIoNfXlDACdA1pSpmOXMJkDk11BaKZ8mQJ2oPi5rdiZA+1aPJhtSJkBAuwTTrjEmQBKawBq1FCZA9II16M36JUClYTcKpOMlQPLW2+LrziVAbr8W22K8JUDxm9lk0KslQMC1FIT+nCVA4eAeL72PJUBIEaif4YMlQL5bMrlFeSVAMSEqgsdvJUDk0SWtSGclQMXBMjCuXyVAlVNi6N9YJUA6CgxIyFIlQF0LcA5UTSVA0BaUB3JIJUCGX1zTEkQlQOA8A7MoQCVAp00vXKc8JUCtLQDRgzklQAvyfjy0NiVAE8rx0i80JUC+JTdA7zElQIk05F/rLyVA87c+yx0uJUAk/PbIgCwlQI/NrzoPKyVA1uuDjMQpJUDz5lCmnCglQAm6ld6TJyVAiRe57qYmJUBHTpDo0iUlQGYNBC0VJSVAZyi0Y2skJUB/5X5z0yMlQFZl03tLIyVAwl+5ztEiJUCr0HrrZCIlQD9L3nkDIiVAsIjiRawhJUCkce07XiElQE9cYmUYISVAk4qU5dkgJUDsHwz3oSAlQHLSFOlvICVAYomOHUMgJUDa7/gGGyAlQN/Asyb3HyVA9TpuC9cfJUAAwcBPuh8lQCE17JigHyVAERO7lYkfJUAgu4D9dB8lQGi/M49iHyVAxFqgEFIfJUAehrBNQx8lQFFlxxc2HyVAYwIuRSofJUDdhI+wHx8lQBFEgzgWHyVALj8jvw0fJUBLra0pBh8lQKJ6MGD/HiVA16c9TfkeJUAWnKfd8x4lQBiURADvHiVAsm64peoeJUB8K0TA5h4lQGuCmkPjHiVAJgu5JOAeJUBQecVZ3R4lQAeA7tnaHiVAP/pPndgeJUAIANqc1h4lQBmaOtLUHiVAGM3JN9MeJUC7vXfI0R4lQCu1vH/QHiVAYdOKWc8eJUAuQkFSzh4lQJfAoGbNHiVARWLBk8weJUDAYgnXyx4lQF3vJC7LHiVAHM7+lsoeJUAXyrkPyh4lQNbQqpbJHiVA8q1TKskeJUBgVF7JyB4lQHummHLIHiVAkK/wJMgeJUDtQnHfxx4lQMf1PqHHHiVAiWqVacceJUDQ5MQ3xx4lQJkeMAvHHiVAu1dK48YeJUB7mZW/xh4lQOgooZ/GHiVA6CIIg8YeJUC5PXBpxh4lQN2riFLGHiVAAx0JPsYeJUC02bArxh4lQAL3RRvGHiVAsp+UDMYeJUCKcG7/xR4lQOzlqfPFHiVAuNgh6cUeJUAGCbXfxR4lQC61RdfFHiVAzju5z8UeJUDAx/fIxR4lQNUE7MLFHiVAf9yCvcUeJUCOOau4xR4lQEfSVbTFHiVAFPh0sMUeJUBXbPysxR4lQMg54anFHiVA0pEZp8UeJUCkrZykxR4lQHeyYqLFHiVA\",\"dtype\":\"float64\",\"shape\":[150]},\"b\":{\"__ndarray__\":\"AAAAAAAANEC8fiKc2ZkzQBoGzAxKODNAOTdwVRjbMkA3Q712DoIyQCsJ7kP5LDJApd+ROqjbMUCel6Vc7Y0xQM9b2wydQzFAigXx7I38MEDlWva9mLgwQFdpZkKYdzBAVNb4IWk5MEBPHCOe0/svQJxibdv0iS9A0Afsd/kcL0Au40j3p7QuQIHpxrrJUC5AqLSy2SrxLUA76hT8mZUtQKC6hDfoPS1A/6f67ejpLEB1nYWucZksQMcdxhdaTCxASfYUvHsCLEC7bzwHsrsrQDhurCXadytAkFIT7dI2K0AAvUbGfPgqQE+LaJi5vCpA6JQ1tWyDKkCnvmzGekwqQEsHPrzJFypAiCWyvEDlKUBDOvwTyLQpQI/1pyVJhilAUlyXXq5ZKUCDH8Qn4y4pQKUtudnTBSlAHNS5sG3eKECgaIzBnrgoQB8M3+5VlChAoag934JxKEDT0pDzFVAoQM63HT4AMChA9Lb/eTMRKEDfuBQDovMnQNW9Vc4+1ydADIKVYv27J0Bac5/R0aEnQPaLsbGwiCdAcvhLF49wJ0CovFGPYlknQEjUdRkhQydADJDwIsEtJ0AVMXmBORknQBsAgG6BBSdABFelgpDyJkCdSGqxXuAmQEvEF0XkziZAXkLZ2hm+JkDqMQhf+K0mQIeKpQl5niZA+Qr/WpWPJkCM0n0YR4EmQCklnEmIcyZASUoANVNmJkBOlbpdolkmQCPCpIBwTSZAvOvgkbhBJkAie3a6dTYmQEeFC1ajKyZAFSS58DwhJkDTa/lEPhcmQK+xrTmjDSZAleo74GcEJkDE+sFyiPslQL7eXVIB8yVAqaWJBc/qJUBsQ4o27uIlQHtO8LFb2yVA3skpZRTUJUAuKCRdFc0lQFi//cRbxiVAu+/F5OS/JUAoS0sgrrklQLcR9/W0syVAXmO1/fatJUB1jenncaglQFHjbXwjoyVAjJiemQmeJUCjGm8zIpklQAluiVJrlCVAYhl3E+OPJUASL9Olh4slQGILhUtXhyVAUWIDWFCDJUBjPZ8vcX8lQGmO1ka4eyVArgCuISR4JUAfthFTs3QlQCmiPHxkcSVAizcmTDZuJUBFIvZ+J2slQNPJfd02aCVAXlu3PGNlJUByHkp9q2IlQL3ZE4sOYCVAARC3XItdJUAF4C3zIFslQN1UYVnOWCVABfbEo5JWJUAnafbvbFQlQIH5YGRcUiVAxNrkL2BQJUA//4GJd04lQPRaBrChTCVA8G6/6d1KJUDP+S6EK0klQP2rwtOJRyVArr+OM/hFJUDtVQsFdkQlQIV71K8CQyVA0rlsoZ1BJUCXGAJNRkAlQGF3NSv8PiVA3iXkub49JUC4o/N7jTwlQIpxH/lnOyVAZt3IvU06JUBbtshaPjklQEvTQmU5OCVAM1p7dj43JUDDta0rTTYlQAYo5SVlNSVAcenWCYY0JUCIxL1/rzMlQMIeNzPhMiVAH2Ah0xoyJUB+q3sRXDElQBvaRqOkMCVAhq1nQPQvJUCfK4qjSi8lQNQYBoqnLiVAJYXEswouJUA4YSbjcy0lQOsQ7NziLCVAbfEdaFcsJUAzyfVN0SslQKMYyVlQKyVA\",\"dtype\":\"float64\",\"shape\":[150]},\"c\":[10.55994392434922,10.55994392434922,10.55994392434922,10.55994392434922,10.55994392434922,10.55994392434922,10.55994392434922,10.55994392434922,10.55994392434922,10.55994392434922,10.55994392434922,10.55994392434922,10.55994392434922,10.55994392434922,10.55994392434922,10.55994392434922,10.55994392434922,10.55994392434922,10.55994392434922,10.55994392434922,10.55994392434922,10.55994392434922,10.55994392434922,10.55994392434922,10.55994392434922,10.55994392434922,10.55994392434922,10.55994392434922,10.55994392434922,10.55994392434922,10.55994392434922,10.55994392434922,10.55994392434922,10.55994392434922,10.55994392434922,10.55994392434922,10.55994392434922,10.55994392434922,10.55994392434922,10.55994392434922,10.55994392434922,10.55994392434922,10.55994392434922,10.55994392434922,10.55994392434922,10.55994392434922,10.55994392434922,10.55994392434922,10.55994392434922,10.55994392434922,10.55994392434922,10.55994392434922,10.55994392434922,10.55994392434922,10.55994392434922,10.55994392434922,10.55994392434922,10.55994392434922,10.55994392434922,10.55994392434922,10.55994392434922,10.55994392434922,10.55994392434922,10.55994392434922,10.55994392434922,10.55994392434922,10.55994392434922,10.55994392434922,10.55994392434922,10.55994392434922,10.55994392434922,10.55994392434922,10.55994392434922,10.55994392434922,10.55994392434922,10.55994392434922,10.55994392434922,10.55994392434922,10.55994392434922,10.55994392434922,10.55994392434922,10.55994392434922,10.55994392434922,10.55994392434922,10.55994392434922,10.55994392434922,10.55994392434922,10.55994392434922,10.55994392434922,10.55994392434922,10.55994392434922,10.55994392434922,10.55994392434922,10.55994392434922,10.55994392434922,10.55994392434922,10.55994392434922,10.55994392434922,10.55994392434922,10.55994392434922,10.55994392434922,10.55994392434922,10.55994392434922,10.55994392434922,10.55994392434922,10.55994392434922,10.55994392434922,10.55994392434922,10.55994392434922,10.55994392434922,10.55994392434922,10.55994392434922,10.55994392434922,10.55994392434922,10.55994392434922,10.55994392434922,10.55994392434922,10.55994392434922,10.55994392434922,10.55994392434922,10.55994392434922,10.55994392434922,10.55994392434922,10.55994392434922,10.55994392434922,10.55994392434922,10.55994392434922,10.55994392434922,10.55994392434922,10.55994392434922,10.55994392434922,10.55994392434922,10.55994392434922,10.55994392434922,10.55994392434922,10.55994392434922,10.55994392434922,10.55994392434922,10.55994392434922,10.55994392434922,10.55994392434922,10.55994392434922,10.55994392434922,10.55994392434922,10.55994392434922,10.55994392434922,10.55994392434922,10.55994392434922,10.55994392434922,10.55994392434922],\"x\":[0,1,2,3,4,5,6,7,8,9,10,11,12,13,14,15,16,17,18,19,20,21,22,23,24,25,26,27,28,29,30,31,32,33,34,35,36,37,38,39,40,41,42,43,44,45,46,47,48,49,50,51,52,53,54,55,56,57,58,59,60,61,62,63,64,65,66,67,68,69,70,71,72,73,74,75,76,77,78,79,80,81,82,83,84,85,86,87,88,89,90,91,92,93,94,95,96,97,98,99,100,101,102,103,104,105,106,107,108,109,110,111,112,113,114,115,116,117,118,119,120,121,122,123,124,125,126,127,128,129,130,131,132,133,134,135,136,137,138,139,140,141,142,143,144,145,146,147,148,149]},\"selected\":{\"id\":\"1799\",\"type\":\"Selection\"},\"selection_policy\":{\"id\":\"1800\",\"type\":\"UnionRenderers\"}},\"id\":\"1740\",\"type\":\"ColumnDataSource\"},{\"attributes\":{\"plot\":null,\"text\":\"Evolution of capital\"},\"id\":\"1741\",\"type\":\"Title\"},{\"attributes\":{\"source\":{\"id\":\"1818\",\"type\":\"ColumnDataSource\"}},\"id\":\"1871\",\"type\":\"CDSView\"},{\"attributes\":{},\"id\":\"1750\",\"type\":\"LinearScale\"},{\"attributes\":{},\"id\":\"1877\",\"type\":\"Selection\"},{\"attributes\":{},\"id\":\"1878\",\"type\":\"UnionRenderers\"},{\"attributes\":{\"callback\":null,\"tooltips\":[[\"T\",\"@x{0,0.00}\"],[\"Capital pr. capita for Model_path\",\"@a{0.00}\"],[\"Capital pr. capita for Fixed Savings rate\",\"@b{0.00}\"],[\"Capital pr. capita for Steady state level\",\"@c{0.00}\"]]},\"id\":\"1739\",\"type\":\"HoverTool\"},{\"attributes\":{\"label\":{\"value\":\"Steady state/Fixed\"},\"renderers\":[{\"id\":\"1870\",\"type\":\"GlyphRenderer\"}]},\"id\":\"1880\",\"type\":\"LegendItem\"},{\"attributes\":{\"callback\":null},\"id\":\"1744\",\"type\":\"DataRange1d\"},{\"attributes\":{\"below\":[{\"id\":\"1752\",\"type\":\"LinearAxis\"}],\"left\":[{\"id\":\"1757\",\"type\":\"LinearAxis\"}],\"plot_height\":500,\"plot_width\":400,\"renderers\":[{\"id\":\"1752\",\"type\":\"LinearAxis\"},{\"id\":\"1756\",\"type\":\"Grid\"},{\"id\":\"1757\",\"type\":\"LinearAxis\"},{\"id\":\"1761\",\"type\":\"Grid\"},{\"id\":\"1770\",\"type\":\"BoxAnnotation\"},{\"id\":\"1787\",\"type\":\"Legend\"},{\"id\":\"1779\",\"type\":\"GlyphRenderer\"},{\"id\":\"1792\",\"type\":\"GlyphRenderer\"},{\"id\":\"1806\",\"type\":\"GlyphRenderer\"}],\"title\":{\"id\":\"1741\",\"type\":\"Title\"},\"toolbar\":{\"id\":\"1767\",\"type\":\"Toolbar\"},\"x_range\":{\"id\":\"1744\",\"type\":\"DataRange1d\"},\"x_scale\":{\"id\":\"1748\",\"type\":\"LinearScale\"},\"y_range\":{\"id\":\"1746\",\"type\":\"DataRange1d\"},\"y_scale\":{\"id\":\"1750\",\"type\":\"LinearScale\"}},\"id\":\"1742\",\"subtype\":\"Figure\",\"type\":\"Plot\"},{\"attributes\":{},\"id\":\"1765\",\"type\":\"ResetTool\"},{\"attributes\":{\"callback\":null,\"tooltips\":[[\"T\",\"@x{0,0.00}\"],[\"Savings rate for Model\",\"@a{0.00}\"],[\"Savings rate for Steady state/Fixed\",\"@b{0.00}\"]]},\"id\":\"1817\",\"type\":\"HoverTool\"},{\"attributes\":{\"axis_label\":\"T\",\"formatter\":{\"id\":\"1782\",\"type\":\"BasicTickFormatter\"},\"plot\":{\"id\":\"1742\",\"subtype\":\"Figure\",\"type\":\"Plot\"},\"ticker\":{\"id\":\"1753\",\"type\":\"BasicTicker\"}},\"id\":\"1752\",\"type\":\"LinearAxis\"},{\"attributes\":{\"callback\":null},\"id\":\"1746\",\"type\":\"DataRange1d\"},{\"attributes\":{\"axis_label\":\"Capital pr. capita\",\"formatter\":{\"id\":\"1784\",\"type\":\"BasicTickFormatter\"},\"plot\":{\"id\":\"1742\",\"subtype\":\"Figure\",\"type\":\"Plot\"},\"ticker\":{\"id\":\"1758\",\"type\":\"BasicTicker\"}},\"id\":\"1757\",\"type\":\"LinearAxis\"},{\"attributes\":{},\"id\":\"1758\",\"type\":\"BasicTicker\"},{\"attributes\":{\"dimension\":1,\"plot\":{\"id\":\"1742\",\"subtype\":\"Figure\",\"type\":\"Plot\"},\"ticker\":{\"id\":\"1758\",\"type\":\"BasicTicker\"}},\"id\":\"1761\",\"type\":\"Grid\"},{\"attributes\":{\"source\":{\"id\":\"1818\",\"type\":\"ColumnDataSource\"}},\"id\":\"1858\",\"type\":\"CDSView\"},{\"attributes\":{\"callback\":null,\"data\":{\"a\":{\"__ndarray__\":\"mbr+O8tonz8O/fepHJisP/gxR259GrQ/5h/R8qtVuT98beK1ogu+P/j+wnvkJME/v5uktBYOwz82N37u3sLEP/HemsF+ScY/E3iRBaarxz+GBzwvMenIPxhstXNyBso/2nnXqZUGyz9xagsMYezLP98B8GBcusw/w1+MicRzzT+mMUVUuhnOPxG0wuJurs4/YKCi7uUzzz8jUQrfjavPP4LDoWGaC9A/TnyaX/c90D9Cur7kzmrQP73HRk/BktA/ihH8k7S10D+eDxmttNTQP6muxeVo8NA/oqcwHC0J0T+32YLEUh/RPygkm88qM9E/nzRPpxtF0T/28uwLJlXRP/ySQz5+Y9E/6rqPvVJw0T8/oOvwzHvRP2B16bsRhtE/kJInAUKP0T9Jq0EVe5fRP8hQKCTXntE/d7Wcim2l0T/Sck8lU6vRP2Lb65aasNE/a2cshlS10T9Kpe7Uj7nRP+efHNFZvdE/GvYlYL7A0T+8H6slyMPRPxX36KWAxtE/JVgzV/jI0T9/9I+8LcvRPyGEvZwnzdE/nLyxPuzO0T88ZlQ/gdDRP3y+m6Pr0dE/qT216C/T0T9zvHESUtTRP3avJbhV1dE/fKooED7W0T/fgRr6DdfRP7kXEAjI19E/fhrGhm7Y0T93ovSEA9nRP9Gl29mI2dE/h5sdKwDa0T/UUfvxatrRPyzsAYDK2tE/ACc6AyDb0T/xXeaJbNvRP3pd2wWx29E/cb5+T+7b0T/1YnQoJdzRPzCmAz5W3NE/yuU7K4Lc0T+qO996qdzRPyWEGanM3NE/kyYJJezc0T/xgR5SCN3RP79aVokh3dE/2jBTGjjd0T+J+lhMTN3RP1hjLl9e3dE/JFnmi27d0T8OZpQFfd3RP90S7vmJ3dE/7FDbkZXd0T/QtPfxn93RP9EaBjup3dE/IyNYirHd0T8nzSr6uN3RP9VW+aG/3dE/GGbHlsXd0T/YZmPryt3RP2LvobDP3dE/1uaS9dPd0T/SFbHH193RP2W3DDPb3dE/9pBxQt7d0T9wCYn/4N3RP1+r+HLj3dE/anJ9pOXd0T9hOgSb593RPw2dv1zp3dE/3oM77+rd0T8mq25X7N3RP2dOypnt3dE//C5Iuu7d0T+IIXe8793RP71JhqPw3dE/FChPcvHd0T8AmV4r8t3RP0fi/NDy3dE/qOc0ZfPd0T/Mndrp893RP7zPkGD03dE/GEnOyvTd0T9rdeIp9d3RPzGD+X713dE/ixcgy/Xd0T9xnkYP9t3RP8ZBREz23dE/npDZgvbd0T8637Kz9t3RPx1nat/23dE/7y2KBvfd0T9MuY0p993RP7GU40j33dE/ja7uZPfd0T+PkAd+993RPzR3fZT33dE/7UuXqPfd0T8HhZS6993RPwLurcr33dE/3VoW2ffd0T+cSPvl993RP9pshfH33dE/UjbZ+/fd0T/tPxcF+N3RP6W3XA343dE/tbrDFPjd0T/7p2Mb+N3RP81pUSH43dE//7efJvjd0T/6Ul8r+N3RP5s4ny/43dE/kNNsM/jd0T+0JdQ2+N3RP+zt3zn43dE/JMqZPPjd0T+cVQo/+N3RPyJEOUH43dE/\",\"dtype\":\"float64\",\"shape\":[150]},\"b\":[0.27917020677235116,0.27917020677235116,0.27917020677235116,0.27917020677235116,0.27917020677235116,0.27917020677235116,0.27917020677235116,0.27917020677235116,0.27917020677235116,0.27917020677235116,0.27917020677235116,0.27917020677235116,0.27917020677235116,0.27917020677235116,0.27917020677235116,0.27917020677235116,0.27917020677235116,0.27917020677235116,0.27917020677235116,0.27917020677235116,0.27917020677235116,0.27917020677235116,0.27917020677235116,0.27917020677235116,0.27917020677235116,0.27917020677235116,0.27917020677235116,0.27917020677235116,0.27917020677235116,0.27917020677235116,0.27917020677235116,0.27917020677235116,0.27917020677235116,0.27917020677235116,0.27917020677235116,0.27917020677235116,0.27917020677235116,0.27917020677235116,0.27917020677235116,0.27917020677235116,0.27917020677235116,0.27917020677235116,0.27917020677235116,0.27917020677235116,0.27917020677235116,0.27917020677235116,0.27917020677235116,0.27917020677235116,0.27917020677235116,0.27917020677235116,0.27917020677235116,0.27917020677235116,0.27917020677235116,0.27917020677235116,0.27917020677235116,0.27917020677235116,0.27917020677235116,0.27917020677235116,0.27917020677235116,0.27917020677235116,0.27917020677235116,0.27917020677235116,0.27917020677235116,0.27917020677235116,0.27917020677235116,0.27917020677235116,0.27917020677235116,0.27917020677235116,0.27917020677235116,0.27917020677235116,0.27917020677235116,0.27917020677235116,0.27917020677235116,0.27917020677235116,0.27917020677235116,0.27917020677235116,0.27917020677235116,0.27917020677235116,0.27917020677235116,0.27917020677235116,0.27917020677235116,0.27917020677235116,0.27917020677235116,0.27917020677235116,0.27917020677235116,0.27917020677235116,0.27917020677235116,0.27917020677235116,0.27917020677235116,0.27917020677235116,0.27917020677235116,0.27917020677235116,0.27917020677235116,0.27917020677235116,0.27917020677235116,0.27917020677235116,0.27917020677235116,0.27917020677235116,0.27917020677235116,0.27917020677235116,0.27917020677235116,0.27917020677235116,0.27917020677235116,0.27917020677235116,0.27917020677235116,0.27917020677235116,0.27917020677235116,0.27917020677235116,0.27917020677235116,0.27917020677235116,0.27917020677235116,0.27917020677235116,0.27917020677235116,0.27917020677235116,0.27917020677235116,0.27917020677235116,0.27917020677235116,0.27917020677235116,0.27917020677235116,0.27917020677235116,0.27917020677235116,0.27917020677235116,0.27917020677235116,0.27917020677235116,0.27917020677235116,0.27917020677235116,0.27917020677235116,0.27917020677235116,0.27917020677235116,0.27917020677235116,0.27917020677235116,0.27917020677235116,0.27917020677235116,0.27917020677235116,0.27917020677235116,0.27917020677235116,0.27917020677235116,0.27917020677235116,0.27917020677235116,0.27917020677235116,0.27917020677235116,0.27917020677235116,0.27917020677235116,0.27917020677235116,0.27917020677235116,0.27917020677235116,0.27917020677235116,0.27917020677235116,0.27917020677235116,0.27917020677235116],\"x\":[0,1,2,3,4,5,6,7,8,9,10,11,12,13,14,15,16,17,18,19,20,21,22,23,24,25,26,27,28,29,30,31,32,33,34,35,36,37,38,39,40,41,42,43,44,45,46,47,48,49,50,51,52,53,54,55,56,57,58,59,60,61,62,63,64,65,66,67,68,69,70,71,72,73,74,75,76,77,78,79,80,81,82,83,84,85,86,87,88,89,90,91,92,93,94,95,96,97,98,99,100,101,102,103,104,105,106,107,108,109,110,111,112,113,114,115,116,117,118,119,120,121,122,123,124,125,126,127,128,129,130,131,132,133,134,135,136,137,138,139,140,141,142,143,144,145,146,147,148,149]},\"selected\":{\"id\":\"1877\",\"type\":\"Selection\"},\"selection_policy\":{\"id\":\"1878\",\"type\":\"UnionRenderers\"}},\"id\":\"1818\",\"type\":\"ColumnDataSource\"},{\"attributes\":{},\"id\":\"1762\",\"type\":\"PanTool\"},{\"attributes\":{},\"id\":\"1763\",\"type\":\"WheelZoomTool\"},{\"attributes\":{\"overlay\":{\"id\":\"1770\",\"type\":\"BoxAnnotation\"}},\"id\":\"1764\",\"type\":\"BoxZoomTool\"},{\"attributes\":{},\"id\":\"1766\",\"type\":\"SaveTool\"},{\"attributes\":{\"active_drag\":\"auto\",\"active_inspect\":\"auto\",\"active_multi\":null,\"active_scroll\":\"auto\",\"active_tap\":\"auto\",\"tools\":[{\"id\":\"1739\",\"type\":\"HoverTool\"},{\"id\":\"1762\",\"type\":\"PanTool\"},{\"id\":\"1763\",\"type\":\"WheelZoomTool\"},{\"id\":\"1764\",\"type\":\"BoxZoomTool\"},{\"id\":\"1765\",\"type\":\"ResetTool\"},{\"id\":\"1766\",\"type\":\"SaveTool\"}]},\"id\":\"1767\",\"type\":\"Toolbar\"},{\"attributes\":{\"line_color\":\"red\",\"x\":{\"field\":\"x\"},\"y\":{\"field\":\"a\"}},\"id\":\"1777\",\"type\":\"Line\"},{\"attributes\":{\"bottom_units\":\"screen\",\"fill_alpha\":{\"value\":0.5},\"fill_color\":{\"value\":\"lightgrey\"},\"left_units\":\"screen\",\"level\":\"overlay\",\"line_alpha\":{\"value\":1.0},\"line_color\":{\"value\":\"black\"},\"line_dash\":[4,4],\"line_width\":{\"value\":2},\"plot\":null,\"render_mode\":\"css\",\"right_units\":\"screen\",\"top_units\":\"screen\"},\"id\":\"1770\",\"type\":\"BoxAnnotation\"},{\"attributes\":{\"items\":[{\"id\":\"1788\",\"type\":\"LegendItem\"},{\"id\":\"1802\",\"type\":\"LegendItem\"},{\"id\":\"1816\",\"type\":\"LegendItem\"}],\"location\":\"top_center\",\"plot\":{\"id\":\"1742\",\"subtype\":\"Figure\",\"type\":\"Plot\"}},\"id\":\"1787\",\"type\":\"Legend\"},{\"attributes\":{\"label\":{\"value\":\"Steady state level\"},\"renderers\":[{\"id\":\"1806\",\"type\":\"GlyphRenderer\"}]},\"id\":\"1816\",\"type\":\"LegendItem\"},{\"attributes\":{\"line_alpha\":0.1,\"line_color\":\"#1f77b4\",\"x\":{\"field\":\"x\"},\"y\":{\"field\":\"a\"}},\"id\":\"1778\",\"type\":\"Line\"},{\"attributes\":{\"data_source\":{\"id\":\"1740\",\"type\":\"ColumnDataSource\"},\"glyph\":{\"id\":\"1777\",\"type\":\"Line\"},\"hover_glyph\":null,\"muted_glyph\":null,\"nonselection_glyph\":{\"id\":\"1778\",\"type\":\"Line\"},\"selection_glyph\":null,\"view\":{\"id\":\"1780\",\"type\":\"CDSView\"}},\"id\":\"1779\",\"type\":\"GlyphRenderer\"},{\"attributes\":{\"source\":{\"id\":\"1740\",\"type\":\"ColumnDataSource\"}},\"id\":\"1780\",\"type\":\"CDSView\"},{\"attributes\":{},\"id\":\"1782\",\"type\":\"BasicTickFormatter\"},{\"attributes\":{},\"id\":\"1784\",\"type\":\"BasicTickFormatter\"},{\"attributes\":{\"label\":{\"value\":\"Model_path\"},\"renderers\":[{\"id\":\"1779\",\"type\":\"GlyphRenderer\"}]},\"id\":\"1788\",\"type\":\"LegendItem\"},{\"attributes\":{\"data_source\":{\"id\":\"1818\",\"type\":\"ColumnDataSource\"},\"glyph\":{\"id\":\"1855\",\"type\":\"Line\"},\"hover_glyph\":null,\"muted_glyph\":null,\"nonselection_glyph\":{\"id\":\"1856\",\"type\":\"Line\"},\"selection_glyph\":null,\"view\":{\"id\":\"1858\",\"type\":\"CDSView\"}},\"id\":\"1857\",\"type\":\"GlyphRenderer\"},{\"attributes\":{\"line_color\":\"blue\",\"x\":{\"field\":\"x\"},\"y\":{\"field\":\"b\"}},\"id\":\"1790\",\"type\":\"Line\"},{\"attributes\":{\"line_alpha\":0.1,\"line_color\":\"#1f77b4\",\"x\":{\"field\":\"x\"},\"y\":{\"field\":\"b\"}},\"id\":\"1791\",\"type\":\"Line\"},{\"attributes\":{\"data_source\":{\"id\":\"1740\",\"type\":\"ColumnDataSource\"},\"glyph\":{\"id\":\"1790\",\"type\":\"Line\"},\"hover_glyph\":null,\"muted_glyph\":null,\"nonselection_glyph\":{\"id\":\"1791\",\"type\":\"Line\"},\"selection_glyph\":null,\"view\":{\"id\":\"1793\",\"type\":\"CDSView\"}},\"id\":\"1792\",\"type\":\"GlyphRenderer\"},{\"attributes\":{\"source\":{\"id\":\"1740\",\"type\":\"ColumnDataSource\"}},\"id\":\"1793\",\"type\":\"CDSView\"},{\"attributes\":{},\"id\":\"1799\",\"type\":\"Selection\"},{\"attributes\":{},\"id\":\"1800\",\"type\":\"UnionRenderers\"},{\"attributes\":{\"label\":{\"value\":\"Fixed Savings rate\"},\"renderers\":[{\"id\":\"1792\",\"type\":\"GlyphRenderer\"}]},\"id\":\"1802\",\"type\":\"LegendItem\"},{\"attributes\":{\"line_alpha\":0.1,\"line_color\":\"#1f77b4\",\"x\":{\"field\":\"x\"},\"y\":{\"field\":\"a\"}},\"id\":\"1856\",\"type\":\"Line\"},{\"attributes\":{\"line_color\":\"green\",\"x\":{\"field\":\"x\"},\"y\":{\"field\":\"c\"}},\"id\":\"1804\",\"type\":\"Line\"},{\"attributes\":{\"line_alpha\":0.1,\"line_color\":\"#1f77b4\",\"x\":{\"field\":\"x\"},\"y\":{\"field\":\"c\"}},\"id\":\"1805\",\"type\":\"Line\"},{\"attributes\":{\"data_source\":{\"id\":\"1740\",\"type\":\"ColumnDataSource\"},\"glyph\":{\"id\":\"1804\",\"type\":\"Line\"},\"hover_glyph\":null,\"muted_glyph\":null,\"nonselection_glyph\":{\"id\":\"1805\",\"type\":\"Line\"},\"selection_glyph\":null,\"view\":{\"id\":\"1807\",\"type\":\"CDSView\"}},\"id\":\"1806\",\"type\":\"GlyphRenderer\"},{\"attributes\":{\"source\":{\"id\":\"1740\",\"type\":\"ColumnDataSource\"}},\"id\":\"1807\",\"type\":\"CDSView\"},{\"attributes\":{\"below\":[{\"id\":\"1830\",\"type\":\"LinearAxis\"}],\"left\":[{\"id\":\"1835\",\"type\":\"LinearAxis\"}],\"plot_height\":500,\"plot_width\":400,\"renderers\":[{\"id\":\"1830\",\"type\":\"LinearAxis\"},{\"id\":\"1834\",\"type\":\"Grid\"},{\"id\":\"1835\",\"type\":\"LinearAxis\"},{\"id\":\"1839\",\"type\":\"Grid\"},{\"id\":\"1848\",\"type\":\"BoxAnnotation\"},{\"id\":\"1865\",\"type\":\"Legend\"},{\"id\":\"1857\",\"type\":\"GlyphRenderer\"},{\"id\":\"1870\",\"type\":\"GlyphRenderer\"}],\"title\":{\"id\":\"1819\",\"type\":\"Title\"},\"toolbar\":{\"id\":\"1845\",\"type\":\"Toolbar\"},\"x_range\":{\"id\":\"1822\",\"type\":\"DataRange1d\"},\"x_scale\":{\"id\":\"1826\",\"type\":\"LinearScale\"},\"y_range\":{\"id\":\"1824\",\"type\":\"DataRange1d\"},\"y_scale\":{\"id\":\"1828\",\"type\":\"LinearScale\"}},\"id\":\"1820\",\"subtype\":\"Figure\",\"type\":\"Plot\"},{\"attributes\":{\"plot\":null,\"text\":\"Evolution of savings rate\"},\"id\":\"1819\",\"type\":\"Title\"}],\"root_ids\":[\"1881\"]},\"title\":\"Bokeh Application\",\"version\":\"1.0.2\"}};\n",
       "  var render_items = [{\"docid\":\"9d318264-1fd8-43ad-9de9-9dd13dd55cd9\",\"notebook_comms_target\":\"1938\",\"roots\":{\"1881\":\"cde667cd-b862-4450-b081-5cb67a988ca2\"}}];\n",
       "  root.Bokeh.embed.embed_items_notebook(docs_json, render_items);\n",
       "\n",
       "  }\n",
       "  if (root.Bokeh !== undefined) {\n",
       "    embed_document(root);\n",
       "  } else {\n",
       "    var attempts = 0;\n",
       "    var timer = setInterval(function(root) {\n",
       "      if (root.Bokeh !== undefined) {\n",
       "        embed_document(root);\n",
       "        clearInterval(timer);\n",
       "      }\n",
       "      attempts++;\n",
       "      if (attempts > 100) {\n",
       "        console.log(\"Bokeh: ERROR: Unable to run BokehJS code because BokehJS library is missing\");\n",
       "        clearInterval(timer);\n",
       "      }\n",
       "    }, 10, root)\n",
       "  }\n",
       "})(window);"
      ],
      "application/vnd.bokehjs_exec.v0+json": ""
     },
     "metadata": {
      "application/vnd.bokehjs_exec.v0+json": {
       "id": "1881"
      }
     },
     "output_type": "display_data"
    },
    {
     "data": {
      "text/html": [
       "<p><code>&lt;Bokeh Notebook handle for <strong>In[14]</strong>&gt;</code></p>"
      ],
      "text/plain": [
       "<bokeh.io.notebook.CommsHandle at 0x11b6cca90>"
      ]
     },
     "execution_count": 14,
     "metadata": {},
     "output_type": "execute_result"
    }
   ],
   "source": [
    "y_names = ['Model_path', 'Fixed Savings rate','Steady state level']\n",
    "ys = [k_pr ,trad_k_pr, [k_star for i in range(timeline)]]\n",
    "p1 = model_funcs.plotting(\"T\",y_names, list(range(timeline)), ys, \n",
    "                     y_name= 'Capital pr. capita',legendlocation ='top_center',\n",
    "                    title='Evolution of capital')\n",
    "ys2 = [sk_path, [sk_star for i in range(timeline)]]\n",
    "p2 = model_funcs.plotting(\"T\",['Model','Steady state/Fixed'], list(range(timeline)), ys2, \n",
    "                     y_name= 'Savings rate', legendlocation ='bottom_center', \n",
    "                     title ='Evolution of savings rate')\n",
    "show(row(p1,p2),notebook_handle=True)"
   ]
  },
  {
   "cell_type": "markdown",
   "metadata": {},
   "source": [
    "# The model for different values of $\\theta$"
   ]
  },
  {
   "cell_type": "markdown",
   "metadata": {},
   "source": [
    "Now we look at the evolution of the model for different values of theta in the household utility function. Both for initially low and initially high $k^{*}$."
   ]
  },
  {
   "cell_type": "code",
   "execution_count": 15,
   "metadata": {},
   "outputs": [],
   "source": [
    "k_prs_low = []\n",
    "sk_paths_low = []\n",
    "\n",
    "k0 = 5\n",
    "for i in range(4):\n",
    "    k_pr, y_pr, sk_path = model_funcs.new_mod_solowwalk(\n",
    "        k0, l0, b,n, alpha, delta, sk_interpers[i], timeline)\n",
    "    k_prs_low.append(k_pr)\n",
    "    sk_paths_low.append(sk_path)\n",
    "    \n",
    "    \n",
    "\n",
    "k_prs_high = []\n",
    "sk_paths_high = []\n",
    "\n",
    "k0 = 20\n",
    "for i in range(4):\n",
    "    k_pr, y_pr, sk_path = model_funcs.new_mod_solowwalk(\n",
    "        k0, l0, b,n, alpha, delta, sk_interpers[i], timeline)\n",
    "    k_prs_high.append(k_pr)\n",
    "    sk_paths_high.append(sk_path)\n",
    "    "
   ]
  },
  {
   "cell_type": "code",
   "execution_count": 16,
   "metadata": {},
   "outputs": [],
   "source": [
    "theta_names = ['\\u03B8 = 0.3', '\\u03B8 = 0.5','\\u03B8 = 0.7','\\u03B8 = 1.5']\n",
    "\n",
    "p1 = model_funcs.plotting(\"T\",theta_names, list(range(timeline)), k_prs_low,\n",
    "                     y_name= 'Capital pr. capita',legendlocation ='bottom_center',\n",
    "                    title = 'Evolution of the capita pr. capita for different values of \\u03B8')\n",
    "\n",
    "p2 = model_funcs.plotting(\"T\",theta_names, list(range(timeline)), sk_paths_low,\n",
    "                     y_name= 'Savings rate',legendlocation ='top_center',\n",
    "                    title = 'Evolution of the savingsrate for different values of \\u03B8')\n",
    "\n",
    "\n",
    "p3 = model_funcs.plotting(\"T\",theta_names, list(range(timeline)), k_prs_high,\n",
    "                     y_name= 'Capital pr. capita',legendlocation ='bottom_center',\n",
    "                    title = 'Evolution of the capita pr. capita for different values of \\u03B8')\n",
    "\n",
    "p4 = model_funcs.plotting(\"T\",theta_names, list(range(timeline)), sk_paths_high,\n",
    "                     y_name= 'Savings rate',legendlocation ='top_center',\n",
    "                    title = 'Evolution of the savingsrate for different values of \\u03B8')\n"
   ]
  },
  {
   "cell_type": "markdown",
   "metadata": {},
   "source": [
    "Before we show the figures of the simulation of the macro model, we remind ourselfs of the figure showing the optimal savingsrate for different $\\theta$s \n",
    "The crossing of the steady state-line with the lines of optimal savings rate, shows our steady state for the given $\\theta$. Also it would make sence if the steeper the optimalsavings-line is, the faster the convergence towards the steady state will be. Since the savingsrate will be adjusted more, and the capitalaccumulation will be faster. "
   ]
  },
  {
   "cell_type": "code",
   "execution_count": 17,
   "metadata": {},
   "outputs": [
    {
     "data": {
      "text/html": [
       "\n",
       "\n",
       "\n",
       "\n",
       "\n",
       "\n",
       "  <div class=\"bk-root\" id=\"7901470e-f6ed-4e75-94a5-268496c24f16\"></div>\n"
      ]
     },
     "metadata": {},
     "output_type": "display_data"
    },
    {
     "data": {
      "application/javascript": [
       "(function(root) {\n",
       "  function embed_document(root) {\n",
       "    \n",
       "  var docs_json = {\"294941b9-ac11-4c00-8576-7c3dd91a2eb2\":{\"roots\":{\"references\":[{\"attributes\":{\"below\":[{\"id\":\"1293\",\"type\":\"LinearAxis\"}],\"left\":[{\"id\":\"1298\",\"type\":\"LinearAxis\"}],\"plot_height\":500,\"renderers\":[{\"id\":\"1293\",\"type\":\"LinearAxis\"},{\"id\":\"1297\",\"type\":\"Grid\"},{\"id\":\"1298\",\"type\":\"LinearAxis\"},{\"id\":\"1302\",\"type\":\"Grid\"},{\"id\":\"1311\",\"type\":\"BoxAnnotation\"},{\"id\":\"1328\",\"type\":\"Legend\"},{\"id\":\"1320\",\"type\":\"GlyphRenderer\"},{\"id\":\"1333\",\"type\":\"GlyphRenderer\"},{\"id\":\"1347\",\"type\":\"GlyphRenderer\"},{\"id\":\"1361\",\"type\":\"GlyphRenderer\"},{\"id\":\"1375\",\"type\":\"GlyphRenderer\"}],\"title\":{\"id\":\"1282\",\"type\":\"Title\"},\"toolbar\":{\"id\":\"1308\",\"type\":\"Toolbar\"},\"x_range\":{\"id\":\"1285\",\"type\":\"DataRange1d\"},\"x_scale\":{\"id\":\"1289\",\"type\":\"LinearScale\"},\"y_range\":{\"id\":\"1287\",\"type\":\"DataRange1d\"},\"y_scale\":{\"id\":\"1291\",\"type\":\"LinearScale\"}},\"id\":\"1283\",\"subtype\":\"Figure\",\"type\":\"Plot\"},{\"attributes\":{},\"id\":\"1291\",\"type\":\"LinearScale\"},{\"attributes\":{},\"id\":\"1306\",\"type\":\"ResetTool\"},{\"attributes\":{\"line_alpha\":0.1,\"line_color\":\"#1f77b4\",\"x\":{\"field\":\"x\"},\"y\":{\"field\":\"c\"}},\"id\":\"1346\",\"type\":\"Line\"},{\"attributes\":{},\"id\":\"1307\",\"type\":\"SaveTool\"},{\"attributes\":{\"data_source\":{\"id\":\"1281\",\"type\":\"ColumnDataSource\"},\"glyph\":{\"id\":\"1345\",\"type\":\"Line\"},\"hover_glyph\":null,\"muted_glyph\":null,\"nonselection_glyph\":{\"id\":\"1346\",\"type\":\"Line\"},\"selection_glyph\":null,\"view\":{\"id\":\"1348\",\"type\":\"CDSView\"}},\"id\":\"1347\",\"type\":\"GlyphRenderer\"},{\"attributes\":{\"line_color\":\"red\",\"x\":{\"field\":\"x\"},\"y\":{\"field\":\"a\"}},\"id\":\"1318\",\"type\":\"Line\"},{\"attributes\":{},\"id\":\"1340\",\"type\":\"Selection\"},{\"attributes\":{\"items\":[{\"id\":\"1329\",\"type\":\"LegendItem\"},{\"id\":\"1343\",\"type\":\"LegendItem\"},{\"id\":\"1357\",\"type\":\"LegendItem\"},{\"id\":\"1371\",\"type\":\"LegendItem\"},{\"id\":\"1385\",\"type\":\"LegendItem\"}],\"location\":\"top_center\",\"plot\":{\"id\":\"1283\",\"subtype\":\"Figure\",\"type\":\"Plot\"}},\"id\":\"1328\",\"type\":\"Legend\"},{\"attributes\":{\"source\":{\"id\":\"1281\",\"type\":\"ColumnDataSource\"}},\"id\":\"1348\",\"type\":\"CDSView\"},{\"attributes\":{\"line_alpha\":0.1,\"line_color\":\"#1f77b4\",\"x\":{\"field\":\"x\"},\"y\":{\"field\":\"a\"}},\"id\":\"1319\",\"type\":\"Line\"},{\"attributes\":{},\"id\":\"1304\",\"type\":\"WheelZoomTool\"},{\"attributes\":{\"callback\":null},\"id\":\"1285\",\"type\":\"DataRange1d\"},{\"attributes\":{\"label\":{\"value\":\"\\u03b8 = 0.7\"},\"renderers\":[{\"id\":\"1347\",\"type\":\"GlyphRenderer\"}]},\"id\":\"1357\",\"type\":\"LegendItem\"},{\"attributes\":{\"data_source\":{\"id\":\"1281\",\"type\":\"ColumnDataSource\"},\"glyph\":{\"id\":\"1318\",\"type\":\"Line\"},\"hover_glyph\":null,\"muted_glyph\":null,\"nonselection_glyph\":{\"id\":\"1319\",\"type\":\"Line\"},\"selection_glyph\":null,\"view\":{\"id\":\"1321\",\"type\":\"CDSView\"}},\"id\":\"1320\",\"type\":\"GlyphRenderer\"},{\"attributes\":{},\"id\":\"1303\",\"type\":\"PanTool\"},{\"attributes\":{\"source\":{\"id\":\"1281\",\"type\":\"ColumnDataSource\"}},\"id\":\"1321\",\"type\":\"CDSView\"},{\"attributes\":{\"line_color\":\"purple\",\"x\":{\"field\":\"x\"},\"y\":{\"field\":\"d\"}},\"id\":\"1359\",\"type\":\"Line\"},{\"attributes\":{},\"id\":\"1323\",\"type\":\"BasicTickFormatter\"},{\"attributes\":{\"line_alpha\":0.1,\"line_color\":\"#1f77b4\",\"x\":{\"field\":\"x\"},\"y\":{\"field\":\"d\"}},\"id\":\"1360\",\"type\":\"Line\"},{\"attributes\":{\"callback\":null,\"tooltips\":[[\"Capital pr. capita\",\"@x{0,0.00}\"],[\"Savings rate for \\u03b8 = 0.3\",\"@a{0.00}\"],[\"Savings rate for \\u03b8 = 0.5\",\"@b{0.00}\"],[\"Savings rate for \\u03b8 = 0.7\",\"@c{0.00}\"],[\"Savings rate for \\u03b8 = 1.5\",\"@d{0.00}\"],[\"Savings rate for Steady state\",\"@e{0.00}\"]]},\"id\":\"1280\",\"type\":\"HoverTool\"},{\"attributes\":{\"data_source\":{\"id\":\"1281\",\"type\":\"ColumnDataSource\"},\"glyph\":{\"id\":\"1359\",\"type\":\"Line\"},\"hover_glyph\":null,\"muted_glyph\":null,\"nonselection_glyph\":{\"id\":\"1360\",\"type\":\"Line\"},\"selection_glyph\":null,\"view\":{\"id\":\"1362\",\"type\":\"CDSView\"}},\"id\":\"1361\",\"type\":\"GlyphRenderer\"},{\"attributes\":{\"label\":{\"value\":\"\\u03b8 = 0.3\"},\"renderers\":[{\"id\":\"1320\",\"type\":\"GlyphRenderer\"}]},\"id\":\"1329\",\"type\":\"LegendItem\"},{\"attributes\":{\"callback\":null,\"data\":{\"a\":{\"__ndarray__\":\"tlE6JJiB7z80vA8ma7HsP3c0G5mkhes/mGNz5DyM6j/EikKag63pPyLiKhX/4eg/wRfhGBAi6D9Z9jm3D27nPwvzbbvWwOY/j2dGI9cZ5j8Qm9UZRHnlP7vvT70r3uQ/OMkGSPZF5D8h0rDWWrHjP1n+QuWUIOM//ZUC9F2T4j/XuC6CKwniP25xfFKogeE/xfMM+l784D/B+qzQtnngP/eHPdQn8t8/4r1EE5z03j9rdWCkofrdP8jxYToIBN0/55uYCmkQ3D8bxo+TqR7bP69lA428Mto/NA7y74NI2T8Co/9kpGHYP28qAID+etc/R1qJPmiY1j8neHc79LfVP8PT4OZY2dQ/14030V/70z+yVs2ARiLTPzwp3MeDStI/AD/ZI6t00T9EBVn+maDQP1gkw1eUnM8/W4jK1Tn7zT+k8/9x91zMP2zrBde5wco/lFBAWHIpyT8T9tFglZfHPxJpcoTHBMY/4MjmDvF0xD8wAVin+OfCPyMo7fTQXcE/SEWDGxWsvz8DVk2X2aC8PwKIsQZ8mrk/Oi4H7kyYtj/g5JSo/pmzP5lXxgq9nbA/pd65xalLqz+qrd1902ulPzbzQsVqQJ8/zBF+npO6kz/g//La71aAPzqMMOKOeUU+Ooww4o55RT6020fnjnlFPitKvuiOeUU+vVza4o55RT6SVT7xjnlFPkPr9uKOeUU++L536o55RT46jDDijnlFPoAIU+aOeUU+PyyP9455RT46jDDijnlFPtlYK+OOeUU+Ooww4o55RT46jDDijnlFPv4iLPKOeUU+Ooww4o55RT46jDDijnlFPvE4BfiOeUU+x8tc8455RT46jDDijnlFPot4yuWOeUU+Ooww4o55RT46jDDijnlFPjqMMOKOeUU+qJ/g5Y55RT46jDDijnlFPjqMMOKOeUU+y3ba4455RT46jDDijnlFPjqMMOKOeUU+Ooww4o55RT5z9sTjjnlFPjqMMOKOeUU+Ooww4o55RT46jDDijnlFPjqMMOKOeUU+H9HO6Y55RT46jDDijnlFPj1AVPOOeUU+gM6l9I55RT4=\",\"dtype\":\"float64\",\"shape\":[100]},\"b\":{\"__ndarray__\":\"6DHAC+r/6z9MUXYvs6voP477R74XfOc/6h+8vQiM5j9LSBv5sL7lP1EBZhOSBeU/fMTA3Pdc5D9K0GX6TsDjP57/gr6kLeM/bGkNCVai4j9bZCO26B3iP63uKPbinuE/mehfGlYj4T9aXxVZ4a3gP+wrqrVGPOA/7YS+bVGc3z81V1ZXZMbeP9LCtGkx9t0/y33OxDsr3T/YN7DIkmrcP4LhDsoTqNs/XKl2YeTp2j/lLHoewS/aP4EF1Itnedk/yytGdLTG2D+i9hMCShPYP2qIDcR/Ztc/mypQcm681j8Vx/5BQxjWP8ib+hGactU/xuf+A9rP1D+8lUptrTPUPz3o4An2k9M/aiaINvX40j+8ZnCEtV7SP846EACSxtE/u1HdZWYw0T/F/6PID5zQP9l23DXyA9A/p0tUMbjnzj8HY4xLesrNPxJ+3U3Dr8w/6agO1QiYyz+6adyU74LKPywID+JqcMk/nokahZhgyD/LBk60VFPHP17LAk8GSMY//1LNnGk+xT85AhraEj/EP/Gu31RLOMM/UXGgX3I1wj/oRqFf6jPBP/xtCHjwNMA/L8l0iXRwvj+GhJ95F3u8PzaVzdOWibo/nK2Yp+abuD8JbZQs2rG2PyuWEQNby7Q/KbHB5E3osj9OZ/DknQixP31mAL6AWK4/njzRDwOmqj+pkLba0/mmPznYMSKmU6M/8W3aacBmnz96md8zzDGYP2eEMablCJE//EE3B5vXgz8g4nmXM9BmPzqMMOKOeUU+Ooww4o55RT46jDDijnlFPtkwhOWOeUU+Ooww4o55RT70ad78jnlFPnzWZ+OOeUU+Ooww4o55RT46jDDijnlFPg1A+OWOeUU+Ooww4o55RT46jDDijnlFPtqHwOWOeUU+Ooww4o55RT78ERjjjnlFPjqMMOKOeUU+Ooww4o55RT6rWoHojnlFPjqMMOKOeUU+VwB++o55RT46jDDijnlFPj+vju+OeUU+Ooww4o55RT46jDDijnlFPgTA2ueOeUU+zajl6Y55RT46jDDijnlFPr5ToeuOeUU+Ooww4o55RT4=\",\"dtype\":\"float64\",\"shape\":[100]},\"c\":{\"__ndarray__\":\"ugUQ8I385j/MyiobWnjlP2wm3xEyf+Q/+0Vscke24z/BNtjxuAjjPx0bOLSpbeI/cNgiEuHf4T8SNLtvIl3hPyrNMhi54+A/Qn2xJYNv4D+QINaihQLgP/r4Z7TGNN8/gq/9bVpz3j9iG7WbrLPdP0YtCE4S+9w/RJaYJdBI3D91TB5nSJzbP1xqdKP09No/bX6s/QZM2j/waEvKmq7ZP25hG6UiFdk/uHd4mE9/2D+r0yRl2+zXPzm0Jvd4Xdc/EW3blhLU1j9r5DlWBkvWP9P+cbZRwdU/vl/sM2Y81T+I2aeNN7jUPxGwAPNeN9Q/HaxZy+C+0z9kVro63D7TPxNZiWWfxtI/wsZa5V9O0j9QL3bNN9rRP3BtQZejZdE/2LSgfIby0D+m1t472YDQP2LGYriUENA/XYyaWl1Dzz9vpJn4N2jOP3GgmXuqj80/nfHCj5S5zD9+1ZiZ7OXLP78pVh6VFMs/HINCoGxFyj98ZuY5f3jJP/7EWfLBrcg/6BI4PhLlxz/5/OhvUR7HP85wmpF8WcY/ll3GxoOWxT8s2+x9xtDEPyNjf53DEcQ/ItszJnlUwz+EtuQw5JjCPwNVaXTg3sE/ofNwJ3EmwT+qs5KQg2/APxiCgQQedL8/rJkC+AoMvj9HO8r6x6a8P1ey1E4+RLs/CcaZz2nkuT8G3ns+Ioe4P/SjI1VJLLc/tvNE/uXTtT+LgSPMgX20P46TY8lHKbM/9l6enYXXsT8JM7L8/IewP7zE+4ZCda4/t42ijMXeqz+MHJNHj0ypP/T0q/xavqY/nKFgcD40pD9aSkQI/a2hPzk8sJW0Wp4/HjK7o48tmT9ilRCfeUCUP9Ug4Tq+sY4/PH34q5buhD8Cgqn4pm52P4fpsWhhEUg/e1u25Y55RT46jDDijnlFPjqMMOKOeUU+A+mw4455RT5o4e7pjnlFPjqMMOKOeUU+e6Rp6455RT74KUjmjnlFPlVFgeiOeUU+Ooww4o55RT46jDDijnlFPjqMMOKOeUU+Ooww4o55RT46jDDijnlFPtXFjuOOeUU+Ooww4o55RT4=\",\"dtype\":\"float64\",\"shape\":[100]},\"d\":{\"__ndarray__\":\"c5+nfvL60j9Scr5paBTcP8/+OwI5pts/IJdvSUUR2z9CyH278n3aP2sPOCG28tk/8HtnH0du2T+qbrNzsfHYP8Ho6pGwfNg/+/yHD9sM2D/Gq8zEjaLXPwdrI+CpPNc/F+ANmu3a1j9W3uY9wHvWP531jWGTIdY/eLB3KmDL1T/o1+hJ33bVPyjauimqJNU/aTsxR17Y1D8eQhSzyYbUP1BP5serO9Q/Lqg6a4/z0z/mpLoUEqvTP0hpiNnSY9M/Cfwu0BMf0z+2XersAeDSP5fB75NwntI/imZaCJNe0j+EEUZ5AhzSPxxTX1f73tE/1Nx53c+i0T9YQ4V2j2fRP1cC4RI6LdE/tXo/eJv40D+Iq6aqhb/QP3sz7kFPh9A/kLn/h+xP0D+4hVZQWRnQP2EjRnatvc8/a8FJ0m5Vzz8mbfAVgO7OP5eiSlLTiM4/rQVi+lUkzj8xwFKUAsHNP1ytBHDJXs0/QvY1RKn9zD8KvTynlp3MP8X7TrWSPsw/+qnp95Dgyz+1irH3iYPLP2QgSwRHKMs/xOxOLdnNyj/wqvKIHnTKP9nBAorgGso/tEXNH2XCyT9sLDxioGrJP5Et94hcE8k/PAMuVge9yD9vCue4eWfIPx75uzikEsg/+RINOY++xz82eK8WNmvHP0i4glSTGMc/B/q3/abGxj/MffXIC23GP38dUqf4HMY/zxvleYzNxT9cDJ2pwn7FP3Rw13CXMMU/+BdWE/7ixD/IycQg95XEP/PNgV+DScQ/DyLHPIb9wz+s9ngJELLDPwbmNjApZ8M/GL4VQ8Acwz+2Lp5Q3NLCP9qAd85/icI/KMyhRZhAwj+TJf/1GPjBPwrqbPL7r8E/oHeQhy9owT/wgDa+1iDBPwxbBCbt2cA/G7A2N3CTwD/di114YE3AP8UY2B+8B8A/XC0J+veEvz80b7wzRPu+P4r/0Khdcr4/naHTjDbqvT+BVxt1zmK9PyUW0psr3Lw/jMqkDjxWvD8WOIrQC9G7P/BqazqzNLs//lqqbNWyuj9wfRSkkDG6PyoQ/9jdsLk/G/x7yMcwuT8=\",\"dtype\":\"float64\",\"shape\":[100]},\"e\":{\"__ndarray__\":\"GBcOhGQBQz/YiGcfbNqaPzE1vKk/SqU/D+sbQjvjqz+JUyxSfeOwPxFvBOtpmLM/ZyfYC1Ygtj/uaMDEE4W4P8gr59A5zbo/MagULHn9vD84mpZATxm/P9AG2Le1kcA/U7+adPaOwT/WalMtRYXCPznxCz9WdcM/xvhUQMBfxD/eryiRAkXFPxTFHieKJcY/4ybAIrUBxz+Tq4SJ1dnHP79nrGEzrsg/bZPgWQ5/yT/KiPQZn0zKP0gFuFEYF8s/siMPlafeyz+af4YQdqPMPzxWxh6pZc0/CAk/xWIlzj99sO0cwuLOP8G7/qrjnc8/okoh1nAr0D/lr+Qq6obQP3u0QAZp4dA/Ixmryvc60T/JeYIfoJPRP+4VUQNr69E/dT7P22BC0j+UdPqDiZjSP03Fh1js7dI/wjXsQpBC0z8DkCzDe5bTP1gYnvi06dM/Nk67qUE81D+IlCpLJ47UP646EAZr39Q/HLjBvREw1T/d3OwUIIDVPx8mQ3Kaz9U/aTm3BIUe1j8/sVjH42zWP7/U2IS6utY/1nzB2gwI1z9eRGY83lTXP/kjl/Uxodc/O8EaLQvt1z+C/PXmbDjYPwGmhQZag9g/r7RuUNXN2D9a3mhs4RfZPx0E5+aAYdk/y4egMraq2T8wTP6pg/PZP3PYbZDrO9o/6tacE/CD2j9l7p5Mk8vaP5zC/0DXEts/urvC471Z2z//DFIWSaDbPyZPXql65ts/deOvXVQs3D8yOOvk13HcP8HtSOIGt9w/DsVC6+L73D9hKzaIbUDdP5Al/TSohN0/okt+YZTI3T9ZdzRyMwzeP226rsCGT94/ECUJnI+S3j802l5JT9XeP0flNQTHF98/eTvl/vdZ3z/ZSvVi45vfP69xe1GK3d8/31i48XYP4D9S9gGVBzDgP4v4c5d3UOA/k81Oesdw4D+JIl2795DgP+ZgFdUIseA/D4u5PvvQ4D/hkHVsz/DgPywzfM+FEOE/cIsi1h4w4T/MS/rrmk/hP6nJ6nn6buE/fORI5j2O4T/J2O2UZa3hP54OTedxzOE/g/GIPGPr4T8=\",\"dtype\":\"float64\",\"shape\":[100]},\"x\":{\"__ndarray__\":\"/Knx0k1iUD9TAUAmEXXTP36IVv/fbOM/UxCNazcf7T8TzOFrx2jzP/0P/SHzQfg/6FMY2B4b/T/pyxlHJfoAQN5tJyK7ZgNA0w81/VDTBUDIsULY5j8IQL1TULN8rApAs/VdjhIZDUCol2tpqIUPQM+cPCIf+RBAyW3DD2ovEkDEPkr9tGUTQL8P0er/mxRAueBX2ErSFUC0sd7FlQgXQK6CZbPgPhhAqVPsoCt1GUCjJHOOdqsaQJ71+XvB4RtAmcaAaQwYHUCTlwdXV04eQI5ojkSihB9AxJwKmXZdIEBBBc4PnPggQL5tkYbBkyFAO9ZU/eYuIkC5Phh0DMoiQDan2+oxZSNAsw+fYVcAJEAxeGLYfJskQK7gJU+iNiVAK0npxcfRJUCosaw87WwmQCYacLMSCCdAo4IzKjijJ0Ag6/agXT4oQJ5TuheD2ShAG7x9jqh0KUCYJEEFzg8qQBWNBHzzqipAk/XH8hhGK0AQXotpPuErQI3GTuBjfCxACy8SV4kXLUCIl9XNrrItQAUAmUTUTS5Agmhcu/noLkAA0R8yH4QvQL+ccVSiDzBA/lDTDzVdMEA8BTXLx6owQHu5loZa+DBAum34Qe1FMUD4IVr9f5MxQDfWu7gS4TFAdYoddKUuMkC0Pn8vOHwyQPPy4OrKyTJAMadCpl0XM0BwW6Rh8GQzQK8PBh2DsjNA7cNn2BUANEAseMmTqE00QGssK087mzRAqeCMCs7oNEDolO7FYDY1QCZJUIHzgzVAZf2xPIbRNUCksRP4GB82QOJldbOrbDZAIRrXbj66NkBgzjgq0Qc3QJ6CmuVjVTdA3Tb8oPaiN0Ac611cifA3QFqfvxccPjhAmVMh066LOEDYB4OOQdk4QBa85EnUJjlAVXBGBWd0OUCTJKjA+cE5QNLYCXyMDzpAEY1rNx9dOkBPQc3ysao6QI71Lq5E+DpAzamQaddFO0ALXvIkapM7QEoSVOD84DtAica1m48uPEDHehdXInw8QAYveRK1yTxARePazUcXPUCDlzyJ2mQ9QMJLnkRtsj1AAAAAAAAAPkA=\",\"dtype\":\"float64\",\"shape\":[100]}},\"selected\":{\"id\":\"1340\",\"type\":\"Selection\"},\"selection_policy\":{\"id\":\"1341\",\"type\":\"UnionRenderers\"}},\"id\":\"1281\",\"type\":\"ColumnDataSource\"},{\"attributes\":{\"source\":{\"id\":\"1281\",\"type\":\"ColumnDataSource\"}},\"id\":\"1362\",\"type\":\"CDSView\"},{\"attributes\":{\"label\":{\"value\":\"\\u03b8 = 1.5\"},\"renderers\":[{\"id\":\"1361\",\"type\":\"GlyphRenderer\"}]},\"id\":\"1371\",\"type\":\"LegendItem\"},{\"attributes\":{\"line_color\":\"blue\",\"x\":{\"field\":\"x\"},\"y\":{\"field\":\"b\"}},\"id\":\"1331\",\"type\":\"Line\"},{\"attributes\":{\"bottom_units\":\"screen\",\"fill_alpha\":{\"value\":0.5},\"fill_color\":{\"value\":\"lightgrey\"},\"left_units\":\"screen\",\"level\":\"overlay\",\"line_alpha\":{\"value\":1.0},\"line_color\":{\"value\":\"black\"},\"line_dash\":[4,4],\"line_width\":{\"value\":2},\"plot\":null,\"render_mode\":\"css\",\"right_units\":\"screen\",\"top_units\":\"screen\"},\"id\":\"1311\",\"type\":\"BoxAnnotation\"},{\"attributes\":{},\"id\":\"1289\",\"type\":\"LinearScale\"},{\"attributes\":{\"line_alpha\":0.1,\"line_color\":\"#1f77b4\",\"x\":{\"field\":\"x\"},\"y\":{\"field\":\"b\"}},\"id\":\"1332\",\"type\":\"Line\"},{\"attributes\":{\"callback\":null},\"id\":\"1287\",\"type\":\"DataRange1d\"},{\"attributes\":{\"active_drag\":\"auto\",\"active_inspect\":\"auto\",\"active_multi\":null,\"active_scroll\":\"auto\",\"active_tap\":\"auto\",\"tools\":[{\"id\":\"1280\",\"type\":\"HoverTool\"},{\"id\":\"1303\",\"type\":\"PanTool\"},{\"id\":\"1304\",\"type\":\"WheelZoomTool\"},{\"id\":\"1305\",\"type\":\"BoxZoomTool\"},{\"id\":\"1306\",\"type\":\"ResetTool\"},{\"id\":\"1307\",\"type\":\"SaveTool\"}]},\"id\":\"1308\",\"type\":\"Toolbar\"},{\"attributes\":{\"data_source\":{\"id\":\"1281\",\"type\":\"ColumnDataSource\"},\"glyph\":{\"id\":\"1331\",\"type\":\"Line\"},\"hover_glyph\":null,\"muted_glyph\":null,\"nonselection_glyph\":{\"id\":\"1332\",\"type\":\"Line\"},\"selection_glyph\":null,\"view\":{\"id\":\"1334\",\"type\":\"CDSView\"}},\"id\":\"1333\",\"type\":\"GlyphRenderer\"},{\"attributes\":{\"line_color\":\"yellow\",\"x\":{\"field\":\"x\"},\"y\":{\"field\":\"e\"}},\"id\":\"1373\",\"type\":\"Line\"},{\"attributes\":{\"plot\":{\"id\":\"1283\",\"subtype\":\"Figure\",\"type\":\"Plot\"},\"ticker\":{\"id\":\"1294\",\"type\":\"BasicTicker\"}},\"id\":\"1297\",\"type\":\"Grid\"},{\"attributes\":{\"line_alpha\":0.1,\"line_color\":\"#1f77b4\",\"x\":{\"field\":\"x\"},\"y\":{\"field\":\"e\"}},\"id\":\"1374\",\"type\":\"Line\"},{\"attributes\":{},\"id\":\"1294\",\"type\":\"BasicTicker\"},{\"attributes\":{\"source\":{\"id\":\"1281\",\"type\":\"ColumnDataSource\"}},\"id\":\"1334\",\"type\":\"CDSView\"},{\"attributes\":{\"overlay\":{\"id\":\"1311\",\"type\":\"BoxAnnotation\"}},\"id\":\"1305\",\"type\":\"BoxZoomTool\"},{\"attributes\":{\"data_source\":{\"id\":\"1281\",\"type\":\"ColumnDataSource\"},\"glyph\":{\"id\":\"1373\",\"type\":\"Line\"},\"hover_glyph\":null,\"muted_glyph\":null,\"nonselection_glyph\":{\"id\":\"1374\",\"type\":\"Line\"},\"selection_glyph\":null,\"view\":{\"id\":\"1376\",\"type\":\"CDSView\"}},\"id\":\"1375\",\"type\":\"GlyphRenderer\"},{\"attributes\":{},\"id\":\"1299\",\"type\":\"BasicTicker\"},{\"attributes\":{},\"id\":\"1325\",\"type\":\"BasicTickFormatter\"},{\"attributes\":{\"source\":{\"id\":\"1281\",\"type\":\"ColumnDataSource\"}},\"id\":\"1376\",\"type\":\"CDSView\"},{\"attributes\":{},\"id\":\"1341\",\"type\":\"UnionRenderers\"},{\"attributes\":{\"axis_label\":\"Capital pr. capita\",\"formatter\":{\"id\":\"1323\",\"type\":\"BasicTickFormatter\"},\"plot\":{\"id\":\"1283\",\"subtype\":\"Figure\",\"type\":\"Plot\"},\"ticker\":{\"id\":\"1294\",\"type\":\"BasicTicker\"}},\"id\":\"1293\",\"type\":\"LinearAxis\"},{\"attributes\":{\"label\":{\"value\":\"Steady state\"},\"renderers\":[{\"id\":\"1375\",\"type\":\"GlyphRenderer\"}]},\"id\":\"1385\",\"type\":\"LegendItem\"},{\"attributes\":{\"label\":{\"value\":\"\\u03b8 = 0.5\"},\"renderers\":[{\"id\":\"1333\",\"type\":\"GlyphRenderer\"}]},\"id\":\"1343\",\"type\":\"LegendItem\"},{\"attributes\":{\"axis_label\":\"Savings rate\",\"formatter\":{\"id\":\"1325\",\"type\":\"BasicTickFormatter\"},\"plot\":{\"id\":\"1283\",\"subtype\":\"Figure\",\"type\":\"Plot\"},\"ticker\":{\"id\":\"1299\",\"type\":\"BasicTicker\"}},\"id\":\"1298\",\"type\":\"LinearAxis\"},{\"attributes\":{\"plot\":null,\"text\":\"Optimal savings rate for varying \\u03b8 and capital pr. capita\"},\"id\":\"1282\",\"type\":\"Title\"},{\"attributes\":{\"dimension\":1,\"plot\":{\"id\":\"1283\",\"subtype\":\"Figure\",\"type\":\"Plot\"},\"ticker\":{\"id\":\"1299\",\"type\":\"BasicTicker\"}},\"id\":\"1302\",\"type\":\"Grid\"},{\"attributes\":{\"line_color\":\"green\",\"x\":{\"field\":\"x\"},\"y\":{\"field\":\"c\"}},\"id\":\"1345\",\"type\":\"Line\"}],\"root_ids\":[\"1283\"]},\"title\":\"Bokeh Application\",\"version\":\"1.0.2\"}};\n",
       "  var render_items = [{\"docid\":\"294941b9-ac11-4c00-8576-7c3dd91a2eb2\",\"notebook_comms_target\":\"2403\",\"roots\":{\"1283\":\"7901470e-f6ed-4e75-94a5-268496c24f16\"}}];\n",
       "  root.Bokeh.embed.embed_items_notebook(docs_json, render_items);\n",
       "\n",
       "  }\n",
       "  if (root.Bokeh !== undefined) {\n",
       "    embed_document(root);\n",
       "  } else {\n",
       "    var attempts = 0;\n",
       "    var timer = setInterval(function(root) {\n",
       "      if (root.Bokeh !== undefined) {\n",
       "        embed_document(root);\n",
       "        clearInterval(timer);\n",
       "      }\n",
       "      attempts++;\n",
       "      if (attempts > 100) {\n",
       "        console.log(\"Bokeh: ERROR: Unable to run BokehJS code because BokehJS library is missing\");\n",
       "        clearInterval(timer);\n",
       "      }\n",
       "    }, 10, root)\n",
       "  }\n",
       "})(window);"
      ],
      "application/vnd.bokehjs_exec.v0+json": ""
     },
     "metadata": {
      "application/vnd.bokehjs_exec.v0+json": {
       "id": "1283"
      }
     },
     "output_type": "display_data"
    },
    {
     "data": {
      "text/html": [
       "<p><code>&lt;Bokeh Notebook handle for <strong>In[17]</strong>&gt;</code></p>"
      ],
      "text/plain": [
       "<bokeh.io.notebook.CommsHandle at 0x1134af908>"
      ]
     },
     "execution_count": 17,
     "metadata": {},
     "output_type": "execute_result"
    }
   ],
   "source": [
    "show(figure1,notebook_handle=True)"
   ]
  },
  {
   "cell_type": "code",
   "execution_count": 18,
   "metadata": {},
   "outputs": [
    {
     "data": {
      "text/html": [
       "\n",
       "\n",
       "\n",
       "\n",
       "\n",
       "\n",
       "  <div class=\"bk-root\" id=\"0b01bdf1-8d96-498b-b337-600aa4401c91\"></div>\n"
      ]
     },
     "metadata": {},
     "output_type": "display_data"
    },
    {
     "data": {
      "application/javascript": [
       "(function(root) {\n",
       "  function embed_document(root) {\n",
       "    \n",
       "  var docs_json = {\"5cca7077-4f77-42ee-8e01-2993aa81eda9\":{\"roots\":{\"references\":[{\"attributes\":{\"children\":[{\"id\":\"2038\",\"subtype\":\"Figure\",\"type\":\"Plot\"},{\"id\":\"2130\",\"subtype\":\"Figure\",\"type\":\"Plot\"}]},\"id\":\"2452\",\"type\":\"Row\"},{\"attributes\":{\"label\":{\"value\":\"\\u03b8 = 0.3\"},\"renderers\":[{\"id\":\"2075\",\"type\":\"GlyphRenderer\"}]},\"id\":\"2084\",\"type\":\"LegendItem\"},{\"attributes\":{\"line_alpha\":0.1,\"line_color\":\"#1f77b4\",\"x\":{\"field\":\"x\"},\"y\":{\"field\":\"a\"}},\"id\":\"2074\",\"type\":\"Line\"},{\"attributes\":{\"data_source\":{\"id\":\"2036\",\"type\":\"ColumnDataSource\"},\"glyph\":{\"id\":\"2073\",\"type\":\"Line\"},\"hover_glyph\":null,\"muted_glyph\":null,\"nonselection_glyph\":{\"id\":\"2074\",\"type\":\"Line\"},\"selection_glyph\":null,\"view\":{\"id\":\"2076\",\"type\":\"CDSView\"}},\"id\":\"2075\",\"type\":\"GlyphRenderer\"},{\"attributes\":{\"source\":{\"id\":\"2036\",\"type\":\"ColumnDataSource\"}},\"id\":\"2076\",\"type\":\"CDSView\"},{\"attributes\":{},\"id\":\"2078\",\"type\":\"BasicTickFormatter\"},{\"attributes\":{},\"id\":\"2080\",\"type\":\"BasicTickFormatter\"},{\"attributes\":{\"line_color\":\"blue\",\"x\":{\"field\":\"x\"},\"y\":{\"field\":\"b\"}},\"id\":\"2178\",\"type\":\"Line\"},{\"attributes\":{\"line_color\":\"blue\",\"x\":{\"field\":\"x\"},\"y\":{\"field\":\"b\"}},\"id\":\"2086\",\"type\":\"Line\"},{\"attributes\":{\"line_alpha\":0.1,\"line_color\":\"#1f77b4\",\"x\":{\"field\":\"x\"},\"y\":{\"field\":\"b\"}},\"id\":\"2087\",\"type\":\"Line\"},{\"attributes\":{\"data_source\":{\"id\":\"2036\",\"type\":\"ColumnDataSource\"},\"glyph\":{\"id\":\"2086\",\"type\":\"Line\"},\"hover_glyph\":null,\"muted_glyph\":null,\"nonselection_glyph\":{\"id\":\"2087\",\"type\":\"Line\"},\"selection_glyph\":null,\"view\":{\"id\":\"2089\",\"type\":\"CDSView\"}},\"id\":\"2088\",\"type\":\"GlyphRenderer\"},{\"attributes\":{\"source\":{\"id\":\"2036\",\"type\":\"ColumnDataSource\"}},\"id\":\"2089\",\"type\":\"CDSView\"},{\"attributes\":{},\"id\":\"2095\",\"type\":\"Selection\"},{\"attributes\":{},\"id\":\"2096\",\"type\":\"UnionRenderers\"},{\"attributes\":{\"label\":{\"value\":\"\\u03b8 = 0.5\"},\"renderers\":[{\"id\":\"2088\",\"type\":\"GlyphRenderer\"}]},\"id\":\"2098\",\"type\":\"LegendItem\"},{\"attributes\":{\"line_color\":\"green\",\"x\":{\"field\":\"x\"},\"y\":{\"field\":\"c\"}},\"id\":\"2100\",\"type\":\"Line\"},{\"attributes\":{\"line_alpha\":0.1,\"line_color\":\"#1f77b4\",\"x\":{\"field\":\"x\"},\"y\":{\"field\":\"c\"}},\"id\":\"2101\",\"type\":\"Line\"},{\"attributes\":{\"data_source\":{\"id\":\"2036\",\"type\":\"ColumnDataSource\"},\"glyph\":{\"id\":\"2100\",\"type\":\"Line\"},\"hover_glyph\":null,\"muted_glyph\":null,\"nonselection_glyph\":{\"id\":\"2101\",\"type\":\"Line\"},\"selection_glyph\":null,\"view\":{\"id\":\"2103\",\"type\":\"CDSView\"}},\"id\":\"2102\",\"type\":\"GlyphRenderer\"},{\"attributes\":{\"source\":{\"id\":\"2036\",\"type\":\"ColumnDataSource\"}},\"id\":\"2103\",\"type\":\"CDSView\"},{\"attributes\":{\"label\":{\"value\":\"\\u03b8 = 0.7\"},\"renderers\":[{\"id\":\"2102\",\"type\":\"GlyphRenderer\"}]},\"id\":\"2112\",\"type\":\"LegendItem\"},{\"attributes\":{\"label\":{\"value\":\"\\u03b8 = 0.3\"},\"renderers\":[{\"id\":\"2167\",\"type\":\"GlyphRenderer\"}]},\"id\":\"2176\",\"type\":\"LegendItem\"},{\"attributes\":{\"line_color\":\"purple\",\"x\":{\"field\":\"x\"},\"y\":{\"field\":\"d\"}},\"id\":\"2114\",\"type\":\"Line\"},{\"attributes\":{\"line_alpha\":0.1,\"line_color\":\"#1f77b4\",\"x\":{\"field\":\"x\"},\"y\":{\"field\":\"d\"}},\"id\":\"2115\",\"type\":\"Line\"},{\"attributes\":{\"data_source\":{\"id\":\"2036\",\"type\":\"ColumnDataSource\"},\"glyph\":{\"id\":\"2114\",\"type\":\"Line\"},\"hover_glyph\":null,\"muted_glyph\":null,\"nonselection_glyph\":{\"id\":\"2115\",\"type\":\"Line\"},\"selection_glyph\":null,\"view\":{\"id\":\"2117\",\"type\":\"CDSView\"}},\"id\":\"2116\",\"type\":\"GlyphRenderer\"},{\"attributes\":{\"source\":{\"id\":\"2036\",\"type\":\"ColumnDataSource\"}},\"id\":\"2117\",\"type\":\"CDSView\"},{\"attributes\":{\"label\":{\"value\":\"\\u03b8 = 1.5\"},\"renderers\":[{\"id\":\"2116\",\"type\":\"GlyphRenderer\"}]},\"id\":\"2126\",\"type\":\"LegendItem\"},{\"attributes\":{\"callback\":null,\"data\":{\"a\":{\"__ndarray__\":\"oVu+UcnF4T8vE1mehKbgP6BT30tmVd8/hcXaS++b3T9bzYHzYxncP15XOZnox9o/iugYAXWj2T9B8ZeOfaTYPzggjeA8xdc/gFfJPmQD1z8qZ03pMVvWP6tnDBfYyNU/ch1qJtZJ1T+o/9MKD9vUP1Io6xW9etQ/0sorBtgm1D+noPObf97TP6gbGkBioNM/dKgklk5q0z9eV13iQjvTP3huhqR0EtM/1nd05R7v0j+AcgOSaNDSP4wXOYe5tdI/WMBahIye0j99NdH+bIrSP7A1gSr1eNI/Ji/iNMxp0j9aQBGwpFzSP1pAhCo7UdI/CY2PKlxH0j8XUrb72D7SP1aH9Ul1N9I/RjDaTgsx0j/Mm/oweivSP7EJ62GlJtI/+nJrEHQi0j8TQ2+s0B7SPwLl3HqoG9I/9sQcN+sY0j/IEsXAihbSP4PY4NN6FNI/fMJ9yrAS0j8tXlRmIxHSP9jLgqHKD9I/EityhZ8O0j94uBsHnA3SP/bz++e6DNI/2YsYm/cL0j+LfpEtTgvSP7Q0RzK7CtI/fIMusDsK0j8u0PgSzQnSP4Etwh1tCdI/NXCB3xkJ0j8AFP+o0QjSPwqCHwSTCNI/TgRUrFwI0j/TjAuILQjSP4uQAaMECNI/FKVNKeEH0j/paxpjwgfSP4av7bCnB9I/L4FuiJAH0j/mrZhxfAfSPw0UTwRrB9I/M0xA5lsH0j/2vxLJTgfSP6y6zmhDB9I/az9+ijkH0j/Dhfv6MAfSP+bv540pB9I/0x3GHCMH0j8gdzKGHQfSP0UiNq0YB9I/POmweBQH0j/0AdfSEAfSP/4XwKgNB9I/I04F6goH0j9hPGyICAfSP5IxnXcGB9I/3TrjrAQH0j9SpfQeAwfSPyTawsUBB9I/IJxQmgAH0j/JzY2W/wbSP3UEOLX+BtI/rEW/8f0G0j89YS5I/QbSP6ttFrX8BtI/m/x8NfwG0j/vqszG+wbSP6y8x2b7BtI/HX98E/sG0j8qNTvL+gbSP3xZjYz6BtI/RgkuVvoG0j9BcAMn+gbSP+oTGf75BtI/QuCa2vkG0j+P3NC7+QbSP8dxG6H5BtI/Yi/wifkG0j+y/dZ1+QbSP4WvZ2T5BtI/FuZHVfkG0j+pPClI+QbSPzKyxzz5BtI/20joMvkG0j9A1Fcq+QbSPyrw6SL5BtI/dBp4HPkG0j+C6+AW+QbSPwZpBxL5BtI/2G/SDfkG0j+tMSwK+QbSPwXEAQf5BtI/K75CBPkG0j8e5OAB+QbSP87cz//4BtI/HPIE/vgG0j9O2Xb8+AbSP++CHfv4BtI//vDx+fgG0j+4Eu74+AbSPx6lDPj4BtI/uhdJ9/gG0j/vdJ/2+AbSP3hNDPb4BtI/kqaM9fgG0j+W6h31+AbSP4rbvfT4BtI/hodq9PgG0j+hPiL0+AbSPyyK4/P4BtI/IiWt8/gG0j+S9X3z+AbSP+YGVfP4BtI/+IQx8/gG0j+2txLz+AbSP3z/9/L4BtI/ytHg8vgG0j99tszy+AbSP1pFu/L4BtI/9iOs8vgG0j/sA5/y+AbSPy6hk/L4BtI/usCJ8vgG0j9gL4Hy+AbSP7TAefL4BtI/\",\"dtype\":\"float64\",\"shape\":[150]},\"b\":{\"__ndarray__\":\"Isw3dN1e3j8rmI5+2APdP9Q+64720ts/gy1boay/2j/6xDNQccvZPwBXAME58tg/V7OOt5Qt2D+Jad8k0oDXP1I6nHZJ59Y/mRqppR1g1j/4xgAdy+bVP/GcPlqpeNU/8YUzfxIX1T/OzCeg77/UP4QhfIUXdNQ/H7ONR6Qv1D8cr9KbsvDTP0Pf2m0quNM/8ED0rdyF0z/GzVRDrlnTP77u/fD+MdM/7iqDjV4O0z+B3jr9c+7SPwSiGcjq0dI/FPgs0VK40j8z+4NxYKHSPxQRQzLPjNI//6enM2F60j9zGv+b3mnSP9BYycIhW9I/yKTaaxFO0j+e3NgWXELSP5IZlSveN9I/W998o3cu0j8A+EKyCybSP18DAXaAHtI/VHxerr4X0j/CVEV6sRHSPw1iqxtGDNI/TaT5wGsH0j/DL55TEwPSP/SOWksv/9E/KVvmhbP70T9DLoQilfjRPxavLWHK9dE/IB4ChUrz0T99Tqm5DfHRP1tFY/sM79E/Pb6CAULt0T8fghYrp+vRP9DTim036tE/5SoRRe7o0T+UD6Gmx+fRP3MnafO/5tE/H2iL7dPl0T/K9QKuAOXRP151lZtD5NE/3JC0Yprj0T8gHzfuAuPRPwbS02B74tE/EYVJDwLi0T8gSCN7leHRP9IQCE404dE/7Z+HVd3g0T89oVd/j+DRPxpg9dVJ4NE/BJ2hfQvg0T+oI62x09/RP4u4DcKh39E/qNMzEXXf0T9qZRoSTd/RP52WikYp39E/KhWOPQnf0T/nDwuS7N7RPz+FhenS3tE/A/0B87ve0T/ELQZmp97RP4trtAGV3tE/jBH/i4Te0T+gY/HQdd7RP1enC6Jo3tE/8nCw1Vze0T9eVqFGUt7RP8lqidNI3tE/pBCUXkDe0T+s1g7NON7RP0w3FQcy3tE/5DBF9yve0T8VyXuKJt7RP3SmmK8h3tE/DAJIVx3e0T9KRtJzGd7RP6LC8PgV3tE/eOum2xLe0T/uqx8SEN7RPzpcjpMN3tE/ofoSWAve0T9QT6FYCd7RP9Ks6o4H3tE/rQZK9QXe0T+OH7KGBN7RP56WnT4D3tE/uqEAGQLe0T92RzwSAd7RP7HwEicA3tE/iy2eVP/d0T98jUWY/t3RP7Bttu/93dE/s6PcWP3d0T9g7dvR/N3RP0wRCln83dE/H53p7Pvd0T9WMSWM+93RP31LizX73dE/roEK6Prd0T9cI66i+t3RP8g0m2T63dE/srsNLfrd0T+QVFb7+d3RP+II2M753dE/nF8Gp/nd0T+moWOD+d3RP/xMf2P53dE/dLH0Rvnd0T/esmkt+d3RP4SsjRb53dE/lHIYAvnd0T87bsnv+N3RP8TRZt/43dE/GOK80Pjd0T9jU53D+N3RP/a23rf43dE/a/hbrfjd0T+j6POj+N3RP/DUiJv43dE/YykAlPjd0T/VHEKN+N3RP9hlOYf43dE/gffSgfjd0T85xf18+N3RP/eMqnj43dE/DafLdPjd0T8N21Rx+N3RPy45O2743dE/z/d0a/jd0T+MVPlo+N3RP5J4wGb43dE/5l/DZPjd0T82w/ti+N3RPxQEZGH43dE/\",\"dtype\":\"float64\",\"shape\":[150]},\"c\":{\"__ndarray__\":\"vXyrUhRJ2z+TAwRGFFfaP9RePdPthNk/4H+HszXI2D8oKtIcEh7YP1hXELqOhNc/NyHuFCD81j9Vc+1FEIDWP1b9dIetDdY/tyeqqmel1T8jTgqsOEjVP0G6r/Ax89Q/WcJw3d2l1D/MqddPemDUP6fPBX5xItQ/HpbbtRvs0z+OC+yABLrTP3zyjDmRidM/tPYIIGBd0z+2C2sxsDXTP2kWfcQxE9M/yi9y7Kzz0j/XCuVo49bSP7HHEDqbvNI/jBMmyp6k0j9KnO0BvY7SPyzeFzrIetI/Y8V2YZZo0j8nYA7CAFjSP050w40TSdI/tr0OGcQ70j8mb6Eqni/SP9tqUEOIJNI/xVMQ/moa0j/hGU7nMBHSPxr0rVbGCNI/+TwuSxkB0j+YPKNJGfrRPxSpej2389E/jySxW+Xt0T9b4+AHl+jRP5GkTrvA49E/qAfZ7Vff0T8E2a0AU9vRPyd3U8mm19E/OhkzCE3U0T/86T9yP9HRP2XAfkt3ztE/0kkWb+7L0T8e+EdCn8nRPxOhfqiEx9E/oGdd+JnF0T8R3rrx2sPRPzqhdbRDwtE/BPQQuNDA0T+NHQnEfr/RP9B50OhKvtE/gUpneTK90T+KZIEFM7zRP/jULVRKu9E/oYb1Xna60T/Z0GZNtbnRPxKnBHEFudE/XuKQQWW40T/c0KlZ07fRP6bcs3NOt9E/V7UIZ9W20T8t9GUlZ7bRP2u1lbgCttE/VRlMQKe10T9+DTXwU7XRP18kLg4ItdE/MZ6o8MK00T9mGzD9g7TRPya/EqdKtNE/9s8nbha00T9GJrLd5rPRP4n0W4u7s9E/hatJFpSz0T+l70EmcLPRP/rB6GpPs9E/nCkMmzGz0T9C0AB0FrPRPwwoDbn9stE/ONDhMuey0T/fCx6v0rLRPyM43/+/stE/zUda+66y0T8yYH57n7LRP6jHn12RstE/ImgqgoSy0T88OVvMeLLRP5X0/yFustE/AYU8a2Sy0T8XrlWSW7LRPwB1gINTstE/O961LEyy0T9vnYp9RbLRP3FdCmc/stE/W06W2zmy0T8sr8bONLLRP8EOTzUwstE/SAblBCyy0T+nNCk0KLLRP2pHkrokstE/a+JZkCGy0T9qO2uuHrLRP9BCUw4cstE/KDYyqhmy0T8QfK58F7LRPzms6IAVstE/tahwshOy0T9EsDsNErLRP1JTm40QstE/fTc1MA+y0T8vl/vxDbLRP5JsJtAMstE/hjgtyAuy0T+4V8HXCrLRPyrZyPwJstE/m8pZNQmy0T9W8LV/CLLRP8jeRtoHstE/M22aQwey0T9ueV+6BrLRP5z1Yj0GstE/KTmNywWy0T8Kj99jBbLRP9v7cQUFstE/1jZxrwSy0T8O0RxhBLLRP+OGxRkEstE/1rfL2AOy0T9oAZ6dA7LRP8X5t2cDstE/hQehNgOy0T/OU+sJA7LRP5bUMuECstE/ymwcvAKy0T9vIFWaArLRP/ZakXsCstE/IEaMXwKy0T/0LwdGArLRP3z+yC4CstE//6+dGQKy0T+i5lUGArLRP25+xvQBstE/yizI5AGy0T+NKDfWAbLRP+3Z8sgBstE/\",\"dtype\":\"float64\",\"shape\":[150]},\"d\":{\"__ndarray__\":\"rgMVmv5N1T9o0JN8RgXVP1jyR8JnwdQ/rPdG+Kl+1D+YdT7g10PUP0wz9vsCDtQ/i7hUgTfb0z/IWlUYDKvTP1FXoStVftM/jNl/Oq5U0z+DfwmgRS7TP5Tv1bXKC9M/A9yfjHLs0j8JQiRFMc7SPxpPHn03sdI/tGmpQymW0j/UpnUlKX3SP9OUO/SiZdI/hUS0PuBO0j9Uj05wNznSP6t4oGbjJNI/X1CsNaoS0j80XDkKPwLSPwN+chXR8tE/MssAOlLk0T+tl+jF0tbRP/Ksl5M3ytE/RMYf/2C+0T8SlcmzQ7PRP+deiO7UqNE/nO85NRmf0T/bRlzqDJbRP5iOwQKPjdE/w29sEJeF0T/sgJoaHX7RP4ktyZgZd9E/ZeW9bYVw0T+b35riWWrRP7a+jYOcZNE/upMiz0Rf0T/+81XxQVrRP6pg3cKOVdE/Di4WaSZR0T/J2gJSBE3RP1QHbzAkSdE/gdI6+IFF0T8V783aGULRP6xpskPoPtE/VslW1ek70T8N9/ZlGznRP9slq/x5NtE/rM2bzgI00T/aq1k8szHRPwelWM+IL9E/41KMN4Et0T+2vokDwyvRPz8gbn0mKtE/MFe+6qIo0T9Vh7bLNifRP0VYU7fgJdE/tfsBWp8k0T+Xc2J0cSPRP1A+G9pVItE/kpS9cEsh0T+WarkuUSDRP7psYBpmH9E/XTb3SIke0T/gCNTduR3RP8RPign3HNE/CUYiCUAc0T88GFwllBvRP67l/bHyGtE/ZAosDVsa0T82IsuezBnRP1w869dGGdE/Nb07MskY0T9+cocvUxjRP0lkOFnkF9E/LvPiP3wX0T+c2dd6GhfRPwqsvKe+FtE/1HgqamgW0T/CLVJrFxbRPwFuplnLFdE//4eK6IMV0T/vPgbQQBXRPxYgfswBFdE/zB9wnsYU0T8QPjQKjxTRPyb2wNdaFNE/BUBz0ikU0T+07dnI+xPRP9UxhIzQE9E/Th/T8acT0T8U9c3PgRPRP2kL+f9dE9E/gDovXjwT0T/WlH3IHBPRP6JRAR//EtE/5cXHQ+MS0T+iTLAayRLRP4YAUImwEtE/MSvXdpkS0T+0T/jLgxLRP7630HJvEtE/HmzSVlwS0T+ygq9kShLRP1mtRoo5EtE/bPaQtikS0T+kmJDZGhLRP0nhQOQMEtE/oAyHyP8R0T9sDSR58xHRP18xp+nnEdE/E5VhDt0R0T/6Wlrc0hHRP4aZQ0nJEdE/avVvS8AR0T+C3cjZtxHRP6ZexeuvEdE/GoZheagR0T8cShZ7oRHRP0Lw0emaEdE/LOrwvpQR0T89ITf0jhHRP7+qyYOJEdE/+t0oaIQR0T9ixiqcfxHRP0Ls9Rp7EdE/lG7833YR0T8waffmchHRP5Si4itvEdE/An34qmsR0T/SJq5gaBHRPx4GsEllEdE/NFzeYmIR0T9eHUqpXxHRP+j5MRpdEdE/RJX/sloR0T+k6ERxWBHRP0POuVJWEdE/+7I5VVQR0T/Ga8F2UhHRPwQtbbVQEdE/dKF2D08R0T/uHjODTRHRPxL3EQ9MEdE/ROKasUoR0T9Ag2xpSRHRP+MBOzVIEdE/\",\"dtype\":\"float64\",\"shape\":[150]},\"x\":[0,1,2,3,4,5,6,7,8,9,10,11,12,13,14,15,16,17,18,19,20,21,22,23,24,25,26,27,28,29,30,31,32,33,34,35,36,37,38,39,40,41,42,43,44,45,46,47,48,49,50,51,52,53,54,55,56,57,58,59,60,61,62,63,64,65,66,67,68,69,70,71,72,73,74,75,76,77,78,79,80,81,82,83,84,85,86,87,88,89,90,91,92,93,94,95,96,97,98,99,100,101,102,103,104,105,106,107,108,109,110,111,112,113,114,115,116,117,118,119,120,121,122,123,124,125,126,127,128,129,130,131,132,133,134,135,136,137,138,139,140,141,142,143,144,145,146,147,148,149]},\"selected\":{\"id\":\"2187\",\"type\":\"Selection\"},\"selection_policy\":{\"id\":\"2188\",\"type\":\"UnionRenderers\"}},\"id\":\"2128\",\"type\":\"ColumnDataSource\"},{\"attributes\":{\"below\":[{\"id\":\"2140\",\"type\":\"LinearAxis\"}],\"left\":[{\"id\":\"2145\",\"type\":\"LinearAxis\"}],\"plot_height\":500,\"plot_width\":400,\"renderers\":[{\"id\":\"2140\",\"type\":\"LinearAxis\"},{\"id\":\"2144\",\"type\":\"Grid\"},{\"id\":\"2145\",\"type\":\"LinearAxis\"},{\"id\":\"2149\",\"type\":\"Grid\"},{\"id\":\"2158\",\"type\":\"BoxAnnotation\"},{\"id\":\"2175\",\"type\":\"Legend\"},{\"id\":\"2167\",\"type\":\"GlyphRenderer\"},{\"id\":\"2180\",\"type\":\"GlyphRenderer\"},{\"id\":\"2194\",\"type\":\"GlyphRenderer\"},{\"id\":\"2208\",\"type\":\"GlyphRenderer\"}],\"title\":{\"id\":\"2129\",\"type\":\"Title\"},\"toolbar\":{\"id\":\"2155\",\"type\":\"Toolbar\"},\"x_range\":{\"id\":\"2132\",\"type\":\"DataRange1d\"},\"x_scale\":{\"id\":\"2136\",\"type\":\"LinearScale\"},\"y_range\":{\"id\":\"2134\",\"type\":\"DataRange1d\"},\"y_scale\":{\"id\":\"2138\",\"type\":\"LinearScale\"}},\"id\":\"2130\",\"subtype\":\"Figure\",\"type\":\"Plot\"},{\"attributes\":{\"plot\":null,\"text\":\"Evolution of the savingsrate for different values of \\u03b8\"},\"id\":\"2129\",\"type\":\"Title\"},{\"attributes\":{\"callback\":null},\"id\":\"2132\",\"type\":\"DataRange1d\"},{\"attributes\":{\"callback\":null},\"id\":\"2134\",\"type\":\"DataRange1d\"},{\"attributes\":{},\"id\":\"2136\",\"type\":\"LinearScale\"},{\"attributes\":{},\"id\":\"2138\",\"type\":\"LinearScale\"},{\"attributes\":{\"axis_label\":\"T\",\"formatter\":{\"id\":\"2170\",\"type\":\"BasicTickFormatter\"},\"plot\":{\"id\":\"2130\",\"subtype\":\"Figure\",\"type\":\"Plot\"},\"ticker\":{\"id\":\"2141\",\"type\":\"BasicTicker\"}},\"id\":\"2140\",\"type\":\"LinearAxis\"},{\"attributes\":{},\"id\":\"2141\",\"type\":\"BasicTicker\"},{\"attributes\":{\"label\":{\"value\":\"\\u03b8 = 1.5\"},\"renderers\":[{\"id\":\"2208\",\"type\":\"GlyphRenderer\"}]},\"id\":\"2218\",\"type\":\"LegendItem\"},{\"attributes\":{\"plot\":{\"id\":\"2130\",\"subtype\":\"Figure\",\"type\":\"Plot\"},\"ticker\":{\"id\":\"2141\",\"type\":\"BasicTicker\"}},\"id\":\"2144\",\"type\":\"Grid\"},{\"attributes\":{\"axis_label\":\"Savings rate\",\"formatter\":{\"id\":\"2172\",\"type\":\"BasicTickFormatter\"},\"plot\":{\"id\":\"2130\",\"subtype\":\"Figure\",\"type\":\"Plot\"},\"ticker\":{\"id\":\"2146\",\"type\":\"BasicTicker\"}},\"id\":\"2145\",\"type\":\"LinearAxis\"},{\"attributes\":{},\"id\":\"2146\",\"type\":\"BasicTicker\"},{\"attributes\":{\"dimension\":1,\"plot\":{\"id\":\"2130\",\"subtype\":\"Figure\",\"type\":\"Plot\"},\"ticker\":{\"id\":\"2146\",\"type\":\"BasicTicker\"}},\"id\":\"2149\",\"type\":\"Grid\"},{\"attributes\":{\"line_alpha\":0.1,\"line_color\":\"#1f77b4\",\"x\":{\"field\":\"x\"},\"y\":{\"field\":\"b\"}},\"id\":\"2179\",\"type\":\"Line\"},{\"attributes\":{},\"id\":\"2150\",\"type\":\"PanTool\"},{\"attributes\":{},\"id\":\"2151\",\"type\":\"WheelZoomTool\"},{\"attributes\":{\"overlay\":{\"id\":\"2158\",\"type\":\"BoxAnnotation\"}},\"id\":\"2152\",\"type\":\"BoxZoomTool\"},{\"attributes\":{},\"id\":\"2153\",\"type\":\"ResetTool\"},{\"attributes\":{},\"id\":\"2154\",\"type\":\"SaveTool\"},{\"attributes\":{\"active_drag\":\"auto\",\"active_inspect\":\"auto\",\"active_multi\":null,\"active_scroll\":\"auto\",\"active_tap\":\"auto\",\"tools\":[{\"id\":\"2127\",\"type\":\"HoverTool\"},{\"id\":\"2150\",\"type\":\"PanTool\"},{\"id\":\"2151\",\"type\":\"WheelZoomTool\"},{\"id\":\"2152\",\"type\":\"BoxZoomTool\"},{\"id\":\"2153\",\"type\":\"ResetTool\"},{\"id\":\"2154\",\"type\":\"SaveTool\"}]},\"id\":\"2155\",\"type\":\"Toolbar\"},{\"attributes\":{\"line_color\":\"red\",\"x\":{\"field\":\"x\"},\"y\":{\"field\":\"a\"}},\"id\":\"2165\",\"type\":\"Line\"},{\"attributes\":{\"bottom_units\":\"screen\",\"fill_alpha\":{\"value\":0.5},\"fill_color\":{\"value\":\"lightgrey\"},\"left_units\":\"screen\",\"level\":\"overlay\",\"line_alpha\":{\"value\":1.0},\"line_color\":{\"value\":\"black\"},\"line_dash\":[4,4],\"line_width\":{\"value\":2},\"plot\":null,\"render_mode\":\"css\",\"right_units\":\"screen\",\"top_units\":\"screen\"},\"id\":\"2158\",\"type\":\"BoxAnnotation\"},{\"attributes\":{\"callback\":null,\"tooltips\":[[\"T\",\"@x{0,0.00}\"],[\"Savings rate for \\u03b8 = 0.3\",\"@a{0.00}\"],[\"Savings rate for \\u03b8 = 0.5\",\"@b{0.00}\"],[\"Savings rate for \\u03b8 = 0.7\",\"@c{0.00}\"],[\"Savings rate for \\u03b8 = 1.5\",\"@d{0.00}\"]]},\"id\":\"2127\",\"type\":\"HoverTool\"},{\"attributes\":{\"callback\":null,\"tooltips\":[[\"T\",\"@x{0,0.00}\"],[\"Capital pr. capita for \\u03b8 = 0.3\",\"@a{0.00}\"],[\"Capital pr. capita for \\u03b8 = 0.5\",\"@b{0.00}\"],[\"Capital pr. capita for \\u03b8 = 0.7\",\"@c{0.00}\"],[\"Capital pr. capita for \\u03b8 = 1.5\",\"@d{0.00}\"]]},\"id\":\"2035\",\"type\":\"HoverTool\"},{\"attributes\":{\"callback\":null,\"data\":{\"a\":{\"__ndarray__\":\"AAAAAAAAFED7fpKELp4WQLfQo7q3/hhALnM7Y54iG0AS48denAwdQFGP991wwB5AskZ0ZDkhIEBMVeUMsMsgQOGwz87QYSFAzG2yJqblIUDgfeufNlkiQItaULhfviJALIc/mssWI0D85eiNAGQjQJVe1ixSpyNARqG4Z/XhI0ANWaMb+hQkQFZaVcRdQSRAhJgc7QJoJEB9ElnFoYkkQBgxUvfcpiRAvrSjdkXAJECeOZMAW9YkQHfbnPqK6SRAkLgWNjX6JECgVBKArQglQOvVhQs9FSVA+W/4tiMgJUBGlq0vmSklQI2KufTNMSVAek6fPOw4JUCyvzw+GT8lQJau2qx1RCVAH49s8BxJJUAdvgLeJk0lQJDZWi2oUCVAXxDE37JTJUA77w+aVlYlQLDfG/OgWCVAi6pVuJ1aJUAtXnYpV1wlQIQ5iyzWXSVAYL1DeyJfJUCRtV7KQmAlQCLF9es8YSVAhpJP7RViJUDD4csw0mIlQP+AaoR1YyVAmKxdNQNkJUBLQwohfmQlQKyTy8PoZCVAyojFRUVlJUARWAaGlWUlQCxkMCTbZSVAEKzdiBdmJUCbsOfsS2YlQD0huV95ZiVA3b7JzKBmJUAkpGAAw2YlQKpvtavgZiVAxZSFaPpmJUBsSzC8EGclQCIpaRokZyVAkU+P5zRnJUBsR7V6Q2clQMYFZB9QZyVAUjciF1tnJUD1uMeaZGclQLUZpNtsZyVAzBl+BHRnJUBBUXE6emclQEB5rp1/ZyVA4jsiSoRnJUAH6gVYiGclQMUEXdyLZyVAoSRi6Y5nJUCkcuWOkWclQLmcntqTZyVA+e1z2JVnJUAX+7eSl2clQLUiXxKZZyVAo/YtX5pnJUCvfuF/m2clQJMlUnqcZyVAAAWSU51nJUDfLQcQnmclQOF0grOeZyVAjzlTQZ9nJUBqjli8n2clQPUaECegZyVAzASjg6BnJUDAIvHToGclQPSzmhmhZyVAaM0IVqFnJUCEqXSKoWclQLL/7behZyVAtIRg36FnJUBqsJgBomclQJrhRx+iZyVAV/UHOaJnJUB9ZF5PomclQI73vmKiZyVAyx6Oc6JnJUDd+iKComclQGMgyY6iZyVAuh/CmaJnJUDW2EajomclQA2iiKuiZyVA0EeysqJnJUCE6ui4omclQPG+TL6iZyVANrX5wqJnJUCPCQjHomclQP7BjMqiZyVAPhuazaJnJUBK5z/QomclQGPfi9KiZyVAKuuJ1KJnJUBcXkTWomclQFYuxNeiZyVAhSAR2aJnJUCv8jHaomclQN99LNuiZyVAvtQF3KJnJUDVXcLcomclQGPqZd2iZyVAIsrz3aJnJUBz3G7eomclQEGf2d6iZyVA7js236JnJUCDkobfomclQGtDzN+iZyVA4rcI4KJnJUBDKT3gomclQGOnauCiZyVADx6S4KJnJUDVWbTgomclQCcM0uCiZyVA787r4KJnJUC4JwLhomclQFWKFeGiZyVAQVsm4aJnJUCk8TThomclQB6ZQeGiZyVAR5NM4aJnJUAAGVbhomclQKhbXuGiZyVAD4Zl4aJnJUBZvWvhomclQL4hceGiZyVA\",\"dtype\":\"float64\",\"shape\":[150]},\"b\":{\"__ndarray__\":\"AAAAAAAAFEB6BZyruhEWQKcg8od1+hdA1wv6NYy7GUCK0ossKFYbQLF25rx6zBxAcSvt1t4gHkBZTwmhXVUfQPP+iyZeNiBAE/jBlrS0IECfrMRo8CYhQOGNJrQUjiFAgfKYWQLrIUC72JKQtj4iQKqzreIOiiJAJawDCvjNIkC9seWkHAsjQJle9rkGQiNACp7um05zI0CR4QN4h58jQAaLuitAxyNAXRwC++jqI0CcAMdA6AokQGAItfebJyRADplnDlpBJEC5fYCcblgkQL87134ebSRARzhZ8ad/JED83+ogQ5AkQHgghLQinyRAZ+eMKHWsJEB1OIS+ZbgkQLcZvMIYwyRAw4fa3a7MJEB0neptRdUkQCg4z9f23CRAtp2M0drjJECSYeOlBuokQLeyt3GN7yRAJWK+W4D0JEB5IeXG7vgkQMxQ5n/m/CRAtq1y5nMAJUDDr1QSogMlQACf6vR6BiVA5qpNdwcJJUDjoHWVTwslQItzonZaDSVAzqBOgy4PJUBBued40RAlQBXbhHtIEiVATOPNJZgTJUCCZ0GXxBQlQHU3A4HRFSVAyCxZMcIWJUBkbPidmRclQMTqQW1aGCVAZP6J/gYZJUCHC4RxoRklQDXW6KwrGiVA+8RrZKcaJUCHUxEeFhslQMob9zZ5GyVAeTGc59EbJUAkC7dHIRwlQJLZpFFoHCVA+fV85accJUAS99HL4BwlQHQAKbgTHSVAA/0uS0EdJUBTqbIUah0lQPGbaZWOHSVAYtWFQK8dJUALziB9zB0lQGF0gKfmHSVA0BY6Ev4dJUCwyjYHEx4lQE2CnMglHiVAja6ekTYeJUA5/DiXRR4lQGJ41ghTHiVA0ynnEF8eJUCX9mXVaR4lQBd7UHhzHiVAbEwSGHweJUC/9+TPgx4lQD/tJbiKHiVAhmWj5pAeJUDJM+Fulh4lQN1dVmKbHiVAPTyk0J8eJUD9z8fHox4lQD7qRVSnHiVAZ7BSgaoeJUDT+fRYrR4lQJf2JeSvHiVAFIPtKrIeJUDugXs0tB4lQDOMPge2HiVAfz/4qLceJUD/ac8euR4lQNJNYG26HiVADi/LmLseJUBeWsGkvB4lQE3NkJS9HiVAEKUua74eJUDNdEArvx4lQLCgJNe/HiVAXtj5cMAeJUA/yKX6wB4lQMoW23XBHiVAxcAe5MEeJUBU5cxGwh4lQAwRHZ/CHiVAhRUm7sIeJUCieeE0wx4lQFyNLnTDHiVAxSrVrMMeJUAALYjfwx4lQOuk5wzEHiVAe9KCNcQeJUAA6dlZxB4lQOCjX3rEHiVA1rB6l8QeJUAZ9IaxxB4lQH+q1sjEHiVAGW2z3cQeJUCYGV/wxB4lQDuiFAHFHiVA58cIEMUeJUC6wGodxR4lQBLNZCnFHiVA/LwcNMUeJUCJZ7Q9xR4lQLEVSkbFHiVA5eH4TcUeJUCsDdlUxR4lQC9OAFvFHiVAwxCCYMUeJUBFuG9lxR4lQPjT2GnFHiVApFDLbcUeJUCPpFNxxR4lQNz2fHTFHiVAtUJRd8UeJUDRdtl5xR4lQLCRHXzFHiVAz7okfsUeJUBDWfV/xR4lQO4nlYHFHiVA\",\"dtype\":\"float64\",\"shape\":[150]},\"c\":{\"__ndarray__\":\"AAAAAAAAFEB20azu/b0VQIM1NN/YXBdAQGWCnjHeGECGH+qVMUMaQKQ0w2ksjRtAjVPkw5i9HECHmDhGQdYdQLOCVRGT2B5A4kIBO8zFH0By77sNqk8gQKCM4J5isyBAaYz0pbQOIUANKuUeQmIhQKdIhsezriFAOcWE/qn0IUCDCd71yjQiQGzffKSCbyJAdP6dHxGlIkBlSZwy4tUiQCbNq15kAiNAhJh82Q8rI0DYh0j2NFAjQKCjMEIeciNAPG6/xBCRI0BNJ6FLTK0jQGkfB74LxyNACK2LYoXeI0CDGjwr6/MjQGxOEwBrByRA6KlsODIZJEB+0yAMbCkkQHNUTIk6OCRAAc9K77xFJEBB3QPlD1IkQJ1EA6xNXSRA3eJfUI5nJEAt+H/V53AkQAjM0V9ueSRAgLCVWzSBJEB1j9qgSogkQCPZ0JTAjiRAHiyZSKSUJEAUpbSVApokQGSnPDjnniRA+sfpvVyjJEC3PZLlbKckQEbTh6UgqyRApt76KoCuJEA9p1DrkrEkQHc8CLRftCRAHjlKuey2JECnJz6jP7kkQGp7PppduyRAIV8CUku9JEDL9dITDb8kQOIZ4MemwCRAMyrH/RvCJECjC130b8MkQG00y6ClxCRAHVgOtb/FJEC3IuSlwMYkQDpdNLCqxyRAx9QA3n/IJEBXb+YKQskkQJD8OOjyySRAJYXCAJTKJEBuHy68JsskQDmiJWKsyyRAY+8oHSbMJEAP/ST9lMwkQF490Pn5zCRA9YjR9FXNJEDmPra7qc0kQKnkuwn2zSRAdTFxiTvOJEDrGDLWes4kQEsZgn20ziRAK8hHAOnOJEAWVuzTGM8kQDWEYWNEzyRAWk8QEGzPJEAJYbIykM8kQDooGByxzyRAWFHdFc/PJEAFLg1j6s8kQPJ5uEAD0CRAnMl95hnQJEB80gWHLtAkQCmhdFBB0CRAe7nQbFLQJEB/BmECYtAkQGZrAjRw0CRAXbR1IX3QJEDelKbniNAkQCNS7KCT0CRAsalEZZ3QJEC3d4lKptAkQNGUoWSu0CRAaFitxbXQJEAEIy9+vNAkQC1LMJ3C0CRAQ79iMMjQJECIpz9EzdAkQL9MI+TR0CRAvIFmGtbQJEC+yHXw2dAkQEJo5m7d0CRAeZ6JneDQJEBBHn6D49AkQMb8Pyfm0CRAdjO3jujQJECS1kS/6tAkQAcez73s0CRAeFvMju7QJEDy9Uw28NAkQJyBBLjx0CRAwgdSF/PQJEDGkUdX9NAkQLwHsXr10CRANXIahPbQJEAVrdV199AkQEmY/1H40CRA69GEGvnQJEB+BCbR+dAkQMPSe3f60CRABWr6DvvQJEDcwvSY+9AkQJOXnxb80CRA8RYUifzQJEBcWVLx/NAkQNmdQ1D90CRA81O8pv3QJEAH9331/dAkQDO/OD3+0CRAnSuNfv7QJECSaQ26/tAkQJmbPvD+0CRATwOaIf/QJEDDEI5O/9AkQIVZf3f/0CRAvnnJnP/QJEAl4b++/9AkQLSNrt3/0CRAq7Xa+f/QJEBzYoMTANEkQKT94SoA0SRAf9EqQADRJEDufY1TANEkQBJjNWUA0SRA\",\"dtype\":\"float64\",\"shape\":[150]},\"d\":{\"__ndarray__\":\"AAAAAAAAFEDwSeV/qBsVQJzULeqhKRZA7uHZtyQqF0APLzKtHh0YQEMaIpZZAxlAraepal/dGUD7kkqgkKsaQBUjyulNbhtAEa/E+xomHEBooBxgd9McQLnbDxfudh1Aalf7jCMRHkAN+OorpqIeQJpXsw7GKx9AJDrkCdusH0BAi7IiKRMgQMyRCqtOTCBAwOQSbg2CIEBB98wLibQgQLPunmnq4yBAxkYcul0QIUDGaZodGzohQBVygMdUYSFAPzq3mS6GIUDSgTvYyqghQPVhWBZMySFAHsnvW9LnIUA8hW3gegQiQAuapGNhHyJA3ygYOaA4IkDQNVNIUVAiQJ7kUoKNZiJAhAOl+Wp7IkA5vOGN/o4iQJ1VtvhboSJAgF3n2pWyIkBL5DHJvcIiQFUG+Fjk0SJATUS78xngIkA/7r/qbe0iQIJi3fLt+SJA7qcK9aYFI0DC+QgZpRAjQPyXp8/zGiNAVNGe3J0kI0AEZwFgrS0jQN5hRN8rNiNANjzeTSI+I0Dv6X4VmUUjQLvN4h2YTCNAixRD1CZTI0CKQmYyTFkjQE/7U8UOXyNAMTyvs3RkI0CKXrrDg2kjQKvriRJEbiNAdAdU0LpyI0CxQJxo7HYjQPfU0APdeiNAQ0wpi5B+I0D9RU+sCoIjQF/509xOhSNAedt0XWCII0AxyzE9QosjQL4QN1z3jSNAHWqdboKQI0BLSQL/5ZIjQBZU+nAklSNAJyBgA0CXI0CrEIHSOpkjQOMlKtoWmyNAT3qW99WcI0CKFEHreZ4jQCWhm1oEoCNAYZSr0XahI0DMII/E0qIjQJZd65AZpCNAxOVEf0ylI0C1KETEbKYjQN6T5oF7pyNAO66dyHmoI0D/Ll2YaKkjQKQKmeFIqiNAA2Q0hhurI0AJQmJa4asjQDTeeCWbrCNAUVS4okmtI0CscAWC7a0jQExPmWiHriNAxXSm8RevI0CA//Oun68jQF6HbykfsCNAADm24ZawI0DLsZVQB7EjQDEahedwsSNAVvQWEdSxI0B7DmQxMbIjQOMBcKaIsiNABaGHyNqyI0DNsZnqJ7MjQH5LilpwsyNAaCqBYbSzI0DvRjNE9LMjQK34J0MwtCNAS+r5mmi0I0B4HpSEnbQjQKNCazXPtCNAi4iz3/20I0AfPJOyKbUjQE1IUtpStSNA+dmGgHm1I0DFTT/MnbUjQIKSKeK/tSNAwie45N+1I0Bo3UT0/bUjQDR3MS8atiNAw1QGsjS2I0D7PI+XTbYjQI9p9vhktiNA6e3d7Xq2I0DakneMj7YjQBk/m+mitiNAFgPcGLW2I0A73ZssxrYjQIdKHjbWtiNALraZReW2I0DI2Udq87YjQIUedbIAtyNA8Q6PKw23I0DB5zHiGLcjQGdVNeIjtyNALmu4Ni63I0AE4CzqN7cjQDCcYQZBtyNAqKKMlEm3I0ACYFSdUbcjQFto2ChZtyNADK25PmC3I0B7MiLmZrcjQMZNzCVttyNAlHEJBHO3I0D+kMiGeLcjQOcenLN9tyNA3a+/j4K3I0BARB0gh7cjQOk/UmmLtyNAdhS0b4+3I0DQolQ3k7cjQHlYBsSWtyNA\",\"dtype\":\"float64\",\"shape\":[150]},\"x\":[0,1,2,3,4,5,6,7,8,9,10,11,12,13,14,15,16,17,18,19,20,21,22,23,24,25,26,27,28,29,30,31,32,33,34,35,36,37,38,39,40,41,42,43,44,45,46,47,48,49,50,51,52,53,54,55,56,57,58,59,60,61,62,63,64,65,66,67,68,69,70,71,72,73,74,75,76,77,78,79,80,81,82,83,84,85,86,87,88,89,90,91,92,93,94,95,96,97,98,99,100,101,102,103,104,105,106,107,108,109,110,111,112,113,114,115,116,117,118,119,120,121,122,123,124,125,126,127,128,129,130,131,132,133,134,135,136,137,138,139,140,141,142,143,144,145,146,147,148,149]},\"selected\":{\"id\":\"2095\",\"type\":\"Selection\"},\"selection_policy\":{\"id\":\"2096\",\"type\":\"UnionRenderers\"}},\"id\":\"2036\",\"type\":\"ColumnDataSource\"},{\"attributes\":{\"line_alpha\":0.1,\"line_color\":\"#1f77b4\",\"x\":{\"field\":\"x\"},\"y\":{\"field\":\"a\"}},\"id\":\"2166\",\"type\":\"Line\"},{\"attributes\":{\"below\":[{\"id\":\"2048\",\"type\":\"LinearAxis\"}],\"left\":[{\"id\":\"2053\",\"type\":\"LinearAxis\"}],\"plot_height\":500,\"plot_width\":400,\"renderers\":[{\"id\":\"2048\",\"type\":\"LinearAxis\"},{\"id\":\"2052\",\"type\":\"Grid\"},{\"id\":\"2053\",\"type\":\"LinearAxis\"},{\"id\":\"2057\",\"type\":\"Grid\"},{\"id\":\"2066\",\"type\":\"BoxAnnotation\"},{\"id\":\"2083\",\"type\":\"Legend\"},{\"id\":\"2075\",\"type\":\"GlyphRenderer\"},{\"id\":\"2088\",\"type\":\"GlyphRenderer\"},{\"id\":\"2102\",\"type\":\"GlyphRenderer\"},{\"id\":\"2116\",\"type\":\"GlyphRenderer\"}],\"title\":{\"id\":\"2037\",\"type\":\"Title\"},\"toolbar\":{\"id\":\"2063\",\"type\":\"Toolbar\"},\"x_range\":{\"id\":\"2040\",\"type\":\"DataRange1d\"},\"x_scale\":{\"id\":\"2044\",\"type\":\"LinearScale\"},\"y_range\":{\"id\":\"2042\",\"type\":\"DataRange1d\"},\"y_scale\":{\"id\":\"2046\",\"type\":\"LinearScale\"}},\"id\":\"2038\",\"subtype\":\"Figure\",\"type\":\"Plot\"},{\"attributes\":{\"data_source\":{\"id\":\"2128\",\"type\":\"ColumnDataSource\"},\"glyph\":{\"id\":\"2165\",\"type\":\"Line\"},\"hover_glyph\":null,\"muted_glyph\":null,\"nonselection_glyph\":{\"id\":\"2166\",\"type\":\"Line\"},\"selection_glyph\":null,\"view\":{\"id\":\"2168\",\"type\":\"CDSView\"}},\"id\":\"2167\",\"type\":\"GlyphRenderer\"},{\"attributes\":{\"plot\":null,\"text\":\"Evolution of the capita pr. capita for different values of \\u03b8\"},\"id\":\"2037\",\"type\":\"Title\"},{\"attributes\":{\"source\":{\"id\":\"2128\",\"type\":\"ColumnDataSource\"}},\"id\":\"2168\",\"type\":\"CDSView\"},{\"attributes\":{},\"id\":\"2170\",\"type\":\"BasicTickFormatter\"},{\"attributes\":{\"callback\":null},\"id\":\"2040\",\"type\":\"DataRange1d\"},{\"attributes\":{},\"id\":\"2172\",\"type\":\"BasicTickFormatter\"},{\"attributes\":{\"callback\":null},\"id\":\"2042\",\"type\":\"DataRange1d\"},{\"attributes\":{\"items\":[{\"id\":\"2176\",\"type\":\"LegendItem\"},{\"id\":\"2190\",\"type\":\"LegendItem\"},{\"id\":\"2204\",\"type\":\"LegendItem\"},{\"id\":\"2218\",\"type\":\"LegendItem\"}],\"location\":\"top_center\",\"plot\":{\"id\":\"2130\",\"subtype\":\"Figure\",\"type\":\"Plot\"}},\"id\":\"2175\",\"type\":\"Legend\"},{\"attributes\":{},\"id\":\"2044\",\"type\":\"LinearScale\"},{\"attributes\":{\"data_source\":{\"id\":\"2128\",\"type\":\"ColumnDataSource\"},\"glyph\":{\"id\":\"2178\",\"type\":\"Line\"},\"hover_glyph\":null,\"muted_glyph\":null,\"nonselection_glyph\":{\"id\":\"2179\",\"type\":\"Line\"},\"selection_glyph\":null,\"view\":{\"id\":\"2181\",\"type\":\"CDSView\"}},\"id\":\"2180\",\"type\":\"GlyphRenderer\"},{\"attributes\":{},\"id\":\"2046\",\"type\":\"LinearScale\"},{\"attributes\":{\"axis_label\":\"T\",\"formatter\":{\"id\":\"2078\",\"type\":\"BasicTickFormatter\"},\"plot\":{\"id\":\"2038\",\"subtype\":\"Figure\",\"type\":\"Plot\"},\"ticker\":{\"id\":\"2049\",\"type\":\"BasicTicker\"}},\"id\":\"2048\",\"type\":\"LinearAxis\"},{\"attributes\":{\"source\":{\"id\":\"2128\",\"type\":\"ColumnDataSource\"}},\"id\":\"2181\",\"type\":\"CDSView\"},{\"attributes\":{},\"id\":\"2049\",\"type\":\"BasicTicker\"},{\"attributes\":{},\"id\":\"2187\",\"type\":\"Selection\"},{\"attributes\":{\"plot\":{\"id\":\"2038\",\"subtype\":\"Figure\",\"type\":\"Plot\"},\"ticker\":{\"id\":\"2049\",\"type\":\"BasicTicker\"}},\"id\":\"2052\",\"type\":\"Grid\"},{\"attributes\":{},\"id\":\"2188\",\"type\":\"UnionRenderers\"},{\"attributes\":{\"axis_label\":\"Capital pr. capita\",\"formatter\":{\"id\":\"2080\",\"type\":\"BasicTickFormatter\"},\"plot\":{\"id\":\"2038\",\"subtype\":\"Figure\",\"type\":\"Plot\"},\"ticker\":{\"id\":\"2054\",\"type\":\"BasicTicker\"}},\"id\":\"2053\",\"type\":\"LinearAxis\"},{\"attributes\":{\"label\":{\"value\":\"\\u03b8 = 0.5\"},\"renderers\":[{\"id\":\"2180\",\"type\":\"GlyphRenderer\"}]},\"id\":\"2190\",\"type\":\"LegendItem\"},{\"attributes\":{},\"id\":\"2054\",\"type\":\"BasicTicker\"},{\"attributes\":{\"dimension\":1,\"plot\":{\"id\":\"2038\",\"subtype\":\"Figure\",\"type\":\"Plot\"},\"ticker\":{\"id\":\"2054\",\"type\":\"BasicTicker\"}},\"id\":\"2057\",\"type\":\"Grid\"},{\"attributes\":{\"line_color\":\"green\",\"x\":{\"field\":\"x\"},\"y\":{\"field\":\"c\"}},\"id\":\"2192\",\"type\":\"Line\"},{\"attributes\":{\"items\":[{\"id\":\"2084\",\"type\":\"LegendItem\"},{\"id\":\"2098\",\"type\":\"LegendItem\"},{\"id\":\"2112\",\"type\":\"LegendItem\"},{\"id\":\"2126\",\"type\":\"LegendItem\"}],\"location\":\"bottom_center\",\"plot\":{\"id\":\"2038\",\"subtype\":\"Figure\",\"type\":\"Plot\"}},\"id\":\"2083\",\"type\":\"Legend\"},{\"attributes\":{\"line_alpha\":0.1,\"line_color\":\"#1f77b4\",\"x\":{\"field\":\"x\"},\"y\":{\"field\":\"c\"}},\"id\":\"2193\",\"type\":\"Line\"},{\"attributes\":{\"data_source\":{\"id\":\"2128\",\"type\":\"ColumnDataSource\"},\"glyph\":{\"id\":\"2192\",\"type\":\"Line\"},\"hover_glyph\":null,\"muted_glyph\":null,\"nonselection_glyph\":{\"id\":\"2193\",\"type\":\"Line\"},\"selection_glyph\":null,\"view\":{\"id\":\"2195\",\"type\":\"CDSView\"}},\"id\":\"2194\",\"type\":\"GlyphRenderer\"},{\"attributes\":{},\"id\":\"2058\",\"type\":\"PanTool\"},{\"attributes\":{\"source\":{\"id\":\"2128\",\"type\":\"ColumnDataSource\"}},\"id\":\"2195\",\"type\":\"CDSView\"},{\"attributes\":{},\"id\":\"2059\",\"type\":\"WheelZoomTool\"},{\"attributes\":{\"label\":{\"value\":\"\\u03b8 = 0.7\"},\"renderers\":[{\"id\":\"2194\",\"type\":\"GlyphRenderer\"}]},\"id\":\"2204\",\"type\":\"LegendItem\"},{\"attributes\":{\"overlay\":{\"id\":\"2066\",\"type\":\"BoxAnnotation\"}},\"id\":\"2060\",\"type\":\"BoxZoomTool\"},{\"attributes\":{},\"id\":\"2061\",\"type\":\"ResetTool\"},{\"attributes\":{\"line_color\":\"purple\",\"x\":{\"field\":\"x\"},\"y\":{\"field\":\"d\"}},\"id\":\"2206\",\"type\":\"Line\"},{\"attributes\":{},\"id\":\"2062\",\"type\":\"SaveTool\"},{\"attributes\":{\"line_alpha\":0.1,\"line_color\":\"#1f77b4\",\"x\":{\"field\":\"x\"},\"y\":{\"field\":\"d\"}},\"id\":\"2207\",\"type\":\"Line\"},{\"attributes\":{\"active_drag\":\"auto\",\"active_inspect\":\"auto\",\"active_multi\":null,\"active_scroll\":\"auto\",\"active_tap\":\"auto\",\"tools\":[{\"id\":\"2035\",\"type\":\"HoverTool\"},{\"id\":\"2058\",\"type\":\"PanTool\"},{\"id\":\"2059\",\"type\":\"WheelZoomTool\"},{\"id\":\"2060\",\"type\":\"BoxZoomTool\"},{\"id\":\"2061\",\"type\":\"ResetTool\"},{\"id\":\"2062\",\"type\":\"SaveTool\"}]},\"id\":\"2063\",\"type\":\"Toolbar\"},{\"attributes\":{\"data_source\":{\"id\":\"2128\",\"type\":\"ColumnDataSource\"},\"glyph\":{\"id\":\"2206\",\"type\":\"Line\"},\"hover_glyph\":null,\"muted_glyph\":null,\"nonselection_glyph\":{\"id\":\"2207\",\"type\":\"Line\"},\"selection_glyph\":null,\"view\":{\"id\":\"2209\",\"type\":\"CDSView\"}},\"id\":\"2208\",\"type\":\"GlyphRenderer\"},{\"attributes\":{\"line_color\":\"red\",\"x\":{\"field\":\"x\"},\"y\":{\"field\":\"a\"}},\"id\":\"2073\",\"type\":\"Line\"},{\"attributes\":{\"source\":{\"id\":\"2128\",\"type\":\"ColumnDataSource\"}},\"id\":\"2209\",\"type\":\"CDSView\"},{\"attributes\":{\"bottom_units\":\"screen\",\"fill_alpha\":{\"value\":0.5},\"fill_color\":{\"value\":\"lightgrey\"},\"left_units\":\"screen\",\"level\":\"overlay\",\"line_alpha\":{\"value\":1.0},\"line_color\":{\"value\":\"black\"},\"line_dash\":[4,4],\"line_width\":{\"value\":2},\"plot\":null,\"render_mode\":\"css\",\"right_units\":\"screen\",\"top_units\":\"screen\"},\"id\":\"2066\",\"type\":\"BoxAnnotation\"}],\"root_ids\":[\"2452\"]},\"title\":\"Bokeh Application\",\"version\":\"1.0.2\"}};\n",
       "  var render_items = [{\"docid\":\"5cca7077-4f77-42ee-8e01-2993aa81eda9\",\"notebook_comms_target\":\"2525\",\"roots\":{\"2452\":\"0b01bdf1-8d96-498b-b337-600aa4401c91\"}}];\n",
       "  root.Bokeh.embed.embed_items_notebook(docs_json, render_items);\n",
       "\n",
       "  }\n",
       "  if (root.Bokeh !== undefined) {\n",
       "    embed_document(root);\n",
       "  } else {\n",
       "    var attempts = 0;\n",
       "    var timer = setInterval(function(root) {\n",
       "      if (root.Bokeh !== undefined) {\n",
       "        embed_document(root);\n",
       "        clearInterval(timer);\n",
       "      }\n",
       "      attempts++;\n",
       "      if (attempts > 100) {\n",
       "        console.log(\"Bokeh: ERROR: Unable to run BokehJS code because BokehJS library is missing\");\n",
       "        clearInterval(timer);\n",
       "      }\n",
       "    }, 10, root)\n",
       "  }\n",
       "})(window);"
      ],
      "application/vnd.bokehjs_exec.v0+json": ""
     },
     "metadata": {
      "application/vnd.bokehjs_exec.v0+json": {
       "id": "2452"
      }
     },
     "output_type": "display_data"
    },
    {
     "data": {
      "text/html": [
       "\n",
       "\n",
       "\n",
       "\n",
       "\n",
       "\n",
       "  <div class=\"bk-root\" id=\"b03a140e-fcc9-4b98-93e0-24e255b2ecc1\"></div>\n"
      ]
     },
     "metadata": {},
     "output_type": "display_data"
    },
    {
     "data": {
      "application/javascript": [
       "(function(root) {\n",
       "  function embed_document(root) {\n",
       "    \n",
       "  var docs_json = {\"f3d82199-c97f-41d1-afcc-032b16f2f853\":{\"roots\":{\"references\":[{\"attributes\":{\"children\":[{\"id\":\"2222\",\"subtype\":\"Figure\",\"type\":\"Plot\"},{\"id\":\"2314\",\"subtype\":\"Figure\",\"type\":\"Plot\"}]},\"id\":\"2622\",\"type\":\"Row\"},{\"attributes\":{\"line_alpha\":0.1,\"line_color\":\"#1f77b4\",\"x\":{\"field\":\"x\"},\"y\":{\"field\":\"c\"}},\"id\":\"2285\",\"type\":\"Line\"},{\"attributes\":{},\"id\":\"2354\",\"type\":\"BasicTickFormatter\"},{\"attributes\":{\"data_source\":{\"id\":\"2220\",\"type\":\"ColumnDataSource\"},\"glyph\":{\"id\":\"2284\",\"type\":\"Line\"},\"hover_glyph\":null,\"muted_glyph\":null,\"nonselection_glyph\":{\"id\":\"2285\",\"type\":\"Line\"},\"selection_glyph\":null,\"view\":{\"id\":\"2287\",\"type\":\"CDSView\"}},\"id\":\"2286\",\"type\":\"GlyphRenderer\"},{\"attributes\":{},\"id\":\"2356\",\"type\":\"BasicTickFormatter\"},{\"attributes\":{\"items\":[{\"id\":\"2360\",\"type\":\"LegendItem\"},{\"id\":\"2374\",\"type\":\"LegendItem\"},{\"id\":\"2388\",\"type\":\"LegendItem\"},{\"id\":\"2402\",\"type\":\"LegendItem\"}],\"location\":\"top_center\",\"plot\":{\"id\":\"2314\",\"subtype\":\"Figure\",\"type\":\"Plot\"}},\"id\":\"2359\",\"type\":\"Legend\"},{\"attributes\":{\"source\":{\"id\":\"2220\",\"type\":\"ColumnDataSource\"}},\"id\":\"2287\",\"type\":\"CDSView\"},{\"attributes\":{\"label\":{\"value\":\"\\u03b8 = 0.7\"},\"renderers\":[{\"id\":\"2286\",\"type\":\"GlyphRenderer\"}]},\"id\":\"2296\",\"type\":\"LegendItem\"},{\"attributes\":{\"label\":{\"value\":\"\\u03b8 = 0.3\"},\"renderers\":[{\"id\":\"2351\",\"type\":\"GlyphRenderer\"}]},\"id\":\"2360\",\"type\":\"LegendItem\"},{\"attributes\":{\"data_source\":{\"id\":\"2312\",\"type\":\"ColumnDataSource\"},\"glyph\":{\"id\":\"2362\",\"type\":\"Line\"},\"hover_glyph\":null,\"muted_glyph\":null,\"nonselection_glyph\":{\"id\":\"2363\",\"type\":\"Line\"},\"selection_glyph\":null,\"view\":{\"id\":\"2365\",\"type\":\"CDSView\"}},\"id\":\"2364\",\"type\":\"GlyphRenderer\"},{\"attributes\":{},\"id\":\"2372\",\"type\":\"UnionRenderers\"},{\"attributes\":{\"line_color\":\"purple\",\"x\":{\"field\":\"x\"},\"y\":{\"field\":\"d\"}},\"id\":\"2298\",\"type\":\"Line\"},{\"attributes\":{\"line_color\":\"blue\",\"x\":{\"field\":\"x\"},\"y\":{\"field\":\"b\"}},\"id\":\"2362\",\"type\":\"Line\"},{\"attributes\":{\"line_alpha\":0.1,\"line_color\":\"#1f77b4\",\"x\":{\"field\":\"x\"},\"y\":{\"field\":\"d\"}},\"id\":\"2299\",\"type\":\"Line\"},{\"attributes\":{},\"id\":\"2371\",\"type\":\"Selection\"},{\"attributes\":{\"data_source\":{\"id\":\"2220\",\"type\":\"ColumnDataSource\"},\"glyph\":{\"id\":\"2298\",\"type\":\"Line\"},\"hover_glyph\":null,\"muted_glyph\":null,\"nonselection_glyph\":{\"id\":\"2299\",\"type\":\"Line\"},\"selection_glyph\":null,\"view\":{\"id\":\"2301\",\"type\":\"CDSView\"}},\"id\":\"2300\",\"type\":\"GlyphRenderer\"},{\"attributes\":{\"label\":{\"value\":\"\\u03b8 = 0.5\"},\"renderers\":[{\"id\":\"2364\",\"type\":\"GlyphRenderer\"}]},\"id\":\"2374\",\"type\":\"LegendItem\"},{\"attributes\":{\"source\":{\"id\":\"2220\",\"type\":\"ColumnDataSource\"}},\"id\":\"2301\",\"type\":\"CDSView\"},{\"attributes\":{\"label\":{\"value\":\"\\u03b8 = 1.5\"},\"renderers\":[{\"id\":\"2300\",\"type\":\"GlyphRenderer\"}]},\"id\":\"2310\",\"type\":\"LegendItem\"},{\"attributes\":{\"line_color\":\"green\",\"x\":{\"field\":\"x\"},\"y\":{\"field\":\"c\"}},\"id\":\"2376\",\"type\":\"Line\"},{\"attributes\":{\"callback\":null,\"data\":{\"a\":{\"__ndarray__\":\"DKJ16o55RT6l9o7njnlFPhVb1zfJtWg/p+flAbHUoz8+g1S8YFqyPz5wfOHAoLk/STmuBe7lvz8SN0m2eqfCPyY0MV8l/sQ/qVKGBuMDxz9nZ9xh0cDIPx+Mpic+Q8o/QiQgW3qSyz8RUQ3rabTMPzOSW3N5r80/P3MvDf6Izj8az8O4J0XPP04OH5436M8/vqg8uNc60D8h8b2N+XfQPxXcDNXyrNA/shEKkhPb0D9ocMJQ+wLRP8dJCy2FJdE/cC+VGG1D0T+DcOmIVF3RP6fFr2LGc9E/hxITImKH0T9iX0ihX5jRP2vYvo0Xp9E/ojMuQdiz0T+6Hfth5b7RP//ZbmJ5yNE/OVgdyMbQ0T8uoSFE+dfRP5vtYaM23tE/lj7cnJ/j0T/wZgODUOjRPzjnZ9xh7NE/FQs/5+jv0T9Xgc4K+PLRPzPJTTmf9dE/kvxsROz30T+1T14m6/nRP1NS+kCm+9E/SmNclCb90T8PECPuc/7RPw3SVRKV/9E/FpHN3o8A0j+wiN5paQHSP6LU5xwmAtI/AFNWy8kC0j+pJZXGVwPSPxxyVe/SA9I/HKaIxD0E0j/TK1xwmgTSP53QetPqBNI/ku/OjjAF0j+ogPgLbQXSP/RQo4ShBdI/0rrjCM8F0j+qE7uE9gXSPzOV4MQYBtI/IrHnejYG0j8ga9lAUAbSP49zU5xmBtI/xD89AXoG0j/vMiHUigbSP9gLNmyZBtI/WiwjFaYG0j+D54gQsQbSPzLLVJe6BtI/xMvo2sIG0j+pTRsGygbSP2g9FT7QBtI/krYSo9UG0j/UIApR2gbSPzMmPWDeBtI/GHK25eEG0j+Zxbbz5AbSPzeWE5rnBtI/TiKJ5ukG0j86pAHl6wbSP8IV05/tBtI/48P0H+8G0j+lyC1t8AbSPyhcPY7xBtI/ps39iPIG0j8L2oJi8wbSPwH9Mx/0BtI/REXjwvQG0j9SIuFQ9QbSPziSDcz1BtI/gAjnNvYG0j+WW5eT9gbSP377/uP2BtI/K6y+KfcG0j+x9T9m9wbSP0Z2vJr3BtI/0ztEyPcG0j8fRsPv9wbSPw5OBhL4BtI/0Oq+L/gG0j9gKodJ+AbSP/6v5F/4BtI//WhLc/gG0j9/5R+E+AbSP9lhuZL4BtI/qYpjn/gG0j8fBWCq+AbSPz7D57P4BtI//iosvPgG0j9sFljD+AbSP7CxkMn4BtI/0Dv2zvgG0j/BraTT+AbSP3ZLtNf4BtI/miE62/gG0j+vckje+AbSP7kV7+D4BtI/Ucg74/gG0j/gdTrl+AbSP2l19eb4BtI/IL916PgG0j/qGsPp+AbSP65I5Or4BtI/WCPf6/gG0j8nv7js+AbSPwqEde34BtI/eEQZ7vgG0j82Uafu+AbSP5CKIu/4BtI/PG+N7/gG0j9KKerv+AbSP1iZOvD4BtI/XGCA8PgG0j8C6Lzw+AbSPwNq8fD4BtI/kvYe8fgG0j/BeUbx+AbSP2LAaPH4BtI/HnyG8fgG0j8UR6Dx+AbSP/SmtvH4BtI/tg/K8fgG0j/25drx+AbSP/2A6fH4BtI/eiz28fgG0j8cKgHy+AbSP9uyCvL4BtI/\",\"dtype\":\"float64\",\"shape\":[150]},\"b\":{\"__ndarray__\":\"mbr+O8tonz8O/fepHJisP/gxR259GrQ/5h/R8qtVuT98beK1ogu+P/j+wnvkJME/v5uktBYOwz82N37u3sLEP/HemsF+ScY/E3iRBaarxz+GBzwvMenIPxhstXNyBso/2nnXqZUGyz9xagsMYezLP98B8GBcusw/w1+MicRzzT+mMUVUuhnOPxG0wuJurs4/YKCi7uUzzz8jUQrfjavPP4LDoWGaC9A/TnyaX/c90D9Cur7kzmrQP73HRk/BktA/ihH8k7S10D+eDxmttNTQP6muxeVo8NA/oqcwHC0J0T+32YLEUh/RPygkm88qM9E/nzRPpxtF0T/28uwLJlXRP/ySQz5+Y9E/6rqPvVJw0T8/oOvwzHvRP2B16bsRhtE/kJInAUKP0T9Jq0EVe5fRP8hQKCTXntE/d7Wcim2l0T/Sck8lU6vRP2Lb65aasNE/a2cshlS10T9Kpe7Uj7nRP+efHNFZvdE/GvYlYL7A0T+8H6slyMPRPxX36KWAxtE/JVgzV/jI0T9/9I+8LcvRPyGEvZwnzdE/nLyxPuzO0T88ZlQ/gdDRP3y+m6Pr0dE/qT216C/T0T9zvHESUtTRP3avJbhV1dE/fKooED7W0T/fgRr6DdfRP7kXEAjI19E/fhrGhm7Y0T93ovSEA9nRP9Gl29mI2dE/h5sdKwDa0T/UUfvxatrRPyzsAYDK2tE/ACc6AyDb0T/xXeaJbNvRP3pd2wWx29E/cb5+T+7b0T/1YnQoJdzRPzCmAz5W3NE/yuU7K4Lc0T+qO996qdzRPyWEGanM3NE/kyYJJezc0T/xgR5SCN3RP79aVokh3dE/2jBTGjjd0T+J+lhMTN3RP1hjLl9e3dE/JFnmi27d0T8OZpQFfd3RP90S7vmJ3dE/7FDbkZXd0T/QtPfxn93RP9EaBjup3dE/IyNYirHd0T8nzSr6uN3RP9VW+aG/3dE/GGbHlsXd0T/YZmPryt3RP2LvobDP3dE/1uaS9dPd0T/SFbHH193RP2W3DDPb3dE/9pBxQt7d0T9wCYn/4N3RP1+r+HLj3dE/anJ9pOXd0T9hOgSb593RPw2dv1zp3dE/3oM77+rd0T8mq25X7N3RP2dOypnt3dE//C5Iuu7d0T+IIXe8793RP71JhqPw3dE/FChPcvHd0T8AmV4r8t3RP0fi/NDy3dE/qOc0ZfPd0T/Mndrp893RP7zPkGD03dE/GEnOyvTd0T9rdeIp9d3RPzGD+X713dE/ixcgy/Xd0T9xnkYP9t3RP8ZBREz23dE/npDZgvbd0T8637Kz9t3RPx1nat/23dE/7y2KBvfd0T9MuY0p993RP7GU40j33dE/ja7uZPfd0T+PkAd+993RPzR3fZT33dE/7UuXqPfd0T8HhZS6993RPwLurcr33dE/3VoW2ffd0T+cSPvl993RP9pshfH33dE/UjbZ+/fd0T/tPxcF+N3RP6W3XA343dE/tbrDFPjd0T/7p2Mb+N3RP81pUSH43dE//7efJvjd0T/6Ul8r+N3RP5s4ny/43dE/kNNsM/jd0T+0JdQ2+N3RP+zt3zn43dE/JMqZPPjd0T+cVQo/+N3RPyJEOUH43dE/\",\"dtype\":\"float64\",\"shape\":[150]},\"c\":{\"__ndarray__\":\"iK7k+UbUtT+omQGg3PK5P1J55CNuvL0/+Gr096ibwD98PzcV0TTCP4p4jk9krMM/voddIGgGxT9UD6HSYEbGPzraAjOqaMc/Z3NlUWlyyD9EQCIZo2XJP8cSP0ZiRMo/uzWTL1YQyz8iO5e+5crLP6pzmLt6dcw/nMuNA04RzT91x7b1b5/NPxRrI7ilIc4/5DIWZlCYzj8E1bTKwATPP5o0ve+ZZ88/HFF0pQfCzz9SDPRmEQrQPxGCbLa9L9A/LHcpeQhS0D/AQQa8MHHQP3LsvFGrjdA/TJ1m/run0D9nEA7qbL/QP3p3bhP31NA/SF+r243o0D+MYJQEefrQP61rZs3iCtE/1ho6AtAZ0T+vNnrGYyfRP8++deK9M9E/BQkiGvs+0T82i1h6NUnRP+Y8uZ2EUtE/Vggy6v1a0T+CYwnItGLRP+ksrSfIadE/4DdJhEFw0T8EapOvJXbRP15c8TKCe9E/idq5WGOA0T/l61xK1ITRP2/kkCvfiNE/+FDVMo2M0T/mKJO/5o/RP9N+GW7zktE/PMSuKbqV0T8mdeg8QZjRP/GGdWCOmtE/iyaDyKac0T9iFt8wj57RP5hA9+dLoNE/9sTS2OCh0T/R3R2UUaPRPxRfX1ihpNE/hkRsGdOl0T/RtiuH6abRP1wavBPnp9E/XRgI+c2o0T9THNk9oKnRP7dwc7pfqtE/GPnGHA6r0T/oeT7srKvRP5JrNo09rNE/L3wjRMGs0T96HnA4Oa3RP4nTF3emrdE/1jwG9Qmu0T+Zcz+RZK7RP3ag1ha3rtE//Fe3PgKv0T8r1kWxRq/RP4TS2QeFr9E/lk4Xzr2v0T/JcSiD8a/RP2I925ogsNE/aqKlfkuw0T83SJKOcrDRP3gcGCKWsNE/OpXeiLaw0T/aYHAL1LDRP+wX3uvusNE/gGBSZgex0T8W0ZixHbHRP1rDmP8xsdE/iCvFfUSx0T9BcIJVVbHRPxEog6xksdE/N40cpXKx0T+yZZNef7HRP0kMYvWKsdE/9Dd4g5Wx0T/sEHUgn7HRP7AV3OGnsdE/yEZF26+x0T9iBYket7HRPxYH6Lu9sdE/hrgvwsOx0T9fYNs+ybHRPxBNMj7OsdE/2lBjy9Kx0T++yZ3w1rHRP4htKLfasdE/0Ax2J96x0T/CezhJ4bHRP7rKcSPksdE/bPWDvOax0T/GKz8a6bHRP3DU7kHrsdE/CmZlOO2x0T/DMQcC77HRP2k31KLwsdE/8BhxHvKx0T96QS9487HRPydSFLP0sdE/ROXg0fWx0T8DtxbX9rHRP39B/sT3sdE/ndirnfix0T87UQRj+bHRPxY+wRb6sdE/3st0uvqx0T8kRY1P+7HRP/lFWNf7sdE/caYFU/yx0T+AIqrD/LHRPzXFQSr9sdE/uByyh/2x0T/oO8zc/bHRPzKOTir+sdE/rIHmcP6x0T8VCzKx/rHRP1gHwev+sdE/Zn0WIf+x0T9ow6lR/7HRP82J533/sdE/bM4ypv+x0T8YuuXK/7HRP0xqUuz/sdE/7qjDCgCy0T+sk30mALLRP140vj8AstE/2gu+VgCy0T9jkLBrALLRP8agxH4AstE/\",\"dtype\":\"float64\",\"shape\":[150]},\"d\":{\"__ndarray__\":\"4IGg16LNxT9ZQ85+l4bGP2wLN9kaOsc/ejEZ1gTexz8sngEK3njIPxK4HMwIC8k/yCKA9yaVyT9ICWQ95RbKPxzuclYgkco/VlEel9IDyz8YhZk9uG/LP7+JLGkb1ss/Gv/avL82zD+klhM8ypHMP4c5olmK58w/5uWC0j44zT8oJGvkJoTNP17cCyB7y80/AlfXRawOzj+0FUlQ3E3OP5AynF0Vic4/GCAa8wfBzj/3wiz8W/XOP5a0LNnDJs8/465ZN+tUzz9L4S6Pl4DPP0Yz1Oxoqc8/csIOqcHRzz87sHLqvvnPP7CUuQqED9A/gM+QHGUg0D+OFQtliS/QP5nGWyixPdA/BPxelO1K0D8RBtioalfQPwDjVl4qY9A/tpA5SSdu0D8uMYt6bnjQP5YchBUMgtA/WBNBqBmL0D8JNYP3pJPQPwCp+2Kjm9A/sQOQPB6j0D8OpOswHqrQPwpfy1OrsNA/dLxGK8220D+UgS66irzQP3h7MQ30wdA/1XcI+A/H0D+L4fkp2MvQPyqGCRZS0NA/T1ir0YLU0D/+bV0bb9jQP2wlwWAb3NA/MFE+xIvf0D8ARjoixOLQP8K46xXI5dA/lYjT/Zro0D/10uH/P+vQP/4FTg267dA/Ygso5gvw0D/sHKgcOPLQP+JWQhhB9NA/TKyCGCn20D/Pe7U38vfQP3YVcSuK+dA/cFjUYvz60D9pWc3qV/zQP955NCme/dA/0mGZbdD+0D9rQa3y7//QPxlCld/9ANE/es8mSfsB0T9cQA8z6QLRP5xK6JDIA9E/t5E6R5oE0T8qh28sXwXRP+S8swkYBtE/R7XKm8UG0T/iKNWTaAfRP1yoCpgBCNE/vXBnRJEI0T8jOU8rGAnRPxezJdaWCdE/1GndxQ0K0T/0oH1zfQrRP/fHn1DmCtE/8w3lx0gL0T8+l2Q9pQvRPzLOEg/8C9E/AEAilU0M0T8fb14imgzRP6z9gATiDNE/y4uBhCUN0T/vn+DmZA3RP0Lp7WugDdE/VCcKUNgN0T8r/eTLDA7RP1rxthQ+DtE/jNh3XGwO0T/s4xHSlw7RPzSJkaHADtE/uHZS9OYO0T9/winxCg/RP6KAjbwsD9E/IOq5eEwP0T8FO9RFag/RPwZsC0KGD9E/m+m2iaAP0T9vaHM3uQ/RP//0PWTQD9E/UFqNJ+YP0T8S+mmX+g/RP6wuhMgNENE/SE5Jzh8Q0T9+ZPe6MBDRP+K2r59AENE/dCeIjE8Q0T/RhpuQXRDRP87mGLpqENE/Qf1RFncQ0T+hpcixghDRP1qPO5iNENE/uyWy1JcQ0T+wvYdxoRDRP7kUdniqENE/uSuf8rIQ0T/Eh5bouhDRP0ziaWLCENE/iFGpZ8kQ0T9j8W7/zxDRP8EUZjDWENE/bAbSANwQ0T97YJR24RDRP8AAM5fmENE/KaDdZ+sQ0T/WEnPt7xDRPz82hiz0ENE/V5JiKfgQ0T9tshDo+xDRPzM6Wmz/ENE/ELvNuQIR0T+YTcLTBRHRP9vyWr0IEdE/88CJeQsR0T8Q3hILDhHRP/RMj3QQEdE/041vuBIR0T8oFv7YFBHRPwOiYdgWEdE/\",\"dtype\":\"float64\",\"shape\":[150]},\"x\":[0,1,2,3,4,5,6,7,8,9,10,11,12,13,14,15,16,17,18,19,20,21,22,23,24,25,26,27,28,29,30,31,32,33,34,35,36,37,38,39,40,41,42,43,44,45,46,47,48,49,50,51,52,53,54,55,56,57,58,59,60,61,62,63,64,65,66,67,68,69,70,71,72,73,74,75,76,77,78,79,80,81,82,83,84,85,86,87,88,89,90,91,92,93,94,95,96,97,98,99,100,101,102,103,104,105,106,107,108,109,110,111,112,113,114,115,116,117,118,119,120,121,122,123,124,125,126,127,128,129,130,131,132,133,134,135,136,137,138,139,140,141,142,143,144,145,146,147,148,149]},\"selected\":{\"id\":\"2371\",\"type\":\"Selection\"},\"selection_policy\":{\"id\":\"2372\",\"type\":\"UnionRenderers\"}},\"id\":\"2312\",\"type\":\"ColumnDataSource\"},{\"attributes\":{\"line_alpha\":0.1,\"line_color\":\"#1f77b4\",\"x\":{\"field\":\"x\"},\"y\":{\"field\":\"c\"}},\"id\":\"2377\",\"type\":\"Line\"},{\"attributes\":{\"below\":[{\"id\":\"2324\",\"type\":\"LinearAxis\"}],\"left\":[{\"id\":\"2329\",\"type\":\"LinearAxis\"}],\"plot_height\":500,\"plot_width\":400,\"renderers\":[{\"id\":\"2324\",\"type\":\"LinearAxis\"},{\"id\":\"2328\",\"type\":\"Grid\"},{\"id\":\"2329\",\"type\":\"LinearAxis\"},{\"id\":\"2333\",\"type\":\"Grid\"},{\"id\":\"2342\",\"type\":\"BoxAnnotation\"},{\"id\":\"2359\",\"type\":\"Legend\"},{\"id\":\"2351\",\"type\":\"GlyphRenderer\"},{\"id\":\"2364\",\"type\":\"GlyphRenderer\"},{\"id\":\"2378\",\"type\":\"GlyphRenderer\"},{\"id\":\"2392\",\"type\":\"GlyphRenderer\"}],\"title\":{\"id\":\"2313\",\"type\":\"Title\"},\"toolbar\":{\"id\":\"2339\",\"type\":\"Toolbar\"},\"x_range\":{\"id\":\"2316\",\"type\":\"DataRange1d\"},\"x_scale\":{\"id\":\"2320\",\"type\":\"LinearScale\"},\"y_range\":{\"id\":\"2318\",\"type\":\"DataRange1d\"},\"y_scale\":{\"id\":\"2322\",\"type\":\"LinearScale\"}},\"id\":\"2314\",\"subtype\":\"Figure\",\"type\":\"Plot\"},{\"attributes\":{\"data_source\":{\"id\":\"2312\",\"type\":\"ColumnDataSource\"},\"glyph\":{\"id\":\"2376\",\"type\":\"Line\"},\"hover_glyph\":null,\"muted_glyph\":null,\"nonselection_glyph\":{\"id\":\"2377\",\"type\":\"Line\"},\"selection_glyph\":null,\"view\":{\"id\":\"2379\",\"type\":\"CDSView\"}},\"id\":\"2378\",\"type\":\"GlyphRenderer\"},{\"attributes\":{\"plot\":null,\"text\":\"Evolution of the savingsrate for different values of \\u03b8\"},\"id\":\"2313\",\"type\":\"Title\"},{\"attributes\":{\"source\":{\"id\":\"2312\",\"type\":\"ColumnDataSource\"}},\"id\":\"2379\",\"type\":\"CDSView\"},{\"attributes\":{\"label\":{\"value\":\"\\u03b8 = 0.7\"},\"renderers\":[{\"id\":\"2378\",\"type\":\"GlyphRenderer\"}]},\"id\":\"2388\",\"type\":\"LegendItem\"},{\"attributes\":{\"callback\":null},\"id\":\"2316\",\"type\":\"DataRange1d\"},{\"attributes\":{\"callback\":null},\"id\":\"2318\",\"type\":\"DataRange1d\"},{\"attributes\":{\"line_color\":\"purple\",\"x\":{\"field\":\"x\"},\"y\":{\"field\":\"d\"}},\"id\":\"2390\",\"type\":\"Line\"},{\"attributes\":{},\"id\":\"2320\",\"type\":\"LinearScale\"},{\"attributes\":{\"line_color\":\"green\",\"x\":{\"field\":\"x\"},\"y\":{\"field\":\"c\"}},\"id\":\"2284\",\"type\":\"Line\"},{\"attributes\":{\"line_alpha\":0.1,\"line_color\":\"#1f77b4\",\"x\":{\"field\":\"x\"},\"y\":{\"field\":\"d\"}},\"id\":\"2391\",\"type\":\"Line\"},{\"attributes\":{},\"id\":\"2322\",\"type\":\"LinearScale\"},{\"attributes\":{\"data_source\":{\"id\":\"2312\",\"type\":\"ColumnDataSource\"},\"glyph\":{\"id\":\"2390\",\"type\":\"Line\"},\"hover_glyph\":null,\"muted_glyph\":null,\"nonselection_glyph\":{\"id\":\"2391\",\"type\":\"Line\"},\"selection_glyph\":null,\"view\":{\"id\":\"2393\",\"type\":\"CDSView\"}},\"id\":\"2392\",\"type\":\"GlyphRenderer\"},{\"attributes\":{\"axis_label\":\"T\",\"formatter\":{\"id\":\"2354\",\"type\":\"BasicTickFormatter\"},\"plot\":{\"id\":\"2314\",\"subtype\":\"Figure\",\"type\":\"Plot\"},\"ticker\":{\"id\":\"2325\",\"type\":\"BasicTicker\"}},\"id\":\"2324\",\"type\":\"LinearAxis\"},{\"attributes\":{\"source\":{\"id\":\"2312\",\"type\":\"ColumnDataSource\"}},\"id\":\"2393\",\"type\":\"CDSView\"},{\"attributes\":{},\"id\":\"2325\",\"type\":\"BasicTicker\"},{\"attributes\":{\"label\":{\"value\":\"\\u03b8 = 1.5\"},\"renderers\":[{\"id\":\"2392\",\"type\":\"GlyphRenderer\"}]},\"id\":\"2402\",\"type\":\"LegendItem\"},{\"attributes\":{\"plot\":{\"id\":\"2314\",\"subtype\":\"Figure\",\"type\":\"Plot\"},\"ticker\":{\"id\":\"2325\",\"type\":\"BasicTicker\"}},\"id\":\"2328\",\"type\":\"Grid\"},{\"attributes\":{\"axis_label\":\"Savings rate\",\"formatter\":{\"id\":\"2356\",\"type\":\"BasicTickFormatter\"},\"plot\":{\"id\":\"2314\",\"subtype\":\"Figure\",\"type\":\"Plot\"},\"ticker\":{\"id\":\"2330\",\"type\":\"BasicTicker\"}},\"id\":\"2329\",\"type\":\"LinearAxis\"},{\"attributes\":{},\"id\":\"2330\",\"type\":\"BasicTicker\"},{\"attributes\":{\"dimension\":1,\"plot\":{\"id\":\"2314\",\"subtype\":\"Figure\",\"type\":\"Plot\"},\"ticker\":{\"id\":\"2330\",\"type\":\"BasicTicker\"}},\"id\":\"2333\",\"type\":\"Grid\"},{\"attributes\":{\"line_alpha\":0.1,\"line_color\":\"#1f77b4\",\"x\":{\"field\":\"x\"},\"y\":{\"field\":\"b\"}},\"id\":\"2363\",\"type\":\"Line\"},{\"attributes\":{},\"id\":\"2334\",\"type\":\"PanTool\"},{\"attributes\":{},\"id\":\"2335\",\"type\":\"WheelZoomTool\"},{\"attributes\":{\"overlay\":{\"id\":\"2342\",\"type\":\"BoxAnnotation\"}},\"id\":\"2336\",\"type\":\"BoxZoomTool\"},{\"attributes\":{\"callback\":null,\"tooltips\":[[\"T\",\"@x{0,0.00}\"],[\"Savings rate for \\u03b8 = 0.3\",\"@a{0.00}\"],[\"Savings rate for \\u03b8 = 0.5\",\"@b{0.00}\"],[\"Savings rate for \\u03b8 = 0.7\",\"@c{0.00}\"],[\"Savings rate for \\u03b8 = 1.5\",\"@d{0.00}\"]]},\"id\":\"2311\",\"type\":\"HoverTool\"},{\"attributes\":{},\"id\":\"2337\",\"type\":\"ResetTool\"},{\"attributes\":{},\"id\":\"2338\",\"type\":\"SaveTool\"},{\"attributes\":{\"active_drag\":\"auto\",\"active_inspect\":\"auto\",\"active_multi\":null,\"active_scroll\":\"auto\",\"active_tap\":\"auto\",\"tools\":[{\"id\":\"2311\",\"type\":\"HoverTool\"},{\"id\":\"2334\",\"type\":\"PanTool\"},{\"id\":\"2335\",\"type\":\"WheelZoomTool\"},{\"id\":\"2336\",\"type\":\"BoxZoomTool\"},{\"id\":\"2337\",\"type\":\"ResetTool\"},{\"id\":\"2338\",\"type\":\"SaveTool\"}]},\"id\":\"2339\",\"type\":\"Toolbar\"},{\"attributes\":{\"line_color\":\"red\",\"x\":{\"field\":\"x\"},\"y\":{\"field\":\"a\"}},\"id\":\"2349\",\"type\":\"Line\"},{\"attributes\":{\"bottom_units\":\"screen\",\"fill_alpha\":{\"value\":0.5},\"fill_color\":{\"value\":\"lightgrey\"},\"left_units\":\"screen\",\"level\":\"overlay\",\"line_alpha\":{\"value\":1.0},\"line_color\":{\"value\":\"black\"},\"line_dash\":[4,4],\"line_width\":{\"value\":2},\"plot\":null,\"render_mode\":\"css\",\"right_units\":\"screen\",\"top_units\":\"screen\"},\"id\":\"2342\",\"type\":\"BoxAnnotation\"},{\"attributes\":{\"line_alpha\":0.1,\"line_color\":\"#1f77b4\",\"x\":{\"field\":\"x\"},\"y\":{\"field\":\"a\"}},\"id\":\"2350\",\"type\":\"Line\"},{\"attributes\":{\"data_source\":{\"id\":\"2312\",\"type\":\"ColumnDataSource\"},\"glyph\":{\"id\":\"2349\",\"type\":\"Line\"},\"hover_glyph\":null,\"muted_glyph\":null,\"nonselection_glyph\":{\"id\":\"2350\",\"type\":\"Line\"},\"selection_glyph\":null,\"view\":{\"id\":\"2352\",\"type\":\"CDSView\"}},\"id\":\"2351\",\"type\":\"GlyphRenderer\"},{\"attributes\":{\"source\":{\"id\":\"2312\",\"type\":\"ColumnDataSource\"}},\"id\":\"2352\",\"type\":\"CDSView\"},{\"attributes\":{\"callback\":null,\"data\":{\"a\":{\"__ndarray__\":\"AAAAAAAANEAPDs2WZdkyQNnjwbq+wzFAZBiNbhHAMEADDCtLAcUvQAdCEbuSTC5Ag+8pHBUMLUAS0sQDoforQNQQuuXbECtAxq6VRbFIKkDCOeVcDZ0pQB0C6WOTCSlAv/Yt58GKKEAb5vSOnR0oQBMTdeeWvydAkuo79IRuJ0Ao8vpvkignQBYajZYs7CZA0Sa+cP63JkAyzqyb5YomQFBBjcvkYyZAkz0toCVCJkCXhkvg8yQmQEDnnD+vCyZAF5aTPs71JUBuyu692uIlQJWLviBv0iVAHB1D4zPEJUAdAUhP4LclQEyOWaoyrSVAFrCCHPKjJUDJdjKR7ZslQG+BNaH6lCVATIYupfSOJUA8WUbqu4klQOaL2wM1hSVA8qvWNUiBJUApuPzz4H0lQB3NLXPteiVAl5z4SV54JUD6+1AeJnYlQOKfjF45dCVA7hMQBI5yJUDhnVFeG3ElQNEBCuXZbyVA8aGVEMNuJUCXhqw30W0lQEuHtnH/bCVA7PMafUlsJUDtcgGpq2slQHbnDMIiayVAOpWpAaxqJUBiyZX/RGolQLlnWKXraSVAqyNjI55pJUDlI6fnWmklQFOKapUgaSVAFQY0/u1oJUBZV6cbwmglQGOnMgqcaCVAAuRwBHtoJUCDBilfXmglQBFm1YVFaCVAwf6g9y9oJUDO/8pEHWglQLIKYwwNaCVAS1tS+v5nJUALo6fF8mclQH68HC/oZyVA5onO/95nJUDFViAI12clQI32xB7QZyVA457oH8pnJUACJnfsxGclQHvhemnAZyVAFuGQf7xnJUD6sG8auWclQBAufii2ZyVAP0t4mrNnJUBH7h9jsWclQANK+HavZyVA01EKzK1nJUC9EbFZrGclQCvfbBirZyVAEHq8AapnJUD5VPsPqWclQBhVRD6oZyVAzXJYiKdnJUD9tojqpmclQEkjo2GmZyVA+SHi6qVnJUDrJ96DpWclQPQ9gSqlZyVAGzH83KRnJUCkMb2ZpGclQFiwZ1+kZyVAw0/NLKRnJUD7xOcApGclQASI09qjZyVAeTjLuaNnJUB1niOdo2clQBkzSISjZyVAqh64bqNnJUC+nANco2clQOu4yUujZyVAL1i2PaNnJUANhYAxo2clQFT16CajZyVAGsK4HaNnJUAiS8AVo2clQAVA1g6jZyVADcrWCKNnJUBr0qIDo2clQBthH/+iZyVADxE1+6JnJUD6ls/3omclQBFY3fSiZyVA0g5P8qJnJUDeexfwomclQEchK+6iZyVABQeA7KJnJUBIhw3romclQKUhzOmiZyVANFS16KJnJUDVecPnomclQO6s8eaiZyVABq475qJnJUDHzZ3lomclQN/ZFOWiZyVAbQye5KJnJUCn/TbkomclQF+X3eOiZyVAMAqQ46JnJUAhxEzjomclQIJoEuOiZyVA0cjf4qJnJUCp3rPiomclQG7GjeKiZyVAprps4qJnJUAKEFDiomclQAIyN+KiZyVAqp8h4qJnJUAw6Q7iomclQJit/uGiZyVAvZjw4aJnJUCiYeThomclQPTI2eGiZyVAypfQ4aJnJUB9nsjhomclQLezweGiZyVA\",\"dtype\":\"float64\",\"shape\":[150]},\"b\":{\"__ndarray__\":\"AAAAAAAANEDOEbzMiu4yQM+Vhth5/TFAq3vFlbwoMUAiPch4zmwwQCX1wFFDjS9A+DprRiBnLkAGbPICmmItQK32KWKJeyxAZ/5zRFuuK0DSW4wOIvgqQD9TKCApVipAUn9iXhjGKUA4l2nS4EUpQEaV0zqy0yhAyTl9KvNtKEC+I9W6QhMoQOkL+MtgwidAS6Vo0zR6J0DigdQ2yTknQIoNfXlDACdA1pSpmOXMJkDk11BaKZ8mQJ2oPi5rdiZA+1aPJhtSJkBAuwTTrjEmQBKawBq1FCZA9II16M36JUClYTcKpOMlQPLW2+LrziVAbr8W22K8JUDxm9lk0KslQMC1FIT+nCVA4eAeL72PJUBIEaif4YMlQL5bMrlFeSVAMSEqgsdvJUDk0SWtSGclQMXBMjCuXyVAlVNi6N9YJUA6CgxIyFIlQF0LcA5UTSVA0BaUB3JIJUCGX1zTEkQlQOA8A7MoQCVAp00vXKc8JUCtLQDRgzklQAvyfjy0NiVAE8rx0i80JUC+JTdA7zElQIk05F/rLyVA87c+yx0uJUAk/PbIgCwlQI/NrzoPKyVA1uuDjMQpJUDz5lCmnCglQAm6ld6TJyVAiRe57qYmJUBHTpDo0iUlQGYNBC0VJSVAZyi0Y2skJUB/5X5z0yMlQFZl03tLIyVAwl+5ztEiJUCr0HrrZCIlQD9L3nkDIiVAsIjiRawhJUCkce07XiElQE9cYmUYISVAk4qU5dkgJUDsHwz3oSAlQHLSFOlvICVAYomOHUMgJUDa7/gGGyAlQN/Asyb3HyVA9TpuC9cfJUAAwcBPuh8lQCE17JigHyVAERO7lYkfJUAgu4D9dB8lQGi/M49iHyVAxFqgEFIfJUAehrBNQx8lQFFlxxc2HyVAYwIuRSofJUDdhI+wHx8lQBFEgzgWHyVALj8jvw0fJUBLra0pBh8lQKJ6MGD/HiVA16c9TfkeJUAWnKfd8x4lQBiURADvHiVAsm64peoeJUB8K0TA5h4lQGuCmkPjHiVAJgu5JOAeJUBQecVZ3R4lQAeA7tnaHiVAP/pPndgeJUAIANqc1h4lQBmaOtLUHiVAGM3JN9MeJUC7vXfI0R4lQCu1vH/QHiVAYdOKWc8eJUAuQkFSzh4lQJfAoGbNHiVARWLBk8weJUDAYgnXyx4lQF3vJC7LHiVAHM7+lsoeJUAXyrkPyh4lQNbQqpbJHiVA8q1TKskeJUBgVF7JyB4lQHummHLIHiVAkK/wJMgeJUDtQnHfxx4lQMf1PqHHHiVAiWqVacceJUDQ5MQ3xx4lQJkeMAvHHiVAu1dK48YeJUB7mZW/xh4lQOgooZ/GHiVA6CIIg8YeJUC5PXBpxh4lQN2riFLGHiVAAx0JPsYeJUC02bArxh4lQAL3RRvGHiVAsp+UDMYeJUCKcG7/xR4lQOzlqfPFHiVAuNgh6cUeJUAGCbXfxR4lQC61RdfFHiVAzju5z8UeJUDAx/fIxR4lQNUE7MLFHiVAf9yCvcUeJUCOOau4xR4lQEfSVbTFHiVAFPh0sMUeJUBXbPysxR4lQMg54anFHiVA0pEZp8UeJUCkrZykxR4lQHeyYqLFHiVA\",\"dtype\":\"float64\",\"shape\":[150]},\"c\":{\"__ndarray__\":\"AAAAAAAANED53wUeLhQzQKzY9svuPzJAcs5KeceAMUAwUYypg9QwQFPQs2otOTBAsQNn7ApaL0CW3eLPCF0uQLxwYt2leC1AriRx+USqLEBuJ10jre8rQGEbCJniRitAtGWDhCGuKkC+O5ew1SMqQOoFq8CTpilAEBexzBU1KUCG37t+Ns4oQMmXcPXscChA3uIk8FAcKEDutLG5i88nQH32pjrfiSdAOihiF55KJ0DylE1ELxEnQIbbNAgD3SZA5Fd/X5+tJkD1Ge62kIImQL+yp9ZtWyZARi2Y9No3JkASSFmJhRcmQGN0c8sf+iVAJL52m2PfJUDMjGazEcclQEv1b63ysCVAHNKildScJUAF6UYQiIolQEOjhEfieSVA6/92drxqJUD+IRGB81wlQGhKR5dnUCVA9JQh4vtEJUBNI405ljolQATW5+EeMSVAOXvCOIEoJUCLbUocqiAlQMY+qIiHGSVAiM6gIgkTJUBCQ3MPIA0lQK9krtC+ByVAr8aRI9kCJUAcupvjY/4kQMnf7+9U+iRAALxLE6P2JEBW+UbuRfMkQPNSpOM18CRA2IR+BmztJEDeQiIK4uokQHIvazOS6CRAdy9+S3fmJEC+XL+TjOQkQP5L5brN4iRAt2wO0zbhJEC5BMBIxN8kQJa4uNpy3iRAUL+Ckj/dJEDD0bO9J9wkQGakyuco2yRAS0qb1EDaJEBMRz17bdkkQGhabwGt2CRAxytmt/3XJECLD/wTXtckQHP6OLHM1iRAHJoqSUjWJED1QgWzz9UkQEwTh+Bh1SRAIUiX2/3UJEBCThzEotQkQKmaA85P1CRAu8l2PwTUJEBN7jlvv9MkQPxYL8OA0yRAOXf9rkfTJEDet9OyE9MkQMuqS1rk0iRAf9FjO7nSJEDY0ZH1kdIkQEfx6TBu0iRAi+9ZnU3SJED8g/XxL9IkQLPoUuwU0iRAKQP2T/zRJEAf28jl5dEkQMcuoHvR0SRAkg7L477RJEDWg6z0rdEkQF9cXoie0SRAdklcfJDRJEDJkzaxg9EkQKG2Swp40SRAdkSIbW3RJED1hCzDY9EkQJlJl/Va0SRAiIEV8VLRJEApILajS9EkQI7zIf1E0SRAshB37j7RJECYgydqOdEkQJj42mM00SRA7xpT0C/RJECaalKlK9EkQDBRhdkn0SRAakJtZCTRJEB3uU0+IdEkQKzoGmAe0SRAzfRpwxvRJECAmGJiGdEkQOIPsjcX0SRA5i5/PhXRJEDWh19yE9EkQLWJTc8R0SRAT4CfURDRJEDnYf/1DtEkQB9YY7kN0SRAafMGmQzRJEDG+WSSC9EkQPTCMaMK0SRAeRVWyQnRJED+eOoCCdEkQIbzMk4I0SRA+CebqQfRJEBUzbITB9EkQJt2KosG0SRARKTQDgbRJECmGI+dBdEkQGVpaDYF0SRAX8h12ATRJEBF/+SCBNEkQDiZ9jQE0SRAXzb87QPRJEDGBVetA9EkQPJhdnID0SRAR43WPAPRJEA3i/8LA9EkQNIThN8C0SRAN58AtwLRJEDihhqSAtEkQNg6f3AC0SRA6ojjUQLRJEBy9AI2AtEkQBkdnxwC0SRA\",\"dtype\":\"float64\",\"shape\":[150]},\"d\":{\"__ndarray__\":\"AAAAAAAANED7uzPh0k4zQEsCp0JRqjJA1HLMRp8RMkCzb+/2uoMxQDF9QPjV/zBAJWK+0DGFMECpac/1HxMwQDh8VJb3US9Azg2Sn1+MLkA6ia08YNQtQB56Gtb6KC1Ahp+rhk2JLEB+6ARRgvQrQC5ht+fRaStALqg2MYToKkAvleeT7m8qQCmMoQVz/ylAbIlS636WKUCEGG9WjDQpQB4BvVAe2ShAbqK7Y7+DKEDv+j4HBzQoQABKTWKP6SdA1OlFh/6jJ0AOWfBv/GInQEAvzL88JidA47pKyHPtJkDDnnYkb7gmQLGN8BMAhyZApaG1Y+VYJkCS5iHe2S0mQFTLOTacBSZAxfO5lfvfJUDHob+1yrwlQHU1IoPhmyVAbivs9hl9JUAuyvl2T2AlQHdHWANgRSVAdoWoAiwsJUCF6rcLlxQlQJ+xte+G/iRAjWCR9eHpJECrWkEskNYkQN5S00h7xCRAFgNGh46zJEClpuqNtqMkQNZjE1PhlCRAGEUXqf6GJEDICImJ/3kkQMbnByXVbSRAYZJ7qnFiJEDQHSM1yFckQOwhArzMTSRARHaOAnREJEDLx4OKszskQCfAxIaBMyRAfbUzz9QrJEBQ3G7VpCQkQBzEXZrpHSRAbId/pJsXJEBBj+r2sxEkQLAb8AgsDCRA2fRWvv0GJEDluiFgIwIkQHpF1pWX/SNAGpnpBFT5I0AQMONWU/UjQFnkq2yR8SNA9a7gaAruI0Auj6aruuojQDOpxM6e5yNA8rj/obPkI0B6VLIn9uEjQGDQnZFj3yNA0ufvPfncI0A+k3m0tNojQGS7E6ST2CNAWLQu4JPWI0CtpIles9QjQDUxDzXw0iNA8/XUl0jRI0BKgTvXus8jQFavLF5FziNAYGl2sObMI0Ba8D9pncsjQK35lzloyiNAqgMa50XJI0DdYqlKNcgjQAyjQE81xyNA3e7T8ETGI0ATR0U7Y8UjQC5naUmPxCNANUgcRMjDI0BaRGRhDcMjQNLuouNdwiNAfcLSGLnBI0CC2NBZHsEjQF/lsQmNwCNAXschlQTAI0AQ/cxxhL8jQEhl0x0MvyNAL7RDH5u+I0CWEp8DMb4jQEplZF/NvSNAucKizW+9I0C2pJLvF70jQGhrNWzFvCNATc3673e8I0BW1mssL7wjQCke29fquyNAIuMZraq7I0CXvDFrbrsjQA6cItU1uyNAW9mksQC7I0DpCe/KzrojQGlnf+6fuiNA6Y3o7HO6I0CoXKGZSrojQGXI18ojuiNA6nBGWf+5I0BUzgwg3bkjQIDNify8uSNATrU4zp65I0D0MJB2grkjQKpd49hnuSNAM7xE2k65I0CY6GphN7kjQEX8llYhuSNAeIB8owy5I0CK2Coz+bgjQAQN+PHmuCNAAeJszdW4I0CSJDK0xbgjQCUc/5W2uCNAEg6JY6i4I0CmwnMOm7gjQMn7QomOuCNApM5Mx4K4I0Be0qy8d7gjQN8WOF5tuCNAeNdxoWO4I0D33YB8WrgjQFGLJeZRuCNA2nuw1Um4I0CCvflCQrgjQDqPWCY7uCNAF6GbeDS4I0BezQEzLrgjQCBDM08ouCNA\",\"dtype\":\"float64\",\"shape\":[150]},\"x\":[0,1,2,3,4,5,6,7,8,9,10,11,12,13,14,15,16,17,18,19,20,21,22,23,24,25,26,27,28,29,30,31,32,33,34,35,36,37,38,39,40,41,42,43,44,45,46,47,48,49,50,51,52,53,54,55,56,57,58,59,60,61,62,63,64,65,66,67,68,69,70,71,72,73,74,75,76,77,78,79,80,81,82,83,84,85,86,87,88,89,90,91,92,93,94,95,96,97,98,99,100,101,102,103,104,105,106,107,108,109,110,111,112,113,114,115,116,117,118,119,120,121,122,123,124,125,126,127,128,129,130,131,132,133,134,135,136,137,138,139,140,141,142,143,144,145,146,147,148,149]},\"selected\":{\"id\":\"2279\",\"type\":\"Selection\"},\"selection_policy\":{\"id\":\"2280\",\"type\":\"UnionRenderers\"}},\"id\":\"2220\",\"type\":\"ColumnDataSource\"},{\"attributes\":{\"below\":[{\"id\":\"2232\",\"type\":\"LinearAxis\"}],\"left\":[{\"id\":\"2237\",\"type\":\"LinearAxis\"}],\"plot_height\":500,\"plot_width\":400,\"renderers\":[{\"id\":\"2232\",\"type\":\"LinearAxis\"},{\"id\":\"2236\",\"type\":\"Grid\"},{\"id\":\"2237\",\"type\":\"LinearAxis\"},{\"id\":\"2241\",\"type\":\"Grid\"},{\"id\":\"2250\",\"type\":\"BoxAnnotation\"},{\"id\":\"2267\",\"type\":\"Legend\"},{\"id\":\"2259\",\"type\":\"GlyphRenderer\"},{\"id\":\"2272\",\"type\":\"GlyphRenderer\"},{\"id\":\"2286\",\"type\":\"GlyphRenderer\"},{\"id\":\"2300\",\"type\":\"GlyphRenderer\"}],\"title\":{\"id\":\"2221\",\"type\":\"Title\"},\"toolbar\":{\"id\":\"2247\",\"type\":\"Toolbar\"},\"x_range\":{\"id\":\"2224\",\"type\":\"DataRange1d\"},\"x_scale\":{\"id\":\"2228\",\"type\":\"LinearScale\"},\"y_range\":{\"id\":\"2226\",\"type\":\"DataRange1d\"},\"y_scale\":{\"id\":\"2230\",\"type\":\"LinearScale\"}},\"id\":\"2222\",\"subtype\":\"Figure\",\"type\":\"Plot\"},{\"attributes\":{\"plot\":null,\"text\":\"Evolution of the capita pr. capita for different values of \\u03b8\"},\"id\":\"2221\",\"type\":\"Title\"},{\"attributes\":{\"callback\":null},\"id\":\"2224\",\"type\":\"DataRange1d\"},{\"attributes\":{\"callback\":null},\"id\":\"2226\",\"type\":\"DataRange1d\"},{\"attributes\":{},\"id\":\"2228\",\"type\":\"LinearScale\"},{\"attributes\":{},\"id\":\"2230\",\"type\":\"LinearScale\"},{\"attributes\":{\"axis_label\":\"T\",\"formatter\":{\"id\":\"2262\",\"type\":\"BasicTickFormatter\"},\"plot\":{\"id\":\"2222\",\"subtype\":\"Figure\",\"type\":\"Plot\"},\"ticker\":{\"id\":\"2233\",\"type\":\"BasicTicker\"}},\"id\":\"2232\",\"type\":\"LinearAxis\"},{\"attributes\":{},\"id\":\"2233\",\"type\":\"BasicTicker\"},{\"attributes\":{\"plot\":{\"id\":\"2222\",\"subtype\":\"Figure\",\"type\":\"Plot\"},\"ticker\":{\"id\":\"2233\",\"type\":\"BasicTicker\"}},\"id\":\"2236\",\"type\":\"Grid\"},{\"attributes\":{\"axis_label\":\"Capital pr. capita\",\"formatter\":{\"id\":\"2264\",\"type\":\"BasicTickFormatter\"},\"plot\":{\"id\":\"2222\",\"subtype\":\"Figure\",\"type\":\"Plot\"},\"ticker\":{\"id\":\"2238\",\"type\":\"BasicTicker\"}},\"id\":\"2237\",\"type\":\"LinearAxis\"},{\"attributes\":{},\"id\":\"2238\",\"type\":\"BasicTicker\"},{\"attributes\":{\"dimension\":1,\"plot\":{\"id\":\"2222\",\"subtype\":\"Figure\",\"type\":\"Plot\"},\"ticker\":{\"id\":\"2238\",\"type\":\"BasicTicker\"}},\"id\":\"2241\",\"type\":\"Grid\"},{\"attributes\":{},\"id\":\"2280\",\"type\":\"UnionRenderers\"},{\"attributes\":{},\"id\":\"2242\",\"type\":\"PanTool\"},{\"attributes\":{},\"id\":\"2243\",\"type\":\"WheelZoomTool\"},{\"attributes\":{\"overlay\":{\"id\":\"2250\",\"type\":\"BoxAnnotation\"}},\"id\":\"2244\",\"type\":\"BoxZoomTool\"},{\"attributes\":{},\"id\":\"2245\",\"type\":\"ResetTool\"},{\"attributes\":{},\"id\":\"2246\",\"type\":\"SaveTool\"},{\"attributes\":{\"active_drag\":\"auto\",\"active_inspect\":\"auto\",\"active_multi\":null,\"active_scroll\":\"auto\",\"active_tap\":\"auto\",\"tools\":[{\"id\":\"2219\",\"type\":\"HoverTool\"},{\"id\":\"2242\",\"type\":\"PanTool\"},{\"id\":\"2243\",\"type\":\"WheelZoomTool\"},{\"id\":\"2244\",\"type\":\"BoxZoomTool\"},{\"id\":\"2245\",\"type\":\"ResetTool\"},{\"id\":\"2246\",\"type\":\"SaveTool\"}]},\"id\":\"2247\",\"type\":\"Toolbar\"},{\"attributes\":{\"line_color\":\"red\",\"x\":{\"field\":\"x\"},\"y\":{\"field\":\"a\"}},\"id\":\"2257\",\"type\":\"Line\"},{\"attributes\":{\"bottom_units\":\"screen\",\"fill_alpha\":{\"value\":0.5},\"fill_color\":{\"value\":\"lightgrey\"},\"left_units\":\"screen\",\"level\":\"overlay\",\"line_alpha\":{\"value\":1.0},\"line_color\":{\"value\":\"black\"},\"line_dash\":[4,4],\"line_width\":{\"value\":2},\"plot\":null,\"render_mode\":\"css\",\"right_units\":\"screen\",\"top_units\":\"screen\"},\"id\":\"2250\",\"type\":\"BoxAnnotation\"},{\"attributes\":{\"line_alpha\":0.1,\"line_color\":\"#1f77b4\",\"x\":{\"field\":\"x\"},\"y\":{\"field\":\"a\"}},\"id\":\"2258\",\"type\":\"Line\"},{\"attributes\":{\"data_source\":{\"id\":\"2220\",\"type\":\"ColumnDataSource\"},\"glyph\":{\"id\":\"2257\",\"type\":\"Line\"},\"hover_glyph\":null,\"muted_glyph\":null,\"nonselection_glyph\":{\"id\":\"2258\",\"type\":\"Line\"},\"selection_glyph\":null,\"view\":{\"id\":\"2260\",\"type\":\"CDSView\"}},\"id\":\"2259\",\"type\":\"GlyphRenderer\"},{\"attributes\":{\"source\":{\"id\":\"2312\",\"type\":\"ColumnDataSource\"}},\"id\":\"2365\",\"type\":\"CDSView\"},{\"attributes\":{\"source\":{\"id\":\"2220\",\"type\":\"ColumnDataSource\"}},\"id\":\"2260\",\"type\":\"CDSView\"},{\"attributes\":{},\"id\":\"2262\",\"type\":\"BasicTickFormatter\"},{\"attributes\":{},\"id\":\"2264\",\"type\":\"BasicTickFormatter\"},{\"attributes\":{\"callback\":null,\"tooltips\":[[\"T\",\"@x{0,0.00}\"],[\"Capital pr. capita for \\u03b8 = 0.3\",\"@a{0.00}\"],[\"Capital pr. capita for \\u03b8 = 0.5\",\"@b{0.00}\"],[\"Capital pr. capita for \\u03b8 = 0.7\",\"@c{0.00}\"],[\"Capital pr. capita for \\u03b8 = 1.5\",\"@d{0.00}\"]]},\"id\":\"2219\",\"type\":\"HoverTool\"},{\"attributes\":{\"items\":[{\"id\":\"2268\",\"type\":\"LegendItem\"},{\"id\":\"2282\",\"type\":\"LegendItem\"},{\"id\":\"2296\",\"type\":\"LegendItem\"},{\"id\":\"2310\",\"type\":\"LegendItem\"}],\"location\":\"bottom_center\",\"plot\":{\"id\":\"2222\",\"subtype\":\"Figure\",\"type\":\"Plot\"}},\"id\":\"2267\",\"type\":\"Legend\"},{\"attributes\":{\"label\":{\"value\":\"\\u03b8 = 0.3\"},\"renderers\":[{\"id\":\"2259\",\"type\":\"GlyphRenderer\"}]},\"id\":\"2268\",\"type\":\"LegendItem\"},{\"attributes\":{\"label\":{\"value\":\"\\u03b8 = 0.5\"},\"renderers\":[{\"id\":\"2272\",\"type\":\"GlyphRenderer\"}]},\"id\":\"2282\",\"type\":\"LegendItem\"},{\"attributes\":{},\"id\":\"2279\",\"type\":\"Selection\"},{\"attributes\":{\"line_color\":\"blue\",\"x\":{\"field\":\"x\"},\"y\":{\"field\":\"b\"}},\"id\":\"2270\",\"type\":\"Line\"},{\"attributes\":{\"line_alpha\":0.1,\"line_color\":\"#1f77b4\",\"x\":{\"field\":\"x\"},\"y\":{\"field\":\"b\"}},\"id\":\"2271\",\"type\":\"Line\"},{\"attributes\":{\"data_source\":{\"id\":\"2220\",\"type\":\"ColumnDataSource\"},\"glyph\":{\"id\":\"2270\",\"type\":\"Line\"},\"hover_glyph\":null,\"muted_glyph\":null,\"nonselection_glyph\":{\"id\":\"2271\",\"type\":\"Line\"},\"selection_glyph\":null,\"view\":{\"id\":\"2273\",\"type\":\"CDSView\"}},\"id\":\"2272\",\"type\":\"GlyphRenderer\"},{\"attributes\":{\"source\":{\"id\":\"2220\",\"type\":\"ColumnDataSource\"}},\"id\":\"2273\",\"type\":\"CDSView\"}],\"root_ids\":[\"2622\"]},\"title\":\"Bokeh Application\",\"version\":\"1.0.2\"}};\n",
       "  var render_items = [{\"docid\":\"f3d82199-c97f-41d1-afcc-032b16f2f853\",\"notebook_comms_target\":\"2711\",\"roots\":{\"2622\":\"b03a140e-fcc9-4b98-93e0-24e255b2ecc1\"}}];\n",
       "  root.Bokeh.embed.embed_items_notebook(docs_json, render_items);\n",
       "\n",
       "  }\n",
       "  if (root.Bokeh !== undefined) {\n",
       "    embed_document(root);\n",
       "  } else {\n",
       "    var attempts = 0;\n",
       "    var timer = setInterval(function(root) {\n",
       "      if (root.Bokeh !== undefined) {\n",
       "        embed_document(root);\n",
       "        clearInterval(timer);\n",
       "      }\n",
       "      attempts++;\n",
       "      if (attempts > 100) {\n",
       "        console.log(\"Bokeh: ERROR: Unable to run BokehJS code because BokehJS library is missing\");\n",
       "        clearInterval(timer);\n",
       "      }\n",
       "    }, 10, root)\n",
       "  }\n",
       "})(window);"
      ],
      "application/vnd.bokehjs_exec.v0+json": ""
     },
     "metadata": {
      "application/vnd.bokehjs_exec.v0+json": {
       "id": "2622"
      }
     },
     "output_type": "display_data"
    },
    {
     "data": {
      "text/html": [
       "<p><code>&lt;Bokeh Notebook handle for <strong>In[18]</strong>&gt;</code></p>"
      ],
      "text/plain": [
       "<bokeh.io.notebook.CommsHandle at 0x11b59f400>"
      ]
     },
     "execution_count": 18,
     "metadata": {},
     "output_type": "execute_result"
    }
   ],
   "source": [
    "show(row(p1,p2),notebook_handle=True)\n",
    "show(row(p3,p4),notebook_handle=True)"
   ]
  }
 ],
 "metadata": {
  "kernelspec": {
   "display_name": "Python 3",
   "language": "python",
   "name": "python3"
  },
  "language_info": {
   "codemirror_mode": {
    "name": "ipython",
    "version": 3
   },
   "file_extension": ".py",
   "mimetype": "text/x-python",
   "name": "python",
   "nbconvert_exporter": "python",
   "pygments_lexer": "ipython3",
   "version": "3.7.1"
  }
 },
 "nbformat": 4,
 "nbformat_minor": 2
}
