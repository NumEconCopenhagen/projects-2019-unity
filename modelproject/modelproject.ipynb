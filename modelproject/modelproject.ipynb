{
 "cells": [
  {
   "cell_type": "code",
   "execution_count": 1,
   "metadata": {},
   "outputs": [
    {
     "data": {
      "text/html": [
       "\n",
       "    <div class=\"bk-root\">\n",
       "        <a href=\"https://bokeh.pydata.org\" target=\"_blank\" class=\"bk-logo bk-logo-small bk-logo-notebook\"></a>\n",
       "        <span id=\"1001\">Loading BokehJS ...</span>\n",
       "    </div>"
      ]
     },
     "metadata": {},
     "output_type": "display_data"
    },
    {
     "data": {
      "application/javascript": [
       "\n",
       "(function(root) {\n",
       "  function now() {\n",
       "    return new Date();\n",
       "  }\n",
       "\n",
       "  var force = true;\n",
       "\n",
       "  if (typeof (root._bokeh_onload_callbacks) === \"undefined\" || force === true) {\n",
       "    root._bokeh_onload_callbacks = [];\n",
       "    root._bokeh_is_loading = undefined;\n",
       "  }\n",
       "\n",
       "  var JS_MIME_TYPE = 'application/javascript';\n",
       "  var HTML_MIME_TYPE = 'text/html';\n",
       "  var EXEC_MIME_TYPE = 'application/vnd.bokehjs_exec.v0+json';\n",
       "  var CLASS_NAME = 'output_bokeh rendered_html';\n",
       "\n",
       "  /**\n",
       "   * Render data to the DOM node\n",
       "   */\n",
       "  function render(props, node) {\n",
       "    var script = document.createElement(\"script\");\n",
       "    node.appendChild(script);\n",
       "  }\n",
       "\n",
       "  /**\n",
       "   * Handle when an output is cleared or removed\n",
       "   */\n",
       "  function handleClearOutput(event, handle) {\n",
       "    var cell = handle.cell;\n",
       "\n",
       "    var id = cell.output_area._bokeh_element_id;\n",
       "    var server_id = cell.output_area._bokeh_server_id;\n",
       "    // Clean up Bokeh references\n",
       "    if (id != null && id in Bokeh.index) {\n",
       "      Bokeh.index[id].model.document.clear();\n",
       "      delete Bokeh.index[id];\n",
       "    }\n",
       "\n",
       "    if (server_id !== undefined) {\n",
       "      // Clean up Bokeh references\n",
       "      var cmd = \"from bokeh.io.state import curstate; print(curstate().uuid_to_server['\" + server_id + \"'].get_sessions()[0].document.roots[0]._id)\";\n",
       "      cell.notebook.kernel.execute(cmd, {\n",
       "        iopub: {\n",
       "          output: function(msg) {\n",
       "            var id = msg.content.text.trim();\n",
       "            if (id in Bokeh.index) {\n",
       "              Bokeh.index[id].model.document.clear();\n",
       "              delete Bokeh.index[id];\n",
       "            }\n",
       "          }\n",
       "        }\n",
       "      });\n",
       "      // Destroy server and session\n",
       "      var cmd = \"import bokeh.io.notebook as ion; ion.destroy_server('\" + server_id + \"')\";\n",
       "      cell.notebook.kernel.execute(cmd);\n",
       "    }\n",
       "  }\n",
       "\n",
       "  /**\n",
       "   * Handle when a new output is added\n",
       "   */\n",
       "  function handleAddOutput(event, handle) {\n",
       "    var output_area = handle.output_area;\n",
       "    var output = handle.output;\n",
       "\n",
       "    // limit handleAddOutput to display_data with EXEC_MIME_TYPE content only\n",
       "    if ((output.output_type != \"display_data\") || (!output.data.hasOwnProperty(EXEC_MIME_TYPE))) {\n",
       "      return\n",
       "    }\n",
       "\n",
       "    var toinsert = output_area.element.find(\".\" + CLASS_NAME.split(' ')[0]);\n",
       "\n",
       "    if (output.metadata[EXEC_MIME_TYPE][\"id\"] !== undefined) {\n",
       "      toinsert[toinsert.length - 1].firstChild.textContent = output.data[JS_MIME_TYPE];\n",
       "      // store reference to embed id on output_area\n",
       "      output_area._bokeh_element_id = output.metadata[EXEC_MIME_TYPE][\"id\"];\n",
       "    }\n",
       "    if (output.metadata[EXEC_MIME_TYPE][\"server_id\"] !== undefined) {\n",
       "      var bk_div = document.createElement(\"div\");\n",
       "      bk_div.innerHTML = output.data[HTML_MIME_TYPE];\n",
       "      var script_attrs = bk_div.children[0].attributes;\n",
       "      for (var i = 0; i < script_attrs.length; i++) {\n",
       "        toinsert[toinsert.length - 1].firstChild.setAttribute(script_attrs[i].name, script_attrs[i].value);\n",
       "      }\n",
       "      // store reference to server id on output_area\n",
       "      output_area._bokeh_server_id = output.metadata[EXEC_MIME_TYPE][\"server_id\"];\n",
       "    }\n",
       "  }\n",
       "\n",
       "  function register_renderer(events, OutputArea) {\n",
       "\n",
       "    function append_mime(data, metadata, element) {\n",
       "      // create a DOM node to render to\n",
       "      var toinsert = this.create_output_subarea(\n",
       "        metadata,\n",
       "        CLASS_NAME,\n",
       "        EXEC_MIME_TYPE\n",
       "      );\n",
       "      this.keyboard_manager.register_events(toinsert);\n",
       "      // Render to node\n",
       "      var props = {data: data, metadata: metadata[EXEC_MIME_TYPE]};\n",
       "      render(props, toinsert[toinsert.length - 1]);\n",
       "      element.append(toinsert);\n",
       "      return toinsert\n",
       "    }\n",
       "\n",
       "    /* Handle when an output is cleared or removed */\n",
       "    events.on('clear_output.CodeCell', handleClearOutput);\n",
       "    events.on('delete.Cell', handleClearOutput);\n",
       "\n",
       "    /* Handle when a new output is added */\n",
       "    events.on('output_added.OutputArea', handleAddOutput);\n",
       "\n",
       "    /**\n",
       "     * Register the mime type and append_mime function with output_area\n",
       "     */\n",
       "    OutputArea.prototype.register_mime_type(EXEC_MIME_TYPE, append_mime, {\n",
       "      /* Is output safe? */\n",
       "      safe: true,\n",
       "      /* Index of renderer in `output_area.display_order` */\n",
       "      index: 0\n",
       "    });\n",
       "  }\n",
       "\n",
       "  // register the mime type if in Jupyter Notebook environment and previously unregistered\n",
       "  if (root.Jupyter !== undefined) {\n",
       "    var events = require('base/js/events');\n",
       "    var OutputArea = require('notebook/js/outputarea').OutputArea;\n",
       "\n",
       "    if (OutputArea.prototype.mime_types().indexOf(EXEC_MIME_TYPE) == -1) {\n",
       "      register_renderer(events, OutputArea);\n",
       "    }\n",
       "  }\n",
       "\n",
       "  \n",
       "  if (typeof (root._bokeh_timeout) === \"undefined\" || force === true) {\n",
       "    root._bokeh_timeout = Date.now() + 5000;\n",
       "    root._bokeh_failed_load = false;\n",
       "  }\n",
       "\n",
       "  var NB_LOAD_WARNING = {'data': {'text/html':\n",
       "     \"<div style='background-color: #fdd'>\\n\"+\n",
       "     \"<p>\\n\"+\n",
       "     \"BokehJS does not appear to have successfully loaded. If loading BokehJS from CDN, this \\n\"+\n",
       "     \"may be due to a slow or bad network connection. Possible fixes:\\n\"+\n",
       "     \"</p>\\n\"+\n",
       "     \"<ul>\\n\"+\n",
       "     \"<li>re-rerun `output_notebook()` to attempt to load from CDN again, or</li>\\n\"+\n",
       "     \"<li>use INLINE resources instead, as so:</li>\\n\"+\n",
       "     \"</ul>\\n\"+\n",
       "     \"<code>\\n\"+\n",
       "     \"from bokeh.resources import INLINE\\n\"+\n",
       "     \"output_notebook(resources=INLINE)\\n\"+\n",
       "     \"</code>\\n\"+\n",
       "     \"</div>\"}};\n",
       "\n",
       "  function display_loaded() {\n",
       "    var el = document.getElementById(\"1001\");\n",
       "    if (el != null) {\n",
       "      el.textContent = \"BokehJS is loading...\";\n",
       "    }\n",
       "    if (root.Bokeh !== undefined) {\n",
       "      if (el != null) {\n",
       "        el.textContent = \"BokehJS \" + root.Bokeh.version + \" successfully loaded.\";\n",
       "      }\n",
       "    } else if (Date.now() < root._bokeh_timeout) {\n",
       "      setTimeout(display_loaded, 100)\n",
       "    }\n",
       "  }\n",
       "\n",
       "\n",
       "  function run_callbacks() {\n",
       "    try {\n",
       "      root._bokeh_onload_callbacks.forEach(function(callback) { callback() });\n",
       "    }\n",
       "    finally {\n",
       "      delete root._bokeh_onload_callbacks\n",
       "    }\n",
       "    console.info(\"Bokeh: all callbacks have finished\");\n",
       "  }\n",
       "\n",
       "  function load_libs(js_urls, callback) {\n",
       "    root._bokeh_onload_callbacks.push(callback);\n",
       "    if (root._bokeh_is_loading > 0) {\n",
       "      console.log(\"Bokeh: BokehJS is being loaded, scheduling callback at\", now());\n",
       "      return null;\n",
       "    }\n",
       "    if (js_urls == null || js_urls.length === 0) {\n",
       "      run_callbacks();\n",
       "      return null;\n",
       "    }\n",
       "    console.log(\"Bokeh: BokehJS not loaded, scheduling load and callback at\", now());\n",
       "    root._bokeh_is_loading = js_urls.length;\n",
       "    for (var i = 0; i < js_urls.length; i++) {\n",
       "      var url = js_urls[i];\n",
       "      var s = document.createElement('script');\n",
       "      s.src = url;\n",
       "      s.async = false;\n",
       "      s.onreadystatechange = s.onload = function() {\n",
       "        root._bokeh_is_loading--;\n",
       "        if (root._bokeh_is_loading === 0) {\n",
       "          console.log(\"Bokeh: all BokehJS libraries loaded\");\n",
       "          run_callbacks()\n",
       "        }\n",
       "      };\n",
       "      s.onerror = function() {\n",
       "        console.warn(\"failed to load library \" + url);\n",
       "      };\n",
       "      console.log(\"Bokeh: injecting script tag for BokehJS library: \", url);\n",
       "      document.getElementsByTagName(\"head\")[0].appendChild(s);\n",
       "    }\n",
       "  };var element = document.getElementById(\"1001\");\n",
       "  if (element == null) {\n",
       "    console.log(\"Bokeh: ERROR: autoload.js configured with elementid '1001' but no matching script tag was found. \")\n",
       "    return false;\n",
       "  }\n",
       "\n",
       "  var js_urls = [\"https://cdn.pydata.org/bokeh/release/bokeh-1.0.2.min.js\", \"https://cdn.pydata.org/bokeh/release/bokeh-widgets-1.0.2.min.js\", \"https://cdn.pydata.org/bokeh/release/bokeh-tables-1.0.2.min.js\", \"https://cdn.pydata.org/bokeh/release/bokeh-gl-1.0.2.min.js\"];\n",
       "\n",
       "  var inline_js = [\n",
       "    function(Bokeh) {\n",
       "      Bokeh.set_log_level(\"info\");\n",
       "    },\n",
       "    \n",
       "    function(Bokeh) {\n",
       "      \n",
       "    },\n",
       "    function(Bokeh) {\n",
       "      console.log(\"Bokeh: injecting CSS: https://cdn.pydata.org/bokeh/release/bokeh-1.0.2.min.css\");\n",
       "      Bokeh.embed.inject_css(\"https://cdn.pydata.org/bokeh/release/bokeh-1.0.2.min.css\");\n",
       "      console.log(\"Bokeh: injecting CSS: https://cdn.pydata.org/bokeh/release/bokeh-widgets-1.0.2.min.css\");\n",
       "      Bokeh.embed.inject_css(\"https://cdn.pydata.org/bokeh/release/bokeh-widgets-1.0.2.min.css\");\n",
       "      console.log(\"Bokeh: injecting CSS: https://cdn.pydata.org/bokeh/release/bokeh-tables-1.0.2.min.css\");\n",
       "      Bokeh.embed.inject_css(\"https://cdn.pydata.org/bokeh/release/bokeh-tables-1.0.2.min.css\");\n",
       "    }\n",
       "  ];\n",
       "\n",
       "  function run_inline_js() {\n",
       "    \n",
       "    if ((root.Bokeh !== undefined) || (force === true)) {\n",
       "      for (var i = 0; i < inline_js.length; i++) {\n",
       "        inline_js[i].call(root, root.Bokeh);\n",
       "      }if (force === true) {\n",
       "        display_loaded();\n",
       "      }} else if (Date.now() < root._bokeh_timeout) {\n",
       "      setTimeout(run_inline_js, 100);\n",
       "    } else if (!root._bokeh_failed_load) {\n",
       "      console.log(\"Bokeh: BokehJS failed to load within specified timeout.\");\n",
       "      root._bokeh_failed_load = true;\n",
       "    } else if (force !== true) {\n",
       "      var cell = $(document.getElementById(\"1001\")).parents('.cell').data().cell;\n",
       "      cell.output_area.append_execute_result(NB_LOAD_WARNING)\n",
       "    }\n",
       "\n",
       "  }\n",
       "\n",
       "  if (root._bokeh_is_loading === 0) {\n",
       "    console.log(\"Bokeh: BokehJS loaded, going straight to plotting\");\n",
       "    run_inline_js();\n",
       "  } else {\n",
       "    load_libs(js_urls, function() {\n",
       "      console.log(\"Bokeh: BokehJS plotting callback run at\", now());\n",
       "      run_inline_js();\n",
       "    });\n",
       "  }\n",
       "}(window));"
      ],
      "application/vnd.bokehjs_load.v0+json": "\n(function(root) {\n  function now() {\n    return new Date();\n  }\n\n  var force = true;\n\n  if (typeof (root._bokeh_onload_callbacks) === \"undefined\" || force === true) {\n    root._bokeh_onload_callbacks = [];\n    root._bokeh_is_loading = undefined;\n  }\n\n  \n\n  \n  if (typeof (root._bokeh_timeout) === \"undefined\" || force === true) {\n    root._bokeh_timeout = Date.now() + 5000;\n    root._bokeh_failed_load = false;\n  }\n\n  var NB_LOAD_WARNING = {'data': {'text/html':\n     \"<div style='background-color: #fdd'>\\n\"+\n     \"<p>\\n\"+\n     \"BokehJS does not appear to have successfully loaded. If loading BokehJS from CDN, this \\n\"+\n     \"may be due to a slow or bad network connection. Possible fixes:\\n\"+\n     \"</p>\\n\"+\n     \"<ul>\\n\"+\n     \"<li>re-rerun `output_notebook()` to attempt to load from CDN again, or</li>\\n\"+\n     \"<li>use INLINE resources instead, as so:</li>\\n\"+\n     \"</ul>\\n\"+\n     \"<code>\\n\"+\n     \"from bokeh.resources import INLINE\\n\"+\n     \"output_notebook(resources=INLINE)\\n\"+\n     \"</code>\\n\"+\n     \"</div>\"}};\n\n  function display_loaded() {\n    var el = document.getElementById(\"1001\");\n    if (el != null) {\n      el.textContent = \"BokehJS is loading...\";\n    }\n    if (root.Bokeh !== undefined) {\n      if (el != null) {\n        el.textContent = \"BokehJS \" + root.Bokeh.version + \" successfully loaded.\";\n      }\n    } else if (Date.now() < root._bokeh_timeout) {\n      setTimeout(display_loaded, 100)\n    }\n  }\n\n\n  function run_callbacks() {\n    try {\n      root._bokeh_onload_callbacks.forEach(function(callback) { callback() });\n    }\n    finally {\n      delete root._bokeh_onload_callbacks\n    }\n    console.info(\"Bokeh: all callbacks have finished\");\n  }\n\n  function load_libs(js_urls, callback) {\n    root._bokeh_onload_callbacks.push(callback);\n    if (root._bokeh_is_loading > 0) {\n      console.log(\"Bokeh: BokehJS is being loaded, scheduling callback at\", now());\n      return null;\n    }\n    if (js_urls == null || js_urls.length === 0) {\n      run_callbacks();\n      return null;\n    }\n    console.log(\"Bokeh: BokehJS not loaded, scheduling load and callback at\", now());\n    root._bokeh_is_loading = js_urls.length;\n    for (var i = 0; i < js_urls.length; i++) {\n      var url = js_urls[i];\n      var s = document.createElement('script');\n      s.src = url;\n      s.async = false;\n      s.onreadystatechange = s.onload = function() {\n        root._bokeh_is_loading--;\n        if (root._bokeh_is_loading === 0) {\n          console.log(\"Bokeh: all BokehJS libraries loaded\");\n          run_callbacks()\n        }\n      };\n      s.onerror = function() {\n        console.warn(\"failed to load library \" + url);\n      };\n      console.log(\"Bokeh: injecting script tag for BokehJS library: \", url);\n      document.getElementsByTagName(\"head\")[0].appendChild(s);\n    }\n  };var element = document.getElementById(\"1001\");\n  if (element == null) {\n    console.log(\"Bokeh: ERROR: autoload.js configured with elementid '1001' but no matching script tag was found. \")\n    return false;\n  }\n\n  var js_urls = [\"https://cdn.pydata.org/bokeh/release/bokeh-1.0.2.min.js\", \"https://cdn.pydata.org/bokeh/release/bokeh-widgets-1.0.2.min.js\", \"https://cdn.pydata.org/bokeh/release/bokeh-tables-1.0.2.min.js\", \"https://cdn.pydata.org/bokeh/release/bokeh-gl-1.0.2.min.js\"];\n\n  var inline_js = [\n    function(Bokeh) {\n      Bokeh.set_log_level(\"info\");\n    },\n    \n    function(Bokeh) {\n      \n    },\n    function(Bokeh) {\n      console.log(\"Bokeh: injecting CSS: https://cdn.pydata.org/bokeh/release/bokeh-1.0.2.min.css\");\n      Bokeh.embed.inject_css(\"https://cdn.pydata.org/bokeh/release/bokeh-1.0.2.min.css\");\n      console.log(\"Bokeh: injecting CSS: https://cdn.pydata.org/bokeh/release/bokeh-widgets-1.0.2.min.css\");\n      Bokeh.embed.inject_css(\"https://cdn.pydata.org/bokeh/release/bokeh-widgets-1.0.2.min.css\");\n      console.log(\"Bokeh: injecting CSS: https://cdn.pydata.org/bokeh/release/bokeh-tables-1.0.2.min.css\");\n      Bokeh.embed.inject_css(\"https://cdn.pydata.org/bokeh/release/bokeh-tables-1.0.2.min.css\");\n    }\n  ];\n\n  function run_inline_js() {\n    \n    if ((root.Bokeh !== undefined) || (force === true)) {\n      for (var i = 0; i < inline_js.length; i++) {\n        inline_js[i].call(root, root.Bokeh);\n      }if (force === true) {\n        display_loaded();\n      }} else if (Date.now() < root._bokeh_timeout) {\n      setTimeout(run_inline_js, 100);\n    } else if (!root._bokeh_failed_load) {\n      console.log(\"Bokeh: BokehJS failed to load within specified timeout.\");\n      root._bokeh_failed_load = true;\n    } else if (force !== true) {\n      var cell = $(document.getElementById(\"1001\")).parents('.cell').data().cell;\n      cell.output_area.append_execute_result(NB_LOAD_WARNING)\n    }\n\n  }\n\n  if (root._bokeh_is_loading === 0) {\n    console.log(\"Bokeh: BokehJS loaded, going straight to plotting\");\n    run_inline_js();\n  } else {\n    load_libs(js_urls, function() {\n      console.log(\"Bokeh: BokehJS plotting callback run at\", now());\n      run_inline_js();\n    });\n  }\n}(window));"
     },
     "metadata": {},
     "output_type": "display_data"
    }
   ],
   "source": [
    "import model_funcs\n",
    "import sympy as sm\n",
    "from bokeh.io import output_notebook,show\n",
    "output_notebook()"
   ]
  },
  {
   "cell_type": "markdown",
   "metadata": {},
   "source": [
    "# Our Model"
   ]
  },
  {
   "cell_type": "markdown",
   "metadata": {},
   "source": [
    "Our model is the classic solowmodel, but instead of having a fixed savings rate, in each period the savings rate is decided by a micro-household optimization problem. We will get back to this later but first we will solve the simple Solow model with a fixed savingsrate."
   ]
  },
  {
   "cell_type": "markdown",
   "metadata": {},
   "source": [
    "**Macro foundations**\n",
    "\n",
    "The basic solow model consists of the following equations:\n",
    "$$\n",
    "Y_t = A K^{\\alpha} L^{1-\\alpha}\n",
    "$$$$\n",
    "K_{t+1}=s_{K}\\cdot Y_{t}+\\left(1-\\delta\\right)K_{t}\n",
    "$$$$\n",
    "L_{t+1}=\\left(1+n\\right) L_{t}\n",
    "$$\n",
    "\n",
    "By denoting $k_{t},y_{t}=\\frac{K_{t}}{L_{t}},\\frac{Y_{t}}{L_{t}}$ the following transition equation can be derived:\n",
    "$$\n",
    "k_{t+1}= \\frac{1}{1+n} \\left(s_{Kt}\\cdot A k_{t}^{\\alpha} + \\left(1+\\delta\\right)k_{t} \\right)\n",
    "$$"
   ]
  },
  {
   "cell_type": "markdown",
   "metadata": {},
   "source": [
    "# Solving the basic Solow model"
   ]
  },
  {
   "cell_type": "markdown",
   "metadata": {},
   "source": [
    "For a fixed savings rate we know that basic Solow model has convergenge to steady state (Inada-conditions). Convergence will imply $k_{t+1}=k_{t}=k^{*}$ thus we have from the transtition equation that:\n",
    "$$\n",
    "k^{*}= \\frac{1}{1+n} \\left(s_{Kt}\\cdot A {k^{*}}^{\\alpha} + \\left(1+\\delta\\right)k^{*} \\right)\n",
    "$$\n",
    "And can use sympy to derive our steady state capital for a given fixed savings will be:"
   ]
  },
  {
   "cell_type": "code",
   "execution_count": 2,
   "metadata": {},
   "outputs": [
    {
     "data": {
      "image/png": "[encoded data removed]",
      "text/latex": [
       "$$k^{*} = \\left(\\frac{B s_{K}}{\\delta + n}\\right)^{- \\frac{1}{\\alpha - 1}}$$"
      ],
      "text/plain": [
       "                 -1  \n",
       "                ─────\n",
       "                α - 1\n",
       "         ⎛B⋅s_K⎞     \n",
       "k__{*} = ⎜─────⎟     \n",
       "         ⎝δ + n⎠     "
      ]
     },
     "execution_count": 2,
     "metadata": {},
     "output_type": "execute_result"
    }
   ],
   "source": [
    "sm.init_printing(use_unicode=True)\n",
    "# Function that solve the transtion equation\n",
    "ss_k = model_funcs.steadystate()\n",
    "ss_k"
   ]
  },
  {
   "cell_type": "code",
   "execution_count": 3,
   "metadata": {},
   "outputs": [],
   "source": [
    "sm.init_printing(use_unicode=False)"
   ]
  },
  {
   "cell_type": "markdown",
   "metadata": {},
   "source": [
    "We can also simulate the model with a function defined in model_funcs.py and show it visually.\n",
    "First we set up reasonble parameter values"
   ]
  },
  {
   "cell_type": "markdown",
   "metadata": {},
   "source": [
    "$\\alpha$, with a Cobb-Douglas production function the incomeshare of capital, is set to $\\frac{1}{3}$, a ordinary macro-assumption. <br>\n",
    "$\\delta$, capital depreciation, is set to $5\\%$. <br>\n",
    "$n$, population growth is set to $0.8\\%$ representing average european population growth. <br>\n",
    "$s_{K}$, the fixed savings rate is set to $20\\%$. <br>\n",
    "$B$ and $L_{0}$ is both normalized to 1. <br>\n",
    "$K_{0}$ is set to 5, below the steady state. <br>"
   ]
  },
  {
   "cell_type": "code",
   "execution_count": 5,
   "metadata": {},
   "outputs": [
    {
     "data": {
      "text/html": [
       "\n",
       "\n",
       "\n",
       "\n",
       "\n",
       "\n",
       "  <div class=\"bk-root\" id=\"cd087c7f-90a7-4372-bbbc-ac8aab3655b8\"></div>\n"
      ]
     },
     "metadata": {},
     "output_type": "display_data"
    },
    {
     "data": {
      "application/javascript": [
       "(function(root) {\n",
       "  function embed_document(root) {\n",
       "    \n",
       "  var docs_json = {\"c2d03072-5f57-4792-a649-56f605c67814\":{\"roots\":{\"references\":[{\"attributes\":{\"below\":[{\"id\":\"1015\",\"type\":\"LinearAxis\"}],\"left\":[{\"id\":\"1020\",\"type\":\"LinearAxis\"}],\"renderers\":[{\"id\":\"1015\",\"type\":\"LinearAxis\"},{\"id\":\"1019\",\"type\":\"Grid\"},{\"id\":\"1020\",\"type\":\"LinearAxis\"},{\"id\":\"1024\",\"type\":\"Grid\"},{\"id\":\"1033\",\"type\":\"BoxAnnotation\"},{\"id\":\"1050\",\"type\":\"Legend\"},{\"id\":\"1042\",\"type\":\"GlyphRenderer\"},{\"id\":\"1055\",\"type\":\"GlyphRenderer\"}],\"title\":{\"id\":\"1004\",\"type\":\"Title\"},\"toolbar\":{\"id\":\"1030\",\"type\":\"Toolbar\"},\"x_range\":{\"id\":\"1007\",\"type\":\"DataRange1d\"},\"x_scale\":{\"id\":\"1011\",\"type\":\"LinearScale\"},\"y_range\":{\"id\":\"1009\",\"type\":\"DataRange1d\"},\"y_scale\":{\"id\":\"1013\",\"type\":\"LinearScale\"}},\"id\":\"1005\",\"subtype\":\"Figure\",\"type\":\"Plot\"},{\"attributes\":{\"dimension\":1,\"plot\":{\"id\":\"1005\",\"subtype\":\"Figure\",\"type\":\"Plot\"},\"ticker\":{\"id\":\"1021\",\"type\":\"BasicTicker\"}},\"id\":\"1024\",\"type\":\"Grid\"},{\"attributes\":{\"source\":{\"id\":\"1003\",\"type\":\"ColumnDataSource\"}},\"id\":\"1056\",\"type\":\"CDSView\"},{\"attributes\":{\"line_alpha\":0.1,\"line_color\":\"#1f77b4\",\"x\":{\"field\":\"x\"},\"y\":{\"field\":\"a\"}},\"id\":\"1041\",\"type\":\"Line\"},{\"attributes\":{},\"id\":\"1062\",\"type\":\"Selection\"},{\"attributes\":{},\"id\":\"1021\",\"type\":\"BasicTicker\"},{\"attributes\":{},\"id\":\"1026\",\"type\":\"WheelZoomTool\"},{\"attributes\":{},\"id\":\"1063\",\"type\":\"UnionRenderers\"},{\"attributes\":{\"overlay\":{\"id\":\"1033\",\"type\":\"BoxAnnotation\"}},\"id\":\"1027\",\"type\":\"BoxZoomTool\"},{\"attributes\":{\"axis_label\":\"Capital pr. capita\",\"formatter\":{\"id\":\"1047\",\"type\":\"BasicTickFormatter\"},\"plot\":{\"id\":\"1005\",\"subtype\":\"Figure\",\"type\":\"Plot\"},\"ticker\":{\"id\":\"1021\",\"type\":\"BasicTicker\"}},\"id\":\"1020\",\"type\":\"LinearAxis\"},{\"attributes\":{\"label\":{\"value\":\"Steady state\"},\"renderers\":[{\"id\":\"1055\",\"type\":\"GlyphRenderer\"}]},\"id\":\"1065\",\"type\":\"LegendItem\"},{\"attributes\":{},\"id\":\"1028\",\"type\":\"ResetTool\"},{\"attributes\":{\"plot\":{\"id\":\"1005\",\"subtype\":\"Figure\",\"type\":\"Plot\"},\"ticker\":{\"id\":\"1016\",\"type\":\"BasicTicker\"}},\"id\":\"1019\",\"type\":\"Grid\"},{\"attributes\":{},\"id\":\"1029\",\"type\":\"SaveTool\"},{\"attributes\":{\"active_drag\":\"auto\",\"active_inspect\":\"auto\",\"active_multi\":null,\"active_scroll\":\"auto\",\"active_tap\":\"auto\",\"tools\":[{\"id\":\"1002\",\"type\":\"HoverTool\"},{\"id\":\"1025\",\"type\":\"PanTool\"},{\"id\":\"1026\",\"type\":\"WheelZoomTool\"},{\"id\":\"1027\",\"type\":\"BoxZoomTool\"},{\"id\":\"1028\",\"type\":\"ResetTool\"},{\"id\":\"1029\",\"type\":\"SaveTool\"}]},\"id\":\"1030\",\"type\":\"Toolbar\"},{\"attributes\":{\"line_color\":\"red\",\"x\":{\"field\":\"x\"},\"y\":{\"field\":\"a\"}},\"id\":\"1040\",\"type\":\"Line\"},{\"attributes\":{},\"id\":\"1016\",\"type\":\"BasicTicker\"},{\"attributes\":{\"bottom_units\":\"screen\",\"fill_alpha\":{\"value\":0.5},\"fill_color\":{\"value\":\"lightgrey\"},\"left_units\":\"screen\",\"level\":\"overlay\",\"line_alpha\":{\"value\":1.0},\"line_color\":{\"value\":\"black\"},\"line_dash\":[4,4],\"line_width\":{\"value\":2},\"plot\":null,\"render_mode\":\"css\",\"right_units\":\"screen\",\"top_units\":\"screen\"},\"id\":\"1033\",\"type\":\"BoxAnnotation\"},{\"attributes\":{\"callback\":null},\"id\":\"1009\",\"type\":\"DataRange1d\"},{\"attributes\":{\"callback\":null,\"data\":{\"a\":{\"__ndarray__\":\"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\",\"dtype\":\"float64\",\"shape\":[200]},\"b\":[6.403287523346615,6.403287523346615,6.403287523346615,6.403287523346615,6.403287523346615,6.403287523346615,6.403287523346615,6.403287523346615,6.403287523346615,6.403287523346615,6.403287523346615,6.403287523346615,6.403287523346615,6.403287523346615,6.403287523346615,6.403287523346615,6.403287523346615,6.403287523346615,6.403287523346615,6.403287523346615,6.403287523346615,6.403287523346615,6.403287523346615,6.403287523346615,6.403287523346615,6.403287523346615,6.403287523346615,6.403287523346615,6.403287523346615,6.403287523346615,6.403287523346615,6.403287523346615,6.403287523346615,6.403287523346615,6.403287523346615,6.403287523346615,6.403287523346615,6.403287523346615,6.403287523346615,6.403287523346615,6.403287523346615,6.403287523346615,6.403287523346615,6.403287523346615,6.403287523346615,6.403287523346615,6.403287523346615,6.403287523346615,6.403287523346615,6.403287523346615,6.403287523346615,6.403287523346615,6.403287523346615,6.403287523346615,6.403287523346615,6.403287523346615,6.403287523346615,6.403287523346615,6.403287523346615,6.403287523346615,6.403287523346615,6.403287523346615,6.403287523346615,6.403287523346615,6.403287523346615,6.403287523346615,6.403287523346615,6.403287523346615,6.403287523346615,6.403287523346615,6.403287523346615,6.403287523346615,6.403287523346615,6.403287523346615,6.403287523346615,6.403287523346615,6.403287523346615,6.403287523346615,6.403287523346615,6.403287523346615,6.403287523346615,6.403287523346615,6.403287523346615,6.403287523346615,6.403287523346615,6.403287523346615,6.403287523346615,6.403287523346615,6.403287523346615,6.403287523346615,6.403287523346615,6.403287523346615,6.403287523346615,6.403287523346615,6.403287523346615,6.403287523346615,6.403287523346615,6.403287523346615,6.403287523346615,6.403287523346615,6.403287523346615,6.403287523346615,6.403287523346615,6.403287523346615,6.403287523346615,6.403287523346615,6.403287523346615,6.403287523346615,6.403287523346615,6.403287523346615,6.403287523346615,6.403287523346615,6.403287523346615,6.403287523346615,6.403287523346615,6.403287523346615,6.403287523346615,6.403287523346615,6.403287523346615,6.403287523346615,6.403287523346615,6.403287523346615,6.403287523346615,6.403287523346615,6.403287523346615,6.403287523346615,6.403287523346615,6.403287523346615,6.403287523346615,6.403287523346615,6.403287523346615,6.403287523346615,6.403287523346615,6.403287523346615,6.403287523346615,6.403287523346615,6.403287523346615,6.403287523346615,6.403287523346615,6.403287523346615,6.403287523346615,6.403287523346615,6.403287523346615,6.403287523346615,6.403287523346615,6.403287523346615,6.403287523346615,6.403287523346615,6.403287523346615,6.403287523346615,6.403287523346615,6.403287523346615,6.403287523346615,6.403287523346615,6.403287523346615,6.403287523346615,6.403287523346615,6.403287523346615,6.403287523346615,6.403287523346615,6.403287523346615,6.403287523346615,6.403287523346615,6.403287523346615,6.403287523346615,6.403287523346615,6.403287523346615,6.403287523346615,6.403287523346615,6.403287523346615,6.403287523346615,6.403287523346615,6.403287523346615,6.403287523346615,6.403287523346615,6.403287523346615,6.403287523346615,6.403287523346615,6.403287523346615,6.403287523346615,6.403287523346615,6.403287523346615,6.403287523346615,6.403287523346615,6.403287523346615,6.403287523346615,6.403287523346615,6.403287523346615,6.403287523346615,6.403287523346615,6.403287523346615,6.403287523346615,6.403287523346615,6.403287523346615,6.403287523346615,6.403287523346615,6.403287523346615,6.403287523346615,6.403287523346615,6.403287523346615],\"x\":[0,1,2,3,4,5,6,7,8,9,10,11,12,13,14,15,16,17,18,19,20,21,22,23,24,25,26,27,28,29,30,31,32,33,34,35,36,37,38,39,40,41,42,43,44,45,46,47,48,49,50,51,52,53,54,55,56,57,58,59,60,61,62,63,64,65,66,67,68,69,70,71,72,73,74,75,76,77,78,79,80,81,82,83,84,85,86,87,88,89,90,91,92,93,94,95,96,97,98,99,100,101,102,103,104,105,106,107,108,109,110,111,112,113,114,115,116,117,118,119,120,121,122,123,124,125,126,127,128,129,130,131,132,133,134,135,136,137,138,139,140,141,142,143,144,145,146,147,148,149,150,151,152,153,154,155,156,157,158,159,160,161,162,163,164,165,166,167,168,169,170,171,172,173,174,175,176,177,178,179,180,181,182,183,184,185,186,187,188,189,190,191,192,193,194,195,196,197,198,199]},\"selected\":{\"id\":\"1062\",\"type\":\"Selection\"},\"selection_policy\":{\"id\":\"1063\",\"type\":\"UnionRenderers\"}},\"id\":\"1003\",\"type\":\"ColumnDataSource\"},{\"attributes\":{},\"id\":\"1013\",\"type\":\"LinearScale\"},{\"attributes\":{\"data_source\":{\"id\":\"1003\",\"type\":\"ColumnDataSource\"},\"glyph\":{\"id\":\"1040\",\"type\":\"Line\"},\"hover_glyph\":null,\"muted_glyph\":null,\"nonselection_glyph\":{\"id\":\"1041\",\"type\":\"Line\"},\"selection_glyph\":null,\"view\":{\"id\":\"1043\",\"type\":\"CDSView\"}},\"id\":\"1042\",\"type\":\"GlyphRenderer\"},{\"attributes\":{\"source\":{\"id\":\"1003\",\"type\":\"ColumnDataSource\"}},\"id\":\"1043\",\"type\":\"CDSView\"},{\"attributes\":{},\"id\":\"1045\",\"type\":\"BasicTickFormatter\"},{\"attributes\":{\"callback\":null},\"id\":\"1007\",\"type\":\"DataRange1d\"},{\"attributes\":{\"label\":{\"value\":\"Solow path\"},\"renderers\":[{\"id\":\"1042\",\"type\":\"GlyphRenderer\"}]},\"id\":\"1051\",\"type\":\"LegendItem\"},{\"attributes\":{},\"id\":\"1047\",\"type\":\"BasicTickFormatter\"},{\"attributes\":{},\"id\":\"1011\",\"type\":\"LinearScale\"},{\"attributes\":{\"plot\":null,\"text\":\"Traditional Solowpath\"},\"id\":\"1004\",\"type\":\"Title\"},{\"attributes\":{\"callback\":null,\"tooltips\":[[\"T\",\"@x{0,0.00}\"],[\"Capital pr. capita for Solow path\",\"@a{0.00}\"],[\"Capital pr. capita for Steady state\",\"@b{0.00}\"]]},\"id\":\"1002\",\"type\":\"HoverTool\"},{\"attributes\":{\"line_color\":\"blue\",\"x\":{\"field\":\"x\"},\"y\":{\"field\":\"b\"}},\"id\":\"1053\",\"type\":\"Line\"},{\"attributes\":{\"axis_label\":\"T\",\"formatter\":{\"id\":\"1045\",\"type\":\"BasicTickFormatter\"},\"plot\":{\"id\":\"1005\",\"subtype\":\"Figure\",\"type\":\"Plot\"},\"ticker\":{\"id\":\"1016\",\"type\":\"BasicTicker\"}},\"id\":\"1015\",\"type\":\"LinearAxis\"},{\"attributes\":{\"items\":[{\"id\":\"1051\",\"type\":\"LegendItem\"},{\"id\":\"1065\",\"type\":\"LegendItem\"}],\"location\":\"bottom_center\",\"plot\":{\"id\":\"1005\",\"subtype\":\"Figure\",\"type\":\"Plot\"}},\"id\":\"1050\",\"type\":\"Legend\"},{\"attributes\":{\"line_alpha\":0.1,\"line_color\":\"#1f77b4\",\"x\":{\"field\":\"x\"},\"y\":{\"field\":\"b\"}},\"id\":\"1054\",\"type\":\"Line\"},{\"attributes\":{\"data_source\":{\"id\":\"1003\",\"type\":\"ColumnDataSource\"},\"glyph\":{\"id\":\"1053\",\"type\":\"Line\"},\"hover_glyph\":null,\"muted_glyph\":null,\"nonselection_glyph\":{\"id\":\"1054\",\"type\":\"Line\"},\"selection_glyph\":null,\"view\":{\"id\":\"1056\",\"type\":\"CDSView\"}},\"id\":\"1055\",\"type\":\"GlyphRenderer\"},{\"attributes\":{},\"id\":\"1025\",\"type\":\"PanTool\"}],\"root_ids\":[\"1005\"]},\"title\":\"Bokeh Application\",\"version\":\"1.0.2\"}};\n",
       "  var render_items = [{\"docid\":\"c2d03072-5f57-4792-a649-56f605c67814\",\"notebook_comms_target\":\"1074\",\"roots\":{\"1005\":\"cd087c7f-90a7-4372-bbbc-ac8aab3655b8\"}}];\n",
       "  root.Bokeh.embed.embed_items_notebook(docs_json, render_items);\n",
       "\n",
       "  }\n",
       "  if (root.Bokeh !== undefined) {\n",
       "    embed_document(root);\n",
       "  } else {\n",
       "    var attempts = 0;\n",
       "    var timer = setInterval(function(root) {\n",
       "      if (root.Bokeh !== undefined) {\n",
       "        embed_document(root);\n",
       "        clearInterval(timer);\n",
       "      }\n",
       "      attempts++;\n",
       "      if (attempts > 100) {\n",
       "        console.log(\"Bokeh: ERROR: Unable to run BokehJS code because BokehJS library is missing\");\n",
       "        clearInterval(timer);\n",
       "      }\n",
       "    }, 10, root)\n",
       "  }\n",
       "})(window);"
      ],
      "application/vnd.bokehjs_exec.v0+json": ""
     },
     "metadata": {
      "application/vnd.bokehjs_exec.v0+json": {
       "id": "1005"
      }
     },
     "output_type": "display_data"
    }
   ],
   "source": [
    "# Reasonable parameters:\n",
    "#Macro:\n",
    "alpha = 1/3\n",
    "delta = 0.05\n",
    "n = 0.008\n",
    "sk = 0.2\n",
    "\n",
    "\n",
    "# production:\n",
    "b = 1\n",
    "k0 = 5\n",
    "l0 = 1\n",
    "\n",
    "# Our timeline:\n",
    "timeline = 200\n",
    "\n",
    "\n",
    "# Steady state kapital pr. worker:\n",
    "k_star = model_funcs.find_ssk_k(sk,b,delta,n,alpha)\n",
    "k_stars  =[k_star for i in range(timeline)]\n",
    "\n",
    "# The evolution of the normal solow model:\n",
    "trad_k_pr, trad_y_pr = model_funcs.solowwalk(\n",
    "    k0, b, l0, n, sk, alpha, delta, timeline)\n",
    "\n",
    "model_funcs.plotting(\"T\",['Solow path', 'Steady state'], range(timeline), [trad_k_pr,k_stars],\n",
    "                    y_name='Capital pr. capita', title = 'Traditional Solowpath',\n",
    "                    legendlocation ='bottom_center')"
   ]
  },
  {
   "cell_type": "markdown",
   "metadata": {},
   "source": [
    "# The micro model"
   ]
  },
  {
   "cell_type": "markdown",
   "metadata": {},
   "source": [
    "Now that we have seen the solow model with a fixed savingsrate. We will show how the the savingsrate is formed in our micromodel:"
   ]
  },
  {
   "cell_type": "markdown",
   "metadata": {},
   "source": [
    "**Micro-foundation of the savingsrate** \n",
    "\n",
    "Representative household utilityfunction in single periode:\n",
    "$$\n",
    "u\\left(c_{t}\\right)=\\frac{c^{1-\\theta}-1}{1-\\theta}\n",
    "$$\n",
    "When the household sums its total utility for mulitple future periods, it disocunts future consumption for immediate consumption by $1-\\beta$ so utility for all periods from period 0 to period T, given a vector C of consumption in each period is:\n",
    "$$\n",
    "U\\left(C\\right)=\\sum_{t=0}^{T}\\beta^{t}\\frac{c_{t}^{1-\\theta}-1}{1-\\theta}\n",
    "$$\n",
    "We assume that the household understands how the solow model works, e.g. how production for consumption is made and how capital accumulation works. From the calulations above we have:\n",
    "$$\n",
    "y_{t}=A k_{t}^{\\alpha} \\Rightarrow\n",
    "c_{t} = \\left(1-s_{Kt}\\right) A k_{t}^{\\alpha}\n",
    "$$ $$\n",
    "k_{t+1}= \\frac{1}{1+n} \\left(s_{Kt}\\cdot A k_{t}^{\\alpha} + \\left(1+\\delta\\right)k_{t} \\right)\n",
    "$$\n",
    "This is our 'budget constraint' more precisely defined as production constraints for all periods \n",
    "\n",
    "So the final optimizationproblem is:\n",
    "$$\n",
    "\\max_{s_{K_t}}U\\left(C\\right)=\\sum_{t=0}^{T}\\beta^{t}\\frac{c_{t}^{1-\\theta}-1}{1-\\theta}\n",
    "$$\n",
    "$$ s.t.$$$$\n",
    "c_{t} = \\left(1-s_{Kt}\\right) A k_{t}^{\\alpha},\\;t\\in [0,T]\n",
    "$$$$\n",
    "k_{t}=\n",
    "\\begin{cases}\n",
    "k_{0}& \\text{if }t=0\\\\\n",
    "\\frac{1}{1+n} \\left(s_{Kt-1}\\cdot A k_{t-1}^{\\alpha} + \\left(1+\\delta\\right)k_{t-1} \\right)& \\text{if }t\\in\\left[1,T\\right]\n",
    "\\end{cases}\n",
    "$$$$\n",
    "k_{0} \\text{ given}\n",
    "$$\n",
    "It's important to note that although the optimizationsolution, $s_{Kt}$, is solved for all periods. Only the solution for t=0 is used, since the problem is solved again in the next period. E.g. in each period the household formualtes a plan for current and future comsumption. In the current period the plan is pursued but in the following period a new plan is formulated, which is then also only followed for one period. "
   ]
  },
  {
   "cell_type": "markdown",
   "metadata": {},
   "source": [
    "First we set up microparameter values: <br>\n",
    "$\\theta$, determining the representative household's aversion to fluctations in consumption is as base, set to 0.5, but values below and above are also looked at, as we don't know an approximate of the true value<br>\n",
    "$\\beta$, determining how much the representative households values immediate above future consumption, is set to 0.99. Representing a low preference. <br>\n",
    "$t$, the amount of future time periods considered by the household, is set to 40 for two reasons: <br>\n",
    "1. Computational limitations, honestely speed becomes a factor when we simulate a more foresighted representative household.\n",
    "2. It approximately represents the average remaining lifetime of the working population. As we asumme no 'warm glow' from bequesting, this will also be the timeline that the population cares about on average. "
   ]
  },
  {
   "cell_type": "code",
   "execution_count": 7,
   "metadata": {},
   "outputs": [],
   "source": [
    "# Parameters\n",
    "#Micro:\n",
    "theta = 0.5\n",
    "beta = 0.99\n",
    "\n",
    "t = 40\n",
    "\n",
    "# time preference utility weights and population growth \n",
    "# are precomputed to save time:\n",
    "weight = np.array([beta**i for i in range(t)])\n",
    "l = np.array([l0*(1+n)**i for i in range(t)])"
   ]
  },
  {
   "cell_type": "markdown",
   "metadata": {},
   "source": [
    "**Solving the micro-foundation numerically**"
   ]
  },
  {
   "cell_type": "markdown",
   "metadata": {},
   "source": [
    "First we look at how, for different thetas, optimal savings rate in period t=0, depends on the level of initial capital:"
   ]
  },
  {
   "cell_type": "code",
   "execution_count": 9,
   "metadata": {},
   "outputs": [],
   "source": [
    "'''We find the prefered savings rate in period t=0\n",
    "for different thetas an initial capitals'''\n",
    "k_n = 100\n",
    "thetas = [0.3,0.5,0.7 ,1.5]\n",
    "sks = [np.zeros(k_n) for i in range(4)]\n",
    "k0s = np.linspace(0.001,30,k_n)\n",
    "\n",
    "for j in range(4):\n",
    "    for i in range(k_n):\n",
    "            sks[j][i] = model_funcs.optimal_sks(\n",
    "                t, b, l, weight, delta, alpha, thetas[j], k0s[i])\n",
    "\n",
    "    "
   ]
  },
  {
   "cell_type": "code",
   "execution_count": 11,
   "metadata": {},
   "outputs": [
    {
     "data": {
      "text/html": [
       "\n",
       "\n",
       "\n",
       "\n",
       "\n",
       "\n",
       "  <div class=\"bk-root\" id=\"a0c9d6de-8305-4d00-b5c2-e3845b6f9322\"></div>\n"
      ]
     },
     "metadata": {},
     "output_type": "display_data"
    },
    {
     "data": {
      "application/javascript": [
       "(function(root) {\n",
       "  function embed_document(root) {\n",
       "    \n",
       "  var docs_json = {\"2bb69840-3ec0-4d32-b16c-848248aae043\":{\"roots\":{\"references\":[{\"attributes\":{\"below\":[{\"id\":\"1293\",\"type\":\"LinearAxis\"}],\"left\":[{\"id\":\"1298\",\"type\":\"LinearAxis\"}],\"renderers\":[{\"id\":\"1293\",\"type\":\"LinearAxis\"},{\"id\":\"1297\",\"type\":\"Grid\"},{\"id\":\"1298\",\"type\":\"LinearAxis\"},{\"id\":\"1302\",\"type\":\"Grid\"},{\"id\":\"1311\",\"type\":\"BoxAnnotation\"},{\"id\":\"1328\",\"type\":\"Legend\"},{\"id\":\"1320\",\"type\":\"GlyphRenderer\"},{\"id\":\"1333\",\"type\":\"GlyphRenderer\"},{\"id\":\"1347\",\"type\":\"GlyphRenderer\"},{\"id\":\"1361\",\"type\":\"GlyphRenderer\"}],\"title\":{\"id\":\"1282\",\"type\":\"Title\"},\"toolbar\":{\"id\":\"1308\",\"type\":\"Toolbar\"},\"x_range\":{\"id\":\"1285\",\"type\":\"DataRange1d\"},\"x_scale\":{\"id\":\"1289\",\"type\":\"LinearScale\"},\"y_range\":{\"id\":\"1287\",\"type\":\"DataRange1d\"},\"y_scale\":{\"id\":\"1291\",\"type\":\"LinearScale\"}},\"id\":\"1283\",\"subtype\":\"Figure\",\"type\":\"Plot\"},{\"attributes\":{\"label\":{\"value\":\"\\u03b8 = 1.5\"},\"renderers\":[{\"id\":\"1361\",\"type\":\"GlyphRenderer\"}]},\"id\":\"1371\",\"type\":\"LegendItem\"},{\"attributes\":{\"plot\":null,\"text\":\"Figure\"},\"id\":\"1282\",\"type\":\"Title\"},{\"attributes\":{\"line_alpha\":0.1,\"line_color\":\"#1f77b4\",\"x\":{\"field\":\"x\"},\"y\":{\"field\":\"b\"}},\"id\":\"1332\",\"type\":\"Line\"},{\"attributes\":{},\"id\":\"1325\",\"type\":\"BasicTickFormatter\"},{\"attributes\":{\"callback\":null,\"data\":{\"a\":{\"__ndarray__\":\"tlE6JJiB7z80vA8ma7HsP3c0G5mkhes/mGNz5DyM6j/EikKag63pPyLiKhX/4eg/wRfhGBAi6D9Z9jm3D27nPwvzbbvWwOY/j2dGI9cZ5j8Qm9UZRHnlP7vvT70r3uQ/OMkGSPZF5D8h0rDWWrHjP1n+QuWUIOM//ZUC9F2T4j/XuC6CKwniP25xfFKogeE/xfMM+l784D/B+qzQtnngP/eHPdQn8t8/4r1EE5z03j9rdWCkofrdP8jxYToIBN0/55uYCmkQ3D8bxo+TqR7bP69lA428Mto/NA7y74NI2T8Co/9kpGHYP28qAID+etc/R1qJPmiY1j8neHc79LfVP8PT4OZY2dQ/14030V/70z+yVs2ARiLTPzwp3MeDStI/AD/ZI6t00T9EBVn+maDQP1gkw1eUnM8/W4jK1Tn7zT+k8/9x91zMP2zrBde5wco/lFBAWHIpyT8T9tFglZfHPxJpcoTHBMY/4MjmDvF0xD8wAVin+OfCPyMo7fTQXcE/SEWDGxWsvz8DVk2X2aC8PwKIsQZ8mrk/Oi4H7kyYtj/g5JSo/pmzP5lXxgq9nbA/pd65xalLqz+qrd1902ulPzbzQsVqQJ8/zBF+npO6kz/g//La71aAPzqMMOKOeUU+Ooww4o55RT6020fnjnlFPitKvuiOeUU+vVza4o55RT6SVT7xjnlFPkPr9uKOeUU++L536o55RT46jDDijnlFPoAIU+aOeUU+PyyP9455RT46jDDijnlFPtlYK+OOeUU+Ooww4o55RT46jDDijnlFPv4iLPKOeUU+Ooww4o55RT46jDDijnlFPvE4BfiOeUU+x8tc8455RT46jDDijnlFPot4yuWOeUU+Ooww4o55RT46jDDijnlFPjqMMOKOeUU+qJ/g5Y55RT46jDDijnlFPjqMMOKOeUU+y3ba4455RT46jDDijnlFPjqMMOKOeUU+Ooww4o55RT5z9sTjjnlFPjqMMOKOeUU+Ooww4o55RT46jDDijnlFPjqMMOKOeUU+H9HO6Y55RT46jDDijnlFPj1AVPOOeUU+gM6l9I55RT4=\",\"dtype\":\"float64\",\"shape\":[100]},\"b\":{\"__ndarray__\":\"6DHAC+r/6z9MUXYvs6voP477R74XfOc/6h+8vQiM5j9LSBv5sL7lP1EBZhOSBeU/fMTA3Pdc5D9K0GX6TsDjP57/gr6kLeM/bGkNCVai4j9bZCO26B3iP63uKPbinuE/mehfGlYj4T9aXxVZ4a3gP+wrqrVGPOA/7YS+bVGc3z81V1ZXZMbeP9LCtGkx9t0/y33OxDsr3T/YN7DIkmrcP4LhDsoTqNs/XKl2YeTp2j/lLHoewS/aP4EF1Itnedk/yytGdLTG2D+i9hMCShPYP2qIDcR/Ztc/mypQcm681j8Vx/5BQxjWP8ib+hGactU/xuf+A9rP1D+8lUptrTPUPz3o4An2k9M/aiaINvX40j+8ZnCEtV7SP846EACSxtE/u1HdZWYw0T/F/6PID5zQP9l23DXyA9A/p0tUMbjnzj8HY4xLesrNPxJ+3U3Dr8w/6agO1QiYyz+6adyU74LKPywID+JqcMk/nokahZhgyD/LBk60VFPHP17LAk8GSMY//1LNnGk+xT85AhraEj/EP/Gu31RLOMM/UXGgX3I1wj/oRqFf6jPBP/xtCHjwNMA/L8l0iXRwvj+GhJ95F3u8PzaVzdOWibo/nK2Yp+abuD8JbZQs2rG2PyuWEQNby7Q/KbHB5E3osj9OZ/DknQixP31mAL6AWK4/njzRDwOmqj+pkLba0/mmPznYMSKmU6M/8W3aacBmnz96md8zzDGYP2eEMablCJE//EE3B5vXgz8g4nmXM9BmPzqMMOKOeUU+Ooww4o55RT46jDDijnlFPtkwhOWOeUU+Ooww4o55RT70ad78jnlFPnzWZ+OOeUU+Ooww4o55RT46jDDijnlFPg1A+OWOeUU+Ooww4o55RT46jDDijnlFPtqHwOWOeUU+Ooww4o55RT78ERjjjnlFPjqMMOKOeUU+Ooww4o55RT6rWoHojnlFPjqMMOKOeUU+VwB++o55RT46jDDijnlFPj+vju+OeUU+Ooww4o55RT46jDDijnlFPgTA2ueOeUU+zajl6Y55RT46jDDijnlFPr5ToeuOeUU+Ooww4o55RT4=\",\"dtype\":\"float64\",\"shape\":[100]},\"c\":{\"__ndarray__\":\"ugUQ8I385j/MyiobWnjlP2wm3xEyf+Q/+0Vscke24z/BNtjxuAjjPx0bOLSpbeI/cNgiEuHf4T8SNLtvIl3hPyrNMhi54+A/Qn2xJYNv4D+QINaihQLgP/r4Z7TGNN8/gq/9bVpz3j9iG7WbrLPdP0YtCE4S+9w/RJaYJdBI3D91TB5nSJzbP1xqdKP09No/bX6s/QZM2j/waEvKmq7ZP25hG6UiFdk/uHd4mE9/2D+r0yRl2+zXPzm0Jvd4Xdc/EW3blhLU1j9r5DlWBkvWP9P+cbZRwdU/vl/sM2Y81T+I2aeNN7jUPxGwAPNeN9Q/HaxZy+C+0z9kVro63D7TPxNZiWWfxtI/wsZa5V9O0j9QL3bNN9rRP3BtQZejZdE/2LSgfIby0D+m1t472YDQP2LGYriUENA/XYyaWl1Dzz9vpJn4N2jOP3GgmXuqj80/nfHCj5S5zD9+1ZiZ7OXLP78pVh6VFMs/HINCoGxFyj98ZuY5f3jJP/7EWfLBrcg/6BI4PhLlxz/5/OhvUR7HP85wmpF8WcY/ll3GxoOWxT8s2+x9xtDEPyNjf53DEcQ/ItszJnlUwz+EtuQw5JjCPwNVaXTg3sE/ofNwJ3EmwT+qs5KQg2/APxiCgQQedL8/rJkC+AoMvj9HO8r6x6a8P1ey1E4+RLs/CcaZz2nkuT8G3ns+Ioe4P/SjI1VJLLc/tvNE/uXTtT+LgSPMgX20P46TY8lHKbM/9l6enYXXsT8JM7L8/IewP7zE+4ZCda4/t42ijMXeqz+MHJNHj0ypP/T0q/xavqY/nKFgcD40pD9aSkQI/a2hPzk8sJW0Wp4/HjK7o48tmT9ilRCfeUCUP9Ug4Tq+sY4/PH34q5buhD8Cgqn4pm52P4fpsWhhEUg/e1u25Y55RT46jDDijnlFPjqMMOKOeUU+A+mw4455RT5o4e7pjnlFPjqMMOKOeUU+e6Rp6455RT74KUjmjnlFPlVFgeiOeUU+Ooww4o55RT46jDDijnlFPjqMMOKOeUU+Ooww4o55RT46jDDijnlFPtXFjuOOeUU+Ooww4o55RT4=\",\"dtype\":\"float64\",\"shape\":[100]},\"d\":{\"__ndarray__\":\"c5+nfvL60j9Scr5paBTcP8/+OwI5pts/IJdvSUUR2z9CyH278n3aP2sPOCG28tk/8HtnH0du2T+qbrNzsfHYP8Ho6pGwfNg/+/yHD9sM2D/Gq8zEjaLXPwdrI+CpPNc/F+ANmu3a1j9W3uY9wHvWP531jWGTIdY/eLB3KmDL1T/o1+hJ33bVPyjauimqJNU/aTsxR17Y1D8eQhSzyYbUP1BP5serO9Q/Lqg6a4/z0z/mpLoUEqvTP0hpiNnSY9M/Cfwu0BMf0z+2XersAeDSP5fB75NwntI/imZaCJNe0j+EEUZ5AhzSPxxTX1f73tE/1Nx53c+i0T9YQ4V2j2fRP1cC4RI6LdE/tXo/eJv40D+Iq6aqhb/QP3sz7kFPh9A/kLn/h+xP0D+4hVZQWRnQP2EjRnatvc8/a8FJ0m5Vzz8mbfAVgO7OP5eiSlLTiM4/rQVi+lUkzj8xwFKUAsHNP1ytBHDJXs0/QvY1RKn9zD8KvTynlp3MP8X7TrWSPsw/+qnp95Dgyz+1irH3iYPLP2QgSwRHKMs/xOxOLdnNyj/wqvKIHnTKP9nBAorgGso/tEXNH2XCyT9sLDxioGrJP5Et94hcE8k/PAMuVge9yD9vCue4eWfIPx75uzikEsg/+RINOY++xz82eK8WNmvHP0i4glSTGMc/B/q3/abGxj/MffXIC23GP38dUqf4HMY/zxvleYzNxT9cDJ2pwn7FP3Rw13CXMMU/+BdWE/7ixD/IycQg95XEP/PNgV+DScQ/DyLHPIb9wz+s9ngJELLDPwbmNjApZ8M/GL4VQ8Acwz+2Lp5Q3NLCP9qAd85/icI/KMyhRZhAwj+TJf/1GPjBPwrqbPL7r8E/oHeQhy9owT/wgDa+1iDBPwxbBCbt2cA/G7A2N3CTwD/di114YE3AP8UY2B+8B8A/XC0J+veEvz80b7wzRPu+P4r/0Khdcr4/naHTjDbqvT+BVxt1zmK9PyUW0psr3Lw/jMqkDjxWvD8WOIrQC9G7P/BqazqzNLs//lqqbNWyuj9wfRSkkDG6PyoQ/9jdsLk/G/x7yMcwuT8=\",\"dtype\":\"float64\",\"shape\":[100]},\"x\":{\"__ndarray__\":\"/Knx0k1iUD9TAUAmEXXTP36IVv/fbOM/UxCNazcf7T8TzOFrx2jzP/0P/SHzQfg/6FMY2B4b/T/pyxlHJfoAQN5tJyK7ZgNA0w81/VDTBUDIsULY5j8IQL1TULN8rApAs/VdjhIZDUCol2tpqIUPQM+cPCIf+RBAyW3DD2ovEkDEPkr9tGUTQL8P0er/mxRAueBX2ErSFUC0sd7FlQgXQK6CZbPgPhhAqVPsoCt1GUCjJHOOdqsaQJ71+XvB4RtAmcaAaQwYHUCTlwdXV04eQI5ojkSihB9AxJwKmXZdIEBBBc4PnPggQL5tkYbBkyFAO9ZU/eYuIkC5Phh0DMoiQDan2+oxZSNAsw+fYVcAJEAxeGLYfJskQK7gJU+iNiVAK0npxcfRJUCosaw87WwmQCYacLMSCCdAo4IzKjijJ0Ag6/agXT4oQJ5TuheD2ShAG7x9jqh0KUCYJEEFzg8qQBWNBHzzqipAk/XH8hhGK0AQXotpPuErQI3GTuBjfCxACy8SV4kXLUCIl9XNrrItQAUAmUTUTS5Agmhcu/noLkAA0R8yH4QvQL+ccVSiDzBA/lDTDzVdMEA8BTXLx6owQHu5loZa+DBAum34Qe1FMUD4IVr9f5MxQDfWu7gS4TFAdYoddKUuMkC0Pn8vOHwyQPPy4OrKyTJAMadCpl0XM0BwW6Rh8GQzQK8PBh2DsjNA7cNn2BUANEAseMmTqE00QGssK087mzRAqeCMCs7oNEDolO7FYDY1QCZJUIHzgzVAZf2xPIbRNUCksRP4GB82QOJldbOrbDZAIRrXbj66NkBgzjgq0Qc3QJ6CmuVjVTdA3Tb8oPaiN0Ac611cifA3QFqfvxccPjhAmVMh066LOEDYB4OOQdk4QBa85EnUJjlAVXBGBWd0OUCTJKjA+cE5QNLYCXyMDzpAEY1rNx9dOkBPQc3ysao6QI71Lq5E+DpAzamQaddFO0ALXvIkapM7QEoSVOD84DtAica1m48uPEDHehdXInw8QAYveRK1yTxARePazUcXPUCDlzyJ2mQ9QMJLnkRtsj1AAAAAAAAAPkA=\",\"dtype\":\"float64\",\"shape\":[100]}},\"selected\":{\"id\":\"1340\",\"type\":\"Selection\"},\"selection_policy\":{\"id\":\"1341\",\"type\":\"UnionRenderers\"}},\"id\":\"1281\",\"type\":\"ColumnDataSource\"},{\"attributes\":{\"data_source\":{\"id\":\"1281\",\"type\":\"ColumnDataSource\"},\"glyph\":{\"id\":\"1331\",\"type\":\"Line\"},\"hover_glyph\":null,\"muted_glyph\":null,\"nonselection_glyph\":{\"id\":\"1332\",\"type\":\"Line\"},\"selection_glyph\":null,\"view\":{\"id\":\"1334\",\"type\":\"CDSView\"}},\"id\":\"1333\",\"type\":\"GlyphRenderer\"},{\"attributes\":{},\"id\":\"1291\",\"type\":\"LinearScale\"},{\"attributes\":{\"bottom_units\":\"screen\",\"fill_alpha\":{\"value\":0.5},\"fill_color\":{\"value\":\"lightgrey\"},\"left_units\":\"screen\",\"level\":\"overlay\",\"line_alpha\":{\"value\":1.0},\"line_color\":{\"value\":\"black\"},\"line_dash\":[4,4],\"line_width\":{\"value\":2},\"plot\":null,\"render_mode\":\"css\",\"right_units\":\"screen\",\"top_units\":\"screen\"},\"id\":\"1311\",\"type\":\"BoxAnnotation\"},{\"attributes\":{\"source\":{\"id\":\"1281\",\"type\":\"ColumnDataSource\"}},\"id\":\"1334\",\"type\":\"CDSView\"},{\"attributes\":{},\"id\":\"1323\",\"type\":\"BasicTickFormatter\"},{\"attributes\":{},\"id\":\"1304\",\"type\":\"WheelZoomTool\"},{\"attributes\":{\"line_color\":\"red\",\"x\":{\"field\":\"x\"},\"y\":{\"field\":\"a\"}},\"id\":\"1318\",\"type\":\"Line\"},{\"attributes\":{},\"id\":\"1340\",\"type\":\"Selection\"},{\"attributes\":{\"dimension\":1,\"plot\":{\"id\":\"1283\",\"subtype\":\"Figure\",\"type\":\"Plot\"},\"ticker\":{\"id\":\"1299\",\"type\":\"BasicTicker\"}},\"id\":\"1302\",\"type\":\"Grid\"},{\"attributes\":{\"line_color\":\"blue\",\"x\":{\"field\":\"x\"},\"y\":{\"field\":\"b\"}},\"id\":\"1331\",\"type\":\"Line\"},{\"attributes\":{},\"id\":\"1306\",\"type\":\"ResetTool\"},{\"attributes\":{},\"id\":\"1341\",\"type\":\"UnionRenderers\"},{\"attributes\":{\"axis_label\":\"Capital pr. capita\",\"formatter\":{\"id\":\"1323\",\"type\":\"BasicTickFormatter\"},\"plot\":{\"id\":\"1283\",\"subtype\":\"Figure\",\"type\":\"Plot\"},\"ticker\":{\"id\":\"1294\",\"type\":\"BasicTicker\"}},\"id\":\"1293\",\"type\":\"LinearAxis\"},{\"attributes\":{\"active_drag\":\"auto\",\"active_inspect\":\"auto\",\"active_multi\":null,\"active_scroll\":\"auto\",\"active_tap\":\"auto\",\"tools\":[{\"id\":\"1280\",\"type\":\"HoverTool\"},{\"id\":\"1303\",\"type\":\"PanTool\"},{\"id\":\"1304\",\"type\":\"WheelZoomTool\"},{\"id\":\"1305\",\"type\":\"BoxZoomTool\"},{\"id\":\"1306\",\"type\":\"ResetTool\"},{\"id\":\"1307\",\"type\":\"SaveTool\"}]},\"id\":\"1308\",\"type\":\"Toolbar\"},{\"attributes\":{\"label\":{\"value\":\"\\u03b8 = 0.5\"},\"renderers\":[{\"id\":\"1333\",\"type\":\"GlyphRenderer\"}]},\"id\":\"1343\",\"type\":\"LegendItem\"},{\"attributes\":{},\"id\":\"1303\",\"type\":\"PanTool\"},{\"attributes\":{\"source\":{\"id\":\"1281\",\"type\":\"ColumnDataSource\"}},\"id\":\"1348\",\"type\":\"CDSView\"},{\"attributes\":{\"callback\":null},\"id\":\"1285\",\"type\":\"DataRange1d\"},{\"attributes\":{\"plot\":{\"id\":\"1283\",\"subtype\":\"Figure\",\"type\":\"Plot\"},\"ticker\":{\"id\":\"1294\",\"type\":\"BasicTicker\"}},\"id\":\"1297\",\"type\":\"Grid\"},{\"attributes\":{\"axis_label\":\"Savings rate\",\"formatter\":{\"id\":\"1325\",\"type\":\"BasicTickFormatter\"},\"plot\":{\"id\":\"1283\",\"subtype\":\"Figure\",\"type\":\"Plot\"},\"ticker\":{\"id\":\"1299\",\"type\":\"BasicTicker\"}},\"id\":\"1298\",\"type\":\"LinearAxis\"},{\"attributes\":{\"line_color\":\"green\",\"x\":{\"field\":\"x\"},\"y\":{\"field\":\"c\"}},\"id\":\"1345\",\"type\":\"Line\"},{\"attributes\":{\"line_alpha\":0.1,\"line_color\":\"#1f77b4\",\"x\":{\"field\":\"x\"},\"y\":{\"field\":\"a\"}},\"id\":\"1319\",\"type\":\"Line\"},{\"attributes\":{\"source\":{\"id\":\"1281\",\"type\":\"ColumnDataSource\"}},\"id\":\"1321\",\"type\":\"CDSView\"},{\"attributes\":{\"line_alpha\":0.1,\"line_color\":\"#1f77b4\",\"x\":{\"field\":\"x\"},\"y\":{\"field\":\"c\"}},\"id\":\"1346\",\"type\":\"Line\"},{\"attributes\":{},\"id\":\"1289\",\"type\":\"LinearScale\"},{\"attributes\":{},\"id\":\"1299\",\"type\":\"BasicTicker\"},{\"attributes\":{\"label\":{\"value\":\"\\u03b8 = 0.7\"},\"renderers\":[{\"id\":\"1347\",\"type\":\"GlyphRenderer\"}]},\"id\":\"1357\",\"type\":\"LegendItem\"},{\"attributes\":{},\"id\":\"1294\",\"type\":\"BasicTicker\"},{\"attributes\":{\"line_alpha\":0.1,\"line_color\":\"#1f77b4\",\"x\":{\"field\":\"x\"},\"y\":{\"field\":\"d\"}},\"id\":\"1360\",\"type\":\"Line\"},{\"attributes\":{\"callback\":null,\"tooltips\":[[\"Capital pr. capita\",\"@x{0,0.00}\"],[\"Savings rate for \\u03b8 = 0.3\",\"@a{0.00}\"],[\"Savings rate for \\u03b8 = 0.5\",\"@b{0.00}\"],[\"Savings rate for \\u03b8 = 0.7\",\"@c{0.00}\"],[\"Savings rate for \\u03b8 = 1.5\",\"@d{0.00}\"]]},\"id\":\"1280\",\"type\":\"HoverTool\"},{\"attributes\":{\"line_color\":\"purple\",\"x\":{\"field\":\"x\"},\"y\":{\"field\":\"d\"}},\"id\":\"1359\",\"type\":\"Line\"},{\"attributes\":{\"callback\":null},\"id\":\"1287\",\"type\":\"DataRange1d\"},{\"attributes\":{\"data_source\":{\"id\":\"1281\",\"type\":\"ColumnDataSource\"},\"glyph\":{\"id\":\"1345\",\"type\":\"Line\"},\"hover_glyph\":null,\"muted_glyph\":null,\"nonselection_glyph\":{\"id\":\"1346\",\"type\":\"Line\"},\"selection_glyph\":null,\"view\":{\"id\":\"1348\",\"type\":\"CDSView\"}},\"id\":\"1347\",\"type\":\"GlyphRenderer\"},{\"attributes\":{\"data_source\":{\"id\":\"1281\",\"type\":\"ColumnDataSource\"},\"glyph\":{\"id\":\"1359\",\"type\":\"Line\"},\"hover_glyph\":null,\"muted_glyph\":null,\"nonselection_glyph\":{\"id\":\"1360\",\"type\":\"Line\"},\"selection_glyph\":null,\"view\":{\"id\":\"1362\",\"type\":\"CDSView\"}},\"id\":\"1361\",\"type\":\"GlyphRenderer\"},{\"attributes\":{\"data_source\":{\"id\":\"1281\",\"type\":\"ColumnDataSource\"},\"glyph\":{\"id\":\"1318\",\"type\":\"Line\"},\"hover_glyph\":null,\"muted_glyph\":null,\"nonselection_glyph\":{\"id\":\"1319\",\"type\":\"Line\"},\"selection_glyph\":null,\"view\":{\"id\":\"1321\",\"type\":\"CDSView\"}},\"id\":\"1320\",\"type\":\"GlyphRenderer\"},{\"attributes\":{\"label\":{\"value\":\"\\u03b8 = 0.3\"},\"renderers\":[{\"id\":\"1320\",\"type\":\"GlyphRenderer\"}]},\"id\":\"1329\",\"type\":\"LegendItem\"},{\"attributes\":{\"items\":[{\"id\":\"1329\",\"type\":\"LegendItem\"},{\"id\":\"1343\",\"type\":\"LegendItem\"},{\"id\":\"1357\",\"type\":\"LegendItem\"},{\"id\":\"1371\",\"type\":\"LegendItem\"}],\"location\":\"top_center\",\"plot\":{\"id\":\"1283\",\"subtype\":\"Figure\",\"type\":\"Plot\"}},\"id\":\"1328\",\"type\":\"Legend\"},{\"attributes\":{\"source\":{\"id\":\"1281\",\"type\":\"ColumnDataSource\"}},\"id\":\"1362\",\"type\":\"CDSView\"},{\"attributes\":{},\"id\":\"1307\",\"type\":\"SaveTool\"},{\"attributes\":{\"overlay\":{\"id\":\"1311\",\"type\":\"BoxAnnotation\"}},\"id\":\"1305\",\"type\":\"BoxZoomTool\"}],\"root_ids\":[\"1283\"]},\"title\":\"Bokeh Application\",\"version\":\"1.0.2\"}};\n",
       "  var render_items = [{\"docid\":\"2bb69840-3ec0-4d32-b16c-848248aae043\",\"notebook_comms_target\":\"1396\",\"roots\":{\"1283\":\"a0c9d6de-8305-4d00-b5c2-e3845b6f9322\"}}];\n",
       "  root.Bokeh.embed.embed_items_notebook(docs_json, render_items);\n",
       "\n",
       "  }\n",
       "  if (root.Bokeh !== undefined) {\n",
       "    embed_document(root);\n",
       "  } else {\n",
       "    var attempts = 0;\n",
       "    var timer = setInterval(function(root) {\n",
       "      if (root.Bokeh !== undefined) {\n",
       "        embed_document(root);\n",
       "        clearInterval(timer);\n",
       "      }\n",
       "      attempts++;\n",
       "      if (attempts > 100) {\n",
       "        console.log(\"Bokeh: ERROR: Unable to run BokehJS code because BokehJS library is missing\");\n",
       "        clearInterval(timer);\n",
       "      }\n",
       "    }, 10, root)\n",
       "  }\n",
       "})(window);"
      ],
      "application/vnd.bokehjs_exec.v0+json": ""
     },
     "metadata": {
      "application/vnd.bokehjs_exec.v0+json": {
       "id": "1283"
      }
     },
     "output_type": "display_data"
    }
   ],
   "source": [
    "''' We use Bokeh to plot and have defined a function in model_funcs.py \n",
    "that calls the plot to bokeh ''' \n",
    "\n",
    "\n",
    "# \\u03B8 is code for theta \n",
    "thetas_names = ['\\u03B8 = 0.3', '\\u03B8 = 0.5','\\u03B8 = 0.7','\\u03B8 = 1.5']\n",
    "\n",
    "model_funcs.plotting(\"Capital pr. capita\",thetas_names, k0s, sks)"
   ]
  },
  {
   "cell_type": "markdown",
   "metadata": {},
   "source": [
    "So our models implies a negative relationship between amount of capital pr. capita. This makes well intuitive sense, since marginal product of capital is relatively smaller, when there is more of it, and thus the household will choose to consume more now, rather than making a bad investment for future consumption. This also bodes well for our model having convergence, to explain why first we plot the same graph, but with a line indicating steady state for a given fixed savings rate. To do this we use the ealier derived formula and plot it for varying $s_{K}$.\n",
    "$$\n",
    "k^{*}=\\left(\\frac{B\\cdot s_{K}}{\\delta+n}\\right)^{\\frac{1}{1-\\alpha}}\n",
    "$$\n"
   ]
  },
  {
   "cell_type": "code",
   "execution_count": 13,
   "metadata": {},
   "outputs": [],
   "source": [
    "sksopt = model_funcs.find_ssk_sk(k0s,b,delta,n,alpha)"
   ]
  },
  {
   "cell_type": "code",
   "execution_count": 14,
   "metadata": {},
   "outputs": [
    {
     "data": {
      "text/html": [
       "\n",
       "\n",
       "\n",
       "\n",
       "\n",
       "\n",
       "  <div class=\"bk-root\" id=\"cdd37ba0-d162-4f5e-98da-bb0fe1cdd5b0\"></div>\n"
      ]
     },
     "metadata": {},
     "output_type": "display_data"
    },
    {
     "data": {
      "application/javascript": [
       "(function(root) {\n",
       "  function embed_document(root) {\n",
       "    \n",
       "  var docs_json = {\"aea98678-b029-4f7e-8868-8a1c4daa9796\":{\"roots\":{\"references\":[{\"attributes\":{\"below\":[{\"id\":\"1458\",\"type\":\"LinearAxis\"}],\"left\":[{\"id\":\"1463\",\"type\":\"LinearAxis\"}],\"renderers\":[{\"id\":\"1458\",\"type\":\"LinearAxis\"},{\"id\":\"1462\",\"type\":\"Grid\"},{\"id\":\"1463\",\"type\":\"LinearAxis\"},{\"id\":\"1467\",\"type\":\"Grid\"},{\"id\":\"1476\",\"type\":\"BoxAnnotation\"},{\"id\":\"1493\",\"type\":\"Legend\"},{\"id\":\"1485\",\"type\":\"GlyphRenderer\"},{\"id\":\"1498\",\"type\":\"GlyphRenderer\"},{\"id\":\"1512\",\"type\":\"GlyphRenderer\"},{\"id\":\"1526\",\"type\":\"GlyphRenderer\"},{\"id\":\"1540\",\"type\":\"GlyphRenderer\"}],\"title\":{\"id\":\"1447\",\"type\":\"Title\"},\"toolbar\":{\"id\":\"1473\",\"type\":\"Toolbar\"},\"x_range\":{\"id\":\"1450\",\"type\":\"DataRange1d\"},\"x_scale\":{\"id\":\"1454\",\"type\":\"LinearScale\"},\"y_range\":{\"id\":\"1452\",\"type\":\"DataRange1d\"},\"y_scale\":{\"id\":\"1456\",\"type\":\"LinearScale\"}},\"id\":\"1448\",\"subtype\":\"Figure\",\"type\":\"Plot\"},{\"attributes\":{\"source\":{\"id\":\"1446\",\"type\":\"ColumnDataSource\"}},\"id\":\"1486\",\"type\":\"CDSView\"},{\"attributes\":{},\"id\":\"1456\",\"type\":\"LinearScale\"},{\"attributes\":{\"line_alpha\":0.1,\"line_color\":\"#1f77b4\",\"x\":{\"field\":\"x\"},\"y\":{\"field\":\"d\"}},\"id\":\"1525\",\"type\":\"Line\"},{\"attributes\":{},\"id\":\"1488\",\"type\":\"BasicTickFormatter\"},{\"attributes\":{\"callback\":null},\"id\":\"1452\",\"type\":\"DataRange1d\"},{\"attributes\":{\"axis_label\":\"Capital pr. capita\",\"formatter\":{\"id\":\"1488\",\"type\":\"BasicTickFormatter\"},\"plot\":{\"id\":\"1448\",\"subtype\":\"Figure\",\"type\":\"Plot\"},\"ticker\":{\"id\":\"1459\",\"type\":\"BasicTicker\"}},\"id\":\"1458\",\"type\":\"LinearAxis\"},{\"attributes\":{},\"id\":\"1454\",\"type\":\"LinearScale\"},{\"attributes\":{\"data_source\":{\"id\":\"1446\",\"type\":\"ColumnDataSource\"},\"glyph\":{\"id\":\"1524\",\"type\":\"Line\"},\"hover_glyph\":null,\"muted_glyph\":null,\"nonselection_glyph\":{\"id\":\"1525\",\"type\":\"Line\"},\"selection_glyph\":null,\"view\":{\"id\":\"1527\",\"type\":\"CDSView\"}},\"id\":\"1526\",\"type\":\"GlyphRenderer\"},{\"attributes\":{},\"id\":\"1490\",\"type\":\"BasicTickFormatter\"},{\"attributes\":{},\"id\":\"1459\",\"type\":\"BasicTicker\"},{\"attributes\":{\"source\":{\"id\":\"1446\",\"type\":\"ColumnDataSource\"}},\"id\":\"1527\",\"type\":\"CDSView\"},{\"attributes\":{\"items\":[{\"id\":\"1494\",\"type\":\"LegendItem\"},{\"id\":\"1508\",\"type\":\"LegendItem\"},{\"id\":\"1522\",\"type\":\"LegendItem\"},{\"id\":\"1536\",\"type\":\"LegendItem\"},{\"id\":\"1550\",\"type\":\"LegendItem\"}],\"location\":\"top_center\",\"plot\":{\"id\":\"1448\",\"subtype\":\"Figure\",\"type\":\"Plot\"}},\"id\":\"1493\",\"type\":\"Legend\"},{\"attributes\":{\"plot\":{\"id\":\"1448\",\"subtype\":\"Figure\",\"type\":\"Plot\"},\"ticker\":{\"id\":\"1459\",\"type\":\"BasicTicker\"}},\"id\":\"1462\",\"type\":\"Grid\"},{\"attributes\":{\"label\":{\"value\":\"\\u03b8 = 0.3\"},\"renderers\":[{\"id\":\"1485\",\"type\":\"GlyphRenderer\"}]},\"id\":\"1494\",\"type\":\"LegendItem\"},{\"attributes\":{\"axis_label\":\"Savings rate\",\"formatter\":{\"id\":\"1490\",\"type\":\"BasicTickFormatter\"},\"plot\":{\"id\":\"1448\",\"subtype\":\"Figure\",\"type\":\"Plot\"},\"ticker\":{\"id\":\"1464\",\"type\":\"BasicTicker\"}},\"id\":\"1463\",\"type\":\"LinearAxis\"},{\"attributes\":{\"line_color\":\"yellow\",\"x\":{\"field\":\"x\"},\"y\":{\"field\":\"e\"}},\"id\":\"1538\",\"type\":\"Line\"},{\"attributes\":{\"label\":{\"value\":\"\\u03b8 = 0.7\"},\"renderers\":[{\"id\":\"1512\",\"type\":\"GlyphRenderer\"}]},\"id\":\"1522\",\"type\":\"LegendItem\"},{\"attributes\":{},\"id\":\"1464\",\"type\":\"BasicTicker\"},{\"attributes\":{\"line_alpha\":0.1,\"line_color\":\"#1f77b4\",\"x\":{\"field\":\"x\"},\"y\":{\"field\":\"e\"}},\"id\":\"1539\",\"type\":\"Line\"},{\"attributes\":{\"callback\":null,\"tooltips\":[[\"Capital pr. capita\",\"@x{0,0.00}\"],[\"Savings rate for \\u03b8 = 0.3\",\"@a{0.00}\"],[\"Savings rate for \\u03b8 = 0.5\",\"@b{0.00}\"],[\"Savings rate for \\u03b8 = 0.7\",\"@c{0.00}\"],[\"Savings rate for \\u03b8 = 1.5\",\"@d{0.00}\"],[\"Savings rate for Steady state\",\"@e{0.00}\"]]},\"id\":\"1445\",\"type\":\"HoverTool\"},{\"attributes\":{\"line_color\":\"blue\",\"x\":{\"field\":\"x\"},\"y\":{\"field\":\"b\"}},\"id\":\"1496\",\"type\":\"Line\"},{\"attributes\":{\"dimension\":1,\"plot\":{\"id\":\"1448\",\"subtype\":\"Figure\",\"type\":\"Plot\"},\"ticker\":{\"id\":\"1464\",\"type\":\"BasicTicker\"}},\"id\":\"1467\",\"type\":\"Grid\"},{\"attributes\":{\"data_source\":{\"id\":\"1446\",\"type\":\"ColumnDataSource\"},\"glyph\":{\"id\":\"1538\",\"type\":\"Line\"},\"hover_glyph\":null,\"muted_glyph\":null,\"nonselection_glyph\":{\"id\":\"1539\",\"type\":\"Line\"},\"selection_glyph\":null,\"view\":{\"id\":\"1541\",\"type\":\"CDSView\"}},\"id\":\"1540\",\"type\":\"GlyphRenderer\"},{\"attributes\":{\"line_color\":\"red\",\"x\":{\"field\":\"x\"},\"y\":{\"field\":\"a\"}},\"id\":\"1483\",\"type\":\"Line\"},{\"attributes\":{\"line_alpha\":0.1,\"line_color\":\"#1f77b4\",\"x\":{\"field\":\"x\"},\"y\":{\"field\":\"b\"}},\"id\":\"1497\",\"type\":\"Line\"},{\"attributes\":{\"callback\":null},\"id\":\"1450\",\"type\":\"DataRange1d\"},{\"attributes\":{\"source\":{\"id\":\"1446\",\"type\":\"ColumnDataSource\"}},\"id\":\"1541\",\"type\":\"CDSView\"},{\"attributes\":{\"data_source\":{\"id\":\"1446\",\"type\":\"ColumnDataSource\"},\"glyph\":{\"id\":\"1496\",\"type\":\"Line\"},\"hover_glyph\":null,\"muted_glyph\":null,\"nonselection_glyph\":{\"id\":\"1497\",\"type\":\"Line\"},\"selection_glyph\":null,\"view\":{\"id\":\"1499\",\"type\":\"CDSView\"}},\"id\":\"1498\",\"type\":\"GlyphRenderer\"},{\"attributes\":{\"line_alpha\":0.1,\"line_color\":\"#1f77b4\",\"x\":{\"field\":\"x\"},\"y\":{\"field\":\"a\"}},\"id\":\"1484\",\"type\":\"Line\"},{\"attributes\":{\"source\":{\"id\":\"1446\",\"type\":\"ColumnDataSource\"}},\"id\":\"1499\",\"type\":\"CDSView\"},{\"attributes\":{},\"id\":\"1468\",\"type\":\"PanTool\"},{\"attributes\":{\"label\":{\"value\":\"Steady state\"},\"renderers\":[{\"id\":\"1540\",\"type\":\"GlyphRenderer\"}]},\"id\":\"1550\",\"type\":\"LegendItem\"},{\"attributes\":{},\"id\":\"1505\",\"type\":\"Selection\"},{\"attributes\":{},\"id\":\"1469\",\"type\":\"WheelZoomTool\"},{\"attributes\":{\"callback\":null,\"data\":{\"a\":{\"__ndarray__\":\"tlE6JJiB7z80vA8ma7HsP3c0G5mkhes/mGNz5DyM6j/EikKag63pPyLiKhX/4eg/wRfhGBAi6D9Z9jm3D27nPwvzbbvWwOY/j2dGI9cZ5j8Qm9UZRHnlP7vvT70r3uQ/OMkGSPZF5D8h0rDWWrHjP1n+QuWUIOM//ZUC9F2T4j/XuC6CKwniP25xfFKogeE/xfMM+l784D/B+qzQtnngP/eHPdQn8t8/4r1EE5z03j9rdWCkofrdP8jxYToIBN0/55uYCmkQ3D8bxo+TqR7bP69lA428Mto/NA7y74NI2T8Co/9kpGHYP28qAID+etc/R1qJPmiY1j8neHc79LfVP8PT4OZY2dQ/14030V/70z+yVs2ARiLTPzwp3MeDStI/AD/ZI6t00T9EBVn+maDQP1gkw1eUnM8/W4jK1Tn7zT+k8/9x91zMP2zrBde5wco/lFBAWHIpyT8T9tFglZfHPxJpcoTHBMY/4MjmDvF0xD8wAVin+OfCPyMo7fTQXcE/SEWDGxWsvz8DVk2X2aC8PwKIsQZ8mrk/Oi4H7kyYtj/g5JSo/pmzP5lXxgq9nbA/pd65xalLqz+qrd1902ulPzbzQsVqQJ8/zBF+npO6kz/g//La71aAPzqMMOKOeUU+Ooww4o55RT6020fnjnlFPitKvuiOeUU+vVza4o55RT6SVT7xjnlFPkPr9uKOeUU++L536o55RT46jDDijnlFPoAIU+aOeUU+PyyP9455RT46jDDijnlFPtlYK+OOeUU+Ooww4o55RT46jDDijnlFPv4iLPKOeUU+Ooww4o55RT46jDDijnlFPvE4BfiOeUU+x8tc8455RT46jDDijnlFPot4yuWOeUU+Ooww4o55RT46jDDijnlFPjqMMOKOeUU+qJ/g5Y55RT46jDDijnlFPjqMMOKOeUU+y3ba4455RT46jDDijnlFPjqMMOKOeUU+Ooww4o55RT5z9sTjjnlFPjqMMOKOeUU+Ooww4o55RT46jDDijnlFPjqMMOKOeUU+H9HO6Y55RT46jDDijnlFPj1AVPOOeUU+gM6l9I55RT4=\",\"dtype\":\"float64\",\"shape\":[100]},\"b\":{\"__ndarray__\":\"6DHAC+r/6z9MUXYvs6voP477R74XfOc/6h+8vQiM5j9LSBv5sL7lP1EBZhOSBeU/fMTA3Pdc5D9K0GX6TsDjP57/gr6kLeM/bGkNCVai4j9bZCO26B3iP63uKPbinuE/mehfGlYj4T9aXxVZ4a3gP+wrqrVGPOA/7YS+bVGc3z81V1ZXZMbeP9LCtGkx9t0/y33OxDsr3T/YN7DIkmrcP4LhDsoTqNs/XKl2YeTp2j/lLHoewS/aP4EF1Itnedk/yytGdLTG2D+i9hMCShPYP2qIDcR/Ztc/mypQcm681j8Vx/5BQxjWP8ib+hGactU/xuf+A9rP1D+8lUptrTPUPz3o4An2k9M/aiaINvX40j+8ZnCEtV7SP846EACSxtE/u1HdZWYw0T/F/6PID5zQP9l23DXyA9A/p0tUMbjnzj8HY4xLesrNPxJ+3U3Dr8w/6agO1QiYyz+6adyU74LKPywID+JqcMk/nokahZhgyD/LBk60VFPHP17LAk8GSMY//1LNnGk+xT85AhraEj/EP/Gu31RLOMM/UXGgX3I1wj/oRqFf6jPBP/xtCHjwNMA/L8l0iXRwvj+GhJ95F3u8PzaVzdOWibo/nK2Yp+abuD8JbZQs2rG2PyuWEQNby7Q/KbHB5E3osj9OZ/DknQixP31mAL6AWK4/njzRDwOmqj+pkLba0/mmPznYMSKmU6M/8W3aacBmnz96md8zzDGYP2eEMablCJE//EE3B5vXgz8g4nmXM9BmPzqMMOKOeUU+Ooww4o55RT46jDDijnlFPtkwhOWOeUU+Ooww4o55RT70ad78jnlFPnzWZ+OOeUU+Ooww4o55RT46jDDijnlFPg1A+OWOeUU+Ooww4o55RT46jDDijnlFPtqHwOWOeUU+Ooww4o55RT78ERjjjnlFPjqMMOKOeUU+Ooww4o55RT6rWoHojnlFPjqMMOKOeUU+VwB++o55RT46jDDijnlFPj+vju+OeUU+Ooww4o55RT46jDDijnlFPgTA2ueOeUU+zajl6Y55RT46jDDijnlFPr5ToeuOeUU+Ooww4o55RT4=\",\"dtype\":\"float64\",\"shape\":[100]},\"c\":{\"__ndarray__\":\"ugUQ8I385j/MyiobWnjlP2wm3xEyf+Q/+0Vscke24z/BNtjxuAjjPx0bOLSpbeI/cNgiEuHf4T8SNLtvIl3hPyrNMhi54+A/Qn2xJYNv4D+QINaihQLgP/r4Z7TGNN8/gq/9bVpz3j9iG7WbrLPdP0YtCE4S+9w/RJaYJdBI3D91TB5nSJzbP1xqdKP09No/bX6s/QZM2j/waEvKmq7ZP25hG6UiFdk/uHd4mE9/2D+r0yRl2+zXPzm0Jvd4Xdc/EW3blhLU1j9r5DlWBkvWP9P+cbZRwdU/vl/sM2Y81T+I2aeNN7jUPxGwAPNeN9Q/HaxZy+C+0z9kVro63D7TPxNZiWWfxtI/wsZa5V9O0j9QL3bNN9rRP3BtQZejZdE/2LSgfIby0D+m1t472YDQP2LGYriUENA/XYyaWl1Dzz9vpJn4N2jOP3GgmXuqj80/nfHCj5S5zD9+1ZiZ7OXLP78pVh6VFMs/HINCoGxFyj98ZuY5f3jJP/7EWfLBrcg/6BI4PhLlxz/5/OhvUR7HP85wmpF8WcY/ll3GxoOWxT8s2+x9xtDEPyNjf53DEcQ/ItszJnlUwz+EtuQw5JjCPwNVaXTg3sE/ofNwJ3EmwT+qs5KQg2/APxiCgQQedL8/rJkC+AoMvj9HO8r6x6a8P1ey1E4+RLs/CcaZz2nkuT8G3ns+Ioe4P/SjI1VJLLc/tvNE/uXTtT+LgSPMgX20P46TY8lHKbM/9l6enYXXsT8JM7L8/IewP7zE+4ZCda4/t42ijMXeqz+MHJNHj0ypP/T0q/xavqY/nKFgcD40pD9aSkQI/a2hPzk8sJW0Wp4/HjK7o48tmT9ilRCfeUCUP9Ug4Tq+sY4/PH34q5buhD8Cgqn4pm52P4fpsWhhEUg/e1u25Y55RT46jDDijnlFPjqMMOKOeUU+A+mw4455RT5o4e7pjnlFPjqMMOKOeUU+e6Rp6455RT74KUjmjnlFPlVFgeiOeUU+Ooww4o55RT46jDDijnlFPjqMMOKOeUU+Ooww4o55RT46jDDijnlFPtXFjuOOeUU+Ooww4o55RT4=\",\"dtype\":\"float64\",\"shape\":[100]},\"d\":{\"__ndarray__\":\"c5+nfvL60j9Scr5paBTcP8/+OwI5pts/IJdvSUUR2z9CyH278n3aP2sPOCG28tk/8HtnH0du2T+qbrNzsfHYP8Ho6pGwfNg/+/yHD9sM2D/Gq8zEjaLXPwdrI+CpPNc/F+ANmu3a1j9W3uY9wHvWP531jWGTIdY/eLB3KmDL1T/o1+hJ33bVPyjauimqJNU/aTsxR17Y1D8eQhSzyYbUP1BP5serO9Q/Lqg6a4/z0z/mpLoUEqvTP0hpiNnSY9M/Cfwu0BMf0z+2XersAeDSP5fB75NwntI/imZaCJNe0j+EEUZ5AhzSPxxTX1f73tE/1Nx53c+i0T9YQ4V2j2fRP1cC4RI6LdE/tXo/eJv40D+Iq6aqhb/QP3sz7kFPh9A/kLn/h+xP0D+4hVZQWRnQP2EjRnatvc8/a8FJ0m5Vzz8mbfAVgO7OP5eiSlLTiM4/rQVi+lUkzj8xwFKUAsHNP1ytBHDJXs0/QvY1RKn9zD8KvTynlp3MP8X7TrWSPsw/+qnp95Dgyz+1irH3iYPLP2QgSwRHKMs/xOxOLdnNyj/wqvKIHnTKP9nBAorgGso/tEXNH2XCyT9sLDxioGrJP5Et94hcE8k/PAMuVge9yD9vCue4eWfIPx75uzikEsg/+RINOY++xz82eK8WNmvHP0i4glSTGMc/B/q3/abGxj/MffXIC23GP38dUqf4HMY/zxvleYzNxT9cDJ2pwn7FP3Rw13CXMMU/+BdWE/7ixD/IycQg95XEP/PNgV+DScQ/DyLHPIb9wz+s9ngJELLDPwbmNjApZ8M/GL4VQ8Acwz+2Lp5Q3NLCP9qAd85/icI/KMyhRZhAwj+TJf/1GPjBPwrqbPL7r8E/oHeQhy9owT/wgDa+1iDBPwxbBCbt2cA/G7A2N3CTwD/di114YE3AP8UY2B+8B8A/XC0J+veEvz80b7wzRPu+P4r/0Khdcr4/naHTjDbqvT+BVxt1zmK9PyUW0psr3Lw/jMqkDjxWvD8WOIrQC9G7P/BqazqzNLs//lqqbNWyuj9wfRSkkDG6PyoQ/9jdsLk/G/x7yMcwuT8=\",\"dtype\":\"float64\",\"shape\":[100]},\"e\":{\"__ndarray__\":\"GBcOhGQBQz/YiGcfbNqaPzE1vKk/SqU/D+sbQjvjqz+JUyxSfeOwPxFvBOtpmLM/ZyfYC1Ygtj/uaMDEE4W4P8gr59A5zbo/MagULHn9vD84mpZATxm/P9AG2Le1kcA/U7+adPaOwT/WalMtRYXCPznxCz9WdcM/xvhUQMBfxD/eryiRAkXFPxTFHieKJcY/4ybAIrUBxz+Tq4SJ1dnHP79nrGEzrsg/bZPgWQ5/yT/KiPQZn0zKP0gFuFEYF8s/siMPlafeyz+af4YQdqPMPzxWxh6pZc0/CAk/xWIlzj99sO0cwuLOP8G7/qrjnc8/okoh1nAr0D/lr+Qq6obQP3u0QAZp4dA/Ixmryvc60T/JeYIfoJPRP+4VUQNr69E/dT7P22BC0j+UdPqDiZjSP03Fh1js7dI/wjXsQpBC0z8DkCzDe5bTP1gYnvi06dM/Nk67qUE81D+IlCpLJ47UP646EAZr39Q/HLjBvREw1T/d3OwUIIDVPx8mQ3Kaz9U/aTm3BIUe1j8/sVjH42zWP7/U2IS6utY/1nzB2gwI1z9eRGY83lTXP/kjl/Uxodc/O8EaLQvt1z+C/PXmbDjYPwGmhQZag9g/r7RuUNXN2D9a3mhs4RfZPx0E5+aAYdk/y4egMraq2T8wTP6pg/PZP3PYbZDrO9o/6tacE/CD2j9l7p5Mk8vaP5zC/0DXEts/urvC471Z2z//DFIWSaDbPyZPXql65ts/deOvXVQs3D8yOOvk13HcP8HtSOIGt9w/DsVC6+L73D9hKzaIbUDdP5Al/TSohN0/okt+YZTI3T9ZdzRyMwzeP226rsCGT94/ECUJnI+S3j802l5JT9XeP0flNQTHF98/eTvl/vdZ3z/ZSvVi45vfP69xe1GK3d8/31i48XYP4D9S9gGVBzDgP4v4c5d3UOA/k81Oesdw4D+JIl2795DgP+ZgFdUIseA/D4u5PvvQ4D/hkHVsz/DgPywzfM+FEOE/cIsi1h4w4T/MS/rrmk/hP6nJ6nn6buE/fORI5j2O4T/J2O2UZa3hP54OTedxzOE/g/GIPGPr4T8=\",\"dtype\":\"float64\",\"shape\":[100]},\"x\":{\"__ndarray__\":\"/Knx0k1iUD9TAUAmEXXTP36IVv/fbOM/UxCNazcf7T8TzOFrx2jzP/0P/SHzQfg/6FMY2B4b/T/pyxlHJfoAQN5tJyK7ZgNA0w81/VDTBUDIsULY5j8IQL1TULN8rApAs/VdjhIZDUCol2tpqIUPQM+cPCIf+RBAyW3DD2ovEkDEPkr9tGUTQL8P0er/mxRAueBX2ErSFUC0sd7FlQgXQK6CZbPgPhhAqVPsoCt1GUCjJHOOdqsaQJ71+XvB4RtAmcaAaQwYHUCTlwdXV04eQI5ojkSihB9AxJwKmXZdIEBBBc4PnPggQL5tkYbBkyFAO9ZU/eYuIkC5Phh0DMoiQDan2+oxZSNAsw+fYVcAJEAxeGLYfJskQK7gJU+iNiVAK0npxcfRJUCosaw87WwmQCYacLMSCCdAo4IzKjijJ0Ag6/agXT4oQJ5TuheD2ShAG7x9jqh0KUCYJEEFzg8qQBWNBHzzqipAk/XH8hhGK0AQXotpPuErQI3GTuBjfCxACy8SV4kXLUCIl9XNrrItQAUAmUTUTS5Agmhcu/noLkAA0R8yH4QvQL+ccVSiDzBA/lDTDzVdMEA8BTXLx6owQHu5loZa+DBAum34Qe1FMUD4IVr9f5MxQDfWu7gS4TFAdYoddKUuMkC0Pn8vOHwyQPPy4OrKyTJAMadCpl0XM0BwW6Rh8GQzQK8PBh2DsjNA7cNn2BUANEAseMmTqE00QGssK087mzRAqeCMCs7oNEDolO7FYDY1QCZJUIHzgzVAZf2xPIbRNUCksRP4GB82QOJldbOrbDZAIRrXbj66NkBgzjgq0Qc3QJ6CmuVjVTdA3Tb8oPaiN0Ac611cifA3QFqfvxccPjhAmVMh066LOEDYB4OOQdk4QBa85EnUJjlAVXBGBWd0OUCTJKjA+cE5QNLYCXyMDzpAEY1rNx9dOkBPQc3ysao6QI71Lq5E+DpAzamQaddFO0ALXvIkapM7QEoSVOD84DtAica1m48uPEDHehdXInw8QAYveRK1yTxARePazUcXPUCDlzyJ2mQ9QMJLnkRtsj1AAAAAAAAAPkA=\",\"dtype\":\"float64\",\"shape\":[100]}},\"selected\":{\"id\":\"1505\",\"type\":\"Selection\"},\"selection_policy\":{\"id\":\"1506\",\"type\":\"UnionRenderers\"}},\"id\":\"1446\",\"type\":\"ColumnDataSource\"},{\"attributes\":{\"label\":{\"value\":\"\\u03b8 = 1.5\"},\"renderers\":[{\"id\":\"1526\",\"type\":\"GlyphRenderer\"}]},\"id\":\"1536\",\"type\":\"LegendItem\"},{\"attributes\":{\"line_color\":\"purple\",\"x\":{\"field\":\"x\"},\"y\":{\"field\":\"d\"}},\"id\":\"1524\",\"type\":\"Line\"},{\"attributes\":{},\"id\":\"1506\",\"type\":\"UnionRenderers\"},{\"attributes\":{\"overlay\":{\"id\":\"1476\",\"type\":\"BoxAnnotation\"}},\"id\":\"1470\",\"type\":\"BoxZoomTool\"},{\"attributes\":{\"label\":{\"value\":\"\\u03b8 = 0.5\"},\"renderers\":[{\"id\":\"1498\",\"type\":\"GlyphRenderer\"}]},\"id\":\"1508\",\"type\":\"LegendItem\"},{\"attributes\":{},\"id\":\"1471\",\"type\":\"ResetTool\"},{\"attributes\":{},\"id\":\"1472\",\"type\":\"SaveTool\"},{\"attributes\":{\"plot\":null,\"text\":\"Figure\"},\"id\":\"1447\",\"type\":\"Title\"},{\"attributes\":{\"line_color\":\"green\",\"x\":{\"field\":\"x\"},\"y\":{\"field\":\"c\"}},\"id\":\"1510\",\"type\":\"Line\"},{\"attributes\":{\"active_drag\":\"auto\",\"active_inspect\":\"auto\",\"active_multi\":null,\"active_scroll\":\"auto\",\"active_tap\":\"auto\",\"tools\":[{\"id\":\"1445\",\"type\":\"HoverTool\"},{\"id\":\"1468\",\"type\":\"PanTool\"},{\"id\":\"1469\",\"type\":\"WheelZoomTool\"},{\"id\":\"1470\",\"type\":\"BoxZoomTool\"},{\"id\":\"1471\",\"type\":\"ResetTool\"},{\"id\":\"1472\",\"type\":\"SaveTool\"}]},\"id\":\"1473\",\"type\":\"Toolbar\"},{\"attributes\":{\"line_alpha\":0.1,\"line_color\":\"#1f77b4\",\"x\":{\"field\":\"x\"},\"y\":{\"field\":\"c\"}},\"id\":\"1511\",\"type\":\"Line\"},{\"attributes\":{\"bottom_units\":\"screen\",\"fill_alpha\":{\"value\":0.5},\"fill_color\":{\"value\":\"lightgrey\"},\"left_units\":\"screen\",\"level\":\"overlay\",\"line_alpha\":{\"value\":1.0},\"line_color\":{\"value\":\"black\"},\"line_dash\":[4,4],\"line_width\":{\"value\":2},\"plot\":null,\"render_mode\":\"css\",\"right_units\":\"screen\",\"top_units\":\"screen\"},\"id\":\"1476\",\"type\":\"BoxAnnotation\"},{\"attributes\":{\"data_source\":{\"id\":\"1446\",\"type\":\"ColumnDataSource\"},\"glyph\":{\"id\":\"1510\",\"type\":\"Line\"},\"hover_glyph\":null,\"muted_glyph\":null,\"nonselection_glyph\":{\"id\":\"1511\",\"type\":\"Line\"},\"selection_glyph\":null,\"view\":{\"id\":\"1513\",\"type\":\"CDSView\"}},\"id\":\"1512\",\"type\":\"GlyphRenderer\"},{\"attributes\":{\"source\":{\"id\":\"1446\",\"type\":\"ColumnDataSource\"}},\"id\":\"1513\",\"type\":\"CDSView\"},{\"attributes\":{\"data_source\":{\"id\":\"1446\",\"type\":\"ColumnDataSource\"},\"glyph\":{\"id\":\"1483\",\"type\":\"Line\"},\"hover_glyph\":null,\"muted_glyph\":null,\"nonselection_glyph\":{\"id\":\"1484\",\"type\":\"Line\"},\"selection_glyph\":null,\"view\":{\"id\":\"1486\",\"type\":\"CDSView\"}},\"id\":\"1485\",\"type\":\"GlyphRenderer\"}],\"root_ids\":[\"1448\"]},\"title\":\"Bokeh Application\",\"version\":\"1.0.2\"}};\n",
       "  var render_items = [{\"docid\":\"aea98678-b029-4f7e-8868-8a1c4daa9796\",\"notebook_comms_target\":\"1583\",\"roots\":{\"1448\":\"cdd37ba0-d162-4f5e-98da-bb0fe1cdd5b0\"}}];\n",
       "  root.Bokeh.embed.embed_items_notebook(docs_json, render_items);\n",
       "\n",
       "  }\n",
       "  if (root.Bokeh !== undefined) {\n",
       "    embed_document(root);\n",
       "  } else {\n",
       "    var attempts = 0;\n",
       "    var timer = setInterval(function(root) {\n",
       "      if (root.Bokeh !== undefined) {\n",
       "        embed_document(root);\n",
       "        clearInterval(timer);\n",
       "      }\n",
       "      attempts++;\n",
       "      if (attempts > 100) {\n",
       "        console.log(\"Bokeh: ERROR: Unable to run BokehJS code because BokehJS library is missing\");\n",
       "        clearInterval(timer);\n",
       "      }\n",
       "    }, 10, root)\n",
       "  }\n",
       "})(window);"
      ],
      "application/vnd.bokehjs_exec.v0+json": ""
     },
     "metadata": {
      "application/vnd.bokehjs_exec.v0+json": {
       "id": "1448"
      }
     },
     "output_type": "display_data"
    }
   ],
   "source": [
    "y_names = ['\\u03B8 = 0.3', '\\u03B8 = 0.5','\\u03B8 = 0.7','\\u03B8 = 1.5','Steady state']\n",
    "sks.append(sksopt)\n",
    "model_funcs.plotting(\"Capital pr. capita\",y_names, k0s, sks)"
   ]
  },
  {
   "cell_type": "markdown",
   "metadata": {},
   "source": [
    "Now we can see that we have convergence. Furthermore we acutaully have faster convergence, than in the traditional solow model. For at fixed savings rate $k_{t}<k^{*}$, the transition equation would imply $\\Delta k_{t}>0$. But now, if $k_{t}<k^{*}$ the chosen savings rate by the household will be bigger than at the steady state-level, savings will thus be bigger, implying a bigger $\\Delta k_{t}$ when $k_{t} \\rightarrow k^{*}$ we will see $s_{Kt} \\rightarrow s_{K}^{*}$ and the chosen savings rate will be fixed. <br>\n",
    "Since we have simple solow model, we know that the real optimal fixed savings rate for maximum overall consumption in the long is acutally $s_{K}^{**}=\\alpha$ which in our case is $\\frac{1}{3}$, but we see that this steady state can't be achieved in our model. This is because our representative household is shortsighted and values immediate consumption above future consumption."
   ]
  },
  {
   "cell_type": "markdown",
   "metadata": {},
   "source": [
    "# The simple solow walk"
   ]
  },
  {
   "cell_type": "markdown",
   "metadata": {},
   "source": [
    "Now that we have showed in theory that the model will have convergence, we will show it with a simulation of our model, we will look at a timerange of 150 periods and compare how fast this model compares to the traditional solow-model with a fixed savings rate set at det steady state level savings of our model."
   ]
  },
  {
   "cell_type": "code",
   "execution_count": 19,
   "metadata": {},
   "outputs": [],
   "source": [
    "timeline = 150\n",
    "'''This function finds the implied steady state values of s_k and k_t in our model,\n",
    "basicly by finding the crossing in the above figure.\n",
    "'''\n",
    "k_star, sk_star = model_funcs.find_ss(\n",
    "    t, b, n, beta, delta, alpha, theta, bracket=[5,30])\n",
    "\n",
    "# The evolution of the normal solow model:\n",
    "trad_k_pr, trad_y_pr = model_funcs.solowwalk(\n",
    "    k0, b, l0, n, sk_star, alpha, delta, timeline)\n",
    "\n",
    "# The evolution of the modified solowmodel:\n",
    "k_pr, y_pr, sk_path = model_funcs.mod_solowwalk(\n",
    "    k0, b, l0, n, alpha,delta, weight, theta, t, timeline)\n"
   ]
  },
  {
   "cell_type": "code",
   "execution_count": 21,
   "metadata": {},
   "outputs": [
    {
     "data": {
      "text/html": [
       "\n",
       "\n",
       "\n",
       "\n",
       "\n",
       "\n",
       "  <div class=\"bk-root\" id=\"63f0bdb2-df34-4d33-a0df-a77e1a5f2b10\"></div>\n"
      ]
     },
     "metadata": {},
     "output_type": "display_data"
    },
    {
     "data": {
      "application/javascript": [
       "(function(root) {\n",
       "  function embed_document(root) {\n",
       "    \n",
       "  var docs_json = {\"8946ffc6-3edc-4c31-ad1b-e5ca1fe10414\":{\"roots\":{\"references\":[{\"attributes\":{\"below\":[{\"id\":\"1645\",\"type\":\"LinearAxis\"}],\"left\":[{\"id\":\"1650\",\"type\":\"LinearAxis\"}],\"renderers\":[{\"id\":\"1645\",\"type\":\"LinearAxis\"},{\"id\":\"1649\",\"type\":\"Grid\"},{\"id\":\"1650\",\"type\":\"LinearAxis\"},{\"id\":\"1654\",\"type\":\"Grid\"},{\"id\":\"1663\",\"type\":\"BoxAnnotation\"},{\"id\":\"1680\",\"type\":\"Legend\"},{\"id\":\"1672\",\"type\":\"GlyphRenderer\"},{\"id\":\"1685\",\"type\":\"GlyphRenderer\"},{\"id\":\"1699\",\"type\":\"GlyphRenderer\"}],\"title\":{\"id\":\"1634\",\"type\":\"Title\"},\"toolbar\":{\"id\":\"1660\",\"type\":\"Toolbar\"},\"x_range\":{\"id\":\"1637\",\"type\":\"DataRange1d\"},\"x_scale\":{\"id\":\"1641\",\"type\":\"LinearScale\"},\"y_range\":{\"id\":\"1639\",\"type\":\"DataRange1d\"},\"y_scale\":{\"id\":\"1643\",\"type\":\"LinearScale\"}},\"id\":\"1635\",\"subtype\":\"Figure\",\"type\":\"Plot\"},{\"attributes\":{\"line_alpha\":0.1,\"line_color\":\"#1f77b4\",\"x\":{\"field\":\"x\"},\"y\":{\"field\":\"a\"}},\"id\":\"1671\",\"type\":\"Line\"},{\"attributes\":{\"data_source\":{\"id\":\"1633\",\"type\":\"ColumnDataSource\"},\"glyph\":{\"id\":\"1670\",\"type\":\"Line\"},\"hover_glyph\":null,\"muted_glyph\":null,\"nonselection_glyph\":{\"id\":\"1671\",\"type\":\"Line\"},\"selection_glyph\":null,\"view\":{\"id\":\"1673\",\"type\":\"CDSView\"}},\"id\":\"1672\",\"type\":\"GlyphRenderer\"},{\"attributes\":{\"plot\":{\"id\":\"1635\",\"subtype\":\"Figure\",\"type\":\"Plot\"},\"ticker\":{\"id\":\"1646\",\"type\":\"BasicTicker\"}},\"id\":\"1649\",\"type\":\"Grid\"},{\"attributes\":{},\"id\":\"1659\",\"type\":\"SaveTool\"},{\"attributes\":{\"source\":{\"id\":\"1633\",\"type\":\"ColumnDataSource\"}},\"id\":\"1673\",\"type\":\"CDSView\"},{\"attributes\":{},\"id\":\"1646\",\"type\":\"BasicTicker\"},{\"attributes\":{},\"id\":\"1675\",\"type\":\"BasicTickFormatter\"},{\"attributes\":{},\"id\":\"1677\",\"type\":\"BasicTickFormatter\"},{\"attributes\":{\"label\":{\"value\":\"Steady state level\"},\"renderers\":[{\"id\":\"1699\",\"type\":\"GlyphRenderer\"}]},\"id\":\"1709\",\"type\":\"LegendItem\"},{\"attributes\":{\"items\":[{\"id\":\"1681\",\"type\":\"LegendItem\"},{\"id\":\"1695\",\"type\":\"LegendItem\"},{\"id\":\"1709\",\"type\":\"LegendItem\"}],\"location\":\"bottom_center\",\"plot\":{\"id\":\"1635\",\"subtype\":\"Figure\",\"type\":\"Plot\"}},\"id\":\"1680\",\"type\":\"Legend\"},{\"attributes\":{},\"id\":\"1655\",\"type\":\"PanTool\"},{\"attributes\":{\"label\":{\"value\":\"Model path\"},\"renderers\":[{\"id\":\"1672\",\"type\":\"GlyphRenderer\"}]},\"id\":\"1681\",\"type\":\"LegendItem\"},{\"attributes\":{},\"id\":\"1643\",\"type\":\"LinearScale\"},{\"attributes\":{},\"id\":\"1656\",\"type\":\"WheelZoomTool\"},{\"attributes\":{\"callback\":null,\"data\":{\"a\":{\"__ndarray__\":\"AAAAAAAAFEDDwHMRqBEWQLmjTmo6+hdAzh6TTUu7GUC1ZMWy4lUbQPc4eNotzBxALhnjyY4gHkBnwv/3/VQfQPgb5/ovNiBAVNIDdIe0IEDLEtqW/iYhQHUgbPJDjiFAsxCK8jTrIUBBhkje3T4iQI4RR/cfiiJAJp6dydPNIkD+a5Af+wojQLJyB6LeQSNAr8PM/iNzI0BxAxiHXZ8jQBoQ+sEmxyNAOZVGV9fqI0BI5AzG2QokQCr9UMuNJyRAzqrbuklBJEC8DStrW1gkQEz1FqQIbSRAwMuBX5B/JEBLqn5EK5AkQHQRgfwLnyRAJm8QWGCsJEBq5g1iUbgkQMewUtADwyRApICovpjMJECaOj/eLdUkQDPk9bXd3CRA2WTtFsDjJECN1Ops6ukkQPuHduhv7yRAePqWqWH0JEDoUnQFz/gkQG4oN+LF/CRAA97upVIAJUCleWRcgAMlQCkIIPVYBiVA1AoyWOUIJUBkfzSJLQslQPDepnQ4DSVAdjCZ1AwPJUDoQssNsBAlQDw6Q2AnEiVA7uwuhHcTJUCfw8llpBQlQB6UDdixFSVAmkFS/KIWJUBjSzXXehclQLMOrDo8GCVAEnY2TekYJUAHyZAuhBklQKkTIdQOGiVAy8CY+YoaJUAUYwQp+holQDSeL7ldGyVA1x6d3rYbJUBsnIOqBhwlQGUB8BxOHCVA3tRZ+Y0cJUDRt9E1xxwlQJrWtoz6HCVAciExZSgdJUAMb7ReUR0lQIKQBDZ2HSVAgIPRKZcdJUCGlqCptB0lQNrfVRTPHSVAMsI7sOYdJUBuK7Dm+x0lQHbhisYOHiVAtiv5wB8eJUBfIgbnLh4lQFRoVaI8HiVAJgV200geJUCj/A2wUx4lQIM482xdHiVA6oGTKmYeJUCPsH4Gbh4lQIIx9e90HiVAQMG+Y3seJUCiHpDqgB4lQPzMA9eFHiVAQe5wO4oeJUCdMCQ/jh4lQPw3UduRHiVAUH1r9pQeJUCTN7XSlx4lQPfrpVqaHiVAz3pOoJweJUBtX0Oznh4lQGgAfaSgHiVA9V/MZ6IeJUAdsZDdox4lQHtEhyalHiVA78kYUKYeJUColL1kpx4lQG6b0leoHiVAVYfMKqkeJUB4a9f4qR4lQITg2bqqHiVAPSVcV6seJUA8Qyrcqx4lQAKLemasHiVAu1MpzqweJUAQX3c4rR4lQHBcSJetHiVAeduS7a0eJUDMPuIhrh4lQHPahlauHiVA9gVOl64eJUBvJ/TIrh4lQClp8PSuHiVAAFdcGq8eJUC0E/NDrx4lQK/13VKvHiVAlqfbd68eJUDnSoV6rx4lQMRfpJ2vHiVAH77rva8eJUDkjRDYrx4lQPZPlOevHiVAVcJlAbAeJUDbqlwCsB4lQE78dQqwHiVADr7UFbAeJUBvGM8bsB4lQLiwkSqwHiVA0lgdLLAeJUBgphM3sB4lQCryiziwHiVAKRhaOLAeJUD0HpVLsB4lQEX5O2SwHiVAp0U4W7AeJUB8zZhusB4lQE+r4XOwHiVAXy26fbAeJUCz83l0sB4lQByLOWywHiVAXPgXcLAeJUD3vo1jsB4lQPjXmZKwHiVA\",\"dtype\":\"float64\",\"shape\":[150]},\"b\":{\"__ndarray__\":\"AAAAAAAAFEAN7Y05Wb4UQD+QxWaudxVAhrMv2/4rFkDF21SETtsWQEHPNkWlhRdAkNQeZg4rGECkiQYWmMsYQJv6TftSZxlAKonK0VH+GUA8bYMUqZAaQBhNrbFuHhtAuRWpx7mnG0C6xfRpoiwcQHTGIG1BrRxA8+j6OLApHUBRGTqgCKIdQGUeDL1kFh5AYuH50d6GHkDwQqcukfMeQBfYARiWXB9Aa2B+swfCH0BX04f6/xEgQHOAxUdMQSBAKX+bc/VuIECzFCQDCJsgQAQfi0mQxSBAhfbsY5ruIECmK+Q1MhYhQAn1smZjPCFAkiL3XjlhIUArMdlGv4QhQC6xqAQApyFAGJzZOwbIIUB3eldM3OchQE5dJFKMBiJAjbI6JSAkIkB15alZoUAiQLeN5j8ZXCJASqxH5ZB2IkDHHqsUEZAiQHAKPFeiqCJAy4lW9UzAIkBRY4T3GNciQL//jicO7SJADTujETQCI0BdBoQFkhYjQAEjyRcvKiNAFIknIxI9I0ANT8HJQU8jQBYke3bEYCNAvKVVXqBxI0C+CsmB24EjQHXJIa57kSNAegjdfoagI0COzANfAa8jQJP3g4rxvCNAAUqGD1zKI0D0ssDPRdcjQPtSxIGz4yNAeqtGsqnvI0AEiGXFLPsjQIxA5fdABiRAKgNpYOoQJEAx4qTwLBskQEZwiXYMJSRAP79onYwuJED1oBTvsDckQC4S9tR8QCRA0b8dmfNIJEDxnU1nGFEkQFeO+03uWCRANBpNP3hgJEA3RwwSuWckQAKVlYKzbiRAfTO/M2p1JEAehrmv33skQOoK6WgWgiRAjb65uhCIJEANGWzq0I0kQDvA2ydZkyRAxQ5AjquYJEDNj+Ykyp0kQAyQ59+2oiRAQ+bUoHOnJEBSFWM3AqwkQMfqDGJksCRA3byxzpu0JEApay4bqrgkQB5F8dWQvCRAgvmIflHAJEC1sS6G7cMkQG97S1BmxyRARyP5Mr3KJEDLoX53880kQLY8yFoK0SRABH3bDQPUJEBiGke23tYkQKb7jm6e2SRAg2uURkPcJEAAoPpDzt4kQImyh2JA4SRA0CWClJrjJEAGFgvD3eUkQDkvdc4K6CRA/4SYjiLqJEDmZSPTJewkQFZE6GMV7iRAEc4oAfLvJECESt5jvPEkQMNX/z118yRAIx3DOh31JEC1CeL+tPYkQGw01Cg9+CRA73INUbb5JEBvOzcKIfskQF5laOF9/CRADNxaXs39JEDlVZ8DEP8kQBciz05GACVAKh68uHABJUBM5J61jwIlQJRCQ7WjAyVAEAszI60EJUC4S99mrAUlQB/9x+OhBiVAAjai+Y0HJUCB8XwEcQglQDh15FxLCSVAJ2QEWB0KJUCvishH5wolQKVv/HqpCyVACLZpPWQMJUByWvXXFw0lQBbXu5DEDSVAlDgsq2oOJUC6LSJoCg8lQMob/wWkDyVAkUDCwDcQJUBp6x/SxRAlQJbVl3FOESVAlaKK1NERJUA0kE4uUBIlQGReQ7DJEiVABnbliT4TJUAjVuDorhMlQFxOIPkaFCVASo3j5IIUJUBGicrU5hQlQMTJ5+9GFSVA\",\"dtype\":\"float64\",\"shape\":[150]},\"c\":[10.55994392434922,10.55994392434922,10.55994392434922,10.55994392434922,10.55994392434922,10.55994392434922,10.55994392434922,10.55994392434922,10.55994392434922,10.55994392434922,10.55994392434922,10.55994392434922,10.55994392434922,10.55994392434922,10.55994392434922,10.55994392434922,10.55994392434922,10.55994392434922,10.55994392434922,10.55994392434922,10.55994392434922,10.55994392434922,10.55994392434922,10.55994392434922,10.55994392434922,10.55994392434922,10.55994392434922,10.55994392434922,10.55994392434922,10.55994392434922,10.55994392434922,10.55994392434922,10.55994392434922,10.55994392434922,10.55994392434922,10.55994392434922,10.55994392434922,10.55994392434922,10.55994392434922,10.55994392434922,10.55994392434922,10.55994392434922,10.55994392434922,10.55994392434922,10.55994392434922,10.55994392434922,10.55994392434922,10.55994392434922,10.55994392434922,10.55994392434922,10.55994392434922,10.55994392434922,10.55994392434922,10.55994392434922,10.55994392434922,10.55994392434922,10.55994392434922,10.55994392434922,10.55994392434922,10.55994392434922,10.55994392434922,10.55994392434922,10.55994392434922,10.55994392434922,10.55994392434922,10.55994392434922,10.55994392434922,10.55994392434922,10.55994392434922,10.55994392434922,10.55994392434922,10.55994392434922,10.55994392434922,10.55994392434922,10.55994392434922,10.55994392434922,10.55994392434922,10.55994392434922,10.55994392434922,10.55994392434922,10.55994392434922,10.55994392434922,10.55994392434922,10.55994392434922,10.55994392434922,10.55994392434922,10.55994392434922,10.55994392434922,10.55994392434922,10.55994392434922,10.55994392434922,10.55994392434922,10.55994392434922,10.55994392434922,10.55994392434922,10.55994392434922,10.55994392434922,10.55994392434922,10.55994392434922,10.55994392434922,10.55994392434922,10.55994392434922,10.55994392434922,10.55994392434922,10.55994392434922,10.55994392434922,10.55994392434922,10.55994392434922,10.55994392434922,10.55994392434922,10.55994392434922,10.55994392434922,10.55994392434922,10.55994392434922,10.55994392434922,10.55994392434922,10.55994392434922,10.55994392434922,10.55994392434922,10.55994392434922,10.55994392434922,10.55994392434922,10.55994392434922,10.55994392434922,10.55994392434922,10.55994392434922,10.55994392434922,10.55994392434922,10.55994392434922,10.55994392434922,10.55994392434922,10.55994392434922,10.55994392434922,10.55994392434922,10.55994392434922,10.55994392434922,10.55994392434922,10.55994392434922,10.55994392434922,10.55994392434922,10.55994392434922,10.55994392434922,10.55994392434922,10.55994392434922,10.55994392434922,10.55994392434922,10.55994392434922,10.55994392434922,10.55994392434922,10.55994392434922],\"x\":[0,1,2,3,4,5,6,7,8,9,10,11,12,13,14,15,16,17,18,19,20,21,22,23,24,25,26,27,28,29,30,31,32,33,34,35,36,37,38,39,40,41,42,43,44,45,46,47,48,49,50,51,52,53,54,55,56,57,58,59,60,61,62,63,64,65,66,67,68,69,70,71,72,73,74,75,76,77,78,79,80,81,82,83,84,85,86,87,88,89,90,91,92,93,94,95,96,97,98,99,100,101,102,103,104,105,106,107,108,109,110,111,112,113,114,115,116,117,118,119,120,121,122,123,124,125,126,127,128,129,130,131,132,133,134,135,136,137,138,139,140,141,142,143,144,145,146,147,148,149]},\"selected\":{\"id\":\"1692\",\"type\":\"Selection\"},\"selection_policy\":{\"id\":\"1693\",\"type\":\"UnionRenderers\"}},\"id\":\"1633\",\"type\":\"ColumnDataSource\"},{\"attributes\":{},\"id\":\"1658\",\"type\":\"ResetTool\"},{\"attributes\":{},\"id\":\"1692\",\"type\":\"Selection\"},{\"attributes\":{},\"id\":\"1651\",\"type\":\"BasicTicker\"},{\"attributes\":{\"callback\":null,\"tooltips\":[[\"T\",\"@x{0,0.00}\"],[\"Capital pr. capita for Model path\",\"@a{0.00}\"],[\"Capital pr. capita for Fixed Savings rate\",\"@b{0.00}\"],[\"Capital pr. capita for Steady state level\",\"@c{0.00}\"]]},\"id\":\"1632\",\"type\":\"HoverTool\"},{\"attributes\":{\"line_color\":\"blue\",\"x\":{\"field\":\"x\"},\"y\":{\"field\":\"b\"}},\"id\":\"1683\",\"type\":\"Line\"},{\"attributes\":{},\"id\":\"1641\",\"type\":\"LinearScale\"},{\"attributes\":{\"data_source\":{\"id\":\"1633\",\"type\":\"ColumnDataSource\"},\"glyph\":{\"id\":\"1683\",\"type\":\"Line\"},\"hover_glyph\":null,\"muted_glyph\":null,\"nonselection_glyph\":{\"id\":\"1684\",\"type\":\"Line\"},\"selection_glyph\":null,\"view\":{\"id\":\"1686\",\"type\":\"CDSView\"}},\"id\":\"1685\",\"type\":\"GlyphRenderer\"},{\"attributes\":{\"axis_label\":\"T\",\"formatter\":{\"id\":\"1675\",\"type\":\"BasicTickFormatter\"},\"plot\":{\"id\":\"1635\",\"subtype\":\"Figure\",\"type\":\"Plot\"},\"ticker\":{\"id\":\"1646\",\"type\":\"BasicTicker\"}},\"id\":\"1645\",\"type\":\"LinearAxis\"},{\"attributes\":{\"line_alpha\":0.1,\"line_color\":\"#1f77b4\",\"x\":{\"field\":\"x\"},\"y\":{\"field\":\"b\"}},\"id\":\"1684\",\"type\":\"Line\"},{\"attributes\":{\"callback\":null},\"id\":\"1639\",\"type\":\"DataRange1d\"},{\"attributes\":{\"overlay\":{\"id\":\"1663\",\"type\":\"BoxAnnotation\"}},\"id\":\"1657\",\"type\":\"BoxZoomTool\"},{\"attributes\":{\"source\":{\"id\":\"1633\",\"type\":\"ColumnDataSource\"}},\"id\":\"1686\",\"type\":\"CDSView\"},{\"attributes\":{\"bottom_units\":\"screen\",\"fill_alpha\":{\"value\":0.5},\"fill_color\":{\"value\":\"lightgrey\"},\"left_units\":\"screen\",\"level\":\"overlay\",\"line_alpha\":{\"value\":1.0},\"line_color\":{\"value\":\"black\"},\"line_dash\":[4,4],\"line_width\":{\"value\":2},\"plot\":null,\"render_mode\":\"css\",\"right_units\":\"screen\",\"top_units\":\"screen\"},\"id\":\"1663\",\"type\":\"BoxAnnotation\"},{\"attributes\":{},\"id\":\"1693\",\"type\":\"UnionRenderers\"},{\"attributes\":{\"label\":{\"value\":\"Fixed Savings rate\"},\"renderers\":[{\"id\":\"1685\",\"type\":\"GlyphRenderer\"}]},\"id\":\"1695\",\"type\":\"LegendItem\"},{\"attributes\":{\"plot\":null,\"text\":\"Evolution of capital\"},\"id\":\"1634\",\"type\":\"Title\"},{\"attributes\":{\"dimension\":1,\"plot\":{\"id\":\"1635\",\"subtype\":\"Figure\",\"type\":\"Plot\"},\"ticker\":{\"id\":\"1651\",\"type\":\"BasicTicker\"}},\"id\":\"1654\",\"type\":\"Grid\"},{\"attributes\":{\"callback\":null},\"id\":\"1637\",\"type\":\"DataRange1d\"},{\"attributes\":{\"axis_label\":\"Capital pr. capita\",\"formatter\":{\"id\":\"1677\",\"type\":\"BasicTickFormatter\"},\"plot\":{\"id\":\"1635\",\"subtype\":\"Figure\",\"type\":\"Plot\"},\"ticker\":{\"id\":\"1651\",\"type\":\"BasicTicker\"}},\"id\":\"1650\",\"type\":\"LinearAxis\"},{\"attributes\":{\"line_color\":\"green\",\"x\":{\"field\":\"x\"},\"y\":{\"field\":\"c\"}},\"id\":\"1697\",\"type\":\"Line\"},{\"attributes\":{\"line_alpha\":0.1,\"line_color\":\"#1f77b4\",\"x\":{\"field\":\"x\"},\"y\":{\"field\":\"c\"}},\"id\":\"1698\",\"type\":\"Line\"},{\"attributes\":{\"active_drag\":\"auto\",\"active_inspect\":\"auto\",\"active_multi\":null,\"active_scroll\":\"auto\",\"active_tap\":\"auto\",\"tools\":[{\"id\":\"1632\",\"type\":\"HoverTool\"},{\"id\":\"1655\",\"type\":\"PanTool\"},{\"id\":\"1656\",\"type\":\"WheelZoomTool\"},{\"id\":\"1657\",\"type\":\"BoxZoomTool\"},{\"id\":\"1658\",\"type\":\"ResetTool\"},{\"id\":\"1659\",\"type\":\"SaveTool\"}]},\"id\":\"1660\",\"type\":\"Toolbar\"},{\"attributes\":{\"data_source\":{\"id\":\"1633\",\"type\":\"ColumnDataSource\"},\"glyph\":{\"id\":\"1697\",\"type\":\"Line\"},\"hover_glyph\":null,\"muted_glyph\":null,\"nonselection_glyph\":{\"id\":\"1698\",\"type\":\"Line\"},\"selection_glyph\":null,\"view\":{\"id\":\"1700\",\"type\":\"CDSView\"}},\"id\":\"1699\",\"type\":\"GlyphRenderer\"},{\"attributes\":{\"line_color\":\"red\",\"x\":{\"field\":\"x\"},\"y\":{\"field\":\"a\"}},\"id\":\"1670\",\"type\":\"Line\"},{\"attributes\":{\"source\":{\"id\":\"1633\",\"type\":\"ColumnDataSource\"}},\"id\":\"1700\",\"type\":\"CDSView\"}],\"root_ids\":[\"1635\"]},\"title\":\"Bokeh Application\",\"version\":\"1.0.2\"}};\n",
       "  var render_items = [{\"docid\":\"8946ffc6-3edc-4c31-ad1b-e5ca1fe10414\",\"notebook_comms_target\":\"1750\",\"roots\":{\"1635\":\"63f0bdb2-df34-4d33-a0df-a77e1a5f2b10\"}}];\n",
       "  root.Bokeh.embed.embed_items_notebook(docs_json, render_items);\n",
       "\n",
       "  }\n",
       "  if (root.Bokeh !== undefined) {\n",
       "    embed_document(root);\n",
       "  } else {\n",
       "    var attempts = 0;\n",
       "    var timer = setInterval(function(root) {\n",
       "      if (root.Bokeh !== undefined) {\n",
       "        embed_document(root);\n",
       "        clearInterval(timer);\n",
       "      }\n",
       "      attempts++;\n",
       "      if (attempts > 100) {\n",
       "        console.log(\"Bokeh: ERROR: Unable to run BokehJS code because BokehJS library is missing\");\n",
       "        clearInterval(timer);\n",
       "      }\n",
       "    }, 10, root)\n",
       "  }\n",
       "})(window);"
      ],
      "application/vnd.bokehjs_exec.v0+json": ""
     },
     "metadata": {
      "application/vnd.bokehjs_exec.v0+json": {
       "id": "1635"
      }
     },
     "output_type": "display_data"
    },
    {
     "data": {
      "text/html": [
       "\n",
       "\n",
       "\n",
       "\n",
       "\n",
       "\n",
       "  <div class=\"bk-root\" id=\"5efbefb8-eac3-483f-a6b8-3f2835b0bb42\"></div>\n"
      ]
     },
     "metadata": {},
     "output_type": "display_data"
    },
    {
     "data": {
      "application/javascript": [
       "(function(root) {\n",
       "  function embed_document(root) {\n",
       "    \n",
       "  var docs_json = {\"be450277-6a1e-4038-b8c0-b022ffa5bb88\":{\"roots\":{\"references\":[{\"attributes\":{\"below\":[{\"id\":\"1812\",\"type\":\"LinearAxis\"}],\"left\":[{\"id\":\"1817\",\"type\":\"LinearAxis\"}],\"renderers\":[{\"id\":\"1812\",\"type\":\"LinearAxis\"},{\"id\":\"1816\",\"type\":\"Grid\"},{\"id\":\"1817\",\"type\":\"LinearAxis\"},{\"id\":\"1821\",\"type\":\"Grid\"},{\"id\":\"1830\",\"type\":\"BoxAnnotation\"},{\"id\":\"1847\",\"type\":\"Legend\"},{\"id\":\"1839\",\"type\":\"GlyphRenderer\"},{\"id\":\"1852\",\"type\":\"GlyphRenderer\"}],\"title\":{\"id\":\"1801\",\"type\":\"Title\"},\"toolbar\":{\"id\":\"1827\",\"type\":\"Toolbar\"},\"x_range\":{\"id\":\"1804\",\"type\":\"DataRange1d\"},\"x_scale\":{\"id\":\"1808\",\"type\":\"LinearScale\"},\"y_range\":{\"id\":\"1806\",\"type\":\"DataRange1d\"},\"y_scale\":{\"id\":\"1810\",\"type\":\"LinearScale\"}},\"id\":\"1802\",\"subtype\":\"Figure\",\"type\":\"Plot\"},{\"attributes\":{},\"id\":\"1823\",\"type\":\"WheelZoomTool\"},{\"attributes\":{\"line_alpha\":0.1,\"line_color\":\"#1f77b4\",\"x\":{\"field\":\"x\"},\"y\":{\"field\":\"b\"}},\"id\":\"1851\",\"type\":\"Line\"},{\"attributes\":{},\"id\":\"1826\",\"type\":\"SaveTool\"},{\"attributes\":{\"callback\":null,\"tooltips\":[[\"T\",\"@x{0,0.00}\"],[\"Savings rate for Model\",\"@a{0.00}\"],[\"Savings rate for Steady state/Fixed\",\"@b{0.00}\"]]},\"id\":\"1799\",\"type\":\"HoverTool\"},{\"attributes\":{\"dimension\":1,\"plot\":{\"id\":\"1802\",\"subtype\":\"Figure\",\"type\":\"Plot\"},\"ticker\":{\"id\":\"1818\",\"type\":\"BasicTicker\"}},\"id\":\"1821\",\"type\":\"Grid\"},{\"attributes\":{},\"id\":\"1825\",\"type\":\"ResetTool\"},{\"attributes\":{\"overlay\":{\"id\":\"1830\",\"type\":\"BoxAnnotation\"}},\"id\":\"1824\",\"type\":\"BoxZoomTool\"},{\"attributes\":{},\"id\":\"1810\",\"type\":\"LinearScale\"},{\"attributes\":{\"label\":{\"value\":\"Steady state/Fixed\"},\"renderers\":[{\"id\":\"1852\",\"type\":\"GlyphRenderer\"}]},\"id\":\"1862\",\"type\":\"LegendItem\"},{\"attributes\":{\"active_drag\":\"auto\",\"active_inspect\":\"auto\",\"active_multi\":null,\"active_scroll\":\"auto\",\"active_tap\":\"auto\",\"tools\":[{\"id\":\"1799\",\"type\":\"HoverTool\"},{\"id\":\"1822\",\"type\":\"PanTool\"},{\"id\":\"1823\",\"type\":\"WheelZoomTool\"},{\"id\":\"1824\",\"type\":\"BoxZoomTool\"},{\"id\":\"1825\",\"type\":\"ResetTool\"},{\"id\":\"1826\",\"type\":\"SaveTool\"}]},\"id\":\"1827\",\"type\":\"Toolbar\"},{\"attributes\":{},\"id\":\"1818\",\"type\":\"BasicTicker\"},{\"attributes\":{},\"id\":\"1808\",\"type\":\"LinearScale\"},{\"attributes\":{\"line_alpha\":0.1,\"line_color\":\"#1f77b4\",\"x\":{\"field\":\"x\"},\"y\":{\"field\":\"a\"}},\"id\":\"1838\",\"type\":\"Line\"},{\"attributes\":{\"bottom_units\":\"screen\",\"fill_alpha\":{\"value\":0.5},\"fill_color\":{\"value\":\"lightgrey\"},\"left_units\":\"screen\",\"level\":\"overlay\",\"line_alpha\":{\"value\":1.0},\"line_color\":{\"value\":\"black\"},\"line_dash\":[4,4],\"line_width\":{\"value\":2},\"plot\":null,\"render_mode\":\"css\",\"right_units\":\"screen\",\"top_units\":\"screen\"},\"id\":\"1830\",\"type\":\"BoxAnnotation\"},{\"attributes\":{},\"id\":\"1859\",\"type\":\"Selection\"},{\"attributes\":{\"axis_label\":\"T\",\"formatter\":{\"id\":\"1842\",\"type\":\"BasicTickFormatter\"},\"plot\":{\"id\":\"1802\",\"subtype\":\"Figure\",\"type\":\"Plot\"},\"ticker\":{\"id\":\"1813\",\"type\":\"BasicTicker\"}},\"id\":\"1812\",\"type\":\"LinearAxis\"},{\"attributes\":{},\"id\":\"1813\",\"type\":\"BasicTicker\"},{\"attributes\":{\"items\":[{\"id\":\"1848\",\"type\":\"LegendItem\"},{\"id\":\"1862\",\"type\":\"LegendItem\"}],\"location\":\"top_center\",\"plot\":{\"id\":\"1802\",\"subtype\":\"Figure\",\"type\":\"Plot\"}},\"id\":\"1847\",\"type\":\"Legend\"},{\"attributes\":{\"plot\":{\"id\":\"1802\",\"subtype\":\"Figure\",\"type\":\"Plot\"},\"ticker\":{\"id\":\"1813\",\"type\":\"BasicTicker\"}},\"id\":\"1816\",\"type\":\"Grid\"},{\"attributes\":{},\"id\":\"1844\",\"type\":\"BasicTickFormatter\"},{\"attributes\":{\"axis_label\":\"Savings rate\",\"formatter\":{\"id\":\"1844\",\"type\":\"BasicTickFormatter\"},\"plot\":{\"id\":\"1802\",\"subtype\":\"Figure\",\"type\":\"Plot\"},\"ticker\":{\"id\":\"1818\",\"type\":\"BasicTicker\"}},\"id\":\"1817\",\"type\":\"LinearAxis\"},{\"attributes\":{},\"id\":\"1842\",\"type\":\"BasicTickFormatter\"},{\"attributes\":{},\"id\":\"1822\",\"type\":\"PanTool\"},{\"attributes\":{\"source\":{\"id\":\"1800\",\"type\":\"ColumnDataSource\"}},\"id\":\"1840\",\"type\":\"CDSView\"},{\"attributes\":{\"callback\":null},\"id\":\"1806\",\"type\":\"DataRange1d\"},{\"attributes\":{\"data_source\":{\"id\":\"1800\",\"type\":\"ColumnDataSource\"},\"glyph\":{\"id\":\"1837\",\"type\":\"Line\"},\"hover_glyph\":null,\"muted_glyph\":null,\"nonselection_glyph\":{\"id\":\"1838\",\"type\":\"Line\"},\"selection_glyph\":null,\"view\":{\"id\":\"1840\",\"type\":\"CDSView\"}},\"id\":\"1839\",\"type\":\"GlyphRenderer\"},{\"attributes\":{},\"id\":\"1860\",\"type\":\"UnionRenderers\"},{\"attributes\":{\"callback\":null},\"id\":\"1804\",\"type\":\"DataRange1d\"},{\"attributes\":{\"label\":{\"value\":\"Model\"},\"renderers\":[{\"id\":\"1839\",\"type\":\"GlyphRenderer\"}]},\"id\":\"1848\",\"type\":\"LegendItem\"},{\"attributes\":{\"line_color\":\"blue\",\"x\":{\"field\":\"x\"},\"y\":{\"field\":\"b\"}},\"id\":\"1850\",\"type\":\"Line\"},{\"attributes\":{\"plot\":null,\"text\":\"Evolution of the savings rate\"},\"id\":\"1801\",\"type\":\"Title\"},{\"attributes\":{\"source\":{\"id\":\"1800\",\"type\":\"ColumnDataSource\"}},\"id\":\"1853\",\"type\":\"CDSView\"},{\"attributes\":{\"line_color\":\"red\",\"x\":{\"field\":\"x\"},\"y\":{\"field\":\"a\"}},\"id\":\"1837\",\"type\":\"Line\"},{\"attributes\":{\"callback\":null,\"data\":{\"a\":{\"__ndarray__\":\"KHTsAC5e3j92EX4ZZQLdP031BM270ts/SKU5H3u/2j++oqY5JsvZPyX9WY4Q8tg/WuerzQMt2D+/RsRR2IDXP3flqylF59Y/iWLqf7dj1j+aDL/12ujVP/08FQz1eNU/u3whdnwW1T8BCGGTrL7UP8MK82jtcNQ/1JAoG7sv1D9CtabtPPDTP8idV+zut9M/ywWXDNCF0z9VbV+4kFrTP4r7sQFmMtM/3KErV4QO0z8eulCpcO7SP7zq/NzC0dI/KhR3Gx+40j/MM308LqHSP3sN3p2pjNI/XCqj0U960j8YuhdP4mnSP0JAFFoxW9I/m8GRigxO0j/yEHURSELSP2TgHhrBN9I/WnsJAVYu0j+OOLdP5yXSP8uY39BaHtI/3JbsqZkX0j+WIXVGjhHSP6yNJG8kDNI/Sdxb5koH0j/TC83P9ALSP8iseZgT/9E/vUQME5r70T908PvtffjRPxSrH3S19dE/z5aqZzjz0T+6KFkn+/DRPzFZOaD+7tE/z5Br7TLt0T/X0XjwmOvRPy1vycUr6tE/f6CBVeLo0T80rtNbvefRP8bOMMa05tE/L1q4rcjl0T9yjnvZ9+TRP6dp2wM65NE/G2u2/Y/j0T8AVj2J+OLRPwyDFW9x4tE/iPY7zvjh0T/IS0SSjOHRP9jNmYMr4dE/aJiYSNTg0T+2Pnx+huDRP2v9bTo/4NE/PTFm0gHg0T+R/iVjy9/RP+WZ+42X39E/F8C7yGnf0T/VQDEcRN/RPzKO5rQf39E/54sshP/e0T/UhlPU4t7RP/h9HXHI3tE/xwXhhbLe0T+kKwQbnN7RPzJMsd6K3tE/DjpBi3ne0T8BYOxAbd7RP9ugxlte3tE/lVckrVHe0T93llBHR97RPyQ1DBw+3tE/F9B4Ezbe0T9rwF6VLN7RP1/4JLkp3tE/acWewB/e0T/SUPMAGt7RP47p4PcU3tE/0ZXm4xHe0T8RAGw1Dt7RP+HX7NQI3tE/R/vO+Qbe0T/506y+A97RP3l2ll0B3tE/5nEvvP/d0T9Q/LH3/t3RP817DW393dE/d6eA9/nd0T83wZI3+N3RP+NShSP33dE/Y6yyl/bd0T813kdG9d3RP+eOVvfz3dE/nXbJJfTd0T+ashPp893RP2YQJC/y3dE/0tjnKvHd0T+dEcvG8d3RPzH2oxfw3dE/IM+qePDd0T+WRrYL8N3RP2XE18Pv3dE/WgvoAO7d0T/HgE0j7t3RP/s0aPPu3dE/PpiBOe7d0T+VKj0C7t3RPzLMirrt3dE/UmzqDO7d0T8Utjyc7N3RPw5dL+nt3dE/WgRWBezd0T/Kvg/k7d3RP4NjE87t3dE/S7sUhu3d0T/iLI347N3RP/myyZjt3dE/OlXwOezd0T+dTmCj7N3RP8MICtjs3dE/YFEsj+zd0T/aGaoT7d3RPy+ls1ns3dE/VTkF5ezd0T812aRf7N3RP2mn/0fs3dE/bhZ9Ze3d0T+XDQrA7d3RP5FO997r3dE/2bNOe+3d0T9F0Qq37N3RP/kDFf3s3dE/fCHe6evd0T9UoFfz693RP+OT46Ds3dE/f0HSsevd0T9O0NMW793RP117hjns3dE/\",\"dtype\":\"float64\",\"shape\":[150]},\"b\":[0.27917020677235116,0.27917020677235116,0.27917020677235116,0.27917020677235116,0.27917020677235116,0.27917020677235116,0.27917020677235116,0.27917020677235116,0.27917020677235116,0.27917020677235116,0.27917020677235116,0.27917020677235116,0.27917020677235116,0.27917020677235116,0.27917020677235116,0.27917020677235116,0.27917020677235116,0.27917020677235116,0.27917020677235116,0.27917020677235116,0.27917020677235116,0.27917020677235116,0.27917020677235116,0.27917020677235116,0.27917020677235116,0.27917020677235116,0.27917020677235116,0.27917020677235116,0.27917020677235116,0.27917020677235116,0.27917020677235116,0.27917020677235116,0.27917020677235116,0.27917020677235116,0.27917020677235116,0.27917020677235116,0.27917020677235116,0.27917020677235116,0.27917020677235116,0.27917020677235116,0.27917020677235116,0.27917020677235116,0.27917020677235116,0.27917020677235116,0.27917020677235116,0.27917020677235116,0.27917020677235116,0.27917020677235116,0.27917020677235116,0.27917020677235116,0.27917020677235116,0.27917020677235116,0.27917020677235116,0.27917020677235116,0.27917020677235116,0.27917020677235116,0.27917020677235116,0.27917020677235116,0.27917020677235116,0.27917020677235116,0.27917020677235116,0.27917020677235116,0.27917020677235116,0.27917020677235116,0.27917020677235116,0.27917020677235116,0.27917020677235116,0.27917020677235116,0.27917020677235116,0.27917020677235116,0.27917020677235116,0.27917020677235116,0.27917020677235116,0.27917020677235116,0.27917020677235116,0.27917020677235116,0.27917020677235116,0.27917020677235116,0.27917020677235116,0.27917020677235116,0.27917020677235116,0.27917020677235116,0.27917020677235116,0.27917020677235116,0.27917020677235116,0.27917020677235116,0.27917020677235116,0.27917020677235116,0.27917020677235116,0.27917020677235116,0.27917020677235116,0.27917020677235116,0.27917020677235116,0.27917020677235116,0.27917020677235116,0.27917020677235116,0.27917020677235116,0.27917020677235116,0.27917020677235116,0.27917020677235116,0.27917020677235116,0.27917020677235116,0.27917020677235116,0.27917020677235116,0.27917020677235116,0.27917020677235116,0.27917020677235116,0.27917020677235116,0.27917020677235116,0.27917020677235116,0.27917020677235116,0.27917020677235116,0.27917020677235116,0.27917020677235116,0.27917020677235116,0.27917020677235116,0.27917020677235116,0.27917020677235116,0.27917020677235116,0.27917020677235116,0.27917020677235116,0.27917020677235116,0.27917020677235116,0.27917020677235116,0.27917020677235116,0.27917020677235116,0.27917020677235116,0.27917020677235116,0.27917020677235116,0.27917020677235116,0.27917020677235116,0.27917020677235116,0.27917020677235116,0.27917020677235116,0.27917020677235116,0.27917020677235116,0.27917020677235116,0.27917020677235116,0.27917020677235116,0.27917020677235116,0.27917020677235116,0.27917020677235116,0.27917020677235116,0.27917020677235116,0.27917020677235116,0.27917020677235116,0.27917020677235116,0.27917020677235116,0.27917020677235116,0.27917020677235116],\"x\":[0,1,2,3,4,5,6,7,8,9,10,11,12,13,14,15,16,17,18,19,20,21,22,23,24,25,26,27,28,29,30,31,32,33,34,35,36,37,38,39,40,41,42,43,44,45,46,47,48,49,50,51,52,53,54,55,56,57,58,59,60,61,62,63,64,65,66,67,68,69,70,71,72,73,74,75,76,77,78,79,80,81,82,83,84,85,86,87,88,89,90,91,92,93,94,95,96,97,98,99,100,101,102,103,104,105,106,107,108,109,110,111,112,113,114,115,116,117,118,119,120,121,122,123,124,125,126,127,128,129,130,131,132,133,134,135,136,137,138,139,140,141,142,143,144,145,146,147,148,149]},\"selected\":{\"id\":\"1859\",\"type\":\"Selection\"},\"selection_policy\":{\"id\":\"1860\",\"type\":\"UnionRenderers\"}},\"id\":\"1800\",\"type\":\"ColumnDataSource\"},{\"attributes\":{\"data_source\":{\"id\":\"1800\",\"type\":\"ColumnDataSource\"},\"glyph\":{\"id\":\"1850\",\"type\":\"Line\"},\"hover_glyph\":null,\"muted_glyph\":null,\"nonselection_glyph\":{\"id\":\"1851\",\"type\":\"Line\"},\"selection_glyph\":null,\"view\":{\"id\":\"1853\",\"type\":\"CDSView\"}},\"id\":\"1852\",\"type\":\"GlyphRenderer\"}],\"root_ids\":[\"1802\"]},\"title\":\"Bokeh Application\",\"version\":\"1.0.2\"}};\n",
       "  var render_items = [{\"docid\":\"be450277-6a1e-4038-b8c0-b022ffa5bb88\",\"notebook_comms_target\":\"1911\",\"roots\":{\"1802\":\"5efbefb8-eac3-483f-a6b8-3f2835b0bb42\"}}];\n",
       "  root.Bokeh.embed.embed_items_notebook(docs_json, render_items);\n",
       "\n",
       "  }\n",
       "  if (root.Bokeh !== undefined) {\n",
       "    embed_document(root);\n",
       "  } else {\n",
       "    var attempts = 0;\n",
       "    var timer = setInterval(function(root) {\n",
       "      if (root.Bokeh !== undefined) {\n",
       "        embed_document(root);\n",
       "        clearInterval(timer);\n",
       "      }\n",
       "      attempts++;\n",
       "      if (attempts > 100) {\n",
       "        console.log(\"Bokeh: ERROR: Unable to run BokehJS code because BokehJS library is missing\");\n",
       "        clearInterval(timer);\n",
       "      }\n",
       "    }, 10, root)\n",
       "  }\n",
       "})(window);"
      ],
      "application/vnd.bokehjs_exec.v0+json": ""
     },
     "metadata": {
      "application/vnd.bokehjs_exec.v0+json": {
       "id": "1802"
      }
     },
     "output_type": "display_data"
    }
   ],
   "source": [
    "# Again plotting with the help of bokeh:\n",
    "# These are the ones that are shown:\n",
    "y_names = ['Model path', 'Fixed Savings rate','Steady state level']\n",
    "\n",
    "ys = [k_pr ,trad_k_pr, [k_star for i in range(timeline)]]\n",
    "\n",
    "model_funcs.plotting(\"T\",y_names, list(range(timeline)), ys, \n",
    "                     y_name= 'Capital pr. capita',legendlocation ='bottom_center',\n",
    "                    title = 'Evolution of capital')\n",
    "ys2 = [sk_path, [sk_star for i in range(timeline)]]\n",
    "model_funcs.plotting(\"T\",['Model','Steady state/Fixed'], list(range(timeline)), ys2,\n",
    "                     y_name= 'Savings rate',legendlocation ='top_center',\n",
    "                    title = 'Evolution of the savings rate')"
   ]
  },
  {
   "cell_type": "markdown",
   "metadata": {},
   "source": [
    "Thus we see the faster convergence to the same steady state. we get the same result if our intial $k_{0}>k^{*}$. Lets try with $k_{0}=25$ implying that in the first period, the representative household will actually not want to save any money for the future in the first period."
   ]
  },
  {
   "cell_type": "code",
   "execution_count": 22,
   "metadata": {},
   "outputs": [],
   "source": [
    "k0 = 25\n",
    "# Exactly the same as before\n",
    "k_star, sk_star = model_funcs.find_ss(\n",
    "    t, b, n, beta, delta, alpha, theta, bracket=[5,30])\n",
    "\n",
    "trad_k_pr, trad_y_pr = model_funcs.solowwalk(\n",
    "    k0, b, l0, n, sk_star, alpha, delta,timeline)\n",
    "\n",
    "k_pr, y_pr, sk_path = model_funcs.mod_solowwalk(\n",
    "    k0, b, l0, n, alpha,delta, weight, theta, t, timeline)\n"
   ]
  },
  {
   "cell_type": "code",
   "execution_count": 23,
   "metadata": {},
   "outputs": [
    {
     "data": {
      "text/html": [
       "\n",
       "\n",
       "\n",
       "\n",
       "\n",
       "\n",
       "  <div class=\"bk-root\" id=\"a806c825-ba5c-4ca5-abf0-5cd3eee67db2\"></div>\n"
      ]
     },
     "metadata": {},
     "output_type": "display_data"
    },
    {
     "data": {
      "application/javascript": [
       "(function(root) {\n",
       "  function embed_document(root) {\n",
       "    \n",
       "  var docs_json = {\"2236851b-c8e3-4e9f-b92f-d16cb130c6b8\":{\"roots\":{\"references\":[{\"attributes\":{\"below\":[{\"id\":\"1973\",\"type\":\"LinearAxis\"}],\"left\":[{\"id\":\"1978\",\"type\":\"LinearAxis\"}],\"renderers\":[{\"id\":\"1973\",\"type\":\"LinearAxis\"},{\"id\":\"1977\",\"type\":\"Grid\"},{\"id\":\"1978\",\"type\":\"LinearAxis\"},{\"id\":\"1982\",\"type\":\"Grid\"},{\"id\":\"1991\",\"type\":\"BoxAnnotation\"},{\"id\":\"2008\",\"type\":\"Legend\"},{\"id\":\"2000\",\"type\":\"GlyphRenderer\"},{\"id\":\"2013\",\"type\":\"GlyphRenderer\"},{\"id\":\"2027\",\"type\":\"GlyphRenderer\"}],\"title\":{\"id\":\"1962\",\"type\":\"Title\"},\"toolbar\":{\"id\":\"1988\",\"type\":\"Toolbar\"},\"x_range\":{\"id\":\"1965\",\"type\":\"DataRange1d\"},\"x_scale\":{\"id\":\"1969\",\"type\":\"LinearScale\"},\"y_range\":{\"id\":\"1967\",\"type\":\"DataRange1d\"},\"y_scale\":{\"id\":\"1971\",\"type\":\"LinearScale\"}},\"id\":\"1963\",\"subtype\":\"Figure\",\"type\":\"Plot\"},{\"attributes\":{},\"id\":\"1979\",\"type\":\"BasicTicker\"},{\"attributes\":{\"dimension\":1,\"plot\":{\"id\":\"1963\",\"subtype\":\"Figure\",\"type\":\"Plot\"},\"ticker\":{\"id\":\"1979\",\"type\":\"BasicTicker\"}},\"id\":\"1982\",\"type\":\"Grid\"},{\"attributes\":{\"line_alpha\":0.1,\"line_color\":\"#1f77b4\",\"x\":{\"field\":\"x\"},\"y\":{\"field\":\"b\"}},\"id\":\"2012\",\"type\":\"Line\"},{\"attributes\":{\"line_color\":\"blue\",\"x\":{\"field\":\"x\"},\"y\":{\"field\":\"b\"}},\"id\":\"2011\",\"type\":\"Line\"},{\"attributes\":{\"data_source\":{\"id\":\"1961\",\"type\":\"ColumnDataSource\"},\"glyph\":{\"id\":\"2011\",\"type\":\"Line\"},\"hover_glyph\":null,\"muted_glyph\":null,\"nonselection_glyph\":{\"id\":\"2012\",\"type\":\"Line\"},\"selection_glyph\":null,\"view\":{\"id\":\"2014\",\"type\":\"CDSView\"}},\"id\":\"2013\",\"type\":\"GlyphRenderer\"},{\"attributes\":{\"callback\":null},\"id\":\"1967\",\"type\":\"DataRange1d\"},{\"attributes\":{\"source\":{\"id\":\"1961\",\"type\":\"ColumnDataSource\"}},\"id\":\"2014\",\"type\":\"CDSView\"},{\"attributes\":{},\"id\":\"1983\",\"type\":\"PanTool\"},{\"attributes\":{},\"id\":\"2020\",\"type\":\"Selection\"},{\"attributes\":{},\"id\":\"1984\",\"type\":\"WheelZoomTool\"},{\"attributes\":{},\"id\":\"2021\",\"type\":\"UnionRenderers\"},{\"attributes\":{\"plot\":null,\"text\":\"Evolution of capital\"},\"id\":\"1962\",\"type\":\"Title\"},{\"attributes\":{\"overlay\":{\"id\":\"1991\",\"type\":\"BoxAnnotation\"}},\"id\":\"1985\",\"type\":\"BoxZoomTool\"},{\"attributes\":{\"label\":{\"value\":\"Fixed Savings rate\"},\"renderers\":[{\"id\":\"2013\",\"type\":\"GlyphRenderer\"}]},\"id\":\"2023\",\"type\":\"LegendItem\"},{\"attributes\":{},\"id\":\"1986\",\"type\":\"ResetTool\"},{\"attributes\":{},\"id\":\"1987\",\"type\":\"SaveTool\"},{\"attributes\":{\"line_color\":\"green\",\"x\":{\"field\":\"x\"},\"y\":{\"field\":\"c\"}},\"id\":\"2025\",\"type\":\"Line\"},{\"attributes\":{},\"id\":\"1971\",\"type\":\"LinearScale\"},{\"attributes\":{\"active_drag\":\"auto\",\"active_inspect\":\"auto\",\"active_multi\":null,\"active_scroll\":\"auto\",\"active_tap\":\"auto\",\"tools\":[{\"id\":\"1960\",\"type\":\"HoverTool\"},{\"id\":\"1983\",\"type\":\"PanTool\"},{\"id\":\"1984\",\"type\":\"WheelZoomTool\"},{\"id\":\"1985\",\"type\":\"BoxZoomTool\"},{\"id\":\"1986\",\"type\":\"ResetTool\"},{\"id\":\"1987\",\"type\":\"SaveTool\"}]},\"id\":\"1988\",\"type\":\"Toolbar\"},{\"attributes\":{\"line_alpha\":0.1,\"line_color\":\"#1f77b4\",\"x\":{\"field\":\"x\"},\"y\":{\"field\":\"c\"}},\"id\":\"2026\",\"type\":\"Line\"},{\"attributes\":{\"line_color\":\"red\",\"x\":{\"field\":\"x\"},\"y\":{\"field\":\"a\"}},\"id\":\"1998\",\"type\":\"Line\"},{\"attributes\":{\"callback\":null,\"tooltips\":[[\"T\",\"@x{0,0.00}\"],[\"Capital pr. capita for Model_path\",\"@a{0.00}\"],[\"Capital pr. capita for Fixed Savings rate\",\"@b{0.00}\"],[\"Capital pr. capita for Steady state level\",\"@c{0.00}\"]]},\"id\":\"1960\",\"type\":\"HoverTool\"},{\"attributes\":{\"data_source\":{\"id\":\"1961\",\"type\":\"ColumnDataSource\"},\"glyph\":{\"id\":\"2025\",\"type\":\"Line\"},\"hover_glyph\":null,\"muted_glyph\":null,\"nonselection_glyph\":{\"id\":\"2026\",\"type\":\"Line\"},\"selection_glyph\":null,\"view\":{\"id\":\"2028\",\"type\":\"CDSView\"}},\"id\":\"2027\",\"type\":\"GlyphRenderer\"},{\"attributes\":{\"callback\":null,\"data\":{\"a\":{\"__ndarray__\":\"AAAAAAAAOUC9VWz8vo83QJLvS2muNDZAnerEJ5btNEA5Mtpyy78zQBzD2uD2tTJANO641I/LMUDqwm3bp/wwQERCUp/WRTBAYdldr01IL0BrmGg5ESouQOZwD51MLC1AvxoQpDVLLEAQcTInc4MrQAFuHef+0SpAGqXB3zs0KkDlk3Jj5acpQAt/a8j6KilAsgNCRLm7KEA6nRCplFgoQBq0oLIxAChAvReA0FuxJ0CSidYZAmsnQBeQgcw0LCdAb0cypB/0JkD6nl6TBsImQKFsV71ClSZA+jIJAK9tJkCfGGvkUUomQEw60QO3KiZA078Ku3YOJkA72OABNfUlQOxfZref3iVAA96wtm3KJUA6oszSXbglQHbJAP81qCVAPEYCWsKZJUB2Y5t91IwlQP1NFllDgSVA3dYo6el2JUDhCPMrp20lQDzrns9dZSVAq9SJZfNdJUAhEil3UFclQNCsWelfUSVA5cXPHw9MJUAO7To0TUclQAN4Xy8LQyVAMcYxmzs/JUDPQsY90jslQNWaJIbEOCVAfCL63gg2JUDgmJyFljMlQI3wzellMSVAKSnWEXAvJUAKsYbPri0lQONp3ZEcLCVAMC3IoLQqJUCUVuheciklQC0ID9lRKCVAawOKhE8nJUDi+5ZDaCYlQKyi0HmZJSVAwHryGuAkJUASQqIbOiQlQH/0hJSlIyVA8QYaliAjJUB4OlOCqSIlQJzp4fE+IiVAI10pid8hJUC58LsbiiElQNYzyqk9ISVAgsDOOfkgJUBuc/vwuyAlQKvgrRiFICVAMfASFFQgJUBbWJMyKCAlQE4Sas8AICVAW3x1i90fJUDfICARvh8lQCyLvtOhHyVAXY08oIgfJUCWu0UPch8lQCuYcKldHyVAdizXjEsfJUAryARDOx8lQGfIc8UsHyVAZ+aotB8fJUA7uuIZFB8lQAL46b4JHyVAKdQ2bgAfJUDFkg/89x4lQKxFgH3wHiVALKVBsukeJUAzYDPa4x4lQLIiBnzeHiVAiP1/n9keJUA13Vpc1R4lQPuVxozRHiVA4QkTIc4eJUAhaKICyx4lQKb69EPIHiVArDQE28UeJUCQZWybwx4lQOSPXqbBHiVAqGIO6b8eJUDwOHswvh4lQHhTPta8HiVAcclKerseJUBFFYdYuh4lQIYfo065HiVAvdkWYbgeJUAWTp+Ttx4lQL/f3cm2HiVAFXH7IbYeJUBhFTp/tR4lQCPRmPi0HiVA5s4GdrQeJUDaRxcNtB4lQMFf5sWzHiVADrpFYLMeJUDJbnwRsx4lQMYI89+yHiVA9UUBnbIeJUArPGdqsh4lQLjx5USyHiVAEF3DGrIeJUC7N9L4sR4lQEA02tKxHiVA4K4ipbEeJUC5bZN9sR4lQD+2O2exHiVA/NNfarEeJUDgWK9HsR4lQImo3ySxHiVALBgqHLEeJUClrecgsR4lQE9vOxexHiVAwWBKF7EeJUBYbJQAsR4lQPWXewKxHiVA+Juw97AeJUBEMNQHsR4lQKCi7QKxHiVAKe1W5bAeJUBbvqPGsB4lQDZyMbywHiVA/Y2awLAeJUD2/Be6sB4lQBPV/c+wHiVA\",\"dtype\":\"float64\",\"shape\":[150]},\"b\":{\"__ndarray__\":\"AAAAAAAAOUAPtEVaD184QJ9ULrqgxTdAsh8EOFMzN0Donocoy6c2QK1oGNGxIjZAt9Q8ILWjNUArTkhqhyo1QIOY4ynftjRAbNE9xHZINEB3PLBQDN8zQH34oWNhejNAn6R73DoaM0DVtn22YL4yQDHaTtydZjJApRka/r8SMkCo5xZql8IxQFI9V+f2dTFAfRa6krMsMUDLfeK9pOYwQEctFdCjozBAi3/gKIxjMEAbDHQEOyYwQOqhHcMe1y9AcHnY0dNmL0CykjOsWfsuQKBAQMN3lC5AcO/XWPgxLkDO+cdYqNMtQNVqNDRXeS1AJIkQv9YiLUBT840P+88sQDPnZF+agCxAYQPa7ow0LECvcGfprOsrQI3m8EvWpStANm5rzOZiK0DZIuPCvSIrQIt0yhM85SpAIah/G0SqKkD5cPaauXEqQKeTdKWBOypA94JRj4IHKkDD26ndo9UpQKmJ+DbOpSlAPzaIVOt3KUALcLD05UspQJe10s2pISlAbkUMgiP5KEBUPZKTQNIoQKMyrlnvrChA1ANS9h6JKECZMDpMv2YoQLuKlvXARShA444xOxUmKEDoKQ8MrgcoQMgdfPV96idANqGHG3jOJ0ArNuExkLMnQMcPFXW6mSdAzbUhpOuAJ0Ag5WH6GGknQJD4xSk4UidA9WxYVT88J0BZVgkMJScnQFzbvEPgEidA4waZVGj/JkDtd4/0tOwmQHmrHzO+2iZAl81OdXzJJkCrLNJx6LgmQBeVaS37qCZAYwRn962ZJkC8SGFm+oomQKtFD1XafCZAg7hJ30dvJkCEdjFfPWImQF88eGq1VSZAu0LKz6pJJkBp5VaUGD4mQJrDdvH5MiZAh9ZtUkooJkC7EUhSBR4mQGY0z7kmFCZAnYaYfaoKJkAmTym8jAEmQJ3fMLzJ+CVAgiTX6l3wJUDotR7aReglQH1zWT9+4CVA5sOu8QPZJUAXnLLo09ElQLV+DDvryiVAIa8tHUfEJUCq3RXg5L0lQL+cJfDBtyVA0ff909uxJUCHjWwrMKwlQBaXY668piVAPU79K3+hJUDGKoqJdZwlQF53qcGdlyVA78Nr4/WSJUABwn4RfI4lQEodYoEuiiVAKeikeguGJUDvOCtWEYIlQMWZe30+fiVAhfETapF6JUBfkMWkCHclQDMPGMWicyVAgbSycF5wJUBoFcxaOm0lQNasn0M1aiVATybp901nJUDKHGVQg2QlQDQRVzHUYSVA714Uij9fJUBv95NUxFwlQF6wApVhWiVAivJbWRZYJUCymQa54VUlQNDXddTCUyVAZ/DN1LhRJUBOoozrwk8lQHMYNVLgTSVAqzv/SRBMJUB4QYobUkolQDNVkhalSCVAmDqpkQhHJUA3yvHpe0UlQIMp3oL+QyVAvaHwxY9CJUAZ+n4iL0ElQLk6eA3cPyVAPb8sAZY+JUDCgBh9XD0lQCiArwUvPCVAfTosJA07JUBfEmBm9jklQAWahV7qOCVAe6oUo+g3JUCENZjO8DYlQDrAhX8CNiVAUXUWWB01JUDAviH+QDQlQABX+RptMyVA3sJGW6EyJUB/Jepu3TElQL5g2gghMSVA\",\"dtype\":\"float64\",\"shape\":[150]},\"c\":[10.55994392434922,10.55994392434922,10.55994392434922,10.55994392434922,10.55994392434922,10.55994392434922,10.55994392434922,10.55994392434922,10.55994392434922,10.55994392434922,10.55994392434922,10.55994392434922,10.55994392434922,10.55994392434922,10.55994392434922,10.55994392434922,10.55994392434922,10.55994392434922,10.55994392434922,10.55994392434922,10.55994392434922,10.55994392434922,10.55994392434922,10.55994392434922,10.55994392434922,10.55994392434922,10.55994392434922,10.55994392434922,10.55994392434922,10.55994392434922,10.55994392434922,10.55994392434922,10.55994392434922,10.55994392434922,10.55994392434922,10.55994392434922,10.55994392434922,10.55994392434922,10.55994392434922,10.55994392434922,10.55994392434922,10.55994392434922,10.55994392434922,10.55994392434922,10.55994392434922,10.55994392434922,10.55994392434922,10.55994392434922,10.55994392434922,10.55994392434922,10.55994392434922,10.55994392434922,10.55994392434922,10.55994392434922,10.55994392434922,10.55994392434922,10.55994392434922,10.55994392434922,10.55994392434922,10.55994392434922,10.55994392434922,10.55994392434922,10.55994392434922,10.55994392434922,10.55994392434922,10.55994392434922,10.55994392434922,10.55994392434922,10.55994392434922,10.55994392434922,10.55994392434922,10.55994392434922,10.55994392434922,10.55994392434922,10.55994392434922,10.55994392434922,10.55994392434922,10.55994392434922,10.55994392434922,10.55994392434922,10.55994392434922,10.55994392434922,10.55994392434922,10.55994392434922,10.55994392434922,10.55994392434922,10.55994392434922,10.55994392434922,10.55994392434922,10.55994392434922,10.55994392434922,10.55994392434922,10.55994392434922,10.55994392434922,10.55994392434922,10.55994392434922,10.55994392434922,10.55994392434922,10.55994392434922,10.55994392434922,10.55994392434922,10.55994392434922,10.55994392434922,10.55994392434922,10.55994392434922,10.55994392434922,10.55994392434922,10.55994392434922,10.55994392434922,10.55994392434922,10.55994392434922,10.55994392434922,10.55994392434922,10.55994392434922,10.55994392434922,10.55994392434922,10.55994392434922,10.55994392434922,10.55994392434922,10.55994392434922,10.55994392434922,10.55994392434922,10.55994392434922,10.55994392434922,10.55994392434922,10.55994392434922,10.55994392434922,10.55994392434922,10.55994392434922,10.55994392434922,10.55994392434922,10.55994392434922,10.55994392434922,10.55994392434922,10.55994392434922,10.55994392434922,10.55994392434922,10.55994392434922,10.55994392434922,10.55994392434922,10.55994392434922,10.55994392434922,10.55994392434922,10.55994392434922,10.55994392434922,10.55994392434922,10.55994392434922,10.55994392434922,10.55994392434922,10.55994392434922],\"x\":[0,1,2,3,4,5,6,7,8,9,10,11,12,13,14,15,16,17,18,19,20,21,22,23,24,25,26,27,28,29,30,31,32,33,34,35,36,37,38,39,40,41,42,43,44,45,46,47,48,49,50,51,52,53,54,55,56,57,58,59,60,61,62,63,64,65,66,67,68,69,70,71,72,73,74,75,76,77,78,79,80,81,82,83,84,85,86,87,88,89,90,91,92,93,94,95,96,97,98,99,100,101,102,103,104,105,106,107,108,109,110,111,112,113,114,115,116,117,118,119,120,121,122,123,124,125,126,127,128,129,130,131,132,133,134,135,136,137,138,139,140,141,142,143,144,145,146,147,148,149]},\"selected\":{\"id\":\"2020\",\"type\":\"Selection\"},\"selection_policy\":{\"id\":\"2021\",\"type\":\"UnionRenderers\"}},\"id\":\"1961\",\"type\":\"ColumnDataSource\"},{\"attributes\":{\"bottom_units\":\"screen\",\"fill_alpha\":{\"value\":0.5},\"fill_color\":{\"value\":\"lightgrey\"},\"left_units\":\"screen\",\"level\":\"overlay\",\"line_alpha\":{\"value\":1.0},\"line_color\":{\"value\":\"black\"},\"line_dash\":[4,4],\"line_width\":{\"value\":2},\"plot\":null,\"render_mode\":\"css\",\"right_units\":\"screen\",\"top_units\":\"screen\"},\"id\":\"1991\",\"type\":\"BoxAnnotation\"},{\"attributes\":{\"source\":{\"id\":\"1961\",\"type\":\"ColumnDataSource\"}},\"id\":\"2028\",\"type\":\"CDSView\"},{\"attributes\":{\"line_alpha\":0.1,\"line_color\":\"#1f77b4\",\"x\":{\"field\":\"x\"},\"y\":{\"field\":\"a\"}},\"id\":\"1999\",\"type\":\"Line\"},{\"attributes\":{\"source\":{\"id\":\"1961\",\"type\":\"ColumnDataSource\"}},\"id\":\"2001\",\"type\":\"CDSView\"},{\"attributes\":{},\"id\":\"1969\",\"type\":\"LinearScale\"},{\"attributes\":{\"label\":{\"value\":\"Steady state level\"},\"renderers\":[{\"id\":\"2027\",\"type\":\"GlyphRenderer\"}]},\"id\":\"2037\",\"type\":\"LegendItem\"},{\"attributes\":{\"data_source\":{\"id\":\"1961\",\"type\":\"ColumnDataSource\"},\"glyph\":{\"id\":\"1998\",\"type\":\"Line\"},\"hover_glyph\":null,\"muted_glyph\":null,\"nonselection_glyph\":{\"id\":\"1999\",\"type\":\"Line\"},\"selection_glyph\":null,\"view\":{\"id\":\"2001\",\"type\":\"CDSView\"}},\"id\":\"2000\",\"type\":\"GlyphRenderer\"},{\"attributes\":{\"axis_label\":\"T\",\"formatter\":{\"id\":\"2003\",\"type\":\"BasicTickFormatter\"},\"plot\":{\"id\":\"1963\",\"subtype\":\"Figure\",\"type\":\"Plot\"},\"ticker\":{\"id\":\"1974\",\"type\":\"BasicTicker\"}},\"id\":\"1973\",\"type\":\"LinearAxis\"},{\"attributes\":{},\"id\":\"2003\",\"type\":\"BasicTickFormatter\"},{\"attributes\":{},\"id\":\"1974\",\"type\":\"BasicTicker\"},{\"attributes\":{\"axis_label\":\"Capital pr. capita\",\"formatter\":{\"id\":\"2005\",\"type\":\"BasicTickFormatter\"},\"plot\":{\"id\":\"1963\",\"subtype\":\"Figure\",\"type\":\"Plot\"},\"ticker\":{\"id\":\"1979\",\"type\":\"BasicTicker\"}},\"id\":\"1978\",\"type\":\"LinearAxis\"},{\"attributes\":{},\"id\":\"2005\",\"type\":\"BasicTickFormatter\"},{\"attributes\":{\"plot\":{\"id\":\"1963\",\"subtype\":\"Figure\",\"type\":\"Plot\"},\"ticker\":{\"id\":\"1974\",\"type\":\"BasicTicker\"}},\"id\":\"1977\",\"type\":\"Grid\"},{\"attributes\":{\"items\":[{\"id\":\"2009\",\"type\":\"LegendItem\"},{\"id\":\"2023\",\"type\":\"LegendItem\"},{\"id\":\"2037\",\"type\":\"LegendItem\"}],\"location\":\"top_center\",\"plot\":{\"id\":\"1963\",\"subtype\":\"Figure\",\"type\":\"Plot\"}},\"id\":\"2008\",\"type\":\"Legend\"},{\"attributes\":{\"callback\":null},\"id\":\"1965\",\"type\":\"DataRange1d\"},{\"attributes\":{\"label\":{\"value\":\"Model_path\"},\"renderers\":[{\"id\":\"2000\",\"type\":\"GlyphRenderer\"}]},\"id\":\"2009\",\"type\":\"LegendItem\"}],\"root_ids\":[\"1963\"]},\"title\":\"Bokeh Application\",\"version\":\"1.0.2\"}};\n",
       "  var render_items = [{\"docid\":\"2236851b-c8e3-4e9f-b92f-d16cb130c6b8\",\"notebook_comms_target\":\"2094\",\"roots\":{\"1963\":\"a806c825-ba5c-4ca5-abf0-5cd3eee67db2\"}}];\n",
       "  root.Bokeh.embed.embed_items_notebook(docs_json, render_items);\n",
       "\n",
       "  }\n",
       "  if (root.Bokeh !== undefined) {\n",
       "    embed_document(root);\n",
       "  } else {\n",
       "    var attempts = 0;\n",
       "    var timer = setInterval(function(root) {\n",
       "      if (root.Bokeh !== undefined) {\n",
       "        embed_document(root);\n",
       "        clearInterval(timer);\n",
       "      }\n",
       "      attempts++;\n",
       "      if (attempts > 100) {\n",
       "        console.log(\"Bokeh: ERROR: Unable to run BokehJS code because BokehJS library is missing\");\n",
       "        clearInterval(timer);\n",
       "      }\n",
       "    }, 10, root)\n",
       "  }\n",
       "})(window);"
      ],
      "application/vnd.bokehjs_exec.v0+json": ""
     },
     "metadata": {
      "application/vnd.bokehjs_exec.v0+json": {
       "id": "1963"
      }
     },
     "output_type": "display_data"
    },
    {
     "data": {
      "text/html": [
       "\n",
       "\n",
       "\n",
       "\n",
       "\n",
       "\n",
       "  <div class=\"bk-root\" id=\"0b36c5d1-fa2d-4d52-b97a-efda5e203809\"></div>\n"
      ]
     },
     "metadata": {},
     "output_type": "display_data"
    },
    {
     "data": {
      "application/javascript": [
       "(function(root) {\n",
       "  function embed_document(root) {\n",
       "    \n",
       "  var docs_json = {\"6c1baa27-a269-4c0a-ada8-8791ee08a464\":{\"roots\":{\"references\":[{\"attributes\":{\"below\":[{\"id\":\"2156\",\"type\":\"LinearAxis\"}],\"left\":[{\"id\":\"2161\",\"type\":\"LinearAxis\"}],\"renderers\":[{\"id\":\"2156\",\"type\":\"LinearAxis\"},{\"id\":\"2160\",\"type\":\"Grid\"},{\"id\":\"2161\",\"type\":\"LinearAxis\"},{\"id\":\"2165\",\"type\":\"Grid\"},{\"id\":\"2174\",\"type\":\"BoxAnnotation\"},{\"id\":\"2191\",\"type\":\"Legend\"},{\"id\":\"2183\",\"type\":\"GlyphRenderer\"},{\"id\":\"2196\",\"type\":\"GlyphRenderer\"}],\"title\":{\"id\":\"2145\",\"type\":\"Title\"},\"toolbar\":{\"id\":\"2171\",\"type\":\"Toolbar\"},\"x_range\":{\"id\":\"2148\",\"type\":\"DataRange1d\"},\"x_scale\":{\"id\":\"2152\",\"type\":\"LinearScale\"},\"y_range\":{\"id\":\"2150\",\"type\":\"DataRange1d\"},\"y_scale\":{\"id\":\"2154\",\"type\":\"LinearScale\"}},\"id\":\"2146\",\"subtype\":\"Figure\",\"type\":\"Plot\"},{\"attributes\":{\"line_alpha\":0.1,\"line_color\":\"#1f77b4\",\"x\":{\"field\":\"x\"},\"y\":{\"field\":\"b\"}},\"id\":\"2195\",\"type\":\"Line\"},{\"attributes\":{},\"id\":\"2170\",\"type\":\"SaveTool\"},{\"attributes\":{\"line_color\":\"red\",\"x\":{\"field\":\"x\"},\"y\":{\"field\":\"a\"}},\"id\":\"2181\",\"type\":\"Line\"},{\"attributes\":{\"plot\":null,\"text\":\"Evolution of savings rate\"},\"id\":\"2145\",\"type\":\"Title\"},{\"attributes\":{\"active_drag\":\"auto\",\"active_inspect\":\"auto\",\"active_multi\":null,\"active_scroll\":\"auto\",\"active_tap\":\"auto\",\"tools\":[{\"id\":\"2143\",\"type\":\"HoverTool\"},{\"id\":\"2166\",\"type\":\"PanTool\"},{\"id\":\"2167\",\"type\":\"WheelZoomTool\"},{\"id\":\"2168\",\"type\":\"BoxZoomTool\"},{\"id\":\"2169\",\"type\":\"ResetTool\"},{\"id\":\"2170\",\"type\":\"SaveTool\"}]},\"id\":\"2171\",\"type\":\"Toolbar\"},{\"attributes\":{\"callback\":null},\"id\":\"2148\",\"type\":\"DataRange1d\"},{\"attributes\":{\"bottom_units\":\"screen\",\"fill_alpha\":{\"value\":0.5},\"fill_color\":{\"value\":\"lightgrey\"},\"left_units\":\"screen\",\"level\":\"overlay\",\"line_alpha\":{\"value\":1.0},\"line_color\":{\"value\":\"black\"},\"line_dash\":[4,4],\"line_width\":{\"value\":2},\"plot\":null,\"render_mode\":\"css\",\"right_units\":\"screen\",\"top_units\":\"screen\"},\"id\":\"2174\",\"type\":\"BoxAnnotation\"},{\"attributes\":{\"callback\":null},\"id\":\"2150\",\"type\":\"DataRange1d\"},{\"attributes\":{\"data_source\":{\"id\":\"2144\",\"type\":\"ColumnDataSource\"},\"glyph\":{\"id\":\"2181\",\"type\":\"Line\"},\"hover_glyph\":null,\"muted_glyph\":null,\"nonselection_glyph\":{\"id\":\"2182\",\"type\":\"Line\"},\"selection_glyph\":null,\"view\":{\"id\":\"2184\",\"type\":\"CDSView\"}},\"id\":\"2183\",\"type\":\"GlyphRenderer\"},{\"attributes\":{},\"id\":\"2152\",\"type\":\"LinearScale\"},{\"attributes\":{\"source\":{\"id\":\"2144\",\"type\":\"ColumnDataSource\"}},\"id\":\"2184\",\"type\":\"CDSView\"},{\"attributes\":{},\"id\":\"2154\",\"type\":\"LinearScale\"},{\"attributes\":{},\"id\":\"2186\",\"type\":\"BasicTickFormatter\"},{\"attributes\":{\"axis_label\":\"T\",\"formatter\":{\"id\":\"2186\",\"type\":\"BasicTickFormatter\"},\"plot\":{\"id\":\"2146\",\"subtype\":\"Figure\",\"type\":\"Plot\"},\"ticker\":{\"id\":\"2157\",\"type\":\"BasicTicker\"}},\"id\":\"2156\",\"type\":\"LinearAxis\"},{\"attributes\":{},\"id\":\"2188\",\"type\":\"BasicTickFormatter\"},{\"attributes\":{\"line_color\":\"blue\",\"x\":{\"field\":\"x\"},\"y\":{\"field\":\"b\"}},\"id\":\"2194\",\"type\":\"Line\"},{\"attributes\":{},\"id\":\"2157\",\"type\":\"BasicTicker\"},{\"attributes\":{\"items\":[{\"id\":\"2192\",\"type\":\"LegendItem\"},{\"id\":\"2206\",\"type\":\"LegendItem\"}],\"location\":\"bottom_center\",\"plot\":{\"id\":\"2146\",\"subtype\":\"Figure\",\"type\":\"Plot\"}},\"id\":\"2191\",\"type\":\"Legend\"},{\"attributes\":{\"plot\":{\"id\":\"2146\",\"subtype\":\"Figure\",\"type\":\"Plot\"},\"ticker\":{\"id\":\"2157\",\"type\":\"BasicTicker\"}},\"id\":\"2160\",\"type\":\"Grid\"},{\"attributes\":{\"label\":{\"value\":\"Model\"},\"renderers\":[{\"id\":\"2183\",\"type\":\"GlyphRenderer\"}]},\"id\":\"2192\",\"type\":\"LegendItem\"},{\"attributes\":{\"axis_label\":\"Savings rate\",\"formatter\":{\"id\":\"2188\",\"type\":\"BasicTickFormatter\"},\"plot\":{\"id\":\"2146\",\"subtype\":\"Figure\",\"type\":\"Plot\"},\"ticker\":{\"id\":\"2162\",\"type\":\"BasicTicker\"}},\"id\":\"2161\",\"type\":\"LinearAxis\"},{\"attributes\":{},\"id\":\"2162\",\"type\":\"BasicTicker\"},{\"attributes\":{\"data_source\":{\"id\":\"2144\",\"type\":\"ColumnDataSource\"},\"glyph\":{\"id\":\"2194\",\"type\":\"Line\"},\"hover_glyph\":null,\"muted_glyph\":null,\"nonselection_glyph\":{\"id\":\"2195\",\"type\":\"Line\"},\"selection_glyph\":null,\"view\":{\"id\":\"2197\",\"type\":\"CDSView\"}},\"id\":\"2196\",\"type\":\"GlyphRenderer\"},{\"attributes\":{\"dimension\":1,\"plot\":{\"id\":\"2146\",\"subtype\":\"Figure\",\"type\":\"Plot\"},\"ticker\":{\"id\":\"2162\",\"type\":\"BasicTicker\"}},\"id\":\"2165\",\"type\":\"Grid\"},{\"attributes\":{},\"id\":\"2203\",\"type\":\"Selection\"},{\"attributes\":{\"source\":{\"id\":\"2144\",\"type\":\"ColumnDataSource\"}},\"id\":\"2197\",\"type\":\"CDSView\"},{\"attributes\":{},\"id\":\"2204\",\"type\":\"UnionRenderers\"},{\"attributes\":{\"line_alpha\":0.1,\"line_color\":\"#1f77b4\",\"x\":{\"field\":\"x\"},\"y\":{\"field\":\"a\"}},\"id\":\"2182\",\"type\":\"Line\"},{\"attributes\":{\"label\":{\"value\":\"Steady state/Fixed\"},\"renderers\":[{\"id\":\"2196\",\"type\":\"GlyphRenderer\"}]},\"id\":\"2206\",\"type\":\"LegendItem\"},{\"attributes\":{\"callback\":null,\"tooltips\":[[\"T\",\"@x{0,0.00}\"],[\"Savings rate for Model\",\"@a{0.00}\"],[\"Savings rate for Steady state/Fixed\",\"@b{0.00}\"]]},\"id\":\"2143\",\"type\":\"HoverTool\"},{\"attributes\":{},\"id\":\"2166\",\"type\":\"PanTool\"},{\"attributes\":{},\"id\":\"2167\",\"type\":\"WheelZoomTool\"},{\"attributes\":{\"callback\":null,\"data\":{\"a\":{\"__ndarray__\":\"Ooww4o55RT46jDDijnlFPjqMMOKOeUU+R6XHdMH3gj+K+h7UTbSiP3jPepRiS68/Dciz8+RRtT+LQG36I266P1D4OqtGCL8/tzdShOeWwT9xte3bl2/DP9eqsgD9GsU/TolmM5Gcxj99qfQE3vXHP/H2u0C5K8k/0M5J+z5Cyj/8xaRUPjzLP0u4cMGKHMw/prirn8blzD8RorO/d5rNP0daqYJ1PM4/xyPJBZrNzj/9NnbQxk/PP5/Ew7aBxM8/dseCr5UW0D/FZoXzfkXQP1z1dq3GddA/zxNSTlab0D9AbC/G/rzQPyHIvMkl29A/X+P1GCv20D+MnS5EXw7RP1h7znINJNE/o7WlAnk30T94uCIX30jRPzy0gih0WNE/8QmLHGdm0T97S+KZ6HLRPzWxjzoaftE/JvIXtB+I0T9BuLvEGpHRP3f4HuEjmdE/Ui+ZlFag0T9ebQpZx6bRP4R8MjCOrNE/il8OKbmx0T8vGoqqWrbRPzAq2v5/utE/qPhyZjO+0T9FOp4fhsHRP7Pf43WAxNE/Q1cT8ijH0T/KRzkZjMnRPzV8uTKuy9E/PoD16ZbN0T/2aEC4S8/RP5yMruDV0NE/IUvMODTS0T8PDtribdPRP2G5pp2G1NE/AbWmpYLV0T8g8weiZ9bRP4SZrqot19E/apV+xOHX0T+POHXXhNjRP/yGY1cV2dE/UgSX2JbZ0T/g8zmVC9rRP/qWu21z2tE/CPfxUtDa0T+eRcIqJNvRPxiS7cBu29E/F8nmS7Hb0T/Kirlj7dvRP/tBmhwk3NE/2+JU+1Pc0T/MAvJJfdzRP6uFKKuj3NE/2w2adcfc0T/m5RhP5dzRPywjXQ0C3dE/v5xhkxrd0T8yjmO6Ld3RP6g7INVD3dE/hgd9bFTd0T8gXkirZd3RP4dA8HFy3dE/AhJGjoDd0T8iI39gjN3RP28wGdSV3dE/vYwIW53d0T8xle+Upt3RP781M6es3dE/s4uxybbd0T+ZkNJ9ut3RP3pR/Oi+3dE/BV4b+sTd0T+bnss1yd3RP3LZA8zM3dE/zTgNTs/d0T8kuqwL093RP/qY6GvW3dE/VEHeb9fd0T8ENyRz2t3RPy7RE4zc3dE/92SX1tvd0T8vBxhJ4N3RP1DsoGzf3dE/z1/g/+Hd0T9/h3W74t3RP7ZnNMbj3dE/XjzmF+Xd0T+I35Xa5N3RPyovyVrm3dE/WWWDR+bd0T/kszuJ593RPyB1/Xjn3dE/RTw+qOjd0T8agTBd6t3RP5FIjHXo3dE/eLkNjOnd0T9v/KgN693RP6RtyfHp3dE/k/5OvOrd0T//vVJg693RPxcaGQfr3dE/qBbLZ+vd0T8FRHIZ693RP1ToHZLq3dE/OE3c0urd0T+SVK65693RPxnhwCPt3dE/LwNT+erd0T+2u/fj6t3RP05ZGVDs3dE/MKbuEO3d0T+RjrE/7N3RP7GQT8ns3dE/Ht2Ueuvd0T+/66fX7N3RP1VpER7s3dE/RSzyo+3d0T/h67Z37N3RP1mM+Qnr3dE/yRHz6Ord0T+/L2kB7N3RP4ZZ9NXs3dE/SNnhN+zd0T82QuDV7d3RP6MrECPt3dE/\",\"dtype\":\"float64\",\"shape\":[150]},\"b\":[0.27917020677235116,0.27917020677235116,0.27917020677235116,0.27917020677235116,0.27917020677235116,0.27917020677235116,0.27917020677235116,0.27917020677235116,0.27917020677235116,0.27917020677235116,0.27917020677235116,0.27917020677235116,0.27917020677235116,0.27917020677235116,0.27917020677235116,0.27917020677235116,0.27917020677235116,0.27917020677235116,0.27917020677235116,0.27917020677235116,0.27917020677235116,0.27917020677235116,0.27917020677235116,0.27917020677235116,0.27917020677235116,0.27917020677235116,0.27917020677235116,0.27917020677235116,0.27917020677235116,0.27917020677235116,0.27917020677235116,0.27917020677235116,0.27917020677235116,0.27917020677235116,0.27917020677235116,0.27917020677235116,0.27917020677235116,0.27917020677235116,0.27917020677235116,0.27917020677235116,0.27917020677235116,0.27917020677235116,0.27917020677235116,0.27917020677235116,0.27917020677235116,0.27917020677235116,0.27917020677235116,0.27917020677235116,0.27917020677235116,0.27917020677235116,0.27917020677235116,0.27917020677235116,0.27917020677235116,0.27917020677235116,0.27917020677235116,0.27917020677235116,0.27917020677235116,0.27917020677235116,0.27917020677235116,0.27917020677235116,0.27917020677235116,0.27917020677235116,0.27917020677235116,0.27917020677235116,0.27917020677235116,0.27917020677235116,0.27917020677235116,0.27917020677235116,0.27917020677235116,0.27917020677235116,0.27917020677235116,0.27917020677235116,0.27917020677235116,0.27917020677235116,0.27917020677235116,0.27917020677235116,0.27917020677235116,0.27917020677235116,0.27917020677235116,0.27917020677235116,0.27917020677235116,0.27917020677235116,0.27917020677235116,0.27917020677235116,0.27917020677235116,0.27917020677235116,0.27917020677235116,0.27917020677235116,0.27917020677235116,0.27917020677235116,0.27917020677235116,0.27917020677235116,0.27917020677235116,0.27917020677235116,0.27917020677235116,0.27917020677235116,0.27917020677235116,0.27917020677235116,0.27917020677235116,0.27917020677235116,0.27917020677235116,0.27917020677235116,0.27917020677235116,0.27917020677235116,0.27917020677235116,0.27917020677235116,0.27917020677235116,0.27917020677235116,0.27917020677235116,0.27917020677235116,0.27917020677235116,0.27917020677235116,0.27917020677235116,0.27917020677235116,0.27917020677235116,0.27917020677235116,0.27917020677235116,0.27917020677235116,0.27917020677235116,0.27917020677235116,0.27917020677235116,0.27917020677235116,0.27917020677235116,0.27917020677235116,0.27917020677235116,0.27917020677235116,0.27917020677235116,0.27917020677235116,0.27917020677235116,0.27917020677235116,0.27917020677235116,0.27917020677235116,0.27917020677235116,0.27917020677235116,0.27917020677235116,0.27917020677235116,0.27917020677235116,0.27917020677235116,0.27917020677235116,0.27917020677235116,0.27917020677235116,0.27917020677235116,0.27917020677235116,0.27917020677235116,0.27917020677235116,0.27917020677235116,0.27917020677235116,0.27917020677235116,0.27917020677235116,0.27917020677235116],\"x\":[0,1,2,3,4,5,6,7,8,9,10,11,12,13,14,15,16,17,18,19,20,21,22,23,24,25,26,27,28,29,30,31,32,33,34,35,36,37,38,39,40,41,42,43,44,45,46,47,48,49,50,51,52,53,54,55,56,57,58,59,60,61,62,63,64,65,66,67,68,69,70,71,72,73,74,75,76,77,78,79,80,81,82,83,84,85,86,87,88,89,90,91,92,93,94,95,96,97,98,99,100,101,102,103,104,105,106,107,108,109,110,111,112,113,114,115,116,117,118,119,120,121,122,123,124,125,126,127,128,129,130,131,132,133,134,135,136,137,138,139,140,141,142,143,144,145,146,147,148,149]},\"selected\":{\"id\":\"2203\",\"type\":\"Selection\"},\"selection_policy\":{\"id\":\"2204\",\"type\":\"UnionRenderers\"}},\"id\":\"2144\",\"type\":\"ColumnDataSource\"},{\"attributes\":{\"overlay\":{\"id\":\"2174\",\"type\":\"BoxAnnotation\"}},\"id\":\"2168\",\"type\":\"BoxZoomTool\"},{\"attributes\":{},\"id\":\"2169\",\"type\":\"ResetTool\"}],\"root_ids\":[\"2146\"]},\"title\":\"Bokeh Application\",\"version\":\"1.0.2\"}};\n",
       "  var render_items = [{\"docid\":\"6c1baa27-a269-4c0a-ada8-8791ee08a464\",\"notebook_comms_target\":\"2271\",\"roots\":{\"2146\":\"0b36c5d1-fa2d-4d52-b97a-efda5e203809\"}}];\n",
       "  root.Bokeh.embed.embed_items_notebook(docs_json, render_items);\n",
       "\n",
       "  }\n",
       "  if (root.Bokeh !== undefined) {\n",
       "    embed_document(root);\n",
       "  } else {\n",
       "    var attempts = 0;\n",
       "    var timer = setInterval(function(root) {\n",
       "      if (root.Bokeh !== undefined) {\n",
       "        embed_document(root);\n",
       "        clearInterval(timer);\n",
       "      }\n",
       "      attempts++;\n",
       "      if (attempts > 100) {\n",
       "        console.log(\"Bokeh: ERROR: Unable to run BokehJS code because BokehJS library is missing\");\n",
       "        clearInterval(timer);\n",
       "      }\n",
       "    }, 10, root)\n",
       "  }\n",
       "})(window);"
      ],
      "application/vnd.bokehjs_exec.v0+json": ""
     },
     "metadata": {
      "application/vnd.bokehjs_exec.v0+json": {
       "id": "2146"
      }
     },
     "output_type": "display_data"
    }
   ],
   "source": [
    "y_names = ['Model_path', 'Fixed Savings rate','Steady state level']\n",
    "ys = [k_pr ,trad_k_pr, [k_star for i in range(timeline)]]\n",
    "model_funcs.plotting(\"T\",y_names, list(range(timeline)), ys, \n",
    "                     y_name= 'Capital pr. capita',legendlocation ='top_center',\n",
    "                    title='Evolution of capital')\n",
    "ys2 = [sk_path, [sk_star for i in range(timeline)]]\n",
    "model_funcs.plotting(\"T\",['Model','Steady state/Fixed'], list(range(timeline)), ys2, \n",
    "                     y_name= 'Savings rate', legendlocation ='bottom_center', \n",
    "                     title ='Evolution of savings rate')"
   ]
  }
 ],
 "metadata": {
  "kernelspec": {
   "display_name": "Python 3",
   "language": "python",
   "name": "python3"
  },
  "language_info": {
   "codemirror_mode": {
    "name": "ipython",
    "version": 3
   },
   "file_extension": ".py",
   "mimetype": "text/x-python",
   "name": "python",
   "nbconvert_exporter": "python",
   "pygments_lexer": "ipython3",
   "version": "3.7.1"
  }
 },
 "nbformat": 4,
 "nbformat_minor": 2
}
