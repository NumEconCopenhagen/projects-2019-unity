{
 "cells": [
  {
   "cell_type": "code",
   "execution_count": 1,
   "metadata": {},
   "outputs": [],
   "source": [
    "import sympy as sm"
   ]
  },
  {
   "cell_type": "markdown",
   "metadata": {},
   "source": [
    "# Our Model"
   ]
  },
  {
   "cell_type": "markdown",
   "metadata": {},
   "source": [
    "Our model is the classic solowmodel, but instead of having a fixed savings rate, in each period the savings rate is decided by a micro-household optimization problem "
   ]
  },
  {
   "cell_type": "markdown",
   "metadata": {},
   "source": [
    "**Micro-foundation of the savingsrate** \n",
    "\n",
    "Representative household utilityfunction in single periode:\n",
    "$$\n",
    "u\\left(c_{t}\\right)=\\frac{c^{1-\\theta}-1}{1-\\theta}\n",
    "$$\n",
    "When the household sums its total utility for mulitple future periods, it disocunts future consumption for immediate consumption by $1-\\beta$ so utility for all periods from period 0 to period T, given a vector C of consumption in each period is:\n",
    "$$\n",
    "U\\left(C\\right)=\\sum_{t=0}^{T}\\beta^{t}\\frac{c_{t}^{1-\\theta}-1}{1-\\theta}\n",
    "$$\n",
    "We assume that the household understands how the solow model works, e.g. how production for consumption is made and how capital accumulation works.\n",
    "$$\n",
    "Y_{t}=AK_{t}^{\\alpha}L_{t}^{1-\\alpha} \n",
    "\\Rightarrow c_{t}\\cdot L_{t} = \\left(1-s_{K_t}\\right)\\cdot AK_{t}^{\\alpha}L_{t}^{1-\\alpha} \n",
    "$$ $$\n",
    "K_{t+1}=s_{Kt}\\cdot Y_{t}+\\left(1+\\delta\\right)K_{t}\n",
    "$$\n",
    "$$\n",
    "L_{t+1}=\\left(1+n\\right)L_{t}\\\n",
    "$$\n",
    "Rewriting to per capita terms we get:\n",
    "$$\n",
    "y_{t}=A k_{t}^{\\alpha} \\Rightarrow\n",
    "c_{t} = \\left(1-s_{Kt}\\right) A k_{t}^{\\alpha}\n",
    "$$ $$\n",
    "k_{t+1}= \\frac{1}{1+n} \\left(s_{Kt}\\cdot A k_{t}^{\\alpha} + \\left(1+\\delta\\right)k_{t} \\right)\n",
    "$$\n",
    "This is out 'budget constraint' more precisely defined as production constraints for all periods \n",
    "\n",
    "\n",
    "\n",
    "So the final optimizationproblem is:\n",
    "$$\n",
    "\\max_{s_{K_t}}U\\left(C\\right)=\\sum_{t=0}^{T}\\beta^{t}\\frac{c_{t}^{1-\\theta}-1}{1-\\theta}\n",
    "$$\n",
    "$$ s.t.$$$$\n",
    "c_{t} = \\left(1-s_{Kt}\\right) A k_{t}^{\\alpha},\\;t\\in [0,T]\n",
    "$$$$\n",
    "k_{t}=\n",
    "\\begin{cases}\n",
    "k_{0}& \\text{if }t=0\\\\\n",
    "\\frac{1}{1+n} \\left(s_{Kt-1}\\cdot A k_{t-1}^{\\alpha} + \\left(1+\\delta\\right)k_{t-1} \\right)& \\text{if }t\\in\\left[1,T\\right]\n",
    "\\end{cases}\n",
    "$$$$\n",
    "k_{0} \\text{ given}\n",
    "$$"
   ]
  },
  {
   "cell_type": "markdown",
   "metadata": {},
   "source": [
    "**Macro foundations**\n",
    "\n",
    "We use the basic solow model but with an adjustable savingsrate for each period. Rewritten we got the following capital-accumulation pr. capita:\n",
    "\n",
    "$$\n",
    "k_{t+1}= \\frac{1}{1+n} \\left(s_{Kt}\\cdot A k_{t}^{\\alpha} + \\left(1+\\delta\\right)k_{t} \\right)\n",
    "$$$$\n",
    "y_{t}=A k_{t}^{\\alpha}\n",
    "$$\n",
    "For a fixed savings rate we know that this model has convergenge to steady state. With the adjustable micro-foundated savingsrate we do not yet know if we have convergens, but we do not that convergence will imply, $k_{t+1}=k_{t}=k^{*}$ thus we can we use sympy to derive:\n",
    "$$\n",
    "k^{*}= \\frac{1}{1+n} \\left(s_{Kt}\\cdot A {k^{*}}^{\\alpha} + \\left(1+\\delta\\right)k^{*} \\right)\n",
    "$$\n"
   ]
  },
  {
   "cell_type": "code",
   "execution_count": null,
   "metadata": {},
   "outputs": [],
   "source": []
  }
 ],
 "metadata": {
  "kernelspec": {
   "display_name": "Python 3",
   "language": "python",
   "name": "python3"
  },
  "language_info": {
   "codemirror_mode": {
    "name": "ipython",
    "version": 3
   },
   "file_extension": ".py",
   "mimetype": "text/x-python",
   "name": "python",
   "nbconvert_exporter": "python",
   "pygments_lexer": "ipython3",
   "version": "3.7.1"
  }
 },
 "nbformat": 4,
 "nbformat_minor": 2
}
