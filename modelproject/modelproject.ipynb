{
 "cells": [
  {
   "cell_type": "code",
   "execution_count": 1,
   "metadata": {},
   "outputs": [],
   "source": [
    "import model_funcs\n",
    "import sympy as sm"
   ]
  },
  {
   "cell_type": "markdown",
   "metadata": {},
   "source": [
    "# Our Model"
   ]
  },
  {
   "cell_type": "markdown",
   "metadata": {},
   "source": [
    "Our model is the classic solowmodel, but instead of having a fixed savings rate, in each period the savings rate is decided by a micro-household optimization problem "
   ]
  },
  {
   "cell_type": "markdown",
   "metadata": {},
   "source": [
    "**Micro-foundation of the savingsrate** \n",
    "\n",
    "Representative household utilityfunction in single periode:\n",
    "$$\n",
    "u\\left(c_{t}\\right)=\\frac{c^{1-\\theta}-1}{1-\\theta}\n",
    "$$\n",
    "When the household sums its total utility for mulitple future periods, it disocunts future consumption for immediate consumption by $1-\\beta$ so utility for all periods from period 0 to period T, given a vector C of consumption in each period is:\n",
    "$$\n",
    "U\\left(C\\right)=\\sum_{t=0}^{T}\\beta^{t}\\frac{c_{t}^{1-\\theta}-1}{1-\\theta}\n",
    "$$\n",
    "We assume that the household understands how the solow model works, e.g. how production for consumption is made and how capital accumulation works.\n",
    "$$\n",
    "Y_{t}=AK_{t}^{\\alpha}L_{t}^{1-\\alpha} \n",
    "\\Rightarrow c_{t}\\cdot L_{t} = \\left(1-s_{K_t}\\right)\\cdot AK_{t}^{\\alpha}L_{t}^{1-\\alpha} \n",
    "$$ $$\n",
    "K_{t+1}=s_{Kt}\\cdot Y_{t}+\\left(1+\\delta\\right)K_{t}\n",
    "$$\n",
    "$$\n",
    "L_{t+1}=\\left(1+n\\right)L_{t}\\\n",
    "$$\n",
    "Rewriting to per capita terms we get:\n",
    "$$\n",
    "y_{t}=A k_{t}^{\\alpha} \\Rightarrow\n",
    "c_{t} = \\left(1-s_{Kt}\\right) A k_{t}^{\\alpha}\n",
    "$$ $$\n",
    "k_{t+1}= \\frac{1}{1+n} \\left(s_{Kt}\\cdot A k_{t}^{\\alpha} + \\left(1+\\delta\\right)k_{t} \\right)\n",
    "$$\n",
    "This is our 'budget constraint' more precisely defined as production constraints for all periods \n",
    "\n",
    "So the final optimizationproblem is:\n",
    "$$\n",
    "\\max_{s_{K_t}}U\\left(C\\right)=\\sum_{t=0}^{T}\\beta^{t}\\frac{c_{t}^{1-\\theta}-1}{1-\\theta}\n",
    "$$\n",
    "$$ s.t.$$$$\n",
    "c_{t} = \\left(1-s_{Kt}\\right) A k_{t}^{\\alpha},\\;t\\in [0,T]\n",
    "$$$$\n",
    "k_{t}=\n",
    "\\begin{cases}\n",
    "k_{0}& \\text{if }t=0\\\\\n",
    "\\frac{1}{1+n} \\left(s_{Kt-1}\\cdot A k_{t-1}^{\\alpha} + \\left(1+\\delta\\right)k_{t-1} \\right)& \\text{if }t\\in\\left[1,T\\right]\n",
    "\\end{cases}\n",
    "$$$$\n",
    "k_{0} \\text{ given}\n",
    "$$\n",
    "It's important to note that although the optimizationsolution, $s_{Kt}$, is solved for all periods. Only the solution for t=0 is used, since the problem is solved again in the next period. E.g. in each period the household formualtes a plan for current and future comsumption. In the current period the plan is pursued but in the following period a new plan is formulated, which is then also only followed for one period. "
   ]
  },
  {
   "cell_type": "markdown",
   "metadata": {},
   "source": [
    "**Macro foundations**\n",
    "\n",
    "We use the basic solow model but with an adjustable savingsrate for each period. Rewritten we got the following capital-accumulation pr. capita:\n",
    "\n",
    "$$\n",
    "k_{t+1}= \\frac{1}{1+n} \\left(s_{Kt}\\cdot A k_{t}^{\\alpha} + \\left(1+\\delta\\right)k_{t} \\right)\n",
    "$$$$\n",
    "y_{t}=A k_{t}^{\\alpha}\n",
    "$$\n",
    "For a fixed savings rate we know that this model has convergenge to steady state. With the adjustable micro-foundated savingsrate we do not yet know if we have convergens, but we do not that convergence will imply, $k_{t+1}=k_{t}=k^{*}$ thus we have:\n",
    "$$\n",
    "k^{*}= \\frac{1}{1+n} \\left(s_{Kt}\\cdot A {k^{*}}^{\\alpha} + \\left(1+\\delta\\right)k^{*} \\right)\n",
    "$$\n",
    "And can use sympy to derive that if we have a convergence to steady savingsrate our steady state capital for a given savings will be:"
   ]
  },
  {
   "cell_type": "code",
   "execution_count": 2,
   "metadata": {},
   "outputs": [
    {
     "data": {
      "image/png": "[encoded data removed]",
      "text/latex": [
       "$$k^{*} = \\left(\\frac{B s_{Kt}}{\\delta + n}\\right)^{- \\frac{1}{\\alpha - 1}}$$"
      ],
      "text/plain": [
       "                  -1  \n",
       "                 ─────\n",
       "                 α - 1\n",
       "         ⎛B⋅s_Kt⎞     \n",
       "k__{*} = ⎜──────⎟     \n",
       "         ⎝δ + n ⎠     "
      ]
     },
     "execution_count": 2,
     "metadata": {},
     "output_type": "execute_result"
    }
   ],
   "source": [
    "sm.init_printing(use_unicode=True)\n",
    "ss_k,find_ssk_sk = model_funcs.steadystate()\n",
    "ss_k"
   ]
  },
  {
   "cell_type": "code",
   "execution_count": 3,
   "metadata": {},
   "outputs": [],
   "source": [
    "sm.init_printing(use_unicode=False)"
   ]
  },
  {
   "cell_type": "markdown",
   "metadata": {},
   "source": [
    "# Solving the micro-foundation numerically"
   ]
  },
  {
   "cell_type": "markdown",
   "metadata": {},
   "source": [
    "We set up parameter values: "
   ]
  },
  {
   "cell_type": "markdown",
   "metadata": {},
   "source": [
    "$\\theta$, determining the representative household's aversion to fluctations in consumption is set to 0.5 <br>\n",
    "$\\beta$, determining how much the representative households values immediate above future consumption, is set to 0.99. Representing a low preference. <br>\n",
    "$\\alpha$, with a Cobb-Douglas production function the incomeshare of capital, is set to $\\frac{1}{3}$, a ordinary macro-assumption. <br>\n",
    "$\\delta$, capital depreciation, is set to 0.05. <br>\n",
    "$n$, population growth is set to 0.008 representing average european population growth. <br>\n",
    "$B$ and $L_{0}$ is normalized to 1, initial capital. <br>\n",
    "$K_{0}$ is set to below the steady state. <br>\n",
    "$t$, the amount of future time periods considered by the household, is set to 40 for two reasons: <br>\n",
    "1. Computational limitations, honestely speed becomes a factor when we simulate a more foresighted representative household.\n",
    "2. It approximately represents the average remaining lifetime of the working population. As we asumme no 'warm glow' from bequesting, this will also be the timeline that the population cares about on average. \n"
   ]
  },
  {
   "cell_type": "code",
   "execution_count": 4,
   "metadata": {},
   "outputs": [],
   "source": [
    "# Parameters\n",
    "#Micro:\n",
    "theta = 0.5\n",
    "beta = 0.99\n",
    "#Macro:\n",
    "alpha = 1/3\n",
    "delta = 0.05\n",
    "n = 0.008\n",
    "\n",
    "# production:\n",
    "b = 1\n",
    "k0 = 5\n",
    "l0 = 1\n",
    "\n",
    "\n",
    "t = 40\n",
    "\n",
    "# time preference utility weights and population growth \n",
    "# are precomputed to save time:\n",
    "weight = np.array([beta**i for i in range(t)])\n",
    "l = np.array([l0*(1+n)**i for i in range(t)])"
   ]
  },
  {
   "cell_type": "markdown",
   "metadata": {},
   "source": [
    "First we look at how, for differnt thetas, optimal savings rate in period t=0, depends on the level of initial capital:"
   ]
  },
  {
   "cell_type": "code",
   "execution_count": 79,
   "metadata": {},
   "outputs": [],
   "source": [
    "k_n = 50\n",
    "thetas = [0.4,0.5,0.7]\n",
    "sks = [np.zeros(k_n) for i in range(3)]\n",
    "k0s = np.linspace(0.001,30,k_n)\n",
    "\n",
    "for j in range(3):\n",
    "    for i in range(k_n):\n",
    "            sks[j][i] = model_funcs.optimal_sks(\n",
    "                t, b, l, weight, delta, alpha, thetas[j], k0s[i])\n",
    "\n",
    "    "
   ]
  },
  {
   "cell_type": "code",
   "execution_count": 6,
   "metadata": {},
   "outputs": [],
   "source": [
    "import matplotlib.pyplot as plt"
   ]
  },
  {
   "cell_type": "code",
   "execution_count": 60,
   "metadata": {},
   "outputs": [
    {
     "data": {
      "text/plain": [
       "[<matplotlib.lines.Line2D at 0x1210599e8>]"
      ]
     },
     "execution_count": 60,
     "metadata": {},
     "output_type": "execute_result"
    },
    {
     "data": {
      "image/png": "[encoded data removed]",
      "text/plain": [
       "<Figure size 432x288 with 1 Axes>"
      ]
     },
     "metadata": {
      "needs_background": "light"
     },
     "output_type": "display_data"
    }
   ],
   "source": [
    "fig = plt.figure()\n",
    "ax = fig.add_subplot(1,1,1)\n",
    "ax.plot(k0s,sks[0])\n",
    "ax.plot(k0s,sks[1])\n",
    "ax.plot(k0s,sks[2])"
   ]
  },
  {
   "cell_type": "code",
   "execution_count": 8,
   "metadata": {},
   "outputs": [],
   "source": [
    "from bokeh.io import output_notebook, push_notebook,show\n",
    "from bokeh.plotting import figure, show, output_file\n",
    "from bokeh.models import ColumnDataSource, HoverTool, NumeralTickFormatter"
   ]
  },
  {
   "cell_type": "code",
   "execution_count": 66,
   "metadata": {},
   "outputs": [],
   "source": [
    "def plotting(x,ys, x_array, y_arrays,title = 'Figure'):\n",
    "    \n",
    "    hover = HoverTool(tooltips= [(f'{x}','@x{0,0.0}'),\n",
    "        (f'{y}','@y{0,0.0}')])\n",
    "    \n",
    "    tools=\"pan,box_zoom,reset,save\"\n",
    "    data = {'x': x_array, 'y': y_array}\n",
    "    source = ColumnDataSource(data)\n",
    "    \n",
    "    p = figure(title=f'{title}',tools=[hover,tools], \n",
    "               x_axis_label=f'{x}', y_axis_label=f'{y}')\n",
    "    \n",
    "    p.line(x='x', y='y', source=source, \n",
    "           legend= f'{x}')\n",
    "    \n",
    "    p.legend.location = \"top_center\"\n",
    "    \n",
    "    show(p,notebook_handle=True)\n",
    "    "
   ]
  },
  {
   "cell_type": "code",
   "execution_count": 80,
   "metadata": {},
   "outputs": [],
   "source": [
    "hover = HoverTool(tooltips= [('capital','@x{0,0.0}'),\n",
    "        ('savings','@y{0,0.0}')])\n",
    "tools=\"pan,box_zoom,reset,save\"\n",
    "data = {'x': k0s, 'y': sks[0]}\n",
    "source = ColumnDataSource(data)\n",
    "    \n",
    "p = figure(title='Figure 1',tools=[hover,tools], \n",
    "               x_axis_label=f'Capital', y_axis_label=f'Savings rate')\n",
    "    \n",
    "p.line(x='x', y='y', source=source, color = 'blue', \n",
    "           legend= 'Theta')\n",
    "    \n",
    "p.legend.location = \"top_center\"\n"
   ]
  },
  {
   "cell_type": "code",
   "execution_count": 81,
   "metadata": {},
   "outputs": [],
   "source": [
    "show(p,notebook_handle=True)"
   ]
  },
  {
   "cell_type": "code",
   "execution_count": 67,
   "metadata": {},
   "outputs": [
    {
     "name": "stderr",
     "output_type": "stream",
     "text": [
      "ERROR:bokeh.core.validation.check:E-1001 (BAD_COLUMN_NAME): Glyph refers to nonexistent column name: y [renderer: GlyphRenderer(id='1378', ...)]\n"
     ]
    }
   ],
   "source": [
    "plotting(\"Capital\", \"Savings\", k0s, sks[0])"
   ]
  }
 ],
 "metadata": {
  "kernelspec": {
   "display_name": "Python 3",
   "language": "python",
   "name": "python3"
  },
  "language_info": {
   "codemirror_mode": {
    "name": "ipython",
    "version": 3
   },
   "file_extension": ".py",
   "mimetype": "text/x-python",
   "name": "python",
   "nbconvert_exporter": "python",
   "pygments_lexer": "ipython3",
   "version": "3.7.1"
  }
 },
 "nbformat": 4,
 "nbformat_minor": 2
}
