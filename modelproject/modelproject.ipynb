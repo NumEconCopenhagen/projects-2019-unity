{
 "cells": [
  {
   "cell_type": "markdown",
   "metadata": {},
   "source": [
    "%load_ext autoreload\n",
    "%autoreload 2"
   ]
  },
  {
   "cell_type": "code",
   "execution_count": 1,
   "metadata": {},
   "outputs": [
    {
     "data": {
      "text/html": [
       "\n",
       "    <div class=\"bk-root\">\n",
       "        <a href=\"https://bokeh.pydata.org\" target=\"_blank\" class=\"bk-logo bk-logo-small bk-logo-notebook\"></a>\n",
       "        <span id=\"1001\">Loading BokehJS ...</span>\n",
       "    </div>"
      ]
     },
     "metadata": {},
     "output_type": "display_data"
    },
    {
     "data": {
      "application/javascript": [
       "\n",
       "(function(root) {\n",
       "  function now() {\n",
       "    return new Date();\n",
       "  }\n",
       "\n",
       "  var force = true;\n",
       "\n",
       "  if (typeof (root._bokeh_onload_callbacks) === \"undefined\" || force === true) {\n",
       "    root._bokeh_onload_callbacks = [];\n",
       "    root._bokeh_is_loading = undefined;\n",
       "  }\n",
       "\n",
       "  var JS_MIME_TYPE = 'application/javascript';\n",
       "  var HTML_MIME_TYPE = 'text/html';\n",
       "  var EXEC_MIME_TYPE = 'application/vnd.bokehjs_exec.v0+json';\n",
       "  var CLASS_NAME = 'output_bokeh rendered_html';\n",
       "\n",
       "  /**\n",
       "   * Render data to the DOM node\n",
       "   */\n",
       "  function render(props, node) {\n",
       "    var script = document.createElement(\"script\");\n",
       "    node.appendChild(script);\n",
       "  }\n",
       "\n",
       "  /**\n",
       "   * Handle when an output is cleared or removed\n",
       "   */\n",
       "  function handleClearOutput(event, handle) {\n",
       "    var cell = handle.cell;\n",
       "\n",
       "    var id = cell.output_area._bokeh_element_id;\n",
       "    var server_id = cell.output_area._bokeh_server_id;\n",
       "    // Clean up Bokeh references\n",
       "    if (id != null && id in Bokeh.index) {\n",
       "      Bokeh.index[id].model.document.clear();\n",
       "      delete Bokeh.index[id];\n",
       "    }\n",
       "\n",
       "    if (server_id !== undefined) {\n",
       "      // Clean up Bokeh references\n",
       "      var cmd = \"from bokeh.io.state import curstate; print(curstate().uuid_to_server['\" + server_id + \"'].get_sessions()[0].document.roots[0]._id)\";\n",
       "      cell.notebook.kernel.execute(cmd, {\n",
       "        iopub: {\n",
       "          output: function(msg) {\n",
       "            var id = msg.content.text.trim();\n",
       "            if (id in Bokeh.index) {\n",
       "              Bokeh.index[id].model.document.clear();\n",
       "              delete Bokeh.index[id];\n",
       "            }\n",
       "          }\n",
       "        }\n",
       "      });\n",
       "      // Destroy server and session\n",
       "      var cmd = \"import bokeh.io.notebook as ion; ion.destroy_server('\" + server_id + \"')\";\n",
       "      cell.notebook.kernel.execute(cmd);\n",
       "    }\n",
       "  }\n",
       "\n",
       "  /**\n",
       "   * Handle when a new output is added\n",
       "   */\n",
       "  function handleAddOutput(event, handle) {\n",
       "    var output_area = handle.output_area;\n",
       "    var output = handle.output;\n",
       "\n",
       "    // limit handleAddOutput to display_data with EXEC_MIME_TYPE content only\n",
       "    if ((output.output_type != \"display_data\") || (!output.data.hasOwnProperty(EXEC_MIME_TYPE))) {\n",
       "      return\n",
       "    }\n",
       "\n",
       "    var toinsert = output_area.element.find(\".\" + CLASS_NAME.split(' ')[0]);\n",
       "\n",
       "    if (output.metadata[EXEC_MIME_TYPE][\"id\"] !== undefined) {\n",
       "      toinsert[toinsert.length - 1].firstChild.textContent = output.data[JS_MIME_TYPE];\n",
       "      // store reference to embed id on output_area\n",
       "      output_area._bokeh_element_id = output.metadata[EXEC_MIME_TYPE][\"id\"];\n",
       "    }\n",
       "    if (output.metadata[EXEC_MIME_TYPE][\"server_id\"] !== undefined) {\n",
       "      var bk_div = document.createElement(\"div\");\n",
       "      bk_div.innerHTML = output.data[HTML_MIME_TYPE];\n",
       "      var script_attrs = bk_div.children[0].attributes;\n",
       "      for (var i = 0; i < script_attrs.length; i++) {\n",
       "        toinsert[toinsert.length - 1].firstChild.setAttribute(script_attrs[i].name, script_attrs[i].value);\n",
       "      }\n",
       "      // store reference to server id on output_area\n",
       "      output_area._bokeh_server_id = output.metadata[EXEC_MIME_TYPE][\"server_id\"];\n",
       "    }\n",
       "  }\n",
       "\n",
       "  function register_renderer(events, OutputArea) {\n",
       "\n",
       "    function append_mime(data, metadata, element) {\n",
       "      // create a DOM node to render to\n",
       "      var toinsert = this.create_output_subarea(\n",
       "        metadata,\n",
       "        CLASS_NAME,\n",
       "        EXEC_MIME_TYPE\n",
       "      );\n",
       "      this.keyboard_manager.register_events(toinsert);\n",
       "      // Render to node\n",
       "      var props = {data: data, metadata: metadata[EXEC_MIME_TYPE]};\n",
       "      render(props, toinsert[toinsert.length - 1]);\n",
       "      element.append(toinsert);\n",
       "      return toinsert\n",
       "    }\n",
       "\n",
       "    /* Handle when an output is cleared or removed */\n",
       "    events.on('clear_output.CodeCell', handleClearOutput);\n",
       "    events.on('delete.Cell', handleClearOutput);\n",
       "\n",
       "    /* Handle when a new output is added */\n",
       "    events.on('output_added.OutputArea', handleAddOutput);\n",
       "\n",
       "    /**\n",
       "     * Register the mime type and append_mime function with output_area\n",
       "     */\n",
       "    OutputArea.prototype.register_mime_type(EXEC_MIME_TYPE, append_mime, {\n",
       "      /* Is output safe? */\n",
       "      safe: true,\n",
       "      /* Index of renderer in `output_area.display_order` */\n",
       "      index: 0\n",
       "    });\n",
       "  }\n",
       "\n",
       "  // register the mime type if in Jupyter Notebook environment and previously unregistered\n",
       "  if (root.Jupyter !== undefined) {\n",
       "    var events = require('base/js/events');\n",
       "    var OutputArea = require('notebook/js/outputarea').OutputArea;\n",
       "\n",
       "    if (OutputArea.prototype.mime_types().indexOf(EXEC_MIME_TYPE) == -1) {\n",
       "      register_renderer(events, OutputArea);\n",
       "    }\n",
       "  }\n",
       "\n",
       "  \n",
       "  if (typeof (root._bokeh_timeout) === \"undefined\" || force === true) {\n",
       "    root._bokeh_timeout = Date.now() + 5000;\n",
       "    root._bokeh_failed_load = false;\n",
       "  }\n",
       "\n",
       "  var NB_LOAD_WARNING = {'data': {'text/html':\n",
       "     \"<div style='background-color: #fdd'>\\n\"+\n",
       "     \"<p>\\n\"+\n",
       "     \"BokehJS does not appear to have successfully loaded. If loading BokehJS from CDN, this \\n\"+\n",
       "     \"may be due to a slow or bad network connection. Possible fixes:\\n\"+\n",
       "     \"</p>\\n\"+\n",
       "     \"<ul>\\n\"+\n",
       "     \"<li>re-rerun `output_notebook()` to attempt to load from CDN again, or</li>\\n\"+\n",
       "     \"<li>use INLINE resources instead, as so:</li>\\n\"+\n",
       "     \"</ul>\\n\"+\n",
       "     \"<code>\\n\"+\n",
       "     \"from bokeh.resources import INLINE\\n\"+\n",
       "     \"output_notebook(resources=INLINE)\\n\"+\n",
       "     \"</code>\\n\"+\n",
       "     \"</div>\"}};\n",
       "\n",
       "  function display_loaded() {\n",
       "    var el = document.getElementById(\"1001\");\n",
       "    if (el != null) {\n",
       "      el.textContent = \"BokehJS is loading...\";\n",
       "    }\n",
       "    if (root.Bokeh !== undefined) {\n",
       "      if (el != null) {\n",
       "        el.textContent = \"BokehJS \" + root.Bokeh.version + \" successfully loaded.\";\n",
       "      }\n",
       "    } else if (Date.now() < root._bokeh_timeout) {\n",
       "      setTimeout(display_loaded, 100)\n",
       "    }\n",
       "  }\n",
       "\n",
       "\n",
       "  function run_callbacks() {\n",
       "    try {\n",
       "      root._bokeh_onload_callbacks.forEach(function(callback) { callback() });\n",
       "    }\n",
       "    finally {\n",
       "      delete root._bokeh_onload_callbacks\n",
       "    }\n",
       "    console.info(\"Bokeh: all callbacks have finished\");\n",
       "  }\n",
       "\n",
       "  function load_libs(js_urls, callback) {\n",
       "    root._bokeh_onload_callbacks.push(callback);\n",
       "    if (root._bokeh_is_loading > 0) {\n",
       "      console.log(\"Bokeh: BokehJS is being loaded, scheduling callback at\", now());\n",
       "      return null;\n",
       "    }\n",
       "    if (js_urls == null || js_urls.length === 0) {\n",
       "      run_callbacks();\n",
       "      return null;\n",
       "    }\n",
       "    console.log(\"Bokeh: BokehJS not loaded, scheduling load and callback at\", now());\n",
       "    root._bokeh_is_loading = js_urls.length;\n",
       "    for (var i = 0; i < js_urls.length; i++) {\n",
       "      var url = js_urls[i];\n",
       "      var s = document.createElement('script');\n",
       "      s.src = url;\n",
       "      s.async = false;\n",
       "      s.onreadystatechange = s.onload = function() {\n",
       "        root._bokeh_is_loading--;\n",
       "        if (root._bokeh_is_loading === 0) {\n",
       "          console.log(\"Bokeh: all BokehJS libraries loaded\");\n",
       "          run_callbacks()\n",
       "        }\n",
       "      };\n",
       "      s.onerror = function() {\n",
       "        console.warn(\"failed to load library \" + url);\n",
       "      };\n",
       "      console.log(\"Bokeh: injecting script tag for BokehJS library: \", url);\n",
       "      document.getElementsByTagName(\"head\")[0].appendChild(s);\n",
       "    }\n",
       "  };var element = document.getElementById(\"1001\");\n",
       "  if (element == null) {\n",
       "    console.log(\"Bokeh: ERROR: autoload.js configured with elementid '1001' but no matching script tag was found. \")\n",
       "    return false;\n",
       "  }\n",
       "\n",
       "  var js_urls = [\"https://cdn.pydata.org/bokeh/release/bokeh-1.0.2.min.js\", \"https://cdn.pydata.org/bokeh/release/bokeh-widgets-1.0.2.min.js\", \"https://cdn.pydata.org/bokeh/release/bokeh-tables-1.0.2.min.js\", \"https://cdn.pydata.org/bokeh/release/bokeh-gl-1.0.2.min.js\"];\n",
       "\n",
       "  var inline_js = [\n",
       "    function(Bokeh) {\n",
       "      Bokeh.set_log_level(\"info\");\n",
       "    },\n",
       "    \n",
       "    function(Bokeh) {\n",
       "      \n",
       "    },\n",
       "    function(Bokeh) {\n",
       "      console.log(\"Bokeh: injecting CSS: https://cdn.pydata.org/bokeh/release/bokeh-1.0.2.min.css\");\n",
       "      Bokeh.embed.inject_css(\"https://cdn.pydata.org/bokeh/release/bokeh-1.0.2.min.css\");\n",
       "      console.log(\"Bokeh: injecting CSS: https://cdn.pydata.org/bokeh/release/bokeh-widgets-1.0.2.min.css\");\n",
       "      Bokeh.embed.inject_css(\"https://cdn.pydata.org/bokeh/release/bokeh-widgets-1.0.2.min.css\");\n",
       "      console.log(\"Bokeh: injecting CSS: https://cdn.pydata.org/bokeh/release/bokeh-tables-1.0.2.min.css\");\n",
       "      Bokeh.embed.inject_css(\"https://cdn.pydata.org/bokeh/release/bokeh-tables-1.0.2.min.css\");\n",
       "    }\n",
       "  ];\n",
       "\n",
       "  function run_inline_js() {\n",
       "    \n",
       "    if ((root.Bokeh !== undefined) || (force === true)) {\n",
       "      for (var i = 0; i < inline_js.length; i++) {\n",
       "        inline_js[i].call(root, root.Bokeh);\n",
       "      }if (force === true) {\n",
       "        display_loaded();\n",
       "      }} else if (Date.now() < root._bokeh_timeout) {\n",
       "      setTimeout(run_inline_js, 100);\n",
       "    } else if (!root._bokeh_failed_load) {\n",
       "      console.log(\"Bokeh: BokehJS failed to load within specified timeout.\");\n",
       "      root._bokeh_failed_load = true;\n",
       "    } else if (force !== true) {\n",
       "      var cell = $(document.getElementById(\"1001\")).parents('.cell').data().cell;\n",
       "      cell.output_area.append_execute_result(NB_LOAD_WARNING)\n",
       "    }\n",
       "\n",
       "  }\n",
       "\n",
       "  if (root._bokeh_is_loading === 0) {\n",
       "    console.log(\"Bokeh: BokehJS loaded, going straight to plotting\");\n",
       "    run_inline_js();\n",
       "  } else {\n",
       "    load_libs(js_urls, function() {\n",
       "      console.log(\"Bokeh: BokehJS plotting callback run at\", now());\n",
       "      run_inline_js();\n",
       "    });\n",
       "  }\n",
       "}(window));"
      ],
      "application/vnd.bokehjs_load.v0+json": "\n(function(root) {\n  function now() {\n    return new Date();\n  }\n\n  var force = true;\n\n  if (typeof (root._bokeh_onload_callbacks) === \"undefined\" || force === true) {\n    root._bokeh_onload_callbacks = [];\n    root._bokeh_is_loading = undefined;\n  }\n\n  \n\n  \n  if (typeof (root._bokeh_timeout) === \"undefined\" || force === true) {\n    root._bokeh_timeout = Date.now() + 5000;\n    root._bokeh_failed_load = false;\n  }\n\n  var NB_LOAD_WARNING = {'data': {'text/html':\n     \"<div style='background-color: #fdd'>\\n\"+\n     \"<p>\\n\"+\n     \"BokehJS does not appear to have successfully loaded. If loading BokehJS from CDN, this \\n\"+\n     \"may be due to a slow or bad network connection. Possible fixes:\\n\"+\n     \"</p>\\n\"+\n     \"<ul>\\n\"+\n     \"<li>re-rerun `output_notebook()` to attempt to load from CDN again, or</li>\\n\"+\n     \"<li>use INLINE resources instead, as so:</li>\\n\"+\n     \"</ul>\\n\"+\n     \"<code>\\n\"+\n     \"from bokeh.resources import INLINE\\n\"+\n     \"output_notebook(resources=INLINE)\\n\"+\n     \"</code>\\n\"+\n     \"</div>\"}};\n\n  function display_loaded() {\n    var el = document.getElementById(\"1001\");\n    if (el != null) {\n      el.textContent = \"BokehJS is loading...\";\n    }\n    if (root.Bokeh !== undefined) {\n      if (el != null) {\n        el.textContent = \"BokehJS \" + root.Bokeh.version + \" successfully loaded.\";\n      }\n    } else if (Date.now() < root._bokeh_timeout) {\n      setTimeout(display_loaded, 100)\n    }\n  }\n\n\n  function run_callbacks() {\n    try {\n      root._bokeh_onload_callbacks.forEach(function(callback) { callback() });\n    }\n    finally {\n      delete root._bokeh_onload_callbacks\n    }\n    console.info(\"Bokeh: all callbacks have finished\");\n  }\n\n  function load_libs(js_urls, callback) {\n    root._bokeh_onload_callbacks.push(callback);\n    if (root._bokeh_is_loading > 0) {\n      console.log(\"Bokeh: BokehJS is being loaded, scheduling callback at\", now());\n      return null;\n    }\n    if (js_urls == null || js_urls.length === 0) {\n      run_callbacks();\n      return null;\n    }\n    console.log(\"Bokeh: BokehJS not loaded, scheduling load and callback at\", now());\n    root._bokeh_is_loading = js_urls.length;\n    for (var i = 0; i < js_urls.length; i++) {\n      var url = js_urls[i];\n      var s = document.createElement('script');\n      s.src = url;\n      s.async = false;\n      s.onreadystatechange = s.onload = function() {\n        root._bokeh_is_loading--;\n        if (root._bokeh_is_loading === 0) {\n          console.log(\"Bokeh: all BokehJS libraries loaded\");\n          run_callbacks()\n        }\n      };\n      s.onerror = function() {\n        console.warn(\"failed to load library \" + url);\n      };\n      console.log(\"Bokeh: injecting script tag for BokehJS library: \", url);\n      document.getElementsByTagName(\"head\")[0].appendChild(s);\n    }\n  };var element = document.getElementById(\"1001\");\n  if (element == null) {\n    console.log(\"Bokeh: ERROR: autoload.js configured with elementid '1001' but no matching script tag was found. \")\n    return false;\n  }\n\n  var js_urls = [\"https://cdn.pydata.org/bokeh/release/bokeh-1.0.2.min.js\", \"https://cdn.pydata.org/bokeh/release/bokeh-widgets-1.0.2.min.js\", \"https://cdn.pydata.org/bokeh/release/bokeh-tables-1.0.2.min.js\", \"https://cdn.pydata.org/bokeh/release/bokeh-gl-1.0.2.min.js\"];\n\n  var inline_js = [\n    function(Bokeh) {\n      Bokeh.set_log_level(\"info\");\n    },\n    \n    function(Bokeh) {\n      \n    },\n    function(Bokeh) {\n      console.log(\"Bokeh: injecting CSS: https://cdn.pydata.org/bokeh/release/bokeh-1.0.2.min.css\");\n      Bokeh.embed.inject_css(\"https://cdn.pydata.org/bokeh/release/bokeh-1.0.2.min.css\");\n      console.log(\"Bokeh: injecting CSS: https://cdn.pydata.org/bokeh/release/bokeh-widgets-1.0.2.min.css\");\n      Bokeh.embed.inject_css(\"https://cdn.pydata.org/bokeh/release/bokeh-widgets-1.0.2.min.css\");\n      console.log(\"Bokeh: injecting CSS: https://cdn.pydata.org/bokeh/release/bokeh-tables-1.0.2.min.css\");\n      Bokeh.embed.inject_css(\"https://cdn.pydata.org/bokeh/release/bokeh-tables-1.0.2.min.css\");\n    }\n  ];\n\n  function run_inline_js() {\n    \n    if ((root.Bokeh !== undefined) || (force === true)) {\n      for (var i = 0; i < inline_js.length; i++) {\n        inline_js[i].call(root, root.Bokeh);\n      }if (force === true) {\n        display_loaded();\n      }} else if (Date.now() < root._bokeh_timeout) {\n      setTimeout(run_inline_js, 100);\n    } else if (!root._bokeh_failed_load) {\n      console.log(\"Bokeh: BokehJS failed to load within specified timeout.\");\n      root._bokeh_failed_load = true;\n    } else if (force !== true) {\n      var cell = $(document.getElementById(\"1001\")).parents('.cell').data().cell;\n      cell.output_area.append_execute_result(NB_LOAD_WARNING)\n    }\n\n  }\n\n  if (root._bokeh_is_loading === 0) {\n    console.log(\"Bokeh: BokehJS loaded, going straight to plotting\");\n    run_inline_js();\n  } else {\n    load_libs(js_urls, function() {\n      console.log(\"Bokeh: BokehJS plotting callback run at\", now());\n      run_inline_js();\n    });\n  }\n}(window));"
     },
     "metadata": {},
     "output_type": "display_data"
    }
   ],
   "source": [
    "import model_funcs\n",
    "import numpy as np\n",
    "import sympy as sm\n",
    "from scipy import interpolate\n",
    "from bokeh.io import output_notebook,show\n",
    "from bokeh.layouts import row, column\n",
    "output_notebook()"
   ]
  },
  {
   "cell_type": "markdown",
   "metadata": {},
   "source": [
    "In the following representation, we have divided the project in six sections. \n",
    "1. Introduction to our simple macro model\n",
    "2. Solving the simple macro model\n",
    "3. Introduction and solution to the micromodel\n",
    "4. Solving the modified solowmodel\n",
    "5. Different methods to solve the model\n",
    "6. Solving the model for different $\\theta$"
   ]
  },
  {
   "cell_type": "markdown",
   "metadata": {},
   "source": [
    "# 1. Our Model"
   ]
  },
  {
   "cell_type": "markdown",
   "metadata": {},
   "source": [
    "Our model is the classic solowmodel, but instead of having a fixed savings rate, in each period the savings rate is decided by a micro-household optimization problem. We will get back to this later but first we will solve the simple Solow model with a fixed savingsrate."
   ]
  },
  {
   "cell_type": "markdown",
   "metadata": {},
   "source": [
    "**Macro foundations**\n",
    "\n",
    "The basic solow model consists of the following equations:\n",
    "$$\n",
    "Y_t = A K^{\\alpha} L^{1-\\alpha}\n",
    "$$$$\n",
    "K_{t+1}=s_{K}\\cdot Y_{t}+\\left(1-\\delta\\right)K_{t}\n",
    "$$$$\n",
    "L_{t+1}=\\left(1+n\\right) L_{t}\n",
    "$$\n",
    "\n",
    "By denoting $k_{t},y_{t}=\\frac{K_{t}}{L_{t}},\\frac{Y_{t}}{L_{t}}$ the following transition equation can be derived:\n",
    "$$\n",
    "k_{t+1}= \\frac{1}{1+n} \\left(s_{Kt}\\cdot A k_{t}^{\\alpha} + \\left(1+\\delta\\right)k_{t} \\right)\n",
    "$$"
   ]
  },
  {
   "cell_type": "markdown",
   "metadata": {},
   "source": [
    "# 2. Solving the basic Solow model"
   ]
  },
  {
   "cell_type": "markdown",
   "metadata": {},
   "source": [
    "For a fixed savings rate we know that basic Solow model has convergenge to steady state (Inada-conditions). Convergence will imply $k_{t+1}=k_{t}=k^{*}$ thus we have from the transtition equation that:\n",
    "$$\n",
    "k^{*}= \\frac{1}{1+n} \\left(s_{Kt}\\cdot A {k^{*}}^{\\alpha} + \\left(1+\\delta\\right)k^{*} \\right)\n",
    "$$\n",
    "And can use sympy to derive our steady state capital for a given fixed savings will be:"
   ]
  },
  {
   "cell_type": "code",
   "execution_count": 2,
   "metadata": {},
   "outputs": [
    {
     "data": {
      "image/png": "[encoded data removed]",
      "text/latex": [
       "$$k^{*} = \\left(\\frac{A s_{K}}{\\delta + n}\\right)^{- \\frac{1}{\\alpha - 1}}$$"
      ],
      "text/plain": [
       "                 -1  \n",
       "                ─────\n",
       "                α - 1\n",
       "         ⎛A⋅s_K⎞     \n",
       "k__{*} = ⎜─────⎟     \n",
       "         ⎝δ + n⎠     "
      ]
     },
     "execution_count": 2,
     "metadata": {},
     "output_type": "execute_result"
    }
   ],
   "source": [
    "sm.init_printing(use_unicode=True)\n",
    "# Function that solve the transtion equation\n",
    "ss_k = model_funcs.steadystate()\n",
    "ss_k"
   ]
  },
  {
   "cell_type": "code",
   "execution_count": 3,
   "metadata": {},
   "outputs": [],
   "source": [
    "sm.init_printing(use_unicode=False)"
   ]
  },
  {
   "cell_type": "markdown",
   "metadata": {},
   "source": [
    "We can also simulate the model with a function defined in model_funcs.py and show it visually.\n",
    "First we set up reasonable parameter values"
   ]
  },
  {
   "cell_type": "markdown",
   "metadata": {},
   "source": [
    "$\\alpha$, with a Cobb-Douglas production function, this is the incomeshare of capital, it is set to $\\frac{1}{3}$, a ordinary macro-assumption. <br>\n",
    "$\\delta$, capital depreciation, is set to $5\\%$. <br>\n",
    "$n$, population growth is set to $0.8\\%$ representing average european population growth. <br>\n",
    "$s_{K}$, the fixed savings rate is set to $20\\%$. <br>\n",
    "$A$ and $L_{0}$ is both normalized to 1. <br>\n",
    "$K_{0}$ is set to 5, below the steady state. <br>"
   ]
  },
  {
   "cell_type": "code",
   "execution_count": 4,
   "metadata": {},
   "outputs": [
    {
     "data": {
      "text/html": [
       "\n",
       "\n",
       "\n",
       "\n",
       "\n",
       "\n",
       "  <div class=\"bk-root\" id=\"e6b48663-89cf-49e1-8ea5-c6002e94d87f\"></div>\n"
      ]
     },
     "metadata": {},
     "output_type": "display_data"
    },
    {
     "data": {
      "application/javascript": [
       "(function(root) {\n",
       "  function embed_document(root) {\n",
       "    \n",
       "  var docs_json = {\"d6cffa75-c6e7-4ae5-927d-f3c8378bdf54\":{\"roots\":{\"references\":[{\"attributes\":{\"below\":[{\"id\":\"1015\",\"type\":\"LinearAxis\"}],\"left\":[{\"id\":\"1020\",\"type\":\"LinearAxis\"}],\"plot_height\":450,\"renderers\":[{\"id\":\"1015\",\"type\":\"LinearAxis\"},{\"id\":\"1019\",\"type\":\"Grid\"},{\"id\":\"1020\",\"type\":\"LinearAxis\"},{\"id\":\"1024\",\"type\":\"Grid\"},{\"id\":\"1033\",\"type\":\"BoxAnnotation\"},{\"id\":\"1050\",\"type\":\"Legend\"},{\"id\":\"1042\",\"type\":\"GlyphRenderer\"},{\"id\":\"1055\",\"type\":\"GlyphRenderer\"}],\"title\":{\"id\":\"1004\",\"type\":\"Title\"},\"toolbar\":{\"id\":\"1030\",\"type\":\"Toolbar\"},\"x_range\":{\"id\":\"1007\",\"type\":\"DataRange1d\"},\"x_scale\":{\"id\":\"1011\",\"type\":\"LinearScale\"},\"y_range\":{\"id\":\"1009\",\"type\":\"DataRange1d\"},\"y_scale\":{\"id\":\"1013\",\"type\":\"LinearScale\"}},\"id\":\"1005\",\"subtype\":\"Figure\",\"type\":\"Plot\"},{\"attributes\":{\"label\":{\"value\":\"Solow path\"},\"renderers\":[{\"id\":\"1042\",\"type\":\"GlyphRenderer\"}]},\"id\":\"1051\",\"type\":\"LegendItem\"},{\"attributes\":{},\"id\":\"1064\",\"type\":\"Selection\"},{\"attributes\":{\"line_alpha\":0.1,\"line_color\":\"#1f77b4\",\"x\":{\"field\":\"x\"},\"y\":{\"field\":\"a\"}},\"id\":\"1041\",\"type\":\"Line\"},{\"attributes\":{\"source\":{\"id\":\"1003\",\"type\":\"ColumnDataSource\"}},\"id\":\"1043\",\"type\":\"CDSView\"},{\"attributes\":{\"items\":[{\"id\":\"1051\",\"type\":\"LegendItem\"},{\"id\":\"1065\",\"type\":\"LegendItem\"}],\"location\":\"bottom_center\",\"plot\":{\"id\":\"1005\",\"subtype\":\"Figure\",\"type\":\"Plot\"}},\"id\":\"1050\",\"type\":\"Legend\"},{\"attributes\":{},\"id\":\"1011\",\"type\":\"LinearScale\"},{\"attributes\":{},\"id\":\"1025\",\"type\":\"PanTool\"},{\"attributes\":{},\"id\":\"1021\",\"type\":\"BasicTicker\"},{\"attributes\":{\"axis_label\":\"T\",\"formatter\":{\"id\":\"1048\",\"type\":\"BasicTickFormatter\"},\"plot\":{\"id\":\"1005\",\"subtype\":\"Figure\",\"type\":\"Plot\"},\"ticker\":{\"id\":\"1016\",\"type\":\"BasicTicker\"}},\"id\":\"1015\",\"type\":\"LinearAxis\"},{\"attributes\":{\"data_source\":{\"id\":\"1003\",\"type\":\"ColumnDataSource\"},\"glyph\":{\"id\":\"1040\",\"type\":\"Line\"},\"hover_glyph\":null,\"muted_glyph\":null,\"nonselection_glyph\":{\"id\":\"1041\",\"type\":\"Line\"},\"selection_glyph\":null,\"view\":{\"id\":\"1043\",\"type\":\"CDSView\"}},\"id\":\"1042\",\"type\":\"GlyphRenderer\"},{\"attributes\":{\"plot\":{\"id\":\"1005\",\"subtype\":\"Figure\",\"type\":\"Plot\"},\"ticker\":{\"id\":\"1016\",\"type\":\"BasicTicker\"}},\"id\":\"1019\",\"type\":\"Grid\"},{\"attributes\":{},\"id\":\"1063\",\"type\":\"UnionRenderers\"},{\"attributes\":{\"label\":{\"value\":\"Steady state\"},\"renderers\":[{\"id\":\"1055\",\"type\":\"GlyphRenderer\"}]},\"id\":\"1065\",\"type\":\"LegendItem\"},{\"attributes\":{},\"id\":\"1046\",\"type\":\"BasicTickFormatter\"},{\"attributes\":{\"line_color\":\"blue\",\"x\":{\"field\":\"x\"},\"y\":{\"field\":\"b\"}},\"id\":\"1053\",\"type\":\"Line\"},{\"attributes\":{\"callback\":null,\"data\":{\"a\":{\"__ndarray__\":\"AAAAAAAAFEBBKe4M0jQUQAz6MtrKZxRAy6ThAfmYFEDfMhbXasgUQAKDvmIu9hRAedMEYVEiFUC310k/4UwVQMgznhrrdRVAE9+svnudFUBZawmln8MVQEKA1vRi6BVAAgy6gtELFkD4uhXR9i0WQGM9exDeThZAF79UIJJuFkBtu7qPHY0WQJoKcZ6KqhZAe6YFPuPGFkAuNgwTMeIWQJ/ycXZ9/BZAc+zldtEVF0A2JlLaNS4XQAtWYh+zRRdACnkVf1FcF0DdsFfuGHIXQDsroh8RhxdA0xKfhEGbF0Apw89Psa4XQPmsM3ZnwRdAPIjusGrTF0AKm+x+weQXQIkDhCZy9RdASBUSt4IFGEAj+pMK+RQYQIviOcfaIxhA2yr0YC0yGEDe8fka9j8YQH+xSAk6TRhA3HwcEv5ZGECvl2DvRmYYQKopGDAZchhA8N2+OXl9GEBjSqFJa4gYQGcFLXbzkhhA4lk4sBWdGEDukUHE1aYYQNHXpVs3sBhAl7PP/T25GEBoMV0R7cEYQLjBPd1HyhhA3ejHiVHSGECQ18YhDdoYQBEJgJN94RhAlwaxsaXoGEAacoU0iO8YQJB8hbon9hhAjO18yYb8GEBS41rPpwIZQNVzCiONCBlAzldEBTkOGUC/yVmhrRMZQDrD+A3tGBlA/sLpTfkdGUCLRsdQ1CIZQN4hr/N/JxlA3t/tAf4rGUCTVaQ1UDAZQCWSZzh4NBlABFXbo3c4GUAfM0cCUDwZQHKTJs8CQBlAuKqzd5FDGUAknW1b/UYZQHvsmcxHShlAEFjBEHJNGUBtUyhhfVAZQIc3Q+tqUxlAvVEm0TtWGUDc8vEp8VgZQKyfOgKMWxlAl4NtXA1eGUBTRTExdmAZQFpcw2/HYhlAbwVS/gFlGUBc81K6JmcZQHDY1ng2aRlASuTZBjJrGUDZUJEpGm0ZQJAYtp7vbhlABO/MHLNwGUCDlGtTZXIZQEKce+sGdBlAT7x6h5h1GUA7vbjDGncZQGsfkzaOeBlAjoqucPN5GUCxGy79SnsZQEul6GGVfBlANfSbH9N9GUDIKx6yBH8ZQNVKjZAqgBlAa+p8LUWBGUABRyL3VIIZQNWjfldagxlA8xeItFWEGUC201BwR4UZQAntLOkvhhlAV8DWeQ+HGUBp85F55ocZQCcnTTy1iBlAq2TCEnyJGUCHUZZKO4oZQPE2di7zihlA9OY0BqSLGUBTiuYWTowZQJ1h+6LxjBlAUINZ6o6NGUDToHUqJo4ZQG/bap63jhlAWLIRf0OPGUBPEhYDyo8ZQEmPDF9LkBlA/s+GxceQGUA+MydnP5EZQFa2s3KykRlA1SMoFSGSGUB0kcd5i5IZQOwzLcrxkhlA9Y5cLlSTGUDSB9HMspMZQB7gjMoNlBlAvZ4nS2WUGUBo7NtwuZQZQBbplFwKlRlAZ//6LViVGUACO4ADo5UZQJQmbPrqlRlA+jXnLjCWGUAawQW8cpYZQHmT0ruylhlAtBRZR/CWGUDQDa92K5cZQA0P/mBklxlA5XmMHJuXGUC3Msa+z5cZQIP9RFwCmBlA1YjYCDOYGUAWKo7XYZgZQDNOuNqOmBlAg6H1I7qYGUCm8TfE45gZQBTMyssLmRlA39tZSjKZGUAvCfdOV5kZQMlcIOh6mRlA+anFI52ZGUD7AE4PvpkZQBvsnLfdmRlAg3kXKfyZGUCtE6lvGZoZQG4qyJY1mhlAQ656qVCaGUDMX1qyapoZQP30mLuDmhlAuRUEz5uaGUBdMQn2spoZQK0uuTnJmhlAqvfLot6aGUCd4qM585oZQL/5UAYHmxlAqSKUEBqbGUDtJuJfLJsZQNmeZvs9mxlAu78G6k6bGUCJDmQyX5sZQCb43tpumxlALVCZ6X2bGUBCt3hkjJsZQOLpKFGamxlAhvgdtaebGUAKapaVtJsZQB1JnffAmxlAlx0M4MybGUBr0oxT2JsZQP2Im1bjmxlAjFqI7e2bGUBnCHkc+JsZQJKbaucBnBlAdPQyUgucGUBAS4JgFJwZQJmh5BUdnBlADCbDdSWcGUDyiWWDLZwZQCZK80E1nBlAOet0tDycGUBsKdXdQ5wZQBod4sBKnBlA4lNOYFGcGUAD37G+V5wZQA==\",\"dtype\":\"float64\",\"shape\":[200]},\"b\":[6.403287523346615,6.403287523346615,6.403287523346615,6.403287523346615,6.403287523346615,6.403287523346615,6.403287523346615,6.403287523346615,6.403287523346615,6.403287523346615,6.403287523346615,6.403287523346615,6.403287523346615,6.403287523346615,6.403287523346615,6.403287523346615,6.403287523346615,6.403287523346615,6.403287523346615,6.403287523346615,6.403287523346615,6.403287523346615,6.403287523346615,6.403287523346615,6.403287523346615,6.403287523346615,6.403287523346615,6.403287523346615,6.403287523346615,6.403287523346615,6.403287523346615,6.403287523346615,6.403287523346615,6.403287523346615,6.403287523346615,6.403287523346615,6.403287523346615,6.403287523346615,6.403287523346615,6.403287523346615,6.403287523346615,6.403287523346615,6.403287523346615,6.403287523346615,6.403287523346615,6.403287523346615,6.403287523346615,6.403287523346615,6.403287523346615,6.403287523346615,6.403287523346615,6.403287523346615,6.403287523346615,6.403287523346615,6.403287523346615,6.403287523346615,6.403287523346615,6.403287523346615,6.403287523346615,6.403287523346615,6.403287523346615,6.403287523346615,6.403287523346615,6.403287523346615,6.403287523346615,6.403287523346615,6.403287523346615,6.403287523346615,6.403287523346615,6.403287523346615,6.403287523346615,6.403287523346615,6.403287523346615,6.403287523346615,6.403287523346615,6.403287523346615,6.403287523346615,6.403287523346615,6.403287523346615,6.403287523346615,6.403287523346615,6.403287523346615,6.403287523346615,6.403287523346615,6.403287523346615,6.403287523346615,6.403287523346615,6.403287523346615,6.403287523346615,6.403287523346615,6.403287523346615,6.403287523346615,6.403287523346615,6.403287523346615,6.403287523346615,6.403287523346615,6.403287523346615,6.403287523346615,6.403287523346615,6.403287523346615,6.403287523346615,6.403287523346615,6.403287523346615,6.403287523346615,6.403287523346615,6.403287523346615,6.403287523346615,6.403287523346615,6.403287523346615,6.403287523346615,6.403287523346615,6.403287523346615,6.403287523346615,6.403287523346615,6.403287523346615,6.403287523346615,6.403287523346615,6.403287523346615,6.403287523346615,6.403287523346615,6.403287523346615,6.403287523346615,6.403287523346615,6.403287523346615,6.403287523346615,6.403287523346615,6.403287523346615,6.403287523346615,6.403287523346615,6.403287523346615,6.403287523346615,6.403287523346615,6.403287523346615,6.403287523346615,6.403287523346615,6.403287523346615,6.403287523346615,6.403287523346615,6.403287523346615,6.403287523346615,6.403287523346615,6.403287523346615,6.403287523346615,6.403287523346615,6.403287523346615,6.403287523346615,6.403287523346615,6.403287523346615,6.403287523346615,6.403287523346615,6.403287523346615,6.403287523346615,6.403287523346615,6.403287523346615,6.403287523346615,6.403287523346615,6.403287523346615,6.403287523346615,6.403287523346615,6.403287523346615,6.403287523346615,6.403287523346615,6.403287523346615,6.403287523346615,6.403287523346615,6.403287523346615,6.403287523346615,6.403287523346615,6.403287523346615,6.403287523346615,6.403287523346615,6.403287523346615,6.403287523346615,6.403287523346615,6.403287523346615,6.403287523346615,6.403287523346615,6.403287523346615,6.403287523346615,6.403287523346615,6.403287523346615,6.403287523346615,6.403287523346615,6.403287523346615,6.403287523346615,6.403287523346615,6.403287523346615,6.403287523346615,6.403287523346615,6.403287523346615,6.403287523346615,6.403287523346615,6.403287523346615,6.403287523346615,6.403287523346615,6.403287523346615,6.403287523346615,6.403287523346615,6.403287523346615,6.403287523346615],\"x\":[0,1,2,3,4,5,6,7,8,9,10,11,12,13,14,15,16,17,18,19,20,21,22,23,24,25,26,27,28,29,30,31,32,33,34,35,36,37,38,39,40,41,42,43,44,45,46,47,48,49,50,51,52,53,54,55,56,57,58,59,60,61,62,63,64,65,66,67,68,69,70,71,72,73,74,75,76,77,78,79,80,81,82,83,84,85,86,87,88,89,90,91,92,93,94,95,96,97,98,99,100,101,102,103,104,105,106,107,108,109,110,111,112,113,114,115,116,117,118,119,120,121,122,123,124,125,126,127,128,129,130,131,132,133,134,135,136,137,138,139,140,141,142,143,144,145,146,147,148,149,150,151,152,153,154,155,156,157,158,159,160,161,162,163,164,165,166,167,168,169,170,171,172,173,174,175,176,177,178,179,180,181,182,183,184,185,186,187,188,189,190,191,192,193,194,195,196,197,198,199]},\"selected\":{\"id\":\"1064\",\"type\":\"Selection\"},\"selection_policy\":{\"id\":\"1063\",\"type\":\"UnionRenderers\"}},\"id\":\"1003\",\"type\":\"ColumnDataSource\"},{\"attributes\":{\"callback\":null},\"id\":\"1007\",\"type\":\"DataRange1d\"},{\"attributes\":{},\"id\":\"1013\",\"type\":\"LinearScale\"},{\"attributes\":{\"active_drag\":\"auto\",\"active_inspect\":\"auto\",\"active_multi\":null,\"active_scroll\":\"auto\",\"active_tap\":\"auto\",\"tools\":[{\"id\":\"1002\",\"type\":\"HoverTool\"},{\"id\":\"1025\",\"type\":\"PanTool\"},{\"id\":\"1026\",\"type\":\"WheelZoomTool\"},{\"id\":\"1027\",\"type\":\"BoxZoomTool\"},{\"id\":\"1028\",\"type\":\"ResetTool\"},{\"id\":\"1029\",\"type\":\"SaveTool\"}]},\"id\":\"1030\",\"type\":\"Toolbar\"},{\"attributes\":{\"bottom_units\":\"screen\",\"fill_alpha\":{\"value\":0.5},\"fill_color\":{\"value\":\"lightgrey\"},\"left_units\":\"screen\",\"level\":\"overlay\",\"line_alpha\":{\"value\":1.0},\"line_color\":{\"value\":\"black\"},\"line_dash\":[4,4],\"line_width\":{\"value\":2},\"plot\":null,\"render_mode\":\"css\",\"right_units\":\"screen\",\"top_units\":\"screen\"},\"id\":\"1033\",\"type\":\"BoxAnnotation\"},{\"attributes\":{\"plot\":null,\"text\":\"Traditional Solowpath\"},\"id\":\"1004\",\"type\":\"Title\"},{\"attributes\":{},\"id\":\"1026\",\"type\":\"WheelZoomTool\"},{\"attributes\":{\"callback\":null},\"id\":\"1009\",\"type\":\"DataRange1d\"},{\"attributes\":{\"source\":{\"id\":\"1003\",\"type\":\"ColumnDataSource\"}},\"id\":\"1056\",\"type\":\"CDSView\"},{\"attributes\":{\"overlay\":{\"id\":\"1033\",\"type\":\"BoxAnnotation\"}},\"id\":\"1027\",\"type\":\"BoxZoomTool\"},{\"attributes\":{\"axis_label\":\"Capital pr. capita\",\"formatter\":{\"id\":\"1046\",\"type\":\"BasicTickFormatter\"},\"plot\":{\"id\":\"1005\",\"subtype\":\"Figure\",\"type\":\"Plot\"},\"ticker\":{\"id\":\"1021\",\"type\":\"BasicTicker\"}},\"id\":\"1020\",\"type\":\"LinearAxis\"},{\"attributes\":{},\"id\":\"1048\",\"type\":\"BasicTickFormatter\"},{\"attributes\":{\"dimension\":1,\"plot\":{\"id\":\"1005\",\"subtype\":\"Figure\",\"type\":\"Plot\"},\"ticker\":{\"id\":\"1021\",\"type\":\"BasicTicker\"}},\"id\":\"1024\",\"type\":\"Grid\"},{\"attributes\":{},\"id\":\"1028\",\"type\":\"ResetTool\"},{\"attributes\":{},\"id\":\"1016\",\"type\":\"BasicTicker\"},{\"attributes\":{},\"id\":\"1029\",\"type\":\"SaveTool\"},{\"attributes\":{\"line_alpha\":0.1,\"line_color\":\"#1f77b4\",\"x\":{\"field\":\"x\"},\"y\":{\"field\":\"b\"}},\"id\":\"1054\",\"type\":\"Line\"},{\"attributes\":{\"callback\":null,\"tooltips\":[[\"T\",\"@x{0,0.00}\"],[\"Capital pr. capita for Solow path\",\"@a{0.00}\"],[\"Capital pr. capita for Steady state\",\"@b{0.00}\"]]},\"id\":\"1002\",\"type\":\"HoverTool\"},{\"attributes\":{\"data_source\":{\"id\":\"1003\",\"type\":\"ColumnDataSource\"},\"glyph\":{\"id\":\"1053\",\"type\":\"Line\"},\"hover_glyph\":null,\"muted_glyph\":null,\"nonselection_glyph\":{\"id\":\"1054\",\"type\":\"Line\"},\"selection_glyph\":null,\"view\":{\"id\":\"1056\",\"type\":\"CDSView\"}},\"id\":\"1055\",\"type\":\"GlyphRenderer\"},{\"attributes\":{\"line_color\":\"red\",\"x\":{\"field\":\"x\"},\"y\":{\"field\":\"a\"}},\"id\":\"1040\",\"type\":\"Line\"}],\"root_ids\":[\"1005\"]},\"title\":\"Bokeh Application\",\"version\":\"1.0.2\"}};\n",
       "  var render_items = [{\"docid\":\"d6cffa75-c6e7-4ae5-927d-f3c8378bdf54\",\"notebook_comms_target\":\"1074\",\"roots\":{\"1005\":\"e6b48663-89cf-49e1-8ea5-c6002e94d87f\"}}];\n",
       "  root.Bokeh.embed.embed_items_notebook(docs_json, render_items);\n",
       "\n",
       "  }\n",
       "  if (root.Bokeh !== undefined) {\n",
       "    embed_document(root);\n",
       "  } else {\n",
       "    var attempts = 0;\n",
       "    var timer = setInterval(function(root) {\n",
       "      if (root.Bokeh !== undefined) {\n",
       "        embed_document(root);\n",
       "        clearInterval(timer);\n",
       "      }\n",
       "      attempts++;\n",
       "      if (attempts > 100) {\n",
       "        console.log(\"Bokeh: ERROR: Unable to run BokehJS code because BokehJS library is missing\");\n",
       "        clearInterval(timer);\n",
       "      }\n",
       "    }, 10, root)\n",
       "  }\n",
       "})(window);"
      ],
      "application/vnd.bokehjs_exec.v0+json": ""
     },
     "metadata": {
      "application/vnd.bokehjs_exec.v0+json": {
       "id": "1005"
      }
     },
     "output_type": "display_data"
    },
    {
     "data": {
      "text/html": [
       "<p><code>&lt;Bokeh Notebook handle for <strong>In[4]</strong>&gt;</code></p>"
      ],
      "text/plain": [
       "<bokeh.io.notebook.CommsHandle at 0x126f06828>"
      ]
     },
     "execution_count": 4,
     "metadata": {},
     "output_type": "execute_result"
    }
   ],
   "source": [
    "# Reasonable parameters:\n",
    "#Macro:\n",
    "alpha = 1/3\n",
    "delta = 0.05\n",
    "n = 0.008\n",
    "sk = 0.2\n",
    "\n",
    "\n",
    "# production:\n",
    "a = 1\n",
    "k0 = 5\n",
    "l0 = 1\n",
    "\n",
    "# Our timeline:\n",
    "timeline = 200\n",
    "\n",
    "\n",
    "# Steady state capital pr. worker:\n",
    "k_star = model_funcs.find_ssk_k(sk,a,delta,n,alpha)\n",
    "k_stars  =[k_star for i in range(timeline)]\n",
    "\n",
    "# The evolution of the normal solow model:\n",
    "trad_k_pr, trad_y_pr = model_funcs.solowwalk(\n",
    "    k0, a, l0, n, sk, alpha, delta, timeline)\n",
    "\n",
    "p = model_funcs.plotting(\"T\",['Solow path', 'Steady state'], range(timeline), [trad_k_pr,k_stars],\n",
    "                    y_name='Capital pr. capita', title = 'Traditional Solowpath',\n",
    "                    legendlocation ='bottom_center', width = 600)\n",
    "show(p,notebook_handle=True)"
   ]
  },
  {
   "cell_type": "markdown",
   "metadata": {},
   "source": [
    "# 3. The micro model"
   ]
  },
  {
   "cell_type": "markdown",
   "metadata": {},
   "source": [
    "Now that we have seen the solow model with a fixed savingsrate. We will show how the the savingsrate is formed in our micromodel:"
   ]
  },
  {
   "cell_type": "markdown",
   "metadata": {},
   "source": [
    "**Micro-foundation of the savingsrate** \n",
    "\n",
    "Representative household utilityfunction in single periode:\n",
    "$$\n",
    "u\\left(c_{t}\\right)=\\frac{c^{1-\\theta}-1}{1-\\theta}\n",
    "$$\n",
    "When the household sums its total utility for mulitiple future periods, it discounts future consumption for immediate consumption by $1-\\beta$ so utility for all periods from period 0 to period T, given a vector C of consumption in each period is:\n",
    "$$\n",
    "U\\left(C\\right)=\\sum_{t=0}^{T}\\beta^{t}\\frac{c_{t}^{1-\\theta}-1}{1-\\theta}\n",
    "$$\n",
    "We assume that the household understands how the solow model works, e.i. how production for consumption is made and how capital accumulation works. From the calulations above we have:\n",
    "$$\n",
    "y_{t}=A k_{t}^{\\alpha} \\Rightarrow\n",
    "c_{t} = \\left(1-s_{Kt}\\right) A k_{t}^{\\alpha}\n",
    "$$ $$\n",
    "k_{t+1}= \\frac{1}{1+n} \\left(s_{Kt}\\cdot A k_{t}^{\\alpha} + \\left(1+\\delta\\right)k_{t} \\right)\n",
    "$$\n",
    "This is our 'budget constraint' more precisely defined as production constraints for all periods \n",
    "\n",
    "So the final optimizationproblem is:\n",
    "$$\n",
    "\\max_{s_{K_t}}U\\left(C\\right)=\\sum_{t=0}^{T}\\beta^{t}\\frac{c_{t}^{1-\\theta}-1}{1-\\theta}\n",
    "$$\n",
    "$$ s.t.$$$$\n",
    "c_{t} = \\left(1-s_{Kt}\\right) A k_{t}^{\\alpha},\\;t\\in [0,T]\n",
    "$$$$\n",
    "k_{t}=\n",
    "\\begin{cases}\n",
    "k_{0}& \\text{if }t=0\\\\\n",
    "\\frac{1}{1+n} \\left(s_{Kt-1}\\cdot A k_{t-1}^{\\alpha} + \\left(1+\\delta\\right)k_{t-1} \\right)& \\text{if }t\\in\\left[1,T\\right]\n",
    "\\end{cases}\n",
    "$$$$\n",
    "k_{0} \\text{ given}\n",
    "$$\n",
    "It's important to note that although the optimization, $s_{Kt}$, is solved for all periods. Only the solution for t=0 is used, since the problem is solved again in the next period. E.g. in each period the household formulates a plan for current and future consumption. In the current period the plan is pursued but in the following period a new plan is formulated, which is then also only followed for one period. "
   ]
  },
  {
   "cell_type": "markdown",
   "metadata": {},
   "source": [
    "First we set up microparameter values: <br>\n",
    "$\\theta$, determining the representative household's aversion to fluctations in consumption is as base, set to 0.5, but values below and above are also looked at, as we don't know an approximate of the true value<br>\n",
    "$\\beta$, determining how much the representative households values immediate above future consumption, is set to 0.99. Representing a low preference. <br>\n",
    "$t$, the amount of future time periods considered by the household, is set to 40 for two reasons: <br>\n",
    "1. Computational limitations, honestely speed becomes a factor when we simulate a more foresighted representative household. Later we will use other solutionmethod that allows us to relax this assumption.\n",
    "2. It approximately represents the average remaining lifetime of the working population. As we asumme no 'warm glow' from bequesting, this will also be the timeline that the population cares about on average. "
   ]
  },
  {
   "cell_type": "code",
   "execution_count": 5,
   "metadata": {},
   "outputs": [],
   "source": [
    "# Parameters\n",
    "#Micro:\n",
    "theta = 0.5\n",
    "beta = 0.99\n",
    "\n",
    "t = 40\n",
    "\n",
    "# time preference utility weights and population growth\n",
    "# are precomputed to save time:\n",
    "weight = np.array([beta**i for i in range(t)])\n",
    "l = np.array([l0*(1+n)**i for i in range(t)])"
   ]
  },
  {
   "cell_type": "markdown",
   "metadata": {},
   "source": [
    "**Solving the micro-foundation numerically**"
   ]
  },
  {
   "cell_type": "markdown",
   "metadata": {},
   "source": [
    "First we look at how, for different thetas, optimal savings rate in period t=0, depends on the level of initial capital:"
   ]
  },
  {
   "cell_type": "code",
   "execution_count": 6,
   "metadata": {},
   "outputs": [],
   "source": [
    "'''We find the prefered savings rate in period t=0\n",
    "for different thetas an initial capitals'''\n",
    "k_n = 100\n",
    "thetas = [0.3,0.5,0.7,1.5]\n",
    "sks = [np.zeros(k_n) for i in range(len(thetas))]\n",
    "k0s = np.linspace(0.001,30,k_n)\n",
    "\n",
    "for j in range(len(thetas)):\n",
    "    for i in range(k_n):\n",
    "            sks[j][i] = model_funcs.optimal_sks(\n",
    "                t, a, l, weight, delta, alpha, thetas[j], k0s[i])\n",
    "            \n",
    "# We save the result for theta=0.5 as a interpolater for use in Macro model\n",
    "sk_interpers = [interpolate.RegularGridInterpolator([k0s], sks[i],\n",
    "        bounds_error=False,fill_value=None) for i in range(len(thetas))]"
   ]
  },
  {
   "cell_type": "code",
   "execution_count": 7,
   "metadata": {},
   "outputs": [
    {
     "data": {
      "text/html": [
       "\n",
       "\n",
       "\n",
       "\n",
       "\n",
       "\n",
       "  <div class=\"bk-root\" id=\"e822f4e0-ba0d-43e1-9f8d-5185d36defd1\"></div>\n"
      ]
     },
     "metadata": {},
     "output_type": "display_data"
    },
    {
     "data": {
      "application/javascript": [
       "(function(root) {\n",
       "  function embed_document(root) {\n",
       "    \n",
       "  var docs_json = {\"dafa5269-6bee-431e-90b2-850da369861e\":{\"roots\":{\"references\":[{\"attributes\":{\"below\":[{\"id\":\"1136\",\"type\":\"LinearAxis\"}],\"left\":[{\"id\":\"1141\",\"type\":\"LinearAxis\"}],\"plot_height\":450,\"renderers\":[{\"id\":\"1136\",\"type\":\"LinearAxis\"},{\"id\":\"1140\",\"type\":\"Grid\"},{\"id\":\"1141\",\"type\":\"LinearAxis\"},{\"id\":\"1145\",\"type\":\"Grid\"},{\"id\":\"1154\",\"type\":\"BoxAnnotation\"},{\"id\":\"1171\",\"type\":\"Legend\"},{\"id\":\"1163\",\"type\":\"GlyphRenderer\"},{\"id\":\"1176\",\"type\":\"GlyphRenderer\"},{\"id\":\"1190\",\"type\":\"GlyphRenderer\"},{\"id\":\"1204\",\"type\":\"GlyphRenderer\"}],\"title\":{\"id\":\"1125\",\"type\":\"Title\"},\"toolbar\":{\"id\":\"1151\",\"type\":\"Toolbar\"},\"x_range\":{\"id\":\"1128\",\"type\":\"DataRange1d\"},\"x_scale\":{\"id\":\"1132\",\"type\":\"LinearScale\"},\"y_range\":{\"id\":\"1130\",\"type\":\"DataRange1d\"},\"y_scale\":{\"id\":\"1134\",\"type\":\"LinearScale\"}},\"id\":\"1126\",\"subtype\":\"Figure\",\"type\":\"Plot\"},{\"attributes\":{\"line_color\":\"red\",\"x\":{\"field\":\"x\"},\"y\":{\"field\":\"a\"}},\"id\":\"1161\",\"type\":\"Line\"},{\"attributes\":{\"axis_label\":\"Capital pr. capita\",\"formatter\":{\"id\":\"1169\",\"type\":\"BasicTickFormatter\"},\"plot\":{\"id\":\"1126\",\"subtype\":\"Figure\",\"type\":\"Plot\"},\"ticker\":{\"id\":\"1137\",\"type\":\"BasicTicker\"}},\"id\":\"1136\",\"type\":\"LinearAxis\"},{\"attributes\":{},\"id\":\"1147\",\"type\":\"WheelZoomTool\"},{\"attributes\":{\"line_alpha\":0.1,\"line_color\":\"#1f77b4\",\"x\":{\"field\":\"x\"},\"y\":{\"field\":\"d\"}},\"id\":\"1203\",\"type\":\"Line\"},{\"attributes\":{\"overlay\":{\"id\":\"1154\",\"type\":\"BoxAnnotation\"}},\"id\":\"1148\",\"type\":\"BoxZoomTool\"},{\"attributes\":{\"line_color\":\"purple\",\"x\":{\"field\":\"x\"},\"y\":{\"field\":\"d\"}},\"id\":\"1202\",\"type\":\"Line\"},{\"attributes\":{\"line_alpha\":0.1,\"line_color\":\"#1f77b4\",\"x\":{\"field\":\"x\"},\"y\":{\"field\":\"a\"}},\"id\":\"1162\",\"type\":\"Line\"},{\"attributes\":{\"data_source\":{\"id\":\"1124\",\"type\":\"ColumnDataSource\"},\"glyph\":{\"id\":\"1188\",\"type\":\"Line\"},\"hover_glyph\":null,\"muted_glyph\":null,\"nonselection_glyph\":{\"id\":\"1189\",\"type\":\"Line\"},\"selection_glyph\":null,\"view\":{\"id\":\"1191\",\"type\":\"CDSView\"}},\"id\":\"1190\",\"type\":\"GlyphRenderer\"},{\"attributes\":{},\"id\":\"1146\",\"type\":\"PanTool\"},{\"attributes\":{\"source\":{\"id\":\"1124\",\"type\":\"ColumnDataSource\"}},\"id\":\"1205\",\"type\":\"CDSView\"},{\"attributes\":{\"bottom_units\":\"screen\",\"fill_alpha\":{\"value\":0.5},\"fill_color\":{\"value\":\"lightgrey\"},\"left_units\":\"screen\",\"level\":\"overlay\",\"line_alpha\":{\"value\":1.0},\"line_color\":{\"value\":\"black\"},\"line_dash\":[4,4],\"line_width\":{\"value\":2},\"plot\":null,\"render_mode\":\"css\",\"right_units\":\"screen\",\"top_units\":\"screen\"},\"id\":\"1154\",\"type\":\"BoxAnnotation\"},{\"attributes\":{\"data_source\":{\"id\":\"1124\",\"type\":\"ColumnDataSource\"},\"glyph\":{\"id\":\"1161\",\"type\":\"Line\"},\"hover_glyph\":null,\"muted_glyph\":null,\"nonselection_glyph\":{\"id\":\"1162\",\"type\":\"Line\"},\"selection_glyph\":null,\"view\":{\"id\":\"1164\",\"type\":\"CDSView\"}},\"id\":\"1163\",\"type\":\"GlyphRenderer\"},{\"attributes\":{\"data_source\":{\"id\":\"1124\",\"type\":\"ColumnDataSource\"},\"glyph\":{\"id\":\"1202\",\"type\":\"Line\"},\"hover_glyph\":null,\"muted_glyph\":null,\"nonselection_glyph\":{\"id\":\"1203\",\"type\":\"Line\"},\"selection_glyph\":null,\"view\":{\"id\":\"1205\",\"type\":\"CDSView\"}},\"id\":\"1204\",\"type\":\"GlyphRenderer\"},{\"attributes\":{},\"id\":\"1167\",\"type\":\"BasicTickFormatter\"},{\"attributes\":{\"active_drag\":\"auto\",\"active_inspect\":\"auto\",\"active_multi\":null,\"active_scroll\":\"auto\",\"active_tap\":\"auto\",\"tools\":[{\"id\":\"1123\",\"type\":\"HoverTool\"},{\"id\":\"1146\",\"type\":\"PanTool\"},{\"id\":\"1147\",\"type\":\"WheelZoomTool\"},{\"id\":\"1148\",\"type\":\"BoxZoomTool\"},{\"id\":\"1149\",\"type\":\"ResetTool\"},{\"id\":\"1150\",\"type\":\"SaveTool\"}]},\"id\":\"1151\",\"type\":\"Toolbar\"},{\"attributes\":{\"label\":{\"value\":\"\\u03b8 = 0.7\"},\"renderers\":[{\"id\":\"1190\",\"type\":\"GlyphRenderer\"}]},\"id\":\"1200\",\"type\":\"LegendItem\"},{\"attributes\":{\"callback\":null,\"data\":{\"a\":{\"__ndarray__\":\"tlE6JJiB7z80vA8ma7HsP3c0G5mkhes/mGNz5DyM6j/EikKag63pPyLiKhX/4eg/wRfhGBAi6D9Z9jm3D27nPwvzbbvWwOY/j2dGI9cZ5j8Qm9UZRHnlP7vvT70r3uQ/OMkGSPZF5D8h0rDWWrHjP1n+QuWUIOM//ZUC9F2T4j/XuC6CKwniP25xfFKogeE/xfMM+l784D/B+qzQtnngP/eHPdQn8t8/4r1EE5z03j9rdWCkofrdP8jxYToIBN0/55uYCmkQ3D8bxo+TqR7bP69lA428Mto/NA7y74NI2T8Co/9kpGHYP28qAID+etc/R1qJPmiY1j8neHc79LfVP8PT4OZY2dQ/14030V/70z+yVs2ARiLTPzwp3MeDStI/AD/ZI6t00T9EBVn+maDQP1gkw1eUnM8/W4jK1Tn7zT+k8/9x91zMP2zrBde5wco/lFBAWHIpyT8T9tFglZfHPxJpcoTHBMY/4MjmDvF0xD8wAVin+OfCPyMo7fTQXcE/SEWDGxWsvz8DVk2X2aC8PwKIsQZ8mrk/Oi4H7kyYtj/g5JSo/pmzP5lXxgq9nbA/pd65xalLqz+qrd1902ulPzbzQsVqQJ8/zBF+npO6kz/g//La71aAPzqMMOKOeUU+Ooww4o55RT6020fnjnlFPitKvuiOeUU+vVza4o55RT6SVT7xjnlFPkPr9uKOeUU++L536o55RT46jDDijnlFPoAIU+aOeUU+PyyP9455RT46jDDijnlFPtlYK+OOeUU+Ooww4o55RT46jDDijnlFPv4iLPKOeUU+Ooww4o55RT46jDDijnlFPvE4BfiOeUU+x8tc8455RT46jDDijnlFPot4yuWOeUU+Ooww4o55RT46jDDijnlFPjqMMOKOeUU+qJ/g5Y55RT46jDDijnlFPjqMMOKOeUU+y3ba4455RT46jDDijnlFPjqMMOKOeUU+Ooww4o55RT5z9sTjjnlFPjqMMOKOeUU+Ooww4o55RT46jDDijnlFPjqMMOKOeUU+H9HO6Y55RT46jDDijnlFPj1AVPOOeUU+gM6l9I55RT4=\",\"dtype\":\"float64\",\"shape\":[100]},\"b\":{\"__ndarray__\":\"6DHAC+r/6z9MUXYvs6voP477R74XfOc/6h+8vQiM5j9LSBv5sL7lP1EBZhOSBeU/fMTA3Pdc5D9K0GX6TsDjP57/gr6kLeM/bGkNCVai4j9bZCO26B3iP63uKPbinuE/mehfGlYj4T9aXxVZ4a3gP+wrqrVGPOA/7YS+bVGc3z81V1ZXZMbeP9LCtGkx9t0/y33OxDsr3T/YN7DIkmrcP4LhDsoTqNs/XKl2YeTp2j/lLHoewS/aP4EF1Itnedk/yytGdLTG2D+i9hMCShPYP2qIDcR/Ztc/mypQcm681j8Vx/5BQxjWP8ib+hGactU/xuf+A9rP1D+8lUptrTPUPz3o4An2k9M/aiaINvX40j+8ZnCEtV7SP846EACSxtE/u1HdZWYw0T/F/6PID5zQP9l23DXyA9A/p0tUMbjnzj8HY4xLesrNPxJ+3U3Dr8w/6agO1QiYyz+6adyU74LKPywID+JqcMk/nokahZhgyD/LBk60VFPHP17LAk8GSMY//1LNnGk+xT85AhraEj/EP/Gu31RLOMM/UXGgX3I1wj/oRqFf6jPBP/xtCHjwNMA/L8l0iXRwvj+GhJ95F3u8PzaVzdOWibo/nK2Yp+abuD8JbZQs2rG2PyuWEQNby7Q/KbHB5E3osj9OZ/DknQixP31mAL6AWK4/njzRDwOmqj+pkLba0/mmPznYMSKmU6M/8W3aacBmnz96md8zzDGYP2eEMablCJE//EE3B5vXgz8g4nmXM9BmPzqMMOKOeUU+Ooww4o55RT46jDDijnlFPtkwhOWOeUU+Ooww4o55RT70ad78jnlFPnzWZ+OOeUU+Ooww4o55RT46jDDijnlFPg1A+OWOeUU+Ooww4o55RT46jDDijnlFPtqHwOWOeUU+Ooww4o55RT78ERjjjnlFPjqMMOKOeUU+Ooww4o55RT6rWoHojnlFPjqMMOKOeUU+VwB++o55RT46jDDijnlFPj+vju+OeUU+Ooww4o55RT46jDDijnlFPgTA2ueOeUU+zajl6Y55RT46jDDijnlFPr5ToeuOeUU+Ooww4o55RT4=\",\"dtype\":\"float64\",\"shape\":[100]},\"c\":{\"__ndarray__\":\"ugUQ8I385j/MyiobWnjlP2wm3xEyf+Q/+0Vscke24z/BNtjxuAjjPx0bOLSpbeI/cNgiEuHf4T8SNLtvIl3hPyrNMhi54+A/Qn2xJYNv4D+QINaihQLgP/r4Z7TGNN8/gq/9bVpz3j9iG7WbrLPdP0YtCE4S+9w/RJaYJdBI3D91TB5nSJzbP1xqdKP09No/bX6s/QZM2j/waEvKmq7ZP25hG6UiFdk/uHd4mE9/2D+r0yRl2+zXPzm0Jvd4Xdc/EW3blhLU1j9r5DlWBkvWP9P+cbZRwdU/vl/sM2Y81T+I2aeNN7jUPxGwAPNeN9Q/HaxZy+C+0z9kVro63D7TPxNZiWWfxtI/wsZa5V9O0j9QL3bNN9rRP3BtQZejZdE/2LSgfIby0D+m1t472YDQP2LGYriUENA/XYyaWl1Dzz9vpJn4N2jOP3GgmXuqj80/nfHCj5S5zD9+1ZiZ7OXLP78pVh6VFMs/HINCoGxFyj98ZuY5f3jJP/7EWfLBrcg/6BI4PhLlxz/5/OhvUR7HP85wmpF8WcY/ll3GxoOWxT8s2+x9xtDEPyNjf53DEcQ/ItszJnlUwz+EtuQw5JjCPwNVaXTg3sE/ofNwJ3EmwT+qs5KQg2/APxiCgQQedL8/rJkC+AoMvj9HO8r6x6a8P1ey1E4+RLs/CcaZz2nkuT8G3ns+Ioe4P/SjI1VJLLc/tvNE/uXTtT+LgSPMgX20P46TY8lHKbM/9l6enYXXsT8JM7L8/IewP7zE+4ZCda4/t42ijMXeqz+MHJNHj0ypP/T0q/xavqY/nKFgcD40pD9aSkQI/a2hPzk8sJW0Wp4/HjK7o48tmT9ilRCfeUCUP9Ug4Tq+sY4/PH34q5buhD8Cgqn4pm52P4fpsWhhEUg/e1u25Y55RT46jDDijnlFPjqMMOKOeUU+A+mw4455RT5o4e7pjnlFPjqMMOKOeUU+e6Rp6455RT74KUjmjnlFPlVFgeiOeUU+Ooww4o55RT46jDDijnlFPjqMMOKOeUU+Ooww4o55RT46jDDijnlFPtXFjuOOeUU+Ooww4o55RT4=\",\"dtype\":\"float64\",\"shape\":[100]},\"d\":{\"__ndarray__\":\"c5+nfvL60j9Scr5paBTcP8/+OwI5pts/IJdvSUUR2z9CyH278n3aP2sPOCG28tk/8HtnH0du2T+qbrNzsfHYP8Ho6pGwfNg/+/yHD9sM2D/Gq8zEjaLXPwdrI+CpPNc/F+ANmu3a1j9W3uY9wHvWP531jWGTIdY/eLB3KmDL1T/o1+hJ33bVPyjauimqJNU/aTsxR17Y1D8eQhSzyYbUP1BP5serO9Q/Lqg6a4/z0z/mpLoUEqvTP0hpiNnSY9M/Cfwu0BMf0z+2XersAeDSP5fB75NwntI/imZaCJNe0j+EEUZ5AhzSPxxTX1f73tE/1Nx53c+i0T9YQ4V2j2fRP1cC4RI6LdE/tXo/eJv40D+Iq6aqhb/QP3sz7kFPh9A/kLn/h+xP0D+4hVZQWRnQP2EjRnatvc8/a8FJ0m5Vzz8mbfAVgO7OP5eiSlLTiM4/rQVi+lUkzj8xwFKUAsHNP1ytBHDJXs0/QvY1RKn9zD8KvTynlp3MP8X7TrWSPsw/+qnp95Dgyz+1irH3iYPLP2QgSwRHKMs/xOxOLdnNyj/wqvKIHnTKP9nBAorgGso/tEXNH2XCyT9sLDxioGrJP5Et94hcE8k/PAMuVge9yD9vCue4eWfIPx75uzikEsg/+RINOY++xz82eK8WNmvHP0i4glSTGMc/B/q3/abGxj/MffXIC23GP38dUqf4HMY/zxvleYzNxT9cDJ2pwn7FP3Rw13CXMMU/+BdWE/7ixD/IycQg95XEP/PNgV+DScQ/DyLHPIb9wz+s9ngJELLDPwbmNjApZ8M/GL4VQ8Acwz+2Lp5Q3NLCP9qAd85/icI/KMyhRZhAwj+TJf/1GPjBPwrqbPL7r8E/oHeQhy9owT/wgDa+1iDBPwxbBCbt2cA/G7A2N3CTwD/di114YE3AP8UY2B+8B8A/XC0J+veEvz80b7wzRPu+P4r/0Khdcr4/naHTjDbqvT+BVxt1zmK9PyUW0psr3Lw/jMqkDjxWvD8WOIrQC9G7P/BqazqzNLs//lqqbNWyuj9wfRSkkDG6PyoQ/9jdsLk/G/x7yMcwuT8=\",\"dtype\":\"float64\",\"shape\":[100]},\"x\":{\"__ndarray__\":\"/Knx0k1iUD9TAUAmEXXTP36IVv/fbOM/UxCNazcf7T8TzOFrx2jzP/0P/SHzQfg/6FMY2B4b/T/pyxlHJfoAQN5tJyK7ZgNA0w81/VDTBUDIsULY5j8IQL1TULN8rApAs/VdjhIZDUCol2tpqIUPQM+cPCIf+RBAyW3DD2ovEkDEPkr9tGUTQL8P0er/mxRAueBX2ErSFUC0sd7FlQgXQK6CZbPgPhhAqVPsoCt1GUCjJHOOdqsaQJ71+XvB4RtAmcaAaQwYHUCTlwdXV04eQI5ojkSihB9AxJwKmXZdIEBBBc4PnPggQL5tkYbBkyFAO9ZU/eYuIkC5Phh0DMoiQDan2+oxZSNAsw+fYVcAJEAxeGLYfJskQK7gJU+iNiVAK0npxcfRJUCosaw87WwmQCYacLMSCCdAo4IzKjijJ0Ag6/agXT4oQJ5TuheD2ShAG7x9jqh0KUCYJEEFzg8qQBWNBHzzqipAk/XH8hhGK0AQXotpPuErQI3GTuBjfCxACy8SV4kXLUCIl9XNrrItQAUAmUTUTS5Agmhcu/noLkAA0R8yH4QvQL+ccVSiDzBA/lDTDzVdMEA8BTXLx6owQHu5loZa+DBAum34Qe1FMUD4IVr9f5MxQDfWu7gS4TFAdYoddKUuMkC0Pn8vOHwyQPPy4OrKyTJAMadCpl0XM0BwW6Rh8GQzQK8PBh2DsjNA7cNn2BUANEAseMmTqE00QGssK087mzRAqeCMCs7oNEDolO7FYDY1QCZJUIHzgzVAZf2xPIbRNUCksRP4GB82QOJldbOrbDZAIRrXbj66NkBgzjgq0Qc3QJ6CmuVjVTdA3Tb8oPaiN0Ac611cifA3QFqfvxccPjhAmVMh066LOEDYB4OOQdk4QBa85EnUJjlAVXBGBWd0OUCTJKjA+cE5QNLYCXyMDzpAEY1rNx9dOkBPQc3ysao6QI71Lq5E+DpAzamQaddFO0ALXvIkapM7QEoSVOD84DtAica1m48uPEDHehdXInw8QAYveRK1yTxARePazUcXPUCDlzyJ2mQ9QMJLnkRtsj1AAAAAAAAAPkA=\",\"dtype\":\"float64\",\"shape\":[100]}},\"selected\":{\"id\":\"1185\",\"type\":\"Selection\"},\"selection_policy\":{\"id\":\"1184\",\"type\":\"UnionRenderers\"}},\"id\":\"1124\",\"type\":\"ColumnDataSource\"},{\"attributes\":{\"source\":{\"id\":\"1124\",\"type\":\"ColumnDataSource\"}},\"id\":\"1164\",\"type\":\"CDSView\"},{\"attributes\":{\"source\":{\"id\":\"1124\",\"type\":\"ColumnDataSource\"}},\"id\":\"1191\",\"type\":\"CDSView\"},{\"attributes\":{},\"id\":\"1142\",\"type\":\"BasicTicker\"},{\"attributes\":{\"items\":[{\"id\":\"1172\",\"type\":\"LegendItem\"},{\"id\":\"1186\",\"type\":\"LegendItem\"},{\"id\":\"1200\",\"type\":\"LegendItem\"},{\"id\":\"1214\",\"type\":\"LegendItem\"}],\"location\":\"top_center\",\"plot\":{\"id\":\"1126\",\"subtype\":\"Figure\",\"type\":\"Plot\"}},\"id\":\"1171\",\"type\":\"Legend\"},{\"attributes\":{\"axis_label\":\"Savings rate\",\"formatter\":{\"id\":\"1167\",\"type\":\"BasicTickFormatter\"},\"plot\":{\"id\":\"1126\",\"subtype\":\"Figure\",\"type\":\"Plot\"},\"ticker\":{\"id\":\"1142\",\"type\":\"BasicTicker\"}},\"id\":\"1141\",\"type\":\"LinearAxis\"},{\"attributes\":{},\"id\":\"1169\",\"type\":\"BasicTickFormatter\"},{\"attributes\":{},\"id\":\"1137\",\"type\":\"BasicTicker\"},{\"attributes\":{},\"id\":\"1149\",\"type\":\"ResetTool\"},{\"attributes\":{},\"id\":\"1184\",\"type\":\"UnionRenderers\"},{\"attributes\":{\"line_alpha\":0.1,\"line_color\":\"#1f77b4\",\"x\":{\"field\":\"x\"},\"y\":{\"field\":\"b\"}},\"id\":\"1175\",\"type\":\"Line\"},{\"attributes\":{\"line_color\":\"blue\",\"x\":{\"field\":\"x\"},\"y\":{\"field\":\"b\"}},\"id\":\"1174\",\"type\":\"Line\"},{\"attributes\":{\"plot\":null,\"text\":\"Figure\"},\"id\":\"1125\",\"type\":\"Title\"},{\"attributes\":{},\"id\":\"1150\",\"type\":\"SaveTool\"},{\"attributes\":{\"source\":{\"id\":\"1124\",\"type\":\"ColumnDataSource\"}},\"id\":\"1177\",\"type\":\"CDSView\"},{\"attributes\":{},\"id\":\"1134\",\"type\":\"LinearScale\"},{\"attributes\":{\"label\":{\"value\":\"\\u03b8 = 0.3\"},\"renderers\":[{\"id\":\"1163\",\"type\":\"GlyphRenderer\"}]},\"id\":\"1172\",\"type\":\"LegendItem\"},{\"attributes\":{\"dimension\":1,\"plot\":{\"id\":\"1126\",\"subtype\":\"Figure\",\"type\":\"Plot\"},\"ticker\":{\"id\":\"1142\",\"type\":\"BasicTicker\"}},\"id\":\"1145\",\"type\":\"Grid\"},{\"attributes\":{\"data_source\":{\"id\":\"1124\",\"type\":\"ColumnDataSource\"},\"glyph\":{\"id\":\"1174\",\"type\":\"Line\"},\"hover_glyph\":null,\"muted_glyph\":null,\"nonselection_glyph\":{\"id\":\"1175\",\"type\":\"Line\"},\"selection_glyph\":null,\"view\":{\"id\":\"1177\",\"type\":\"CDSView\"}},\"id\":\"1176\",\"type\":\"GlyphRenderer\"},{\"attributes\":{\"label\":{\"value\":\"\\u03b8 = 0.5\"},\"renderers\":[{\"id\":\"1176\",\"type\":\"GlyphRenderer\"}]},\"id\":\"1186\",\"type\":\"LegendItem\"},{\"attributes\":{\"plot\":{\"id\":\"1126\",\"subtype\":\"Figure\",\"type\":\"Plot\"},\"ticker\":{\"id\":\"1137\",\"type\":\"BasicTicker\"}},\"id\":\"1140\",\"type\":\"Grid\"},{\"attributes\":{\"label\":{\"value\":\"\\u03b8 = 1.5\"},\"renderers\":[{\"id\":\"1204\",\"type\":\"GlyphRenderer\"}]},\"id\":\"1214\",\"type\":\"LegendItem\"},{\"attributes\":{},\"id\":\"1185\",\"type\":\"Selection\"},{\"attributes\":{},\"id\":\"1132\",\"type\":\"LinearScale\"},{\"attributes\":{\"callback\":null},\"id\":\"1130\",\"type\":\"DataRange1d\"},{\"attributes\":{\"callback\":null},\"id\":\"1128\",\"type\":\"DataRange1d\"},{\"attributes\":{\"line_alpha\":0.1,\"line_color\":\"#1f77b4\",\"x\":{\"field\":\"x\"},\"y\":{\"field\":\"c\"}},\"id\":\"1189\",\"type\":\"Line\"},{\"attributes\":{\"callback\":null,\"tooltips\":[[\"Capital pr. capita\",\"@x{0,0.00}\"],[\"Savings rate for \\u03b8 = 0.3\",\"@a{0.00}\"],[\"Savings rate for \\u03b8 = 0.5\",\"@b{0.00}\"],[\"Savings rate for \\u03b8 = 0.7\",\"@c{0.00}\"],[\"Savings rate for \\u03b8 = 1.5\",\"@d{0.00}\"]]},\"id\":\"1123\",\"type\":\"HoverTool\"},{\"attributes\":{\"line_color\":\"green\",\"x\":{\"field\":\"x\"},\"y\":{\"field\":\"c\"}},\"id\":\"1188\",\"type\":\"Line\"}],\"root_ids\":[\"1126\"]},\"title\":\"Bokeh Application\",\"version\":\"1.0.2\"}};\n",
       "  var render_items = [{\"docid\":\"dafa5269-6bee-431e-90b2-850da369861e\",\"notebook_comms_target\":\"1231\",\"roots\":{\"1126\":\"e822f4e0-ba0d-43e1-9f8d-5185d36defd1\"}}];\n",
       "  root.Bokeh.embed.embed_items_notebook(docs_json, render_items);\n",
       "\n",
       "  }\n",
       "  if (root.Bokeh !== undefined) {\n",
       "    embed_document(root);\n",
       "  } else {\n",
       "    var attempts = 0;\n",
       "    var timer = setInterval(function(root) {\n",
       "      if (root.Bokeh !== undefined) {\n",
       "        embed_document(root);\n",
       "        clearInterval(timer);\n",
       "      }\n",
       "      attempts++;\n",
       "      if (attempts > 100) {\n",
       "        console.log(\"Bokeh: ERROR: Unable to run BokehJS code because BokehJS library is missing\");\n",
       "        clearInterval(timer);\n",
       "      }\n",
       "    }, 10, root)\n",
       "  }\n",
       "})(window);"
      ],
      "application/vnd.bokehjs_exec.v0+json": ""
     },
     "metadata": {
      "application/vnd.bokehjs_exec.v0+json": {
       "id": "1126"
      }
     },
     "output_type": "display_data"
    },
    {
     "data": {
      "text/html": [
       "<p><code>&lt;Bokeh Notebook handle for <strong>In[7]</strong>&gt;</code></p>"
      ],
      "text/plain": [
       "<bokeh.io.notebook.CommsHandle at 0x126ee03c8>"
      ]
     },
     "execution_count": 7,
     "metadata": {},
     "output_type": "execute_result"
    }
   ],
   "source": [
    "''' We use Bokeh to plot and have defined a function in model_funcs.py \n",
    "that calls the plot to bokeh ''' \n",
    "\n",
    "y_names=[]\n",
    "# \\u03B8 is code for theta \n",
    "for theta in thetas:\n",
    "    y_names.append(f'\\u03B8 = {theta:.1f}')\n",
    "\n",
    "p = model_funcs.plotting(\"Capital pr. capita\",y_names, k0s, sks, width=600)\n",
    "show(p,notebook_handle=True)"
   ]
  },
  {
   "cell_type": "markdown",
   "metadata": {},
   "source": [
    "So our models generally implies a negative relationship between amount of capital pr. capita. This makes well intuitive sense, since marginal product of capital is relatively smaller, when there is more of it, and thus the household will choose to consume more now, rather than making a bad investment for future consumption. This also bodes well for our model having convergence, to explain why, first we plot the same graph, but with a line indicating steady state for a given fixed savings rate. To do this we use the below formula derived ealier and plot it for varying $s_{K}$.\n",
    "$$\n",
    "k^{*}=\\left(\\frac{B\\cdot s_{K}}{\\delta+n}\\right)^{\\frac{1}{1-\\alpha}}\n",
    "$$\n"
   ]
  },
  {
   "cell_type": "code",
   "execution_count": 8,
   "metadata": {},
   "outputs": [],
   "source": [
    "sksopt = model_funcs.find_ssk_sk(k0s,a,delta,n,alpha)"
   ]
  },
  {
   "cell_type": "code",
   "execution_count": 9,
   "metadata": {},
   "outputs": [],
   "source": [
    "y_names.append('Steady state')\n",
    "sks.append(sksopt)"
   ]
  },
  {
   "cell_type": "code",
   "execution_count": 10,
   "metadata": {},
   "outputs": [
    {
     "data": {
      "text/html": [
       "\n",
       "\n",
       "\n",
       "\n",
       "\n",
       "\n",
       "  <div class=\"bk-root\" id=\"2ac2178e-5569-48ef-b8b5-beb63bb4479b\"></div>\n"
      ]
     },
     "metadata": {},
     "output_type": "display_data"
    },
    {
     "data": {
      "application/javascript": [
       "(function(root) {\n",
       "  function embed_document(root) {\n",
       "    \n",
       "  var docs_json = {\"3d474c48-eca6-4991-949e-a26322a2cfc1\":{\"roots\":{\"references\":[{\"attributes\":{\"below\":[{\"id\":\"1293\",\"type\":\"LinearAxis\"}],\"left\":[{\"id\":\"1298\",\"type\":\"LinearAxis\"}],\"plot_height\":450,\"renderers\":[{\"id\":\"1293\",\"type\":\"LinearAxis\"},{\"id\":\"1297\",\"type\":\"Grid\"},{\"id\":\"1298\",\"type\":\"LinearAxis\"},{\"id\":\"1302\",\"type\":\"Grid\"},{\"id\":\"1311\",\"type\":\"BoxAnnotation\"},{\"id\":\"1328\",\"type\":\"Legend\"},{\"id\":\"1320\",\"type\":\"GlyphRenderer\"},{\"id\":\"1333\",\"type\":\"GlyphRenderer\"},{\"id\":\"1347\",\"type\":\"GlyphRenderer\"},{\"id\":\"1361\",\"type\":\"GlyphRenderer\"},{\"id\":\"1375\",\"type\":\"GlyphRenderer\"}],\"title\":{\"id\":\"1282\",\"type\":\"Title\"},\"toolbar\":{\"id\":\"1308\",\"type\":\"Toolbar\"},\"x_range\":{\"id\":\"1285\",\"type\":\"DataRange1d\"},\"x_scale\":{\"id\":\"1289\",\"type\":\"LinearScale\"},\"y_range\":{\"id\":\"1287\",\"type\":\"DataRange1d\"},\"y_scale\":{\"id\":\"1291\",\"type\":\"LinearScale\"}},\"id\":\"1283\",\"subtype\":\"Figure\",\"type\":\"Plot\"},{\"attributes\":{\"data_source\":{\"id\":\"1281\",\"type\":\"ColumnDataSource\"},\"glyph\":{\"id\":\"1345\",\"type\":\"Line\"},\"hover_glyph\":null,\"muted_glyph\":null,\"nonselection_glyph\":{\"id\":\"1346\",\"type\":\"Line\"},\"selection_glyph\":null,\"view\":{\"id\":\"1348\",\"type\":\"CDSView\"}},\"id\":\"1347\",\"type\":\"GlyphRenderer\"},{\"attributes\":{\"callback\":null},\"id\":\"1285\",\"type\":\"DataRange1d\"},{\"attributes\":{\"line_alpha\":0.1,\"line_color\":\"#1f77b4\",\"x\":{\"field\":\"x\"},\"y\":{\"field\":\"d\"}},\"id\":\"1360\",\"type\":\"Line\"},{\"attributes\":{\"plot\":{\"id\":\"1283\",\"subtype\":\"Figure\",\"type\":\"Plot\"},\"ticker\":{\"id\":\"1294\",\"type\":\"BasicTicker\"}},\"id\":\"1297\",\"type\":\"Grid\"},{\"attributes\":{\"bottom_units\":\"screen\",\"fill_alpha\":{\"value\":0.5},\"fill_color\":{\"value\":\"lightgrey\"},\"left_units\":\"screen\",\"level\":\"overlay\",\"line_alpha\":{\"value\":1.0},\"line_color\":{\"value\":\"black\"},\"line_dash\":[4,4],\"line_width\":{\"value\":2},\"plot\":null,\"render_mode\":\"css\",\"right_units\":\"screen\",\"top_units\":\"screen\"},\"id\":\"1311\",\"type\":\"BoxAnnotation\"},{\"attributes\":{\"line_alpha\":0.1,\"line_color\":\"#1f77b4\",\"x\":{\"field\":\"x\"},\"y\":{\"field\":\"c\"}},\"id\":\"1346\",\"type\":\"Line\"},{\"attributes\":{\"data_source\":{\"id\":\"1281\",\"type\":\"ColumnDataSource\"},\"glyph\":{\"id\":\"1359\",\"type\":\"Line\"},\"hover_glyph\":null,\"muted_glyph\":null,\"nonselection_glyph\":{\"id\":\"1360\",\"type\":\"Line\"},\"selection_glyph\":null,\"view\":{\"id\":\"1362\",\"type\":\"CDSView\"}},\"id\":\"1361\",\"type\":\"GlyphRenderer\"},{\"attributes\":{\"source\":{\"id\":\"1281\",\"type\":\"ColumnDataSource\"}},\"id\":\"1362\",\"type\":\"CDSView\"},{\"attributes\":{\"active_drag\":\"auto\",\"active_inspect\":\"auto\",\"active_multi\":null,\"active_scroll\":\"auto\",\"active_tap\":\"auto\",\"tools\":[{\"id\":\"1280\",\"type\":\"HoverTool\"},{\"id\":\"1303\",\"type\":\"PanTool\"},{\"id\":\"1304\",\"type\":\"WheelZoomTool\"},{\"id\":\"1305\",\"type\":\"BoxZoomTool\"},{\"id\":\"1306\",\"type\":\"ResetTool\"},{\"id\":\"1307\",\"type\":\"SaveTool\"}]},\"id\":\"1308\",\"type\":\"Toolbar\"},{\"attributes\":{\"line_color\":\"purple\",\"x\":{\"field\":\"x\"},\"y\":{\"field\":\"d\"}},\"id\":\"1359\",\"type\":\"Line\"},{\"attributes\":{},\"id\":\"1306\",\"type\":\"ResetTool\"},{\"attributes\":{},\"id\":\"1294\",\"type\":\"BasicTicker\"},{\"attributes\":{\"label\":{\"value\":\"\\u03b8 = 1.5\"},\"renderers\":[{\"id\":\"1361\",\"type\":\"GlyphRenderer\"}]},\"id\":\"1371\",\"type\":\"LegendItem\"},{\"attributes\":{},\"id\":\"1303\",\"type\":\"PanTool\"},{\"attributes\":{\"axis_label\":\"Savings rate\",\"formatter\":{\"id\":\"1324\",\"type\":\"BasicTickFormatter\"},\"plot\":{\"id\":\"1283\",\"subtype\":\"Figure\",\"type\":\"Plot\"},\"ticker\":{\"id\":\"1299\",\"type\":\"BasicTicker\"}},\"id\":\"1298\",\"type\":\"LinearAxis\"},{\"attributes\":{\"items\":[{\"id\":\"1329\",\"type\":\"LegendItem\"},{\"id\":\"1343\",\"type\":\"LegendItem\"},{\"id\":\"1357\",\"type\":\"LegendItem\"},{\"id\":\"1371\",\"type\":\"LegendItem\"},{\"id\":\"1385\",\"type\":\"LegendItem\"}],\"location\":\"top_center\",\"plot\":{\"id\":\"1283\",\"subtype\":\"Figure\",\"type\":\"Plot\"}},\"id\":\"1328\",\"type\":\"Legend\"},{\"attributes\":{},\"id\":\"1307\",\"type\":\"SaveTool\"},{\"attributes\":{\"callback\":null},\"id\":\"1287\",\"type\":\"DataRange1d\"},{\"attributes\":{},\"id\":\"1304\",\"type\":\"WheelZoomTool\"},{\"attributes\":{\"source\":{\"id\":\"1281\",\"type\":\"ColumnDataSource\"}},\"id\":\"1348\",\"type\":\"CDSView\"},{\"attributes\":{\"line_color\":\"yellow\",\"x\":{\"field\":\"x\"},\"y\":{\"field\":\"e\"}},\"id\":\"1373\",\"type\":\"Line\"},{\"attributes\":{\"line_color\":\"red\",\"x\":{\"field\":\"x\"},\"y\":{\"field\":\"a\"}},\"id\":\"1318\",\"type\":\"Line\"},{\"attributes\":{\"overlay\":{\"id\":\"1311\",\"type\":\"BoxAnnotation\"}},\"id\":\"1305\",\"type\":\"BoxZoomTool\"},{\"attributes\":{\"line_alpha\":0.1,\"line_color\":\"#1f77b4\",\"x\":{\"field\":\"x\"},\"y\":{\"field\":\"e\"}},\"id\":\"1374\",\"type\":\"Line\"},{\"attributes\":{},\"id\":\"1289\",\"type\":\"LinearScale\"},{\"attributes\":{\"data_source\":{\"id\":\"1281\",\"type\":\"ColumnDataSource\"},\"glyph\":{\"id\":\"1373\",\"type\":\"Line\"},\"hover_glyph\":null,\"muted_glyph\":null,\"nonselection_glyph\":{\"id\":\"1374\",\"type\":\"Line\"},\"selection_glyph\":null,\"view\":{\"id\":\"1376\",\"type\":\"CDSView\"}},\"id\":\"1375\",\"type\":\"GlyphRenderer\"},{\"attributes\":{\"source\":{\"id\":\"1281\",\"type\":\"ColumnDataSource\"}},\"id\":\"1321\",\"type\":\"CDSView\"},{\"attributes\":{},\"id\":\"1299\",\"type\":\"BasicTicker\"},{\"attributes\":{\"source\":{\"id\":\"1281\",\"type\":\"ColumnDataSource\"}},\"id\":\"1376\",\"type\":\"CDSView\"},{\"attributes\":{},\"id\":\"1291\",\"type\":\"LinearScale\"},{\"attributes\":{\"label\":{\"value\":\"\\u03b8 = 0.7\"},\"renderers\":[{\"id\":\"1347\",\"type\":\"GlyphRenderer\"}]},\"id\":\"1357\",\"type\":\"LegendItem\"},{\"attributes\":{\"label\":{\"value\":\"Steady state\"},\"renderers\":[{\"id\":\"1375\",\"type\":\"GlyphRenderer\"}]},\"id\":\"1385\",\"type\":\"LegendItem\"},{\"attributes\":{\"line_alpha\":0.1,\"line_color\":\"#1f77b4\",\"x\":{\"field\":\"x\"},\"y\":{\"field\":\"b\"}},\"id\":\"1332\",\"type\":\"Line\"},{\"attributes\":{},\"id\":\"1342\",\"type\":\"Selection\"},{\"attributes\":{\"dimension\":1,\"plot\":{\"id\":\"1283\",\"subtype\":\"Figure\",\"type\":\"Plot\"},\"ticker\":{\"id\":\"1299\",\"type\":\"BasicTicker\"}},\"id\":\"1302\",\"type\":\"Grid\"},{\"attributes\":{\"line_color\":\"blue\",\"x\":{\"field\":\"x\"},\"y\":{\"field\":\"b\"}},\"id\":\"1331\",\"type\":\"Line\"},{\"attributes\":{\"plot\":null,\"text\":\"Optimal savings rate for varying \\u03b8 and capital pr. capita\"},\"id\":\"1282\",\"type\":\"Title\"},{\"attributes\":{\"axis_label\":\"Capital pr. capita\",\"formatter\":{\"id\":\"1326\",\"type\":\"BasicTickFormatter\"},\"plot\":{\"id\":\"1283\",\"subtype\":\"Figure\",\"type\":\"Plot\"},\"ticker\":{\"id\":\"1294\",\"type\":\"BasicTicker\"}},\"id\":\"1293\",\"type\":\"LinearAxis\"},{\"attributes\":{},\"id\":\"1326\",\"type\":\"BasicTickFormatter\"},{\"attributes\":{\"line_color\":\"green\",\"x\":{\"field\":\"x\"},\"y\":{\"field\":\"c\"}},\"id\":\"1345\",\"type\":\"Line\"},{\"attributes\":{},\"id\":\"1324\",\"type\":\"BasicTickFormatter\"},{\"attributes\":{\"line_alpha\":0.1,\"line_color\":\"#1f77b4\",\"x\":{\"field\":\"x\"},\"y\":{\"field\":\"a\"}},\"id\":\"1319\",\"type\":\"Line\"},{\"attributes\":{\"data_source\":{\"id\":\"1281\",\"type\":\"ColumnDataSource\"},\"glyph\":{\"id\":\"1318\",\"type\":\"Line\"},\"hover_glyph\":null,\"muted_glyph\":null,\"nonselection_glyph\":{\"id\":\"1319\",\"type\":\"Line\"},\"selection_glyph\":null,\"view\":{\"id\":\"1321\",\"type\":\"CDSView\"}},\"id\":\"1320\",\"type\":\"GlyphRenderer\"},{\"attributes\":{\"source\":{\"id\":\"1281\",\"type\":\"ColumnDataSource\"}},\"id\":\"1334\",\"type\":\"CDSView\"},{\"attributes\":{\"callback\":null,\"tooltips\":[[\"Capital pr. capita\",\"@x{0,0.00}\"],[\"Savings rate for \\u03b8 = 0.3\",\"@a{0.00}\"],[\"Savings rate for \\u03b8 = 0.5\",\"@b{0.00}\"],[\"Savings rate for \\u03b8 = 0.7\",\"@c{0.00}\"],[\"Savings rate for \\u03b8 = 1.5\",\"@d{0.00}\"],[\"Savings rate for Steady state\",\"@e{0.00}\"]]},\"id\":\"1280\",\"type\":\"HoverTool\"},{\"attributes\":{\"data_source\":{\"id\":\"1281\",\"type\":\"ColumnDataSource\"},\"glyph\":{\"id\":\"1331\",\"type\":\"Line\"},\"hover_glyph\":null,\"muted_glyph\":null,\"nonselection_glyph\":{\"id\":\"1332\",\"type\":\"Line\"},\"selection_glyph\":null,\"view\":{\"id\":\"1334\",\"type\":\"CDSView\"}},\"id\":\"1333\",\"type\":\"GlyphRenderer\"},{\"attributes\":{},\"id\":\"1341\",\"type\":\"UnionRenderers\"},{\"attributes\":{\"callback\":null,\"data\":{\"a\":{\"__ndarray__\":\"tlE6JJiB7z80vA8ma7HsP3c0G5mkhes/mGNz5DyM6j/EikKag63pPyLiKhX/4eg/wRfhGBAi6D9Z9jm3D27nPwvzbbvWwOY/j2dGI9cZ5j8Qm9UZRHnlP7vvT70r3uQ/OMkGSPZF5D8h0rDWWrHjP1n+QuWUIOM//ZUC9F2T4j/XuC6CKwniP25xfFKogeE/xfMM+l784D/B+qzQtnngP/eHPdQn8t8/4r1EE5z03j9rdWCkofrdP8jxYToIBN0/55uYCmkQ3D8bxo+TqR7bP69lA428Mto/NA7y74NI2T8Co/9kpGHYP28qAID+etc/R1qJPmiY1j8neHc79LfVP8PT4OZY2dQ/14030V/70z+yVs2ARiLTPzwp3MeDStI/AD/ZI6t00T9EBVn+maDQP1gkw1eUnM8/W4jK1Tn7zT+k8/9x91zMP2zrBde5wco/lFBAWHIpyT8T9tFglZfHPxJpcoTHBMY/4MjmDvF0xD8wAVin+OfCPyMo7fTQXcE/SEWDGxWsvz8DVk2X2aC8PwKIsQZ8mrk/Oi4H7kyYtj/g5JSo/pmzP5lXxgq9nbA/pd65xalLqz+qrd1902ulPzbzQsVqQJ8/zBF+npO6kz/g//La71aAPzqMMOKOeUU+Ooww4o55RT6020fnjnlFPitKvuiOeUU+vVza4o55RT6SVT7xjnlFPkPr9uKOeUU++L536o55RT46jDDijnlFPoAIU+aOeUU+PyyP9455RT46jDDijnlFPtlYK+OOeUU+Ooww4o55RT46jDDijnlFPv4iLPKOeUU+Ooww4o55RT46jDDijnlFPvE4BfiOeUU+x8tc8455RT46jDDijnlFPot4yuWOeUU+Ooww4o55RT46jDDijnlFPjqMMOKOeUU+qJ/g5Y55RT46jDDijnlFPjqMMOKOeUU+y3ba4455RT46jDDijnlFPjqMMOKOeUU+Ooww4o55RT5z9sTjjnlFPjqMMOKOeUU+Ooww4o55RT46jDDijnlFPjqMMOKOeUU+H9HO6Y55RT46jDDijnlFPj1AVPOOeUU+gM6l9I55RT4=\",\"dtype\":\"float64\",\"shape\":[100]},\"b\":{\"__ndarray__\":\"6DHAC+r/6z9MUXYvs6voP477R74XfOc/6h+8vQiM5j9LSBv5sL7lP1EBZhOSBeU/fMTA3Pdc5D9K0GX6TsDjP57/gr6kLeM/bGkNCVai4j9bZCO26B3iP63uKPbinuE/mehfGlYj4T9aXxVZ4a3gP+wrqrVGPOA/7YS+bVGc3z81V1ZXZMbeP9LCtGkx9t0/y33OxDsr3T/YN7DIkmrcP4LhDsoTqNs/XKl2YeTp2j/lLHoewS/aP4EF1Itnedk/yytGdLTG2D+i9hMCShPYP2qIDcR/Ztc/mypQcm681j8Vx/5BQxjWP8ib+hGactU/xuf+A9rP1D+8lUptrTPUPz3o4An2k9M/aiaINvX40j+8ZnCEtV7SP846EACSxtE/u1HdZWYw0T/F/6PID5zQP9l23DXyA9A/p0tUMbjnzj8HY4xLesrNPxJ+3U3Dr8w/6agO1QiYyz+6adyU74LKPywID+JqcMk/nokahZhgyD/LBk60VFPHP17LAk8GSMY//1LNnGk+xT85AhraEj/EP/Gu31RLOMM/UXGgX3I1wj/oRqFf6jPBP/xtCHjwNMA/L8l0iXRwvj+GhJ95F3u8PzaVzdOWibo/nK2Yp+abuD8JbZQs2rG2PyuWEQNby7Q/KbHB5E3osj9OZ/DknQixP31mAL6AWK4/njzRDwOmqj+pkLba0/mmPznYMSKmU6M/8W3aacBmnz96md8zzDGYP2eEMablCJE//EE3B5vXgz8g4nmXM9BmPzqMMOKOeUU+Ooww4o55RT46jDDijnlFPtkwhOWOeUU+Ooww4o55RT70ad78jnlFPnzWZ+OOeUU+Ooww4o55RT46jDDijnlFPg1A+OWOeUU+Ooww4o55RT46jDDijnlFPtqHwOWOeUU+Ooww4o55RT78ERjjjnlFPjqMMOKOeUU+Ooww4o55RT6rWoHojnlFPjqMMOKOeUU+VwB++o55RT46jDDijnlFPj+vju+OeUU+Ooww4o55RT46jDDijnlFPgTA2ueOeUU+zajl6Y55RT46jDDijnlFPr5ToeuOeUU+Ooww4o55RT4=\",\"dtype\":\"float64\",\"shape\":[100]},\"c\":{\"__ndarray__\":\"ugUQ8I385j/MyiobWnjlP2wm3xEyf+Q/+0Vscke24z/BNtjxuAjjPx0bOLSpbeI/cNgiEuHf4T8SNLtvIl3hPyrNMhi54+A/Qn2xJYNv4D+QINaihQLgP/r4Z7TGNN8/gq/9bVpz3j9iG7WbrLPdP0YtCE4S+9w/RJaYJdBI3D91TB5nSJzbP1xqdKP09No/bX6s/QZM2j/waEvKmq7ZP25hG6UiFdk/uHd4mE9/2D+r0yRl2+zXPzm0Jvd4Xdc/EW3blhLU1j9r5DlWBkvWP9P+cbZRwdU/vl/sM2Y81T+I2aeNN7jUPxGwAPNeN9Q/HaxZy+C+0z9kVro63D7TPxNZiWWfxtI/wsZa5V9O0j9QL3bNN9rRP3BtQZejZdE/2LSgfIby0D+m1t472YDQP2LGYriUENA/XYyaWl1Dzz9vpJn4N2jOP3GgmXuqj80/nfHCj5S5zD9+1ZiZ7OXLP78pVh6VFMs/HINCoGxFyj98ZuY5f3jJP/7EWfLBrcg/6BI4PhLlxz/5/OhvUR7HP85wmpF8WcY/ll3GxoOWxT8s2+x9xtDEPyNjf53DEcQ/ItszJnlUwz+EtuQw5JjCPwNVaXTg3sE/ofNwJ3EmwT+qs5KQg2/APxiCgQQedL8/rJkC+AoMvj9HO8r6x6a8P1ey1E4+RLs/CcaZz2nkuT8G3ns+Ioe4P/SjI1VJLLc/tvNE/uXTtT+LgSPMgX20P46TY8lHKbM/9l6enYXXsT8JM7L8/IewP7zE+4ZCda4/t42ijMXeqz+MHJNHj0ypP/T0q/xavqY/nKFgcD40pD9aSkQI/a2hPzk8sJW0Wp4/HjK7o48tmT9ilRCfeUCUP9Ug4Tq+sY4/PH34q5buhD8Cgqn4pm52P4fpsWhhEUg/e1u25Y55RT46jDDijnlFPjqMMOKOeUU+A+mw4455RT5o4e7pjnlFPjqMMOKOeUU+e6Rp6455RT74KUjmjnlFPlVFgeiOeUU+Ooww4o55RT46jDDijnlFPjqMMOKOeUU+Ooww4o55RT46jDDijnlFPtXFjuOOeUU+Ooww4o55RT4=\",\"dtype\":\"float64\",\"shape\":[100]},\"d\":{\"__ndarray__\":\"c5+nfvL60j9Scr5paBTcP8/+OwI5pts/IJdvSUUR2z9CyH278n3aP2sPOCG28tk/8HtnH0du2T+qbrNzsfHYP8Ho6pGwfNg/+/yHD9sM2D/Gq8zEjaLXPwdrI+CpPNc/F+ANmu3a1j9W3uY9wHvWP531jWGTIdY/eLB3KmDL1T/o1+hJ33bVPyjauimqJNU/aTsxR17Y1D8eQhSzyYbUP1BP5serO9Q/Lqg6a4/z0z/mpLoUEqvTP0hpiNnSY9M/Cfwu0BMf0z+2XersAeDSP5fB75NwntI/imZaCJNe0j+EEUZ5AhzSPxxTX1f73tE/1Nx53c+i0T9YQ4V2j2fRP1cC4RI6LdE/tXo/eJv40D+Iq6aqhb/QP3sz7kFPh9A/kLn/h+xP0D+4hVZQWRnQP2EjRnatvc8/a8FJ0m5Vzz8mbfAVgO7OP5eiSlLTiM4/rQVi+lUkzj8xwFKUAsHNP1ytBHDJXs0/QvY1RKn9zD8KvTynlp3MP8X7TrWSPsw/+qnp95Dgyz+1irH3iYPLP2QgSwRHKMs/xOxOLdnNyj/wqvKIHnTKP9nBAorgGso/tEXNH2XCyT9sLDxioGrJP5Et94hcE8k/PAMuVge9yD9vCue4eWfIPx75uzikEsg/+RINOY++xz82eK8WNmvHP0i4glSTGMc/B/q3/abGxj/MffXIC23GP38dUqf4HMY/zxvleYzNxT9cDJ2pwn7FP3Rw13CXMMU/+BdWE/7ixD/IycQg95XEP/PNgV+DScQ/DyLHPIb9wz+s9ngJELLDPwbmNjApZ8M/GL4VQ8Acwz+2Lp5Q3NLCP9qAd85/icI/KMyhRZhAwj+TJf/1GPjBPwrqbPL7r8E/oHeQhy9owT/wgDa+1iDBPwxbBCbt2cA/G7A2N3CTwD/di114YE3AP8UY2B+8B8A/XC0J+veEvz80b7wzRPu+P4r/0Khdcr4/naHTjDbqvT+BVxt1zmK9PyUW0psr3Lw/jMqkDjxWvD8WOIrQC9G7P/BqazqzNLs//lqqbNWyuj9wfRSkkDG6PyoQ/9jdsLk/G/x7yMcwuT8=\",\"dtype\":\"float64\",\"shape\":[100]},\"e\":{\"__ndarray__\":\"GBcOhGQBQz/YiGcfbNqaPzE1vKk/SqU/D+sbQjvjqz+JUyxSfeOwPxFvBOtpmLM/ZyfYC1Ygtj/uaMDEE4W4P8gr59A5zbo/MagULHn9vD84mpZATxm/P9AG2Le1kcA/U7+adPaOwT/WalMtRYXCPznxCz9WdcM/xvhUQMBfxD/eryiRAkXFPxTFHieKJcY/4ybAIrUBxz+Tq4SJ1dnHP79nrGEzrsg/bZPgWQ5/yT/KiPQZn0zKP0gFuFEYF8s/siMPlafeyz+af4YQdqPMPzxWxh6pZc0/CAk/xWIlzj99sO0cwuLOP8G7/qrjnc8/okoh1nAr0D/lr+Qq6obQP3u0QAZp4dA/Ixmryvc60T/JeYIfoJPRP+4VUQNr69E/dT7P22BC0j+UdPqDiZjSP03Fh1js7dI/wjXsQpBC0z8DkCzDe5bTP1gYnvi06dM/Nk67qUE81D+IlCpLJ47UP646EAZr39Q/HLjBvREw1T/d3OwUIIDVPx8mQ3Kaz9U/aTm3BIUe1j8/sVjH42zWP7/U2IS6utY/1nzB2gwI1z9eRGY83lTXP/kjl/Uxodc/O8EaLQvt1z+C/PXmbDjYPwGmhQZag9g/r7RuUNXN2D9a3mhs4RfZPx0E5+aAYdk/y4egMraq2T8wTP6pg/PZP3PYbZDrO9o/6tacE/CD2j9l7p5Mk8vaP5zC/0DXEts/urvC471Z2z//DFIWSaDbPyZPXql65ts/deOvXVQs3D8yOOvk13HcP8HtSOIGt9w/DsVC6+L73D9hKzaIbUDdP5Al/TSohN0/okt+YZTI3T9ZdzRyMwzeP226rsCGT94/ECUJnI+S3j802l5JT9XeP0flNQTHF98/eTvl/vdZ3z/ZSvVi45vfP69xe1GK3d8/31i48XYP4D9S9gGVBzDgP4v4c5d3UOA/k81Oesdw4D+JIl2795DgP+ZgFdUIseA/D4u5PvvQ4D/hkHVsz/DgPywzfM+FEOE/cIsi1h4w4T/MS/rrmk/hP6nJ6nn6buE/fORI5j2O4T/J2O2UZa3hP54OTedxzOE/g/GIPGPr4T8=\",\"dtype\":\"float64\",\"shape\":[100]},\"x\":{\"__ndarray__\":\"/Knx0k1iUD9TAUAmEXXTP36IVv/fbOM/UxCNazcf7T8TzOFrx2jzP/0P/SHzQfg/6FMY2B4b/T/pyxlHJfoAQN5tJyK7ZgNA0w81/VDTBUDIsULY5j8IQL1TULN8rApAs/VdjhIZDUCol2tpqIUPQM+cPCIf+RBAyW3DD2ovEkDEPkr9tGUTQL8P0er/mxRAueBX2ErSFUC0sd7FlQgXQK6CZbPgPhhAqVPsoCt1GUCjJHOOdqsaQJ71+XvB4RtAmcaAaQwYHUCTlwdXV04eQI5ojkSihB9AxJwKmXZdIEBBBc4PnPggQL5tkYbBkyFAO9ZU/eYuIkC5Phh0DMoiQDan2+oxZSNAsw+fYVcAJEAxeGLYfJskQK7gJU+iNiVAK0npxcfRJUCosaw87WwmQCYacLMSCCdAo4IzKjijJ0Ag6/agXT4oQJ5TuheD2ShAG7x9jqh0KUCYJEEFzg8qQBWNBHzzqipAk/XH8hhGK0AQXotpPuErQI3GTuBjfCxACy8SV4kXLUCIl9XNrrItQAUAmUTUTS5Agmhcu/noLkAA0R8yH4QvQL+ccVSiDzBA/lDTDzVdMEA8BTXLx6owQHu5loZa+DBAum34Qe1FMUD4IVr9f5MxQDfWu7gS4TFAdYoddKUuMkC0Pn8vOHwyQPPy4OrKyTJAMadCpl0XM0BwW6Rh8GQzQK8PBh2DsjNA7cNn2BUANEAseMmTqE00QGssK087mzRAqeCMCs7oNEDolO7FYDY1QCZJUIHzgzVAZf2xPIbRNUCksRP4GB82QOJldbOrbDZAIRrXbj66NkBgzjgq0Qc3QJ6CmuVjVTdA3Tb8oPaiN0Ac611cifA3QFqfvxccPjhAmVMh066LOEDYB4OOQdk4QBa85EnUJjlAVXBGBWd0OUCTJKjA+cE5QNLYCXyMDzpAEY1rNx9dOkBPQc3ysao6QI71Lq5E+DpAzamQaddFO0ALXvIkapM7QEoSVOD84DtAica1m48uPEDHehdXInw8QAYveRK1yTxARePazUcXPUCDlzyJ2mQ9QMJLnkRtsj1AAAAAAAAAPkA=\",\"dtype\":\"float64\",\"shape\":[100]}},\"selected\":{\"id\":\"1342\",\"type\":\"Selection\"},\"selection_policy\":{\"id\":\"1341\",\"type\":\"UnionRenderers\"}},\"id\":\"1281\",\"type\":\"ColumnDataSource\"},{\"attributes\":{\"label\":{\"value\":\"\\u03b8 = 0.3\"},\"renderers\":[{\"id\":\"1320\",\"type\":\"GlyphRenderer\"}]},\"id\":\"1329\",\"type\":\"LegendItem\"},{\"attributes\":{\"label\":{\"value\":\"\\u03b8 = 0.5\"},\"renderers\":[{\"id\":\"1333\",\"type\":\"GlyphRenderer\"}]},\"id\":\"1343\",\"type\":\"LegendItem\"}],\"root_ids\":[\"1283\"]},\"title\":\"Bokeh Application\",\"version\":\"1.0.2\"}};\n",
       "  var render_items = [{\"docid\":\"3d474c48-eca6-4991-949e-a26322a2cfc1\",\"notebook_comms_target\":\"1410\",\"roots\":{\"1283\":\"2ac2178e-5569-48ef-b8b5-beb63bb4479b\"}}];\n",
       "  root.Bokeh.embed.embed_items_notebook(docs_json, render_items);\n",
       "\n",
       "  }\n",
       "  if (root.Bokeh !== undefined) {\n",
       "    embed_document(root);\n",
       "  } else {\n",
       "    var attempts = 0;\n",
       "    var timer = setInterval(function(root) {\n",
       "      if (root.Bokeh !== undefined) {\n",
       "        embed_document(root);\n",
       "        clearInterval(timer);\n",
       "      }\n",
       "      attempts++;\n",
       "      if (attempts > 100) {\n",
       "        console.log(\"Bokeh: ERROR: Unable to run BokehJS code because BokehJS library is missing\");\n",
       "        clearInterval(timer);\n",
       "      }\n",
       "    }, 10, root)\n",
       "  }\n",
       "})(window);"
      ],
      "application/vnd.bokehjs_exec.v0+json": ""
     },
     "metadata": {
      "application/vnd.bokehjs_exec.v0+json": {
       "id": "1283"
      }
     },
     "output_type": "display_data"
    },
    {
     "data": {
      "text/html": [
       "<p><code>&lt;Bokeh Notebook handle for <strong>In[10]</strong>&gt;</code></p>"
      ],
      "text/plain": [
       "<bokeh.io.notebook.CommsHandle at 0x126f3b128>"
      ]
     },
     "execution_count": 10,
     "metadata": {},
     "output_type": "execute_result"
    }
   ],
   "source": [
    "figure1 = model_funcs.plotting(\"Capital pr. capita\",y_names, k0s, sks, title='Optimal savings rate for varying \\u03B8 and capital pr. capita',width= 600)\n",
    "show(figure1,notebook_handle=True)"
   ]
  },
  {
   "cell_type": "markdown",
   "metadata": {},
   "source": [
    "Now we can see that we have convergence. Furthermore we acutaully have faster convergence, than in the traditional solow model. For at fixed savings rate $k_{t}<k^{*}$, the transition equation would imply $\\Delta k_{t}>0$. But now, if $k_{t}<k^{*}$ the chosen savings rate by the household will be bigger than at the steady state-level, savings will thus be bigger, implying a bigger $\\Delta k_{t}$ when $k_{t} \\rightarrow k^{*}$ we will see $s_{Kt} \\rightarrow s_{K}^{*}$ and the chosen savings rate will be fixed. <br>\n",
    "Since we have simple solow model, we know that the real optimal fixed savings rate for maximum overall consumption in the long run is acutally $s_{K}^{**}=\\alpha$ which in our case is $\\frac{1}{3}$, but we see that this steady state can't be achieved in our model. This is because our representative household is shortsighted and values immediate consumption above future consumption."
   ]
  },
  {
   "cell_type": "markdown",
   "metadata": {},
   "source": [
    "**Plotting the consumption plan**"
   ]
  },
  {
   "cell_type": "markdown",
   "metadata": {},
   "source": [
    "Another way of visually showing convergence is by plotting the consumption plan of the representative houshold. We will do this below. We slightly alter our model when doing this because we now assume that the representative household plans for more periods ahead, e.g. considers and cares about consumption in the next many many periods. Because we now do this we can say that the consummer will stick to the plan made in period 1, in the following period untill it hits steady state where it will stay, since there are no chocks in our model. "
   ]
  },
  {
   "cell_type": "code",
   "execution_count": 11,
   "metadata": {},
   "outputs": [
    {
     "data": {
      "application/vnd.jupyter.widget-view+json": {
       "model_id": "216197ebc4044349824cc186e4b8768c",
       "version_major": 2,
       "version_minor": 0
      },
      "text/plain": [
       "Output()"
      ]
     },
     "metadata": {},
     "output_type": "display_data"
    },
    {
     "data": {
      "application/vnd.jupyter.widget-view+json": {
       "model_id": "cb3e71d65aff4dd682ebfd94875e270e",
       "version_major": 2,
       "version_minor": 0
      },
      "text/plain": [
       "HBox(children=(IntSlider(value=200, description='T', max=500, min=10, orientation='vertical', step=10), FloatS…"
      ]
     },
     "metadata": {},
     "output_type": "display_data"
    },
    {
     "data": {
      "text/html": [
       "\n",
       "\n",
       "\n",
       "\n",
       "\n",
       "\n",
       "  <div class=\"bk-root\" id=\"b9593fd8-d160-42dc-b8e8-058ee3165cfc\"></div>\n"
      ]
     },
     "metadata": {},
     "output_type": "display_data"
    },
    {
     "data": {
      "application/javascript": [
       "(function(root) {\n",
       "  function embed_document(root) {\n",
       "    \n",
       "  var docs_json = {\"cd4d7b24-2688-4257-b2d0-5057e9d3e697\":{\"roots\":{\"references\":[{\"attributes\":{\"children\":[{\"id\":\"1584\",\"type\":\"Column\"},{\"id\":\"1498\",\"subtype\":\"Figure\",\"type\":\"Plot\"}]},\"id\":\"1585\",\"type\":\"Row\"},{\"attributes\":{\"axis_label\":\"Capital pr. capita\",\"formatter\":{\"id\":\"1614\",\"type\":\"BasicTickFormatter\"},\"plot\":{\"id\":\"1498\",\"subtype\":\"Figure\",\"type\":\"Plot\"},\"ticker\":{\"id\":\"1514\",\"type\":\"BasicTicker\"}},\"id\":\"1513\",\"type\":\"LinearAxis\"},{\"attributes\":{\"axis_label\":\"T\",\"formatter\":{\"id\":\"1620\",\"type\":\"BasicTickFormatter\"},\"plot\":{\"id\":\"1462\",\"subtype\":\"Figure\",\"type\":\"Plot\"},\"ticker\":{\"id\":\"1473\",\"type\":\"BasicTicker\"}},\"id\":\"1472\",\"type\":\"LinearAxis\"},{\"attributes\":{\"callback\":null},\"id\":\"1502\",\"type\":\"DataRange1d\"},{\"attributes\":{\"plot\":{\"id\":\"1462\",\"subtype\":\"Figure\",\"type\":\"Plot\"},\"ticker\":{\"id\":\"1473\",\"type\":\"BasicTicker\"}},\"id\":\"1476\",\"type\":\"Grid\"},{\"attributes\":{\"callback\":null},\"id\":\"1500\",\"type\":\"DataRange1d\"},{\"attributes\":{},\"id\":\"1504\",\"type\":\"LinearScale\"},{\"attributes\":{},\"id\":\"1483\",\"type\":\"WheelZoomTool\"},{\"attributes\":{},\"id\":\"1506\",\"type\":\"LinearScale\"},{\"attributes\":{},\"id\":\"1616\",\"type\":\"BasicTickFormatter\"},{\"attributes\":{\"overlay\":{\"id\":\"1490\",\"type\":\"BoxAnnotation\"}},\"id\":\"1484\",\"type\":\"BoxZoomTool\"},{\"attributes\":{},\"id\":\"1485\",\"type\":\"ResetTool\"},{\"attributes\":{\"plot\":null,\"text\":\"Capital pr. capita\"},\"id\":\"1497\",\"type\":\"Title\"},{\"attributes\":{},\"id\":\"1486\",\"type\":\"SaveTool\"},{\"attributes\":{\"active_drag\":\"auto\",\"active_inspect\":\"auto\",\"active_multi\":null,\"active_scroll\":\"auto\",\"active_tap\":\"auto\",\"tools\":[{\"id\":\"1460\",\"type\":\"HoverTool\"},{\"id\":\"1482\",\"type\":\"PanTool\"},{\"id\":\"1483\",\"type\":\"WheelZoomTool\"},{\"id\":\"1484\",\"type\":\"BoxZoomTool\"},{\"id\":\"1485\",\"type\":\"ResetTool\"},{\"id\":\"1486\",\"type\":\"SaveTool\"}]},\"id\":\"1487\",\"type\":\"Toolbar\"},{\"attributes\":{\"below\":[{\"id\":\"1472\",\"type\":\"LinearAxis\"}],\"left\":[{\"id\":\"1477\",\"type\":\"LinearAxis\"}],\"plot_height\":430,\"plot_width\":430,\"renderers\":[{\"id\":\"1472\",\"type\":\"LinearAxis\"},{\"id\":\"1476\",\"type\":\"Grid\"},{\"id\":\"1477\",\"type\":\"LinearAxis\"},{\"id\":\"1481\",\"type\":\"Grid\"},{\"id\":\"1490\",\"type\":\"BoxAnnotation\"},{\"id\":\"1571\",\"type\":\"GlyphRenderer\"}],\"title\":{\"id\":\"1461\",\"type\":\"Title\"},\"toolbar\":{\"id\":\"1487\",\"type\":\"Toolbar\"},\"x_range\":{\"id\":\"1464\",\"type\":\"DataRange1d\"},\"x_scale\":{\"id\":\"1468\",\"type\":\"LinearScale\"},\"y_range\":{\"id\":\"1466\",\"type\":\"DataRange1d\"},\"y_scale\":{\"id\":\"1470\",\"type\":\"LinearScale\"}},\"id\":\"1462\",\"subtype\":\"Figure\",\"type\":\"Plot\"},{\"attributes\":{\"axis_label\":\"T\",\"formatter\":{\"id\":\"1616\",\"type\":\"BasicTickFormatter\"},\"plot\":{\"id\":\"1498\",\"subtype\":\"Figure\",\"type\":\"Plot\"},\"ticker\":{\"id\":\"1509\",\"type\":\"BasicTicker\"}},\"id\":\"1508\",\"type\":\"LinearAxis\"},{\"attributes\":{\"bottom_units\":\"screen\",\"fill_alpha\":{\"value\":0.5},\"fill_color\":{\"value\":\"lightgrey\"},\"left_units\":\"screen\",\"level\":\"overlay\",\"line_alpha\":{\"value\":1.0},\"line_color\":{\"value\":\"black\"},\"line_dash\":[4,4],\"line_width\":{\"value\":2},\"plot\":null,\"render_mode\":\"css\",\"right_units\":\"screen\",\"top_units\":\"screen\"},\"id\":\"1490\",\"type\":\"BoxAnnotation\"},{\"attributes\":{},\"id\":\"1470\",\"type\":\"LinearScale\"},{\"attributes\":{},\"id\":\"1482\",\"type\":\"PanTool\"},{\"attributes\":{\"below\":[{\"id\":\"1508\",\"type\":\"LinearAxis\"}],\"left\":[{\"id\":\"1513\",\"type\":\"LinearAxis\"}],\"plot_height\":430,\"plot_width\":430,\"renderers\":[{\"id\":\"1508\",\"type\":\"LinearAxis\"},{\"id\":\"1512\",\"type\":\"Grid\"},{\"id\":\"1513\",\"type\":\"LinearAxis\"},{\"id\":\"1517\",\"type\":\"Grid\"},{\"id\":\"1526\",\"type\":\"BoxAnnotation\"},{\"id\":\"1576\",\"type\":\"GlyphRenderer\"}],\"title\":{\"id\":\"1497\",\"type\":\"Title\"},\"toolbar\":{\"id\":\"1523\",\"type\":\"Toolbar\"},\"x_range\":{\"id\":\"1500\",\"type\":\"DataRange1d\"},\"x_scale\":{\"id\":\"1504\",\"type\":\"LinearScale\"},\"y_range\":{\"id\":\"1502\",\"type\":\"DataRange1d\"},\"y_scale\":{\"id\":\"1506\",\"type\":\"LinearScale\"}},\"id\":\"1498\",\"subtype\":\"Figure\",\"type\":\"Plot\"},{\"attributes\":{\"callback\":null,\"tooltips\":[[\"T\",\"@T\"],[\"Consumption pr. capita\",\"@c_pr{0.00}\"]]},\"id\":\"1532\",\"type\":\"HoverTool\"},{\"attributes\":{\"dimension\":1,\"plot\":{\"id\":\"1462\",\"subtype\":\"Figure\",\"type\":\"Plot\"},\"ticker\":{\"id\":\"1478\",\"type\":\"BasicTicker\"}},\"id\":\"1481\",\"type\":\"Grid\"},{\"attributes\":{},\"id\":\"1478\",\"type\":\"BasicTicker\"},{\"attributes\":{\"axis_label\":\"Savingsrate in %\",\"formatter\":{\"id\":\"1618\",\"type\":\"BasicTickFormatter\"},\"plot\":{\"id\":\"1462\",\"subtype\":\"Figure\",\"type\":\"Plot\"},\"ticker\":{\"id\":\"1478\",\"type\":\"BasicTicker\"}},\"id\":\"1477\",\"type\":\"LinearAxis\"},{\"attributes\":{},\"id\":\"1473\",\"type\":\"BasicTicker\"},{\"attributes\":{\"plot\":{\"id\":\"1498\",\"subtype\":\"Figure\",\"type\":\"Plot\"},\"ticker\":{\"id\":\"1509\",\"type\":\"BasicTicker\"}},\"id\":\"1512\",\"type\":\"Grid\"},{\"attributes\":{},\"id\":\"1509\",\"type\":\"BasicTicker\"},{\"attributes\":{},\"id\":\"1514\",\"type\":\"BasicTicker\"},{\"attributes\":{\"data_source\":{\"id\":\"1459\",\"type\":\"ColumnDataSource\"},\"glyph\":{\"id\":\"1574\",\"type\":\"Line\"},\"hover_glyph\":null,\"muted_glyph\":null,\"nonselection_glyph\":{\"id\":\"1575\",\"type\":\"Line\"},\"selection_glyph\":null,\"view\":{\"id\":\"1577\",\"type\":\"CDSView\"}},\"id\":\"1576\",\"type\":\"GlyphRenderer\"},{\"attributes\":{\"dimension\":1,\"plot\":{\"id\":\"1498\",\"subtype\":\"Figure\",\"type\":\"Plot\"},\"ticker\":{\"id\":\"1514\",\"type\":\"BasicTicker\"}},\"id\":\"1517\",\"type\":\"Grid\"},{\"attributes\":{\"source\":{\"id\":\"1459\",\"type\":\"ColumnDataSource\"}},\"id\":\"1577\",\"type\":\"CDSView\"},{\"attributes\":{\"below\":[{\"id\":\"1544\",\"type\":\"LinearAxis\"}],\"left\":[{\"id\":\"1549\",\"type\":\"LinearAxis\"}],\"plot_height\":430,\"plot_width\":430,\"renderers\":[{\"id\":\"1544\",\"type\":\"LinearAxis\"},{\"id\":\"1548\",\"type\":\"Grid\"},{\"id\":\"1549\",\"type\":\"LinearAxis\"},{\"id\":\"1553\",\"type\":\"Grid\"},{\"id\":\"1562\",\"type\":\"BoxAnnotation\"},{\"id\":\"1581\",\"type\":\"GlyphRenderer\"}],\"title\":{\"id\":\"1533\",\"type\":\"Title\"},\"toolbar\":{\"id\":\"1559\",\"type\":\"Toolbar\"},\"x_range\":{\"id\":\"1536\",\"type\":\"DataRange1d\"},\"x_scale\":{\"id\":\"1540\",\"type\":\"LinearScale\"},\"y_range\":{\"id\":\"1538\",\"type\":\"DataRange1d\"},\"y_scale\":{\"id\":\"1542\",\"type\":\"LinearScale\"}},\"id\":\"1534\",\"subtype\":\"Figure\",\"type\":\"Plot\"},{\"attributes\":{\"line_color\":\"blue\",\"x\":{\"field\":\"T\"},\"y\":{\"field\":\"c_pr\"}},\"id\":\"1579\",\"type\":\"Line\"},{\"attributes\":{},\"id\":\"1518\",\"type\":\"PanTool\"},{\"attributes\":{\"line_alpha\":0.1,\"line_color\":\"#1f77b4\",\"x\":{\"field\":\"T\"},\"y\":{\"field\":\"c_pr\"}},\"id\":\"1580\",\"type\":\"Line\"},{\"attributes\":{},\"id\":\"1519\",\"type\":\"WheelZoomTool\"},{\"attributes\":{\"data_source\":{\"id\":\"1459\",\"type\":\"ColumnDataSource\"},\"glyph\":{\"id\":\"1579\",\"type\":\"Line\"},\"hover_glyph\":null,\"muted_glyph\":null,\"nonselection_glyph\":{\"id\":\"1580\",\"type\":\"Line\"},\"selection_glyph\":null,\"view\":{\"id\":\"1582\",\"type\":\"CDSView\"}},\"id\":\"1581\",\"type\":\"GlyphRenderer\"},{\"attributes\":{\"overlay\":{\"id\":\"1526\",\"type\":\"BoxAnnotation\"}},\"id\":\"1520\",\"type\":\"BoxZoomTool\"},{\"attributes\":{\"source\":{\"id\":\"1459\",\"type\":\"ColumnDataSource\"}},\"id\":\"1582\",\"type\":\"CDSView\"},{\"attributes\":{\"callback\":null},\"id\":\"1466\",\"type\":\"DataRange1d\"},{\"attributes\":{},\"id\":\"1521\",\"type\":\"ResetTool\"},{\"attributes\":{\"callback\":null},\"id\":\"1464\",\"type\":\"DataRange1d\"},{\"attributes\":{},\"id\":\"1522\",\"type\":\"SaveTool\"},{\"attributes\":{\"active_drag\":\"auto\",\"active_inspect\":\"auto\",\"active_multi\":null,\"active_scroll\":\"auto\",\"active_tap\":\"auto\",\"tools\":[{\"id\":\"1496\",\"type\":\"HoverTool\"},{\"id\":\"1518\",\"type\":\"PanTool\"},{\"id\":\"1519\",\"type\":\"WheelZoomTool\"},{\"id\":\"1520\",\"type\":\"BoxZoomTool\"},{\"id\":\"1521\",\"type\":\"ResetTool\"},{\"id\":\"1522\",\"type\":\"SaveTool\"}]},\"id\":\"1523\",\"type\":\"Toolbar\"},{\"attributes\":{\"plot\":null,\"text\":\"Savingsrate in %\"},\"id\":\"1461\",\"type\":\"Title\"},{\"attributes\":{\"plot\":null,\"text\":\"Consumption pr. capita\"},\"id\":\"1533\",\"type\":\"Title\"},{\"attributes\":{\"bottom_units\":\"screen\",\"fill_alpha\":{\"value\":0.5},\"fill_color\":{\"value\":\"lightgrey\"},\"left_units\":\"screen\",\"level\":\"overlay\",\"line_alpha\":{\"value\":1.0},\"line_color\":{\"value\":\"black\"},\"line_dash\":[4,4],\"line_width\":{\"value\":2},\"plot\":null,\"render_mode\":\"css\",\"right_units\":\"screen\",\"top_units\":\"screen\"},\"id\":\"1526\",\"type\":\"BoxAnnotation\"},{\"attributes\":{\"callback\":null,\"tooltips\":[[\"T\",\"@T\"],[\"Capital pr. capita\",\"@k_pr{0.00}\"]]},\"id\":\"1496\",\"type\":\"HoverTool\"},{\"attributes\":{\"callback\":null},\"id\":\"1536\",\"type\":\"DataRange1d\"},{\"attributes\":{\"callback\":null,\"tooltips\":[[\"T\",\"@T\"],[\"Savings rate\",\"@sks{0.00} %\"]]},\"id\":\"1460\",\"type\":\"HoverTool\"},{\"attributes\":{\"callback\":null},\"id\":\"1538\",\"type\":\"DataRange1d\"},{\"attributes\":{},\"id\":\"1618\",\"type\":\"BasicTickFormatter\"},{\"attributes\":{},\"id\":\"1540\",\"type\":\"LinearScale\"},{\"attributes\":{},\"id\":\"1620\",\"type\":\"BasicTickFormatter\"},{\"attributes\":{},\"id\":\"1542\",\"type\":\"LinearScale\"},{\"attributes\":{},\"id\":\"1622\",\"type\":\"BasicTickFormatter\"},{\"attributes\":{\"axis_label\":\"T\",\"formatter\":{\"id\":\"1624\",\"type\":\"BasicTickFormatter\"},\"plot\":{\"id\":\"1534\",\"subtype\":\"Figure\",\"type\":\"Plot\"},\"ticker\":{\"id\":\"1545\",\"type\":\"BasicTicker\"}},\"id\":\"1544\",\"type\":\"LinearAxis\"},{\"attributes\":{},\"id\":\"1624\",\"type\":\"BasicTickFormatter\"},{\"attributes\":{},\"id\":\"1545\",\"type\":\"BasicTicker\"},{\"attributes\":{},\"id\":\"1626\",\"type\":\"UnionRenderers\"},{\"attributes\":{\"plot\":{\"id\":\"1534\",\"subtype\":\"Figure\",\"type\":\"Plot\"},\"ticker\":{\"id\":\"1545\",\"type\":\"BasicTicker\"}},\"id\":\"1548\",\"type\":\"Grid\"},{\"attributes\":{},\"id\":\"1627\",\"type\":\"Selection\"},{\"attributes\":{\"axis_label\":\"Consumption pr. capita\",\"formatter\":{\"id\":\"1622\",\"type\":\"BasicTickFormatter\"},\"plot\":{\"id\":\"1534\",\"subtype\":\"Figure\",\"type\":\"Plot\"},\"ticker\":{\"id\":\"1550\",\"type\":\"BasicTicker\"}},\"id\":\"1549\",\"type\":\"LinearAxis\"},{\"attributes\":{},\"id\":\"1550\",\"type\":\"BasicTicker\"},{\"attributes\":{\"dimension\":1,\"plot\":{\"id\":\"1534\",\"subtype\":\"Figure\",\"type\":\"Plot\"},\"ticker\":{\"id\":\"1550\",\"type\":\"BasicTicker\"}},\"id\":\"1553\",\"type\":\"Grid\"},{\"attributes\":{\"callback\":null,\"data\":{\"T\":[0,1,2,3,4,5,6,7,8,9,10,11,12,13,14,15,16,17,18,19,20,21,22,23,24,25,26,27,28,29,30,31,32,33,34,35,36,37,38,39,40,41,42,43,44,45,46,47,48,49,50,51,52,53,54,55,56,57,58,59,60,61,62,63,64,65,66,67,68,69,70,71,72,73,74,75,76,77,78,79,80,81,82,83,84,85,86,87,88,89,90,91,92,93,94,95,96,97,98,99,100,101,102,103,104,105,106,107,108,109,110,111,112,113,114,115,116,117,118,119,120,121,122,123,124,125,126,127,128,129,130,131,132,133,134,135,136,137,138,139,140,141,142,143,144,145,146,147,148,149,150,151,152,153,154,155,156,157,158,159,160,161,162,163,164,165,166,167,168,169,170,171,172,173,174,175,176,177,178,179,180,181,182,183,184,185,186,187,188,189,190,191,192,193,194,195,196,197,198,199],\"c_pr\":{\"__ndarray__\":\"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\",\"dtype\":\"float64\",\"shape\":[200]},\"k_pr\":{\"__ndarray__\":\"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\",\"dtype\":\"float64\",\"shape\":[200]},\"sks\":{\"__ndarray__\":\"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\",\"dtype\":\"float64\",\"shape\":[200]}},\"selected\":{\"id\":\"1627\",\"type\":\"Selection\"},\"selection_policy\":{\"id\":\"1626\",\"type\":\"UnionRenderers\"}},\"id\":\"1459\",\"type\":\"ColumnDataSource\"},{\"attributes\":{\"line_color\":\"blue\",\"x\":{\"field\":\"T\"},\"y\":{\"field\":\"sks\"}},\"id\":\"1569\",\"type\":\"Line\"},{\"attributes\":{},\"id\":\"1554\",\"type\":\"PanTool\"},{\"attributes\":{},\"id\":\"1555\",\"type\":\"WheelZoomTool\"},{\"attributes\":{\"overlay\":{\"id\":\"1562\",\"type\":\"BoxAnnotation\"}},\"id\":\"1556\",\"type\":\"BoxZoomTool\"},{\"attributes\":{},\"id\":\"1468\",\"type\":\"LinearScale\"},{\"attributes\":{},\"id\":\"1557\",\"type\":\"ResetTool\"},{\"attributes\":{},\"id\":\"1558\",\"type\":\"SaveTool\"},{\"attributes\":{\"active_drag\":\"auto\",\"active_inspect\":\"auto\",\"active_multi\":null,\"active_scroll\":\"auto\",\"active_tap\":\"auto\",\"tools\":[{\"id\":\"1532\",\"type\":\"HoverTool\"},{\"id\":\"1554\",\"type\":\"PanTool\"},{\"id\":\"1555\",\"type\":\"WheelZoomTool\"},{\"id\":\"1556\",\"type\":\"BoxZoomTool\"},{\"id\":\"1557\",\"type\":\"ResetTool\"},{\"id\":\"1558\",\"type\":\"SaveTool\"}]},\"id\":\"1559\",\"type\":\"Toolbar\"},{\"attributes\":{\"line_alpha\":0.1,\"line_color\":\"#1f77b4\",\"x\":{\"field\":\"T\"},\"y\":{\"field\":\"sks\"}},\"id\":\"1570\",\"type\":\"Line\"},{\"attributes\":{\"bottom_units\":\"screen\",\"fill_alpha\":{\"value\":0.5},\"fill_color\":{\"value\":\"lightgrey\"},\"left_units\":\"screen\",\"level\":\"overlay\",\"line_alpha\":{\"value\":1.0},\"line_color\":{\"value\":\"black\"},\"line_dash\":[4,4],\"line_width\":{\"value\":2},\"plot\":null,\"render_mode\":\"css\",\"right_units\":\"screen\",\"top_units\":\"screen\"},\"id\":\"1562\",\"type\":\"BoxAnnotation\"},{\"attributes\":{\"children\":[{\"id\":\"1462\",\"subtype\":\"Figure\",\"type\":\"Plot\"},{\"id\":\"1534\",\"subtype\":\"Figure\",\"type\":\"Plot\"}]},\"id\":\"1584\",\"type\":\"Column\"},{\"attributes\":{\"data_source\":{\"id\":\"1459\",\"type\":\"ColumnDataSource\"},\"glyph\":{\"id\":\"1569\",\"type\":\"Line\"},\"hover_glyph\":null,\"muted_glyph\":null,\"nonselection_glyph\":{\"id\":\"1570\",\"type\":\"Line\"},\"selection_glyph\":null,\"view\":{\"id\":\"1572\",\"type\":\"CDSView\"}},\"id\":\"1571\",\"type\":\"GlyphRenderer\"},{\"attributes\":{\"source\":{\"id\":\"1459\",\"type\":\"ColumnDataSource\"}},\"id\":\"1572\",\"type\":\"CDSView\"},{\"attributes\":{},\"id\":\"1614\",\"type\":\"BasicTickFormatter\"},{\"attributes\":{\"line_color\":\"blue\",\"x\":{\"field\":\"T\"},\"y\":{\"field\":\"k_pr\"}},\"id\":\"1574\",\"type\":\"Line\"},{\"attributes\":{\"line_alpha\":0.1,\"line_color\":\"#1f77b4\",\"x\":{\"field\":\"T\"},\"y\":{\"field\":\"k_pr\"}},\"id\":\"1575\",\"type\":\"Line\"}],\"root_ids\":[\"1585\"]},\"title\":\"Bokeh Application\",\"version\":\"1.0.2\"}};\n",
       "  var render_items = [{\"docid\":\"cd4d7b24-2688-4257-b2d0-5057e9d3e697\",\"notebook_comms_target\":\"1630\",\"roots\":{\"1585\":\"b9593fd8-d160-42dc-b8e8-058ee3165cfc\"}}];\n",
       "  root.Bokeh.embed.embed_items_notebook(docs_json, render_items);\n",
       "\n",
       "  }\n",
       "  if (root.Bokeh !== undefined) {\n",
       "    embed_document(root);\n",
       "  } else {\n",
       "    var attempts = 0;\n",
       "    var timer = setInterval(function(root) {\n",
       "      if (root.Bokeh !== undefined) {\n",
       "        embed_document(root);\n",
       "        clearInterval(timer);\n",
       "      }\n",
       "      attempts++;\n",
       "      if (attempts > 100) {\n",
       "        console.log(\"Bokeh: ERROR: Unable to run BokehJS code because BokehJS library is missing\");\n",
       "        clearInterval(timer);\n",
       "      }\n",
       "    }, 10, root)\n",
       "  }\n",
       "})(window);"
      ],
      "application/vnd.bokehjs_exec.v0+json": ""
     },
     "metadata": {
      "application/vnd.bokehjs_exec.v0+json": {
       "id": "1585"
      }
     },
     "output_type": "display_data"
    }
   ],
   "source": [
    "model_funcs.plotting_plan()"
   ]
  },
  {
   "cell_type": "markdown",
   "metadata": {},
   "source": [
    "We can see that we hit steady state for almost all parameter values (for large $\\theta$s convergence is so slow, that T has to be increased). Thus this way of solving the model is viable."
   ]
  },
  {
   "cell_type": "markdown",
   "metadata": {},
   "source": [
    "# 4. The modified solow walk"
   ]
  },
  {
   "cell_type": "markdown",
   "metadata": {},
   "source": [
    "Now that we have showed in theory that the model will have convergence, we will show it with a simulation of our model, we will look at a timerange of 150 periods and compare how fast this model convergences relative to the traditional solow-model, with a fixed savings rate set at the steady state level savings of our model."
   ]
  },
  {
   "cell_type": "code",
   "execution_count": 12,
   "metadata": {},
   "outputs": [],
   "source": [
    "timeline = 150\n",
    "k0 = 5\n",
    "'''\n",
    "This function finds the implied steady state values of s_k and k_t in our model,\n",
    "basicly by finding the crossing in the above figure.\n",
    "'''\n",
    "\n",
    "k_star, sk_star = model_funcs.find_ss_interp(sk_interpers[1], a, n, delta, alpha)\n",
    "\n",
    "\n",
    "# The evolution of the normal solow model:\n",
    "trad_k_pr, trad_y_pr = model_funcs.solowwalk(\n",
    "    k0, a, l0, n, sk_star, alpha, delta, timeline)\n",
    "\n",
    "# The evolution of the modified solowmodel:\n",
    "k_pr, y_pr, sk_path = model_funcs.new_mod_solowwalk(\n",
    "    k0, l0, a,n, alpha, delta, sk_interpers[1], timeline)\n"
   ]
  },
  {
   "cell_type": "code",
   "execution_count": 13,
   "metadata": {},
   "outputs": [
    {
     "data": {
      "text/html": [
       "\n",
       "\n",
       "\n",
       "\n",
       "\n",
       "\n",
       "  <div class=\"bk-root\" id=\"f7b2465a-a680-47b6-ab4d-256ce29e2752\"></div>\n"
      ]
     },
     "metadata": {},
     "output_type": "display_data"
    },
    {
     "data": {
      "application/javascript": [
       "(function(root) {\n",
       "  function embed_document(root) {\n",
       "    \n",
       "  var docs_json = {\"b13217ed-31c7-43d6-9892-e0bf52ced5b4\":{\"roots\":{\"references\":[{\"attributes\":{\"children\":[{\"id\":\"1758\",\"subtype\":\"Figure\",\"type\":\"Plot\"},{\"id\":\"1836\",\"subtype\":\"Figure\",\"type\":\"Plot\"}]},\"id\":\"1897\",\"type\":\"Row\"},{\"attributes\":{\"data_source\":{\"id\":\"1756\",\"type\":\"ColumnDataSource\"},\"glyph\":{\"id\":\"1820\",\"type\":\"Line\"},\"hover_glyph\":null,\"muted_glyph\":null,\"nonselection_glyph\":{\"id\":\"1821\",\"type\":\"Line\"},\"selection_glyph\":null,\"view\":{\"id\":\"1823\",\"type\":\"CDSView\"}},\"id\":\"1822\",\"type\":\"GlyphRenderer\"},{\"attributes\":{},\"id\":\"1895\",\"type\":\"Selection\"},{\"attributes\":{\"line_alpha\":0.1,\"line_color\":\"#1f77b4\",\"x\":{\"field\":\"x\"},\"y\":{\"field\":\"c\"}},\"id\":\"1821\",\"type\":\"Line\"},{\"attributes\":{\"label\":{\"value\":\"Steady state/Fixed\"},\"renderers\":[{\"id\":\"1886\",\"type\":\"GlyphRenderer\"}]},\"id\":\"1896\",\"type\":\"LegendItem\"},{\"attributes\":{\"source\":{\"id\":\"1756\",\"type\":\"ColumnDataSource\"}},\"id\":\"1823\",\"type\":\"CDSView\"},{\"attributes\":{\"callback\":null,\"data\":{\"a\":{\"__ndarray__\":\"e5fLAh26R0DiZt8iAatGQBbJp5/QvEVAjjsP3r7lREDjcaiG8CZEQPhDyB49fUNAHHxnL5zjQkBzis4spFxCQJANqmSx5EFAyBxsKRd7QUBym6iuThxBQJzqgE5ExkBApEBgcwZ6QEABGB818zVAQF70kcBk9T9A4GfNr3CKP0CcMXkTFyg/QNn8pUvCzz5Ad6XNzyiBPkCFgTRJIDw+QAnFjFge/j1AFPMcvXPGPUCq+6s7lZQ9QCYNqNj+Zz1An0PWZgFAPUCAOF6xJhw9QK/KiL4D/DxAfva14DffPEBUmb7Ta8U8QMWaWsBkrjxAeKGFOPuZPEC32LLjr4c8QPT3GCRLdzxA/hxz75poPECAo4hGcls8QESVYbioTzxAQ6Jz8BlFPEBvVAxPpTs8QDTJO4stMzxAuBCGXZgrPEChKqcyziQ8QF1/veW5HjxAcO43gUgZPEBJiO4FaRQ8QJJh1zcMEDxAEk/TbyQMPECjihhypQg8QF4cy0iEBTxAP0lcIrcCPEBQK1MzNQA8QPXqKJv2/TtABtPqS/T7O0BXqFv0J/o7QKRNVOyL+DtAsNIpIxv3O0AMoOQP0fU7QGOHGaOp9DtAWCI6OqHzO0CiIDaUtPI7QCn4Ssfg8TtA69/iNyPxO0CyIGeQefA7QEia7Lnh7ztA4umj1VnvO0Dv6/g24O47QClmT15z7jtAVoVM9BHuO0C2h57Fuu07QFlwNb9s7TtAtvrg6ibtO0B2Pkls6Ow7QFWLOH6w7DtAEgEucH7sO0DZSDGkUew7QDKg4Iwp7DtAVRuzqwXsO0CCp2mP5es7QAnoqdLI6ztAa4u+Gq/rO0CqK3kWmOs7QHg1Mn2D6ztAerDjDXHrO0DzFlyOYOs7QNq2hspR6ztAAFrHk0TrO0BtL2fAOOs7QGcmESsu6ztAZBxcsiTrO0AxamE4HOs7QBWEXqIU6ztAM4Ng2A3rO0DUjfjEB+s7QB0w+FQC6ztA7M80d/3qO0CkfFEc+eo7QBtwjjb16jtAnKedufHqO0DtC3ya7uo7QAiuTs/r6jtAbqpDT+nqO0BOUXYS5+o7QFc71hHl6jtAs/wQR+PqO0CoL36s4eo7QBWYDT3g6jtAKSc39N7qO0ASrezN3eo7QGMLjcbc6jtAyL/Y2tvqO0DmoucH2+o7QAe7H0va6jtAgAUtotnqO0AWHfoK2eo7QPOlqYPY6jtAoGqQCtjqO0BAFzCe1+o7QHiCMj3X6jtARnVl5tbqO0Ah5LaY1uo7QOGNMVPW6jtAZPX5FNbqO0CTrEvd1eo7QErodqvV6jtARVXeftXqO0B7J/VW1eo7QI5dPTPV6jtABzNGE9XqO0A8vKr21Oo7QMKnEN3U6jtARiEnxtTqO0BL0qWx1Oo7QOD9S5/U6jtAJ7TfjtTqO0B/Gy2A1Oo7QLfMBXPU6jtAq0BAZ9TqO0ANTbdc1Oo7QCKvSVPU6jtAuqLZStTqO0AphExD1Oo7QEJ8ijzU6jtABDV+NtTqO0BElhQx1Oo7QFiJPCzU6jtAM8PmJ9TqO0AblAUk1Oo7QGS8jCDU6jtA10VxHdTqO0AEYaka1Oo7QF9GLBjU6jtA\",\"dtype\":\"float64\",\"shape\":[150]},\"b\":[27.917297540474422,27.917297540474422,27.917297540474422,27.917297540474422,27.917297540474422,27.917297540474422,27.917297540474422,27.917297540474422,27.917297540474422,27.917297540474422,27.917297540474422,27.917297540474422,27.917297540474422,27.917297540474422,27.917297540474422,27.917297540474422,27.917297540474422,27.917297540474422,27.917297540474422,27.917297540474422,27.917297540474422,27.917297540474422,27.917297540474422,27.917297540474422,27.917297540474422,27.917297540474422,27.917297540474422,27.917297540474422,27.917297540474422,27.917297540474422,27.917297540474422,27.917297540474422,27.917297540474422,27.917297540474422,27.917297540474422,27.917297540474422,27.917297540474422,27.917297540474422,27.917297540474422,27.917297540474422,27.917297540474422,27.917297540474422,27.917297540474422,27.917297540474422,27.917297540474422,27.917297540474422,27.917297540474422,27.917297540474422,27.917297540474422,27.917297540474422,27.917297540474422,27.917297540474422,27.917297540474422,27.917297540474422,27.917297540474422,27.917297540474422,27.917297540474422,27.917297540474422,27.917297540474422,27.917297540474422,27.917297540474422,27.917297540474422,27.917297540474422,27.917297540474422,27.917297540474422,27.917297540474422,27.917297540474422,27.917297540474422,27.917297540474422,27.917297540474422,27.917297540474422,27.917297540474422,27.917297540474422,27.917297540474422,27.917297540474422,27.917297540474422,27.917297540474422,27.917297540474422,27.917297540474422,27.917297540474422,27.917297540474422,27.917297540474422,27.917297540474422,27.917297540474422,27.917297540474422,27.917297540474422,27.917297540474422,27.917297540474422,27.917297540474422,27.917297540474422,27.917297540474422,27.917297540474422,27.917297540474422,27.917297540474422,27.917297540474422,27.917297540474422,27.917297540474422,27.917297540474422,27.917297540474422,27.917297540474422,27.917297540474422,27.917297540474422,27.917297540474422,27.917297540474422,27.917297540474422,27.917297540474422,27.917297540474422,27.917297540474422,27.917297540474422,27.917297540474422,27.917297540474422,27.917297540474422,27.917297540474422,27.917297540474422,27.917297540474422,27.917297540474422,27.917297540474422,27.917297540474422,27.917297540474422,27.917297540474422,27.917297540474422,27.917297540474422,27.917297540474422,27.917297540474422,27.917297540474422,27.917297540474422,27.917297540474422,27.917297540474422,27.917297540474422,27.917297540474422,27.917297540474422,27.917297540474422,27.917297540474422,27.917297540474422,27.917297540474422,27.917297540474422,27.917297540474422,27.917297540474422,27.917297540474422,27.917297540474422,27.917297540474422,27.917297540474422,27.917297540474422,27.917297540474422,27.917297540474422,27.917297540474422,27.917297540474422,27.917297540474422,27.917297540474422,27.917297540474422],\"x\":[0,1,2,3,4,5,6,7,8,9,10,11,12,13,14,15,16,17,18,19,20,21,22,23,24,25,26,27,28,29,30,31,32,33,34,35,36,37,38,39,40,41,42,43,44,45,46,47,48,49,50,51,52,53,54,55,56,57,58,59,60,61,62,63,64,65,66,67,68,69,70,71,72,73,74,75,76,77,78,79,80,81,82,83,84,85,86,87,88,89,90,91,92,93,94,95,96,97,98,99,100,101,102,103,104,105,106,107,108,109,110,111,112,113,114,115,116,117,118,119,120,121,122,123,124,125,126,127,128,129,130,131,132,133,134,135,136,137,138,139,140,141,142,143,144,145,146,147,148,149]},\"selected\":{\"id\":\"1895\",\"type\":\"Selection\"},\"selection_policy\":{\"id\":\"1894\",\"type\":\"UnionRenderers\"}},\"id\":\"1834\",\"type\":\"ColumnDataSource\"},{\"attributes\":{\"label\":{\"value\":\"Steady state level\"},\"renderers\":[{\"id\":\"1822\",\"type\":\"GlyphRenderer\"}]},\"id\":\"1832\",\"type\":\"LegendItem\"},{\"attributes\":{\"below\":[{\"id\":\"1846\",\"type\":\"LinearAxis\"}],\"left\":[{\"id\":\"1851\",\"type\":\"LinearAxis\"}],\"plot_height\":450,\"plot_width\":450,\"renderers\":[{\"id\":\"1846\",\"type\":\"LinearAxis\"},{\"id\":\"1850\",\"type\":\"Grid\"},{\"id\":\"1851\",\"type\":\"LinearAxis\"},{\"id\":\"1855\",\"type\":\"Grid\"},{\"id\":\"1864\",\"type\":\"BoxAnnotation\"},{\"id\":\"1881\",\"type\":\"Legend\"},{\"id\":\"1873\",\"type\":\"GlyphRenderer\"},{\"id\":\"1886\",\"type\":\"GlyphRenderer\"}],\"title\":{\"id\":\"1835\",\"type\":\"Title\"},\"toolbar\":{\"id\":\"1861\",\"type\":\"Toolbar\"},\"x_range\":{\"id\":\"1838\",\"type\":\"DataRange1d\"},\"x_scale\":{\"id\":\"1842\",\"type\":\"LinearScale\"},\"y_range\":{\"id\":\"1840\",\"type\":\"DataRange1d\"},\"y_scale\":{\"id\":\"1844\",\"type\":\"LinearScale\"}},\"id\":\"1836\",\"subtype\":\"Figure\",\"type\":\"Plot\"},{\"attributes\":{\"plot\":null,\"text\":\"Evolution of the savings rate\"},\"id\":\"1835\",\"type\":\"Title\"},{\"attributes\":{\"callback\":null},\"id\":\"1838\",\"type\":\"DataRange1d\"},{\"attributes\":{\"callback\":null},\"id\":\"1840\",\"type\":\"DataRange1d\"},{\"attributes\":{},\"id\":\"1842\",\"type\":\"LinearScale\"},{\"attributes\":{},\"id\":\"1844\",\"type\":\"LinearScale\"},{\"attributes\":{\"axis_label\":\"T\",\"formatter\":{\"id\":\"1879\",\"type\":\"BasicTickFormatter\"},\"plot\":{\"id\":\"1836\",\"subtype\":\"Figure\",\"type\":\"Plot\"},\"ticker\":{\"id\":\"1847\",\"type\":\"BasicTicker\"}},\"id\":\"1846\",\"type\":\"LinearAxis\"},{\"attributes\":{},\"id\":\"1847\",\"type\":\"BasicTicker\"},{\"attributes\":{\"plot\":{\"id\":\"1836\",\"subtype\":\"Figure\",\"type\":\"Plot\"},\"ticker\":{\"id\":\"1847\",\"type\":\"BasicTicker\"}},\"id\":\"1850\",\"type\":\"Grid\"},{\"attributes\":{\"axis_label\":\"Savings rate\",\"formatter\":{\"id\":\"1877\",\"type\":\"BasicTickFormatter\"},\"plot\":{\"id\":\"1836\",\"subtype\":\"Figure\",\"type\":\"Plot\"},\"ticker\":{\"id\":\"1852\",\"type\":\"BasicTicker\"}},\"id\":\"1851\",\"type\":\"LinearAxis\"},{\"attributes\":{},\"id\":\"1852\",\"type\":\"BasicTicker\"},{\"attributes\":{\"dimension\":1,\"plot\":{\"id\":\"1836\",\"subtype\":\"Figure\",\"type\":\"Plot\"},\"ticker\":{\"id\":\"1852\",\"type\":\"BasicTicker\"}},\"id\":\"1855\",\"type\":\"Grid\"},{\"attributes\":{\"items\":[{\"id\":\"1882\",\"type\":\"LegendItem\"},{\"id\":\"1896\",\"type\":\"LegendItem\"}],\"location\":\"top_center\",\"plot\":{\"id\":\"1836\",\"subtype\":\"Figure\",\"type\":\"Plot\"}},\"id\":\"1881\",\"type\":\"Legend\"},{\"attributes\":{\"active_drag\":\"auto\",\"active_inspect\":\"auto\",\"active_multi\":null,\"active_scroll\":\"auto\",\"active_tap\":\"auto\",\"tools\":[{\"id\":\"1833\",\"type\":\"HoverTool\"},{\"id\":\"1856\",\"type\":\"PanTool\"},{\"id\":\"1857\",\"type\":\"WheelZoomTool\"},{\"id\":\"1858\",\"type\":\"BoxZoomTool\"},{\"id\":\"1859\",\"type\":\"ResetTool\"},{\"id\":\"1860\",\"type\":\"SaveTool\"}]},\"id\":\"1861\",\"type\":\"Toolbar\"},{\"attributes\":{},\"id\":\"1857\",\"type\":\"WheelZoomTool\"},{\"attributes\":{},\"id\":\"1856\",\"type\":\"PanTool\"},{\"attributes\":{\"line_color\":\"red\",\"x\":{\"field\":\"x\"},\"y\":{\"field\":\"a\"}},\"id\":\"1871\",\"type\":\"Line\"},{\"attributes\":{\"overlay\":{\"id\":\"1864\",\"type\":\"BoxAnnotation\"}},\"id\":\"1858\",\"type\":\"BoxZoomTool\"},{\"attributes\":{},\"id\":\"1859\",\"type\":\"ResetTool\"},{\"attributes\":{},\"id\":\"1860\",\"type\":\"SaveTool\"},{\"attributes\":{\"bottom_units\":\"screen\",\"fill_alpha\":{\"value\":0.5},\"fill_color\":{\"value\":\"lightgrey\"},\"left_units\":\"screen\",\"level\":\"overlay\",\"line_alpha\":{\"value\":1.0},\"line_color\":{\"value\":\"black\"},\"line_dash\":[4,4],\"line_width\":{\"value\":2},\"plot\":null,\"render_mode\":\"css\",\"right_units\":\"screen\",\"top_units\":\"screen\"},\"id\":\"1864\",\"type\":\"BoxAnnotation\"},{\"attributes\":{\"line_alpha\":0.1,\"line_color\":\"#1f77b4\",\"x\":{\"field\":\"x\"},\"y\":{\"field\":\"a\"}},\"id\":\"1872\",\"type\":\"Line\"},{\"attributes\":{},\"id\":\"1879\",\"type\":\"BasicTickFormatter\"},{\"attributes\":{\"label\":{\"value\":\"Model\"},\"renderers\":[{\"id\":\"1873\",\"type\":\"GlyphRenderer\"}]},\"id\":\"1882\",\"type\":\"LegendItem\"},{\"attributes\":{},\"id\":\"1894\",\"type\":\"UnionRenderers\"},{\"attributes\":{\"line_color\":\"blue\",\"x\":{\"field\":\"x\"},\"y\":{\"field\":\"b\"}},\"id\":\"1884\",\"type\":\"Line\"},{\"attributes\":{\"line_alpha\":0.1,\"line_color\":\"#1f77b4\",\"x\":{\"field\":\"x\"},\"y\":{\"field\":\"b\"}},\"id\":\"1885\",\"type\":\"Line\"},{\"attributes\":{\"data_source\":{\"id\":\"1834\",\"type\":\"ColumnDataSource\"},\"glyph\":{\"id\":\"1884\",\"type\":\"Line\"},\"hover_glyph\":null,\"muted_glyph\":null,\"nonselection_glyph\":{\"id\":\"1885\",\"type\":\"Line\"},\"selection_glyph\":null,\"view\":{\"id\":\"1887\",\"type\":\"CDSView\"}},\"id\":\"1886\",\"type\":\"GlyphRenderer\"},{\"attributes\":{\"source\":{\"id\":\"1834\",\"type\":\"ColumnDataSource\"}},\"id\":\"1887\",\"type\":\"CDSView\"},{\"attributes\":{\"callback\":null},\"id\":\"1760\",\"type\":\"DataRange1d\"},{\"attributes\":{\"callback\":null},\"id\":\"1762\",\"type\":\"DataRange1d\"},{\"attributes\":{},\"id\":\"1764\",\"type\":\"LinearScale\"},{\"attributes\":{},\"id\":\"1766\",\"type\":\"LinearScale\"},{\"attributes\":{\"axis_label\":\"T\",\"formatter\":{\"id\":\"1801\",\"type\":\"BasicTickFormatter\"},\"plot\":{\"id\":\"1758\",\"subtype\":\"Figure\",\"type\":\"Plot\"},\"ticker\":{\"id\":\"1769\",\"type\":\"BasicTicker\"}},\"id\":\"1768\",\"type\":\"LinearAxis\"},{\"attributes\":{},\"id\":\"1769\",\"type\":\"BasicTicker\"},{\"attributes\":{\"plot\":{\"id\":\"1758\",\"subtype\":\"Figure\",\"type\":\"Plot\"},\"ticker\":{\"id\":\"1769\",\"type\":\"BasicTicker\"}},\"id\":\"1772\",\"type\":\"Grid\"},{\"attributes\":{\"axis_label\":\"Capital pr. capita\",\"formatter\":{\"id\":\"1799\",\"type\":\"BasicTickFormatter\"},\"plot\":{\"id\":\"1758\",\"subtype\":\"Figure\",\"type\":\"Plot\"},\"ticker\":{\"id\":\"1774\",\"type\":\"BasicTicker\"}},\"id\":\"1773\",\"type\":\"LinearAxis\"},{\"attributes\":{},\"id\":\"1774\",\"type\":\"BasicTicker\"},{\"attributes\":{\"dimension\":1,\"plot\":{\"id\":\"1758\",\"subtype\":\"Figure\",\"type\":\"Plot\"},\"ticker\":{\"id\":\"1774\",\"type\":\"BasicTicker\"}},\"id\":\"1777\",\"type\":\"Grid\"},{\"attributes\":{\"line_color\":\"red\",\"x\":{\"field\":\"x\"},\"y\":{\"field\":\"a\"}},\"id\":\"1793\",\"type\":\"Line\"},{\"attributes\":{},\"id\":\"1778\",\"type\":\"PanTool\"},{\"attributes\":{\"callback\":null,\"tooltips\":[[\"T\",\"@x{0,0.00}\"],[\"Savings rate for Model\",\"@a{0.00} %\"],[\"Savings rate for Steady state/Fixed\",\"@b{0.00} %\"]]},\"id\":\"1833\",\"type\":\"HoverTool\"},{\"attributes\":{},\"id\":\"1779\",\"type\":\"WheelZoomTool\"},{\"attributes\":{\"items\":[{\"id\":\"1804\",\"type\":\"LegendItem\"},{\"id\":\"1818\",\"type\":\"LegendItem\"},{\"id\":\"1832\",\"type\":\"LegendItem\"}],\"location\":\"bottom_center\",\"plot\":{\"id\":\"1758\",\"subtype\":\"Figure\",\"type\":\"Plot\"}},\"id\":\"1803\",\"type\":\"Legend\"},{\"attributes\":{\"overlay\":{\"id\":\"1786\",\"type\":\"BoxAnnotation\"}},\"id\":\"1780\",\"type\":\"BoxZoomTool\"},{\"attributes\":{},\"id\":\"1781\",\"type\":\"ResetTool\"},{\"attributes\":{},\"id\":\"1782\",\"type\":\"SaveTool\"},{\"attributes\":{\"active_drag\":\"auto\",\"active_inspect\":\"auto\",\"active_multi\":null,\"active_scroll\":\"auto\",\"active_tap\":\"auto\",\"tools\":[{\"id\":\"1755\",\"type\":\"HoverTool\"},{\"id\":\"1778\",\"type\":\"PanTool\"},{\"id\":\"1779\",\"type\":\"WheelZoomTool\"},{\"id\":\"1780\",\"type\":\"BoxZoomTool\"},{\"id\":\"1781\",\"type\":\"ResetTool\"},{\"id\":\"1782\",\"type\":\"SaveTool\"}]},\"id\":\"1783\",\"type\":\"Toolbar\"},{\"attributes\":{\"line_alpha\":0.1,\"line_color\":\"#1f77b4\",\"x\":{\"field\":\"x\"},\"y\":{\"field\":\"a\"}},\"id\":\"1794\",\"type\":\"Line\"},{\"attributes\":{\"data_source\":{\"id\":\"1834\",\"type\":\"ColumnDataSource\"},\"glyph\":{\"id\":\"1871\",\"type\":\"Line\"},\"hover_glyph\":null,\"muted_glyph\":null,\"nonselection_glyph\":{\"id\":\"1872\",\"type\":\"Line\"},\"selection_glyph\":null,\"view\":{\"id\":\"1874\",\"type\":\"CDSView\"}},\"id\":\"1873\",\"type\":\"GlyphRenderer\"},{\"attributes\":{\"bottom_units\":\"screen\",\"fill_alpha\":{\"value\":0.5},\"fill_color\":{\"value\":\"lightgrey\"},\"left_units\":\"screen\",\"level\":\"overlay\",\"line_alpha\":{\"value\":1.0},\"line_color\":{\"value\":\"black\"},\"line_dash\":[4,4],\"line_width\":{\"value\":2},\"plot\":null,\"render_mode\":\"css\",\"right_units\":\"screen\",\"top_units\":\"screen\"},\"id\":\"1786\",\"type\":\"BoxAnnotation\"},{\"attributes\":{\"data_source\":{\"id\":\"1756\",\"type\":\"ColumnDataSource\"},\"glyph\":{\"id\":\"1793\",\"type\":\"Line\"},\"hover_glyph\":null,\"muted_glyph\":null,\"nonselection_glyph\":{\"id\":\"1794\",\"type\":\"Line\"},\"selection_glyph\":null,\"view\":{\"id\":\"1796\",\"type\":\"CDSView\"}},\"id\":\"1795\",\"type\":\"GlyphRenderer\"},{\"attributes\":{\"source\":{\"id\":\"1756\",\"type\":\"ColumnDataSource\"}},\"id\":\"1796\",\"type\":\"CDSView\"},{\"attributes\":{},\"id\":\"1799\",\"type\":\"BasicTickFormatter\"},{\"attributes\":{},\"id\":\"1801\",\"type\":\"BasicTickFormatter\"},{\"attributes\":{\"label\":{\"value\":\"Model path\"},\"renderers\":[{\"id\":\"1795\",\"type\":\"GlyphRenderer\"}]},\"id\":\"1804\",\"type\":\"LegendItem\"},{\"attributes\":{},\"id\":\"1877\",\"type\":\"BasicTickFormatter\"},{\"attributes\":{\"line_color\":\"blue\",\"x\":{\"field\":\"x\"},\"y\":{\"field\":\"b\"}},\"id\":\"1806\",\"type\":\"Line\"},{\"attributes\":{\"line_alpha\":0.1,\"line_color\":\"#1f77b4\",\"x\":{\"field\":\"x\"},\"y\":{\"field\":\"b\"}},\"id\":\"1807\",\"type\":\"Line\"},{\"attributes\":{\"data_source\":{\"id\":\"1756\",\"type\":\"ColumnDataSource\"},\"glyph\":{\"id\":\"1806\",\"type\":\"Line\"},\"hover_glyph\":null,\"muted_glyph\":null,\"nonselection_glyph\":{\"id\":\"1807\",\"type\":\"Line\"},\"selection_glyph\":null,\"view\":{\"id\":\"1809\",\"type\":\"CDSView\"}},\"id\":\"1808\",\"type\":\"GlyphRenderer\"},{\"attributes\":{\"source\":{\"id\":\"1756\",\"type\":\"ColumnDataSource\"}},\"id\":\"1809\",\"type\":\"CDSView\"},{\"attributes\":{},\"id\":\"1816\",\"type\":\"UnionRenderers\"},{\"attributes\":{\"callback\":null,\"data\":{\"a\":{\"__ndarray__\":\"AAAAAAAAFEB6BZyruhEWQKcg8od1+hdA1wv6NYy7GUCK0ossKFYbQLF25rx6zBxAcSvt1t4gHkBZTwmhXVUfQPP+iyZeNiBAE/jBlrS0IECfrMRo8CYhQOGNJrQUjiFAgfKYWQLrIUC72JKQtj4iQKqzreIOiiJAJawDCvjNIkC9seWkHAsjQJle9rkGQiNACp7um05zI0CR4QN4h58jQAaLuitAxyNAXRwC++jqI0CcAMdA6AokQGAItfebJyRADplnDlpBJEC5fYCcblgkQL87134ebSRARzhZ8ad/JED83+ogQ5AkQHgghLQinyRAZ+eMKHWsJEB1OIS+ZbgkQLcZvMIYwyRAw4fa3a7MJEB0neptRdUkQCg4z9f23CRAtp2M0drjJECSYeOlBuokQLeyt3GN7yRAJWK+W4D0JEB5IeXG7vgkQMxQ5n/m/CRAtq1y5nMAJUDDr1QSogMlQACf6vR6BiVA5qpNdwcJJUDjoHWVTwslQItzonZaDSVAzqBOgy4PJUBBued40RAlQBXbhHtIEiVATOPNJZgTJUCCZ0GXxBQlQHU3A4HRFSVAyCxZMcIWJUBkbPidmRclQMTqQW1aGCVAZP6J/gYZJUCHC4RxoRklQDXW6KwrGiVA+8RrZKcaJUCHUxEeFhslQMob9zZ5GyVAeTGc59EbJUAkC7dHIRwlQJLZpFFoHCVA+fV85accJUAS99HL4BwlQHQAKbgTHSVAA/0uS0EdJUBTqbIUah0lQPGbaZWOHSVAYtWFQK8dJUALziB9zB0lQGF0gKfmHSVA0BY6Ev4dJUCwyjYHEx4lQE2CnMglHiVAja6ekTYeJUA5/DiXRR4lQGJ41ghTHiVA0ynnEF8eJUCX9mXVaR4lQBd7UHhzHiVAbEwSGHweJUC/9+TPgx4lQD/tJbiKHiVAhmWj5pAeJUDJM+Fulh4lQN1dVmKbHiVAPTyk0J8eJUD9z8fHox4lQD7qRVSnHiVAZ7BSgaoeJUDT+fRYrR4lQJf2JeSvHiVAFIPtKrIeJUDugXs0tB4lQDOMPge2HiVAfz/4qLceJUD/ac8euR4lQNJNYG26HiVADi/LmLseJUBeWsGkvB4lQE3NkJS9HiVAEKUua74eJUDNdEArvx4lQLCgJNe/HiVAXtj5cMAeJUA/yKX6wB4lQMoW23XBHiVAxcAe5MEeJUBU5cxGwh4lQAwRHZ/CHiVAhRUm7sIeJUCieeE0wx4lQFyNLnTDHiVAxSrVrMMeJUAALYjfwx4lQOuk5wzEHiVAe9KCNcQeJUAA6dlZxB4lQOCjX3rEHiVA1rB6l8QeJUAZ9IaxxB4lQH+q1sjEHiVAGW2z3cQeJUCYGV/wxB4lQDuiFAHFHiVA58cIEMUeJUC6wGodxR4lQBLNZCnFHiVA/LwcNMUeJUCJZ7Q9xR4lQLEVSkbFHiVA5eH4TcUeJUCsDdlUxR4lQC9OAFvFHiVAwxCCYMUeJUBFuG9lxR4lQPjT2GnFHiVApFDLbcUeJUCPpFNxxR4lQNz2fHTFHiVAtUJRd8UeJUDRdtl5xR4lQLCRHXzFHiVAz7okfsUeJUBDWfV/xR4lQO4nlYHFHiVA\",\"dtype\":\"float64\",\"shape\":[150]},\"b\":{\"__ndarray__\":\"AAAAAAAAFECW+r50Wr4UQOT2ltiwdxVAquaPfgIsFkB+t8dTU9sWQP8C6TqrhRdASdj2exUrGEBbb7NFoMsYQANiVD5cZxlABPGPIVz+GUDWFVhqtJAaQCzY1AZ7HhtANApiFcenG0DVGH+psCwcQFOHw5dQrRxAcigJSMApHUBqJBeNGaIdQP4eL4F2Fh5A+vbwZvGGHkCYIhqOpPMeQGMBtDuqXB9AgvNQlRzCH0Adc4HHChIgQLvE321XQSBA6V337wBvIEATifPSE5sgQB9tEWqcxSBAZth+0qbuIEBF6ufvPhYhQKBvoGlwPCFAicZXqEZhIUCG5EfUzIQhQDOx0dMNpyFAx1F6ShTIIUAtRj6Y6uchQNtaMNmaBiJA03Zb5S4kIkCZNt9QsEAiQLIWQGwoXCJAx6zkRKB2IkDfF7qlIJAiQAVp+heyqCJAAE8Q5FzAIkCfy5MSKdciQCApXG0e7SJAoMqjgEQCI0DVzTqcohYjQDbGxdQ/KiNA+CMGBSM9I0A7HCrPUk8jQDskIp7VYCNA/Ef6prFxI0BF1jXq7IEjQFEILDWNkSNA3nNkI5igI0CTOvIfE68jQIkKzWYDvSNAcSEnBm7KI0BGnr/fV9cjQNyFMKrF4yNADfQ38rvvI0DOBvwbP/sjQD4iSWRTBiRALTzK4fwQJEAH7DqGPxskQLQIkx8fJSRARqkrWZ8uJECPZ928wzckQM7MF7SPQCRAn9jxiAZJJEC9mTNnK1EkQELWWF0BWSRA88aMXYtgJEAE7p4+zGckQB4W8bzGbiRARopee311JECpmhwE83skQBuFlMkpgiRArNo2JySIJEC5fUhi5I0kQM9VqapskyRACdiUG7+YJEAEhFy83Z0kQEJ2HIHKoiRA2jFqS4enJEDHw/3qFawkQKJiVR54sCRAxq1Tk6+0JEATr9jnvbgkQI3CVaqkvCRA0oZcWmXAJEBp+ShpAcQkQHfhJjp6xyRAPKtyI9HKJEAR1lVuB84kQH4Wv1ce0SRAMk22EBfUJEA+c8y+8tYkQGGbh3yy2SRAgifLWVfcJEDdUDxc4t4kQNwgo39U4SRAnfdHtq7jJEDkvE3p8eUkQBXXCPke6CRAiANTvTbqJECRKtwFOuwkQPpIeJop7iRAEohqOwbwJECJnK2h0PEkQPmDOX+J8yRA+bdGfzH1JEAd7Y5GyfYkQI9zi3NR+CRAXU6xnsr5JEC7FataNfskQCS4kDSS/CRAZy0dtOH9JEBBLuJbJP8kQGkCeqlaACVAiXa3FYUBJUDdCtQUpAIlQNJqnBa4AyVAZD2bhsEEJUBmXULMwAUlQICIEku2BiVABJPBYqIHJUBxLl9vhQglQNlPeMlfCSVAAUM5xjEKJUCldo63+wolQMcNROy9CyVAoEEksHgMJUBOnxRMLA0lQAUsMgbZDSVAG3rsIX8OJUD8uB/gHg8lQJzJLX+4DyVAzGAWO0wQJUBVQI5N2hAlQJWPFe5iESVA61sNUuYRJUABScysZBIlQLp4si/eEiVAMrI8ClMTJUAQzxZqwxMlQCB2LXsvFCVA0Cm/Z5cUJUAXsWxY+xQlQPngSHRbFSVA\",\"dtype\":\"float64\",\"shape\":[150]},\"c\":[10.560101014940885,10.560101014940885,10.560101014940885,10.560101014940885,10.560101014940885,10.560101014940885,10.560101014940885,10.560101014940885,10.560101014940885,10.560101014940885,10.560101014940885,10.560101014940885,10.560101014940885,10.560101014940885,10.560101014940885,10.560101014940885,10.560101014940885,10.560101014940885,10.560101014940885,10.560101014940885,10.560101014940885,10.560101014940885,10.560101014940885,10.560101014940885,10.560101014940885,10.560101014940885,10.560101014940885,10.560101014940885,10.560101014940885,10.560101014940885,10.560101014940885,10.560101014940885,10.560101014940885,10.560101014940885,10.560101014940885,10.560101014940885,10.560101014940885,10.560101014940885,10.560101014940885,10.560101014940885,10.560101014940885,10.560101014940885,10.560101014940885,10.560101014940885,10.560101014940885,10.560101014940885,10.560101014940885,10.560101014940885,10.560101014940885,10.560101014940885,10.560101014940885,10.560101014940885,10.560101014940885,10.560101014940885,10.560101014940885,10.560101014940885,10.560101014940885,10.560101014940885,10.560101014940885,10.560101014940885,10.560101014940885,10.560101014940885,10.560101014940885,10.560101014940885,10.560101014940885,10.560101014940885,10.560101014940885,10.560101014940885,10.560101014940885,10.560101014940885,10.560101014940885,10.560101014940885,10.560101014940885,10.560101014940885,10.560101014940885,10.560101014940885,10.560101014940885,10.560101014940885,10.560101014940885,10.560101014940885,10.560101014940885,10.560101014940885,10.560101014940885,10.560101014940885,10.560101014940885,10.560101014940885,10.560101014940885,10.560101014940885,10.560101014940885,10.560101014940885,10.560101014940885,10.560101014940885,10.560101014940885,10.560101014940885,10.560101014940885,10.560101014940885,10.560101014940885,10.560101014940885,10.560101014940885,10.560101014940885,10.560101014940885,10.560101014940885,10.560101014940885,10.560101014940885,10.560101014940885,10.560101014940885,10.560101014940885,10.560101014940885,10.560101014940885,10.560101014940885,10.560101014940885,10.560101014940885,10.560101014940885,10.560101014940885,10.560101014940885,10.560101014940885,10.560101014940885,10.560101014940885,10.560101014940885,10.560101014940885,10.560101014940885,10.560101014940885,10.560101014940885,10.560101014940885,10.560101014940885,10.560101014940885,10.560101014940885,10.560101014940885,10.560101014940885,10.560101014940885,10.560101014940885,10.560101014940885,10.560101014940885,10.560101014940885,10.560101014940885,10.560101014940885,10.560101014940885,10.560101014940885,10.560101014940885,10.560101014940885,10.560101014940885,10.560101014940885,10.560101014940885,10.560101014940885,10.560101014940885,10.560101014940885,10.560101014940885,10.560101014940885,10.560101014940885,10.560101014940885],\"x\":[0,1,2,3,4,5,6,7,8,9,10,11,12,13,14,15,16,17,18,19,20,21,22,23,24,25,26,27,28,29,30,31,32,33,34,35,36,37,38,39,40,41,42,43,44,45,46,47,48,49,50,51,52,53,54,55,56,57,58,59,60,61,62,63,64,65,66,67,68,69,70,71,72,73,74,75,76,77,78,79,80,81,82,83,84,85,86,87,88,89,90,91,92,93,94,95,96,97,98,99,100,101,102,103,104,105,106,107,108,109,110,111,112,113,114,115,116,117,118,119,120,121,122,123,124,125,126,127,128,129,130,131,132,133,134,135,136,137,138,139,140,141,142,143,144,145,146,147,148,149]},\"selected\":{\"id\":\"1817\",\"type\":\"Selection\"},\"selection_policy\":{\"id\":\"1816\",\"type\":\"UnionRenderers\"}},\"id\":\"1756\",\"type\":\"ColumnDataSource\"},{\"attributes\":{},\"id\":\"1817\",\"type\":\"Selection\"},{\"attributes\":{\"callback\":null,\"tooltips\":[[\"T\",\"@x{0,0.00}\"],[\"Capital pr. capita for Model path\",\"@a{0.00}\"],[\"Capital pr. capita for Fixed Savings rate\",\"@b{0.00}\"],[\"Capital pr. capita for Steady state level\",\"@c{0.00}\"]]},\"id\":\"1755\",\"type\":\"HoverTool\"},{\"attributes\":{\"label\":{\"value\":\"Fixed Savings rate\"},\"renderers\":[{\"id\":\"1808\",\"type\":\"GlyphRenderer\"}]},\"id\":\"1818\",\"type\":\"LegendItem\"},{\"attributes\":{\"below\":[{\"id\":\"1768\",\"type\":\"LinearAxis\"}],\"left\":[{\"id\":\"1773\",\"type\":\"LinearAxis\"}],\"plot_height\":450,\"plot_width\":450,\"renderers\":[{\"id\":\"1768\",\"type\":\"LinearAxis\"},{\"id\":\"1772\",\"type\":\"Grid\"},{\"id\":\"1773\",\"type\":\"LinearAxis\"},{\"id\":\"1777\",\"type\":\"Grid\"},{\"id\":\"1786\",\"type\":\"BoxAnnotation\"},{\"id\":\"1803\",\"type\":\"Legend\"},{\"id\":\"1795\",\"type\":\"GlyphRenderer\"},{\"id\":\"1808\",\"type\":\"GlyphRenderer\"},{\"id\":\"1822\",\"type\":\"GlyphRenderer\"}],\"title\":{\"id\":\"1757\",\"type\":\"Title\"},\"toolbar\":{\"id\":\"1783\",\"type\":\"Toolbar\"},\"x_range\":{\"id\":\"1760\",\"type\":\"DataRange1d\"},\"x_scale\":{\"id\":\"1764\",\"type\":\"LinearScale\"},\"y_range\":{\"id\":\"1762\",\"type\":\"DataRange1d\"},\"y_scale\":{\"id\":\"1766\",\"type\":\"LinearScale\"}},\"id\":\"1758\",\"subtype\":\"Figure\",\"type\":\"Plot\"},{\"attributes\":{\"plot\":null,\"text\":\"Evolution of capital\"},\"id\":\"1757\",\"type\":\"Title\"},{\"attributes\":{\"source\":{\"id\":\"1834\",\"type\":\"ColumnDataSource\"}},\"id\":\"1874\",\"type\":\"CDSView\"},{\"attributes\":{\"line_color\":\"green\",\"x\":{\"field\":\"x\"},\"y\":{\"field\":\"c\"}},\"id\":\"1820\",\"type\":\"Line\"}],\"root_ids\":[\"1897\"]},\"title\":\"Bokeh Application\",\"version\":\"1.0.2\"}};\n",
       "  var render_items = [{\"docid\":\"b13217ed-31c7-43d6-9892-e0bf52ced5b4\",\"notebook_comms_target\":\"1958\",\"roots\":{\"1897\":\"f7b2465a-a680-47b6-ab4d-256ce29e2752\"}}];\n",
       "  root.Bokeh.embed.embed_items_notebook(docs_json, render_items);\n",
       "\n",
       "  }\n",
       "  if (root.Bokeh !== undefined) {\n",
       "    embed_document(root);\n",
       "  } else {\n",
       "    var attempts = 0;\n",
       "    var timer = setInterval(function(root) {\n",
       "      if (root.Bokeh !== undefined) {\n",
       "        embed_document(root);\n",
       "        clearInterval(timer);\n",
       "      }\n",
       "      attempts++;\n",
       "      if (attempts > 100) {\n",
       "        console.log(\"Bokeh: ERROR: Unable to run BokehJS code because BokehJS library is missing\");\n",
       "        clearInterval(timer);\n",
       "      }\n",
       "    }, 10, root)\n",
       "  }\n",
       "})(window);"
      ],
      "application/vnd.bokehjs_exec.v0+json": ""
     },
     "metadata": {
      "application/vnd.bokehjs_exec.v0+json": {
       "id": "1897"
      }
     },
     "output_type": "display_data"
    },
    {
     "data": {
      "text/html": [
       "<p><code>&lt;Bokeh Notebook handle for <strong>In[13]</strong>&gt;</code></p>"
      ],
      "text/plain": [
       "<bokeh.io.notebook.CommsHandle at 0x127bcc278>"
      ]
     },
     "execution_count": 13,
     "metadata": {},
     "output_type": "execute_result"
    }
   ],
   "source": [
    "# Again plotting with the help of bokeh:\n",
    "# These are the ones that are shown:\n",
    "y_names = ['Model path', 'Fixed Savings rate','Steady state level']\n",
    "\n",
    "ys = [k_pr ,trad_k_pr, [k_star for i in range(timeline)]]\n",
    "\n",
    "p1 = model_funcs.plotting(\"T\",y_names, range(timeline), ys, \n",
    "                     y_name= 'Capital pr. capita',legendlocation ='bottom_center',\n",
    "                    title = 'Evolution of capital')\n",
    "\n",
    "ys2 = [sk_path*100, [sk_star*100 for i in range(timeline)]]\n",
    "\n",
    "p2 = model_funcs.plotting(\"T\",['Model','Steady state/Fixed'], range(timeline), ys2,\n",
    "                     y_name= 'Savings rate',legendlocation ='top_center',\n",
    "                    title = 'Evolution of the savings rate',y_unit=' %')\n",
    "\n",
    "show(row(p1,p2),notebook_handle=True)"
   ]
  },
  {
   "cell_type": "markdown",
   "metadata": {},
   "source": [
    "Thus we see the faster convergence to the same steady state. we get the same result if our intial $k_{0}>k^{*}$. Lets try with $k_{0}=25$ implying that in the first period, the representative household will actually not want to save any money for the future in the first period."
   ]
  },
  {
   "cell_type": "code",
   "execution_count": 14,
   "metadata": {},
   "outputs": [],
   "source": [
    "k0 = 25\n",
    "# Exactly the same as before\n",
    "k_star, sk_star = model_funcs.find_ss_interp(sk_interpers[1], a, n, delta, alpha)\n",
    "\n",
    "trad_k_pr, trad_y_pr = model_funcs.solowwalk(\n",
    "    k0, a, l0, n, sk_star, alpha, delta,timeline)\n",
    "\n",
    "k_pr, y_pr, sk_path = model_funcs.new_mod_solowwalk(\n",
    "    k0, l0, a,n, alpha, delta, sk_interpers[1], timeline)"
   ]
  },
  {
   "cell_type": "code",
   "execution_count": 15,
   "metadata": {},
   "outputs": [
    {
     "data": {
      "text/html": [
       "\n",
       "\n",
       "\n",
       "\n",
       "\n",
       "\n",
       "  <div class=\"bk-root\" id=\"b8a39f20-2180-449c-8553-333ba9c79e29\"></div>\n"
      ]
     },
     "metadata": {},
     "output_type": "display_data"
    },
    {
     "data": {
      "application/javascript": [
       "(function(root) {\n",
       "  function embed_document(root) {\n",
       "    \n",
       "  var docs_json = {\"104268ca-3c8a-4407-b0a5-e3747619f6f6\":{\"roots\":{\"references\":[{\"attributes\":{\"children\":[{\"id\":\"2058\",\"subtype\":\"Figure\",\"type\":\"Plot\"},{\"id\":\"2136\",\"subtype\":\"Figure\",\"type\":\"Plot\"}]},\"id\":\"2197\",\"type\":\"Row\"},{\"attributes\":{\"line_color\":\"red\",\"x\":{\"field\":\"x\"},\"y\":{\"field\":\"a\"}},\"id\":\"2093\",\"type\":\"Line\"},{\"attributes\":{\"source\":{\"id\":\"2056\",\"type\":\"ColumnDataSource\"}},\"id\":\"2109\",\"type\":\"CDSView\"},{\"attributes\":{\"line_alpha\":0.1,\"line_color\":\"#1f77b4\",\"x\":{\"field\":\"x\"},\"y\":{\"field\":\"a\"}},\"id\":\"2094\",\"type\":\"Line\"},{\"attributes\":{},\"id\":\"2078\",\"type\":\"PanTool\"},{\"attributes\":{},\"id\":\"2079\",\"type\":\"WheelZoomTool\"},{\"attributes\":{},\"id\":\"2069\",\"type\":\"BasicTicker\"},{\"attributes\":{\"overlay\":{\"id\":\"2086\",\"type\":\"BoxAnnotation\"}},\"id\":\"2080\",\"type\":\"BoxZoomTool\"},{\"attributes\":{},\"id\":\"2081\",\"type\":\"ResetTool\"},{\"attributes\":{},\"id\":\"2082\",\"type\":\"SaveTool\"},{\"attributes\":{\"active_drag\":\"auto\",\"active_inspect\":\"auto\",\"active_multi\":null,\"active_scroll\":\"auto\",\"active_tap\":\"auto\",\"tools\":[{\"id\":\"2055\",\"type\":\"HoverTool\"},{\"id\":\"2078\",\"type\":\"PanTool\"},{\"id\":\"2079\",\"type\":\"WheelZoomTool\"},{\"id\":\"2080\",\"type\":\"BoxZoomTool\"},{\"id\":\"2081\",\"type\":\"ResetTool\"},{\"id\":\"2082\",\"type\":\"SaveTool\"}]},\"id\":\"2083\",\"type\":\"Toolbar\"},{\"attributes\":{\"bottom_units\":\"screen\",\"fill_alpha\":{\"value\":0.5},\"fill_color\":{\"value\":\"lightgrey\"},\"left_units\":\"screen\",\"level\":\"overlay\",\"line_alpha\":{\"value\":1.0},\"line_color\":{\"value\":\"black\"},\"line_dash\":[4,4],\"line_width\":{\"value\":2},\"plot\":null,\"render_mode\":\"css\",\"right_units\":\"screen\",\"top_units\":\"screen\"},\"id\":\"2086\",\"type\":\"BoxAnnotation\"},{\"attributes\":{\"data_source\":{\"id\":\"2056\",\"type\":\"ColumnDataSource\"},\"glyph\":{\"id\":\"2093\",\"type\":\"Line\"},\"hover_glyph\":null,\"muted_glyph\":null,\"nonselection_glyph\":{\"id\":\"2094\",\"type\":\"Line\"},\"selection_glyph\":null,\"view\":{\"id\":\"2096\",\"type\":\"CDSView\"}},\"id\":\"2095\",\"type\":\"GlyphRenderer\"},{\"attributes\":{\"source\":{\"id\":\"2056\",\"type\":\"ColumnDataSource\"}},\"id\":\"2096\",\"type\":\"CDSView\"},{\"attributes\":{},\"id\":\"2099\",\"type\":\"BasicTickFormatter\"},{\"attributes\":{},\"id\":\"2101\",\"type\":\"BasicTickFormatter\"},{\"attributes\":{\"items\":[{\"id\":\"2104\",\"type\":\"LegendItem\"},{\"id\":\"2118\",\"type\":\"LegendItem\"},{\"id\":\"2132\",\"type\":\"LegendItem\"}],\"location\":\"top_center\",\"plot\":{\"id\":\"2058\",\"subtype\":\"Figure\",\"type\":\"Plot\"}},\"id\":\"2103\",\"type\":\"Legend\"},{\"attributes\":{\"label\":{\"value\":\"Model_path\"},\"renderers\":[{\"id\":\"2095\",\"type\":\"GlyphRenderer\"}]},\"id\":\"2104\",\"type\":\"LegendItem\"},{\"attributes\":{\"data_source\":{\"id\":\"2056\",\"type\":\"ColumnDataSource\"},\"glyph\":{\"id\":\"2106\",\"type\":\"Line\"},\"hover_glyph\":null,\"muted_glyph\":null,\"nonselection_glyph\":{\"id\":\"2107\",\"type\":\"Line\"},\"selection_glyph\":null,\"view\":{\"id\":\"2109\",\"type\":\"CDSView\"}},\"id\":\"2108\",\"type\":\"GlyphRenderer\"},{\"attributes\":{\"line_color\":\"blue\",\"x\":{\"field\":\"x\"},\"y\":{\"field\":\"b\"}},\"id\":\"2106\",\"type\":\"Line\"},{\"attributes\":{},\"id\":\"2074\",\"type\":\"BasicTicker\"},{\"attributes\":{\"line_alpha\":0.1,\"line_color\":\"#1f77b4\",\"x\":{\"field\":\"x\"},\"y\":{\"field\":\"b\"}},\"id\":\"2107\",\"type\":\"Line\"},{\"attributes\":{},\"id\":\"2116\",\"type\":\"UnionRenderers\"},{\"attributes\":{},\"id\":\"2117\",\"type\":\"Selection\"},{\"attributes\":{\"label\":{\"value\":\"Fixed Savings rate\"},\"renderers\":[{\"id\":\"2108\",\"type\":\"GlyphRenderer\"}]},\"id\":\"2118\",\"type\":\"LegendItem\"},{\"attributes\":{\"label\":{\"value\":\"Steady state/Fixed\"},\"renderers\":[{\"id\":\"2186\",\"type\":\"GlyphRenderer\"}]},\"id\":\"2196\",\"type\":\"LegendItem\"},{\"attributes\":{\"line_color\":\"green\",\"x\":{\"field\":\"x\"},\"y\":{\"field\":\"c\"}},\"id\":\"2120\",\"type\":\"Line\"},{\"attributes\":{\"line_alpha\":0.1,\"line_color\":\"#1f77b4\",\"x\":{\"field\":\"x\"},\"y\":{\"field\":\"c\"}},\"id\":\"2121\",\"type\":\"Line\"},{\"attributes\":{\"data_source\":{\"id\":\"2056\",\"type\":\"ColumnDataSource\"},\"glyph\":{\"id\":\"2120\",\"type\":\"Line\"},\"hover_glyph\":null,\"muted_glyph\":null,\"nonselection_glyph\":{\"id\":\"2121\",\"type\":\"Line\"},\"selection_glyph\":null,\"view\":{\"id\":\"2123\",\"type\":\"CDSView\"}},\"id\":\"2122\",\"type\":\"GlyphRenderer\"},{\"attributes\":{\"source\":{\"id\":\"2056\",\"type\":\"ColumnDataSource\"}},\"id\":\"2123\",\"type\":\"CDSView\"},{\"attributes\":{\"label\":{\"value\":\"Steady state level\"},\"renderers\":[{\"id\":\"2122\",\"type\":\"GlyphRenderer\"}]},\"id\":\"2132\",\"type\":\"LegendItem\"},{\"attributes\":{\"callback\":null,\"data\":{\"a\":{\"__ndarray__\":\"hscZovfGsD7aLPKg98awPlgNb6H3xrA+Cz3R4USk7T+RTLgAVToNQM3MRU5ecxhA3nm/GT2oIEBaBKWdDqYkQOwyqJHDPihApt3v/zN8K0Cauo8YhGYuQLTnty7EfTBAonFvsyCqMUCjpMie9rcyQONDqZQWqjNAkQc5CqiDNEB6fRQZBUc1QKNTkVhP9jVAcyBt03qTNkAXU7ipoiA3QC6/OFpEnzdAkAuUhoIQOEBSGRn1ZnY4QKwlMMiJ0ThAWmOnuIckOUAp4cC1M3E5QPGHGwR6tTlA5r5hHU7yOUBlTNh4Nyc6QN3Fq51zVjpAZNw1zaqAOkC4MkDAaKY6QDsM0mApyDpAmZb4nXzmOkB4voqK0wE7QMCya3dFGjtAHnCr7iEwO0CKDx66r0M7QCK9aeQtVTtASj+SmtRkO0BJqD3y1XI7QHixS5hefztAVBXSapaKO0CXIh8BoZQ7QOXDBCSenTtASSdeOKqlO0D7d36d3qw7QNii/QBSsztAhSonqRi5O0A1PSW3RL47QElk3mHmwjtA5pafyQ7HO0CUVLPz0co7QBnhJbQvzjtAS13nvTLRO0AApd+h5NM7QEFP2+1N1jtAIK0hSHbYO0D/PhKIZNo7QLg9Hcwe3DtAcE5hjardO0CAFzCxDN87QJkLtJhJ4DtAkD7rLmXhO0A8VyX1YuI7QGmcLQ5G4ztAoJpFSBHkO0De4hAmx+Q7QLLYjuZp5TtAUWE8jPvlO0B+enTjfeY7QHZEJIjy5jtAT9Tk6lrnO0C1LItVuOc7QDn6PO8L6DtA6yAXwFboO0D6w3G0meg7QLsyzJ/V6DtAawpqPwvpO0AE36k8O+k7QGbbHC9m6TtANv9lnozpO0Cn7OYDr+k7QFKXP8zN6TtAIpWlWOnpO0AkUhcAAuo7QKH0bhAY6jtArVhYzyvqO0DULS17Peo7QBXwuUtN6jtAYCvuclvqO0BvN3odaOo7QOpeXHNz6jtAPjBfmH3qO0Cxh4qshuo7QOa3iMyO6jtA4RABEpbqO0Bd4+iTnOo7QMwAzGai6jtA0JwNnafqO0BlXSJHrOo7QCBRxHOw6jtArG8hMLTqO0BFNwWIt+o7QAfr/YW66jtAOOd9M73qO0BDdfmYv+o7QEN9Ab7B6jtAoGlbqcPqO0AsiBZhxeo7QBYsn+rG6jtAYc3PSsjqO0DEWwCGyeo7QF/1E6DK6jtApSyFnMvqO0AaBHF+zOo7QLXCoEjN6jtA6b+S/c3qO0AKQ4Kfzuo7QPCObjDP6jtAJjAhss/qO0CEoTMm0Oo7QP5YFI7Q6jtAokwL69DqO0AM/j0+0eo7QA8Zs4jR6jtA/bBVy9HqO0DfJvgG0uo7QKbBVjzS6jtAlQAabNLqO0BBr9iW0uo7QKTBGb3S6jtAM/5V39LqO0Aqe/n90uo7QM/zZBnT6jtA0/nuMdPqO0CqBuVH0+o7QBtwjFvT6jtANkMjbdPqO0AsCOF80+o7QK1x94rT6jtAzfmSl9PqO0Bqbtui0+o7QN1u9KzT6jtAdtz9tdPqO0AaPxS+0+o7QFgfUcXT6jtACVfLy9PqO0B2WZfR0+o7QOVzx9bT6jtA\",\"dtype\":\"float64\",\"shape\":[150]},\"b\":[27.917297540474422,27.917297540474422,27.917297540474422,27.917297540474422,27.917297540474422,27.917297540474422,27.917297540474422,27.917297540474422,27.917297540474422,27.917297540474422,27.917297540474422,27.917297540474422,27.917297540474422,27.917297540474422,27.917297540474422,27.917297540474422,27.917297540474422,27.917297540474422,27.917297540474422,27.917297540474422,27.917297540474422,27.917297540474422,27.917297540474422,27.917297540474422,27.917297540474422,27.917297540474422,27.917297540474422,27.917297540474422,27.917297540474422,27.917297540474422,27.917297540474422,27.917297540474422,27.917297540474422,27.917297540474422,27.917297540474422,27.917297540474422,27.917297540474422,27.917297540474422,27.917297540474422,27.917297540474422,27.917297540474422,27.917297540474422,27.917297540474422,27.917297540474422,27.917297540474422,27.917297540474422,27.917297540474422,27.917297540474422,27.917297540474422,27.917297540474422,27.917297540474422,27.917297540474422,27.917297540474422,27.917297540474422,27.917297540474422,27.917297540474422,27.917297540474422,27.917297540474422,27.917297540474422,27.917297540474422,27.917297540474422,27.917297540474422,27.917297540474422,27.917297540474422,27.917297540474422,27.917297540474422,27.917297540474422,27.917297540474422,27.917297540474422,27.917297540474422,27.917297540474422,27.917297540474422,27.917297540474422,27.917297540474422,27.917297540474422,27.917297540474422,27.917297540474422,27.917297540474422,27.917297540474422,27.917297540474422,27.917297540474422,27.917297540474422,27.917297540474422,27.917297540474422,27.917297540474422,27.917297540474422,27.917297540474422,27.917297540474422,27.917297540474422,27.917297540474422,27.917297540474422,27.917297540474422,27.917297540474422,27.917297540474422,27.917297540474422,27.917297540474422,27.917297540474422,27.917297540474422,27.917297540474422,27.917297540474422,27.917297540474422,27.917297540474422,27.917297540474422,27.917297540474422,27.917297540474422,27.917297540474422,27.917297540474422,27.917297540474422,27.917297540474422,27.917297540474422,27.917297540474422,27.917297540474422,27.917297540474422,27.917297540474422,27.917297540474422,27.917297540474422,27.917297540474422,27.917297540474422,27.917297540474422,27.917297540474422,27.917297540474422,27.917297540474422,27.917297540474422,27.917297540474422,27.917297540474422,27.917297540474422,27.917297540474422,27.917297540474422,27.917297540474422,27.917297540474422,27.917297540474422,27.917297540474422,27.917297540474422,27.917297540474422,27.917297540474422,27.917297540474422,27.917297540474422,27.917297540474422,27.917297540474422,27.917297540474422,27.917297540474422,27.917297540474422,27.917297540474422,27.917297540474422,27.917297540474422,27.917297540474422,27.917297540474422,27.917297540474422,27.917297540474422,27.917297540474422],\"x\":[0,1,2,3,4,5,6,7,8,9,10,11,12,13,14,15,16,17,18,19,20,21,22,23,24,25,26,27,28,29,30,31,32,33,34,35,36,37,38,39,40,41,42,43,44,45,46,47,48,49,50,51,52,53,54,55,56,57,58,59,60,61,62,63,64,65,66,67,68,69,70,71,72,73,74,75,76,77,78,79,80,81,82,83,84,85,86,87,88,89,90,91,92,93,94,95,96,97,98,99,100,101,102,103,104,105,106,107,108,109,110,111,112,113,114,115,116,117,118,119,120,121,122,123,124,125,126,127,128,129,130,131,132,133,134,135,136,137,138,139,140,141,142,143,144,145,146,147,148,149]},\"selected\":{\"id\":\"2195\",\"type\":\"Selection\"},\"selection_policy\":{\"id\":\"2194\",\"type\":\"UnionRenderers\"}},\"id\":\"2134\",\"type\":\"ColumnDataSource\"},{\"attributes\":{\"below\":[{\"id\":\"2146\",\"type\":\"LinearAxis\"}],\"left\":[{\"id\":\"2151\",\"type\":\"LinearAxis\"}],\"plot_height\":450,\"plot_width\":450,\"renderers\":[{\"id\":\"2146\",\"type\":\"LinearAxis\"},{\"id\":\"2150\",\"type\":\"Grid\"},{\"id\":\"2151\",\"type\":\"LinearAxis\"},{\"id\":\"2155\",\"type\":\"Grid\"},{\"id\":\"2164\",\"type\":\"BoxAnnotation\"},{\"id\":\"2181\",\"type\":\"Legend\"},{\"id\":\"2173\",\"type\":\"GlyphRenderer\"},{\"id\":\"2186\",\"type\":\"GlyphRenderer\"}],\"title\":{\"id\":\"2135\",\"type\":\"Title\"},\"toolbar\":{\"id\":\"2161\",\"type\":\"Toolbar\"},\"x_range\":{\"id\":\"2138\",\"type\":\"DataRange1d\"},\"x_scale\":{\"id\":\"2142\",\"type\":\"LinearScale\"},\"y_range\":{\"id\":\"2140\",\"type\":\"DataRange1d\"},\"y_scale\":{\"id\":\"2144\",\"type\":\"LinearScale\"}},\"id\":\"2136\",\"subtype\":\"Figure\",\"type\":\"Plot\"},{\"attributes\":{\"callback\":null,\"tooltips\":[[\"T\",\"@x{0,0.00}\"],[\"Capital pr. capita for Model_path\",\"@a{0.00}\"],[\"Capital pr. capita for Fixed Savings rate\",\"@b{0.00}\"],[\"Capital pr. capita for Steady state level\",\"@c{0.00}\"]]},\"id\":\"2055\",\"type\":\"HoverTool\"},{\"attributes\":{},\"id\":\"2066\",\"type\":\"LinearScale\"},{\"attributes\":{\"plot\":null,\"text\":\"Evolution of savings rate\"},\"id\":\"2135\",\"type\":\"Title\"},{\"attributes\":{\"axis_label\":\"T\",\"formatter\":{\"id\":\"2101\",\"type\":\"BasicTickFormatter\"},\"plot\":{\"id\":\"2058\",\"subtype\":\"Figure\",\"type\":\"Plot\"},\"ticker\":{\"id\":\"2069\",\"type\":\"BasicTicker\"}},\"id\":\"2068\",\"type\":\"LinearAxis\"},{\"attributes\":{\"dimension\":1,\"plot\":{\"id\":\"2058\",\"subtype\":\"Figure\",\"type\":\"Plot\"},\"ticker\":{\"id\":\"2074\",\"type\":\"BasicTicker\"}},\"id\":\"2077\",\"type\":\"Grid\"},{\"attributes\":{\"callback\":null,\"tooltips\":[[\"T\",\"@x{0,0.00}\"],[\"Savings rate for Model\",\"@a{0.00} %\"],[\"Savings rate for Steady state/Fixed\",\"@b{0.00} %\"]]},\"id\":\"2133\",\"type\":\"HoverTool\"},{\"attributes\":{\"plot\":null,\"text\":\"Evolution of capital\"},\"id\":\"2057\",\"type\":\"Title\"},{\"attributes\":{\"callback\":null},\"id\":\"2138\",\"type\":\"DataRange1d\"},{\"attributes\":{},\"id\":\"2064\",\"type\":\"LinearScale\"},{\"attributes\":{\"below\":[{\"id\":\"2068\",\"type\":\"LinearAxis\"}],\"left\":[{\"id\":\"2073\",\"type\":\"LinearAxis\"}],\"plot_height\":450,\"plot_width\":450,\"renderers\":[{\"id\":\"2068\",\"type\":\"LinearAxis\"},{\"id\":\"2072\",\"type\":\"Grid\"},{\"id\":\"2073\",\"type\":\"LinearAxis\"},{\"id\":\"2077\",\"type\":\"Grid\"},{\"id\":\"2086\",\"type\":\"BoxAnnotation\"},{\"id\":\"2103\",\"type\":\"Legend\"},{\"id\":\"2095\",\"type\":\"GlyphRenderer\"},{\"id\":\"2108\",\"type\":\"GlyphRenderer\"},{\"id\":\"2122\",\"type\":\"GlyphRenderer\"}],\"title\":{\"id\":\"2057\",\"type\":\"Title\"},\"toolbar\":{\"id\":\"2083\",\"type\":\"Toolbar\"},\"x_range\":{\"id\":\"2060\",\"type\":\"DataRange1d\"},\"x_scale\":{\"id\":\"2064\",\"type\":\"LinearScale\"},\"y_range\":{\"id\":\"2062\",\"type\":\"DataRange1d\"},\"y_scale\":{\"id\":\"2066\",\"type\":\"LinearScale\"}},\"id\":\"2058\",\"subtype\":\"Figure\",\"type\":\"Plot\"},{\"attributes\":{\"callback\":null},\"id\":\"2140\",\"type\":\"DataRange1d\"},{\"attributes\":{},\"id\":\"2142\",\"type\":\"LinearScale\"},{\"attributes\":{\"callback\":null},\"id\":\"2060\",\"type\":\"DataRange1d\"},{\"attributes\":{},\"id\":\"2144\",\"type\":\"LinearScale\"},{\"attributes\":{\"axis_label\":\"T\",\"formatter\":{\"id\":\"2179\",\"type\":\"BasicTickFormatter\"},\"plot\":{\"id\":\"2136\",\"subtype\":\"Figure\",\"type\":\"Plot\"},\"ticker\":{\"id\":\"2147\",\"type\":\"BasicTicker\"}},\"id\":\"2146\",\"type\":\"LinearAxis\"},{\"attributes\":{},\"id\":\"2147\",\"type\":\"BasicTicker\"},{\"attributes\":{\"plot\":{\"id\":\"2136\",\"subtype\":\"Figure\",\"type\":\"Plot\"},\"ticker\":{\"id\":\"2147\",\"type\":\"BasicTicker\"}},\"id\":\"2150\",\"type\":\"Grid\"},{\"attributes\":{\"axis_label\":\"Savings rate\",\"formatter\":{\"id\":\"2177\",\"type\":\"BasicTickFormatter\"},\"plot\":{\"id\":\"2136\",\"subtype\":\"Figure\",\"type\":\"Plot\"},\"ticker\":{\"id\":\"2152\",\"type\":\"BasicTicker\"}},\"id\":\"2151\",\"type\":\"LinearAxis\"},{\"attributes\":{},\"id\":\"2152\",\"type\":\"BasicTicker\"},{\"attributes\":{\"dimension\":1,\"plot\":{\"id\":\"2136\",\"subtype\":\"Figure\",\"type\":\"Plot\"},\"ticker\":{\"id\":\"2152\",\"type\":\"BasicTicker\"}},\"id\":\"2155\",\"type\":\"Grid\"},{\"attributes\":{},\"id\":\"2156\",\"type\":\"PanTool\"},{\"attributes\":{},\"id\":\"2157\",\"type\":\"WheelZoomTool\"},{\"attributes\":{\"overlay\":{\"id\":\"2164\",\"type\":\"BoxAnnotation\"}},\"id\":\"2158\",\"type\":\"BoxZoomTool\"},{\"attributes\":{},\"id\":\"2159\",\"type\":\"ResetTool\"},{\"attributes\":{},\"id\":\"2160\",\"type\":\"SaveTool\"},{\"attributes\":{\"active_drag\":\"auto\",\"active_inspect\":\"auto\",\"active_multi\":null,\"active_scroll\":\"auto\",\"active_tap\":\"auto\",\"tools\":[{\"id\":\"2133\",\"type\":\"HoverTool\"},{\"id\":\"2156\",\"type\":\"PanTool\"},{\"id\":\"2157\",\"type\":\"WheelZoomTool\"},{\"id\":\"2158\",\"type\":\"BoxZoomTool\"},{\"id\":\"2159\",\"type\":\"ResetTool\"},{\"id\":\"2160\",\"type\":\"SaveTool\"}]},\"id\":\"2161\",\"type\":\"Toolbar\"},{\"attributes\":{\"line_color\":\"red\",\"x\":{\"field\":\"x\"},\"y\":{\"field\":\"a\"}},\"id\":\"2171\",\"type\":\"Line\"},{\"attributes\":{\"bottom_units\":\"screen\",\"fill_alpha\":{\"value\":0.5},\"fill_color\":{\"value\":\"lightgrey\"},\"left_units\":\"screen\",\"level\":\"overlay\",\"line_alpha\":{\"value\":1.0},\"line_color\":{\"value\":\"black\"},\"line_dash\":[4,4],\"line_width\":{\"value\":2},\"plot\":null,\"render_mode\":\"css\",\"right_units\":\"screen\",\"top_units\":\"screen\"},\"id\":\"2164\",\"type\":\"BoxAnnotation\"},{\"attributes\":{\"line_alpha\":0.1,\"line_color\":\"#1f77b4\",\"x\":{\"field\":\"x\"},\"y\":{\"field\":\"a\"}},\"id\":\"2172\",\"type\":\"Line\"},{\"attributes\":{\"data_source\":{\"id\":\"2134\",\"type\":\"ColumnDataSource\"},\"glyph\":{\"id\":\"2171\",\"type\":\"Line\"},\"hover_glyph\":null,\"muted_glyph\":null,\"nonselection_glyph\":{\"id\":\"2172\",\"type\":\"Line\"},\"selection_glyph\":null,\"view\":{\"id\":\"2174\",\"type\":\"CDSView\"}},\"id\":\"2173\",\"type\":\"GlyphRenderer\"},{\"attributes\":{\"source\":{\"id\":\"2134\",\"type\":\"ColumnDataSource\"}},\"id\":\"2174\",\"type\":\"CDSView\"},{\"attributes\":{},\"id\":\"2177\",\"type\":\"BasicTickFormatter\"},{\"attributes\":{},\"id\":\"2179\",\"type\":\"BasicTickFormatter\"},{\"attributes\":{\"callback\":null,\"data\":{\"a\":{\"__ndarray__\":\"AAAAAAAAOUC9VWz8vo83QJLvS2muNDZAnerEJ5btNEBLT0mzy78zQN9zCKP3tTJAXru6WJHLMUCb0kAmqvwwQMogmdPYRTBAf/10yVNIL0AoRtWnGSouQE5wcMeHLC1A1Dk8Z3ZLLEAwYEF/roMrQKeNkQE20ipAUQAKlm80KkAu90KUFagpQLD04EcoKylA8Lim5OS7KEBaC64AvlgoQP3D+MJYAChAzQrcmYGxJ0D6jp7xJGsnQKXobxFXLCdAedQEsED0JkBT1jl8NMImQDpH6X2jlSZAGh1Ix+5tJkBG6QNxikomQHFhzUnsKiZANTpSQKoOJkANZurNZvUlQKlQuADP3iVAWZ4lNZnKJUABLmp4hbglQAS9yq9bqCVA1sm9Q+eZJUBA7/tl+YwlQAmIiGdogSVAEOiPIw93JUCerk58zG0lQB/loOeCZSVAb/wwCRheJUBShIlYdFclQDdIi9GCUSVAqmz+rTBMJUA88CEnbUclQH3zQj4pQyVAmYmFi1c/JUC7eiQS7DslQKwVhRncOCVA64+QCh42JUD9IRluqTMlQOTgigF3MSVAe/tSyX8vJUCs6SiHvS0lQHlg36UqLCVAWktjJ8IqJUBmI6uUfyklQPMRYO9eKCVA6IMQpVwnJUCxSsGDdSYlQIs4t6+mJSVAQGVXmu0kJUD8CAD6RyQlQEEsv8KzIyVAKFzPHy8jJUC3LMVtuCIlQESiWjVOIiVAKqjHJu8hJUB4jZgVmiElQEIf9fRNISVAVGlM1AkhJUC/blrczCAlQIpQfkyWICVAll1YeGUgJUClb6jFOSAlQLPIZaoSICVAIl0Kq+8fJUBWHAxZ0B8lQPVcf1G0HyVAthXeO5sfJUBNAfDIhB8lQBQ10LFwHyVAJhANt14fJUBUvN+fTh8lQKfFeDlAHyVA3o9fVjMfJUCrreLNJx8lQMZSl3sdHyVA9EnmPhQfJUAMA6X6Cx8lQEpzuZQEHyVAoKTH9f0eJUAv7+cI+B4lQOHzZLvyHiVAMIeA/O0eJUCT0T696R4lQEj+NvDlHiVAHuNoieIeJUBPGxd+3x4lQModpcTcHiVAuON4VNoeJUBsv98l2B4lQNsN9jHWHiVA8XWRctQeJUD8cC3i0h4lQLDe2XvRHiVA120rO9AeJUA8qC0czx4lQAl2VhvOHiVA4vB6Nc0eJUCnY8VnzB4lQCVXrK/LHiVAio/qCsseJUBL4Xd3yh4lQNDGgvPJHiVArKJqfckeJUBBnLoTyR4lQJoGJbXIHiVA60J/YMgeJUDAEb4UyB4lQDpH8tDHHiVA9ddFlMceJUA5Nfldxx4lQDTwYC3HHiVAvpzjAcceJUDv7Pfaxh4lQKb/IrjGHiVAj9z2mMYeJUD2GBF9xh4lQAyhGWTGHiVA06HBTcYeJUBBkMI5xh4lQItK3SfGHiVAz1DZF8YeJUC3EoQJxh4lQNNPsPzFHiVAuog18cUeJUAwf+/mxR4lQLrDvd3FHiVAMk+D1cUeJUAnJybOxR4lQNYLj8fFHiVAwS6pwcUeJUAB8WG8xR4lQHuoqLfFHiVARmtus8UeJUCR4KWvxR4lQIEWQ6zFHiVA\",\"dtype\":\"float64\",\"shape\":[150]},\"b\":{\"__ndarray__\":\"AAAAAAAAOUDLyQPhD184QID1QMChxTdA4FNvtlQzN0Akj7YYzac2QKFM1yy0IjZAOTyz4bejNUAuwPOLiio1QNyCkqbitjRAscQKl3pINECrb/10EN8zQFAQFdVlejNAbbr5lj8aM0Cpmye2Zb4yQFuSfR2jZjJAmo1bfcUSMkAMxyokncIxQE0RLNn8dTFAj4BqubksMUCSoLIWq+YwQLQ8cFiqozBARXZW3pJjMEDZg7fkQSYwQIH35dQs1y9AXfrFMOJmL0AZ0GNUaPsuQDU5B7GGlC5AseS8iAcyLkC2dYLHt9MtQElzqd5meS1AOf5PouYiLUD0FdAoC9AsQLMFCKyqgCxAvUlgbJ00LEBD2nSVvesrQFhPSSTnpStAr8HwzvdiK0CTppPtziIrQPYsv2RN5SpA3tXqkFWqKkA0JSIzy3EqQBxawV6TOypASyA1aJQHKkD5Hq7UtdUpQIgvukrgpSlAiN21g/13KUCGnQk++EspQPrmJjC8ISlAMxI6/DX5KECshIYkU9IoQKpVYwACrShAWyvPsTGJKEDDnZIb0mYoQMbx6NfTRShAhXunLygmKECdbNwRwQcoQJ1B3guR6idAbmnFQYvOJ0BeI0pno7MnQP7rALnNmSdALCfw9f6AJ0C3BnpZLGknQAH5lZVLUidAhDJVzVI8J0AeKK6POCcnQEoPi9LzEidASbQX7nv/JkBELkuYyOwmQDEtquDR2iZAps4+LJDJJkChFMMx/LgmQJdE+/UOqSZAtZ09yMGZJkBP+yQ/DosmQHAcbDXufCZA2WrvxltvJkCfO9NNUWImQAihzF/JVSZAQQGLy75JJkCdv0CWLD4mQMdeSfkNMyZAQJnrX14oJkBfAzZlGR4mQFXe9NE6FCZA6ta/mr4KJkDQfB7eoAEmQBlQwuLd+CVApFLVFXLwJUD7GVwJWuglQIxsqnKS4CVAJILpKBjZJUBEDK8j6NElQJc2pHn/yiVA2No7X1vEJUDvLXcl+b0lQAE2uDjWtyVAEmKhH/CxJUAEpQF6RKwlQJ99zP/QpiVAQF0dgJOhJUAA5kXgiZwlQCOA5hqylyVAC80QPwqTJUAmhHNvkI4lQAJMj+FCiiVASSf03B+GJUCIEoe6JYIlQH50z+NSfiVAbAdM0qV6JUAc5s4OHXclQKRr4DC3cyVAsJgo3nJwJUDbtN7JTm0lQDrmPrRJaiVAbnwFamJnJUDTr+/Dl2QlQEuYQaboYSVACCJRAFRfJUBjyRXM2FwlQE3pvA12WiVAcmpC0ypYJUBAow009lUlQG87klDXUyVAf+f0Uc1RJUC50rNp108lQCGQUtH0TSVAdmwJyiRMJUAj/XecZkolQJPJWpi5SCVA6+1DFB1HJUCZl1ZtkEUlQJA9BQcTRCVAU3fSSqRCJUA8VxSoQ0ElQJktupPwPyVAWJsUiKo+JUAn3J8EcT0lQNgw0I1DPCVA4FPgrCE7JUDc4qHvCjolQKyoT+j+OCVAzrRhLf03JUBRLWNZBTclQInJyQoXNiVAc+TO4zE1JUBlFkqKVTQlQGhGjaeBMyVAFyRC6LUyJUC8+0j88TElQLrWmJY1MSVA\",\"dtype\":\"float64\",\"shape\":[150]},\"c\":[10.560101014940885,10.560101014940885,10.560101014940885,10.560101014940885,10.560101014940885,10.560101014940885,10.560101014940885,10.560101014940885,10.560101014940885,10.560101014940885,10.560101014940885,10.560101014940885,10.560101014940885,10.560101014940885,10.560101014940885,10.560101014940885,10.560101014940885,10.560101014940885,10.560101014940885,10.560101014940885,10.560101014940885,10.560101014940885,10.560101014940885,10.560101014940885,10.560101014940885,10.560101014940885,10.560101014940885,10.560101014940885,10.560101014940885,10.560101014940885,10.560101014940885,10.560101014940885,10.560101014940885,10.560101014940885,10.560101014940885,10.560101014940885,10.560101014940885,10.560101014940885,10.560101014940885,10.560101014940885,10.560101014940885,10.560101014940885,10.560101014940885,10.560101014940885,10.560101014940885,10.560101014940885,10.560101014940885,10.560101014940885,10.560101014940885,10.560101014940885,10.560101014940885,10.560101014940885,10.560101014940885,10.560101014940885,10.560101014940885,10.560101014940885,10.560101014940885,10.560101014940885,10.560101014940885,10.560101014940885,10.560101014940885,10.560101014940885,10.560101014940885,10.560101014940885,10.560101014940885,10.560101014940885,10.560101014940885,10.560101014940885,10.560101014940885,10.560101014940885,10.560101014940885,10.560101014940885,10.560101014940885,10.560101014940885,10.560101014940885,10.560101014940885,10.560101014940885,10.560101014940885,10.560101014940885,10.560101014940885,10.560101014940885,10.560101014940885,10.560101014940885,10.560101014940885,10.560101014940885,10.560101014940885,10.560101014940885,10.560101014940885,10.560101014940885,10.560101014940885,10.560101014940885,10.560101014940885,10.560101014940885,10.560101014940885,10.560101014940885,10.560101014940885,10.560101014940885,10.560101014940885,10.560101014940885,10.560101014940885,10.560101014940885,10.560101014940885,10.560101014940885,10.560101014940885,10.560101014940885,10.560101014940885,10.560101014940885,10.560101014940885,10.560101014940885,10.560101014940885,10.560101014940885,10.560101014940885,10.560101014940885,10.560101014940885,10.560101014940885,10.560101014940885,10.560101014940885,10.560101014940885,10.560101014940885,10.560101014940885,10.560101014940885,10.560101014940885,10.560101014940885,10.560101014940885,10.560101014940885,10.560101014940885,10.560101014940885,10.560101014940885,10.560101014940885,10.560101014940885,10.560101014940885,10.560101014940885,10.560101014940885,10.560101014940885,10.560101014940885,10.560101014940885,10.560101014940885,10.560101014940885,10.560101014940885,10.560101014940885,10.560101014940885,10.560101014940885,10.560101014940885,10.560101014940885,10.560101014940885,10.560101014940885,10.560101014940885,10.560101014940885,10.560101014940885,10.560101014940885],\"x\":[0,1,2,3,4,5,6,7,8,9,10,11,12,13,14,15,16,17,18,19,20,21,22,23,24,25,26,27,28,29,30,31,32,33,34,35,36,37,38,39,40,41,42,43,44,45,46,47,48,49,50,51,52,53,54,55,56,57,58,59,60,61,62,63,64,65,66,67,68,69,70,71,72,73,74,75,76,77,78,79,80,81,82,83,84,85,86,87,88,89,90,91,92,93,94,95,96,97,98,99,100,101,102,103,104,105,106,107,108,109,110,111,112,113,114,115,116,117,118,119,120,121,122,123,124,125,126,127,128,129,130,131,132,133,134,135,136,137,138,139,140,141,142,143,144,145,146,147,148,149]},\"selected\":{\"id\":\"2117\",\"type\":\"Selection\"},\"selection_policy\":{\"id\":\"2116\",\"type\":\"UnionRenderers\"}},\"id\":\"2056\",\"type\":\"ColumnDataSource\"},{\"attributes\":{\"items\":[{\"id\":\"2182\",\"type\":\"LegendItem\"},{\"id\":\"2196\",\"type\":\"LegendItem\"}],\"location\":\"bottom_center\",\"plot\":{\"id\":\"2136\",\"subtype\":\"Figure\",\"type\":\"Plot\"}},\"id\":\"2181\",\"type\":\"Legend\"},{\"attributes\":{\"label\":{\"value\":\"Model\"},\"renderers\":[{\"id\":\"2173\",\"type\":\"GlyphRenderer\"}]},\"id\":\"2182\",\"type\":\"LegendItem\"},{\"attributes\":{\"line_color\":\"blue\",\"x\":{\"field\":\"x\"},\"y\":{\"field\":\"b\"}},\"id\":\"2184\",\"type\":\"Line\"},{\"attributes\":{\"line_alpha\":0.1,\"line_color\":\"#1f77b4\",\"x\":{\"field\":\"x\"},\"y\":{\"field\":\"b\"}},\"id\":\"2185\",\"type\":\"Line\"},{\"attributes\":{\"data_source\":{\"id\":\"2134\",\"type\":\"ColumnDataSource\"},\"glyph\":{\"id\":\"2184\",\"type\":\"Line\"},\"hover_glyph\":null,\"muted_glyph\":null,\"nonselection_glyph\":{\"id\":\"2185\",\"type\":\"Line\"},\"selection_glyph\":null,\"view\":{\"id\":\"2187\",\"type\":\"CDSView\"}},\"id\":\"2186\",\"type\":\"GlyphRenderer\"},{\"attributes\":{\"callback\":null},\"id\":\"2062\",\"type\":\"DataRange1d\"},{\"attributes\":{\"plot\":{\"id\":\"2058\",\"subtype\":\"Figure\",\"type\":\"Plot\"},\"ticker\":{\"id\":\"2069\",\"type\":\"BasicTicker\"}},\"id\":\"2072\",\"type\":\"Grid\"},{\"attributes\":{\"source\":{\"id\":\"2134\",\"type\":\"ColumnDataSource\"}},\"id\":\"2187\",\"type\":\"CDSView\"},{\"attributes\":{},\"id\":\"2194\",\"type\":\"UnionRenderers\"},{\"attributes\":{\"axis_label\":\"Capital pr. capita\",\"formatter\":{\"id\":\"2099\",\"type\":\"BasicTickFormatter\"},\"plot\":{\"id\":\"2058\",\"subtype\":\"Figure\",\"type\":\"Plot\"},\"ticker\":{\"id\":\"2074\",\"type\":\"BasicTicker\"}},\"id\":\"2073\",\"type\":\"LinearAxis\"},{\"attributes\":{},\"id\":\"2195\",\"type\":\"Selection\"}],\"root_ids\":[\"2197\"]},\"title\":\"Bokeh Application\",\"version\":\"1.0.2\"}};\n",
       "  var render_items = [{\"docid\":\"104268ca-3c8a-4407-b0a5-e3747619f6f6\",\"notebook_comms_target\":\"2274\",\"roots\":{\"2197\":\"b8a39f20-2180-449c-8553-333ba9c79e29\"}}];\n",
       "  root.Bokeh.embed.embed_items_notebook(docs_json, render_items);\n",
       "\n",
       "  }\n",
       "  if (root.Bokeh !== undefined) {\n",
       "    embed_document(root);\n",
       "  } else {\n",
       "    var attempts = 0;\n",
       "    var timer = setInterval(function(root) {\n",
       "      if (root.Bokeh !== undefined) {\n",
       "        embed_document(root);\n",
       "        clearInterval(timer);\n",
       "      }\n",
       "      attempts++;\n",
       "      if (attempts > 100) {\n",
       "        console.log(\"Bokeh: ERROR: Unable to run BokehJS code because BokehJS library is missing\");\n",
       "        clearInterval(timer);\n",
       "      }\n",
       "    }, 10, root)\n",
       "  }\n",
       "})(window);"
      ],
      "application/vnd.bokehjs_exec.v0+json": ""
     },
     "metadata": {
      "application/vnd.bokehjs_exec.v0+json": {
       "id": "2197"
      }
     },
     "output_type": "display_data"
    },
    {
     "data": {
      "text/html": [
       "<p><code>&lt;Bokeh Notebook handle for <strong>In[15]</strong>&gt;</code></p>"
      ],
      "text/plain": [
       "<bokeh.io.notebook.CommsHandle at 0x127bfdd68>"
      ]
     },
     "execution_count": 15,
     "metadata": {},
     "output_type": "execute_result"
    }
   ],
   "source": [
    "y_names = ['Model_path', 'Fixed Savings rate','Steady state level']\n",
    "ys = [k_pr ,trad_k_pr, [k_star for i in range(timeline)]]\n",
    "p1 = model_funcs.plotting(\"T\",y_names, list(range(timeline)), ys, \n",
    "                     y_name= 'Capital pr. capita',legendlocation ='top_center',\n",
    "                    title='Evolution of capital')\n",
    "ys2 = [sk_path*100, [sk_star*100 for i in range(timeline)]]\n",
    "p2 = model_funcs.plotting(\"T\",['Model','Steady state/Fixed'], list(range(timeline)), ys2, \n",
    "                     y_name= 'Savings rate', legendlocation ='bottom_center', \n",
    "                     title ='Evolution of savings rate',y_unit=' %')\n",
    "show(row(p1,p2),notebook_handle=True)"
   ]
  },
  {
   "cell_type": "markdown",
   "metadata": {},
   "source": [
    "# 5. Different ways of solving the model"
   ]
  },
  {
   "cell_type": "markdown",
   "metadata": {},
   "source": [
    "After initially making this project, Jeppe has explained to us, a faster way of solving this model (And also that the name of the model is actually Ramsey). Here we will solve this model, timing the speed of the the two solutions we have utilized, and also comparing their results.\n",
    "This new of solving the model actually also requires a slight altering of the assumptions of the model. Instead of assuming that the representative household consideres and values comsumption in a limited time, we assume that this timeframe is, in theory unlimited, but in our model a large enough number of periods to imply convergence (We test 200 periods, if that's not enough we use 400). Going from a considered time frame of 40 to 200 results in a slighter higher savningsrate in steady state, since the household values the future relatively more now."
   ]
  },
  {
   "cell_type": "code",
   "execution_count": 16,
   "metadata": {},
   "outputs": [],
   "source": [
    "k0 = 8\n",
    "theta = 0.5\n",
    "%load_ext line_profiler"
   ]
  },
  {
   "cell_type": "markdown",
   "metadata": {},
   "source": [
    "First we look at the time profile for the interpolation solution"
   ]
  },
  {
   "cell_type": "code",
   "execution_count": 17,
   "metadata": {},
   "outputs": [],
   "source": [
    "def full_solution_interp():\n",
    "    k_n = 100\n",
    "    sks = np.zeros(k_n)\n",
    "    k0s = np.linspace(0.001,30,k_n)\n",
    "\n",
    "\n",
    "    for i in range(k_n):\n",
    "        sks[i] = model_funcs.optimal_sks(\n",
    "            t, a, l, weight, delta, alpha, theta, k0s[i])\n",
    "            \n",
    "    # We save these results as a interpolater for use in Macro model\n",
    "    sk_interper = interpolate.RegularGridInterpolator([k0s], sks,\n",
    "            bounds_error=False,fill_value=None)\n",
    "\n",
    "    # We then are able to simulate the model:\n",
    "    k_star, sk_star = model_funcs.find_ss_interp(sk_interper, a, n, delta, alpha)\n",
    "\n",
    "    k_pr, y_pr, sk_path = model_funcs.new_mod_solowwalk(\n",
    "        k0, l0, a,n, alpha, delta, sk_interper, timeline)\n",
    "\n",
    "def loop(n):\n",
    "    for i in range(n):\n",
    "        full_solution_interp()"
   ]
  },
  {
   "cell_type": "code",
   "execution_count": 18,
   "metadata": {},
   "outputs": [
    {
     "data": {
      "text/plain": [
       "Timer unit: 1e-06 s\n",
       "\n",
       "Total time: 69.9715 s\n",
       "File: <ipython-input-17-f1b28ac403ea>\n",
       "Function: full_solution_interp at line 1\n",
       "\n",
       "Line #      Hits         Time  Per Hit   % Time  Line Contents\n",
       "==============================================================\n",
       "     1                                           def full_solution_interp():\n",
       "     2        10          9.0      0.9      0.0      k_n = 100\n",
       "     3        10         47.0      4.7      0.0      sks = np.zeros(k_n)\n",
       "     4        10        910.0     91.0      0.0      k0s = np.linspace(0.001,30,k_n)\n",
       "     5                                           \n",
       "     6                                           \n",
       "     7      1010       2853.0      2.8      0.0      for i in range(k_n):\n",
       "     8      1000       2000.0      2.0      0.0          sks[i] = model_funcs.optimal_sks(\n",
       "     9      1000   69708811.0  69708.8     99.6              t, a, l, weight, delta, alpha, theta, k0s[i])\n",
       "    10                                                       \n",
       "    11                                               # We save these resoluts as a interpolater for use in Macro model\n",
       "    12        10         26.0      2.6      0.0      sk_interper = interpolate.RegularGridInterpolator([k0s], sks,\n",
       "    13        10       1131.0    113.1      0.0              bounds_error=False,fill_value=None)\n",
       "    14                                           \n",
       "    15                                               # We then are able to simulate the model:\n",
       "    16        10      13416.0   1341.6      0.0      k_star, sk_star = model_funcs.find_ss_interp(sk_interper, a, n, delta, alpha)\n",
       "    17                                           \n",
       "    18        10         29.0      2.9      0.0      k_pr, y_pr, sk_path = model_funcs.new_mod_solowwalk(\n",
       "    19        10     242278.0  24227.8      0.3          k0, l0, a,n, alpha, delta, sk_interper, timeline)\n",
       "\n",
       "Total time: 69.9759 s\n",
       "File: <ipython-input-17-f1b28ac403ea>\n",
       "Function: loop at line 21\n",
       "\n",
       "Line #      Hits         Time  Per Hit   % Time  Line Contents\n",
       "==============================================================\n",
       "    21                                           def loop(n):\n",
       "    22        11        258.0     23.5      0.0      for i in range(n):\n",
       "    23        10   69975646.0 6997564.6    100.0          full_solution_interp()"
      ]
     },
     "metadata": {},
     "output_type": "display_data"
    }
   ],
   "source": [
    "# This takes about a minut to run\n",
    "%lprun -f full_solution_interp -f loop loop(10)"
   ]
  },
  {
   "cell_type": "markdown",
   "metadata": {},
   "source": [
    "We see that almost all of the computing time for this method is in the setup of this model, e.i. computing the optimal savingsrates for the  interpeter of the capital levels."
   ]
  },
  {
   "cell_type": "code",
   "execution_count": 19,
   "metadata": {},
   "outputs": [],
   "source": [
    "def loop_ram(n):\n",
    "    for i in range(n):\n",
    "        model_funcs.find_ss_ramsey(\n",
    "            a, n, beta, delta, alpha, theta, k0=k0,l0=l0,path=True)"
   ]
  },
  {
   "cell_type": "code",
   "execution_count": 20,
   "metadata": {},
   "outputs": [
    {
     "data": {
      "text/plain": [
       "Timer unit: 1e-06 s\n",
       "\n",
       "Total time: 34.0084 s\n",
       "File: /Users/Asker/Desktop/OneDrive - Koebenhavns Universitet/Documents/Uni/4. semester/Programering og numerisk analyse /Projects/projects-2019-unity/modelproject/model_funcs.py\n",
       "Function: find_ss_ramsey at line 363\n",
       "\n",
       "Line #      Hits         Time  Per Hit   % Time  Line Contents\n",
       "==============================================================\n",
       "   363                                           def find_ss_ramsey(a, n, beta, delta, alpha, theta, k0=10,l0=1,path=False):\n",
       "   364                                              \n",
       "   365                                               '''\n",
       "   366                                               Finding the steady state of the model by solving the comsumer optimization\n",
       "   367                                               once, and finding the point in comsumption plan where savings stabilizes.\n",
       "   368                                           \n",
       "   369                                               Args:\n",
       "   370                                                       a (float)       : The A parameter in the production function\n",
       "   371                                                       n (float)       : Population growth\n",
       "   372                                                       beta (float)    : Time discounter of the consumer\n",
       "   373                                                       delta (float)   : Depreciation rate\n",
       "   374                                                       alpha (float)   : Alpha in the productionfunction\n",
       "   375                                                       theta(float)    : Parameter of consumers considered utilityfunction\n",
       "   376                                                       k0 (float)      : Inital level of capital\n",
       "   377                                                       l0 (float)      : Inital level of population\n",
       "   378                                                                       (The two parameters above are only necessary \n",
       "   379                                                                       if the funcitons fails to converge.)\n",
       "   380                                                       path (bool)     : If true will also return the Solow path to steady state\n",
       "   381                                               Returns:\n",
       "   382                                                       k_star          : Capital level in steady state\n",
       "   383                                                       sk_star         : The now fixed savings rate, when steady state is reached.\n",
       "   384                                                       sks[:ss_i]      : The path of the planned savings rate, up untill convergence is reached\n",
       "   385                                                       k_pr_path       : The path of capital untill convergence\n",
       "   386                                               '''\n",
       "   387                                           \n",
       "   388        10         18.0      1.8      0.0      t = 200 \n",
       "   389        10        838.0     83.8      0.0      weight = np.array([beta**i for i in range(t)])\n",
       "   390        10       3906.0    390.6      0.0      l = l0*np.array([(1+n)**i for i in range(t)])\n",
       "   391                                               \n",
       "   392        10   33995370.0 3399537.0    100.0      sks = optimal_sks(t, a, l, weight, delta, alpha, theta, k0, first=False)\n",
       "   393        10         33.0      3.3      0.0      ss_sk = False\n",
       "   394                                           \n",
       "   395                                               # We only search for steady state in middle of the comsumptionp plan,\n",
       "   396                                               # since sometimes the savingsrate is constant at 0 at either the begining or end \n",
       "   397        10         44.0      4.4      0.0      i = int(0.25*t)\n",
       "   398        10         22.0      2.2      0.0      while i < int(0.75*t):\n",
       "   399        10       1659.0    165.9      0.0          if np.isclose(sks[i],sks[i+1]):\n",
       "   400        10         29.0      2.9      0.0              ss_sk = sks[i]\n",
       "   401        10         17.0      1.7      0.0              break\n",
       "   402                                           \n",
       "   403                                                   i+=1\n",
       "   404                                           \n",
       "   405        10       2002.0    200.2      0.0      if ss_sk==False:\n",
       "   406                                                   # We try again with a longer timerframe\n",
       "   407                                                   t = 400\n",
       "   408                                                   weight = np.array([beta**i for i in range(t)])\n",
       "   409                                                   l = l0*np.array([(1+n)**i for i in range(t)])\n",
       "   410                                               \n",
       "   411                                                   sks = optimal_sks(t, a, l, weight, delta, alpha, theta, k0, first=False)\n",
       "   412                                                   i = int(0.25*t)\n",
       "   413                                                   while i < int(0.75*t):\n",
       "   414                                                       if np.isclose(sks[i],sks[i+1]):\n",
       "   415                                                           ss_sk=sks[i]\n",
       "   416                                                           break\n",
       "   417                                                       \n",
       "   418                                                       i += 1\n",
       "   419                                                \n",
       "   420                                               # Convergence period:\n",
       "   421        10         19.0      1.9      0.0      ss_i = i \n",
       "   422                                           \n",
       "   423                                               # We use the analytical solution to find the steady state of capital for this savings rate:\n",
       "   424        10        115.0     11.5      0.0      ss_k = find_ssk_k(ss_sk,a,delta,n,alpha)\n",
       "   425                                           \n",
       "   426        10         14.0      1.4      0.0      if path:\n",
       "   427        10         21.0      2.1      0.0          k_pr_path = [k0/l0]\n",
       "   428       500        843.0      1.7      0.0          for i in range(1,ss_i):    \n",
       "   429       490        775.0      1.6      0.0              k_pr_path.append(transition_eq(\n",
       "   430       490       2650.0      5.4      0.0                  a,k_pr_path[i-1],n,sks[i-1],alpha,delta))\n",
       "   431        10         35.0      3.5      0.0          return ss_sk, ss_k, sks[:ss_i], k_pr_path\n",
       "   432                                               \n",
       "   433                                               else:\n",
       "   434                                                   return ss_sk, ss_k\n",
       "\n",
       "Total time: 34.0118 s\n",
       "File: <ipython-input-19-87176433393a>\n",
       "Function: loop_ram at line 1\n",
       "\n",
       "Line #      Hits         Time  Per Hit   % Time  Line Contents\n",
       "=============================================================="
      ]
     },
     "metadata": {},
     "output_type": "display_data"
    }
   ],
   "source": [
    "%lprun -f model_funcs.find_ss_ramsey -f loop_ram loop_ram(10)"
   ]
  },
  {
   "cell_type": "markdown",
   "metadata": {},
   "source": [
    "We see that most of the time is still spend calculating the optimal savingrate, but overall a lot less time is needed since the optimizer is now only called once instead of a 100 (albeit it is now optmizing over 200 variables instead of 30). So in conclusion the new solving method is overall faster, but if the interpolater is already calculated (as we did during the visualization of the Micro-problem, interpolation will be faster, since this micro problem is the only part of the problem that takes a notable time to run.<br>\n",
    "Now we will compare the conclusions of the two different solving methods."
   ]
  },
  {
   "cell_type": "code",
   "execution_count": 21,
   "metadata": {},
   "outputs": [
    {
     "data": {
      "text/html": [
       "\n",
       "\n",
       "\n",
       "\n",
       "\n",
       "\n",
       "  <div class=\"bk-root\" id=\"1ec0d3f6-4e9a-4e71-a550-ac5966999971\"></div>\n"
      ]
     },
     "metadata": {},
     "output_type": "display_data"
    },
    {
     "data": {
      "application/javascript": [
       "(function(root) {\n",
       "  function embed_document(root) {\n",
       "    \n",
       "  var docs_json = {\"b12f629d-15ba-4e6b-848c-172b734ede6e\":{\"roots\":{\"references\":[{\"attributes\":{\"children\":[{\"id\":\"2627\",\"type\":\"Row\"},{\"id\":\"2628\",\"type\":\"Row\"}]},\"id\":\"2629\",\"type\":\"Column\"},{\"attributes\":{},\"id\":\"2417\",\"type\":\"BasicTickFormatter\"},{\"attributes\":{\"source\":{\"id\":\"2500\",\"type\":\"ColumnDataSource\"}},\"id\":\"2540\",\"type\":\"CDSView\"},{\"attributes\":{},\"id\":\"2607\",\"type\":\"BasicTickFormatter\"},{\"attributes\":{\"items\":[{\"id\":\"2420\",\"type\":\"LegendItem\"},{\"id\":\"2434\",\"type\":\"LegendItem\"}],\"location\":\"bottom_center\",\"plot\":{\"id\":\"2374\",\"subtype\":\"Figure\",\"type\":\"Plot\"}},\"id\":\"2419\",\"type\":\"Legend\"},{\"attributes\":{},\"id\":\"2543\",\"type\":\"BasicTickFormatter\"},{\"attributes\":{},\"id\":\"2609\",\"type\":\"BasicTickFormatter\"},{\"attributes\":{\"items\":[{\"id\":\"2612\",\"type\":\"LegendItem\"},{\"id\":\"2626\",\"type\":\"LegendItem\"}],\"location\":\"top_center\",\"plot\":{\"id\":\"2566\",\"subtype\":\"Figure\",\"type\":\"Plot\"}},\"id\":\"2611\",\"type\":\"Legend\"},{\"attributes\":{\"label\":{\"value\":\"Capital pr. capita\"},\"renderers\":[{\"id\":\"2411\",\"type\":\"GlyphRenderer\"}]},\"id\":\"2420\",\"type\":\"LegendItem\"},{\"attributes\":{},\"id\":\"2545\",\"type\":\"BasicTickFormatter\"},{\"attributes\":{\"items\":[{\"id\":\"2548\",\"type\":\"LegendItem\"},{\"id\":\"2562\",\"type\":\"LegendItem\"}],\"location\":\"top_center\",\"plot\":{\"id\":\"2502\",\"subtype\":\"Figure\",\"type\":\"Plot\"}},\"id\":\"2547\",\"type\":\"Legend\"},{\"attributes\":{\"line_color\":\"blue\",\"x\":{\"field\":\"x\"},\"y\":{\"field\":\"b\"}},\"id\":\"2486\",\"type\":\"Line\"},{\"attributes\":{\"label\":{\"value\":\"Savings rate\"},\"renderers\":[{\"id\":\"2603\",\"type\":\"GlyphRenderer\"}]},\"id\":\"2612\",\"type\":\"LegendItem\"},{\"attributes\":{\"line_color\":\"blue\",\"x\":{\"field\":\"x\"},\"y\":{\"field\":\"b\"}},\"id\":\"2422\",\"type\":\"Line\"},{\"attributes\":{\"label\":{\"value\":\"Savings rate\"},\"renderers\":[{\"id\":\"2539\",\"type\":\"GlyphRenderer\"}]},\"id\":\"2548\",\"type\":\"LegendItem\"},{\"attributes\":{\"axis_label\":\"T\",\"formatter\":{\"id\":\"2609\",\"type\":\"BasicTickFormatter\"},\"plot\":{\"id\":\"2566\",\"subtype\":\"Figure\",\"type\":\"Plot\"},\"ticker\":{\"id\":\"2577\",\"type\":\"BasicTicker\"}},\"id\":\"2576\",\"type\":\"LinearAxis\"},{\"attributes\":{\"line_alpha\":0.1,\"line_color\":\"#1f77b4\",\"x\":{\"field\":\"x\"},\"y\":{\"field\":\"b\"}},\"id\":\"2423\",\"type\":\"Line\"},{\"attributes\":{\"line_color\":\"blue\",\"x\":{\"field\":\"x\"},\"y\":{\"field\":\"b\"}},\"id\":\"2614\",\"type\":\"Line\"},{\"attributes\":{\"data_source\":{\"id\":\"2372\",\"type\":\"ColumnDataSource\"},\"glyph\":{\"id\":\"2422\",\"type\":\"Line\"},\"hover_glyph\":null,\"muted_glyph\":null,\"nonselection_glyph\":{\"id\":\"2423\",\"type\":\"Line\"},\"selection_glyph\":null,\"view\":{\"id\":\"2425\",\"type\":\"CDSView\"}},\"id\":\"2424\",\"type\":\"GlyphRenderer\"},{\"attributes\":{\"line_color\":\"blue\",\"x\":{\"field\":\"x\"},\"y\":{\"field\":\"b\"}},\"id\":\"2550\",\"type\":\"Line\"},{\"attributes\":{\"line_alpha\":0.1,\"line_color\":\"#1f77b4\",\"x\":{\"field\":\"x\"},\"y\":{\"field\":\"b\"}},\"id\":\"2615\",\"type\":\"Line\"},{\"attributes\":{\"data_source\":{\"id\":\"2564\",\"type\":\"ColumnDataSource\"},\"glyph\":{\"id\":\"2614\",\"type\":\"Line\"},\"hover_glyph\":null,\"muted_glyph\":null,\"nonselection_glyph\":{\"id\":\"2615\",\"type\":\"Line\"},\"selection_glyph\":null,\"view\":{\"id\":\"2617\",\"type\":\"CDSView\"}},\"id\":\"2616\",\"type\":\"GlyphRenderer\"},{\"attributes\":{\"source\":{\"id\":\"2372\",\"type\":\"ColumnDataSource\"}},\"id\":\"2425\",\"type\":\"CDSView\"},{\"attributes\":{\"line_alpha\":0.1,\"line_color\":\"#1f77b4\",\"x\":{\"field\":\"x\"},\"y\":{\"field\":\"b\"}},\"id\":\"2551\",\"type\":\"Line\"},{\"attributes\":{\"data_source\":{\"id\":\"2500\",\"type\":\"ColumnDataSource\"},\"glyph\":{\"id\":\"2550\",\"type\":\"Line\"},\"hover_glyph\":null,\"muted_glyph\":null,\"nonselection_glyph\":{\"id\":\"2551\",\"type\":\"Line\"},\"selection_glyph\":null,\"view\":{\"id\":\"2553\",\"type\":\"CDSView\"}},\"id\":\"2552\",\"type\":\"GlyphRenderer\"},{\"attributes\":{\"source\":{\"id\":\"2564\",\"type\":\"ColumnDataSource\"}},\"id\":\"2617\",\"type\":\"CDSView\"},{\"attributes\":{},\"id\":\"2432\",\"type\":\"UnionRenderers\"},{\"attributes\":{\"source\":{\"id\":\"2500\",\"type\":\"ColumnDataSource\"}},\"id\":\"2553\",\"type\":\"CDSView\"},{\"attributes\":{},\"id\":\"2433\",\"type\":\"Selection\"},{\"attributes\":{},\"id\":\"2624\",\"type\":\"UnionRenderers\"},{\"attributes\":{\"label\":{\"value\":\"Steady sate\"},\"renderers\":[{\"id\":\"2424\",\"type\":\"GlyphRenderer\"}]},\"id\":\"2434\",\"type\":\"LegendItem\"},{\"attributes\":{},\"id\":\"2560\",\"type\":\"UnionRenderers\"},{\"attributes\":{},\"id\":\"2625\",\"type\":\"Selection\"},{\"attributes\":{\"callback\":null,\"tooltips\":[[\"T\",\"@x{0,0.00}\"],[\"Capital pr. capita for Capital pr. capita\",\"@a{0.00}\"],[\"Capital pr. capita for Steady sate\",\"@b{0.00}\"]]},\"id\":\"2371\",\"type\":\"HoverTool\"},{\"attributes\":{\"label\":{\"value\":\"Steady state\"},\"renderers\":[{\"id\":\"2616\",\"type\":\"GlyphRenderer\"}]},\"id\":\"2626\",\"type\":\"LegendItem\"},{\"attributes\":{},\"id\":\"2561\",\"type\":\"Selection\"},{\"attributes\":{\"below\":[{\"id\":\"2448\",\"type\":\"LinearAxis\"}],\"left\":[{\"id\":\"2453\",\"type\":\"LinearAxis\"}],\"plot_height\":450,\"plot_width\":450,\"renderers\":[{\"id\":\"2448\",\"type\":\"LinearAxis\"},{\"id\":\"2452\",\"type\":\"Grid\"},{\"id\":\"2453\",\"type\":\"LinearAxis\"},{\"id\":\"2457\",\"type\":\"Grid\"},{\"id\":\"2466\",\"type\":\"BoxAnnotation\"},{\"id\":\"2483\",\"type\":\"Legend\"},{\"id\":\"2475\",\"type\":\"GlyphRenderer\"},{\"id\":\"2488\",\"type\":\"GlyphRenderer\"}],\"title\":{\"id\":\"2437\",\"type\":\"Title\"},\"toolbar\":{\"id\":\"2463\",\"type\":\"Toolbar\"},\"x_range\":{\"id\":\"2440\",\"type\":\"DataRange1d\"},\"x_scale\":{\"id\":\"2444\",\"type\":\"LinearScale\"},\"y_range\":{\"id\":\"2442\",\"type\":\"DataRange1d\"},\"y_scale\":{\"id\":\"2446\",\"type\":\"LinearScale\"}},\"id\":\"2438\",\"subtype\":\"Figure\",\"type\":\"Plot\"},{\"attributes\":{\"label\":{\"value\":\"Steady state\"},\"renderers\":[{\"id\":\"2552\",\"type\":\"GlyphRenderer\"}]},\"id\":\"2562\",\"type\":\"LegendItem\"},{\"attributes\":{\"plot\":null,\"text\":\"Evolution of capital for method 2\"},\"id\":\"2437\",\"type\":\"Title\"},{\"attributes\":{\"below\":[{\"id\":\"2576\",\"type\":\"LinearAxis\"}],\"left\":[{\"id\":\"2581\",\"type\":\"LinearAxis\"}],\"plot_height\":450,\"plot_width\":450,\"renderers\":[{\"id\":\"2576\",\"type\":\"LinearAxis\"},{\"id\":\"2580\",\"type\":\"Grid\"},{\"id\":\"2581\",\"type\":\"LinearAxis\"},{\"id\":\"2585\",\"type\":\"Grid\"},{\"id\":\"2594\",\"type\":\"BoxAnnotation\"},{\"id\":\"2611\",\"type\":\"Legend\"},{\"id\":\"2603\",\"type\":\"GlyphRenderer\"},{\"id\":\"2616\",\"type\":\"GlyphRenderer\"}],\"title\":{\"id\":\"2565\",\"type\":\"Title\"},\"toolbar\":{\"id\":\"2591\",\"type\":\"Toolbar\"},\"x_range\":{\"id\":\"2568\",\"type\":\"DataRange1d\"},\"x_scale\":{\"id\":\"2572\",\"type\":\"LinearScale\"},\"y_range\":{\"id\":\"2570\",\"type\":\"DataRange1d\"},\"y_scale\":{\"id\":\"2574\",\"type\":\"LinearScale\"}},\"id\":\"2566\",\"subtype\":\"Figure\",\"type\":\"Plot\"},{\"attributes\":{\"callback\":null},\"id\":\"2440\",\"type\":\"DataRange1d\"},{\"attributes\":{\"plot\":null,\"text\":\"Evolution of the savings rate for method 2\"},\"id\":\"2565\",\"type\":\"Title\"},{\"attributes\":{\"callback\":null},\"id\":\"2442\",\"type\":\"DataRange1d\"},{\"attributes\":{},\"id\":\"2444\",\"type\":\"LinearScale\"},{\"attributes\":{},\"id\":\"2572\",\"type\":\"LinearScale\"},{\"attributes\":{},\"id\":\"2574\",\"type\":\"LinearScale\"},{\"attributes\":{},\"id\":\"2446\",\"type\":\"LinearScale\"},{\"attributes\":{\"axis_label\":\"T\",\"formatter\":{\"id\":\"2481\",\"type\":\"BasicTickFormatter\"},\"plot\":{\"id\":\"2438\",\"subtype\":\"Figure\",\"type\":\"Plot\"},\"ticker\":{\"id\":\"2449\",\"type\":\"BasicTicker\"}},\"id\":\"2448\",\"type\":\"LinearAxis\"},{\"attributes\":{},\"id\":\"2577\",\"type\":\"BasicTicker\"},{\"attributes\":{\"plot\":{\"id\":\"2566\",\"subtype\":\"Figure\",\"type\":\"Plot\"},\"ticker\":{\"id\":\"2577\",\"type\":\"BasicTicker\"}},\"id\":\"2580\",\"type\":\"Grid\"},{\"attributes\":{},\"id\":\"2449\",\"type\":\"BasicTicker\"},{\"attributes\":{\"plot\":{\"id\":\"2438\",\"subtype\":\"Figure\",\"type\":\"Plot\"},\"ticker\":{\"id\":\"2449\",\"type\":\"BasicTicker\"}},\"id\":\"2452\",\"type\":\"Grid\"},{\"attributes\":{\"axis_label\":\"Savings rate\",\"formatter\":{\"id\":\"2607\",\"type\":\"BasicTickFormatter\"},\"plot\":{\"id\":\"2566\",\"subtype\":\"Figure\",\"type\":\"Plot\"},\"ticker\":{\"id\":\"2582\",\"type\":\"BasicTicker\"}},\"id\":\"2581\",\"type\":\"LinearAxis\"},{\"attributes\":{\"axis_label\":\"Capital pr. capita\",\"formatter\":{\"id\":\"2479\",\"type\":\"BasicTickFormatter\"},\"plot\":{\"id\":\"2438\",\"subtype\":\"Figure\",\"type\":\"Plot\"},\"ticker\":{\"id\":\"2454\",\"type\":\"BasicTicker\"}},\"id\":\"2453\",\"type\":\"LinearAxis\"},{\"attributes\":{},\"id\":\"2582\",\"type\":\"BasicTicker\"},{\"attributes\":{\"dimension\":1,\"plot\":{\"id\":\"2566\",\"subtype\":\"Figure\",\"type\":\"Plot\"},\"ticker\":{\"id\":\"2582\",\"type\":\"BasicTicker\"}},\"id\":\"2585\",\"type\":\"Grid\"},{\"attributes\":{},\"id\":\"2454\",\"type\":\"BasicTicker\"},{\"attributes\":{\"dimension\":1,\"plot\":{\"id\":\"2438\",\"subtype\":\"Figure\",\"type\":\"Plot\"},\"ticker\":{\"id\":\"2454\",\"type\":\"BasicTicker\"}},\"id\":\"2457\",\"type\":\"Grid\"},{\"attributes\":{\"children\":[{\"id\":\"2502\",\"subtype\":\"Figure\",\"type\":\"Plot\"},{\"id\":\"2566\",\"subtype\":\"Figure\",\"type\":\"Plot\"}]},\"id\":\"2628\",\"type\":\"Row\"},{\"attributes\":{\"callback\":null},\"id\":\"2570\",\"type\":\"DataRange1d\"},{\"attributes\":{\"callback\":null,\"data\":{\"a\":{\"__ndarray__\":\"+zljuEATQkA+xl7mt6NBQEw13Q1iQUFAfW6A1bXnQEDIfRTlnJdAQBn1nWARUEBAke+5i7gRQECyFFg8ErQ/QGC1delGTj9Asv71/QvyPkDlx2S4QJ8+QFOt3ELwVj5AF4vDqTIWPkD9gfHLENw9QAoUJcvkpz1AXvGyWU55PUB1K+GHh089QAkAIXkRKj1AiXB3z3wIPUChyIPXZOo8QKg7tqBuzzxAX6q/Iki3PECx1geh56E8QHdFrL3JjjxArfY4Dah9PEBmb6hZTm48QKKqU62NYDxAwkeM0TtUPECXxHjYMkk8QCKQebFQPzxAhjpax3Y2PEATUpOniS48QLpB5rFwJzxArLGjzxUhPEBzsPUxZRs8QJCokBZNFjxAIGU4kr0RPEA5zZBgqA08QBZIvLgACjxAjr1TJrsGPECUvU1mzQM8QM1yc0cuATxA2pEKjtX+O0Dtc2Pau/w7QIX0AZLa+jtAwIMeyyv5O0DoKkM6qvc7QMsHziFR9jtARgooQxz1O0C8j4PRB/Q7QJjY+mUQ8ztAu03q9DLyO0CjJWbEbPE7QB48rmO78DtAnOGFoxzwO0CKEFiPju87QKjdEmcP7ztA6iGnmZ3uO0BeTxvAN+47QBYjIpnc7TtA9XknBYvtO0DG+MYCQu07QER+oasA7TtAFXqHMcbsO0AIS+/bkew7QDKyrwVj7DtAdTz3GjnsO0DAQXqXE+w7QF3D0QTy6ztAPQsG+dPrO0Atd0AVues7QBtVoASh6ztAkCMve4vrO0D26/A0eOs7QGPEDfVm6ztAVdURhVfrO0ANh0G0Ses7QPa4/1Y96ztAox5ERjLrO0CqECBfKOs7QNxMUIIf6ztAfErakxfrO0Ae67N6EOs7QN1xdCAK6ztAfMcNcQTrO0BsLI1a/+o7QPiQ4sz66jtA2uCtufbqO0A4ohEU8+o7QOxYitDv6jtA4C3K5OzqO0C0Z5hH6uo7QFhOtPDn6jtAPx272OXqO0BqshD54+o7QGCwykvi6jtAUNGdy+DqO0CIMM1z3+o7QEZVG0De6jtA1M+8LN3qO0C4Pkw23Oo7QPeVv1nb6jtAuoZelNrqO0D+6Lnj2eo7QEMMpEXZ6jtAzdYpuNjqO0D/nYw52Oo7QBqkPMjX6jtAPirUYtfqO0D5BhMI1+o7QH6z2rbW6jtA/sIqbtbqO0AeuR0t1uo7QHo15vLV6jtAL2vMvtXqO0CZ3CuQ1eo7QAJUcWbV6jtA2RIZQdXqO0DKMa0f1eo7QHgsxAHV6jtAYpT/5tTqO0C35grP1Oo7QJCBmrnU6jtAIbVqptTqO0AF7j6V1Oo7QAf24IXU6jtA70ggeNTqO0Bce9Fr1Oo7QK6xzWDU6jtAWSXyVtTqO0ARtx9O1Oo7QJyMOkbU6jtAzbgpP9TqO0Dc7NY41Oo7QPUxLjPU6jtAPKodLtTqO0BKWJUp1Oo7QNDshiXU6jtAUZnlIdTqO0DG56Ue1Oo7QGGWvRvU6jtAMHcjGdTqO0AnU88W1Oo7QCHQuRTU6jtAwlncEtTqO0CZDDER1Oo7QJSjsg/U6jtAXGdcDtTqO0B2HyoN1Oo7QOYEGAzU6jtA\",\"dtype\":\"float64\",\"shape\":[150]},\"b\":[27.917297540474422,27.917297540474422,27.917297540474422,27.917297540474422,27.917297540474422,27.917297540474422,27.917297540474422,27.917297540474422,27.917297540474422,27.917297540474422,27.917297540474422,27.917297540474422,27.917297540474422,27.917297540474422,27.917297540474422,27.917297540474422,27.917297540474422,27.917297540474422,27.917297540474422,27.917297540474422,27.917297540474422,27.917297540474422,27.917297540474422,27.917297540474422,27.917297540474422,27.917297540474422,27.917297540474422,27.917297540474422,27.917297540474422,27.917297540474422,27.917297540474422,27.917297540474422,27.917297540474422,27.917297540474422,27.917297540474422,27.917297540474422,27.917297540474422,27.917297540474422,27.917297540474422,27.917297540474422,27.917297540474422,27.917297540474422,27.917297540474422,27.917297540474422,27.917297540474422,27.917297540474422,27.917297540474422,27.917297540474422,27.917297540474422,27.917297540474422,27.917297540474422,27.917297540474422,27.917297540474422,27.917297540474422,27.917297540474422,27.917297540474422,27.917297540474422,27.917297540474422,27.917297540474422,27.917297540474422,27.917297540474422,27.917297540474422,27.917297540474422,27.917297540474422,27.917297540474422,27.917297540474422,27.917297540474422,27.917297540474422,27.917297540474422,27.917297540474422,27.917297540474422,27.917297540474422,27.917297540474422,27.917297540474422,27.917297540474422,27.917297540474422,27.917297540474422,27.917297540474422,27.917297540474422,27.917297540474422,27.917297540474422,27.917297540474422,27.917297540474422,27.917297540474422,27.917297540474422,27.917297540474422,27.917297540474422,27.917297540474422,27.917297540474422,27.917297540474422,27.917297540474422,27.917297540474422,27.917297540474422,27.917297540474422,27.917297540474422,27.917297540474422,27.917297540474422,27.917297540474422,27.917297540474422,27.917297540474422,27.917297540474422,27.917297540474422,27.917297540474422,27.917297540474422,27.917297540474422,27.917297540474422,27.917297540474422,27.917297540474422,27.917297540474422,27.917297540474422,27.917297540474422,27.917297540474422,27.917297540474422,27.917297540474422,27.917297540474422,27.917297540474422,27.917297540474422,27.917297540474422,27.917297540474422,27.917297540474422,27.917297540474422,27.917297540474422,27.917297540474422,27.917297540474422,27.917297540474422,27.917297540474422,27.917297540474422,27.917297540474422,27.917297540474422,27.917297540474422,27.917297540474422,27.917297540474422,27.917297540474422,27.917297540474422,27.917297540474422,27.917297540474422,27.917297540474422,27.917297540474422,27.917297540474422,27.917297540474422,27.917297540474422,27.917297540474422,27.917297540474422,27.917297540474422,27.917297540474422,27.917297540474422,27.917297540474422,27.917297540474422,27.917297540474422,27.917297540474422],\"x\":[0,1,2,3,4,5,6,7,8,9,10,11,12,13,14,15,16,17,18,19,20,21,22,23,24,25,26,27,28,29,30,31,32,33,34,35,36,37,38,39,40,41,42,43,44,45,46,47,48,49,50,51,52,53,54,55,56,57,58,59,60,61,62,63,64,65,66,67,68,69,70,71,72,73,74,75,76,77,78,79,80,81,82,83,84,85,86,87,88,89,90,91,92,93,94,95,96,97,98,99,100,101,102,103,104,105,106,107,108,109,110,111,112,113,114,115,116,117,118,119,120,121,122,123,124,125,126,127,128,129,130,131,132,133,134,135,136,137,138,139,140,141,142,143,144,145,146,147,148,149]},\"selected\":{\"id\":\"2561\",\"type\":\"Selection\"},\"selection_policy\":{\"id\":\"2560\",\"type\":\"UnionRenderers\"}},\"id\":\"2500\",\"type\":\"ColumnDataSource\"},{\"attributes\":{\"callback\":null,\"tooltips\":[[\"T\",\"@x{0,0.00}\"],[\"Savings rate for Savings rate\",\"@a{0.00} %\"],[\"Savings rate for Steady state\",\"@b{0.00} %\"]]},\"id\":\"2563\",\"type\":\"HoverTool\"},{\"attributes\":{},\"id\":\"2586\",\"type\":\"PanTool\"},{\"attributes\":{},\"id\":\"2458\",\"type\":\"PanTool\"},{\"attributes\":{},\"id\":\"2587\",\"type\":\"WheelZoomTool\"},{\"attributes\":{},\"id\":\"2459\",\"type\":\"WheelZoomTool\"},{\"attributes\":{\"overlay\":{\"id\":\"2594\",\"type\":\"BoxAnnotation\"}},\"id\":\"2588\",\"type\":\"BoxZoomTool\"},{\"attributes\":{\"overlay\":{\"id\":\"2466\",\"type\":\"BoxAnnotation\"}},\"id\":\"2460\",\"type\":\"BoxZoomTool\"},{\"attributes\":{},\"id\":\"2589\",\"type\":\"ResetTool\"},{\"attributes\":{},\"id\":\"2461\",\"type\":\"ResetTool\"},{\"attributes\":{},\"id\":\"2590\",\"type\":\"SaveTool\"},{\"attributes\":{\"active_drag\":\"auto\",\"active_inspect\":\"auto\",\"active_multi\":null,\"active_scroll\":\"auto\",\"active_tap\":\"auto\",\"tools\":[{\"id\":\"2563\",\"type\":\"HoverTool\"},{\"id\":\"2586\",\"type\":\"PanTool\"},{\"id\":\"2587\",\"type\":\"WheelZoomTool\"},{\"id\":\"2588\",\"type\":\"BoxZoomTool\"},{\"id\":\"2589\",\"type\":\"ResetTool\"},{\"id\":\"2590\",\"type\":\"SaveTool\"}]},\"id\":\"2591\",\"type\":\"Toolbar\"},{\"attributes\":{},\"id\":\"2462\",\"type\":\"SaveTool\"},{\"attributes\":{\"line_color\":\"red\",\"x\":{\"field\":\"x\"},\"y\":{\"field\":\"a\"}},\"id\":\"2601\",\"type\":\"Line\"},{\"attributes\":{\"active_drag\":\"auto\",\"active_inspect\":\"auto\",\"active_multi\":null,\"active_scroll\":\"auto\",\"active_tap\":\"auto\",\"tools\":[{\"id\":\"2435\",\"type\":\"HoverTool\"},{\"id\":\"2458\",\"type\":\"PanTool\"},{\"id\":\"2459\",\"type\":\"WheelZoomTool\"},{\"id\":\"2460\",\"type\":\"BoxZoomTool\"},{\"id\":\"2461\",\"type\":\"ResetTool\"},{\"id\":\"2462\",\"type\":\"SaveTool\"}]},\"id\":\"2463\",\"type\":\"Toolbar\"},{\"attributes\":{\"bottom_units\":\"screen\",\"fill_alpha\":{\"value\":0.5},\"fill_color\":{\"value\":\"lightgrey\"},\"left_units\":\"screen\",\"level\":\"overlay\",\"line_alpha\":{\"value\":1.0},\"line_color\":{\"value\":\"black\"},\"line_dash\":[4,4],\"line_width\":{\"value\":2},\"plot\":null,\"render_mode\":\"css\",\"right_units\":\"screen\",\"top_units\":\"screen\"},\"id\":\"2594\",\"type\":\"BoxAnnotation\"},{\"attributes\":{\"line_color\":\"red\",\"x\":{\"field\":\"x\"},\"y\":{\"field\":\"a\"}},\"id\":\"2473\",\"type\":\"Line\"},{\"attributes\":{\"bottom_units\":\"screen\",\"fill_alpha\":{\"value\":0.5},\"fill_color\":{\"value\":\"lightgrey\"},\"left_units\":\"screen\",\"level\":\"overlay\",\"line_alpha\":{\"value\":1.0},\"line_color\":{\"value\":\"black\"},\"line_dash\":[4,4],\"line_width\":{\"value\":2},\"plot\":null,\"render_mode\":\"css\",\"right_units\":\"screen\",\"top_units\":\"screen\"},\"id\":\"2466\",\"type\":\"BoxAnnotation\"},{\"attributes\":{\"line_alpha\":0.1,\"line_color\":\"#1f77b4\",\"x\":{\"field\":\"x\"},\"y\":{\"field\":\"a\"}},\"id\":\"2602\",\"type\":\"Line\"},{\"attributes\":{\"source\":{\"id\":\"2372\",\"type\":\"ColumnDataSource\"}},\"id\":\"2412\",\"type\":\"CDSView\"},{\"attributes\":{\"data_source\":{\"id\":\"2564\",\"type\":\"ColumnDataSource\"},\"glyph\":{\"id\":\"2601\",\"type\":\"Line\"},\"hover_glyph\":null,\"muted_glyph\":null,\"nonselection_glyph\":{\"id\":\"2602\",\"type\":\"Line\"},\"selection_glyph\":null,\"view\":{\"id\":\"2604\",\"type\":\"CDSView\"}},\"id\":\"2603\",\"type\":\"GlyphRenderer\"},{\"attributes\":{\"line_alpha\":0.1,\"line_color\":\"#1f77b4\",\"x\":{\"field\":\"x\"},\"y\":{\"field\":\"a\"}},\"id\":\"2474\",\"type\":\"Line\"},{\"attributes\":{\"data_source\":{\"id\":\"2436\",\"type\":\"ColumnDataSource\"},\"glyph\":{\"id\":\"2473\",\"type\":\"Line\"},\"hover_glyph\":null,\"muted_glyph\":null,\"nonselection_glyph\":{\"id\":\"2474\",\"type\":\"Line\"},\"selection_glyph\":null,\"view\":{\"id\":\"2476\",\"type\":\"CDSView\"}},\"id\":\"2475\",\"type\":\"GlyphRenderer\"},{\"attributes\":{\"source\":{\"id\":\"2564\",\"type\":\"ColumnDataSource\"}},\"id\":\"2604\",\"type\":\"CDSView\"},{\"attributes\":{\"source\":{\"id\":\"2436\",\"type\":\"ColumnDataSource\"}},\"id\":\"2476\",\"type\":\"CDSView\"},{\"attributes\":{},\"id\":\"2479\",\"type\":\"BasicTickFormatter\"},{\"attributes\":{},\"id\":\"2481\",\"type\":\"BasicTickFormatter\"},{\"attributes\":{\"items\":[{\"id\":\"2484\",\"type\":\"LegendItem\"},{\"id\":\"2498\",\"type\":\"LegendItem\"}],\"location\":\"bottom_center\",\"plot\":{\"id\":\"2438\",\"subtype\":\"Figure\",\"type\":\"Plot\"}},\"id\":\"2483\",\"type\":\"Legend\"},{\"attributes\":{\"label\":{\"value\":\"Capital pr. capita\"},\"renderers\":[{\"id\":\"2475\",\"type\":\"GlyphRenderer\"}]},\"id\":\"2484\",\"type\":\"LegendItem\"},{\"attributes\":{\"line_alpha\":0.1,\"line_color\":\"#1f77b4\",\"x\":{\"field\":\"x\"},\"y\":{\"field\":\"b\"}},\"id\":\"2487\",\"type\":\"Line\"},{\"attributes\":{\"data_source\":{\"id\":\"2436\",\"type\":\"ColumnDataSource\"},\"glyph\":{\"id\":\"2486\",\"type\":\"Line\"},\"hover_glyph\":null,\"muted_glyph\":null,\"nonselection_glyph\":{\"id\":\"2487\",\"type\":\"Line\"},\"selection_glyph\":null,\"view\":{\"id\":\"2489\",\"type\":\"CDSView\"}},\"id\":\"2488\",\"type\":\"GlyphRenderer\"},{\"attributes\":{\"source\":{\"id\":\"2436\",\"type\":\"ColumnDataSource\"}},\"id\":\"2489\",\"type\":\"CDSView\"},{\"attributes\":{},\"id\":\"2496\",\"type\":\"UnionRenderers\"},{\"attributes\":{\"below\":[{\"id\":\"2384\",\"type\":\"LinearAxis\"}],\"left\":[{\"id\":\"2389\",\"type\":\"LinearAxis\"}],\"plot_height\":450,\"plot_width\":450,\"renderers\":[{\"id\":\"2384\",\"type\":\"LinearAxis\"},{\"id\":\"2388\",\"type\":\"Grid\"},{\"id\":\"2389\",\"type\":\"LinearAxis\"},{\"id\":\"2393\",\"type\":\"Grid\"},{\"id\":\"2402\",\"type\":\"BoxAnnotation\"},{\"id\":\"2419\",\"type\":\"Legend\"},{\"id\":\"2411\",\"type\":\"GlyphRenderer\"},{\"id\":\"2424\",\"type\":\"GlyphRenderer\"}],\"title\":{\"id\":\"2373\",\"type\":\"Title\"},\"toolbar\":{\"id\":\"2399\",\"type\":\"Toolbar\"},\"x_range\":{\"id\":\"2376\",\"type\":\"DataRange1d\"},\"x_scale\":{\"id\":\"2380\",\"type\":\"LinearScale\"},\"y_range\":{\"id\":\"2378\",\"type\":\"DataRange1d\"},\"y_scale\":{\"id\":\"2382\",\"type\":\"LinearScale\"}},\"id\":\"2374\",\"subtype\":\"Figure\",\"type\":\"Plot\"},{\"attributes\":{},\"id\":\"2497\",\"type\":\"Selection\"},{\"attributes\":{\"label\":{\"value\":\"Steady sate\"},\"renderers\":[{\"id\":\"2488\",\"type\":\"GlyphRenderer\"}]},\"id\":\"2498\",\"type\":\"LegendItem\"},{\"attributes\":{\"callback\":null,\"data\":{\"a\":{\"__ndarray__\":\"AAAAAAAAIEDrGJZLj4MgQBJgEY1++iBABvcOgf1lIUDz5DsJ6MYhQL1AQZM0HiJAgdBPAMhsIkDwbDDclrMiQBBLJSFf8yJALZcTvrUsI0CDL8qTLmAjQHmp8ndajiNAX7V3XdO3I0BdqcSNEN0jQIYcyUl8/iNAFrdYTXccJEDE82XQWzckQJIFCCp5TyRAotjNChdlJEAhNYVFdngkQDilb2TRiSRAhT/0NV2ZJEAXXUhQSackQE4r2VHDsyRArWYYpvG+JEBKjGJg9sgkQJpfrCbw0SRAjoz2hfrZJEC8UGg/LuEkQD4Kio6h5yRAptkaaWjtJEDIq/u4lPIkQO/jppA29yRANjCnWlz7JEBmWHoEE/8kQAp8RiVmAiVA+4TBIGAFJUC1yqNGCgglQH8r+O5sCiVAvliVk48MJUBT0QXneA4lQKoUHukuECVAKQR7+bYRJUD3MR3oFRMlQNEFUQRQFCVANCgPKmkVJUDkh/zNZBYlQKWILQhGFyVAVnjMnQ8YJUBZQ8AJxBglQPmFbYRlGSVAQYCpCvYZJUABGPRjdxolQMzzCyjrGiVAcc3tw1IbJUC9XU5+rxslQFKynHsCHCVA+1SZwUwcJUBWZo06jxwlQOSoK7jKHCVABXIk9v8cJUDHiXScLx0lQH0tdkFaHSVAQaq6a4AdJUDHWLKToh0lQCcqKCXBHSVAHWuVgNwdJUBM51H89B0lQCsnpOUKHiVAix+1gR4eJUBsUGoOMB4lQOcAKcM/HiVARf6E0U0eJUD5A91lWh4lQPO45qdlHiVA+voru28eJUCvAnu/eB4lQIrBStGAHiVACbYUCogeJUAvUaWAjh4lQNLqY0mUHiVAcieTdpkeJUDTmooYnh4lQPRc6j2iHiVAMzTJ86UeJUAp5t1FqR4lQKMxpD6sHiVATeZ9564eJUCTgtBIsR4lQBW1H2qzHiVAUxUlUrUeJUCLXuUGtx4lQJFvw424HiVA1kuR67keJUAUU58kux4lQM3fyTy8HiVAf3eFN70eJUAZs+kXvh4lQAsCu+C+HiVA4WZzlL8eJUDOSEo1wB4lQA1zO8XAHiVAAFgNRsEeJUDwq1a5wR4lQARpgyDCHiVAaUzZfMIeJUCv2nvPwh4lQCj4bxnDHiVAlSCfW8MeJUBESNqWwx4lQMJv3MvDHiVASPJM+8MeJUAQlsElxB4lQDNlwEvEHiVA2VTBbcQeJUD1vy+MxB4lQC66a6fEHiVAOj/Lv8QeJUBRQpvVxB4lQB6hIOnEHiVALP2Y+sQeJUB8fjsKxR4lQKSBORjFHiVAqzO/JMUeJUB+HfQvxR4lQMKg+znFHiVAi2f1QsUeJUBTyP1KxR4lQHEfLlLFHiVAKR+dWMUeJUBZF19exR4lQJA1hmPFHiVAf74iaMUeJUBNQUNsxR4lQJDF9G/FHiVAb/RCc8UeJUB3PTh2xR4lQIr33XjFHiVAWn48e8UeJUDQTFt9xR4lQKgUQX/FHiVAk9PzgMUeJUAi5niCxR4lQLYY1YPFHiVAnbYMhcUeJUCtlyOGxR4lQF4sHYfFHiVAqYj8h8UeJUC8bcSIxR4lQLNSd4nFHiVA\",\"dtype\":\"float64\",\"shape\":[150]},\"b\":[10.560101014940885,10.560101014940885,10.560101014940885,10.560101014940885,10.560101014940885,10.560101014940885,10.560101014940885,10.560101014940885,10.560101014940885,10.560101014940885,10.560101014940885,10.560101014940885,10.560101014940885,10.560101014940885,10.560101014940885,10.560101014940885,10.560101014940885,10.560101014940885,10.560101014940885,10.560101014940885,10.560101014940885,10.560101014940885,10.560101014940885,10.560101014940885,10.560101014940885,10.560101014940885,10.560101014940885,10.560101014940885,10.560101014940885,10.560101014940885,10.560101014940885,10.560101014940885,10.560101014940885,10.560101014940885,10.560101014940885,10.560101014940885,10.560101014940885,10.560101014940885,10.560101014940885,10.560101014940885,10.560101014940885,10.560101014940885,10.560101014940885,10.560101014940885,10.560101014940885,10.560101014940885,10.560101014940885,10.560101014940885,10.560101014940885,10.560101014940885,10.560101014940885,10.560101014940885,10.560101014940885,10.560101014940885,10.560101014940885,10.560101014940885,10.560101014940885,10.560101014940885,10.560101014940885,10.560101014940885,10.560101014940885,10.560101014940885,10.560101014940885,10.560101014940885,10.560101014940885,10.560101014940885,10.560101014940885,10.560101014940885,10.560101014940885,10.560101014940885,10.560101014940885,10.560101014940885,10.560101014940885,10.560101014940885,10.560101014940885,10.560101014940885,10.560101014940885,10.560101014940885,10.560101014940885,10.560101014940885,10.560101014940885,10.560101014940885,10.560101014940885,10.560101014940885,10.560101014940885,10.560101014940885,10.560101014940885,10.560101014940885,10.560101014940885,10.560101014940885,10.560101014940885,10.560101014940885,10.560101014940885,10.560101014940885,10.560101014940885,10.560101014940885,10.560101014940885,10.560101014940885,10.560101014940885,10.560101014940885,10.560101014940885,10.560101014940885,10.560101014940885,10.560101014940885,10.560101014940885,10.560101014940885,10.560101014940885,10.560101014940885,10.560101014940885,10.560101014940885,10.560101014940885,10.560101014940885,10.560101014940885,10.560101014940885,10.560101014940885,10.560101014940885,10.560101014940885,10.560101014940885,10.560101014940885,10.560101014940885,10.560101014940885,10.560101014940885,10.560101014940885,10.560101014940885,10.560101014940885,10.560101014940885,10.560101014940885,10.560101014940885,10.560101014940885,10.560101014940885,10.560101014940885,10.560101014940885,10.560101014940885,10.560101014940885,10.560101014940885,10.560101014940885,10.560101014940885,10.560101014940885,10.560101014940885,10.560101014940885,10.560101014940885,10.560101014940885,10.560101014940885,10.560101014940885,10.560101014940885,10.560101014940885,10.560101014940885,10.560101014940885,10.560101014940885,10.560101014940885],\"x\":[0,1,2,3,4,5,6,7,8,9,10,11,12,13,14,15,16,17,18,19,20,21,22,23,24,25,26,27,28,29,30,31,32,33,34,35,36,37,38,39,40,41,42,43,44,45,46,47,48,49,50,51,52,53,54,55,56,57,58,59,60,61,62,63,64,65,66,67,68,69,70,71,72,73,74,75,76,77,78,79,80,81,82,83,84,85,86,87,88,89,90,91,92,93,94,95,96,97,98,99,100,101,102,103,104,105,106,107,108,109,110,111,112,113,114,115,116,117,118,119,120,121,122,123,124,125,126,127,128,129,130,131,132,133,134,135,136,137,138,139,140,141,142,143,144,145,146,147,148,149]},\"selected\":{\"id\":\"2433\",\"type\":\"Selection\"},\"selection_policy\":{\"id\":\"2432\",\"type\":\"UnionRenderers\"}},\"id\":\"2372\",\"type\":\"ColumnDataSource\"},{\"attributes\":{},\"id\":\"2415\",\"type\":\"BasicTickFormatter\"},{\"attributes\":{\"below\":[{\"id\":\"2512\",\"type\":\"LinearAxis\"}],\"left\":[{\"id\":\"2517\",\"type\":\"LinearAxis\"}],\"plot_height\":450,\"plot_width\":450,\"renderers\":[{\"id\":\"2512\",\"type\":\"LinearAxis\"},{\"id\":\"2516\",\"type\":\"Grid\"},{\"id\":\"2517\",\"type\":\"LinearAxis\"},{\"id\":\"2521\",\"type\":\"Grid\"},{\"id\":\"2530\",\"type\":\"BoxAnnotation\"},{\"id\":\"2547\",\"type\":\"Legend\"},{\"id\":\"2539\",\"type\":\"GlyphRenderer\"},{\"id\":\"2552\",\"type\":\"GlyphRenderer\"}],\"title\":{\"id\":\"2501\",\"type\":\"Title\"},\"toolbar\":{\"id\":\"2527\",\"type\":\"Toolbar\"},\"x_range\":{\"id\":\"2504\",\"type\":\"DataRange1d\"},\"x_scale\":{\"id\":\"2508\",\"type\":\"LinearScale\"},\"y_range\":{\"id\":\"2506\",\"type\":\"DataRange1d\"},\"y_scale\":{\"id\":\"2510\",\"type\":\"LinearScale\"}},\"id\":\"2502\",\"subtype\":\"Figure\",\"type\":\"Plot\"},{\"attributes\":{\"plot\":null,\"text\":\"Evolution of capital for method 1\"},\"id\":\"2373\",\"type\":\"Title\"},{\"attributes\":{\"plot\":null,\"text\":\"Evolution of the savings rate for method 1\"},\"id\":\"2501\",\"type\":\"Title\"},{\"attributes\":{\"callback\":null},\"id\":\"2376\",\"type\":\"DataRange1d\"},{\"attributes\":{\"callback\":null},\"id\":\"2378\",\"type\":\"DataRange1d\"},{\"attributes\":{\"callback\":null},\"id\":\"2504\",\"type\":\"DataRange1d\"},{\"attributes\":{},\"id\":\"2380\",\"type\":\"LinearScale\"},{\"attributes\":{\"callback\":null},\"id\":\"2506\",\"type\":\"DataRange1d\"},{\"attributes\":{},\"id\":\"2508\",\"type\":\"LinearScale\"},{\"attributes\":{},\"id\":\"2382\",\"type\":\"LinearScale\"},{\"attributes\":{},\"id\":\"2510\",\"type\":\"LinearScale\"},{\"attributes\":{\"axis_label\":\"T\",\"formatter\":{\"id\":\"2417\",\"type\":\"BasicTickFormatter\"},\"plot\":{\"id\":\"2374\",\"subtype\":\"Figure\",\"type\":\"Plot\"},\"ticker\":{\"id\":\"2385\",\"type\":\"BasicTicker\"}},\"id\":\"2384\",\"type\":\"LinearAxis\"},{\"attributes\":{\"callback\":null,\"tooltips\":[[\"T\",\"@x{0,0.00}\"],[\"Capital pr. capita for Capital pr. capita\",\"@a{0.00}\"],[\"Capital pr. capita for Steady sate\",\"@b{0.00}\"]]},\"id\":\"2435\",\"type\":\"HoverTool\"},{\"attributes\":{\"axis_label\":\"T\",\"formatter\":{\"id\":\"2545\",\"type\":\"BasicTickFormatter\"},\"plot\":{\"id\":\"2502\",\"subtype\":\"Figure\",\"type\":\"Plot\"},\"ticker\":{\"id\":\"2513\",\"type\":\"BasicTicker\"}},\"id\":\"2512\",\"type\":\"LinearAxis\"},{\"attributes\":{},\"id\":\"2385\",\"type\":\"BasicTicker\"},{\"attributes\":{\"plot\":{\"id\":\"2374\",\"subtype\":\"Figure\",\"type\":\"Plot\"},\"ticker\":{\"id\":\"2385\",\"type\":\"BasicTicker\"}},\"id\":\"2388\",\"type\":\"Grid\"},{\"attributes\":{},\"id\":\"2513\",\"type\":\"BasicTicker\"},{\"attributes\":{\"axis_label\":\"Capital pr. capita\",\"formatter\":{\"id\":\"2415\",\"type\":\"BasicTickFormatter\"},\"plot\":{\"id\":\"2374\",\"subtype\":\"Figure\",\"type\":\"Plot\"},\"ticker\":{\"id\":\"2390\",\"type\":\"BasicTicker\"}},\"id\":\"2389\",\"type\":\"LinearAxis\"},{\"attributes\":{\"plot\":{\"id\":\"2502\",\"subtype\":\"Figure\",\"type\":\"Plot\"},\"ticker\":{\"id\":\"2513\",\"type\":\"BasicTicker\"}},\"id\":\"2516\",\"type\":\"Grid\"},{\"attributes\":{\"axis_label\":\"Savings rate\",\"formatter\":{\"id\":\"2543\",\"type\":\"BasicTickFormatter\"},\"plot\":{\"id\":\"2502\",\"subtype\":\"Figure\",\"type\":\"Plot\"},\"ticker\":{\"id\":\"2518\",\"type\":\"BasicTicker\"}},\"id\":\"2517\",\"type\":\"LinearAxis\"},{\"attributes\":{},\"id\":\"2390\",\"type\":\"BasicTicker\"},{\"attributes\":{\"dimension\":1,\"plot\":{\"id\":\"2374\",\"subtype\":\"Figure\",\"type\":\"Plot\"},\"ticker\":{\"id\":\"2390\",\"type\":\"BasicTicker\"}},\"id\":\"2393\",\"type\":\"Grid\"},{\"attributes\":{},\"id\":\"2518\",\"type\":\"BasicTicker\"},{\"attributes\":{\"dimension\":1,\"plot\":{\"id\":\"2502\",\"subtype\":\"Figure\",\"type\":\"Plot\"},\"ticker\":{\"id\":\"2518\",\"type\":\"BasicTicker\"}},\"id\":\"2521\",\"type\":\"Grid\"},{\"attributes\":{\"callback\":null,\"data\":{\"a\":[8.0,8.27706924590765,8.528094071111605,8.755246073257249,8.960579146762091,9.146023972942597,9.313376535797625,9.464301706245841,9.600328844689392,9.722865566975875,9.833196393439467,9.932501315923034,10.02184202868921,10.102197943772076,10.17444595114835,10.239390640498565,10.297749219062583,10.350180273664504,10.397275639122402,10.439567100035552,10.47753913195062,10.511627199762307,10.542220779848847,10.569673883524223,10.594303455622473,10.616396983896053,10.6362155457033,10.653989752184014,10.669928720864679,10.684220437678102,10.697034286946025,10.70852337425372,10.718826753285281,10.728065089761849,10.736346249822342,10.743773363593812,10.750433355892492,10.756412640614412,10.761775254347889,10.76659021619807,10.770913002204715,10.774795106367359,10.778283620011951,10.781421119064932,10.784244251360583,10.786786506243681,10.78907393604416,10.791136241637938,10.792998151666069,10.794680124927872,10.7961981380428,10.797572548129184,10.798816809495571,10.799943521779262,10.800964814251076,10.801892175842765,10.802735204575175,10.803501548664428,10.804198836361525,10.804834019978358,10.805411667574827,10.805939429604518,10.806419468165185,10.806857675359634,10.80725884944356,10.807622911076562,10.807952866834217,10.808254735139815,10.808527007743065,10.808772251960681,10.808997135174879,10.809197568146166,10.809378017911602,10.809536133453218,10.809674556303134,10.809796071306293,10.809899865744258,10.809987330440432,10.810059652191963,10.810118596993416,10.81016448656531,10.810196037125202,10.810214646331564,10.810222943129313,10.810223067496624,10.81021017524133,10.810188538405521,10.810158354082908,10.810121307182055,10.810076069986088,10.810024603574009,10.809968560376191],\"b\":[10.80817600248203,10.80817600248203,10.80817600248203,10.80817600248203,10.80817600248203,10.80817600248203,10.80817600248203,10.80817600248203,10.80817600248203,10.80817600248203,10.80817600248203,10.80817600248203,10.80817600248203,10.80817600248203,10.80817600248203,10.80817600248203,10.80817600248203,10.80817600248203,10.80817600248203,10.80817600248203,10.80817600248203,10.80817600248203,10.80817600248203,10.80817600248203,10.80817600248203,10.80817600248203,10.80817600248203,10.80817600248203,10.80817600248203,10.80817600248203,10.80817600248203,10.80817600248203,10.80817600248203,10.80817600248203,10.80817600248203,10.80817600248203,10.80817600248203,10.80817600248203,10.80817600248203,10.80817600248203,10.80817600248203,10.80817600248203,10.80817600248203,10.80817600248203,10.80817600248203,10.80817600248203,10.80817600248203,10.80817600248203,10.80817600248203,10.80817600248203,10.80817600248203,10.80817600248203,10.80817600248203,10.80817600248203,10.80817600248203,10.80817600248203,10.80817600248203,10.80817600248203,10.80817600248203,10.80817600248203,10.80817600248203,10.80817600248203,10.80817600248203,10.80817600248203,10.80817600248203,10.80817600248203,10.80817600248203,10.80817600248203,10.80817600248203,10.80817600248203,10.80817600248203,10.80817600248203,10.80817600248203,10.80817600248203,10.80817600248203,10.80817600248203,10.80817600248203,10.80817600248203,10.80817600248203,10.80817600248203,10.80817600248203,10.80817600248203,10.80817600248203,10.80817600248203,10.80817600248203,10.80817600248203,10.80817600248203,10.80817600248203,10.80817600248203,10.80817600248203,10.80817600248203,10.80817600248203],\"x\":[0,1,2,3,4,5,6,7,8,9,10,11,12,13,14,15,16,17,18,19,20,21,22,23,24,25,26,27,28,29,30,31,32,33,34,35,36,37,38,39,40,41,42,43,44,45,46,47,48,49,50,51,52,53,54,55,56,57,58,59,60,61,62,63,64,65,66,67,68,69,70,71,72,73,74,75,76,77,78,79,80,81,82,83,84,85,86,87,88,89,90,91]},\"selected\":{\"id\":\"2497\",\"type\":\"Selection\"},\"selection_policy\":{\"id\":\"2496\",\"type\":\"UnionRenderers\"}},\"id\":\"2436\",\"type\":\"ColumnDataSource\"},{\"attributes\":{\"callback\":null},\"id\":\"2568\",\"type\":\"DataRange1d\"},{\"attributes\":{\"callback\":null,\"tooltips\":[[\"T\",\"@x{0,0.00}\"],[\"Savings rate for Savings rate\",\"@a{0.00} %\"],[\"Savings rate for Steady state\",\"@b{0.00} %\"]]},\"id\":\"2499\",\"type\":\"HoverTool\"},{\"attributes\":{\"callback\":null,\"data\":{\"a\":{\"__ndarray__\":\"SRlbdAeVQkBeIhd06R5CQI73pZdltUFAaMpcVRRXQUASUF8WwgJBQGWBkqhVt0BABaBz/NtzQEDWMoa8cjdAQDT8QbxdAUBAxRmgV9WhP0AwtU/IF0s/QLykRGZI/T5AOWq82aC3PkBZF1yhIXk+QOJT9MknQT5ANpWGJuMOPkCAgIyU2OE9QOVSPyxzuT1AXO1gcS+VPUDVreFTrXQ9QBjxOBuFVz1AbnPy+lQ9PUACKcKK1yU9QB7VRvy/ED1AsG01ZdX9PEDIqU2Z5ew8QNM1dvyv3TxA76hNEQzQPED2tlJ40MM8QOJkbGXZuDxAcR8aNQivPEBMslNVQ6Y8QCRS9M5injxAGdP9fE2XPEC4nR8LAZE8QJ7oT1pYizxAYayFhVuGPEDk2Oo00YE8QAi52nTPfTxA/AoSfDV6PEBtroya/XY8QHuW3G8gdDxAJVnEyZVxPEBfcee8UG88QAKcavxLbTxARkPrFnVrPECmO37o2Wk8QHu0OPNuaDxAnvj6QipnPEAU54bFAGY8QKLW62MBZTxAmlVHzhlkPEBHTRn/SGM8QCjpOv6OYjxAeFD8Q+thPECpw3F5WWE8QGaqguPUYDxA+OV/Ul5gPECgV2+g9F88QLpW2HiRXzxA3BI+lz5fPECa91h17F48QJvplHemXjxAQlXLBWpePEDX2Z0ZKV48QMoXFOnsXTxAomT6y75dPED4w6f1iF08QG9wK2dXXTxAMHnFqzZdPEDOA4pjB108QJre6qbiXDxAEJcHmrRcPECaLXvii1w8QDPMUztpXDxAoDWjNkJcPECXYe1RHVw8QLYX7Rn6WzxApctsbNpbPEBFipMsuls8QFlq25eUWzxAIVd2i3FbPEBzux3eVFs8QGAI9WY9WzxAA/4ChxZbPEBDsZTs+lo8QAxbU+jeWjxAJxn28cZaPEBYXL86qlo8QNbUH2+SWjxAA6+Q3H5aPEDuvN5CZlo8QA==\",\"dtype\":\"float64\",\"shape\":[92]},\"b\":[28.352820323749917,28.352820323749917,28.352820323749917,28.352820323749917,28.352820323749917,28.352820323749917,28.352820323749917,28.352820323749917,28.352820323749917,28.352820323749917,28.352820323749917,28.352820323749917,28.352820323749917,28.352820323749917,28.352820323749917,28.352820323749917,28.352820323749917,28.352820323749917,28.352820323749917,28.352820323749917,28.352820323749917,28.352820323749917,28.352820323749917,28.352820323749917,28.352820323749917,28.352820323749917,28.352820323749917,28.352820323749917,28.352820323749917,28.352820323749917,28.352820323749917,28.352820323749917,28.352820323749917,28.352820323749917,28.352820323749917,28.352820323749917,28.352820323749917,28.352820323749917,28.352820323749917,28.352820323749917,28.352820323749917,28.352820323749917,28.352820323749917,28.352820323749917,28.352820323749917,28.352820323749917,28.352820323749917,28.352820323749917,28.352820323749917,28.352820323749917,28.352820323749917,28.352820323749917,28.352820323749917,28.352820323749917,28.352820323749917,28.352820323749917,28.352820323749917,28.352820323749917,28.352820323749917,28.352820323749917,28.352820323749917,28.352820323749917,28.352820323749917,28.352820323749917,28.352820323749917,28.352820323749917,28.352820323749917,28.352820323749917,28.352820323749917,28.352820323749917,28.352820323749917,28.352820323749917,28.352820323749917,28.352820323749917,28.352820323749917,28.352820323749917,28.352820323749917,28.352820323749917,28.352820323749917,28.352820323749917,28.352820323749917,28.352820323749917,28.352820323749917,28.352820323749917,28.352820323749917,28.352820323749917,28.352820323749917,28.352820323749917,28.352820323749917,28.352820323749917,28.352820323749917,28.352820323749917],\"x\":[0,1,2,3,4,5,6,7,8,9,10,11,12,13,14,15,16,17,18,19,20,21,22,23,24,25,26,27,28,29,30,31,32,33,34,35,36,37,38,39,40,41,42,43,44,45,46,47,48,49,50,51,52,53,54,55,56,57,58,59,60,61,62,63,64,65,66,67,68,69,70,71,72,73,74,75,76,77,78,79,80,81,82,83,84,85,86,87,88,89,90,91]},\"selected\":{\"id\":\"2625\",\"type\":\"Selection\"},\"selection_policy\":{\"id\":\"2624\",\"type\":\"UnionRenderers\"}},\"id\":\"2564\",\"type\":\"ColumnDataSource\"},{\"attributes\":{\"children\":[{\"id\":\"2374\",\"subtype\":\"Figure\",\"type\":\"Plot\"},{\"id\":\"2438\",\"subtype\":\"Figure\",\"type\":\"Plot\"}]},\"id\":\"2627\",\"type\":\"Row\"},{\"attributes\":{},\"id\":\"2394\",\"type\":\"PanTool\"},{\"attributes\":{},\"id\":\"2395\",\"type\":\"WheelZoomTool\"},{\"attributes\":{},\"id\":\"2522\",\"type\":\"PanTool\"},{\"attributes\":{\"overlay\":{\"id\":\"2402\",\"type\":\"BoxAnnotation\"}},\"id\":\"2396\",\"type\":\"BoxZoomTool\"},{\"attributes\":{},\"id\":\"2523\",\"type\":\"WheelZoomTool\"},{\"attributes\":{},\"id\":\"2397\",\"type\":\"ResetTool\"},{\"attributes\":{\"overlay\":{\"id\":\"2530\",\"type\":\"BoxAnnotation\"}},\"id\":\"2524\",\"type\":\"BoxZoomTool\"},{\"attributes\":{},\"id\":\"2398\",\"type\":\"SaveTool\"},{\"attributes\":{},\"id\":\"2525\",\"type\":\"ResetTool\"},{\"attributes\":{\"active_drag\":\"auto\",\"active_inspect\":\"auto\",\"active_multi\":null,\"active_scroll\":\"auto\",\"active_tap\":\"auto\",\"tools\":[{\"id\":\"2371\",\"type\":\"HoverTool\"},{\"id\":\"2394\",\"type\":\"PanTool\"},{\"id\":\"2395\",\"type\":\"WheelZoomTool\"},{\"id\":\"2396\",\"type\":\"BoxZoomTool\"},{\"id\":\"2397\",\"type\":\"ResetTool\"},{\"id\":\"2398\",\"type\":\"SaveTool\"}]},\"id\":\"2399\",\"type\":\"Toolbar\"},{\"attributes\":{},\"id\":\"2526\",\"type\":\"SaveTool\"},{\"attributes\":{\"line_color\":\"red\",\"x\":{\"field\":\"x\"},\"y\":{\"field\":\"a\"}},\"id\":\"2409\",\"type\":\"Line\"},{\"attributes\":{\"active_drag\":\"auto\",\"active_inspect\":\"auto\",\"active_multi\":null,\"active_scroll\":\"auto\",\"active_tap\":\"auto\",\"tools\":[{\"id\":\"2499\",\"type\":\"HoverTool\"},{\"id\":\"2522\",\"type\":\"PanTool\"},{\"id\":\"2523\",\"type\":\"WheelZoomTool\"},{\"id\":\"2524\",\"type\":\"BoxZoomTool\"},{\"id\":\"2525\",\"type\":\"ResetTool\"},{\"id\":\"2526\",\"type\":\"SaveTool\"}]},\"id\":\"2527\",\"type\":\"Toolbar\"},{\"attributes\":{\"bottom_units\":\"screen\",\"fill_alpha\":{\"value\":0.5},\"fill_color\":{\"value\":\"lightgrey\"},\"left_units\":\"screen\",\"level\":\"overlay\",\"line_alpha\":{\"value\":1.0},\"line_color\":{\"value\":\"black\"},\"line_dash\":[4,4],\"line_width\":{\"value\":2},\"plot\":null,\"render_mode\":\"css\",\"right_units\":\"screen\",\"top_units\":\"screen\"},\"id\":\"2402\",\"type\":\"BoxAnnotation\"},{\"attributes\":{\"line_color\":\"red\",\"x\":{\"field\":\"x\"},\"y\":{\"field\":\"a\"}},\"id\":\"2537\",\"type\":\"Line\"},{\"attributes\":{\"line_alpha\":0.1,\"line_color\":\"#1f77b4\",\"x\":{\"field\":\"x\"},\"y\":{\"field\":\"a\"}},\"id\":\"2410\",\"type\":\"Line\"},{\"attributes\":{\"bottom_units\":\"screen\",\"fill_alpha\":{\"value\":0.5},\"fill_color\":{\"value\":\"lightgrey\"},\"left_units\":\"screen\",\"level\":\"overlay\",\"line_alpha\":{\"value\":1.0},\"line_color\":{\"value\":\"black\"},\"line_dash\":[4,4],\"line_width\":{\"value\":2},\"plot\":null,\"render_mode\":\"css\",\"right_units\":\"screen\",\"top_units\":\"screen\"},\"id\":\"2530\",\"type\":\"BoxAnnotation\"},{\"attributes\":{\"data_source\":{\"id\":\"2372\",\"type\":\"ColumnDataSource\"},\"glyph\":{\"id\":\"2409\",\"type\":\"Line\"},\"hover_glyph\":null,\"muted_glyph\":null,\"nonselection_glyph\":{\"id\":\"2410\",\"type\":\"Line\"},\"selection_glyph\":null,\"view\":{\"id\":\"2412\",\"type\":\"CDSView\"}},\"id\":\"2411\",\"type\":\"GlyphRenderer\"},{\"attributes\":{\"line_alpha\":0.1,\"line_color\":\"#1f77b4\",\"x\":{\"field\":\"x\"},\"y\":{\"field\":\"a\"}},\"id\":\"2538\",\"type\":\"Line\"},{\"attributes\":{\"data_source\":{\"id\":\"2500\",\"type\":\"ColumnDataSource\"},\"glyph\":{\"id\":\"2537\",\"type\":\"Line\"},\"hover_glyph\":null,\"muted_glyph\":null,\"nonselection_glyph\":{\"id\":\"2538\",\"type\":\"Line\"},\"selection_glyph\":null,\"view\":{\"id\":\"2540\",\"type\":\"CDSView\"}},\"id\":\"2539\",\"type\":\"GlyphRenderer\"}],\"root_ids\":[\"2629\"]},\"title\":\"Bokeh Application\",\"version\":\"1.0.2\"}};\n",
       "  var render_items = [{\"docid\":\"b12f629d-15ba-4e6b-848c-172b734ede6e\",\"notebook_comms_target\":\"2738\",\"roots\":{\"2629\":\"1ec0d3f6-4e9a-4e71-a550-ac5966999971\"}}];\n",
       "  root.Bokeh.embed.embed_items_notebook(docs_json, render_items);\n",
       "\n",
       "  }\n",
       "  if (root.Bokeh !== undefined) {\n",
       "    embed_document(root);\n",
       "  } else {\n",
       "    var attempts = 0;\n",
       "    var timer = setInterval(function(root) {\n",
       "      if (root.Bokeh !== undefined) {\n",
       "        embed_document(root);\n",
       "        clearInterval(timer);\n",
       "      }\n",
       "      attempts++;\n",
       "      if (attempts > 100) {\n",
       "        console.log(\"Bokeh: ERROR: Unable to run BokehJS code because BokehJS library is missing\");\n",
       "        clearInterval(timer);\n",
       "      }\n",
       "    }, 10, root)\n",
       "  }\n",
       "})(window);"
      ],
      "application/vnd.bokehjs_exec.v0+json": ""
     },
     "metadata": {
      "application/vnd.bokehjs_exec.v0+json": {
       "id": "2629"
      }
     },
     "output_type": "display_data"
    },
    {
     "data": {
      "text/html": [
       "<p><code>&lt;Bokeh Notebook handle for <strong>In[21]</strong>&gt;</code></p>"
      ],
      "text/plain": [
       "<bokeh.io.notebook.CommsHandle at 0x127c7c780>"
      ]
     },
     "execution_count": 21,
     "metadata": {},
     "output_type": "execute_result"
    }
   ],
   "source": [
    "k_star, sk_star = model_funcs.find_ss_interp(sk_interpers[1], a, n, delta, alpha)\n",
    "\n",
    "k_pr, y_pr, sk_path = model_funcs.new_mod_solowwalk(\n",
    "    k0, l0, a,n, alpha, delta, sk_interpers[1], timeline)\n",
    "\n",
    "ss_sk, ss_k, sk_path_2, k_pr_2 = model_funcs.find_ss_ramsey(\n",
    "    a, n, beta, delta, alpha, theta, k0=k0,l0=l0,path =True)\n",
    "\n",
    "p1 = model_funcs.plotting(\"T\",['Capital pr. capita','Steady sate'], range(len(k_pr)), \n",
    "                          [k_pr,[k_star for i in range(len(k_pr))]], y_name= 'Capital pr. capita',\n",
    "                          legendlocation ='bottom_center',\n",
    "                         title = 'Evolution of capital for method 1')\n",
    "\n",
    "p2 = model_funcs.plotting(\"T\",['Capital pr. capita','Steady sate'], range(len(k_pr_2)), \n",
    "                          [k_pr_2,[ss_k for i in range(len(k_pr_2))]], y_name= 'Capital pr. capita',\n",
    "                          legendlocation ='bottom_center',\n",
    "                         title = 'Evolution of capital for method 2')\n",
    "\n",
    "p3 = model_funcs.plotting(\"T\",['Savings rate','Steady state'], range(len(sk_path)), \n",
    "                          [sk_path*100,[sk_star*100 for i in range(len(sk_path))]],\n",
    "                    y_name= 'Savings rate',legendlocation ='top_center',\n",
    "                    title = 'Evolution of the savings rate for method 1',y_unit=' %')\n",
    "\n",
    "\n",
    "p4 = model_funcs.plotting(\"T\",['Savings rate','Steady state'], range(len(sk_path_2)), \n",
    "                          [sk_path_2*100,[ss_sk*100 for i in range(len(sk_path_2))]],\n",
    "                    y_name= 'Savings rate',legendlocation ='top_center',\n",
    "                    title = 'Evolution of the savings rate for method 2',y_unit=' %')\n",
    "\n",
    "show(column(row(p1,p2),row(p3,p4)),notebook_handle=True)"
   ]
  },
  {
   "cell_type": "markdown",
   "metadata": {},
   "source": [
    "As expected the second method, with a longer considered timeframe, gives us a slightly higher savingsrate and thus higher capital in the steady state."
   ]
  },
  {
   "cell_type": "markdown",
   "metadata": {},
   "source": [
    "# 6. The model for different values of $\\theta$"
   ]
  },
  {
   "cell_type": "markdown",
   "metadata": {},
   "source": [
    "Now we look at the evolution of the model for different values of theta in the household utility function. Both for initially low and initially high $k_{0}$. <br>\n",
    "Here we use the interpolation method, since the microproblem was solved for different values of $\\theta$ earlier in the project."
   ]
  },
  {
   "cell_type": "code",
   "execution_count": 22,
   "metadata": {},
   "outputs": [],
   "source": [
    "k_prs_low = []\n",
    "sk_paths_low = []\n",
    "\n",
    "k0 = 5\n",
    "for i in range(4):\n",
    "    k_pr, y_pr, sk_path = model_funcs.new_mod_solowwalk(\n",
    "        k0, l0, a,n, alpha, delta, sk_interpers[i], timeline)\n",
    "    k_prs_low.append(k_pr)\n",
    "    sk_paths_low.append(sk_path)\n",
    "    \n",
    "    \n",
    "\n",
    "k_prs_high = []\n",
    "sk_paths_high = []\n",
    "\n",
    "k0 = 20\n",
    "for i in range(4):\n",
    "    k_pr, y_pr, sk_path = model_funcs.new_mod_solowwalk(\n",
    "        k0, l0, a,n, alpha, delta, sk_interpers[i], timeline)\n",
    "    k_prs_high.append(k_pr)\n",
    "    sk_paths_high.append(sk_path)\n",
    "    "
   ]
  },
  {
   "cell_type": "code",
   "execution_count": 23,
   "metadata": {},
   "outputs": [],
   "source": [
    "theta_names = ['\\u03B8 = 0.3', '\\u03B8 = 0.5','\\u03B8 = 0.7','\\u03B8 = 1.5']\n",
    "\n",
    "p1 = model_funcs.plotting(\"T\",theta_names, list(range(timeline)), k_prs_low,\n",
    "                     y_name= 'Capital pr. capita',legendlocation ='bottom_center',\n",
    "                    title = 'Evolution of the capita pr. capita for different values of \\u03B8')\n",
    "\n",
    "p2 = model_funcs.plotting(\"T\",theta_names, list(range(timeline)), sk_paths_low,\n",
    "                     y_name= 'Savings rate',legendlocation ='top_center',\n",
    "                    title = 'Evolution of the savingsrate for different values of \\u03B8')\n",
    "\n",
    "\n",
    "p3 = model_funcs.plotting(\"T\",theta_names, list(range(timeline)), k_prs_high,\n",
    "                     y_name= 'Capital pr. capita',legendlocation ='top_center',\n",
    "                    title = 'Evolution of the capita pr. capita for different values of \\u03B8')\n",
    "\n",
    "p4 = model_funcs.plotting(\"T\",theta_names, list(range(timeline)), sk_paths_high,\n",
    "                     y_name= 'Savings rate',legendlocation ='bottom_center',\n",
    "                    title = 'Evolution of the savingsrate for different values of \\u03B8')\n"
   ]
  },
  {
   "cell_type": "markdown",
   "metadata": {},
   "source": [
    "Before we show the figures of the simulation of the macro model, we remind ourselfs of the figure showing the optimal savingsrate for different $\\theta$s \n",
    "The crossing of the steady state-line with the lines of optimal savings rate, shows our steady state for the given $\\theta$. Also it would make sence if the steeper the optimalsavings-line is, the faster the convergence towards the steady state will be. Since the savingsrate will be adjusted more, and the capitalaccumulation will be faster. "
   ]
  },
  {
   "cell_type": "code",
   "execution_count": 24,
   "metadata": {},
   "outputs": [
    {
     "data": {
      "text/html": [
       "\n",
       "\n",
       "\n",
       "\n",
       "\n",
       "\n",
       "  <div class=\"bk-root\" id=\"efa567d6-e476-47cb-bc19-6ec65c7105c2\"></div>\n"
      ]
     },
     "metadata": {},
     "output_type": "display_data"
    },
    {
     "data": {
      "application/javascript": [
       "(function(root) {\n",
       "  function embed_document(root) {\n",
       "    \n",
       "  var docs_json = {\"541ad1de-1c70-4869-8681-026fa130df32\":{\"roots\":{\"references\":[{\"attributes\":{\"below\":[{\"id\":\"1293\",\"type\":\"LinearAxis\"}],\"left\":[{\"id\":\"1298\",\"type\":\"LinearAxis\"}],\"plot_height\":450,\"renderers\":[{\"id\":\"1293\",\"type\":\"LinearAxis\"},{\"id\":\"1297\",\"type\":\"Grid\"},{\"id\":\"1298\",\"type\":\"LinearAxis\"},{\"id\":\"1302\",\"type\":\"Grid\"},{\"id\":\"1311\",\"type\":\"BoxAnnotation\"},{\"id\":\"1328\",\"type\":\"Legend\"},{\"id\":\"1320\",\"type\":\"GlyphRenderer\"},{\"id\":\"1333\",\"type\":\"GlyphRenderer\"},{\"id\":\"1347\",\"type\":\"GlyphRenderer\"},{\"id\":\"1361\",\"type\":\"GlyphRenderer\"},{\"id\":\"1375\",\"type\":\"GlyphRenderer\"}],\"title\":{\"id\":\"1282\",\"type\":\"Title\"},\"toolbar\":{\"id\":\"1308\",\"type\":\"Toolbar\"},\"x_range\":{\"id\":\"1285\",\"type\":\"DataRange1d\"},\"x_scale\":{\"id\":\"1289\",\"type\":\"LinearScale\"},\"y_range\":{\"id\":\"1287\",\"type\":\"DataRange1d\"},\"y_scale\":{\"id\":\"1291\",\"type\":\"LinearScale\"}},\"id\":\"1283\",\"subtype\":\"Figure\",\"type\":\"Plot\"},{\"attributes\":{\"data_source\":{\"id\":\"1281\",\"type\":\"ColumnDataSource\"},\"glyph\":{\"id\":\"1345\",\"type\":\"Line\"},\"hover_glyph\":null,\"muted_glyph\":null,\"nonselection_glyph\":{\"id\":\"1346\",\"type\":\"Line\"},\"selection_glyph\":null,\"view\":{\"id\":\"1348\",\"type\":\"CDSView\"}},\"id\":\"1347\",\"type\":\"GlyphRenderer\"},{\"attributes\":{\"callback\":null},\"id\":\"1285\",\"type\":\"DataRange1d\"},{\"attributes\":{\"line_alpha\":0.1,\"line_color\":\"#1f77b4\",\"x\":{\"field\":\"x\"},\"y\":{\"field\":\"d\"}},\"id\":\"1360\",\"type\":\"Line\"},{\"attributes\":{\"plot\":{\"id\":\"1283\",\"subtype\":\"Figure\",\"type\":\"Plot\"},\"ticker\":{\"id\":\"1294\",\"type\":\"BasicTicker\"}},\"id\":\"1297\",\"type\":\"Grid\"},{\"attributes\":{\"bottom_units\":\"screen\",\"fill_alpha\":{\"value\":0.5},\"fill_color\":{\"value\":\"lightgrey\"},\"left_units\":\"screen\",\"level\":\"overlay\",\"line_alpha\":{\"value\":1.0},\"line_color\":{\"value\":\"black\"},\"line_dash\":[4,4],\"line_width\":{\"value\":2},\"plot\":null,\"render_mode\":\"css\",\"right_units\":\"screen\",\"top_units\":\"screen\"},\"id\":\"1311\",\"type\":\"BoxAnnotation\"},{\"attributes\":{\"line_alpha\":0.1,\"line_color\":\"#1f77b4\",\"x\":{\"field\":\"x\"},\"y\":{\"field\":\"c\"}},\"id\":\"1346\",\"type\":\"Line\"},{\"attributes\":{\"data_source\":{\"id\":\"1281\",\"type\":\"ColumnDataSource\"},\"glyph\":{\"id\":\"1359\",\"type\":\"Line\"},\"hover_glyph\":null,\"muted_glyph\":null,\"nonselection_glyph\":{\"id\":\"1360\",\"type\":\"Line\"},\"selection_glyph\":null,\"view\":{\"id\":\"1362\",\"type\":\"CDSView\"}},\"id\":\"1361\",\"type\":\"GlyphRenderer\"},{\"attributes\":{\"source\":{\"id\":\"1281\",\"type\":\"ColumnDataSource\"}},\"id\":\"1362\",\"type\":\"CDSView\"},{\"attributes\":{\"active_drag\":\"auto\",\"active_inspect\":\"auto\",\"active_multi\":null,\"active_scroll\":\"auto\",\"active_tap\":\"auto\",\"tools\":[{\"id\":\"1280\",\"type\":\"HoverTool\"},{\"id\":\"1303\",\"type\":\"PanTool\"},{\"id\":\"1304\",\"type\":\"WheelZoomTool\"},{\"id\":\"1305\",\"type\":\"BoxZoomTool\"},{\"id\":\"1306\",\"type\":\"ResetTool\"},{\"id\":\"1307\",\"type\":\"SaveTool\"}]},\"id\":\"1308\",\"type\":\"Toolbar\"},{\"attributes\":{\"line_color\":\"purple\",\"x\":{\"field\":\"x\"},\"y\":{\"field\":\"d\"}},\"id\":\"1359\",\"type\":\"Line\"},{\"attributes\":{},\"id\":\"1306\",\"type\":\"ResetTool\"},{\"attributes\":{},\"id\":\"1294\",\"type\":\"BasicTicker\"},{\"attributes\":{\"label\":{\"value\":\"\\u03b8 = 1.5\"},\"renderers\":[{\"id\":\"1361\",\"type\":\"GlyphRenderer\"}]},\"id\":\"1371\",\"type\":\"LegendItem\"},{\"attributes\":{},\"id\":\"1303\",\"type\":\"PanTool\"},{\"attributes\":{\"axis_label\":\"Savings rate\",\"formatter\":{\"id\":\"1324\",\"type\":\"BasicTickFormatter\"},\"plot\":{\"id\":\"1283\",\"subtype\":\"Figure\",\"type\":\"Plot\"},\"ticker\":{\"id\":\"1299\",\"type\":\"BasicTicker\"}},\"id\":\"1298\",\"type\":\"LinearAxis\"},{\"attributes\":{\"items\":[{\"id\":\"1329\",\"type\":\"LegendItem\"},{\"id\":\"1343\",\"type\":\"LegendItem\"},{\"id\":\"1357\",\"type\":\"LegendItem\"},{\"id\":\"1371\",\"type\":\"LegendItem\"},{\"id\":\"1385\",\"type\":\"LegendItem\"}],\"location\":\"top_center\",\"plot\":{\"id\":\"1283\",\"subtype\":\"Figure\",\"type\":\"Plot\"}},\"id\":\"1328\",\"type\":\"Legend\"},{\"attributes\":{},\"id\":\"1307\",\"type\":\"SaveTool\"},{\"attributes\":{\"callback\":null},\"id\":\"1287\",\"type\":\"DataRange1d\"},{\"attributes\":{},\"id\":\"1304\",\"type\":\"WheelZoomTool\"},{\"attributes\":{\"source\":{\"id\":\"1281\",\"type\":\"ColumnDataSource\"}},\"id\":\"1348\",\"type\":\"CDSView\"},{\"attributes\":{\"line_color\":\"yellow\",\"x\":{\"field\":\"x\"},\"y\":{\"field\":\"e\"}},\"id\":\"1373\",\"type\":\"Line\"},{\"attributes\":{\"line_color\":\"red\",\"x\":{\"field\":\"x\"},\"y\":{\"field\":\"a\"}},\"id\":\"1318\",\"type\":\"Line\"},{\"attributes\":{\"overlay\":{\"id\":\"1311\",\"type\":\"BoxAnnotation\"}},\"id\":\"1305\",\"type\":\"BoxZoomTool\"},{\"attributes\":{\"line_alpha\":0.1,\"line_color\":\"#1f77b4\",\"x\":{\"field\":\"x\"},\"y\":{\"field\":\"e\"}},\"id\":\"1374\",\"type\":\"Line\"},{\"attributes\":{},\"id\":\"1289\",\"type\":\"LinearScale\"},{\"attributes\":{\"data_source\":{\"id\":\"1281\",\"type\":\"ColumnDataSource\"},\"glyph\":{\"id\":\"1373\",\"type\":\"Line\"},\"hover_glyph\":null,\"muted_glyph\":null,\"nonselection_glyph\":{\"id\":\"1374\",\"type\":\"Line\"},\"selection_glyph\":null,\"view\":{\"id\":\"1376\",\"type\":\"CDSView\"}},\"id\":\"1375\",\"type\":\"GlyphRenderer\"},{\"attributes\":{\"source\":{\"id\":\"1281\",\"type\":\"ColumnDataSource\"}},\"id\":\"1321\",\"type\":\"CDSView\"},{\"attributes\":{},\"id\":\"1299\",\"type\":\"BasicTicker\"},{\"attributes\":{\"source\":{\"id\":\"1281\",\"type\":\"ColumnDataSource\"}},\"id\":\"1376\",\"type\":\"CDSView\"},{\"attributes\":{},\"id\":\"1291\",\"type\":\"LinearScale\"},{\"attributes\":{\"label\":{\"value\":\"\\u03b8 = 0.7\"},\"renderers\":[{\"id\":\"1347\",\"type\":\"GlyphRenderer\"}]},\"id\":\"1357\",\"type\":\"LegendItem\"},{\"attributes\":{\"label\":{\"value\":\"Steady state\"},\"renderers\":[{\"id\":\"1375\",\"type\":\"GlyphRenderer\"}]},\"id\":\"1385\",\"type\":\"LegendItem\"},{\"attributes\":{\"line_alpha\":0.1,\"line_color\":\"#1f77b4\",\"x\":{\"field\":\"x\"},\"y\":{\"field\":\"b\"}},\"id\":\"1332\",\"type\":\"Line\"},{\"attributes\":{},\"id\":\"1342\",\"type\":\"Selection\"},{\"attributes\":{\"dimension\":1,\"plot\":{\"id\":\"1283\",\"subtype\":\"Figure\",\"type\":\"Plot\"},\"ticker\":{\"id\":\"1299\",\"type\":\"BasicTicker\"}},\"id\":\"1302\",\"type\":\"Grid\"},{\"attributes\":{\"line_color\":\"blue\",\"x\":{\"field\":\"x\"},\"y\":{\"field\":\"b\"}},\"id\":\"1331\",\"type\":\"Line\"},{\"attributes\":{\"plot\":null,\"text\":\"Optimal savings rate for varying \\u03b8 and capital pr. capita\"},\"id\":\"1282\",\"type\":\"Title\"},{\"attributes\":{\"axis_label\":\"Capital pr. capita\",\"formatter\":{\"id\":\"1326\",\"type\":\"BasicTickFormatter\"},\"plot\":{\"id\":\"1283\",\"subtype\":\"Figure\",\"type\":\"Plot\"},\"ticker\":{\"id\":\"1294\",\"type\":\"BasicTicker\"}},\"id\":\"1293\",\"type\":\"LinearAxis\"},{\"attributes\":{},\"id\":\"1326\",\"type\":\"BasicTickFormatter\"},{\"attributes\":{\"line_color\":\"green\",\"x\":{\"field\":\"x\"},\"y\":{\"field\":\"c\"}},\"id\":\"1345\",\"type\":\"Line\"},{\"attributes\":{},\"id\":\"1324\",\"type\":\"BasicTickFormatter\"},{\"attributes\":{\"line_alpha\":0.1,\"line_color\":\"#1f77b4\",\"x\":{\"field\":\"x\"},\"y\":{\"field\":\"a\"}},\"id\":\"1319\",\"type\":\"Line\"},{\"attributes\":{\"data_source\":{\"id\":\"1281\",\"type\":\"ColumnDataSource\"},\"glyph\":{\"id\":\"1318\",\"type\":\"Line\"},\"hover_glyph\":null,\"muted_glyph\":null,\"nonselection_glyph\":{\"id\":\"1319\",\"type\":\"Line\"},\"selection_glyph\":null,\"view\":{\"id\":\"1321\",\"type\":\"CDSView\"}},\"id\":\"1320\",\"type\":\"GlyphRenderer\"},{\"attributes\":{\"source\":{\"id\":\"1281\",\"type\":\"ColumnDataSource\"}},\"id\":\"1334\",\"type\":\"CDSView\"},{\"attributes\":{\"callback\":null,\"tooltips\":[[\"Capital pr. capita\",\"@x{0,0.00}\"],[\"Savings rate for \\u03b8 = 0.3\",\"@a{0.00}\"],[\"Savings rate for \\u03b8 = 0.5\",\"@b{0.00}\"],[\"Savings rate for \\u03b8 = 0.7\",\"@c{0.00}\"],[\"Savings rate for \\u03b8 = 1.5\",\"@d{0.00}\"],[\"Savings rate for Steady state\",\"@e{0.00}\"]]},\"id\":\"1280\",\"type\":\"HoverTool\"},{\"attributes\":{\"data_source\":{\"id\":\"1281\",\"type\":\"ColumnDataSource\"},\"glyph\":{\"id\":\"1331\",\"type\":\"Line\"},\"hover_glyph\":null,\"muted_glyph\":null,\"nonselection_glyph\":{\"id\":\"1332\",\"type\":\"Line\"},\"selection_glyph\":null,\"view\":{\"id\":\"1334\",\"type\":\"CDSView\"}},\"id\":\"1333\",\"type\":\"GlyphRenderer\"},{\"attributes\":{},\"id\":\"1341\",\"type\":\"UnionRenderers\"},{\"attributes\":{\"callback\":null,\"data\":{\"a\":{\"__ndarray__\":\"tlE6JJiB7z80vA8ma7HsP3c0G5mkhes/mGNz5DyM6j/EikKag63pPyLiKhX/4eg/wRfhGBAi6D9Z9jm3D27nPwvzbbvWwOY/j2dGI9cZ5j8Qm9UZRHnlP7vvT70r3uQ/OMkGSPZF5D8h0rDWWrHjP1n+QuWUIOM//ZUC9F2T4j/XuC6CKwniP25xfFKogeE/xfMM+l784D/B+qzQtnngP/eHPdQn8t8/4r1EE5z03j9rdWCkofrdP8jxYToIBN0/55uYCmkQ3D8bxo+TqR7bP69lA428Mto/NA7y74NI2T8Co/9kpGHYP28qAID+etc/R1qJPmiY1j8neHc79LfVP8PT4OZY2dQ/14030V/70z+yVs2ARiLTPzwp3MeDStI/AD/ZI6t00T9EBVn+maDQP1gkw1eUnM8/W4jK1Tn7zT+k8/9x91zMP2zrBde5wco/lFBAWHIpyT8T9tFglZfHPxJpcoTHBMY/4MjmDvF0xD8wAVin+OfCPyMo7fTQXcE/SEWDGxWsvz8DVk2X2aC8PwKIsQZ8mrk/Oi4H7kyYtj/g5JSo/pmzP5lXxgq9nbA/pd65xalLqz+qrd1902ulPzbzQsVqQJ8/zBF+npO6kz/g//La71aAPzqMMOKOeUU+Ooww4o55RT6020fnjnlFPitKvuiOeUU+vVza4o55RT6SVT7xjnlFPkPr9uKOeUU++L536o55RT46jDDijnlFPoAIU+aOeUU+PyyP9455RT46jDDijnlFPtlYK+OOeUU+Ooww4o55RT46jDDijnlFPv4iLPKOeUU+Ooww4o55RT46jDDijnlFPvE4BfiOeUU+x8tc8455RT46jDDijnlFPot4yuWOeUU+Ooww4o55RT46jDDijnlFPjqMMOKOeUU+qJ/g5Y55RT46jDDijnlFPjqMMOKOeUU+y3ba4455RT46jDDijnlFPjqMMOKOeUU+Ooww4o55RT5z9sTjjnlFPjqMMOKOeUU+Ooww4o55RT46jDDijnlFPjqMMOKOeUU+H9HO6Y55RT46jDDijnlFPj1AVPOOeUU+gM6l9I55RT4=\",\"dtype\":\"float64\",\"shape\":[100]},\"b\":{\"__ndarray__\":\"6DHAC+r/6z9MUXYvs6voP477R74XfOc/6h+8vQiM5j9LSBv5sL7lP1EBZhOSBeU/fMTA3Pdc5D9K0GX6TsDjP57/gr6kLeM/bGkNCVai4j9bZCO26B3iP63uKPbinuE/mehfGlYj4T9aXxVZ4a3gP+wrqrVGPOA/7YS+bVGc3z81V1ZXZMbeP9LCtGkx9t0/y33OxDsr3T/YN7DIkmrcP4LhDsoTqNs/XKl2YeTp2j/lLHoewS/aP4EF1Itnedk/yytGdLTG2D+i9hMCShPYP2qIDcR/Ztc/mypQcm681j8Vx/5BQxjWP8ib+hGactU/xuf+A9rP1D+8lUptrTPUPz3o4An2k9M/aiaINvX40j+8ZnCEtV7SP846EACSxtE/u1HdZWYw0T/F/6PID5zQP9l23DXyA9A/p0tUMbjnzj8HY4xLesrNPxJ+3U3Dr8w/6agO1QiYyz+6adyU74LKPywID+JqcMk/nokahZhgyD/LBk60VFPHP17LAk8GSMY//1LNnGk+xT85AhraEj/EP/Gu31RLOMM/UXGgX3I1wj/oRqFf6jPBP/xtCHjwNMA/L8l0iXRwvj+GhJ95F3u8PzaVzdOWibo/nK2Yp+abuD8JbZQs2rG2PyuWEQNby7Q/KbHB5E3osj9OZ/DknQixP31mAL6AWK4/njzRDwOmqj+pkLba0/mmPznYMSKmU6M/8W3aacBmnz96md8zzDGYP2eEMablCJE//EE3B5vXgz8g4nmXM9BmPzqMMOKOeUU+Ooww4o55RT46jDDijnlFPtkwhOWOeUU+Ooww4o55RT70ad78jnlFPnzWZ+OOeUU+Ooww4o55RT46jDDijnlFPg1A+OWOeUU+Ooww4o55RT46jDDijnlFPtqHwOWOeUU+Ooww4o55RT78ERjjjnlFPjqMMOKOeUU+Ooww4o55RT6rWoHojnlFPjqMMOKOeUU+VwB++o55RT46jDDijnlFPj+vju+OeUU+Ooww4o55RT46jDDijnlFPgTA2ueOeUU+zajl6Y55RT46jDDijnlFPr5ToeuOeUU+Ooww4o55RT4=\",\"dtype\":\"float64\",\"shape\":[100]},\"c\":{\"__ndarray__\":\"ugUQ8I385j/MyiobWnjlP2wm3xEyf+Q/+0Vscke24z/BNtjxuAjjPx0bOLSpbeI/cNgiEuHf4T8SNLtvIl3hPyrNMhi54+A/Qn2xJYNv4D+QINaihQLgP/r4Z7TGNN8/gq/9bVpz3j9iG7WbrLPdP0YtCE4S+9w/RJaYJdBI3D91TB5nSJzbP1xqdKP09No/bX6s/QZM2j/waEvKmq7ZP25hG6UiFdk/uHd4mE9/2D+r0yRl2+zXPzm0Jvd4Xdc/EW3blhLU1j9r5DlWBkvWP9P+cbZRwdU/vl/sM2Y81T+I2aeNN7jUPxGwAPNeN9Q/HaxZy+C+0z9kVro63D7TPxNZiWWfxtI/wsZa5V9O0j9QL3bNN9rRP3BtQZejZdE/2LSgfIby0D+m1t472YDQP2LGYriUENA/XYyaWl1Dzz9vpJn4N2jOP3GgmXuqj80/nfHCj5S5zD9+1ZiZ7OXLP78pVh6VFMs/HINCoGxFyj98ZuY5f3jJP/7EWfLBrcg/6BI4PhLlxz/5/OhvUR7HP85wmpF8WcY/ll3GxoOWxT8s2+x9xtDEPyNjf53DEcQ/ItszJnlUwz+EtuQw5JjCPwNVaXTg3sE/ofNwJ3EmwT+qs5KQg2/APxiCgQQedL8/rJkC+AoMvj9HO8r6x6a8P1ey1E4+RLs/CcaZz2nkuT8G3ns+Ioe4P/SjI1VJLLc/tvNE/uXTtT+LgSPMgX20P46TY8lHKbM/9l6enYXXsT8JM7L8/IewP7zE+4ZCda4/t42ijMXeqz+MHJNHj0ypP/T0q/xavqY/nKFgcD40pD9aSkQI/a2hPzk8sJW0Wp4/HjK7o48tmT9ilRCfeUCUP9Ug4Tq+sY4/PH34q5buhD8Cgqn4pm52P4fpsWhhEUg/e1u25Y55RT46jDDijnlFPjqMMOKOeUU+A+mw4455RT5o4e7pjnlFPjqMMOKOeUU+e6Rp6455RT74KUjmjnlFPlVFgeiOeUU+Ooww4o55RT46jDDijnlFPjqMMOKOeUU+Ooww4o55RT46jDDijnlFPtXFjuOOeUU+Ooww4o55RT4=\",\"dtype\":\"float64\",\"shape\":[100]},\"d\":{\"__ndarray__\":\"c5+nfvL60j9Scr5paBTcP8/+OwI5pts/IJdvSUUR2z9CyH278n3aP2sPOCG28tk/8HtnH0du2T+qbrNzsfHYP8Ho6pGwfNg/+/yHD9sM2D/Gq8zEjaLXPwdrI+CpPNc/F+ANmu3a1j9W3uY9wHvWP531jWGTIdY/eLB3KmDL1T/o1+hJ33bVPyjauimqJNU/aTsxR17Y1D8eQhSzyYbUP1BP5serO9Q/Lqg6a4/z0z/mpLoUEqvTP0hpiNnSY9M/Cfwu0BMf0z+2XersAeDSP5fB75NwntI/imZaCJNe0j+EEUZ5AhzSPxxTX1f73tE/1Nx53c+i0T9YQ4V2j2fRP1cC4RI6LdE/tXo/eJv40D+Iq6aqhb/QP3sz7kFPh9A/kLn/h+xP0D+4hVZQWRnQP2EjRnatvc8/a8FJ0m5Vzz8mbfAVgO7OP5eiSlLTiM4/rQVi+lUkzj8xwFKUAsHNP1ytBHDJXs0/QvY1RKn9zD8KvTynlp3MP8X7TrWSPsw/+qnp95Dgyz+1irH3iYPLP2QgSwRHKMs/xOxOLdnNyj/wqvKIHnTKP9nBAorgGso/tEXNH2XCyT9sLDxioGrJP5Et94hcE8k/PAMuVge9yD9vCue4eWfIPx75uzikEsg/+RINOY++xz82eK8WNmvHP0i4glSTGMc/B/q3/abGxj/MffXIC23GP38dUqf4HMY/zxvleYzNxT9cDJ2pwn7FP3Rw13CXMMU/+BdWE/7ixD/IycQg95XEP/PNgV+DScQ/DyLHPIb9wz+s9ngJELLDPwbmNjApZ8M/GL4VQ8Acwz+2Lp5Q3NLCP9qAd85/icI/KMyhRZhAwj+TJf/1GPjBPwrqbPL7r8E/oHeQhy9owT/wgDa+1iDBPwxbBCbt2cA/G7A2N3CTwD/di114YE3AP8UY2B+8B8A/XC0J+veEvz80b7wzRPu+P4r/0Khdcr4/naHTjDbqvT+BVxt1zmK9PyUW0psr3Lw/jMqkDjxWvD8WOIrQC9G7P/BqazqzNLs//lqqbNWyuj9wfRSkkDG6PyoQ/9jdsLk/G/x7yMcwuT8=\",\"dtype\":\"float64\",\"shape\":[100]},\"e\":{\"__ndarray__\":\"GBcOhGQBQz/YiGcfbNqaPzE1vKk/SqU/D+sbQjvjqz+JUyxSfeOwPxFvBOtpmLM/ZyfYC1Ygtj/uaMDEE4W4P8gr59A5zbo/MagULHn9vD84mpZATxm/P9AG2Le1kcA/U7+adPaOwT/WalMtRYXCPznxCz9WdcM/xvhUQMBfxD/eryiRAkXFPxTFHieKJcY/4ybAIrUBxz+Tq4SJ1dnHP79nrGEzrsg/bZPgWQ5/yT/KiPQZn0zKP0gFuFEYF8s/siMPlafeyz+af4YQdqPMPzxWxh6pZc0/CAk/xWIlzj99sO0cwuLOP8G7/qrjnc8/okoh1nAr0D/lr+Qq6obQP3u0QAZp4dA/Ixmryvc60T/JeYIfoJPRP+4VUQNr69E/dT7P22BC0j+UdPqDiZjSP03Fh1js7dI/wjXsQpBC0z8DkCzDe5bTP1gYnvi06dM/Nk67qUE81D+IlCpLJ47UP646EAZr39Q/HLjBvREw1T/d3OwUIIDVPx8mQ3Kaz9U/aTm3BIUe1j8/sVjH42zWP7/U2IS6utY/1nzB2gwI1z9eRGY83lTXP/kjl/Uxodc/O8EaLQvt1z+C/PXmbDjYPwGmhQZag9g/r7RuUNXN2D9a3mhs4RfZPx0E5+aAYdk/y4egMraq2T8wTP6pg/PZP3PYbZDrO9o/6tacE/CD2j9l7p5Mk8vaP5zC/0DXEts/urvC471Z2z//DFIWSaDbPyZPXql65ts/deOvXVQs3D8yOOvk13HcP8HtSOIGt9w/DsVC6+L73D9hKzaIbUDdP5Al/TSohN0/okt+YZTI3T9ZdzRyMwzeP226rsCGT94/ECUJnI+S3j802l5JT9XeP0flNQTHF98/eTvl/vdZ3z/ZSvVi45vfP69xe1GK3d8/31i48XYP4D9S9gGVBzDgP4v4c5d3UOA/k81Oesdw4D+JIl2795DgP+ZgFdUIseA/D4u5PvvQ4D/hkHVsz/DgPywzfM+FEOE/cIsi1h4w4T/MS/rrmk/hP6nJ6nn6buE/fORI5j2O4T/J2O2UZa3hP54OTedxzOE/g/GIPGPr4T8=\",\"dtype\":\"float64\",\"shape\":[100]},\"x\":{\"__ndarray__\":\"/Knx0k1iUD9TAUAmEXXTP36IVv/fbOM/UxCNazcf7T8TzOFrx2jzP/0P/SHzQfg/6FMY2B4b/T/pyxlHJfoAQN5tJyK7ZgNA0w81/VDTBUDIsULY5j8IQL1TULN8rApAs/VdjhIZDUCol2tpqIUPQM+cPCIf+RBAyW3DD2ovEkDEPkr9tGUTQL8P0er/mxRAueBX2ErSFUC0sd7FlQgXQK6CZbPgPhhAqVPsoCt1GUCjJHOOdqsaQJ71+XvB4RtAmcaAaQwYHUCTlwdXV04eQI5ojkSihB9AxJwKmXZdIEBBBc4PnPggQL5tkYbBkyFAO9ZU/eYuIkC5Phh0DMoiQDan2+oxZSNAsw+fYVcAJEAxeGLYfJskQK7gJU+iNiVAK0npxcfRJUCosaw87WwmQCYacLMSCCdAo4IzKjijJ0Ag6/agXT4oQJ5TuheD2ShAG7x9jqh0KUCYJEEFzg8qQBWNBHzzqipAk/XH8hhGK0AQXotpPuErQI3GTuBjfCxACy8SV4kXLUCIl9XNrrItQAUAmUTUTS5Agmhcu/noLkAA0R8yH4QvQL+ccVSiDzBA/lDTDzVdMEA8BTXLx6owQHu5loZa+DBAum34Qe1FMUD4IVr9f5MxQDfWu7gS4TFAdYoddKUuMkC0Pn8vOHwyQPPy4OrKyTJAMadCpl0XM0BwW6Rh8GQzQK8PBh2DsjNA7cNn2BUANEAseMmTqE00QGssK087mzRAqeCMCs7oNEDolO7FYDY1QCZJUIHzgzVAZf2xPIbRNUCksRP4GB82QOJldbOrbDZAIRrXbj66NkBgzjgq0Qc3QJ6CmuVjVTdA3Tb8oPaiN0Ac611cifA3QFqfvxccPjhAmVMh066LOEDYB4OOQdk4QBa85EnUJjlAVXBGBWd0OUCTJKjA+cE5QNLYCXyMDzpAEY1rNx9dOkBPQc3ysao6QI71Lq5E+DpAzamQaddFO0ALXvIkapM7QEoSVOD84DtAica1m48uPEDHehdXInw8QAYveRK1yTxARePazUcXPUCDlzyJ2mQ9QMJLnkRtsj1AAAAAAAAAPkA=\",\"dtype\":\"float64\",\"shape\":[100]}},\"selected\":{\"id\":\"1342\",\"type\":\"Selection\"},\"selection_policy\":{\"id\":\"1341\",\"type\":\"UnionRenderers\"}},\"id\":\"1281\",\"type\":\"ColumnDataSource\"},{\"attributes\":{\"label\":{\"value\":\"\\u03b8 = 0.3\"},\"renderers\":[{\"id\":\"1320\",\"type\":\"GlyphRenderer\"}]},\"id\":\"1329\",\"type\":\"LegendItem\"},{\"attributes\":{\"label\":{\"value\":\"\\u03b8 = 0.5\"},\"renderers\":[{\"id\":\"1333\",\"type\":\"GlyphRenderer\"}]},\"id\":\"1343\",\"type\":\"LegendItem\"}],\"root_ids\":[\"1283\"]},\"title\":\"Bokeh Application\",\"version\":\"1.0.2\"}};\n",
       "  var render_items = [{\"docid\":\"541ad1de-1c70-4869-8681-026fa130df32\",\"notebook_comms_target\":\"3299\",\"roots\":{\"1283\":\"efa567d6-e476-47cb-bc19-6ec65c7105c2\"}}];\n",
       "  root.Bokeh.embed.embed_items_notebook(docs_json, render_items);\n",
       "\n",
       "  }\n",
       "  if (root.Bokeh !== undefined) {\n",
       "    embed_document(root);\n",
       "  } else {\n",
       "    var attempts = 0;\n",
       "    var timer = setInterval(function(root) {\n",
       "      if (root.Bokeh !== undefined) {\n",
       "        embed_document(root);\n",
       "        clearInterval(timer);\n",
       "      }\n",
       "      attempts++;\n",
       "      if (attempts > 100) {\n",
       "        console.log(\"Bokeh: ERROR: Unable to run BokehJS code because BokehJS library is missing\");\n",
       "        clearInterval(timer);\n",
       "      }\n",
       "    }, 10, root)\n",
       "  }\n",
       "})(window);"
      ],
      "application/vnd.bokehjs_exec.v0+json": ""
     },
     "metadata": {
      "application/vnd.bokehjs_exec.v0+json": {
       "id": "1283"
      }
     },
     "output_type": "display_data"
    },
    {
     "data": {
      "text/html": [
       "<p><code>&lt;Bokeh Notebook handle for <strong>In[24]</strong>&gt;</code></p>"
      ],
      "text/plain": [
       "<bokeh.io.notebook.CommsHandle at 0x127c2d630>"
      ]
     },
     "execution_count": 24,
     "metadata": {},
     "output_type": "execute_result"
    }
   ],
   "source": [
    "show(figure1,notebook_handle=True)"
   ]
  },
  {
   "cell_type": "code",
   "execution_count": 25,
   "metadata": {},
   "outputs": [
    {
     "data": {
      "text/html": [
       "\n",
       "\n",
       "\n",
       "\n",
       "\n",
       "\n",
       "  <div class=\"bk-root\" id=\"61093f06-fb47-4210-9b03-58b197452092\"></div>\n"
      ]
     },
     "metadata": {},
     "output_type": "display_data"
    },
    {
     "data": {
      "application/javascript": [
       "(function(root) {\n",
       "  function embed_document(root) {\n",
       "    \n",
       "  var docs_json = {\"6b31a5ba-ac78-4c3b-971a-41475d81c8b7\":{\"roots\":{\"references\":[{\"attributes\":{\"children\":[{\"id\":\"2934\",\"subtype\":\"Figure\",\"type\":\"Plot\"},{\"id\":\"3026\",\"subtype\":\"Figure\",\"type\":\"Plot\"}]},\"id\":\"3348\",\"type\":\"Row\"},{\"attributes\":{\"active_drag\":\"auto\",\"active_inspect\":\"auto\",\"active_multi\":null,\"active_scroll\":\"auto\",\"active_tap\":\"auto\",\"tools\":[{\"id\":\"3023\",\"type\":\"HoverTool\"},{\"id\":\"3046\",\"type\":\"PanTool\"},{\"id\":\"3047\",\"type\":\"WheelZoomTool\"},{\"id\":\"3048\",\"type\":\"BoxZoomTool\"},{\"id\":\"3049\",\"type\":\"ResetTool\"},{\"id\":\"3050\",\"type\":\"SaveTool\"}]},\"id\":\"3051\",\"type\":\"Toolbar\"},{\"attributes\":{\"bottom_units\":\"screen\",\"fill_alpha\":{\"value\":0.5},\"fill_color\":{\"value\":\"lightgrey\"},\"left_units\":\"screen\",\"level\":\"overlay\",\"line_alpha\":{\"value\":1.0},\"line_color\":{\"value\":\"black\"},\"line_dash\":[4,4],\"line_width\":{\"value\":2},\"plot\":null,\"render_mode\":\"css\",\"right_units\":\"screen\",\"top_units\":\"screen\"},\"id\":\"3054\",\"type\":\"BoxAnnotation\"},{\"attributes\":{\"line_alpha\":0.1,\"line_color\":\"#1f77b4\",\"x\":{\"field\":\"x\"},\"y\":{\"field\":\"a\"}},\"id\":\"3062\",\"type\":\"Line\"},{\"attributes\":{\"data_source\":{\"id\":\"3024\",\"type\":\"ColumnDataSource\"},\"glyph\":{\"id\":\"3061\",\"type\":\"Line\"},\"hover_glyph\":null,\"muted_glyph\":null,\"nonselection_glyph\":{\"id\":\"3062\",\"type\":\"Line\"},\"selection_glyph\":null,\"view\":{\"id\":\"3064\",\"type\":\"CDSView\"}},\"id\":\"3063\",\"type\":\"GlyphRenderer\"},{\"attributes\":{\"source\":{\"id\":\"3024\",\"type\":\"ColumnDataSource\"}},\"id\":\"3064\",\"type\":\"CDSView\"},{\"attributes\":{},\"id\":\"3067\",\"type\":\"BasicTickFormatter\"},{\"attributes\":{},\"id\":\"3069\",\"type\":\"BasicTickFormatter\"},{\"attributes\":{\"items\":[{\"id\":\"3072\",\"type\":\"LegendItem\"},{\"id\":\"3086\",\"type\":\"LegendItem\"},{\"id\":\"3100\",\"type\":\"LegendItem\"},{\"id\":\"3114\",\"type\":\"LegendItem\"}],\"location\":\"top_center\",\"plot\":{\"id\":\"3026\",\"subtype\":\"Figure\",\"type\":\"Plot\"}},\"id\":\"3071\",\"type\":\"Legend\"},{\"attributes\":{\"label\":{\"value\":\"\\u03b8 = 0.3\"},\"renderers\":[{\"id\":\"3063\",\"type\":\"GlyphRenderer\"}]},\"id\":\"3072\",\"type\":\"LegendItem\"},{\"attributes\":{\"line_color\":\"green\",\"x\":{\"field\":\"x\"},\"y\":{\"field\":\"c\"}},\"id\":\"3088\",\"type\":\"Line\"},{\"attributes\":{\"line_color\":\"blue\",\"x\":{\"field\":\"x\"},\"y\":{\"field\":\"b\"}},\"id\":\"3074\",\"type\":\"Line\"},{\"attributes\":{\"line_alpha\":0.1,\"line_color\":\"#1f77b4\",\"x\":{\"field\":\"x\"},\"y\":{\"field\":\"b\"}},\"id\":\"3075\",\"type\":\"Line\"},{\"attributes\":{\"data_source\":{\"id\":\"3024\",\"type\":\"ColumnDataSource\"},\"glyph\":{\"id\":\"3074\",\"type\":\"Line\"},\"hover_glyph\":null,\"muted_glyph\":null,\"nonselection_glyph\":{\"id\":\"3075\",\"type\":\"Line\"},\"selection_glyph\":null,\"view\":{\"id\":\"3077\",\"type\":\"CDSView\"}},\"id\":\"3076\",\"type\":\"GlyphRenderer\"},{\"attributes\":{\"source\":{\"id\":\"3024\",\"type\":\"ColumnDataSource\"}},\"id\":\"3077\",\"type\":\"CDSView\"},{\"attributes\":{\"line_alpha\":0.1,\"line_color\":\"#1f77b4\",\"x\":{\"field\":\"x\"},\"y\":{\"field\":\"c\"}},\"id\":\"3089\",\"type\":\"Line\"},{\"attributes\":{\"data_source\":{\"id\":\"3024\",\"type\":\"ColumnDataSource\"},\"glyph\":{\"id\":\"3088\",\"type\":\"Line\"},\"hover_glyph\":null,\"muted_glyph\":null,\"nonselection_glyph\":{\"id\":\"3089\",\"type\":\"Line\"},\"selection_glyph\":null,\"view\":{\"id\":\"3091\",\"type\":\"CDSView\"}},\"id\":\"3090\",\"type\":\"GlyphRenderer\"},{\"attributes\":{\"source\":{\"id\":\"3024\",\"type\":\"ColumnDataSource\"}},\"id\":\"3091\",\"type\":\"CDSView\"},{\"attributes\":{\"label\":{\"value\":\"\\u03b8 = 0.7\"},\"renderers\":[{\"id\":\"3090\",\"type\":\"GlyphRenderer\"}]},\"id\":\"3100\",\"type\":\"LegendItem\"},{\"attributes\":{\"line_color\":\"purple\",\"x\":{\"field\":\"x\"},\"y\":{\"field\":\"d\"}},\"id\":\"3102\",\"type\":\"Line\"},{\"attributes\":{\"line_alpha\":0.1,\"line_color\":\"#1f77b4\",\"x\":{\"field\":\"x\"},\"y\":{\"field\":\"d\"}},\"id\":\"3103\",\"type\":\"Line\"},{\"attributes\":{\"data_source\":{\"id\":\"3024\",\"type\":\"ColumnDataSource\"},\"glyph\":{\"id\":\"3102\",\"type\":\"Line\"},\"hover_glyph\":null,\"muted_glyph\":null,\"nonselection_glyph\":{\"id\":\"3103\",\"type\":\"Line\"},\"selection_glyph\":null,\"view\":{\"id\":\"3105\",\"type\":\"CDSView\"}},\"id\":\"3104\",\"type\":\"GlyphRenderer\"},{\"attributes\":{\"source\":{\"id\":\"3024\",\"type\":\"ColumnDataSource\"}},\"id\":\"3105\",\"type\":\"CDSView\"},{\"attributes\":{\"label\":{\"value\":\"\\u03b8 = 1.5\"},\"renderers\":[{\"id\":\"3104\",\"type\":\"GlyphRenderer\"}]},\"id\":\"3114\",\"type\":\"LegendItem\"},{\"attributes\":{\"line_alpha\":0.1,\"line_color\":\"#1f77b4\",\"x\":{\"field\":\"x\"},\"y\":{\"field\":\"b\"}},\"id\":\"2983\",\"type\":\"Line\"},{\"attributes\":{},\"id\":\"2993\",\"type\":\"Selection\"},{\"attributes\":{\"data_source\":{\"id\":\"2932\",\"type\":\"ColumnDataSource\"},\"glyph\":{\"id\":\"2982\",\"type\":\"Line\"},\"hover_glyph\":null,\"muted_glyph\":null,\"nonselection_glyph\":{\"id\":\"2983\",\"type\":\"Line\"},\"selection_glyph\":null,\"view\":{\"id\":\"2985\",\"type\":\"CDSView\"}},\"id\":\"2984\",\"type\":\"GlyphRenderer\"},{\"attributes\":{\"label\":{\"value\":\"\\u03b8 = 0.5\"},\"renderers\":[{\"id\":\"2984\",\"type\":\"GlyphRenderer\"}]},\"id\":\"2994\",\"type\":\"LegendItem\"},{\"attributes\":{\"callback\":null,\"tooltips\":[[\"T\",\"@x{0,0.00}\"],[\"Savings rate for \\u03b8 = 0.3\",\"@a{0.00}\"],[\"Savings rate for \\u03b8 = 0.5\",\"@b{0.00}\"],[\"Savings rate for \\u03b8 = 0.7\",\"@c{0.00}\"],[\"Savings rate for \\u03b8 = 1.5\",\"@d{0.00}\"]]},\"id\":\"3023\",\"type\":\"HoverTool\"},{\"attributes\":{\"callback\":null,\"tooltips\":[[\"T\",\"@x{0,0.00}\"],[\"Capital pr. capita for \\u03b8 = 0.3\",\"@a{0.00}\"],[\"Capital pr. capita for \\u03b8 = 0.5\",\"@b{0.00}\"],[\"Capital pr. capita for \\u03b8 = 0.7\",\"@c{0.00}\"],[\"Capital pr. capita for \\u03b8 = 1.5\",\"@d{0.00}\"]]},\"id\":\"2931\",\"type\":\"HoverTool\"},{\"attributes\":{\"callback\":null,\"data\":{\"a\":{\"__ndarray__\":\"AAAAAAAAFED7fpKELp4WQLfQo7q3/hhALnM7Y54iG0AS48denAwdQFGP991wwB5AskZ0ZDkhIEBMVeUMsMsgQOGwz87QYSFAzG2yJqblIUDgfeufNlkiQItaULhfviJALIc/mssWI0D85eiNAGQjQJVe1ixSpyNARqG4Z/XhI0ANWaMb+hQkQFZaVcRdQSRAhJgc7QJoJEB9ElnFoYkkQBgxUvfcpiRAvrSjdkXAJECeOZMAW9YkQHfbnPqK6SRAkLgWNjX6JECgVBKArQglQOvVhQs9FSVA+W/4tiMgJUBGlq0vmSklQI2KufTNMSVAek6fPOw4JUCyvzw+GT8lQJau2qx1RCVAH49s8BxJJUAdvgLeJk0lQJDZWi2oUCVAXxDE37JTJUA77w+aVlYlQLDfG/OgWCVAi6pVuJ1aJUAtXnYpV1wlQIQ5iyzWXSVAYL1DeyJfJUCRtV7KQmAlQCLF9es8YSVAhpJP7RViJUDD4csw0mIlQP+AaoR1YyVAmKxdNQNkJUBLQwohfmQlQKyTy8PoZCVAyojFRUVlJUARWAaGlWUlQCxkMCTbZSVAEKzdiBdmJUCbsOfsS2YlQD0huV95ZiVA3b7JzKBmJUAkpGAAw2YlQKpvtavgZiVAxZSFaPpmJUBsSzC8EGclQCIpaRokZyVAkU+P5zRnJUBsR7V6Q2clQMYFZB9QZyVAUjciF1tnJUD1uMeaZGclQLUZpNtsZyVAzBl+BHRnJUBBUXE6emclQEB5rp1/ZyVA4jsiSoRnJUAH6gVYiGclQMUEXdyLZyVAoSRi6Y5nJUCkcuWOkWclQLmcntqTZyVA+e1z2JVnJUAX+7eSl2clQLUiXxKZZyVAo/YtX5pnJUCvfuF/m2clQJMlUnqcZyVAAAWSU51nJUDfLQcQnmclQOF0grOeZyVAjzlTQZ9nJUBqjli8n2clQPUaECegZyVAzASjg6BnJUDAIvHToGclQPSzmhmhZyVAaM0IVqFnJUCEqXSKoWclQLL/7behZyVAtIRg36FnJUBqsJgBomclQJrhRx+iZyVAV/UHOaJnJUB9ZF5PomclQI73vmKiZyVAyx6Oc6JnJUDd+iKComclQGMgyY6iZyVAuh/CmaJnJUDW2EajomclQA2iiKuiZyVA0EeysqJnJUCE6ui4omclQPG+TL6iZyVANrX5wqJnJUCPCQjHomclQP7BjMqiZyVAPhuazaJnJUBK5z/QomclQGPfi9KiZyVAKuuJ1KJnJUBcXkTWomclQFYuxNeiZyVAhSAR2aJnJUCv8jHaomclQN99LNuiZyVAvtQF3KJnJUDVXcLcomclQGPqZd2iZyVAIsrz3aJnJUBz3G7eomclQEGf2d6iZyVA7js236JnJUCDkobfomclQGtDzN+iZyVA4rcI4KJnJUBDKT3gomclQGOnauCiZyVADx6S4KJnJUDVWbTgomclQCcM0uCiZyVA787r4KJnJUC4JwLhomclQFWKFeGiZyVAQVsm4aJnJUCk8TThomclQB6ZQeGiZyVAR5NM4aJnJUAAGVbhomclQKhbXuGiZyVAD4Zl4aJnJUBZvWvhomclQL4hceGiZyVA\",\"dtype\":\"float64\",\"shape\":[150]},\"b\":{\"__ndarray__\":\"AAAAAAAAFEB6BZyruhEWQKcg8od1+hdA1wv6NYy7GUCK0ossKFYbQLF25rx6zBxAcSvt1t4gHkBZTwmhXVUfQPP+iyZeNiBAE/jBlrS0IECfrMRo8CYhQOGNJrQUjiFAgfKYWQLrIUC72JKQtj4iQKqzreIOiiJAJawDCvjNIkC9seWkHAsjQJle9rkGQiNACp7um05zI0CR4QN4h58jQAaLuitAxyNAXRwC++jqI0CcAMdA6AokQGAItfebJyRADplnDlpBJEC5fYCcblgkQL87134ebSRARzhZ8ad/JED83+ogQ5AkQHgghLQinyRAZ+eMKHWsJEB1OIS+ZbgkQLcZvMIYwyRAw4fa3a7MJEB0neptRdUkQCg4z9f23CRAtp2M0drjJECSYeOlBuokQLeyt3GN7yRAJWK+W4D0JEB5IeXG7vgkQMxQ5n/m/CRAtq1y5nMAJUDDr1QSogMlQACf6vR6BiVA5qpNdwcJJUDjoHWVTwslQItzonZaDSVAzqBOgy4PJUBBued40RAlQBXbhHtIEiVATOPNJZgTJUCCZ0GXxBQlQHU3A4HRFSVAyCxZMcIWJUBkbPidmRclQMTqQW1aGCVAZP6J/gYZJUCHC4RxoRklQDXW6KwrGiVA+8RrZKcaJUCHUxEeFhslQMob9zZ5GyVAeTGc59EbJUAkC7dHIRwlQJLZpFFoHCVA+fV85accJUAS99HL4BwlQHQAKbgTHSVAA/0uS0EdJUBTqbIUah0lQPGbaZWOHSVAYtWFQK8dJUALziB9zB0lQGF0gKfmHSVA0BY6Ev4dJUCwyjYHEx4lQE2CnMglHiVAja6ekTYeJUA5/DiXRR4lQGJ41ghTHiVA0ynnEF8eJUCX9mXVaR4lQBd7UHhzHiVAbEwSGHweJUC/9+TPgx4lQD/tJbiKHiVAhmWj5pAeJUDJM+Fulh4lQN1dVmKbHiVAPTyk0J8eJUD9z8fHox4lQD7qRVSnHiVAZ7BSgaoeJUDT+fRYrR4lQJf2JeSvHiVAFIPtKrIeJUDugXs0tB4lQDOMPge2HiVAfz/4qLceJUD/ac8euR4lQNJNYG26HiVADi/LmLseJUBeWsGkvB4lQE3NkJS9HiVAEKUua74eJUDNdEArvx4lQLCgJNe/HiVAXtj5cMAeJUA/yKX6wB4lQMoW23XBHiVAxcAe5MEeJUBU5cxGwh4lQAwRHZ/CHiVAhRUm7sIeJUCieeE0wx4lQFyNLnTDHiVAxSrVrMMeJUAALYjfwx4lQOuk5wzEHiVAe9KCNcQeJUAA6dlZxB4lQOCjX3rEHiVA1rB6l8QeJUAZ9IaxxB4lQH+q1sjEHiVAGW2z3cQeJUCYGV/wxB4lQDuiFAHFHiVA58cIEMUeJUC6wGodxR4lQBLNZCnFHiVA/LwcNMUeJUCJZ7Q9xR4lQLEVSkbFHiVA5eH4TcUeJUCsDdlUxR4lQC9OAFvFHiVAwxCCYMUeJUBFuG9lxR4lQPjT2GnFHiVApFDLbcUeJUCPpFNxxR4lQNz2fHTFHiVAtUJRd8UeJUDRdtl5xR4lQLCRHXzFHiVAz7okfsUeJUBDWfV/xR4lQO4nlYHFHiVA\",\"dtype\":\"float64\",\"shape\":[150]},\"c\":{\"__ndarray__\":\"AAAAAAAAFEB20azu/b0VQIM1NN/YXBdAQGWCnjHeGECGH+qVMUMaQKQ0w2ksjRtAjVPkw5i9HECHmDhGQdYdQLOCVRGT2B5A4kIBO8zFH0By77sNqk8gQKCM4J5isyBAaYz0pbQOIUANKuUeQmIhQKdIhsezriFAOcWE/qn0IUCDCd71yjQiQGzffKSCbyJAdP6dHxGlIkBlSZwy4tUiQCbNq15kAiNAhJh82Q8rI0DYh0j2NFAjQKCjMEIeciNAPG6/xBCRI0BNJ6FLTK0jQGkfB74LxyNACK2LYoXeI0CDGjwr6/MjQGxOEwBrByRA6KlsODIZJEB+0yAMbCkkQHNUTIk6OCRAAc9K77xFJEBB3QPlD1IkQJ1EA6xNXSRA3eJfUI5nJEAt+H/V53AkQAjM0V9ueSRAgLCVWzSBJEB1j9qgSogkQCPZ0JTAjiRAHiyZSKSUJEAUpbSVApokQGSnPDjnniRA+sfpvVyjJEC3PZLlbKckQEbTh6UgqyRApt76KoCuJEA9p1DrkrEkQHc8CLRftCRAHjlKuey2JECnJz6jP7kkQGp7PppduyRAIV8CUku9JEDL9dITDb8kQOIZ4MemwCRAMyrH/RvCJECjC130b8MkQG00y6ClxCRAHVgOtb/FJEC3IuSlwMYkQDpdNLCqxyRAx9QA3n/IJEBXb+YKQskkQJD8OOjyySRAJYXCAJTKJEBuHy68JsskQDmiJWKsyyRAY+8oHSbMJEAP/ST9lMwkQF490Pn5zCRA9YjR9FXNJEDmPra7qc0kQKnkuwn2zSRAdTFxiTvOJEDrGDLWes4kQEsZgn20ziRAK8hHAOnOJEAWVuzTGM8kQDWEYWNEzyRAWk8QEGzPJEAJYbIykM8kQDooGByxzyRAWFHdFc/PJEAFLg1j6s8kQPJ5uEAD0CRAnMl95hnQJEB80gWHLtAkQCmhdFBB0CRAe7nQbFLQJEB/BmECYtAkQGZrAjRw0CRAXbR1IX3QJEDelKbniNAkQCNS7KCT0CRAsalEZZ3QJEC3d4lKptAkQNGUoWSu0CRAaFitxbXQJEAEIy9+vNAkQC1LMJ3C0CRAQ79iMMjQJECIpz9EzdAkQL9MI+TR0CRAvIFmGtbQJEC+yHXw2dAkQEJo5m7d0CRAeZ6JneDQJEBBHn6D49AkQMb8Pyfm0CRAdjO3jujQJECS1kS/6tAkQAcez73s0CRAeFvMju7QJEDy9Uw28NAkQJyBBLjx0CRAwgdSF/PQJEDGkUdX9NAkQLwHsXr10CRANXIahPbQJEAVrdV199AkQEmY/1H40CRA69GEGvnQJEB+BCbR+dAkQMPSe3f60CRABWr6DvvQJEDcwvSY+9AkQJOXnxb80CRA8RYUifzQJEBcWVLx/NAkQNmdQ1D90CRA81O8pv3QJEAH9331/dAkQDO/OD3+0CRAnSuNfv7QJECSaQ26/tAkQJmbPvD+0CRATwOaIf/QJEDDEI5O/9AkQIVZf3f/0CRAvnnJnP/QJEAl4b++/9AkQLSNrt3/0CRAq7Xa+f/QJEBzYoMTANEkQKT94SoA0SRAf9EqQADRJEDufY1TANEkQBJjNWUA0SRA\",\"dtype\":\"float64\",\"shape\":[150]},\"d\":{\"__ndarray__\":\"AAAAAAAAFEDwSeV/qBsVQJzULeqhKRZA7uHZtyQqF0APLzKtHh0YQEMaIpZZAxlAraepal/dGUD7kkqgkKsaQBUjyulNbhtAEa/E+xomHEBooBxgd9McQLnbDxfudh1Aalf7jCMRHkAN+OorpqIeQJpXsw7GKx9AJDrkCdusH0BAi7IiKRMgQMyRCqtOTCBAwOQSbg2CIEBB98wLibQgQLPunmnq4yBAxkYcul0QIUDGaZodGzohQBVygMdUYSFAPzq3mS6GIUDSgTvYyqghQPVhWBZMySFAHsnvW9LnIUA8hW3gegQiQAuapGNhHyJA3ygYOaA4IkDQNVNIUVAiQJ7kUoKNZiJAhAOl+Wp7IkA5vOGN/o4iQJ1VtvhboSJAgF3n2pWyIkBL5DHJvcIiQFUG+Fjk0SJATUS78xngIkA/7r/qbe0iQIJi3fLt+SJA7qcK9aYFI0DC+QgZpRAjQPyXp8/zGiNAVNGe3J0kI0AEZwFgrS0jQN5hRN8rNiNANjzeTSI+I0Dv6X4VmUUjQLvN4h2YTCNAixRD1CZTI0CKQmYyTFkjQE/7U8UOXyNAMTyvs3RkI0CKXrrDg2kjQKvriRJEbiNAdAdU0LpyI0CxQJxo7HYjQPfU0APdeiNAQ0wpi5B+I0D9RU+sCoIjQF/509xOhSNAedt0XWCII0AxyzE9QosjQL4QN1z3jSNAHWqdboKQI0BLSQL/5ZIjQBZU+nAklSNAJyBgA0CXI0CrEIHSOpkjQOMlKtoWmyNAT3qW99WcI0CKFEHreZ4jQCWhm1oEoCNAYZSr0XahI0DMII/E0qIjQJZd65AZpCNAxOVEf0ylI0C1KETEbKYjQN6T5oF7pyNAO66dyHmoI0D/Ll2YaKkjQKQKmeFIqiNAA2Q0hhurI0AJQmJa4asjQDTeeCWbrCNAUVS4okmtI0CscAWC7a0jQExPmWiHriNAxXSm8RevI0CA//Oun68jQF6HbykfsCNAADm24ZawI0DLsZVQB7EjQDEahedwsSNAVvQWEdSxI0B7DmQxMbIjQOMBcKaIsiNABaGHyNqyI0DNsZnqJ7MjQH5LilpwsyNAaCqBYbSzI0DvRjNE9LMjQK34J0MwtCNAS+r5mmi0I0B4HpSEnbQjQKNCazXPtCNAi4iz3/20I0AfPJOyKbUjQE1IUtpStSNA+dmGgHm1I0DFTT/MnbUjQIKSKeK/tSNAwie45N+1I0Bo3UT0/bUjQDR3MS8atiNAw1QGsjS2I0D7PI+XTbYjQI9p9vhktiNA6e3d7Xq2I0DakneMj7YjQBk/m+mitiNAFgPcGLW2I0A73ZssxrYjQIdKHjbWtiNALraZReW2I0DI2Udq87YjQIUedbIAtyNA8Q6PKw23I0DB5zHiGLcjQGdVNeIjtyNALmu4Ni63I0AE4CzqN7cjQDCcYQZBtyNAqKKMlEm3I0ACYFSdUbcjQFto2ChZtyNADK25PmC3I0B7MiLmZrcjQMZNzCVttyNAlHEJBHO3I0D+kMiGeLcjQOcenLN9tyNA3a+/j4K3I0BARB0gh7cjQOk/UmmLtyNAdhS0b4+3I0DQolQ3k7cjQHlYBsSWtyNA\",\"dtype\":\"float64\",\"shape\":[150]},\"x\":[0,1,2,3,4,5,6,7,8,9,10,11,12,13,14,15,16,17,18,19,20,21,22,23,24,25,26,27,28,29,30,31,32,33,34,35,36,37,38,39,40,41,42,43,44,45,46,47,48,49,50,51,52,53,54,55,56,57,58,59,60,61,62,63,64,65,66,67,68,69,70,71,72,73,74,75,76,77,78,79,80,81,82,83,84,85,86,87,88,89,90,91,92,93,94,95,96,97,98,99,100,101,102,103,104,105,106,107,108,109,110,111,112,113,114,115,116,117,118,119,120,121,122,123,124,125,126,127,128,129,130,131,132,133,134,135,136,137,138,139,140,141,142,143,144,145,146,147,148,149]},\"selected\":{\"id\":\"2993\",\"type\":\"Selection\"},\"selection_policy\":{\"id\":\"2992\",\"type\":\"UnionRenderers\"}},\"id\":\"2932\",\"type\":\"ColumnDataSource\"},{\"attributes\":{\"label\":{\"value\":\"\\u03b8 = 0.5\"},\"renderers\":[{\"id\":\"3076\",\"type\":\"GlyphRenderer\"}]},\"id\":\"3086\",\"type\":\"LegendItem\"},{\"attributes\":{\"below\":[{\"id\":\"2944\",\"type\":\"LinearAxis\"}],\"left\":[{\"id\":\"2949\",\"type\":\"LinearAxis\"}],\"plot_height\":450,\"plot_width\":450,\"renderers\":[{\"id\":\"2944\",\"type\":\"LinearAxis\"},{\"id\":\"2948\",\"type\":\"Grid\"},{\"id\":\"2949\",\"type\":\"LinearAxis\"},{\"id\":\"2953\",\"type\":\"Grid\"},{\"id\":\"2962\",\"type\":\"BoxAnnotation\"},{\"id\":\"2979\",\"type\":\"Legend\"},{\"id\":\"2971\",\"type\":\"GlyphRenderer\"},{\"id\":\"2984\",\"type\":\"GlyphRenderer\"},{\"id\":\"2998\",\"type\":\"GlyphRenderer\"},{\"id\":\"3012\",\"type\":\"GlyphRenderer\"}],\"title\":{\"id\":\"2933\",\"type\":\"Title\"},\"toolbar\":{\"id\":\"2959\",\"type\":\"Toolbar\"},\"x_range\":{\"id\":\"2936\",\"type\":\"DataRange1d\"},\"x_scale\":{\"id\":\"2940\",\"type\":\"LinearScale\"},\"y_range\":{\"id\":\"2938\",\"type\":\"DataRange1d\"},\"y_scale\":{\"id\":\"2942\",\"type\":\"LinearScale\"}},\"id\":\"2934\",\"subtype\":\"Figure\",\"type\":\"Plot\"},{\"attributes\":{\"line_color\":\"green\",\"x\":{\"field\":\"x\"},\"y\":{\"field\":\"c\"}},\"id\":\"2996\",\"type\":\"Line\"},{\"attributes\":{\"plot\":null,\"text\":\"Evolution of the capita pr. capita for different values of \\u03b8\"},\"id\":\"2933\",\"type\":\"Title\"},{\"attributes\":{\"line_alpha\":0.1,\"line_color\":\"#1f77b4\",\"x\":{\"field\":\"x\"},\"y\":{\"field\":\"c\"}},\"id\":\"2997\",\"type\":\"Line\"},{\"attributes\":{\"data_source\":{\"id\":\"2932\",\"type\":\"ColumnDataSource\"},\"glyph\":{\"id\":\"2996\",\"type\":\"Line\"},\"hover_glyph\":null,\"muted_glyph\":null,\"nonselection_glyph\":{\"id\":\"2997\",\"type\":\"Line\"},\"selection_glyph\":null,\"view\":{\"id\":\"2999\",\"type\":\"CDSView\"}},\"id\":\"2998\",\"type\":\"GlyphRenderer\"},{\"attributes\":{\"callback\":null},\"id\":\"2936\",\"type\":\"DataRange1d\"},{\"attributes\":{\"source\":{\"id\":\"2932\",\"type\":\"ColumnDataSource\"}},\"id\":\"2999\",\"type\":\"CDSView\"},{\"attributes\":{\"callback\":null},\"id\":\"2938\",\"type\":\"DataRange1d\"},{\"attributes\":{\"label\":{\"value\":\"\\u03b8 = 0.7\"},\"renderers\":[{\"id\":\"2998\",\"type\":\"GlyphRenderer\"}]},\"id\":\"3008\",\"type\":\"LegendItem\"},{\"attributes\":{},\"id\":\"2940\",\"type\":\"LinearScale\"},{\"attributes\":{},\"id\":\"3085\",\"type\":\"Selection\"},{\"attributes\":{},\"id\":\"2942\",\"type\":\"LinearScale\"},{\"attributes\":{\"line_color\":\"purple\",\"x\":{\"field\":\"x\"},\"y\":{\"field\":\"d\"}},\"id\":\"3010\",\"type\":\"Line\"},{\"attributes\":{\"axis_label\":\"T\",\"formatter\":{\"id\":\"2977\",\"type\":\"BasicTickFormatter\"},\"plot\":{\"id\":\"2934\",\"subtype\":\"Figure\",\"type\":\"Plot\"},\"ticker\":{\"id\":\"2945\",\"type\":\"BasicTicker\"}},\"id\":\"2944\",\"type\":\"LinearAxis\"},{\"attributes\":{\"line_alpha\":0.1,\"line_color\":\"#1f77b4\",\"x\":{\"field\":\"x\"},\"y\":{\"field\":\"d\"}},\"id\":\"3011\",\"type\":\"Line\"},{\"attributes\":{},\"id\":\"2945\",\"type\":\"BasicTicker\"},{\"attributes\":{\"data_source\":{\"id\":\"2932\",\"type\":\"ColumnDataSource\"},\"glyph\":{\"id\":\"3010\",\"type\":\"Line\"},\"hover_glyph\":null,\"muted_glyph\":null,\"nonselection_glyph\":{\"id\":\"3011\",\"type\":\"Line\"},\"selection_glyph\":null,\"view\":{\"id\":\"3013\",\"type\":\"CDSView\"}},\"id\":\"3012\",\"type\":\"GlyphRenderer\"},{\"attributes\":{\"plot\":{\"id\":\"2934\",\"subtype\":\"Figure\",\"type\":\"Plot\"},\"ticker\":{\"id\":\"2945\",\"type\":\"BasicTicker\"}},\"id\":\"2948\",\"type\":\"Grid\"},{\"attributes\":{\"label\":{\"value\":\"\\u03b8 = 1.5\"},\"renderers\":[{\"id\":\"3012\",\"type\":\"GlyphRenderer\"}]},\"id\":\"3022\",\"type\":\"LegendItem\"},{\"attributes\":{\"source\":{\"id\":\"2932\",\"type\":\"ColumnDataSource\"}},\"id\":\"3013\",\"type\":\"CDSView\"},{\"attributes\":{\"axis_label\":\"Capital pr. capita\",\"formatter\":{\"id\":\"2975\",\"type\":\"BasicTickFormatter\"},\"plot\":{\"id\":\"2934\",\"subtype\":\"Figure\",\"type\":\"Plot\"},\"ticker\":{\"id\":\"2950\",\"type\":\"BasicTicker\"}},\"id\":\"2949\",\"type\":\"LinearAxis\"},{\"attributes\":{\"callback\":null,\"data\":{\"a\":{\"__ndarray__\":\"oVu+UcnF4T8vE1mehKbgP6BT30tmVd8/hcXaS++b3T9bzYHzYxncP15XOZnox9o/iugYAXWj2T9B8ZeOfaTYPzggjeA8xdc/gFfJPmQD1z8qZ03pMVvWP6tnDBfYyNU/ch1qJtZJ1T+o/9MKD9vUP1Io6xW9etQ/0sorBtgm1D+noPObf97TP6gbGkBioNM/dKgklk5q0z9eV13iQjvTP3huhqR0EtM/1nd05R7v0j+AcgOSaNDSP4wXOYe5tdI/WMBahIye0j99NdH+bIrSP7A1gSr1eNI/Ji/iNMxp0j9aQBGwpFzSP1pAhCo7UdI/CY2PKlxH0j8XUrb72D7SP1aH9Ul1N9I/RjDaTgsx0j/Mm/oweivSP7EJ62GlJtI/+nJrEHQi0j8TQ2+s0B7SPwLl3HqoG9I/9sQcN+sY0j/IEsXAihbSP4PY4NN6FNI/fMJ9yrAS0j8tXlRmIxHSP9jLgqHKD9I/EityhZ8O0j94uBsHnA3SP/bz++e6DNI/2YsYm/cL0j+LfpEtTgvSP7Q0RzK7CtI/fIMusDsK0j8u0PgSzQnSP4Etwh1tCdI/NXCB3xkJ0j8AFP+o0QjSPwqCHwSTCNI/TgRUrFwI0j/TjAuILQjSP4uQAaMECNI/FKVNKeEH0j/paxpjwgfSP4av7bCnB9I/L4FuiJAH0j/mrZhxfAfSPw0UTwRrB9I/M0xA5lsH0j/2vxLJTgfSP6y6zmhDB9I/az9+ijkH0j/Dhfv6MAfSP+bv540pB9I/0x3GHCMH0j8gdzKGHQfSP0UiNq0YB9I/POmweBQH0j/0AdfSEAfSP/4XwKgNB9I/I04F6goH0j9hPGyICAfSP5IxnXcGB9I/3TrjrAQH0j9SpfQeAwfSPyTawsUBB9I/IJxQmgAH0j/JzY2W/wbSP3UEOLX+BtI/rEW/8f0G0j89YS5I/QbSP6ttFrX8BtI/m/x8NfwG0j/vqszG+wbSP6y8x2b7BtI/HX98E/sG0j8qNTvL+gbSP3xZjYz6BtI/RgkuVvoG0j9BcAMn+gbSP+oTGf75BtI/QuCa2vkG0j+P3NC7+QbSP8dxG6H5BtI/Yi/wifkG0j+y/dZ1+QbSP4WvZ2T5BtI/FuZHVfkG0j+pPClI+QbSPzKyxzz5BtI/20joMvkG0j9A1Fcq+QbSPyrw6SL5BtI/dBp4HPkG0j+C6+AW+QbSPwZpBxL5BtI/2G/SDfkG0j+tMSwK+QbSPwXEAQf5BtI/K75CBPkG0j8e5OAB+QbSP87cz//4BtI/HPIE/vgG0j9O2Xb8+AbSP++CHfv4BtI//vDx+fgG0j+4Eu74+AbSPx6lDPj4BtI/uhdJ9/gG0j/vdJ/2+AbSP3hNDPb4BtI/kqaM9fgG0j+W6h31+AbSP4rbvfT4BtI/hodq9PgG0j+hPiL0+AbSPyyK4/P4BtI/IiWt8/gG0j+S9X3z+AbSP+YGVfP4BtI/+IQx8/gG0j+2txLz+AbSP3z/9/L4BtI/ytHg8vgG0j99tszy+AbSP1pFu/L4BtI/9iOs8vgG0j/sA5/y+AbSPy6hk/L4BtI/usCJ8vgG0j9gL4Hy+AbSP7TAefL4BtI/\",\"dtype\":\"float64\",\"shape\":[150]},\"b\":{\"__ndarray__\":\"Isw3dN1e3j8rmI5+2APdP9Q+64720ts/gy1boay/2j/6xDNQccvZPwBXAME58tg/V7OOt5Qt2D+Jad8k0oDXP1I6nHZJ59Y/mRqppR1g1j/4xgAdy+bVP/GcPlqpeNU/8YUzfxIX1T/OzCeg77/UP4QhfIUXdNQ/H7ONR6Qv1D8cr9KbsvDTP0Pf2m0quNM/8ED0rdyF0z/GzVRDrlnTP77u/fD+MdM/7iqDjV4O0z+B3jr9c+7SPwSiGcjq0dI/FPgs0VK40j8z+4NxYKHSPxQRQzLPjNI//6enM2F60j9zGv+b3mnSP9BYycIhW9I/yKTaaxFO0j+e3NgWXELSP5IZlSveN9I/W998o3cu0j8A+EKyCybSP18DAXaAHtI/VHxerr4X0j/CVEV6sRHSPw1iqxtGDNI/TaT5wGsH0j/DL55TEwPSP/SOWksv/9E/KVvmhbP70T9DLoQilfjRPxavLWHK9dE/IB4ChUrz0T99Tqm5DfHRP1tFY/sM79E/Pb6CAULt0T8fghYrp+vRP9DTim036tE/5SoRRe7o0T+UD6Gmx+fRP3MnafO/5tE/H2iL7dPl0T/K9QKuAOXRP151lZtD5NE/3JC0Yprj0T8gHzfuAuPRPwbS02B74tE/EYVJDwLi0T8gSCN7leHRP9IQCE404dE/7Z+HVd3g0T89oVd/j+DRPxpg9dVJ4NE/BJ2hfQvg0T+oI62x09/RP4u4DcKh39E/qNMzEXXf0T9qZRoSTd/RP52WikYp39E/KhWOPQnf0T/nDwuS7N7RPz+FhenS3tE/A/0B87ve0T/ELQZmp97RP4trtAGV3tE/jBH/i4Te0T+gY/HQdd7RP1enC6Jo3tE/8nCw1Vze0T9eVqFGUt7RP8lqidNI3tE/pBCUXkDe0T+s1g7NON7RP0w3FQcy3tE/5DBF9yve0T8VyXuKJt7RP3SmmK8h3tE/DAJIVx3e0T9KRtJzGd7RP6LC8PgV3tE/eOum2xLe0T/uqx8SEN7RPzpcjpMN3tE/ofoSWAve0T9QT6FYCd7RP9Ks6o4H3tE/rQZK9QXe0T+OH7KGBN7RP56WnT4D3tE/uqEAGQLe0T92RzwSAd7RP7HwEicA3tE/iy2eVP/d0T98jUWY/t3RP7Bttu/93dE/s6PcWP3d0T9g7dvR/N3RP0wRCln83dE/H53p7Pvd0T9WMSWM+93RP31LizX73dE/roEK6Prd0T9cI66i+t3RP8g0m2T63dE/srsNLfrd0T+QVFb7+d3RP+II2M753dE/nF8Gp/nd0T+moWOD+d3RP/xMf2P53dE/dLH0Rvnd0T/esmkt+d3RP4SsjRb53dE/lHIYAvnd0T87bsnv+N3RP8TRZt/43dE/GOK80Pjd0T9jU53D+N3RP/a23rf43dE/a/hbrfjd0T+j6POj+N3RP/DUiJv43dE/YykAlPjd0T/VHEKN+N3RP9hlOYf43dE/gffSgfjd0T85xf18+N3RP/eMqnj43dE/DafLdPjd0T8N21Rx+N3RPy45O2743dE/z/d0a/jd0T+MVPlo+N3RP5J4wGb43dE/5l/DZPjd0T82w/ti+N3RPxQEZGH43dE/\",\"dtype\":\"float64\",\"shape\":[150]},\"c\":{\"__ndarray__\":\"vXyrUhRJ2z+TAwRGFFfaP9RePdPthNk/4H+HszXI2D8oKtIcEh7YP1hXELqOhNc/NyHuFCD81j9Vc+1FEIDWP1b9dIetDdY/tyeqqmel1T8jTgqsOEjVP0G6r/Ax89Q/WcJw3d2l1D/MqddPemDUP6fPBX5xItQ/HpbbtRvs0z+OC+yABLrTP3zyjDmRidM/tPYIIGBd0z+2C2sxsDXTP2kWfcQxE9M/yi9y7Kzz0j/XCuVo49bSP7HHEDqbvNI/jBMmyp6k0j9KnO0BvY7SPyzeFzrIetI/Y8V2YZZo0j8nYA7CAFjSP050w40TSdI/tr0OGcQ70j8mb6Eqni/SP9tqUEOIJNI/xVMQ/moa0j/hGU7nMBHSPxr0rVbGCNI/+TwuSxkB0j+YPKNJGfrRPxSpej2389E/jySxW+Xt0T9b4+AHl+jRP5GkTrvA49E/qAfZ7Vff0T8E2a0AU9vRPyd3U8mm19E/OhkzCE3U0T/86T9yP9HRP2XAfkt3ztE/0kkWb+7L0T8e+EdCn8nRPxOhfqiEx9E/oGdd+JnF0T8R3rrx2sPRPzqhdbRDwtE/BPQQuNDA0T+NHQnEfr/RP9B50OhKvtE/gUpneTK90T+KZIEFM7zRP/jULVRKu9E/oYb1Xna60T/Z0GZNtbnRPxKnBHEFudE/XuKQQWW40T/c0KlZ07fRP6bcs3NOt9E/V7UIZ9W20T8t9GUlZ7bRP2u1lbgCttE/VRlMQKe10T9+DTXwU7XRP18kLg4ItdE/MZ6o8MK00T9mGzD9g7TRPya/EqdKtNE/9s8nbha00T9GJrLd5rPRP4n0W4u7s9E/hatJFpSz0T+l70EmcLPRP/rB6GpPs9E/nCkMmzGz0T9C0AB0FrPRPwwoDbn9stE/ONDhMuey0T/fCx6v0rLRPyM43/+/stE/zUda+66y0T8yYH57n7LRP6jHn12RstE/ImgqgoSy0T88OVvMeLLRP5X0/yFustE/AYU8a2Sy0T8XrlWSW7LRPwB1gINTstE/O961LEyy0T9vnYp9RbLRP3FdCmc/stE/W06W2zmy0T8sr8bONLLRP8EOTzUwstE/SAblBCyy0T+nNCk0KLLRP2pHkrokstE/a+JZkCGy0T9qO2uuHrLRP9BCUw4cstE/KDYyqhmy0T8QfK58F7LRPzms6IAVstE/tahwshOy0T9EsDsNErLRP1JTm40QstE/fTc1MA+y0T8vl/vxDbLRP5JsJtAMstE/hjgtyAuy0T+4V8HXCrLRPyrZyPwJstE/m8pZNQmy0T9W8LV/CLLRP8jeRtoHstE/M22aQwey0T9ueV+6BrLRP5z1Yj0GstE/KTmNywWy0T8Kj99jBbLRP9v7cQUFstE/1jZxrwSy0T8O0RxhBLLRP+OGxRkEstE/1rfL2AOy0T9oAZ6dA7LRP8X5t2cDstE/hQehNgOy0T/OU+sJA7LRP5bUMuECstE/ymwcvAKy0T9vIFWaArLRP/ZakXsCstE/IEaMXwKy0T/0LwdGArLRP3z+yC4CstE//6+dGQKy0T+i5lUGArLRP25+xvQBstE/yizI5AGy0T+NKDfWAbLRP+3Z8sgBstE/\",\"dtype\":\"float64\",\"shape\":[150]},\"d\":{\"__ndarray__\":\"rgMVmv5N1T9o0JN8RgXVP1jyR8JnwdQ/rPdG+Kl+1D+YdT7g10PUP0wz9vsCDtQ/i7hUgTfb0z/IWlUYDKvTP1FXoStVftM/jNl/Oq5U0z+DfwmgRS7TP5Tv1bXKC9M/A9yfjHLs0j8JQiRFMc7SPxpPHn03sdI/tGmpQymW0j/UpnUlKX3SP9OUO/SiZdI/hUS0PuBO0j9Uj05wNznSP6t4oGbjJNI/X1CsNaoS0j80XDkKPwLSPwN+chXR8tE/MssAOlLk0T+tl+jF0tbRP/Ksl5M3ytE/RMYf/2C+0T8SlcmzQ7PRP+deiO7UqNE/nO85NRmf0T/bRlzqDJbRP5iOwQKPjdE/w29sEJeF0T/sgJoaHX7RP4ktyZgZd9E/ZeW9bYVw0T+b35riWWrRP7a+jYOcZNE/upMiz0Rf0T/+81XxQVrRP6pg3cKOVdE/Di4WaSZR0T/J2gJSBE3RP1QHbzAkSdE/gdI6+IFF0T8V783aGULRP6xpskPoPtE/VslW1ek70T8N9/ZlGznRP9slq/x5NtE/rM2bzgI00T/aq1k8szHRPwelWM+IL9E/41KMN4Et0T+2vokDwyvRPz8gbn0mKtE/MFe+6qIo0T9Vh7bLNifRP0VYU7fgJdE/tfsBWp8k0T+Xc2J0cSPRP1A+G9pVItE/kpS9cEsh0T+WarkuUSDRP7psYBpmH9E/XTb3SIke0T/gCNTduR3RP8RPign3HNE/CUYiCUAc0T88GFwllBvRP67l/bHyGtE/ZAosDVsa0T82IsuezBnRP1w869dGGdE/Nb07MskY0T9+cocvUxjRP0lkOFnkF9E/LvPiP3wX0T+c2dd6GhfRPwqsvKe+FtE/1HgqamgW0T/CLVJrFxbRPwFuplnLFdE//4eK6IMV0T/vPgbQQBXRPxYgfswBFdE/zB9wnsYU0T8QPjQKjxTRPyb2wNdaFNE/BUBz0ikU0T+07dnI+xPRP9UxhIzQE9E/Th/T8acT0T8U9c3PgRPRP2kL+f9dE9E/gDovXjwT0T/WlH3IHBPRP6JRAR//EtE/5cXHQ+MS0T+iTLAayRLRP4YAUImwEtE/MSvXdpkS0T+0T/jLgxLRP7630HJvEtE/HmzSVlwS0T+ygq9kShLRP1mtRoo5EtE/bPaQtikS0T+kmJDZGhLRP0nhQOQMEtE/oAyHyP8R0T9sDSR58xHRP18xp+nnEdE/E5VhDt0R0T/6Wlrc0hHRP4aZQ0nJEdE/avVvS8AR0T+C3cjZtxHRP6ZexeuvEdE/GoZheagR0T8cShZ7oRHRP0Lw0emaEdE/LOrwvpQR0T89ITf0jhHRP7+qyYOJEdE/+t0oaIQR0T9ixiqcfxHRP0Ls9Rp7EdE/lG7833YR0T8waffmchHRP5Si4itvEdE/An34qmsR0T/SJq5gaBHRPx4GsEllEdE/NFzeYmIR0T9eHUqpXxHRP+j5MRpdEdE/RJX/sloR0T+k6ERxWBHRP0POuVJWEdE/+7I5VVQR0T/Ga8F2UhHRPwQtbbVQEdE/dKF2D08R0T/uHjODTRHRPxL3EQ9MEdE/ROKasUoR0T9Ag2xpSRHRP+MBOzVIEdE/\",\"dtype\":\"float64\",\"shape\":[150]},\"x\":[0,1,2,3,4,5,6,7,8,9,10,11,12,13,14,15,16,17,18,19,20,21,22,23,24,25,26,27,28,29,30,31,32,33,34,35,36,37,38,39,40,41,42,43,44,45,46,47,48,49,50,51,52,53,54,55,56,57,58,59,60,61,62,63,64,65,66,67,68,69,70,71,72,73,74,75,76,77,78,79,80,81,82,83,84,85,86,87,88,89,90,91,92,93,94,95,96,97,98,99,100,101,102,103,104,105,106,107,108,109,110,111,112,113,114,115,116,117,118,119,120,121,122,123,124,125,126,127,128,129,130,131,132,133,134,135,136,137,138,139,140,141,142,143,144,145,146,147,148,149]},\"selected\":{\"id\":\"3085\",\"type\":\"Selection\"},\"selection_policy\":{\"id\":\"3084\",\"type\":\"UnionRenderers\"}},\"id\":\"3024\",\"type\":\"ColumnDataSource\"},{\"attributes\":{},\"id\":\"2950\",\"type\":\"BasicTicker\"},{\"attributes\":{\"below\":[{\"id\":\"3036\",\"type\":\"LinearAxis\"}],\"left\":[{\"id\":\"3041\",\"type\":\"LinearAxis\"}],\"plot_height\":450,\"plot_width\":450,\"renderers\":[{\"id\":\"3036\",\"type\":\"LinearAxis\"},{\"id\":\"3040\",\"type\":\"Grid\"},{\"id\":\"3041\",\"type\":\"LinearAxis\"},{\"id\":\"3045\",\"type\":\"Grid\"},{\"id\":\"3054\",\"type\":\"BoxAnnotation\"},{\"id\":\"3071\",\"type\":\"Legend\"},{\"id\":\"3063\",\"type\":\"GlyphRenderer\"},{\"id\":\"3076\",\"type\":\"GlyphRenderer\"},{\"id\":\"3090\",\"type\":\"GlyphRenderer\"},{\"id\":\"3104\",\"type\":\"GlyphRenderer\"}],\"title\":{\"id\":\"3025\",\"type\":\"Title\"},\"toolbar\":{\"id\":\"3051\",\"type\":\"Toolbar\"},\"x_range\":{\"id\":\"3028\",\"type\":\"DataRange1d\"},\"x_scale\":{\"id\":\"3032\",\"type\":\"LinearScale\"},\"y_range\":{\"id\":\"3030\",\"type\":\"DataRange1d\"},\"y_scale\":{\"id\":\"3034\",\"type\":\"LinearScale\"}},\"id\":\"3026\",\"subtype\":\"Figure\",\"type\":\"Plot\"},{\"attributes\":{\"dimension\":1,\"plot\":{\"id\":\"2934\",\"subtype\":\"Figure\",\"type\":\"Plot\"},\"ticker\":{\"id\":\"2950\",\"type\":\"BasicTicker\"}},\"id\":\"2953\",\"type\":\"Grid\"},{\"attributes\":{\"plot\":null,\"text\":\"Evolution of the savingsrate for different values of \\u03b8\"},\"id\":\"3025\",\"type\":\"Title\"},{\"attributes\":{},\"id\":\"2992\",\"type\":\"UnionRenderers\"},{\"attributes\":{\"callback\":null},\"id\":\"3028\",\"type\":\"DataRange1d\"},{\"attributes\":{\"callback\":null},\"id\":\"3030\",\"type\":\"DataRange1d\"},{\"attributes\":{},\"id\":\"2954\",\"type\":\"PanTool\"},{\"attributes\":{},\"id\":\"3032\",\"type\":\"LinearScale\"},{\"attributes\":{},\"id\":\"2955\",\"type\":\"WheelZoomTool\"},{\"attributes\":{},\"id\":\"3034\",\"type\":\"LinearScale\"},{\"attributes\":{\"overlay\":{\"id\":\"2962\",\"type\":\"BoxAnnotation\"}},\"id\":\"2956\",\"type\":\"BoxZoomTool\"},{\"attributes\":{\"axis_label\":\"T\",\"formatter\":{\"id\":\"3069\",\"type\":\"BasicTickFormatter\"},\"plot\":{\"id\":\"3026\",\"subtype\":\"Figure\",\"type\":\"Plot\"},\"ticker\":{\"id\":\"3037\",\"type\":\"BasicTicker\"}},\"id\":\"3036\",\"type\":\"LinearAxis\"},{\"attributes\":{},\"id\":\"2957\",\"type\":\"ResetTool\"},{\"attributes\":{},\"id\":\"2958\",\"type\":\"SaveTool\"},{\"attributes\":{},\"id\":\"3037\",\"type\":\"BasicTicker\"},{\"attributes\":{\"active_drag\":\"auto\",\"active_inspect\":\"auto\",\"active_multi\":null,\"active_scroll\":\"auto\",\"active_tap\":\"auto\",\"tools\":[{\"id\":\"2931\",\"type\":\"HoverTool\"},{\"id\":\"2954\",\"type\":\"PanTool\"},{\"id\":\"2955\",\"type\":\"WheelZoomTool\"},{\"id\":\"2956\",\"type\":\"BoxZoomTool\"},{\"id\":\"2957\",\"type\":\"ResetTool\"},{\"id\":\"2958\",\"type\":\"SaveTool\"}]},\"id\":\"2959\",\"type\":\"Toolbar\"},{\"attributes\":{\"plot\":{\"id\":\"3026\",\"subtype\":\"Figure\",\"type\":\"Plot\"},\"ticker\":{\"id\":\"3037\",\"type\":\"BasicTicker\"}},\"id\":\"3040\",\"type\":\"Grid\"},{\"attributes\":{\"line_color\":\"red\",\"x\":{\"field\":\"x\"},\"y\":{\"field\":\"a\"}},\"id\":\"2969\",\"type\":\"Line\"},{\"attributes\":{\"axis_label\":\"Savings rate\",\"formatter\":{\"id\":\"3067\",\"type\":\"BasicTickFormatter\"},\"plot\":{\"id\":\"3026\",\"subtype\":\"Figure\",\"type\":\"Plot\"},\"ticker\":{\"id\":\"3042\",\"type\":\"BasicTicker\"}},\"id\":\"3041\",\"type\":\"LinearAxis\"},{\"attributes\":{\"bottom_units\":\"screen\",\"fill_alpha\":{\"value\":0.5},\"fill_color\":{\"value\":\"lightgrey\"},\"left_units\":\"screen\",\"level\":\"overlay\",\"line_alpha\":{\"value\":1.0},\"line_color\":{\"value\":\"black\"},\"line_dash\":[4,4],\"line_width\":{\"value\":2},\"plot\":null,\"render_mode\":\"css\",\"right_units\":\"screen\",\"top_units\":\"screen\"},\"id\":\"2962\",\"type\":\"BoxAnnotation\"},{\"attributes\":{},\"id\":\"3042\",\"type\":\"BasicTicker\"},{\"attributes\":{\"line_alpha\":0.1,\"line_color\":\"#1f77b4\",\"x\":{\"field\":\"x\"},\"y\":{\"field\":\"a\"}},\"id\":\"2970\",\"type\":\"Line\"},{\"attributes\":{\"dimension\":1,\"plot\":{\"id\":\"3026\",\"subtype\":\"Figure\",\"type\":\"Plot\"},\"ticker\":{\"id\":\"3042\",\"type\":\"BasicTicker\"}},\"id\":\"3045\",\"type\":\"Grid\"},{\"attributes\":{\"data_source\":{\"id\":\"2932\",\"type\":\"ColumnDataSource\"},\"glyph\":{\"id\":\"2969\",\"type\":\"Line\"},\"hover_glyph\":null,\"muted_glyph\":null,\"nonselection_glyph\":{\"id\":\"2970\",\"type\":\"Line\"},\"selection_glyph\":null,\"view\":{\"id\":\"2972\",\"type\":\"CDSView\"}},\"id\":\"2971\",\"type\":\"GlyphRenderer\"},{\"attributes\":{},\"id\":\"3084\",\"type\":\"UnionRenderers\"},{\"attributes\":{\"source\":{\"id\":\"2932\",\"type\":\"ColumnDataSource\"}},\"id\":\"2972\",\"type\":\"CDSView\"},{\"attributes\":{},\"id\":\"2975\",\"type\":\"BasicTickFormatter\"},{\"attributes\":{\"line_color\":\"red\",\"x\":{\"field\":\"x\"},\"y\":{\"field\":\"a\"}},\"id\":\"3061\",\"type\":\"Line\"},{\"attributes\":{},\"id\":\"3046\",\"type\":\"PanTool\"},{\"attributes\":{},\"id\":\"2977\",\"type\":\"BasicTickFormatter\"},{\"attributes\":{},\"id\":\"3047\",\"type\":\"WheelZoomTool\"},{\"attributes\":{\"items\":[{\"id\":\"2980\",\"type\":\"LegendItem\"},{\"id\":\"2994\",\"type\":\"LegendItem\"},{\"id\":\"3008\",\"type\":\"LegendItem\"},{\"id\":\"3022\",\"type\":\"LegendItem\"}],\"location\":\"bottom_center\",\"plot\":{\"id\":\"2934\",\"subtype\":\"Figure\",\"type\":\"Plot\"}},\"id\":\"2979\",\"type\":\"Legend\"},{\"attributes\":{\"overlay\":{\"id\":\"3054\",\"type\":\"BoxAnnotation\"}},\"id\":\"3048\",\"type\":\"BoxZoomTool\"},{\"attributes\":{\"label\":{\"value\":\"\\u03b8 = 0.3\"},\"renderers\":[{\"id\":\"2971\",\"type\":\"GlyphRenderer\"}]},\"id\":\"2980\",\"type\":\"LegendItem\"},{\"attributes\":{},\"id\":\"3049\",\"type\":\"ResetTool\"},{\"attributes\":{\"source\":{\"id\":\"2932\",\"type\":\"ColumnDataSource\"}},\"id\":\"2985\",\"type\":\"CDSView\"},{\"attributes\":{},\"id\":\"3050\",\"type\":\"SaveTool\"},{\"attributes\":{\"line_color\":\"blue\",\"x\":{\"field\":\"x\"},\"y\":{\"field\":\"b\"}},\"id\":\"2982\",\"type\":\"Line\"}],\"root_ids\":[\"3348\"]},\"title\":\"Bokeh Application\",\"version\":\"1.0.2\"}};\n",
       "  var render_items = [{\"docid\":\"6b31a5ba-ac78-4c3b-971a-41475d81c8b7\",\"notebook_comms_target\":\"3473\",\"roots\":{\"3348\":\"61093f06-fb47-4210-9b03-58b197452092\"}}];\n",
       "  root.Bokeh.embed.embed_items_notebook(docs_json, render_items);\n",
       "\n",
       "  }\n",
       "  if (root.Bokeh !== undefined) {\n",
       "    embed_document(root);\n",
       "  } else {\n",
       "    var attempts = 0;\n",
       "    var timer = setInterval(function(root) {\n",
       "      if (root.Bokeh !== undefined) {\n",
       "        embed_document(root);\n",
       "        clearInterval(timer);\n",
       "      }\n",
       "      attempts++;\n",
       "      if (attempts > 100) {\n",
       "        console.log(\"Bokeh: ERROR: Unable to run BokehJS code because BokehJS library is missing\");\n",
       "        clearInterval(timer);\n",
       "      }\n",
       "    }, 10, root)\n",
       "  }\n",
       "})(window);"
      ],
      "application/vnd.bokehjs_exec.v0+json": ""
     },
     "metadata": {
      "application/vnd.bokehjs_exec.v0+json": {
       "id": "3348"
      }
     },
     "output_type": "display_data"
    },
    {
     "data": {
      "text/html": [
       "\n",
       "\n",
       "\n",
       "\n",
       "\n",
       "\n",
       "  <div class=\"bk-root\" id=\"397daeda-af12-4576-aca4-c5eeb237f873\"></div>\n"
      ]
     },
     "metadata": {},
     "output_type": "display_data"
    },
    {
     "data": {
      "application/javascript": [
       "(function(root) {\n",
       "  function embed_document(root) {\n",
       "    \n",
       "  var docs_json = {\"7e273048-aa2e-4812-b585-e218178a0336\":{\"roots\":{\"references\":[{\"attributes\":{\"children\":[{\"id\":\"3118\",\"subtype\":\"Figure\",\"type\":\"Plot\"},{\"id\":\"3210\",\"subtype\":\"Figure\",\"type\":\"Plot\"}]},\"id\":\"3570\",\"type\":\"Row\"},{\"attributes\":{},\"id\":\"3269\",\"type\":\"Selection\"},{\"attributes\":{},\"id\":\"3177\",\"type\":\"Selection\"},{\"attributes\":{},\"id\":\"3176\",\"type\":\"UnionRenderers\"},{\"attributes\":{\"callback\":null,\"data\":{\"a\":{\"__ndarray__\":\"AAAAAAAANEAPDs2WZdkyQNnjwbq+wzFAZBiNbhHAMEADDCtLAcUvQAdCEbuSTC5Ag+8pHBUMLUAS0sQDoforQNQQuuXbECtAxq6VRbFIKkDCOeVcDZ0pQB0C6WOTCSlAv/Yt58GKKEAb5vSOnR0oQBMTdeeWvydAkuo79IRuJ0Ao8vpvkignQBYajZYs7CZA0Sa+cP63JkAyzqyb5YomQFBBjcvkYyZAkz0toCVCJkCXhkvg8yQmQEDnnD+vCyZAF5aTPs71JUBuyu692uIlQJWLviBv0iVAHB1D4zPEJUAdAUhP4LclQEyOWaoyrSVAFrCCHPKjJUDJdjKR7ZslQG+BNaH6lCVATIYupfSOJUA8WUbqu4klQOaL2wM1hSVA8qvWNUiBJUApuPzz4H0lQB3NLXPteiVAl5z4SV54JUD6+1AeJnYlQOKfjF45dCVA7hMQBI5yJUDhnVFeG3ElQNEBCuXZbyVA8aGVEMNuJUCXhqw30W0lQEuHtnH/bCVA7PMafUlsJUDtcgGpq2slQHbnDMIiayVAOpWpAaxqJUBiyZX/RGolQLlnWKXraSVAqyNjI55pJUDlI6fnWmklQFOKapUgaSVAFQY0/u1oJUBZV6cbwmglQGOnMgqcaCVAAuRwBHtoJUCDBilfXmglQBFm1YVFaCVAwf6g9y9oJUDO/8pEHWglQLIKYwwNaCVAS1tS+v5nJUALo6fF8mclQH68HC/oZyVA5onO/95nJUDFViAI12clQI32xB7QZyVA457oH8pnJUACJnfsxGclQHvhemnAZyVAFuGQf7xnJUD6sG8auWclQBAufii2ZyVAP0t4mrNnJUBH7h9jsWclQANK+HavZyVA01EKzK1nJUC9EbFZrGclQCvfbBirZyVAEHq8AapnJUD5VPsPqWclQBhVRD6oZyVAzXJYiKdnJUD9tojqpmclQEkjo2GmZyVA+SHi6qVnJUDrJ96DpWclQPQ9gSqlZyVAGzH83KRnJUCkMb2ZpGclQFiwZ1+kZyVAw0/NLKRnJUD7xOcApGclQASI09qjZyVAeTjLuaNnJUB1niOdo2clQBkzSISjZyVAqh64bqNnJUC+nANco2clQOu4yUujZyVAL1i2PaNnJUANhYAxo2clQFT16CajZyVAGsK4HaNnJUAiS8AVo2clQAVA1g6jZyVADcrWCKNnJUBr0qIDo2clQBthH/+iZyVADxE1+6JnJUD6ls/3omclQBFY3fSiZyVA0g5P8qJnJUDeexfwomclQEchK+6iZyVABQeA7KJnJUBIhw3romclQKUhzOmiZyVANFS16KJnJUDVecPnomclQO6s8eaiZyVABq475qJnJUDHzZ3lomclQN/ZFOWiZyVAbQye5KJnJUCn/TbkomclQF+X3eOiZyVAMAqQ46JnJUAhxEzjomclQIJoEuOiZyVA0cjf4qJnJUCp3rPiomclQG7GjeKiZyVAprps4qJnJUAKEFDiomclQAIyN+KiZyVAqp8h4qJnJUAw6Q7iomclQJit/uGiZyVAvZjw4aJnJUCiYeThomclQPTI2eGiZyVAypfQ4aJnJUB9nsjhomclQLezweGiZyVA\",\"dtype\":\"float64\",\"shape\":[150]},\"b\":{\"__ndarray__\":\"AAAAAAAANEDOEbzMiu4yQM+Vhth5/TFAq3vFlbwoMUAiPch4zmwwQCX1wFFDjS9A+DprRiBnLkAGbPICmmItQK32KWKJeyxAZ/5zRFuuK0DSW4wOIvgqQD9TKCApVipAUn9iXhjGKUA4l2nS4EUpQEaV0zqy0yhAyTl9KvNtKEC+I9W6QhMoQOkL+MtgwidAS6Vo0zR6J0DigdQ2yTknQIoNfXlDACdA1pSpmOXMJkDk11BaKZ8mQJ2oPi5rdiZA+1aPJhtSJkBAuwTTrjEmQBKawBq1FCZA9II16M36JUClYTcKpOMlQPLW2+LrziVAbr8W22K8JUDxm9lk0KslQMC1FIT+nCVA4eAeL72PJUBIEaif4YMlQL5bMrlFeSVAMSEqgsdvJUDk0SWtSGclQMXBMjCuXyVAlVNi6N9YJUA6CgxIyFIlQF0LcA5UTSVA0BaUB3JIJUCGX1zTEkQlQOA8A7MoQCVAp00vXKc8JUCtLQDRgzklQAvyfjy0NiVAE8rx0i80JUC+JTdA7zElQIk05F/rLyVA87c+yx0uJUAk/PbIgCwlQI/NrzoPKyVA1uuDjMQpJUDz5lCmnCglQAm6ld6TJyVAiRe57qYmJUBHTpDo0iUlQGYNBC0VJSVAZyi0Y2skJUB/5X5z0yMlQFZl03tLIyVAwl+5ztEiJUCr0HrrZCIlQD9L3nkDIiVAsIjiRawhJUCkce07XiElQE9cYmUYISVAk4qU5dkgJUDsHwz3oSAlQHLSFOlvICVAYomOHUMgJUDa7/gGGyAlQN/Asyb3HyVA9TpuC9cfJUAAwcBPuh8lQCE17JigHyVAERO7lYkfJUAgu4D9dB8lQGi/M49iHyVAxFqgEFIfJUAehrBNQx8lQFFlxxc2HyVAYwIuRSofJUDdhI+wHx8lQBFEgzgWHyVALj8jvw0fJUBLra0pBh8lQKJ6MGD/HiVA16c9TfkeJUAWnKfd8x4lQBiURADvHiVAsm64peoeJUB8K0TA5h4lQGuCmkPjHiVAJgu5JOAeJUBQecVZ3R4lQAeA7tnaHiVAP/pPndgeJUAIANqc1h4lQBmaOtLUHiVAGM3JN9MeJUC7vXfI0R4lQCu1vH/QHiVAYdOKWc8eJUAuQkFSzh4lQJfAoGbNHiVARWLBk8weJUDAYgnXyx4lQF3vJC7LHiVAHM7+lsoeJUAXyrkPyh4lQNbQqpbJHiVA8q1TKskeJUBgVF7JyB4lQHummHLIHiVAkK/wJMgeJUDtQnHfxx4lQMf1PqHHHiVAiWqVacceJUDQ5MQ3xx4lQJkeMAvHHiVAu1dK48YeJUB7mZW/xh4lQOgooZ/GHiVA6CIIg8YeJUC5PXBpxh4lQN2riFLGHiVAAx0JPsYeJUC02bArxh4lQAL3RRvGHiVAsp+UDMYeJUCKcG7/xR4lQOzlqfPFHiVAuNgh6cUeJUAGCbXfxR4lQC61RdfFHiVAzju5z8UeJUDAx/fIxR4lQNUE7MLFHiVAf9yCvcUeJUCOOau4xR4lQEfSVbTFHiVAFPh0sMUeJUBXbPysxR4lQMg54anFHiVA0pEZp8UeJUCkrZykxR4lQHeyYqLFHiVA\",\"dtype\":\"float64\",\"shape\":[150]},\"c\":{\"__ndarray__\":\"AAAAAAAANED53wUeLhQzQKzY9svuPzJAcs5KeceAMUAwUYypg9QwQFPQs2otOTBAsQNn7ApaL0CW3eLPCF0uQLxwYt2leC1AriRx+USqLEBuJ10jre8rQGEbCJniRitAtGWDhCGuKkC+O5ew1SMqQOoFq8CTpilAEBexzBU1KUCG37t+Ns4oQMmXcPXscChA3uIk8FAcKEDutLG5i88nQH32pjrfiSdAOihiF55KJ0DylE1ELxEnQIbbNAgD3SZA5Fd/X5+tJkD1Ge62kIImQL+yp9ZtWyZARi2Y9No3JkASSFmJhRcmQGN0c8sf+iVAJL52m2PfJUDMjGazEcclQEv1b63ysCVAHNKildScJUAF6UYQiIolQEOjhEfieSVA6/92drxqJUD+IRGB81wlQGhKR5dnUCVA9JQh4vtEJUBNI405ljolQATW5+EeMSVAOXvCOIEoJUCLbUocqiAlQMY+qIiHGSVAiM6gIgkTJUBCQ3MPIA0lQK9krtC+ByVAr8aRI9kCJUAcupvjY/4kQMnf7+9U+iRAALxLE6P2JEBW+UbuRfMkQPNSpOM18CRA2IR+BmztJEDeQiIK4uokQHIvazOS6CRAdy9+S3fmJEC+XL+TjOQkQP5L5brN4iRAt2wO0zbhJEC5BMBIxN8kQJa4uNpy3iRAUL+Ckj/dJEDD0bO9J9wkQGakyuco2yRAS0qb1EDaJEBMRz17bdkkQGhabwGt2CRAxytmt/3XJECLD/wTXtckQHP6OLHM1iRAHJoqSUjWJED1QgWzz9UkQEwTh+Bh1SRAIUiX2/3UJEBCThzEotQkQKmaA85P1CRAu8l2PwTUJEBN7jlvv9MkQPxYL8OA0yRAOXf9rkfTJEDet9OyE9MkQMuqS1rk0iRAf9FjO7nSJEDY0ZH1kdIkQEfx6TBu0iRAi+9ZnU3SJED8g/XxL9IkQLPoUuwU0iRAKQP2T/zRJEAf28jl5dEkQMcuoHvR0SRAkg7L477RJEDWg6z0rdEkQF9cXoie0SRAdklcfJDRJEDJkzaxg9EkQKG2Swp40SRAdkSIbW3RJED1hCzDY9EkQJlJl/Va0SRAiIEV8VLRJEApILajS9EkQI7zIf1E0SRAshB37j7RJECYgydqOdEkQJj42mM00SRA7xpT0C/RJECaalKlK9EkQDBRhdkn0SRAakJtZCTRJEB3uU0+IdEkQKzoGmAe0SRAzfRpwxvRJECAmGJiGdEkQOIPsjcX0SRA5i5/PhXRJEDWh19yE9EkQLWJTc8R0SRAT4CfURDRJEDnYf/1DtEkQB9YY7kN0SRAafMGmQzRJEDG+WSSC9EkQPTCMaMK0SRAeRVWyQnRJED+eOoCCdEkQIbzMk4I0SRA+CebqQfRJEBUzbITB9EkQJt2KosG0SRARKTQDgbRJECmGI+dBdEkQGVpaDYF0SRAX8h12ATRJEBF/+SCBNEkQDiZ9jQE0SRAXzb87QPRJEDGBVetA9EkQPJhdnID0SRAR43WPAPRJEA3i/8LA9EkQNIThN8C0SRAN58AtwLRJEDihhqSAtEkQNg6f3AC0SRA6ojjUQLRJEBy9AI2AtEkQBkdnxwC0SRA\",\"dtype\":\"float64\",\"shape\":[150]},\"d\":{\"__ndarray__\":\"AAAAAAAANED7uzPh0k4zQEsCp0JRqjJA1HLMRp8RMkCzb+/2uoMxQDF9QPjV/zBAJWK+0DGFMECpac/1HxMwQDh8VJb3US9Azg2Sn1+MLkA6ia08YNQtQB56Gtb6KC1Ahp+rhk2JLEB+6ARRgvQrQC5ht+fRaStALqg2MYToKkAvleeT7m8qQCmMoQVz/ylAbIlS636WKUCEGG9WjDQpQB4BvVAe2ShAbqK7Y7+DKEDv+j4HBzQoQABKTWKP6SdA1OlFh/6jJ0AOWfBv/GInQEAvzL88JidA47pKyHPtJkDDnnYkb7gmQLGN8BMAhyZApaG1Y+VYJkCS5iHe2S0mQFTLOTacBSZAxfO5lfvfJUDHob+1yrwlQHU1IoPhmyVAbivs9hl9JUAuyvl2T2AlQHdHWANgRSVAdoWoAiwsJUCF6rcLlxQlQJ+xte+G/iRAjWCR9eHpJECrWkEskNYkQN5S00h7xCRAFgNGh46zJEClpuqNtqMkQNZjE1PhlCRAGEUXqf6GJEDICImJ/3kkQMbnByXVbSRAYZJ7qnFiJEDQHSM1yFckQOwhArzMTSRARHaOAnREJEDLx4OKszskQCfAxIaBMyRAfbUzz9QrJEBQ3G7VpCQkQBzEXZrpHSRAbId/pJsXJEBBj+r2sxEkQLAb8AgsDCRA2fRWvv0GJEDluiFgIwIkQHpF1pWX/SNAGpnpBFT5I0AQMONWU/UjQFnkq2yR8SNA9a7gaAruI0Auj6aruuojQDOpxM6e5yNA8rj/obPkI0B6VLIn9uEjQGDQnZFj3yNA0ufvPfncI0A+k3m0tNojQGS7E6ST2CNAWLQu4JPWI0CtpIles9QjQDUxDzXw0iNA8/XUl0jRI0BKgTvXus8jQFavLF5FziNAYGl2sObMI0Ba8D9pncsjQK35lzloyiNAqgMa50XJI0DdYqlKNcgjQAyjQE81xyNA3e7T8ETGI0ATR0U7Y8UjQC5naUmPxCNANUgcRMjDI0BaRGRhDcMjQNLuouNdwiNAfcLSGLnBI0CC2NBZHsEjQF/lsQmNwCNAXschlQTAI0AQ/cxxhL8jQEhl0x0MvyNAL7RDH5u+I0CWEp8DMb4jQEplZF/NvSNAucKizW+9I0C2pJLvF70jQGhrNWzFvCNATc3673e8I0BW1mssL7wjQCke29fquyNAIuMZraq7I0CXvDFrbrsjQA6cItU1uyNAW9mksQC7I0DpCe/KzrojQGlnf+6fuiNA6Y3o7HO6I0CoXKGZSrojQGXI18ojuiNA6nBGWf+5I0BUzgwg3bkjQIDNify8uSNATrU4zp65I0D0MJB2grkjQKpd49hnuSNAM7xE2k65I0CY6GphN7kjQEX8llYhuSNAeIB8owy5I0CK2Coz+bgjQAQN+PHmuCNAAeJszdW4I0CSJDK0xbgjQCUc/5W2uCNAEg6JY6i4I0CmwnMOm7gjQMn7QomOuCNApM5Mx4K4I0Be0qy8d7gjQN8WOF5tuCNAeNdxoWO4I0D33YB8WrgjQFGLJeZRuCNA2nuw1Um4I0CCvflCQrgjQDqPWCY7uCNAF6GbeDS4I0BezQEzLrgjQCBDM08ouCNA\",\"dtype\":\"float64\",\"shape\":[150]},\"x\":[0,1,2,3,4,5,6,7,8,9,10,11,12,13,14,15,16,17,18,19,20,21,22,23,24,25,26,27,28,29,30,31,32,33,34,35,36,37,38,39,40,41,42,43,44,45,46,47,48,49,50,51,52,53,54,55,56,57,58,59,60,61,62,63,64,65,66,67,68,69,70,71,72,73,74,75,76,77,78,79,80,81,82,83,84,85,86,87,88,89,90,91,92,93,94,95,96,97,98,99,100,101,102,103,104,105,106,107,108,109,110,111,112,113,114,115,116,117,118,119,120,121,122,123,124,125,126,127,128,129,130,131,132,133,134,135,136,137,138,139,140,141,142,143,144,145,146,147,148,149]},\"selected\":{\"id\":\"3177\",\"type\":\"Selection\"},\"selection_policy\":{\"id\":\"3176\",\"type\":\"UnionRenderers\"}},\"id\":\"3116\",\"type\":\"ColumnDataSource\"},{\"attributes\":{\"below\":[{\"id\":\"3128\",\"type\":\"LinearAxis\"}],\"left\":[{\"id\":\"3133\",\"type\":\"LinearAxis\"}],\"plot_height\":450,\"plot_width\":450,\"renderers\":[{\"id\":\"3128\",\"type\":\"LinearAxis\"},{\"id\":\"3132\",\"type\":\"Grid\"},{\"id\":\"3133\",\"type\":\"LinearAxis\"},{\"id\":\"3137\",\"type\":\"Grid\"},{\"id\":\"3146\",\"type\":\"BoxAnnotation\"},{\"id\":\"3163\",\"type\":\"Legend\"},{\"id\":\"3155\",\"type\":\"GlyphRenderer\"},{\"id\":\"3168\",\"type\":\"GlyphRenderer\"},{\"id\":\"3182\",\"type\":\"GlyphRenderer\"},{\"id\":\"3196\",\"type\":\"GlyphRenderer\"}],\"title\":{\"id\":\"3117\",\"type\":\"Title\"},\"toolbar\":{\"id\":\"3143\",\"type\":\"Toolbar\"},\"x_range\":{\"id\":\"3120\",\"type\":\"DataRange1d\"},\"x_scale\":{\"id\":\"3124\",\"type\":\"LinearScale\"},\"y_range\":{\"id\":\"3122\",\"type\":\"DataRange1d\"},\"y_scale\":{\"id\":\"3126\",\"type\":\"LinearScale\"}},\"id\":\"3118\",\"subtype\":\"Figure\",\"type\":\"Plot\"},{\"attributes\":{\"plot\":null,\"text\":\"Evolution of the capita pr. capita for different values of \\u03b8\"},\"id\":\"3117\",\"type\":\"Title\"},{\"attributes\":{\"callback\":null},\"id\":\"3120\",\"type\":\"DataRange1d\"},{\"attributes\":{\"callback\":null},\"id\":\"3122\",\"type\":\"DataRange1d\"},{\"attributes\":{},\"id\":\"3124\",\"type\":\"LinearScale\"},{\"attributes\":{},\"id\":\"3126\",\"type\":\"LinearScale\"},{\"attributes\":{\"axis_label\":\"T\",\"formatter\":{\"id\":\"3161\",\"type\":\"BasicTickFormatter\"},\"plot\":{\"id\":\"3118\",\"subtype\":\"Figure\",\"type\":\"Plot\"},\"ticker\":{\"id\":\"3129\",\"type\":\"BasicTicker\"}},\"id\":\"3128\",\"type\":\"LinearAxis\"},{\"attributes\":{},\"id\":\"3129\",\"type\":\"BasicTicker\"},{\"attributes\":{\"plot\":{\"id\":\"3118\",\"subtype\":\"Figure\",\"type\":\"Plot\"},\"ticker\":{\"id\":\"3129\",\"type\":\"BasicTicker\"}},\"id\":\"3132\",\"type\":\"Grid\"},{\"attributes\":{\"axis_label\":\"Capital pr. capita\",\"formatter\":{\"id\":\"3159\",\"type\":\"BasicTickFormatter\"},\"plot\":{\"id\":\"3118\",\"subtype\":\"Figure\",\"type\":\"Plot\"},\"ticker\":{\"id\":\"3134\",\"type\":\"BasicTicker\"}},\"id\":\"3133\",\"type\":\"LinearAxis\"},{\"attributes\":{\"below\":[{\"id\":\"3220\",\"type\":\"LinearAxis\"}],\"left\":[{\"id\":\"3225\",\"type\":\"LinearAxis\"}],\"plot_height\":450,\"plot_width\":450,\"renderers\":[{\"id\":\"3220\",\"type\":\"LinearAxis\"},{\"id\":\"3224\",\"type\":\"Grid\"},{\"id\":\"3225\",\"type\":\"LinearAxis\"},{\"id\":\"3229\",\"type\":\"Grid\"},{\"id\":\"3238\",\"type\":\"BoxAnnotation\"},{\"id\":\"3255\",\"type\":\"Legend\"},{\"id\":\"3247\",\"type\":\"GlyphRenderer\"},{\"id\":\"3260\",\"type\":\"GlyphRenderer\"},{\"id\":\"3274\",\"type\":\"GlyphRenderer\"},{\"id\":\"3288\",\"type\":\"GlyphRenderer\"}],\"title\":{\"id\":\"3209\",\"type\":\"Title\"},\"toolbar\":{\"id\":\"3235\",\"type\":\"Toolbar\"},\"x_range\":{\"id\":\"3212\",\"type\":\"DataRange1d\"},\"x_scale\":{\"id\":\"3216\",\"type\":\"LinearScale\"},\"y_range\":{\"id\":\"3214\",\"type\":\"DataRange1d\"},\"y_scale\":{\"id\":\"3218\",\"type\":\"LinearScale\"}},\"id\":\"3210\",\"subtype\":\"Figure\",\"type\":\"Plot\"},{\"attributes\":{\"data_source\":{\"id\":\"3208\",\"type\":\"ColumnDataSource\"},\"glyph\":{\"id\":\"3272\",\"type\":\"Line\"},\"hover_glyph\":null,\"muted_glyph\":null,\"nonselection_glyph\":{\"id\":\"3273\",\"type\":\"Line\"},\"selection_glyph\":null,\"view\":{\"id\":\"3275\",\"type\":\"CDSView\"}},\"id\":\"3274\",\"type\":\"GlyphRenderer\"},{\"attributes\":{},\"id\":\"3134\",\"type\":\"BasicTicker\"},{\"attributes\":{\"plot\":null,\"text\":\"Evolution of the savingsrate for different values of \\u03b8\"},\"id\":\"3209\",\"type\":\"Title\"},{\"attributes\":{\"source\":{\"id\":\"3208\",\"type\":\"ColumnDataSource\"}},\"id\":\"3275\",\"type\":\"CDSView\"},{\"attributes\":{\"dimension\":1,\"plot\":{\"id\":\"3118\",\"subtype\":\"Figure\",\"type\":\"Plot\"},\"ticker\":{\"id\":\"3134\",\"type\":\"BasicTicker\"}},\"id\":\"3137\",\"type\":\"Grid\"},{\"attributes\":{\"label\":{\"value\":\"\\u03b8 = 0.7\"},\"renderers\":[{\"id\":\"3274\",\"type\":\"GlyphRenderer\"}]},\"id\":\"3284\",\"type\":\"LegendItem\"},{\"attributes\":{\"callback\":null},\"id\":\"3212\",\"type\":\"DataRange1d\"},{\"attributes\":{\"line_alpha\":0.1,\"line_color\":\"#1f77b4\",\"x\":{\"field\":\"x\"},\"y\":{\"field\":\"c\"}},\"id\":\"3181\",\"type\":\"Line\"},{\"attributes\":{\"callback\":null},\"id\":\"3214\",\"type\":\"DataRange1d\"},{\"attributes\":{\"line_color\":\"purple\",\"x\":{\"field\":\"x\"},\"y\":{\"field\":\"d\"}},\"id\":\"3286\",\"type\":\"Line\"},{\"attributes\":{},\"id\":\"3216\",\"type\":\"LinearScale\"},{\"attributes\":{},\"id\":\"3138\",\"type\":\"PanTool\"},{\"attributes\":{\"line_alpha\":0.1,\"line_color\":\"#1f77b4\",\"x\":{\"field\":\"x\"},\"y\":{\"field\":\"d\"}},\"id\":\"3287\",\"type\":\"Line\"},{\"attributes\":{},\"id\":\"3218\",\"type\":\"LinearScale\"},{\"attributes\":{},\"id\":\"3139\",\"type\":\"WheelZoomTool\"},{\"attributes\":{\"data_source\":{\"id\":\"3208\",\"type\":\"ColumnDataSource\"},\"glyph\":{\"id\":\"3286\",\"type\":\"Line\"},\"hover_glyph\":null,\"muted_glyph\":null,\"nonselection_glyph\":{\"id\":\"3287\",\"type\":\"Line\"},\"selection_glyph\":null,\"view\":{\"id\":\"3289\",\"type\":\"CDSView\"}},\"id\":\"3288\",\"type\":\"GlyphRenderer\"},{\"attributes\":{\"axis_label\":\"T\",\"formatter\":{\"id\":\"3253\",\"type\":\"BasicTickFormatter\"},\"plot\":{\"id\":\"3210\",\"subtype\":\"Figure\",\"type\":\"Plot\"},\"ticker\":{\"id\":\"3221\",\"type\":\"BasicTicker\"}},\"id\":\"3220\",\"type\":\"LinearAxis\"},{\"attributes\":{\"overlay\":{\"id\":\"3146\",\"type\":\"BoxAnnotation\"}},\"id\":\"3140\",\"type\":\"BoxZoomTool\"},{\"attributes\":{\"source\":{\"id\":\"3208\",\"type\":\"ColumnDataSource\"}},\"id\":\"3289\",\"type\":\"CDSView\"},{\"attributes\":{},\"id\":\"3141\",\"type\":\"ResetTool\"},{\"attributes\":{},\"id\":\"3221\",\"type\":\"BasicTicker\"},{\"attributes\":{\"label\":{\"value\":\"\\u03b8 = 1.5\"},\"renderers\":[{\"id\":\"3288\",\"type\":\"GlyphRenderer\"}]},\"id\":\"3298\",\"type\":\"LegendItem\"},{\"attributes\":{\"plot\":{\"id\":\"3210\",\"subtype\":\"Figure\",\"type\":\"Plot\"},\"ticker\":{\"id\":\"3221\",\"type\":\"BasicTicker\"}},\"id\":\"3224\",\"type\":\"Grid\"},{\"attributes\":{},\"id\":\"3142\",\"type\":\"SaveTool\"},{\"attributes\":{\"active_drag\":\"auto\",\"active_inspect\":\"auto\",\"active_multi\":null,\"active_scroll\":\"auto\",\"active_tap\":\"auto\",\"tools\":[{\"id\":\"3115\",\"type\":\"HoverTool\"},{\"id\":\"3138\",\"type\":\"PanTool\"},{\"id\":\"3139\",\"type\":\"WheelZoomTool\"},{\"id\":\"3140\",\"type\":\"BoxZoomTool\"},{\"id\":\"3141\",\"type\":\"ResetTool\"},{\"id\":\"3142\",\"type\":\"SaveTool\"}]},\"id\":\"3143\",\"type\":\"Toolbar\"},{\"attributes\":{\"axis_label\":\"Savings rate\",\"formatter\":{\"id\":\"3251\",\"type\":\"BasicTickFormatter\"},\"plot\":{\"id\":\"3210\",\"subtype\":\"Figure\",\"type\":\"Plot\"},\"ticker\":{\"id\":\"3226\",\"type\":\"BasicTicker\"}},\"id\":\"3225\",\"type\":\"LinearAxis\"},{\"attributes\":{\"line_color\":\"red\",\"x\":{\"field\":\"x\"},\"y\":{\"field\":\"a\"}},\"id\":\"3153\",\"type\":\"Line\"},{\"attributes\":{},\"id\":\"3226\",\"type\":\"BasicTicker\"},{\"attributes\":{\"bottom_units\":\"screen\",\"fill_alpha\":{\"value\":0.5},\"fill_color\":{\"value\":\"lightgrey\"},\"left_units\":\"screen\",\"level\":\"overlay\",\"line_alpha\":{\"value\":1.0},\"line_color\":{\"value\":\"black\"},\"line_dash\":[4,4],\"line_width\":{\"value\":2},\"plot\":null,\"render_mode\":\"css\",\"right_units\":\"screen\",\"top_units\":\"screen\"},\"id\":\"3146\",\"type\":\"BoxAnnotation\"},{\"attributes\":{\"dimension\":1,\"plot\":{\"id\":\"3210\",\"subtype\":\"Figure\",\"type\":\"Plot\"},\"ticker\":{\"id\":\"3226\",\"type\":\"BasicTicker\"}},\"id\":\"3229\",\"type\":\"Grid\"},{\"attributes\":{\"line_alpha\":0.1,\"line_color\":\"#1f77b4\",\"x\":{\"field\":\"x\"},\"y\":{\"field\":\"a\"}},\"id\":\"3154\",\"type\":\"Line\"},{\"attributes\":{\"data_source\":{\"id\":\"3116\",\"type\":\"ColumnDataSource\"},\"glyph\":{\"id\":\"3153\",\"type\":\"Line\"},\"hover_glyph\":null,\"muted_glyph\":null,\"nonselection_glyph\":{\"id\":\"3154\",\"type\":\"Line\"},\"selection_glyph\":null,\"view\":{\"id\":\"3156\",\"type\":\"CDSView\"}},\"id\":\"3155\",\"type\":\"GlyphRenderer\"},{\"attributes\":{\"source\":{\"id\":\"3116\",\"type\":\"ColumnDataSource\"}},\"id\":\"3156\",\"type\":\"CDSView\"},{\"attributes\":{},\"id\":\"3230\",\"type\":\"PanTool\"},{\"attributes\":{},\"id\":\"3159\",\"type\":\"BasicTickFormatter\"},{\"attributes\":{},\"id\":\"3231\",\"type\":\"WheelZoomTool\"},{\"attributes\":{},\"id\":\"3161\",\"type\":\"BasicTickFormatter\"},{\"attributes\":{\"overlay\":{\"id\":\"3238\",\"type\":\"BoxAnnotation\"}},\"id\":\"3232\",\"type\":\"BoxZoomTool\"},{\"attributes\":{\"items\":[{\"id\":\"3164\",\"type\":\"LegendItem\"},{\"id\":\"3178\",\"type\":\"LegendItem\"},{\"id\":\"3192\",\"type\":\"LegendItem\"},{\"id\":\"3206\",\"type\":\"LegendItem\"}],\"location\":\"top_center\",\"plot\":{\"id\":\"3118\",\"subtype\":\"Figure\",\"type\":\"Plot\"}},\"id\":\"3163\",\"type\":\"Legend\"},{\"attributes\":{},\"id\":\"3233\",\"type\":\"ResetTool\"},{\"attributes\":{\"label\":{\"value\":\"\\u03b8 = 0.3\"},\"renderers\":[{\"id\":\"3155\",\"type\":\"GlyphRenderer\"}]},\"id\":\"3164\",\"type\":\"LegendItem\"},{\"attributes\":{\"callback\":null,\"tooltips\":[[\"T\",\"@x{0,0.00}\"],[\"Capital pr. capita for \\u03b8 = 0.3\",\"@a{0.00}\"],[\"Capital pr. capita for \\u03b8 = 0.5\",\"@b{0.00}\"],[\"Capital pr. capita for \\u03b8 = 0.7\",\"@c{0.00}\"],[\"Capital pr. capita for \\u03b8 = 1.5\",\"@d{0.00}\"]]},\"id\":\"3115\",\"type\":\"HoverTool\"},{\"attributes\":{},\"id\":\"3234\",\"type\":\"SaveTool\"},{\"attributes\":{\"active_drag\":\"auto\",\"active_inspect\":\"auto\",\"active_multi\":null,\"active_scroll\":\"auto\",\"active_tap\":\"auto\",\"tools\":[{\"id\":\"3207\",\"type\":\"HoverTool\"},{\"id\":\"3230\",\"type\":\"PanTool\"},{\"id\":\"3231\",\"type\":\"WheelZoomTool\"},{\"id\":\"3232\",\"type\":\"BoxZoomTool\"},{\"id\":\"3233\",\"type\":\"ResetTool\"},{\"id\":\"3234\",\"type\":\"SaveTool\"}]},\"id\":\"3235\",\"type\":\"Toolbar\"},{\"attributes\":{\"line_color\":\"green\",\"x\":{\"field\":\"x\"},\"y\":{\"field\":\"c\"}},\"id\":\"3180\",\"type\":\"Line\"},{\"attributes\":{\"line_color\":\"blue\",\"x\":{\"field\":\"x\"},\"y\":{\"field\":\"b\"}},\"id\":\"3166\",\"type\":\"Line\"},{\"attributes\":{\"line_color\":\"red\",\"x\":{\"field\":\"x\"},\"y\":{\"field\":\"a\"}},\"id\":\"3245\",\"type\":\"Line\"},{\"attributes\":{\"bottom_units\":\"screen\",\"fill_alpha\":{\"value\":0.5},\"fill_color\":{\"value\":\"lightgrey\"},\"left_units\":\"screen\",\"level\":\"overlay\",\"line_alpha\":{\"value\":1.0},\"line_color\":{\"value\":\"black\"},\"line_dash\":[4,4],\"line_width\":{\"value\":2},\"plot\":null,\"render_mode\":\"css\",\"right_units\":\"screen\",\"top_units\":\"screen\"},\"id\":\"3238\",\"type\":\"BoxAnnotation\"},{\"attributes\":{\"line_alpha\":0.1,\"line_color\":\"#1f77b4\",\"x\":{\"field\":\"x\"},\"y\":{\"field\":\"b\"}},\"id\":\"3167\",\"type\":\"Line\"},{\"attributes\":{\"data_source\":{\"id\":\"3116\",\"type\":\"ColumnDataSource\"},\"glyph\":{\"id\":\"3166\",\"type\":\"Line\"},\"hover_glyph\":null,\"muted_glyph\":null,\"nonselection_glyph\":{\"id\":\"3167\",\"type\":\"Line\"},\"selection_glyph\":null,\"view\":{\"id\":\"3169\",\"type\":\"CDSView\"}},\"id\":\"3168\",\"type\":\"GlyphRenderer\"},{\"attributes\":{\"line_alpha\":0.1,\"line_color\":\"#1f77b4\",\"x\":{\"field\":\"x\"},\"y\":{\"field\":\"a\"}},\"id\":\"3246\",\"type\":\"Line\"},{\"attributes\":{\"data_source\":{\"id\":\"3208\",\"type\":\"ColumnDataSource\"},\"glyph\":{\"id\":\"3245\",\"type\":\"Line\"},\"hover_glyph\":null,\"muted_glyph\":null,\"nonselection_glyph\":{\"id\":\"3246\",\"type\":\"Line\"},\"selection_glyph\":null,\"view\":{\"id\":\"3248\",\"type\":\"CDSView\"}},\"id\":\"3247\",\"type\":\"GlyphRenderer\"},{\"attributes\":{\"source\":{\"id\":\"3116\",\"type\":\"ColumnDataSource\"}},\"id\":\"3169\",\"type\":\"CDSView\"},{\"attributes\":{\"label\":{\"value\":\"\\u03b8 = 0.5\"},\"renderers\":[{\"id\":\"3168\",\"type\":\"GlyphRenderer\"}]},\"id\":\"3178\",\"type\":\"LegendItem\"},{\"attributes\":{\"source\":{\"id\":\"3208\",\"type\":\"ColumnDataSource\"}},\"id\":\"3248\",\"type\":\"CDSView\"},{\"attributes\":{},\"id\":\"3251\",\"type\":\"BasicTickFormatter\"},{\"attributes\":{\"line_alpha\":0.1,\"line_color\":\"#1f77b4\",\"x\":{\"field\":\"x\"},\"y\":{\"field\":\"c\"}},\"id\":\"3273\",\"type\":\"Line\"},{\"attributes\":{\"data_source\":{\"id\":\"3116\",\"type\":\"ColumnDataSource\"},\"glyph\":{\"id\":\"3180\",\"type\":\"Line\"},\"hover_glyph\":null,\"muted_glyph\":null,\"nonselection_glyph\":{\"id\":\"3181\",\"type\":\"Line\"},\"selection_glyph\":null,\"view\":{\"id\":\"3183\",\"type\":\"CDSView\"}},\"id\":\"3182\",\"type\":\"GlyphRenderer\"},{\"attributes\":{},\"id\":\"3253\",\"type\":\"BasicTickFormatter\"},{\"attributes\":{\"items\":[{\"id\":\"3256\",\"type\":\"LegendItem\"},{\"id\":\"3270\",\"type\":\"LegendItem\"},{\"id\":\"3284\",\"type\":\"LegendItem\"},{\"id\":\"3298\",\"type\":\"LegendItem\"}],\"location\":\"bottom_center\",\"plot\":{\"id\":\"3210\",\"subtype\":\"Figure\",\"type\":\"Plot\"}},\"id\":\"3255\",\"type\":\"Legend\"},{\"attributes\":{\"source\":{\"id\":\"3116\",\"type\":\"ColumnDataSource\"}},\"id\":\"3183\",\"type\":\"CDSView\"},{\"attributes\":{\"label\":{\"value\":\"\\u03b8 = 0.7\"},\"renderers\":[{\"id\":\"3182\",\"type\":\"GlyphRenderer\"}]},\"id\":\"3192\",\"type\":\"LegendItem\"},{\"attributes\":{\"label\":{\"value\":\"\\u03b8 = 0.3\"},\"renderers\":[{\"id\":\"3247\",\"type\":\"GlyphRenderer\"}]},\"id\":\"3256\",\"type\":\"LegendItem\"},{\"attributes\":{\"label\":{\"value\":\"\\u03b8 = 0.5\"},\"renderers\":[{\"id\":\"3260\",\"type\":\"GlyphRenderer\"}]},\"id\":\"3270\",\"type\":\"LegendItem\"},{\"attributes\":{\"line_color\":\"green\",\"x\":{\"field\":\"x\"},\"y\":{\"field\":\"c\"}},\"id\":\"3272\",\"type\":\"Line\"},{\"attributes\":{\"callback\":null,\"tooltips\":[[\"T\",\"@x{0,0.00}\"],[\"Savings rate for \\u03b8 = 0.3\",\"@a{0.00}\"],[\"Savings rate for \\u03b8 = 0.5\",\"@b{0.00}\"],[\"Savings rate for \\u03b8 = 0.7\",\"@c{0.00}\"],[\"Savings rate for \\u03b8 = 1.5\",\"@d{0.00}\"]]},\"id\":\"3207\",\"type\":\"HoverTool\"},{\"attributes\":{\"line_color\":\"purple\",\"x\":{\"field\":\"x\"},\"y\":{\"field\":\"d\"}},\"id\":\"3194\",\"type\":\"Line\"},{\"attributes\":{\"line_color\":\"blue\",\"x\":{\"field\":\"x\"},\"y\":{\"field\":\"b\"}},\"id\":\"3258\",\"type\":\"Line\"},{\"attributes\":{\"line_alpha\":0.1,\"line_color\":\"#1f77b4\",\"x\":{\"field\":\"x\"},\"y\":{\"field\":\"d\"}},\"id\":\"3195\",\"type\":\"Line\"},{\"attributes\":{\"line_alpha\":0.1,\"line_color\":\"#1f77b4\",\"x\":{\"field\":\"x\"},\"y\":{\"field\":\"b\"}},\"id\":\"3259\",\"type\":\"Line\"},{\"attributes\":{\"data_source\":{\"id\":\"3116\",\"type\":\"ColumnDataSource\"},\"glyph\":{\"id\":\"3194\",\"type\":\"Line\"},\"hover_glyph\":null,\"muted_glyph\":null,\"nonselection_glyph\":{\"id\":\"3195\",\"type\":\"Line\"},\"selection_glyph\":null,\"view\":{\"id\":\"3197\",\"type\":\"CDSView\"}},\"id\":\"3196\",\"type\":\"GlyphRenderer\"},{\"attributes\":{\"data_source\":{\"id\":\"3208\",\"type\":\"ColumnDataSource\"},\"glyph\":{\"id\":\"3258\",\"type\":\"Line\"},\"hover_glyph\":null,\"muted_glyph\":null,\"nonselection_glyph\":{\"id\":\"3259\",\"type\":\"Line\"},\"selection_glyph\":null,\"view\":{\"id\":\"3261\",\"type\":\"CDSView\"}},\"id\":\"3260\",\"type\":\"GlyphRenderer\"},{\"attributes\":{\"source\":{\"id\":\"3116\",\"type\":\"ColumnDataSource\"}},\"id\":\"3197\",\"type\":\"CDSView\"},{\"attributes\":{\"source\":{\"id\":\"3208\",\"type\":\"ColumnDataSource\"}},\"id\":\"3261\",\"type\":\"CDSView\"},{\"attributes\":{\"label\":{\"value\":\"\\u03b8 = 1.5\"},\"renderers\":[{\"id\":\"3196\",\"type\":\"GlyphRenderer\"}]},\"id\":\"3206\",\"type\":\"LegendItem\"},{\"attributes\":{},\"id\":\"3268\",\"type\":\"UnionRenderers\"},{\"attributes\":{\"callback\":null,\"data\":{\"a\":{\"__ndarray__\":\"DKJ16o55RT6l9o7njnlFPhVb1zfJtWg/p+flAbHUoz8+g1S8YFqyPz5wfOHAoLk/STmuBe7lvz8SN0m2eqfCPyY0MV8l/sQ/qVKGBuMDxz9nZ9xh0cDIPx+Mpic+Q8o/QiQgW3qSyz8RUQ3rabTMPzOSW3N5r80/P3MvDf6Izj8az8O4J0XPP04OH5436M8/vqg8uNc60D8h8b2N+XfQPxXcDNXyrNA/shEKkhPb0D9ocMJQ+wLRP8dJCy2FJdE/cC+VGG1D0T+DcOmIVF3RP6fFr2LGc9E/hxITImKH0T9iX0ihX5jRP2vYvo0Xp9E/ojMuQdiz0T+6Hfth5b7RP//ZbmJ5yNE/OVgdyMbQ0T8uoSFE+dfRP5vtYaM23tE/lj7cnJ/j0T/wZgODUOjRPzjnZ9xh7NE/FQs/5+jv0T9Xgc4K+PLRPzPJTTmf9dE/kvxsROz30T+1T14m6/nRP1NS+kCm+9E/SmNclCb90T8PECPuc/7RPw3SVRKV/9E/FpHN3o8A0j+wiN5paQHSP6LU5xwmAtI/AFNWy8kC0j+pJZXGVwPSPxxyVe/SA9I/HKaIxD0E0j/TK1xwmgTSP53QetPqBNI/ku/OjjAF0j+ogPgLbQXSP/RQo4ShBdI/0rrjCM8F0j+qE7uE9gXSPzOV4MQYBtI/IrHnejYG0j8ga9lAUAbSP49zU5xmBtI/xD89AXoG0j/vMiHUigbSP9gLNmyZBtI/WiwjFaYG0j+D54gQsQbSPzLLVJe6BtI/xMvo2sIG0j+pTRsGygbSP2g9FT7QBtI/krYSo9UG0j/UIApR2gbSPzMmPWDeBtI/GHK25eEG0j+Zxbbz5AbSPzeWE5rnBtI/TiKJ5ukG0j86pAHl6wbSP8IV05/tBtI/48P0H+8G0j+lyC1t8AbSPyhcPY7xBtI/ps39iPIG0j8L2oJi8wbSPwH9Mx/0BtI/REXjwvQG0j9SIuFQ9QbSPziSDcz1BtI/gAjnNvYG0j+WW5eT9gbSP377/uP2BtI/K6y+KfcG0j+x9T9m9wbSP0Z2vJr3BtI/0ztEyPcG0j8fRsPv9wbSPw5OBhL4BtI/0Oq+L/gG0j9gKodJ+AbSP/6v5F/4BtI//WhLc/gG0j9/5R+E+AbSP9lhuZL4BtI/qYpjn/gG0j8fBWCq+AbSPz7D57P4BtI//iosvPgG0j9sFljD+AbSP7CxkMn4BtI/0Dv2zvgG0j/BraTT+AbSP3ZLtNf4BtI/miE62/gG0j+vckje+AbSP7kV7+D4BtI/Ucg74/gG0j/gdTrl+AbSP2l19eb4BtI/IL916PgG0j/qGsPp+AbSP65I5Or4BtI/WCPf6/gG0j8nv7js+AbSPwqEde34BtI/eEQZ7vgG0j82Uafu+AbSP5CKIu/4BtI/PG+N7/gG0j9KKerv+AbSP1iZOvD4BtI/XGCA8PgG0j8C6Lzw+AbSPwNq8fD4BtI/kvYe8fgG0j/BeUbx+AbSP2LAaPH4BtI/HnyG8fgG0j8UR6Dx+AbSP/SmtvH4BtI/tg/K8fgG0j/25drx+AbSP/2A6fH4BtI/eiz28fgG0j8cKgHy+AbSP9uyCvL4BtI/\",\"dtype\":\"float64\",\"shape\":[150]},\"b\":{\"__ndarray__\":\"mbr+O8tonz8O/fepHJisP/gxR259GrQ/5h/R8qtVuT98beK1ogu+P/j+wnvkJME/v5uktBYOwz82N37u3sLEP/HemsF+ScY/E3iRBaarxz+GBzwvMenIPxhstXNyBso/2nnXqZUGyz9xagsMYezLP98B8GBcusw/w1+MicRzzT+mMUVUuhnOPxG0wuJurs4/YKCi7uUzzz8jUQrfjavPP4LDoWGaC9A/TnyaX/c90D9Cur7kzmrQP73HRk/BktA/ihH8k7S10D+eDxmttNTQP6muxeVo8NA/oqcwHC0J0T+32YLEUh/RPygkm88qM9E/nzRPpxtF0T/28uwLJlXRP/ySQz5+Y9E/6rqPvVJw0T8/oOvwzHvRP2B16bsRhtE/kJInAUKP0T9Jq0EVe5fRP8hQKCTXntE/d7Wcim2l0T/Sck8lU6vRP2Lb65aasNE/a2cshlS10T9Kpe7Uj7nRP+efHNFZvdE/GvYlYL7A0T+8H6slyMPRPxX36KWAxtE/JVgzV/jI0T9/9I+8LcvRPyGEvZwnzdE/nLyxPuzO0T88ZlQ/gdDRP3y+m6Pr0dE/qT216C/T0T9zvHESUtTRP3avJbhV1dE/fKooED7W0T/fgRr6DdfRP7kXEAjI19E/fhrGhm7Y0T93ovSEA9nRP9Gl29mI2dE/h5sdKwDa0T/UUfvxatrRPyzsAYDK2tE/ACc6AyDb0T/xXeaJbNvRP3pd2wWx29E/cb5+T+7b0T/1YnQoJdzRPzCmAz5W3NE/yuU7K4Lc0T+qO996qdzRPyWEGanM3NE/kyYJJezc0T/xgR5SCN3RP79aVokh3dE/2jBTGjjd0T+J+lhMTN3RP1hjLl9e3dE/JFnmi27d0T8OZpQFfd3RP90S7vmJ3dE/7FDbkZXd0T/QtPfxn93RP9EaBjup3dE/IyNYirHd0T8nzSr6uN3RP9VW+aG/3dE/GGbHlsXd0T/YZmPryt3RP2LvobDP3dE/1uaS9dPd0T/SFbHH193RP2W3DDPb3dE/9pBxQt7d0T9wCYn/4N3RP1+r+HLj3dE/anJ9pOXd0T9hOgSb593RPw2dv1zp3dE/3oM77+rd0T8mq25X7N3RP2dOypnt3dE//C5Iuu7d0T+IIXe8793RP71JhqPw3dE/FChPcvHd0T8AmV4r8t3RP0fi/NDy3dE/qOc0ZfPd0T/Mndrp893RP7zPkGD03dE/GEnOyvTd0T9rdeIp9d3RPzGD+X713dE/ixcgy/Xd0T9xnkYP9t3RP8ZBREz23dE/npDZgvbd0T8637Kz9t3RPx1nat/23dE/7y2KBvfd0T9MuY0p993RP7GU40j33dE/ja7uZPfd0T+PkAd+993RPzR3fZT33dE/7UuXqPfd0T8HhZS6993RPwLurcr33dE/3VoW2ffd0T+cSPvl993RP9pshfH33dE/UjbZ+/fd0T/tPxcF+N3RP6W3XA343dE/tbrDFPjd0T/7p2Mb+N3RP81pUSH43dE//7efJvjd0T/6Ul8r+N3RP5s4ny/43dE/kNNsM/jd0T+0JdQ2+N3RP+zt3zn43dE/JMqZPPjd0T+cVQo/+N3RPyJEOUH43dE/\",\"dtype\":\"float64\",\"shape\":[150]},\"c\":{\"__ndarray__\":\"iK7k+UbUtT+omQGg3PK5P1J55CNuvL0/+Gr096ibwD98PzcV0TTCP4p4jk9krMM/voddIGgGxT9UD6HSYEbGPzraAjOqaMc/Z3NlUWlyyD9EQCIZo2XJP8cSP0ZiRMo/uzWTL1YQyz8iO5e+5crLP6pzmLt6dcw/nMuNA04RzT91x7b1b5/NPxRrI7ilIc4/5DIWZlCYzj8E1bTKwATPP5o0ve+ZZ88/HFF0pQfCzz9SDPRmEQrQPxGCbLa9L9A/LHcpeQhS0D/AQQa8MHHQP3LsvFGrjdA/TJ1m/run0D9nEA7qbL/QP3p3bhP31NA/SF+r243o0D+MYJQEefrQP61rZs3iCtE/1ho6AtAZ0T+vNnrGYyfRP8++deK9M9E/BQkiGvs+0T82i1h6NUnRP+Y8uZ2EUtE/Vggy6v1a0T+CYwnItGLRP+ksrSfIadE/4DdJhEFw0T8EapOvJXbRP15c8TKCe9E/idq5WGOA0T/l61xK1ITRP2/kkCvfiNE/+FDVMo2M0T/mKJO/5o/RP9N+GW7zktE/PMSuKbqV0T8mdeg8QZjRP/GGdWCOmtE/iyaDyKac0T9iFt8wj57RP5hA9+dLoNE/9sTS2OCh0T/R3R2UUaPRPxRfX1ihpNE/hkRsGdOl0T/RtiuH6abRP1wavBPnp9E/XRgI+c2o0T9THNk9oKnRP7dwc7pfqtE/GPnGHA6r0T/oeT7srKvRP5JrNo09rNE/L3wjRMGs0T96HnA4Oa3RP4nTF3emrdE/1jwG9Qmu0T+Zcz+RZK7RP3ag1ha3rtE//Fe3PgKv0T8r1kWxRq/RP4TS2QeFr9E/lk4Xzr2v0T/JcSiD8a/RP2I925ogsNE/aqKlfkuw0T83SJKOcrDRP3gcGCKWsNE/OpXeiLaw0T/aYHAL1LDRP+wX3uvusNE/gGBSZgex0T8W0ZixHbHRP1rDmP8xsdE/iCvFfUSx0T9BcIJVVbHRPxEog6xksdE/N40cpXKx0T+yZZNef7HRP0kMYvWKsdE/9Dd4g5Wx0T/sEHUgn7HRP7AV3OGnsdE/yEZF26+x0T9iBYket7HRPxYH6Lu9sdE/hrgvwsOx0T9fYNs+ybHRPxBNMj7OsdE/2lBjy9Kx0T++yZ3w1rHRP4htKLfasdE/0Ax2J96x0T/CezhJ4bHRP7rKcSPksdE/bPWDvOax0T/GKz8a6bHRP3DU7kHrsdE/CmZlOO2x0T/DMQcC77HRP2k31KLwsdE/8BhxHvKx0T96QS9487HRPydSFLP0sdE/ROXg0fWx0T8DtxbX9rHRP39B/sT3sdE/ndirnfix0T87UQRj+bHRPxY+wRb6sdE/3st0uvqx0T8kRY1P+7HRP/lFWNf7sdE/caYFU/yx0T+AIqrD/LHRPzXFQSr9sdE/uByyh/2x0T/oO8zc/bHRPzKOTir+sdE/rIHmcP6x0T8VCzKx/rHRP1gHwev+sdE/Zn0WIf+x0T9ow6lR/7HRP82J533/sdE/bM4ypv+x0T8YuuXK/7HRP0xqUuz/sdE/7qjDCgCy0T+sk30mALLRP140vj8AstE/2gu+VgCy0T9jkLBrALLRP8agxH4AstE/\",\"dtype\":\"float64\",\"shape\":[150]},\"d\":{\"__ndarray__\":\"4IGg16LNxT9ZQ85+l4bGP2wLN9kaOsc/ejEZ1gTexz8sngEK3njIPxK4HMwIC8k/yCKA9yaVyT9ICWQ95RbKPxzuclYgkco/VlEel9IDyz8YhZk9uG/LP7+JLGkb1ss/Gv/avL82zD+klhM8ypHMP4c5olmK58w/5uWC0j44zT8oJGvkJoTNP17cCyB7y80/AlfXRawOzj+0FUlQ3E3OP5AynF0Vic4/GCAa8wfBzj/3wiz8W/XOP5a0LNnDJs8/465ZN+tUzz9L4S6Pl4DPP0Yz1Oxoqc8/csIOqcHRzz87sHLqvvnPP7CUuQqED9A/gM+QHGUg0D+OFQtliS/QP5nGWyixPdA/BPxelO1K0D8RBtioalfQPwDjVl4qY9A/tpA5SSdu0D8uMYt6bnjQP5YchBUMgtA/WBNBqBmL0D8JNYP3pJPQPwCp+2Kjm9A/sQOQPB6j0D8OpOswHqrQPwpfy1OrsNA/dLxGK8220D+UgS66irzQP3h7MQ30wdA/1XcI+A/H0D+L4fkp2MvQPyqGCRZS0NA/T1ir0YLU0D/+bV0bb9jQP2wlwWAb3NA/MFE+xIvf0D8ARjoixOLQP8K46xXI5dA/lYjT/Zro0D/10uH/P+vQP/4FTg267dA/Ygso5gvw0D/sHKgcOPLQP+JWQhhB9NA/TKyCGCn20D/Pe7U38vfQP3YVcSuK+dA/cFjUYvz60D9pWc3qV/zQP955NCme/dA/0mGZbdD+0D9rQa3y7//QPxlCld/9ANE/es8mSfsB0T9cQA8z6QLRP5xK6JDIA9E/t5E6R5oE0T8qh28sXwXRP+S8swkYBtE/R7XKm8UG0T/iKNWTaAfRP1yoCpgBCNE/vXBnRJEI0T8jOU8rGAnRPxezJdaWCdE/1GndxQ0K0T/0oH1zfQrRP/fHn1DmCtE/8w3lx0gL0T8+l2Q9pQvRPzLOEg/8C9E/AEAilU0M0T8fb14imgzRP6z9gATiDNE/y4uBhCUN0T/vn+DmZA3RP0Lp7WugDdE/VCcKUNgN0T8r/eTLDA7RP1rxthQ+DtE/jNh3XGwO0T/s4xHSlw7RPzSJkaHADtE/uHZS9OYO0T9/winxCg/RP6KAjbwsD9E/IOq5eEwP0T8FO9RFag/RPwZsC0KGD9E/m+m2iaAP0T9vaHM3uQ/RP//0PWTQD9E/UFqNJ+YP0T8S+mmX+g/RP6wuhMgNENE/SE5Jzh8Q0T9+ZPe6MBDRP+K2r59AENE/dCeIjE8Q0T/RhpuQXRDRP87mGLpqENE/Qf1RFncQ0T+hpcixghDRP1qPO5iNENE/uyWy1JcQ0T+wvYdxoRDRP7kUdniqENE/uSuf8rIQ0T/Eh5bouhDRP0ziaWLCENE/iFGpZ8kQ0T9j8W7/zxDRP8EUZjDWENE/bAbSANwQ0T97YJR24RDRP8AAM5fmENE/KaDdZ+sQ0T/WEnPt7xDRPz82hiz0ENE/V5JiKfgQ0T9tshDo+xDRPzM6Wmz/ENE/ELvNuQIR0T+YTcLTBRHRP9vyWr0IEdE/88CJeQsR0T8Q3hILDhHRP/RMj3QQEdE/041vuBIR0T8oFv7YFBHRPwOiYdgWEdE/\",\"dtype\":\"float64\",\"shape\":[150]},\"x\":[0,1,2,3,4,5,6,7,8,9,10,11,12,13,14,15,16,17,18,19,20,21,22,23,24,25,26,27,28,29,30,31,32,33,34,35,36,37,38,39,40,41,42,43,44,45,46,47,48,49,50,51,52,53,54,55,56,57,58,59,60,61,62,63,64,65,66,67,68,69,70,71,72,73,74,75,76,77,78,79,80,81,82,83,84,85,86,87,88,89,90,91,92,93,94,95,96,97,98,99,100,101,102,103,104,105,106,107,108,109,110,111,112,113,114,115,116,117,118,119,120,121,122,123,124,125,126,127,128,129,130,131,132,133,134,135,136,137,138,139,140,141,142,143,144,145,146,147,148,149]},\"selected\":{\"id\":\"3269\",\"type\":\"Selection\"},\"selection_policy\":{\"id\":\"3268\",\"type\":\"UnionRenderers\"}},\"id\":\"3208\",\"type\":\"ColumnDataSource\"}],\"root_ids\":[\"3570\"]},\"title\":\"Bokeh Application\",\"version\":\"1.0.2\"}};\n",
       "  var render_items = [{\"docid\":\"7e273048-aa2e-4812-b585-e218178a0336\",\"notebook_comms_target\":\"3711\",\"roots\":{\"3570\":\"397daeda-af12-4576-aca4-c5eeb237f873\"}}];\n",
       "  root.Bokeh.embed.embed_items_notebook(docs_json, render_items);\n",
       "\n",
       "  }\n",
       "  if (root.Bokeh !== undefined) {\n",
       "    embed_document(root);\n",
       "  } else {\n",
       "    var attempts = 0;\n",
       "    var timer = setInterval(function(root) {\n",
       "      if (root.Bokeh !== undefined) {\n",
       "        embed_document(root);\n",
       "        clearInterval(timer);\n",
       "      }\n",
       "      attempts++;\n",
       "      if (attempts > 100) {\n",
       "        console.log(\"Bokeh: ERROR: Unable to run BokehJS code because BokehJS library is missing\");\n",
       "        clearInterval(timer);\n",
       "      }\n",
       "    }, 10, root)\n",
       "  }\n",
       "})(window);"
      ],
      "application/vnd.bokehjs_exec.v0+json": ""
     },
     "metadata": {
      "application/vnd.bokehjs_exec.v0+json": {
       "id": "3570"
      }
     },
     "output_type": "display_data"
    },
    {
     "data": {
      "text/html": [
       "<p><code>&lt;Bokeh Notebook handle for <strong>In[25]</strong>&gt;</code></p>"
      ],
      "text/plain": [
       "<bokeh.io.notebook.CommsHandle at 0x127c4a128>"
      ]
     },
     "execution_count": 25,
     "metadata": {},
     "output_type": "execute_result"
    }
   ],
   "source": [
    "show(row(p1,p2),notebook_handle=True)\n",
    "show(row(p3,p4),notebook_handle=True)"
   ]
  },
  {
   "cell_type": "markdown",
   "metadata": {},
   "source": [
    "Overall we see that a higher $\\theta$ gives a slower rate of convergence and a lower steady state level of optimal savingsrate.\n",
    "And with that we end the project for now, tough the model leaves space for plenty of extensions."
   ]
  }
 ],
 "metadata": {
  "kernelspec": {
   "display_name": "Python 3",
   "language": "python",
   "name": "python3"
  },
  "language_info": {
   "codemirror_mode": {
    "name": "ipython",
    "version": 3
   },
   "file_extension": ".py",
   "mimetype": "text/x-python",
   "name": "python",
   "nbconvert_exporter": "python",
   "pygments_lexer": "ipython3",
   "version": "3.7.1"
  }
 },
 "nbformat": 4,
 "nbformat_minor": 2
}
