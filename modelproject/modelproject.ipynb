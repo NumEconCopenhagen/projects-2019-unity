{
 "cells": [
  {
   "cell_type": "code",
   "execution_count": 1,
   "metadata": {},
   "outputs": [],
   "source": [
    "import model_funcs\n",
    "import sympy as sm"
   ]
  },
  {
   "cell_type": "markdown",
   "metadata": {},
   "source": [
    "# Our Model"
   ]
  },
  {
   "cell_type": "markdown",
   "metadata": {},
   "source": [
    "Our model is the classic solowmodel, but instead of having a fixed savings rate, in each period the savings rate is decided by a micro-household optimization problem "
   ]
  },
  {
   "cell_type": "markdown",
   "metadata": {},
   "source": [
    "**Micro-foundation of the savingsrate** \n",
    "\n",
    "Representative household utilityfunction in single periode:\n",
    "$$\n",
    "u\\left(c_{t}\\right)=\\frac{c^{1-\\theta}-1}{1-\\theta}\n",
    "$$\n",
    "When the household sums its total utility for mulitple future periods, it disocunts future consumption for immediate consumption by $1-\\beta$ so utility for all periods from period 0 to period T, given a vector C of consumption in each period is:\n",
    "$$\n",
    "U\\left(C\\right)=\\sum_{t=0}^{T}\\beta^{t}\\frac{c_{t}^{1-\\theta}-1}{1-\\theta}\n",
    "$$\n",
    "We assume that the household understands how the solow model works, e.g. how production for consumption is made and how capital accumulation works.\n",
    "$$\n",
    "Y_{t}=AK_{t}^{\\alpha}L_{t}^{1-\\alpha} \n",
    "\\Rightarrow c_{t}\\cdot L_{t} = \\left(1-s_{K_t}\\right)\\cdot AK_{t}^{\\alpha}L_{t}^{1-\\alpha} \n",
    "$$ $$\n",
    "K_{t+1}=s_{Kt}\\cdot Y_{t}+\\left(1+\\delta\\right)K_{t}\n",
    "$$\n",
    "$$\n",
    "L_{t+1}=\\left(1+n\\right)L_{t}\\\n",
    "$$\n",
    "Rewriting to per capita terms we get:\n",
    "$$\n",
    "y_{t}=A k_{t}^{\\alpha} \\Rightarrow\n",
    "c_{t} = \\left(1-s_{Kt}\\right) A k_{t}^{\\alpha}\n",
    "$$ $$\n",
    "k_{t+1}= \\frac{1}{1+n} \\left(s_{Kt}\\cdot A k_{t}^{\\alpha} + \\left(1+\\delta\\right)k_{t} \\right)\n",
    "$$\n",
    "This is our 'budget constraint' more precisely defined as production constraints for all periods \n",
    "\n",
    "So the final optimizationproblem is:\n",
    "$$\n",
    "\\max_{s_{K_t}}U\\left(C\\right)=\\sum_{t=0}^{T}\\beta^{t}\\frac{c_{t}^{1-\\theta}-1}{1-\\theta}\n",
    "$$\n",
    "$$ s.t.$$$$\n",
    "c_{t} = \\left(1-s_{Kt}\\right) A k_{t}^{\\alpha},\\;t\\in [0,T]\n",
    "$$$$\n",
    "k_{t}=\n",
    "\\begin{cases}\n",
    "k_{0}& \\text{if }t=0\\\\\n",
    "\\frac{1}{1+n} \\left(s_{Kt-1}\\cdot A k_{t-1}^{\\alpha} + \\left(1+\\delta\\right)k_{t-1} \\right)& \\text{if }t\\in\\left[1,T\\right]\n",
    "\\end{cases}\n",
    "$$$$\n",
    "k_{0} \\text{ given}\n",
    "$$\n",
    "It's important to note that although the optimizationsolution, $s_{Kt}$, is solved for all periods. Only the solution for t=0 is used, since the problem is solved again in the next period. E.g. in each period the household formualtes a plan for current and future comsumption. In the current period the plan is pursued but in the following period a new plan is formulated, which is then also only followed for one period. "
   ]
  },
  {
   "cell_type": "markdown",
   "metadata": {},
   "source": [
    "**Macro foundations**\n",
    "\n",
    "We use the basic solow model but with an adjustable savingsrate for each period. Rewritten we got the following capital-accumulation pr. capita:\n",
    "\n",
    "$$\n",
    "k_{t+1}= \\frac{1}{1+n} \\left(s_{Kt}\\cdot A k_{t}^{\\alpha} + \\left(1+\\delta\\right)k_{t} \\right)\n",
    "$$$$\n",
    "y_{t}=A k_{t}^{\\alpha}\n",
    "$$\n",
    "For a fixed savings rate we know that this model has convergenge to steady state. With the adjustable micro-foundated savingsrate we do not yet know if we have convergens, but we do not that convergence will imply, $k_{t+1}=k_{t}=k^{*}$ thus we have:\n",
    "$$\n",
    "k^{*}= \\frac{1}{1+n} \\left(s_{Kt}\\cdot A {k^{*}}^{\\alpha} + \\left(1+\\delta\\right)k^{*} \\right)\n",
    "$$\n",
    "And can use sympy to derive that if we have a convergence to steady savingsrate our steady state capital for a given savings will be:"
   ]
  },
  {
   "cell_type": "code",
   "execution_count": 2,
   "metadata": {},
   "outputs": [
    {
     "data": {
      "image/png": "[encoded data removed]",
      "text/latex": [
       "$$k^{*} = \\left(\\frac{B s_{Kt}}{\\delta + n}\\right)^{- \\frac{1}{\\alpha - 1}}$$"
      ],
      "text/plain": [
       "                  -1  \n",
       "                 ─────\n",
       "                 α - 1\n",
       "         ⎛B⋅s_Kt⎞     \n",
       "k__{*} = ⎜──────⎟     \n",
       "         ⎝δ + n ⎠     "
      ]
     },
     "execution_count": 2,
     "metadata": {},
     "output_type": "execute_result"
    }
   ],
   "source": [
    "sm.init_printing(use_unicode=True)\n",
    "ss_k,find_ssk_sk = model_funcs.steadystate()\n",
    "ss_k"
   ]
  },
  {
   "cell_type": "code",
   "execution_count": 3,
   "metadata": {},
   "outputs": [],
   "source": [
    "sm.init_printing(use_unicode=False)"
   ]
  },
  {
   "cell_type": "markdown",
   "metadata": {},
   "source": [
    "# Solving the micro-foundation numerically"
   ]
  },
  {
   "cell_type": "markdown",
   "metadata": {},
   "source": [
    "We set up parameter values: "
   ]
  },
  {
   "cell_type": "markdown",
   "metadata": {},
   "source": [
    "$\\theta$, determining the representative household's aversion to fluctations in consumption is as base, set to 0.5, but values below and above are also looked at, as we don't know an approximate of the true value<br>\n",
    "$\\beta$, determining how much the representative households values immediate above future consumption, is set to 0.99. Representing a low preference. <br>\n",
    "$\\alpha$, with a Cobb-Douglas production function the incomeshare of capital, is set to $\\frac{1}{3}$, a ordinary macro-assumption. <br>\n",
    "$\\delta$, capital depreciation, is set to 0.05. <br>\n",
    "$n$, population growth is set to 0.008 representing average european population growth. <br>\n",
    "$B$ and $L_{0}$ is normalized to 1 and 1, initial capital. <br>\n",
    "$K_{0}$ is set to below the steady state. <br>\n",
    "$t$, the amount of future time periods considered by the household, is set to 40 for two reasons: <br>\n",
    "1. Computational limitations, honestely speed becomes a factor when we simulate a more foresighted representative household.\n",
    "2. It approximately represents the average remaining lifetime of the working population. As we asumme no 'warm glow' from bequesting, this will also be the timeline that the population cares about on average. \n"
   ]
  },
  {
   "cell_type": "code",
   "execution_count": 4,
   "metadata": {},
   "outputs": [],
   "source": [
    "# Parameters\n",
    "#Micro:\n",
    "theta = 0.5\n",
    "beta = 0.99\n",
    "#Macro:\n",
    "alpha = 1/3\n",
    "delta = 0.05\n",
    "n = 0.008\n",
    "\n",
    "# production:\n",
    "b = 1\n",
    "k0 = 5\n",
    "l0 = 1\n",
    "\n",
    "\n",
    "t = 40\n",
    "\n",
    "# time preference utility weights and population growth \n",
    "# are precomputed to save time:\n",
    "weight = np.array([beta**i for i in range(t)])\n",
    "l = np.array([l0*(1+n)**i for i in range(t)])"
   ]
  },
  {
   "cell_type": "markdown",
   "metadata": {},
   "source": [
    "First we look at how, for different thetas, optimal savings rate in period t=0, depends on the level of initial capital:"
   ]
  },
  {
   "cell_type": "code",
   "execution_count": 5,
   "metadata": {},
   "outputs": [],
   "source": [
    "k_n = 60\n",
    "thetas = [0.3,0.5,0.7]\n",
    "sks = [np.zeros(k_n) for i in range(3)]\n",
    "k0s = np.linspace(0.001,30,k_n)\n",
    "\n",
    "for j in range(3):\n",
    "    for i in range(k_n):\n",
    "            sks[j][i] = model_funcs.optimal_sks(\n",
    "                t, b, l, weight, delta, alpha, thetas[j], k0s[i])\n",
    "\n",
    "    "
   ]
  },
  {
   "cell_type": "code",
   "execution_count": 6,
   "metadata": {},
   "outputs": [],
   "source": [
    "from bokeh.io import output_notebook,show"
   ]
  },
  {
   "cell_type": "code",
   "execution_count": 7,
   "metadata": {},
   "outputs": [
    {
     "data": {
      "text/html": [
       "\n",
       "    <div class=\"bk-root\">\n",
       "        <a href=\"https://bokeh.pydata.org\" target=\"_blank\" class=\"bk-logo bk-logo-small bk-logo-notebook\"></a>\n",
       "        <span id=\"1001\">Loading BokehJS ...</span>\n",
       "    </div>"
      ]
     },
     "metadata": {},
     "output_type": "display_data"
    },
    {
     "data": {
      "application/javascript": [
       "\n",
       "(function(root) {\n",
       "  function now() {\n",
       "    return new Date();\n",
       "  }\n",
       "\n",
       "  var force = true;\n",
       "\n",
       "  if (typeof (root._bokeh_onload_callbacks) === \"undefined\" || force === true) {\n",
       "    root._bokeh_onload_callbacks = [];\n",
       "    root._bokeh_is_loading = undefined;\n",
       "  }\n",
       "\n",
       "  var JS_MIME_TYPE = 'application/javascript';\n",
       "  var HTML_MIME_TYPE = 'text/html';\n",
       "  var EXEC_MIME_TYPE = 'application/vnd.bokehjs_exec.v0+json';\n",
       "  var CLASS_NAME = 'output_bokeh rendered_html';\n",
       "\n",
       "  /**\n",
       "   * Render data to the DOM node\n",
       "   */\n",
       "  function render(props, node) {\n",
       "    var script = document.createElement(\"script\");\n",
       "    node.appendChild(script);\n",
       "  }\n",
       "\n",
       "  /**\n",
       "   * Handle when an output is cleared or removed\n",
       "   */\n",
       "  function handleClearOutput(event, handle) {\n",
       "    var cell = handle.cell;\n",
       "\n",
       "    var id = cell.output_area._bokeh_element_id;\n",
       "    var server_id = cell.output_area._bokeh_server_id;\n",
       "    // Clean up Bokeh references\n",
       "    if (id != null && id in Bokeh.index) {\n",
       "      Bokeh.index[id].model.document.clear();\n",
       "      delete Bokeh.index[id];\n",
       "    }\n",
       "\n",
       "    if (server_id !== undefined) {\n",
       "      // Clean up Bokeh references\n",
       "      var cmd = \"from bokeh.io.state import curstate; print(curstate().uuid_to_server['\" + server_id + \"'].get_sessions()[0].document.roots[0]._id)\";\n",
       "      cell.notebook.kernel.execute(cmd, {\n",
       "        iopub: {\n",
       "          output: function(msg) {\n",
       "            var id = msg.content.text.trim();\n",
       "            if (id in Bokeh.index) {\n",
       "              Bokeh.index[id].model.document.clear();\n",
       "              delete Bokeh.index[id];\n",
       "            }\n",
       "          }\n",
       "        }\n",
       "      });\n",
       "      // Destroy server and session\n",
       "      var cmd = \"import bokeh.io.notebook as ion; ion.destroy_server('\" + server_id + \"')\";\n",
       "      cell.notebook.kernel.execute(cmd);\n",
       "    }\n",
       "  }\n",
       "\n",
       "  /**\n",
       "   * Handle when a new output is added\n",
       "   */\n",
       "  function handleAddOutput(event, handle) {\n",
       "    var output_area = handle.output_area;\n",
       "    var output = handle.output;\n",
       "\n",
       "    // limit handleAddOutput to display_data with EXEC_MIME_TYPE content only\n",
       "    if ((output.output_type != \"display_data\") || (!output.data.hasOwnProperty(EXEC_MIME_TYPE))) {\n",
       "      return\n",
       "    }\n",
       "\n",
       "    var toinsert = output_area.element.find(\".\" + CLASS_NAME.split(' ')[0]);\n",
       "\n",
       "    if (output.metadata[EXEC_MIME_TYPE][\"id\"] !== undefined) {\n",
       "      toinsert[toinsert.length - 1].firstChild.textContent = output.data[JS_MIME_TYPE];\n",
       "      // store reference to embed id on output_area\n",
       "      output_area._bokeh_element_id = output.metadata[EXEC_MIME_TYPE][\"id\"];\n",
       "    }\n",
       "    if (output.metadata[EXEC_MIME_TYPE][\"server_id\"] !== undefined) {\n",
       "      var bk_div = document.createElement(\"div\");\n",
       "      bk_div.innerHTML = output.data[HTML_MIME_TYPE];\n",
       "      var script_attrs = bk_div.children[0].attributes;\n",
       "      for (var i = 0; i < script_attrs.length; i++) {\n",
       "        toinsert[toinsert.length - 1].firstChild.setAttribute(script_attrs[i].name, script_attrs[i].value);\n",
       "      }\n",
       "      // store reference to server id on output_area\n",
       "      output_area._bokeh_server_id = output.metadata[EXEC_MIME_TYPE][\"server_id\"];\n",
       "    }\n",
       "  }\n",
       "\n",
       "  function register_renderer(events, OutputArea) {\n",
       "\n",
       "    function append_mime(data, metadata, element) {\n",
       "      // create a DOM node to render to\n",
       "      var toinsert = this.create_output_subarea(\n",
       "        metadata,\n",
       "        CLASS_NAME,\n",
       "        EXEC_MIME_TYPE\n",
       "      );\n",
       "      this.keyboard_manager.register_events(toinsert);\n",
       "      // Render to node\n",
       "      var props = {data: data, metadata: metadata[EXEC_MIME_TYPE]};\n",
       "      render(props, toinsert[toinsert.length - 1]);\n",
       "      element.append(toinsert);\n",
       "      return toinsert\n",
       "    }\n",
       "\n",
       "    /* Handle when an output is cleared or removed */\n",
       "    events.on('clear_output.CodeCell', handleClearOutput);\n",
       "    events.on('delete.Cell', handleClearOutput);\n",
       "\n",
       "    /* Handle when a new output is added */\n",
       "    events.on('output_added.OutputArea', handleAddOutput);\n",
       "\n",
       "    /**\n",
       "     * Register the mime type and append_mime function with output_area\n",
       "     */\n",
       "    OutputArea.prototype.register_mime_type(EXEC_MIME_TYPE, append_mime, {\n",
       "      /* Is output safe? */\n",
       "      safe: true,\n",
       "      /* Index of renderer in `output_area.display_order` */\n",
       "      index: 0\n",
       "    });\n",
       "  }\n",
       "\n",
       "  // register the mime type if in Jupyter Notebook environment and previously unregistered\n",
       "  if (root.Jupyter !== undefined) {\n",
       "    var events = require('base/js/events');\n",
       "    var OutputArea = require('notebook/js/outputarea').OutputArea;\n",
       "\n",
       "    if (OutputArea.prototype.mime_types().indexOf(EXEC_MIME_TYPE) == -1) {\n",
       "      register_renderer(events, OutputArea);\n",
       "    }\n",
       "  }\n",
       "\n",
       "  \n",
       "  if (typeof (root._bokeh_timeout) === \"undefined\" || force === true) {\n",
       "    root._bokeh_timeout = Date.now() + 5000;\n",
       "    root._bokeh_failed_load = false;\n",
       "  }\n",
       "\n",
       "  var NB_LOAD_WARNING = {'data': {'text/html':\n",
       "     \"<div style='background-color: #fdd'>\\n\"+\n",
       "     \"<p>\\n\"+\n",
       "     \"BokehJS does not appear to have successfully loaded. If loading BokehJS from CDN, this \\n\"+\n",
       "     \"may be due to a slow or bad network connection. Possible fixes:\\n\"+\n",
       "     \"</p>\\n\"+\n",
       "     \"<ul>\\n\"+\n",
       "     \"<li>re-rerun `output_notebook()` to attempt to load from CDN again, or</li>\\n\"+\n",
       "     \"<li>use INLINE resources instead, as so:</li>\\n\"+\n",
       "     \"</ul>\\n\"+\n",
       "     \"<code>\\n\"+\n",
       "     \"from bokeh.resources import INLINE\\n\"+\n",
       "     \"output_notebook(resources=INLINE)\\n\"+\n",
       "     \"</code>\\n\"+\n",
       "     \"</div>\"}};\n",
       "\n",
       "  function display_loaded() {\n",
       "    var el = document.getElementById(\"1001\");\n",
       "    if (el != null) {\n",
       "      el.textContent = \"BokehJS is loading...\";\n",
       "    }\n",
       "    if (root.Bokeh !== undefined) {\n",
       "      if (el != null) {\n",
       "        el.textContent = \"BokehJS \" + root.Bokeh.version + \" successfully loaded.\";\n",
       "      }\n",
       "    } else if (Date.now() < root._bokeh_timeout) {\n",
       "      setTimeout(display_loaded, 100)\n",
       "    }\n",
       "  }\n",
       "\n",
       "\n",
       "  function run_callbacks() {\n",
       "    try {\n",
       "      root._bokeh_onload_callbacks.forEach(function(callback) { callback() });\n",
       "    }\n",
       "    finally {\n",
       "      delete root._bokeh_onload_callbacks\n",
       "    }\n",
       "    console.info(\"Bokeh: all callbacks have finished\");\n",
       "  }\n",
       "\n",
       "  function load_libs(js_urls, callback) {\n",
       "    root._bokeh_onload_callbacks.push(callback);\n",
       "    if (root._bokeh_is_loading > 0) {\n",
       "      console.log(\"Bokeh: BokehJS is being loaded, scheduling callback at\", now());\n",
       "      return null;\n",
       "    }\n",
       "    if (js_urls == null || js_urls.length === 0) {\n",
       "      run_callbacks();\n",
       "      return null;\n",
       "    }\n",
       "    console.log(\"Bokeh: BokehJS not loaded, scheduling load and callback at\", now());\n",
       "    root._bokeh_is_loading = js_urls.length;\n",
       "    for (var i = 0; i < js_urls.length; i++) {\n",
       "      var url = js_urls[i];\n",
       "      var s = document.createElement('script');\n",
       "      s.src = url;\n",
       "      s.async = false;\n",
       "      s.onreadystatechange = s.onload = function() {\n",
       "        root._bokeh_is_loading--;\n",
       "        if (root._bokeh_is_loading === 0) {\n",
       "          console.log(\"Bokeh: all BokehJS libraries loaded\");\n",
       "          run_callbacks()\n",
       "        }\n",
       "      };\n",
       "      s.onerror = function() {\n",
       "        console.warn(\"failed to load library \" + url);\n",
       "      };\n",
       "      console.log(\"Bokeh: injecting script tag for BokehJS library: \", url);\n",
       "      document.getElementsByTagName(\"head\")[0].appendChild(s);\n",
       "    }\n",
       "  };var element = document.getElementById(\"1001\");\n",
       "  if (element == null) {\n",
       "    console.log(\"Bokeh: ERROR: autoload.js configured with elementid '1001' but no matching script tag was found. \")\n",
       "    return false;\n",
       "  }\n",
       "\n",
       "  var js_urls = [\"https://cdn.pydata.org/bokeh/release/bokeh-1.0.2.min.js\", \"https://cdn.pydata.org/bokeh/release/bokeh-widgets-1.0.2.min.js\", \"https://cdn.pydata.org/bokeh/release/bokeh-tables-1.0.2.min.js\", \"https://cdn.pydata.org/bokeh/release/bokeh-gl-1.0.2.min.js\"];\n",
       "\n",
       "  var inline_js = [\n",
       "    function(Bokeh) {\n",
       "      Bokeh.set_log_level(\"info\");\n",
       "    },\n",
       "    \n",
       "    function(Bokeh) {\n",
       "      \n",
       "    },\n",
       "    function(Bokeh) {\n",
       "      console.log(\"Bokeh: injecting CSS: https://cdn.pydata.org/bokeh/release/bokeh-1.0.2.min.css\");\n",
       "      Bokeh.embed.inject_css(\"https://cdn.pydata.org/bokeh/release/bokeh-1.0.2.min.css\");\n",
       "      console.log(\"Bokeh: injecting CSS: https://cdn.pydata.org/bokeh/release/bokeh-widgets-1.0.2.min.css\");\n",
       "      Bokeh.embed.inject_css(\"https://cdn.pydata.org/bokeh/release/bokeh-widgets-1.0.2.min.css\");\n",
       "      console.log(\"Bokeh: injecting CSS: https://cdn.pydata.org/bokeh/release/bokeh-tables-1.0.2.min.css\");\n",
       "      Bokeh.embed.inject_css(\"https://cdn.pydata.org/bokeh/release/bokeh-tables-1.0.2.min.css\");\n",
       "    }\n",
       "  ];\n",
       "\n",
       "  function run_inline_js() {\n",
       "    \n",
       "    if ((root.Bokeh !== undefined) || (force === true)) {\n",
       "      for (var i = 0; i < inline_js.length; i++) {\n",
       "        inline_js[i].call(root, root.Bokeh);\n",
       "      }if (force === true) {\n",
       "        display_loaded();\n",
       "      }} else if (Date.now() < root._bokeh_timeout) {\n",
       "      setTimeout(run_inline_js, 100);\n",
       "    } else if (!root._bokeh_failed_load) {\n",
       "      console.log(\"Bokeh: BokehJS failed to load within specified timeout.\");\n",
       "      root._bokeh_failed_load = true;\n",
       "    } else if (force !== true) {\n",
       "      var cell = $(document.getElementById(\"1001\")).parents('.cell').data().cell;\n",
       "      cell.output_area.append_execute_result(NB_LOAD_WARNING)\n",
       "    }\n",
       "\n",
       "  }\n",
       "\n",
       "  if (root._bokeh_is_loading === 0) {\n",
       "    console.log(\"Bokeh: BokehJS loaded, going straight to plotting\");\n",
       "    run_inline_js();\n",
       "  } else {\n",
       "    load_libs(js_urls, function() {\n",
       "      console.log(\"Bokeh: BokehJS plotting callback run at\", now());\n",
       "      run_inline_js();\n",
       "    });\n",
       "  }\n",
       "}(window));"
      ],
      "application/vnd.bokehjs_load.v0+json": "\n(function(root) {\n  function now() {\n    return new Date();\n  }\n\n  var force = true;\n\n  if (typeof (root._bokeh_onload_callbacks) === \"undefined\" || force === true) {\n    root._bokeh_onload_callbacks = [];\n    root._bokeh_is_loading = undefined;\n  }\n\n  \n\n  \n  if (typeof (root._bokeh_timeout) === \"undefined\" || force === true) {\n    root._bokeh_timeout = Date.now() + 5000;\n    root._bokeh_failed_load = false;\n  }\n\n  var NB_LOAD_WARNING = {'data': {'text/html':\n     \"<div style='background-color: #fdd'>\\n\"+\n     \"<p>\\n\"+\n     \"BokehJS does not appear to have successfully loaded. If loading BokehJS from CDN, this \\n\"+\n     \"may be due to a slow or bad network connection. Possible fixes:\\n\"+\n     \"</p>\\n\"+\n     \"<ul>\\n\"+\n     \"<li>re-rerun `output_notebook()` to attempt to load from CDN again, or</li>\\n\"+\n     \"<li>use INLINE resources instead, as so:</li>\\n\"+\n     \"</ul>\\n\"+\n     \"<code>\\n\"+\n     \"from bokeh.resources import INLINE\\n\"+\n     \"output_notebook(resources=INLINE)\\n\"+\n     \"</code>\\n\"+\n     \"</div>\"}};\n\n  function display_loaded() {\n    var el = document.getElementById(\"1001\");\n    if (el != null) {\n      el.textContent = \"BokehJS is loading...\";\n    }\n    if (root.Bokeh !== undefined) {\n      if (el != null) {\n        el.textContent = \"BokehJS \" + root.Bokeh.version + \" successfully loaded.\";\n      }\n    } else if (Date.now() < root._bokeh_timeout) {\n      setTimeout(display_loaded, 100)\n    }\n  }\n\n\n  function run_callbacks() {\n    try {\n      root._bokeh_onload_callbacks.forEach(function(callback) { callback() });\n    }\n    finally {\n      delete root._bokeh_onload_callbacks\n    }\n    console.info(\"Bokeh: all callbacks have finished\");\n  }\n\n  function load_libs(js_urls, callback) {\n    root._bokeh_onload_callbacks.push(callback);\n    if (root._bokeh_is_loading > 0) {\n      console.log(\"Bokeh: BokehJS is being loaded, scheduling callback at\", now());\n      return null;\n    }\n    if (js_urls == null || js_urls.length === 0) {\n      run_callbacks();\n      return null;\n    }\n    console.log(\"Bokeh: BokehJS not loaded, scheduling load and callback at\", now());\n    root._bokeh_is_loading = js_urls.length;\n    for (var i = 0; i < js_urls.length; i++) {\n      var url = js_urls[i];\n      var s = document.createElement('script');\n      s.src = url;\n      s.async = false;\n      s.onreadystatechange = s.onload = function() {\n        root._bokeh_is_loading--;\n        if (root._bokeh_is_loading === 0) {\n          console.log(\"Bokeh: all BokehJS libraries loaded\");\n          run_callbacks()\n        }\n      };\n      s.onerror = function() {\n        console.warn(\"failed to load library \" + url);\n      };\n      console.log(\"Bokeh: injecting script tag for BokehJS library: \", url);\n      document.getElementsByTagName(\"head\")[0].appendChild(s);\n    }\n  };var element = document.getElementById(\"1001\");\n  if (element == null) {\n    console.log(\"Bokeh: ERROR: autoload.js configured with elementid '1001' but no matching script tag was found. \")\n    return false;\n  }\n\n  var js_urls = [\"https://cdn.pydata.org/bokeh/release/bokeh-1.0.2.min.js\", \"https://cdn.pydata.org/bokeh/release/bokeh-widgets-1.0.2.min.js\", \"https://cdn.pydata.org/bokeh/release/bokeh-tables-1.0.2.min.js\", \"https://cdn.pydata.org/bokeh/release/bokeh-gl-1.0.2.min.js\"];\n\n  var inline_js = [\n    function(Bokeh) {\n      Bokeh.set_log_level(\"info\");\n    },\n    \n    function(Bokeh) {\n      \n    },\n    function(Bokeh) {\n      console.log(\"Bokeh: injecting CSS: https://cdn.pydata.org/bokeh/release/bokeh-1.0.2.min.css\");\n      Bokeh.embed.inject_css(\"https://cdn.pydata.org/bokeh/release/bokeh-1.0.2.min.css\");\n      console.log(\"Bokeh: injecting CSS: https://cdn.pydata.org/bokeh/release/bokeh-widgets-1.0.2.min.css\");\n      Bokeh.embed.inject_css(\"https://cdn.pydata.org/bokeh/release/bokeh-widgets-1.0.2.min.css\");\n      console.log(\"Bokeh: injecting CSS: https://cdn.pydata.org/bokeh/release/bokeh-tables-1.0.2.min.css\");\n      Bokeh.embed.inject_css(\"https://cdn.pydata.org/bokeh/release/bokeh-tables-1.0.2.min.css\");\n    }\n  ];\n\n  function run_inline_js() {\n    \n    if ((root.Bokeh !== undefined) || (force === true)) {\n      for (var i = 0; i < inline_js.length; i++) {\n        inline_js[i].call(root, root.Bokeh);\n      }if (force === true) {\n        display_loaded();\n      }} else if (Date.now() < root._bokeh_timeout) {\n      setTimeout(run_inline_js, 100);\n    } else if (!root._bokeh_failed_load) {\n      console.log(\"Bokeh: BokehJS failed to load within specified timeout.\");\n      root._bokeh_failed_load = true;\n    } else if (force !== true) {\n      var cell = $(document.getElementById(\"1001\")).parents('.cell').data().cell;\n      cell.output_area.append_execute_result(NB_LOAD_WARNING)\n    }\n\n  }\n\n  if (root._bokeh_is_loading === 0) {\n    console.log(\"Bokeh: BokehJS loaded, going straight to plotting\");\n    run_inline_js();\n  } else {\n    load_libs(js_urls, function() {\n      console.log(\"Bokeh: BokehJS plotting callback run at\", now());\n      run_inline_js();\n    });\n  }\n}(window));"
     },
     "metadata": {},
     "output_type": "display_data"
    }
   ],
   "source": [
    "output_notebook()"
   ]
  },
  {
   "cell_type": "code",
   "execution_count": 8,
   "metadata": {},
   "outputs": [
    {
     "data": {
      "text/html": [
       "\n",
       "\n",
       "\n",
       "\n",
       "\n",
       "\n",
       "  <div class=\"bk-root\" id=\"7c7b4c8c-ce86-4299-9563-10d707eeecd8\"></div>\n"
      ]
     },
     "metadata": {},
     "output_type": "display_data"
    },
    {
     "data": {
      "application/javascript": [
       "(function(root) {\n",
       "  function embed_document(root) {\n",
       "    \n",
       "  var docs_json = {\"94707bd9-7f3c-486a-bf31-e47ba4980b25\":{\"roots\":{\"references\":[{\"attributes\":{\"below\":[{\"id\":\"1015\",\"type\":\"LinearAxis\"}],\"left\":[{\"id\":\"1020\",\"type\":\"LinearAxis\"}],\"renderers\":[{\"id\":\"1015\",\"type\":\"LinearAxis\"},{\"id\":\"1019\",\"type\":\"Grid\"},{\"id\":\"1020\",\"type\":\"LinearAxis\"},{\"id\":\"1024\",\"type\":\"Grid\"},{\"id\":\"1031\",\"type\":\"BoxAnnotation\"},{\"id\":\"1048\",\"type\":\"Legend\"},{\"id\":\"1040\",\"type\":\"GlyphRenderer\"},{\"id\":\"1053\",\"type\":\"GlyphRenderer\"},{\"id\":\"1067\",\"type\":\"GlyphRenderer\"}],\"title\":{\"id\":\"1004\",\"type\":\"Title\"},\"toolbar\":{\"id\":\"1029\",\"type\":\"Toolbar\"},\"x_range\":{\"id\":\"1007\",\"type\":\"DataRange1d\"},\"x_scale\":{\"id\":\"1011\",\"type\":\"LinearScale\"},\"y_range\":{\"id\":\"1009\",\"type\":\"DataRange1d\"},\"y_scale\":{\"id\":\"1013\",\"type\":\"LinearScale\"}},\"id\":\"1005\",\"subtype\":\"Figure\",\"type\":\"Plot\"},{\"attributes\":{},\"id\":\"1011\",\"type\":\"LinearScale\"},{\"attributes\":{},\"id\":\"1016\",\"type\":\"BasicTicker\"},{\"attributes\":{\"data_source\":{\"id\":\"1003\",\"type\":\"ColumnDataSource\"},\"glyph\":{\"id\":\"1065\",\"type\":\"Line\"},\"hover_glyph\":null,\"muted_glyph\":null,\"nonselection_glyph\":{\"id\":\"1066\",\"type\":\"Line\"},\"selection_glyph\":null,\"view\":{\"id\":\"1068\",\"type\":\"CDSView\"}},\"id\":\"1067\",\"type\":\"GlyphRenderer\"},{\"attributes\":{\"callback\":null},\"id\":\"1009\",\"type\":\"DataRange1d\"},{\"attributes\":{\"overlay\":{\"id\":\"1031\",\"type\":\"BoxAnnotation\"}},\"id\":\"1026\",\"type\":\"BoxZoomTool\"},{\"attributes\":{\"source\":{\"id\":\"1003\",\"type\":\"ColumnDataSource\"}},\"id\":\"1041\",\"type\":\"CDSView\"},{\"attributes\":{\"active_drag\":\"auto\",\"active_inspect\":\"auto\",\"active_multi\":null,\"active_scroll\":\"auto\",\"active_tap\":\"auto\",\"tools\":[{\"id\":\"1002\",\"type\":\"HoverTool\"},{\"id\":\"1025\",\"type\":\"PanTool\"},{\"id\":\"1026\",\"type\":\"BoxZoomTool\"},{\"id\":\"1027\",\"type\":\"ResetTool\"},{\"id\":\"1028\",\"type\":\"SaveTool\"}]},\"id\":\"1029\",\"type\":\"Toolbar\"},{\"attributes\":{\"axis_label\":\"Capital pr. capita\",\"formatter\":{\"id\":\"1044\",\"type\":\"BasicTickFormatter\"},\"plot\":{\"id\":\"1005\",\"subtype\":\"Figure\",\"type\":\"Plot\"},\"ticker\":{\"id\":\"1016\",\"type\":\"BasicTicker\"}},\"id\":\"1015\",\"type\":\"LinearAxis\"},{\"attributes\":{\"plot\":{\"id\":\"1005\",\"subtype\":\"Figure\",\"type\":\"Plot\"},\"ticker\":{\"id\":\"1016\",\"type\":\"BasicTicker\"}},\"id\":\"1019\",\"type\":\"Grid\"},{\"attributes\":{\"line_color\":\"red\",\"x\":{\"field\":\"x\"},\"y\":{\"field\":\"three\"}},\"id\":\"1038\",\"type\":\"Line\"},{\"attributes\":{},\"id\":\"1060\",\"type\":\"Selection\"},{\"attributes\":{\"data_source\":{\"id\":\"1003\",\"type\":\"ColumnDataSource\"},\"glyph\":{\"id\":\"1051\",\"type\":\"Line\"},\"hover_glyph\":null,\"muted_glyph\":null,\"nonselection_glyph\":{\"id\":\"1052\",\"type\":\"Line\"},\"selection_glyph\":null,\"view\":{\"id\":\"1054\",\"type\":\"CDSView\"}},\"id\":\"1053\",\"type\":\"GlyphRenderer\"},{\"attributes\":{},\"id\":\"1025\",\"type\":\"PanTool\"},{\"attributes\":{},\"id\":\"1013\",\"type\":\"LinearScale\"},{\"attributes\":{\"bottom_units\":\"screen\",\"fill_alpha\":{\"value\":0.5},\"fill_color\":{\"value\":\"lightgrey\"},\"left_units\":\"screen\",\"level\":\"overlay\",\"line_alpha\":{\"value\":1.0},\"line_color\":{\"value\":\"black\"},\"line_dash\":[4,4],\"line_width\":{\"value\":2},\"plot\":null,\"render_mode\":\"css\",\"right_units\":\"screen\",\"top_units\":\"screen\"},\"id\":\"1031\",\"type\":\"BoxAnnotation\"},{\"attributes\":{\"source\":{\"id\":\"1003\",\"type\":\"ColumnDataSource\"}},\"id\":\"1054\",\"type\":\"CDSView\"},{\"attributes\":{},\"id\":\"1061\",\"type\":\"UnionRenderers\"},{\"attributes\":{\"line_color\":\"green\",\"x\":{\"field\":\"x\"},\"y\":{\"field\":\"seven\"}},\"id\":\"1065\",\"type\":\"Line\"},{\"attributes\":{\"label\":{\"value\":\"\\u03b8 = 0.5\"},\"renderers\":[{\"id\":\"1053\",\"type\":\"GlyphRenderer\"}]},\"id\":\"1063\",\"type\":\"LegendItem\"},{\"attributes\":{\"line_color\":\"blue\",\"x\":{\"field\":\"x\"},\"y\":{\"field\":\"five\"}},\"id\":\"1051\",\"type\":\"Line\"},{\"attributes\":{\"label\":{\"value\":\"\\u03b8 = 0.7\"},\"renderers\":[{\"id\":\"1067\",\"type\":\"GlyphRenderer\"}]},\"id\":\"1077\",\"type\":\"LegendItem\"},{\"attributes\":{},\"id\":\"1028\",\"type\":\"SaveTool\"},{\"attributes\":{},\"id\":\"1021\",\"type\":\"BasicTicker\"},{\"attributes\":{\"line_alpha\":0.1,\"line_color\":\"#1f77b4\",\"x\":{\"field\":\"x\"},\"y\":{\"field\":\"five\"}},\"id\":\"1052\",\"type\":\"Line\"},{\"attributes\":{\"callback\":null,\"tooltips\":[[\"Capital pr. capita\",\"@x{0,0.00}\"],[\"Savings rate for \\u03b8 = 0.3\",\"@three{0.00}\"],[\"Savings rate for \\u03b8 = 0.5\",\"@five{0.00}\"],[\"Savings rate for \\u03b8 = 0.7\",\"@seven{0.00}\"]]},\"id\":\"1002\",\"type\":\"HoverTool\"},{\"attributes\":{\"label\":{\"value\":\"\\u03b8 = 0.3\"},\"renderers\":[{\"id\":\"1040\",\"type\":\"GlyphRenderer\"}]},\"id\":\"1049\",\"type\":\"LegendItem\"},{\"attributes\":{\"line_alpha\":0.1,\"line_color\":\"#1f77b4\",\"x\":{\"field\":\"x\"},\"y\":{\"field\":\"seven\"}},\"id\":\"1066\",\"type\":\"Line\"},{\"attributes\":{\"axis_label\":\"Savings rate\",\"formatter\":{\"id\":\"1046\",\"type\":\"BasicTickFormatter\"},\"plot\":{\"id\":\"1005\",\"subtype\":\"Figure\",\"type\":\"Plot\"},\"ticker\":{\"id\":\"1021\",\"type\":\"BasicTicker\"}},\"id\":\"1020\",\"type\":\"LinearAxis\"},{\"attributes\":{\"dimension\":1,\"plot\":{\"id\":\"1005\",\"subtype\":\"Figure\",\"type\":\"Plot\"},\"ticker\":{\"id\":\"1021\",\"type\":\"BasicTicker\"}},\"id\":\"1024\",\"type\":\"Grid\"},{\"attributes\":{\"data_source\":{\"id\":\"1003\",\"type\":\"ColumnDataSource\"},\"glyph\":{\"id\":\"1038\",\"type\":\"Line\"},\"hover_glyph\":null,\"muted_glyph\":null,\"nonselection_glyph\":{\"id\":\"1039\",\"type\":\"Line\"},\"selection_glyph\":null,\"view\":{\"id\":\"1041\",\"type\":\"CDSView\"}},\"id\":\"1040\",\"type\":\"GlyphRenderer\"},{\"attributes\":{\"items\":[{\"id\":\"1049\",\"type\":\"LegendItem\"},{\"id\":\"1063\",\"type\":\"LegendItem\"},{\"id\":\"1077\",\"type\":\"LegendItem\"}],\"location\":\"top_center\",\"plot\":{\"id\":\"1005\",\"subtype\":\"Figure\",\"type\":\"Plot\"}},\"id\":\"1048\",\"type\":\"Legend\"},{\"attributes\":{\"source\":{\"id\":\"1003\",\"type\":\"ColumnDataSource\"}},\"id\":\"1068\",\"type\":\"CDSView\"},{\"attributes\":{\"line_alpha\":0.1,\"line_color\":\"#1f77b4\",\"x\":{\"field\":\"x\"},\"y\":{\"field\":\"three\"}},\"id\":\"1039\",\"type\":\"Line\"},{\"attributes\":{\"plot\":null,\"text\":\"Figure\"},\"id\":\"1004\",\"type\":\"Title\"},{\"attributes\":{},\"id\":\"1046\",\"type\":\"BasicTickFormatter\"},{\"attributes\":{},\"id\":\"1044\",\"type\":\"BasicTickFormatter\"},{\"attributes\":{},\"id\":\"1027\",\"type\":\"ResetTool\"},{\"attributes\":{\"callback\":null,\"data\":{\"five\":{\"__ndarray__\":\"6DHAC+r/6z+t7ij24p7hP+Useh7BL9o/aiaINvX40j8sCA/ianDJP4aEn3kXe7w/8W3aacBmnz981mfjjnlFPqtageiOeUU+Ooww4o55RT4=\",\"dtype\":\"float64\",\"shape\":[10]},\"seven\":{\"__ndarray__\":\"ugUQ8I385j/6+Ge0xjTfP6vTJGXb7Nc/wsZa5V9O0j+/KVYelRTLP4S25DDkmMI/tvNE/uXTtT85PLCVtFqeP2jh7umOeUU+Ooww4o55RT4=\",\"dtype\":\"float64\",\"shape\":[10]},\"three\":{\"__ndarray__\":\"tlE6JJiB7z+770+9K97kP2t1YKSh+t0/14030V/70z8SaXKExwTGP6qt3X3Ta6U/+L536o55RT7xOAX4jnlFPjqMMOKOeUU+gM6l9I55RT4=\",\"dtype\":\"float64\",\"shape\":[10]},\"x\":{\"__ndarray__\":\"/Knx0k1iUD+9U1CzfKwKQKMkc452qxpAsw+fYVcAJEAVjQR886oqQDwFNcvHqjBA7cNn2BUANECegprlY1U3QE9BzfKxqjpAAAAAAAAAPkA=\",\"dtype\":\"float64\",\"shape\":[10]}},\"selected\":{\"id\":\"1060\",\"type\":\"Selection\"},\"selection_policy\":{\"id\":\"1061\",\"type\":\"UnionRenderers\"}},\"id\":\"1003\",\"type\":\"ColumnDataSource\"},{\"attributes\":{\"callback\":null},\"id\":\"1007\",\"type\":\"DataRange1d\"}],\"root_ids\":[\"1005\"]},\"title\":\"Bokeh Application\",\"version\":\"1.0.2\"}};\n",
       "  var render_items = [{\"docid\":\"94707bd9-7f3c-486a-bf31-e47ba4980b25\",\"notebook_comms_target\":\"1086\",\"roots\":{\"1005\":\"7c7b4c8c-ce86-4299-9563-10d707eeecd8\"}}];\n",
       "  root.Bokeh.embed.embed_items_notebook(docs_json, render_items);\n",
       "\n",
       "  }\n",
       "  if (root.Bokeh !== undefined) {\n",
       "    embed_document(root);\n",
       "  } else {\n",
       "    var attempts = 0;\n",
       "    var timer = setInterval(function(root) {\n",
       "      if (root.Bokeh !== undefined) {\n",
       "        embed_document(root);\n",
       "        clearInterval(timer);\n",
       "      }\n",
       "      attempts++;\n",
       "      if (attempts > 100) {\n",
       "        console.log(\"Bokeh: ERROR: Unable to run BokehJS code because BokehJS library is missing\");\n",
       "        clearInterval(timer);\n",
       "      }\n",
       "    }, 10, root)\n",
       "  }\n",
       "})(window);"
      ],
      "application/vnd.bokehjs_exec.v0+json": ""
     },
     "metadata": {
      "application/vnd.bokehjs_exec.v0+json": {
       "id": "1005"
      }
     },
     "output_type": "display_data"
    }
   ],
   "source": [
    "thetas_calls = ['three','five','seven']\n",
    "thetas_names = ['\\u03B8 = 0.3', '\\u03B8 = 0.5','\\u03B8 = 0.7']\n",
    "model_funcs.plotting(\"Capital pr. capita\",thetas_names, k0s, sks, thetas_calls)"
   ]
  },
  {
   "cell_type": "markdown",
   "metadata": {},
   "source": [
    "So our models implies a negative relationship between amount of capital pr. capita. This makes well intuitive sense, since marginal product of capital is relatively smaller, when there is more of it, and thus the household will choose to consume more now, rather than making a bad investment for future consumption. This also bodes well for our model having convergence, to explain why first we plot the same graph, but with a line indicating steady state for a given fixed savings rate. To do this we used the ealier derived formula:\n",
    "$$\n",
    "k^{*}=\\left(\\frac{B\\cdot s_{K}}{\\delta+n}\\right)^{\\frac{1}{1-\\alpha}}\n",
    "$$\n"
   ]
  },
  {
   "cell_type": "code",
   "execution_count": 9,
   "metadata": {},
   "outputs": [],
   "source": [
    "sksopt = find_ssk_sk(k0s,b,delta,n,alpha)"
   ]
  },
  {
   "cell_type": "code",
   "execution_count": 10,
   "metadata": {},
   "outputs": [
    {
     "data": {
      "text/html": [
       "\n",
       "\n",
       "\n",
       "\n",
       "\n",
       "\n",
       "  <div class=\"bk-root\" id=\"92bc6aa1-4bdb-4a9b-914c-8898edf788e9\"></div>\n"
      ]
     },
     "metadata": {},
     "output_type": "display_data"
    },
    {
     "data": {
      "application/javascript": [
       "(function(root) {\n",
       "  function embed_document(root) {\n",
       "    \n",
       "  var docs_json = {\"20aea8af-f52e-42a7-b5fc-f9a920cb8491\":{\"roots\":{\"references\":[{\"attributes\":{\"below\":[{\"id\":\"1148\",\"type\":\"LinearAxis\"}],\"left\":[{\"id\":\"1153\",\"type\":\"LinearAxis\"}],\"renderers\":[{\"id\":\"1148\",\"type\":\"LinearAxis\"},{\"id\":\"1152\",\"type\":\"Grid\"},{\"id\":\"1153\",\"type\":\"LinearAxis\"},{\"id\":\"1157\",\"type\":\"Grid\"},{\"id\":\"1164\",\"type\":\"BoxAnnotation\"},{\"id\":\"1181\",\"type\":\"Legend\"},{\"id\":\"1173\",\"type\":\"GlyphRenderer\"},{\"id\":\"1186\",\"type\":\"GlyphRenderer\"},{\"id\":\"1200\",\"type\":\"GlyphRenderer\"},{\"id\":\"1214\",\"type\":\"GlyphRenderer\"}],\"title\":{\"id\":\"1137\",\"type\":\"Title\"},\"toolbar\":{\"id\":\"1162\",\"type\":\"Toolbar\"},\"x_range\":{\"id\":\"1140\",\"type\":\"DataRange1d\"},\"x_scale\":{\"id\":\"1144\",\"type\":\"LinearScale\"},\"y_range\":{\"id\":\"1142\",\"type\":\"DataRange1d\"},\"y_scale\":{\"id\":\"1146\",\"type\":\"LinearScale\"}},\"id\":\"1138\",\"subtype\":\"Figure\",\"type\":\"Plot\"},{\"attributes\":{\"label\":{\"value\":\"\\u03b8 = 0.3\"},\"renderers\":[{\"id\":\"1173\",\"type\":\"GlyphRenderer\"}]},\"id\":\"1182\",\"type\":\"LegendItem\"},{\"attributes\":{\"source\":{\"id\":\"1136\",\"type\":\"ColumnDataSource\"}},\"id\":\"1187\",\"type\":\"CDSView\"},{\"attributes\":{\"callback\":null,\"data\":{\"Steady_state\":{\"__ndarray__\":\"GBcOhGQBQz/QBti3tZHAP8qI9BmfTMo/Ixmryvc60T+uOhAGa9/UP4L89eZsONg/urvC471Z2z9tuq7Ahk/eP4kiXbv3kOA/g/GIPGPr4T8=\",\"dtype\":\"float64\",\"shape\":[10]},\"five\":{\"__ndarray__\":\"6DHAC+r/6z+t7ij24p7hP+Useh7BL9o/aiaINvX40j8sCA/ianDJP4aEn3kXe7w/8W3aacBmnz981mfjjnlFPqtageiOeUU+Ooww4o55RT4=\",\"dtype\":\"float64\",\"shape\":[10]},\"seven\":{\"__ndarray__\":\"ugUQ8I385j/6+Ge0xjTfP6vTJGXb7Nc/wsZa5V9O0j+/KVYelRTLP4S25DDkmMI/tvNE/uXTtT85PLCVtFqeP2jh7umOeUU+Ooww4o55RT4=\",\"dtype\":\"float64\",\"shape\":[10]},\"three\":{\"__ndarray__\":\"tlE6JJiB7z+770+9K97kP2t1YKSh+t0/14030V/70z8SaXKExwTGP6qt3X3Ta6U/+L536o55RT7xOAX4jnlFPjqMMOKOeUU+gM6l9I55RT4=\",\"dtype\":\"float64\",\"shape\":[10]},\"x\":{\"__ndarray__\":\"/Knx0k1iUD+9U1CzfKwKQKMkc452qxpAsw+fYVcAJEAVjQR886oqQDwFNcvHqjBA7cNn2BUANECegprlY1U3QE9BzfKxqjpAAAAAAAAAPkA=\",\"dtype\":\"float64\",\"shape\":[10]}},\"selected\":{\"id\":\"1193\",\"type\":\"Selection\"},\"selection_policy\":{\"id\":\"1194\",\"type\":\"UnionRenderers\"}},\"id\":\"1136\",\"type\":\"ColumnDataSource\"},{\"attributes\":{},\"id\":\"1193\",\"type\":\"Selection\"},{\"attributes\":{\"callback\":null},\"id\":\"1140\",\"type\":\"DataRange1d\"},{\"attributes\":{},\"id\":\"1194\",\"type\":\"UnionRenderers\"},{\"attributes\":{},\"id\":\"1144\",\"type\":\"LinearScale\"},{\"attributes\":{\"dimension\":1,\"plot\":{\"id\":\"1138\",\"subtype\":\"Figure\",\"type\":\"Plot\"},\"ticker\":{\"id\":\"1154\",\"type\":\"BasicTicker\"}},\"id\":\"1157\",\"type\":\"Grid\"},{\"attributes\":{\"label\":{\"value\":\"\\u03b8 = 0.5\"},\"renderers\":[{\"id\":\"1186\",\"type\":\"GlyphRenderer\"}]},\"id\":\"1196\",\"type\":\"LegendItem\"},{\"attributes\":{},\"id\":\"1154\",\"type\":\"BasicTicker\"},{\"attributes\":{\"axis_label\":\"Savings rate\",\"formatter\":{\"id\":\"1179\",\"type\":\"BasicTickFormatter\"},\"plot\":{\"id\":\"1138\",\"subtype\":\"Figure\",\"type\":\"Plot\"},\"ticker\":{\"id\":\"1154\",\"type\":\"BasicTicker\"}},\"id\":\"1153\",\"type\":\"LinearAxis\"},{\"attributes\":{\"plot\":{\"id\":\"1138\",\"subtype\":\"Figure\",\"type\":\"Plot\"},\"ticker\":{\"id\":\"1149\",\"type\":\"BasicTicker\"}},\"id\":\"1152\",\"type\":\"Grid\"},{\"attributes\":{\"line_alpha\":0.1,\"line_color\":\"#1f77b4\",\"x\":{\"field\":\"x\"},\"y\":{\"field\":\"seven\"}},\"id\":\"1199\",\"type\":\"Line\"},{\"attributes\":{},\"id\":\"1158\",\"type\":\"PanTool\"},{\"attributes\":{},\"id\":\"1146\",\"type\":\"LinearScale\"},{\"attributes\":{\"overlay\":{\"id\":\"1164\",\"type\":\"BoxAnnotation\"}},\"id\":\"1159\",\"type\":\"BoxZoomTool\"},{\"attributes\":{\"data_source\":{\"id\":\"1136\",\"type\":\"ColumnDataSource\"},\"glyph\":{\"id\":\"1198\",\"type\":\"Line\"},\"hover_glyph\":null,\"muted_glyph\":null,\"nonselection_glyph\":{\"id\":\"1199\",\"type\":\"Line\"},\"selection_glyph\":null,\"view\":{\"id\":\"1201\",\"type\":\"CDSView\"}},\"id\":\"1200\",\"type\":\"GlyphRenderer\"},{\"attributes\":{\"active_drag\":\"auto\",\"active_inspect\":\"auto\",\"active_multi\":null,\"active_scroll\":\"auto\",\"active_tap\":\"auto\",\"tools\":[{\"id\":\"1135\",\"type\":\"HoverTool\"},{\"id\":\"1158\",\"type\":\"PanTool\"},{\"id\":\"1159\",\"type\":\"BoxZoomTool\"},{\"id\":\"1160\",\"type\":\"ResetTool\"},{\"id\":\"1161\",\"type\":\"SaveTool\"}]},\"id\":\"1162\",\"type\":\"Toolbar\"},{\"attributes\":{},\"id\":\"1149\",\"type\":\"BasicTicker\"},{\"attributes\":{\"axis_label\":\"Capital pr. capita\",\"formatter\":{\"id\":\"1177\",\"type\":\"BasicTickFormatter\"},\"plot\":{\"id\":\"1138\",\"subtype\":\"Figure\",\"type\":\"Plot\"},\"ticker\":{\"id\":\"1149\",\"type\":\"BasicTicker\"}},\"id\":\"1148\",\"type\":\"LinearAxis\"},{\"attributes\":{\"source\":{\"id\":\"1136\",\"type\":\"ColumnDataSource\"}},\"id\":\"1201\",\"type\":\"CDSView\"},{\"attributes\":{},\"id\":\"1161\",\"type\":\"SaveTool\"},{\"attributes\":{},\"id\":\"1177\",\"type\":\"BasicTickFormatter\"},{\"attributes\":{\"plot\":null,\"text\":\"Figure\"},\"id\":\"1137\",\"type\":\"Title\"},{\"attributes\":{\"line_color\":\"red\",\"x\":{\"field\":\"x\"},\"y\":{\"field\":\"three\"}},\"id\":\"1171\",\"type\":\"Line\"},{\"attributes\":{\"callback\":null},\"id\":\"1142\",\"type\":\"DataRange1d\"},{\"attributes\":{\"bottom_units\":\"screen\",\"fill_alpha\":{\"value\":0.5},\"fill_color\":{\"value\":\"lightgrey\"},\"left_units\":\"screen\",\"level\":\"overlay\",\"line_alpha\":{\"value\":1.0},\"line_color\":{\"value\":\"black\"},\"line_dash\":[4,4],\"line_width\":{\"value\":2},\"plot\":null,\"render_mode\":\"css\",\"right_units\":\"screen\",\"top_units\":\"screen\"},\"id\":\"1164\",\"type\":\"BoxAnnotation\"},{\"attributes\":{\"line_color\":\"yellow\",\"x\":{\"field\":\"x\"},\"y\":{\"field\":\"Steady_state\"}},\"id\":\"1212\",\"type\":\"Line\"},{\"attributes\":{\"line_alpha\":0.1,\"line_color\":\"#1f77b4\",\"x\":{\"field\":\"x\"},\"y\":{\"field\":\"Steady_state\"}},\"id\":\"1213\",\"type\":\"Line\"},{\"attributes\":{\"line_alpha\":0.1,\"line_color\":\"#1f77b4\",\"x\":{\"field\":\"x\"},\"y\":{\"field\":\"three\"}},\"id\":\"1172\",\"type\":\"Line\"},{\"attributes\":{\"data_source\":{\"id\":\"1136\",\"type\":\"ColumnDataSource\"},\"glyph\":{\"id\":\"1212\",\"type\":\"Line\"},\"hover_glyph\":null,\"muted_glyph\":null,\"nonselection_glyph\":{\"id\":\"1213\",\"type\":\"Line\"},\"selection_glyph\":null,\"view\":{\"id\":\"1215\",\"type\":\"CDSView\"}},\"id\":\"1214\",\"type\":\"GlyphRenderer\"},{\"attributes\":{\"data_source\":{\"id\":\"1136\",\"type\":\"ColumnDataSource\"},\"glyph\":{\"id\":\"1171\",\"type\":\"Line\"},\"hover_glyph\":null,\"muted_glyph\":null,\"nonselection_glyph\":{\"id\":\"1172\",\"type\":\"Line\"},\"selection_glyph\":null,\"view\":{\"id\":\"1174\",\"type\":\"CDSView\"}},\"id\":\"1173\",\"type\":\"GlyphRenderer\"},{\"attributes\":{\"line_color\":\"blue\",\"x\":{\"field\":\"x\"},\"y\":{\"field\":\"five\"}},\"id\":\"1184\",\"type\":\"Line\"},{\"attributes\":{\"data_source\":{\"id\":\"1136\",\"type\":\"ColumnDataSource\"},\"glyph\":{\"id\":\"1184\",\"type\":\"Line\"},\"hover_glyph\":null,\"muted_glyph\":null,\"nonselection_glyph\":{\"id\":\"1185\",\"type\":\"Line\"},\"selection_glyph\":null,\"view\":{\"id\":\"1187\",\"type\":\"CDSView\"}},\"id\":\"1186\",\"type\":\"GlyphRenderer\"},{\"attributes\":{\"source\":{\"id\":\"1136\",\"type\":\"ColumnDataSource\"}},\"id\":\"1174\",\"type\":\"CDSView\"},{\"attributes\":{\"source\":{\"id\":\"1136\",\"type\":\"ColumnDataSource\"}},\"id\":\"1215\",\"type\":\"CDSView\"},{\"attributes\":{\"line_color\":\"green\",\"x\":{\"field\":\"x\"},\"y\":{\"field\":\"seven\"}},\"id\":\"1198\",\"type\":\"Line\"},{\"attributes\":{\"label\":{\"value\":\"Steady state\"},\"renderers\":[{\"id\":\"1214\",\"type\":\"GlyphRenderer\"}]},\"id\":\"1224\",\"type\":\"LegendItem\"},{\"attributes\":{},\"id\":\"1179\",\"type\":\"BasicTickFormatter\"},{\"attributes\":{\"line_alpha\":0.1,\"line_color\":\"#1f77b4\",\"x\":{\"field\":\"x\"},\"y\":{\"field\":\"five\"}},\"id\":\"1185\",\"type\":\"Line\"},{\"attributes\":{\"label\":{\"value\":\"\\u03b8 = 0.7\"},\"renderers\":[{\"id\":\"1200\",\"type\":\"GlyphRenderer\"}]},\"id\":\"1210\",\"type\":\"LegendItem\"},{\"attributes\":{\"items\":[{\"id\":\"1182\",\"type\":\"LegendItem\"},{\"id\":\"1196\",\"type\":\"LegendItem\"},{\"id\":\"1210\",\"type\":\"LegendItem\"},{\"id\":\"1224\",\"type\":\"LegendItem\"}],\"location\":\"top_center\",\"plot\":{\"id\":\"1138\",\"subtype\":\"Figure\",\"type\":\"Plot\"}},\"id\":\"1181\",\"type\":\"Legend\"},{\"attributes\":{},\"id\":\"1160\",\"type\":\"ResetTool\"},{\"attributes\":{\"callback\":null,\"tooltips\":[[\"Capital pr. capita\",\"@x{0,0.00}\"],[\"Savings rate for \\u03b8 = 0.3\",\"@three{0.00}\"],[\"Savings rate for \\u03b8 = 0.5\",\"@five{0.00}\"],[\"Savings rate for \\u03b8 = 0.7\",\"@seven{0.00}\"],[\"Savings rate for Steady state\",\"@Steady_state{0.00}\"]]},\"id\":\"1135\",\"type\":\"HoverTool\"}],\"root_ids\":[\"1138\"]},\"title\":\"Bokeh Application\",\"version\":\"1.0.2\"}};\n",
       "  var render_items = [{\"docid\":\"20aea8af-f52e-42a7-b5fc-f9a920cb8491\",\"notebook_comms_target\":\"1241\",\"roots\":{\"1138\":\"92bc6aa1-4bdb-4a9b-914c-8898edf788e9\"}}];\n",
       "  root.Bokeh.embed.embed_items_notebook(docs_json, render_items);\n",
       "\n",
       "  }\n",
       "  if (root.Bokeh !== undefined) {\n",
       "    embed_document(root);\n",
       "  } else {\n",
       "    var attempts = 0;\n",
       "    var timer = setInterval(function(root) {\n",
       "      if (root.Bokeh !== undefined) {\n",
       "        embed_document(root);\n",
       "        clearInterval(timer);\n",
       "      }\n",
       "      attempts++;\n",
       "      if (attempts > 100) {\n",
       "        console.log(\"Bokeh: ERROR: Unable to run BokehJS code because BokehJS library is missing\");\n",
       "        clearInterval(timer);\n",
       "      }\n",
       "    }, 10, root)\n",
       "  }\n",
       "})(window);"
      ],
      "application/vnd.bokehjs_exec.v0+json": ""
     },
     "metadata": {
      "application/vnd.bokehjs_exec.v0+json": {
       "id": "1138"
      }
     },
     "output_type": "display_data"
    }
   ],
   "source": [
    "y_calls = ['three','five','seven','Steady_state']\n",
    "y_names = ['\\u03B8 = 0.3', '\\u03B8 = 0.5','\\u03B8 = 0.7','Steady state']\n",
    "sks.append(sksopt)\n",
    "model_funcs.plotting(\"Capital pr. capita\",y_names, k0s, sks, y_calls)"
   ]
  },
  {
   "cell_type": "markdown",
   "metadata": {},
   "source": [
    "Now we can see that we have convergence. Furthermore we acutaully have faster convergence, than in the traditional solow model. For at fixed savings rate $k_{t}<k^{*}$, the transition equation would imply $\\Delta k_{t}>0$. But now, if $k_{t}<k^{*}$ the chosen savings rate by the household will be bigger than at the steady state-level, savings will thus be bigger, implying a bigger $\\Delta k_{t}$ when $k_{t} \\rightarrow k^{*}$ we will see $s_{Kt} \\rightarrow s_{K}^{*}$ and the chosen savings rate will be fixed."
   ]
  },
  {
   "cell_type": "markdown",
   "metadata": {},
   "source": [
    "# The solow walk"
   ]
  },
  {
   "cell_type": "markdown",
   "metadata": {},
   "source": [
    "Now that we have showed in theory that the model will have convergence, we will show it with a simulation of our model, we will look at a timerange of 150 periods and compare how fast this model compares to the traditional solow-model with a fixed savings rate"
   ]
  },
  {
   "cell_type": "code",
   "execution_count": 11,
   "metadata": {},
   "outputs": [],
   "source": [
    "t_big=150"
   ]
  },
  {
   "cell_type": "code",
   "execution_count": 12,
   "metadata": {},
   "outputs": [],
   "source": [
    "k_pr_path, y_pr_path, sk_path = model_funcs.mod_solowwalk(k0, b, l0, n, alpha, delta, weight, theta, t, t_big)"
   ]
  },
  {
   "cell_type": "code",
   "execution_count": 13,
   "metadata": {},
   "outputs": [
    {
     "data": {
      "text/html": [
       "\n",
       "\n",
       "\n",
       "\n",
       "\n",
       "\n",
       "  <div class=\"bk-root\" id=\"e92ce2a5-ad2f-4d11-86c1-8a79b7d16713\"></div>\n"
      ]
     },
     "metadata": {},
     "output_type": "display_data"
    },
    {
     "data": {
      "application/javascript": [
       "(function(root) {\n",
       "  function embed_document(root) {\n",
       "    \n",
       "  var docs_json = {\"38538436-f363-4e89-8cc5-91591ce7cd22\":{\"roots\":{\"references\":[{\"attributes\":{\"below\":[{\"id\":\"1303\",\"type\":\"LinearAxis\"}],\"left\":[{\"id\":\"1308\",\"type\":\"LinearAxis\"}],\"renderers\":[{\"id\":\"1303\",\"type\":\"LinearAxis\"},{\"id\":\"1307\",\"type\":\"Grid\"},{\"id\":\"1308\",\"type\":\"LinearAxis\"},{\"id\":\"1312\",\"type\":\"Grid\"},{\"id\":\"1319\",\"type\":\"BoxAnnotation\"},{\"id\":\"1336\",\"type\":\"Legend\"},{\"id\":\"1328\",\"type\":\"GlyphRenderer\"},{\"id\":\"1341\",\"type\":\"GlyphRenderer\"}],\"title\":{\"id\":\"1292\",\"type\":\"Title\"},\"toolbar\":{\"id\":\"1317\",\"type\":\"Toolbar\"},\"x_range\":{\"id\":\"1295\",\"type\":\"DataRange1d\"},\"x_scale\":{\"id\":\"1299\",\"type\":\"LinearScale\"},\"y_range\":{\"id\":\"1297\",\"type\":\"DataRange1d\"},\"y_scale\":{\"id\":\"1301\",\"type\":\"LinearScale\"}},\"id\":\"1293\",\"subtype\":\"Figure\",\"type\":\"Plot\"},{\"attributes\":{\"source\":{\"id\":\"1291\",\"type\":\"ColumnDataSource\"}},\"id\":\"1342\",\"type\":\"CDSView\"},{\"attributes\":{},\"id\":\"1348\",\"type\":\"Selection\"},{\"attributes\":{\"active_drag\":\"auto\",\"active_inspect\":\"auto\",\"active_multi\":null,\"active_scroll\":\"auto\",\"active_tap\":\"auto\",\"tools\":[{\"id\":\"1290\",\"type\":\"HoverTool\"},{\"id\":\"1313\",\"type\":\"PanTool\"},{\"id\":\"1314\",\"type\":\"BoxZoomTool\"},{\"id\":\"1315\",\"type\":\"ResetTool\"},{\"id\":\"1316\",\"type\":\"SaveTool\"}]},\"id\":\"1317\",\"type\":\"Toolbar\"},{\"attributes\":{},\"id\":\"1313\",\"type\":\"PanTool\"},{\"attributes\":{},\"id\":\"1349\",\"type\":\"UnionRenderers\"},{\"attributes\":{\"overlay\":{\"id\":\"1319\",\"type\":\"BoxAnnotation\"}},\"id\":\"1314\",\"type\":\"BoxZoomTool\"},{\"attributes\":{\"callback\":null,\"tooltips\":[[\"Time\",\"@x{0,0.00}\"],[\"Capital pr. capita for Model_path\",\"@Cap{0.00}\"],[\"Capital pr. capita for Steady state level\",\"@ss{0.00}\"]]},\"id\":\"1290\",\"type\":\"HoverTool\"},{\"attributes\":{\"label\":{\"value\":\"Steady state level\"},\"renderers\":[{\"id\":\"1341\",\"type\":\"GlyphRenderer\"}]},\"id\":\"1351\",\"type\":\"LegendItem\"},{\"attributes\":{\"callback\":null,\"data\":{\"Cap\":{\"__ndarray__\":\"AAAAAAAAFEDDwHMRqBEWQLmjTmo6+hdAzh6TTUu7GUC1ZMWy4lUbQPc4eNotzBxALhnjyY4gHkBnwv/3/VQfQPgb5/ovNiBAVNIDdIe0IEDLEtqW/iYhQHUgbPJDjiFAsxCK8jTrIUBBhkje3T4iQI4RR/cfiiJAJp6dydPNIkD+a5Af+wojQLJyB6LeQSNAr8PM/iNzI0BxAxiHXZ8jQBoQ+sEmxyNAOZVGV9fqI0BI5AzG2QokQCr9UMuNJyRAzqrbuklBJEC8DStrW1gkQEz1FqQIbSRAwMuBX5B/JEBLqn5EK5AkQHQRgfwLnyRAJm8QWGCsJEBq5g1iUbgkQMewUtADwyRApICovpjMJECaOj/eLdUkQDPk9bXd3CRA2WTtFsDjJECN1Ops6ukkQPuHduhv7yRAePqWqWH0JEDoUnQFz/gkQG4oN+LF/CRAA97upVIAJUCleWRcgAMlQCkIIPVYBiVA1AoyWOUIJUBkfzSJLQslQPDepnQ4DSVAdjCZ1AwPJUDoQssNsBAlQDw6Q2AnEiVA7uwuhHcTJUCfw8llpBQlQB6UDdixFSVAmkFS/KIWJUBjSzXXehclQLMOrDo8GCVAEnY2TekYJUAHyZAuhBklQKkTIdQOGiVAy8CY+YoaJUAUYwQp+holQDSeL7ldGyVA1x6d3rYbJUBsnIOqBhwlQGUB8BxOHCVA3tRZ+Y0cJUDRt9E1xxwlQJrWtoz6HCVAciExZSgdJUAMb7ReUR0lQIKQBDZ2HSVAgIPRKZcdJUCGlqCptB0lQNrfVRTPHSVAMsI7sOYdJUBuK7Dm+x0lQHbhisYOHiVAtiv5wB8eJUBfIgbnLh4lQFRoVaI8HiVAJgV200geJUCj/A2wUx4lQIM482xdHiVA6oGTKmYeJUCPsH4Gbh4lQIIx9e90HiVAQMG+Y3seJUCiHpDqgB4lQPzMA9eFHiVAQe5wO4oeJUCdMCQ/jh4lQPw3UduRHiVAUH1r9pQeJUCTN7XSlx4lQPfrpVqaHiVAz3pOoJweJUBtX0Oznh4lQGgAfaSgHiVA9V/MZ6IeJUAdsZDdox4lQHtEhyalHiVA78kYUKYeJUColL1kpx4lQG6b0leoHiVAVYfMKqkeJUB4a9f4qR4lQITg2bqqHiVAPSVcV6seJUA8Qyrcqx4lQAKLemasHiVAu1MpzqweJUAQX3c4rR4lQHBcSJetHiVAeduS7a0eJUDMPuIhrh4lQHPahlauHiVA9gVOl64eJUBvJ/TIrh4lQClp8PSuHiVAAFdcGq8eJUC0E/NDrx4lQK/13VKvHiVAlqfbd68eJUDnSoV6rx4lQMRfpJ2vHiVAH77rva8eJUDkjRDYrx4lQPZPlOevHiVAVcJlAbAeJUDbqlwCsB4lQE78dQqwHiVADr7UFbAeJUBvGM8bsB4lQLiwkSqwHiVA0lgdLLAeJUBgphM3sB4lQCryiziwHiVAKRhaOLAeJUD0HpVLsB4lQEX5O2SwHiVAp0U4W7AeJUB8zZhusB4lQE+r4XOwHiVAXy26fbAeJUCz83l0sB4lQByLOWywHiVAXPgXcLAeJUD3vo1jsB4lQPjXmZKwHiVA\",\"dtype\":\"float64\",\"shape\":[150]},\"ss\":[10.56,10.56,10.56,10.56,10.56,10.56,10.56,10.56,10.56,10.56,10.56,10.56,10.56,10.56,10.56,10.56,10.56,10.56,10.56,10.56,10.56,10.56,10.56,10.56,10.56,10.56,10.56,10.56,10.56,10.56,10.56,10.56,10.56,10.56,10.56,10.56,10.56,10.56,10.56,10.56,10.56,10.56,10.56,10.56,10.56,10.56,10.56,10.56,10.56,10.56,10.56,10.56,10.56,10.56,10.56,10.56,10.56,10.56,10.56,10.56,10.56,10.56,10.56,10.56,10.56,10.56,10.56,10.56,10.56,10.56,10.56,10.56,10.56,10.56,10.56,10.56,10.56,10.56,10.56,10.56,10.56,10.56,10.56,10.56,10.56,10.56,10.56,10.56,10.56,10.56,10.56,10.56,10.56,10.56,10.56,10.56,10.56,10.56,10.56,10.56,10.56,10.56,10.56,10.56,10.56,10.56,10.56,10.56,10.56,10.56,10.56,10.56,10.56,10.56,10.56,10.56,10.56,10.56,10.56,10.56,10.56,10.56,10.56,10.56,10.56,10.56,10.56,10.56,10.56,10.56,10.56,10.56,10.56,10.56,10.56,10.56,10.56,10.56,10.56,10.56,10.56,10.56,10.56,10.56,10.56,10.56,10.56,10.56,10.56,10.56],\"x\":[0,1,2,3,4,5,6,7,8,9,10,11,12,13,14,15,16,17,18,19,20,21,22,23,24,25,26,27,28,29,30,31,32,33,34,35,36,37,38,39,40,41,42,43,44,45,46,47,48,49,50,51,52,53,54,55,56,57,58,59,60,61,62,63,64,65,66,67,68,69,70,71,72,73,74,75,76,77,78,79,80,81,82,83,84,85,86,87,88,89,90,91,92,93,94,95,96,97,98,99,100,101,102,103,104,105,106,107,108,109,110,111,112,113,114,115,116,117,118,119,120,121,122,123,124,125,126,127,128,129,130,131,132,133,134,135,136,137,138,139,140,141,142,143,144,145,146,147,148,149]},\"selected\":{\"id\":\"1348\",\"type\":\"Selection\"},\"selection_policy\":{\"id\":\"1349\",\"type\":\"UnionRenderers\"}},\"id\":\"1291\",\"type\":\"ColumnDataSource\"},{\"attributes\":{},\"id\":\"1315\",\"type\":\"ResetTool\"},{\"attributes\":{},\"id\":\"1316\",\"type\":\"SaveTool\"},{\"attributes\":{\"line_color\":\"red\",\"x\":{\"field\":\"x\"},\"y\":{\"field\":\"Cap\"}},\"id\":\"1326\",\"type\":\"Line\"},{\"attributes\":{},\"id\":\"1332\",\"type\":\"BasicTickFormatter\"},{\"attributes\":{\"bottom_units\":\"screen\",\"fill_alpha\":{\"value\":0.5},\"fill_color\":{\"value\":\"lightgrey\"},\"left_units\":\"screen\",\"level\":\"overlay\",\"line_alpha\":{\"value\":1.0},\"line_color\":{\"value\":\"black\"},\"line_dash\":[4,4],\"line_width\":{\"value\":2},\"plot\":null,\"render_mode\":\"css\",\"right_units\":\"screen\",\"top_units\":\"screen\"},\"id\":\"1319\",\"type\":\"BoxAnnotation\"},{\"attributes\":{\"plot\":null,\"text\":\"Figure\"},\"id\":\"1292\",\"type\":\"Title\"},{\"attributes\":{\"plot\":{\"id\":\"1293\",\"subtype\":\"Figure\",\"type\":\"Plot\"},\"ticker\":{\"id\":\"1304\",\"type\":\"BasicTicker\"}},\"id\":\"1307\",\"type\":\"Grid\"},{\"attributes\":{\"line_alpha\":0.1,\"line_color\":\"#1f77b4\",\"x\":{\"field\":\"x\"},\"y\":{\"field\":\"Cap\"}},\"id\":\"1327\",\"type\":\"Line\"},{\"attributes\":{\"callback\":null},\"id\":\"1295\",\"type\":\"DataRange1d\"},{\"attributes\":{\"callback\":null},\"id\":\"1297\",\"type\":\"DataRange1d\"},{\"attributes\":{\"source\":{\"id\":\"1291\",\"type\":\"ColumnDataSource\"}},\"id\":\"1329\",\"type\":\"CDSView\"},{\"attributes\":{},\"id\":\"1299\",\"type\":\"LinearScale\"},{\"attributes\":{},\"id\":\"1334\",\"type\":\"BasicTickFormatter\"},{\"attributes\":{},\"id\":\"1301\",\"type\":\"LinearScale\"},{\"attributes\":{\"items\":[{\"id\":\"1337\",\"type\":\"LegendItem\"},{\"id\":\"1351\",\"type\":\"LegendItem\"}],\"location\":\"bottom_center\",\"plot\":{\"id\":\"1293\",\"subtype\":\"Figure\",\"type\":\"Plot\"}},\"id\":\"1336\",\"type\":\"Legend\"},{\"attributes\":{\"axis_label\":\"Time\",\"formatter\":{\"id\":\"1332\",\"type\":\"BasicTickFormatter\"},\"plot\":{\"id\":\"1293\",\"subtype\":\"Figure\",\"type\":\"Plot\"},\"ticker\":{\"id\":\"1304\",\"type\":\"BasicTicker\"}},\"id\":\"1303\",\"type\":\"LinearAxis\"},{\"attributes\":{\"label\":{\"value\":\"Model_path\"},\"renderers\":[{\"id\":\"1328\",\"type\":\"GlyphRenderer\"}]},\"id\":\"1337\",\"type\":\"LegendItem\"},{\"attributes\":{},\"id\":\"1304\",\"type\":\"BasicTicker\"},{\"attributes\":{\"data_source\":{\"id\":\"1291\",\"type\":\"ColumnDataSource\"},\"glyph\":{\"id\":\"1326\",\"type\":\"Line\"},\"hover_glyph\":null,\"muted_glyph\":null,\"nonselection_glyph\":{\"id\":\"1327\",\"type\":\"Line\"},\"selection_glyph\":null,\"view\":{\"id\":\"1329\",\"type\":\"CDSView\"}},\"id\":\"1328\",\"type\":\"GlyphRenderer\"},{\"attributes\":{\"line_color\":\"blue\",\"x\":{\"field\":\"x\"},\"y\":{\"field\":\"ss\"}},\"id\":\"1339\",\"type\":\"Line\"},{\"attributes\":{\"axis_label\":\"Capital pr. capita\",\"formatter\":{\"id\":\"1334\",\"type\":\"BasicTickFormatter\"},\"plot\":{\"id\":\"1293\",\"subtype\":\"Figure\",\"type\":\"Plot\"},\"ticker\":{\"id\":\"1309\",\"type\":\"BasicTicker\"}},\"id\":\"1308\",\"type\":\"LinearAxis\"},{\"attributes\":{\"line_alpha\":0.1,\"line_color\":\"#1f77b4\",\"x\":{\"field\":\"x\"},\"y\":{\"field\":\"ss\"}},\"id\":\"1340\",\"type\":\"Line\"},{\"attributes\":{},\"id\":\"1309\",\"type\":\"BasicTicker\"},{\"attributes\":{\"data_source\":{\"id\":\"1291\",\"type\":\"ColumnDataSource\"},\"glyph\":{\"id\":\"1339\",\"type\":\"Line\"},\"hover_glyph\":null,\"muted_glyph\":null,\"nonselection_glyph\":{\"id\":\"1340\",\"type\":\"Line\"},\"selection_glyph\":null,\"view\":{\"id\":\"1342\",\"type\":\"CDSView\"}},\"id\":\"1341\",\"type\":\"GlyphRenderer\"},{\"attributes\":{\"dimension\":1,\"plot\":{\"id\":\"1293\",\"subtype\":\"Figure\",\"type\":\"Plot\"},\"ticker\":{\"id\":\"1309\",\"type\":\"BasicTicker\"}},\"id\":\"1312\",\"type\":\"Grid\"}],\"root_ids\":[\"1293\"]},\"title\":\"Bokeh Application\",\"version\":\"1.0.2\"}};\n",
       "  var render_items = [{\"docid\":\"38538436-f363-4e89-8cc5-91591ce7cd22\",\"notebook_comms_target\":\"1376\",\"roots\":{\"1293\":\"e92ce2a5-ad2f-4d11-86c1-8a79b7d16713\"}}];\n",
       "  root.Bokeh.embed.embed_items_notebook(docs_json, render_items);\n",
       "\n",
       "  }\n",
       "  if (root.Bokeh !== undefined) {\n",
       "    embed_document(root);\n",
       "  } else {\n",
       "    var attempts = 0;\n",
       "    var timer = setInterval(function(root) {\n",
       "      if (root.Bokeh !== undefined) {\n",
       "        embed_document(root);\n",
       "        clearInterval(timer);\n",
       "      }\n",
       "      attempts++;\n",
       "      if (attempts > 100) {\n",
       "        console.log(\"Bokeh: ERROR: Unable to run BokehJS code because BokehJS library is missing\");\n",
       "        clearInterval(timer);\n",
       "      }\n",
       "    }, 10, root)\n",
       "  }\n",
       "})(window);"
      ],
      "application/vnd.bokehjs_exec.v0+json": ""
     },
     "metadata": {
      "application/vnd.bokehjs_exec.v0+json": {
       "id": "1293"
      }
     },
     "output_type": "display_data"
    }
   ],
   "source": [
    "y_calls = ['Cap','ss']\n",
    "y_names = ['Model_path', 'Steady state level']\n",
    "ys = [k_pr_path ,[10.56 for i in range(t_big)]]\n",
    "model_funcs.plotting(\"Time\",y_names, list(range(t_big)), ys, y_calls, \n",
    "                     y_name= 'Capital pr. capita',legendlocation ='bottom_center')\n"
   ]
  }
 ],
 "metadata": {
  "kernelspec": {
   "display_name": "Python 3",
   "language": "python",
   "name": "python3"
  },
  "language_info": {
   "codemirror_mode": {
    "name": "ipython",
    "version": 3
   },
   "file_extension": ".py",
   "mimetype": "text/x-python",
   "name": "python",
   "nbconvert_exporter": "python",
   "pygments_lexer": "ipython3",
   "version": "3.7.1"
  }
 },
 "nbformat": 4,
 "nbformat_minor": 2
}
