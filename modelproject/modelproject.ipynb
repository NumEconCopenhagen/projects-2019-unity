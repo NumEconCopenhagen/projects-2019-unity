{
 "cells": [
  {
   "cell_type": "code",
   "execution_count": 1,
   "metadata": {},
   "outputs": [],
   "source": [
    "%load_ext autoreload\n",
    "%autoreload 2"
   ]
  },
  {
   "cell_type": "code",
   "execution_count": 2,
   "metadata": {},
   "outputs": [
    {
     "data": {
      "text/html": [
       "\n",
       "    <div class=\"bk-root\">\n",
       "        <a href=\"https://bokeh.pydata.org\" target=\"_blank\" class=\"bk-logo bk-logo-small bk-logo-notebook\"></a>\n",
       "        <span id=\"1001\">Loading BokehJS ...</span>\n",
       "    </div>"
      ]
     },
     "metadata": {},
     "output_type": "display_data"
    },
    {
     "data": {
      "application/javascript": [
       "\n",
       "(function(root) {\n",
       "  function now() {\n",
       "    return new Date();\n",
       "  }\n",
       "\n",
       "  var force = true;\n",
       "\n",
       "  if (typeof (root._bokeh_onload_callbacks) === \"undefined\" || force === true) {\n",
       "    root._bokeh_onload_callbacks = [];\n",
       "    root._bokeh_is_loading = undefined;\n",
       "  }\n",
       "\n",
       "  var JS_MIME_TYPE = 'application/javascript';\n",
       "  var HTML_MIME_TYPE = 'text/html';\n",
       "  var EXEC_MIME_TYPE = 'application/vnd.bokehjs_exec.v0+json';\n",
       "  var CLASS_NAME = 'output_bokeh rendered_html';\n",
       "\n",
       "  /**\n",
       "   * Render data to the DOM node\n",
       "   */\n",
       "  function render(props, node) {\n",
       "    var script = document.createElement(\"script\");\n",
       "    node.appendChild(script);\n",
       "  }\n",
       "\n",
       "  /**\n",
       "   * Handle when an output is cleared or removed\n",
       "   */\n",
       "  function handleClearOutput(event, handle) {\n",
       "    var cell = handle.cell;\n",
       "\n",
       "    var id = cell.output_area._bokeh_element_id;\n",
       "    var server_id = cell.output_area._bokeh_server_id;\n",
       "    // Clean up Bokeh references\n",
       "    if (id != null && id in Bokeh.index) {\n",
       "      Bokeh.index[id].model.document.clear();\n",
       "      delete Bokeh.index[id];\n",
       "    }\n",
       "\n",
       "    if (server_id !== undefined) {\n",
       "      // Clean up Bokeh references\n",
       "      var cmd = \"from bokeh.io.state import curstate; print(curstate().uuid_to_server['\" + server_id + \"'].get_sessions()[0].document.roots[0]._id)\";\n",
       "      cell.notebook.kernel.execute(cmd, {\n",
       "        iopub: {\n",
       "          output: function(msg) {\n",
       "            var id = msg.content.text.trim();\n",
       "            if (id in Bokeh.index) {\n",
       "              Bokeh.index[id].model.document.clear();\n",
       "              delete Bokeh.index[id];\n",
       "            }\n",
       "          }\n",
       "        }\n",
       "      });\n",
       "      // Destroy server and session\n",
       "      var cmd = \"import bokeh.io.notebook as ion; ion.destroy_server('\" + server_id + \"')\";\n",
       "      cell.notebook.kernel.execute(cmd);\n",
       "    }\n",
       "  }\n",
       "\n",
       "  /**\n",
       "   * Handle when a new output is added\n",
       "   */\n",
       "  function handleAddOutput(event, handle) {\n",
       "    var output_area = handle.output_area;\n",
       "    var output = handle.output;\n",
       "\n",
       "    // limit handleAddOutput to display_data with EXEC_MIME_TYPE content only\n",
       "    if ((output.output_type != \"display_data\") || (!output.data.hasOwnProperty(EXEC_MIME_TYPE))) {\n",
       "      return\n",
       "    }\n",
       "\n",
       "    var toinsert = output_area.element.find(\".\" + CLASS_NAME.split(' ')[0]);\n",
       "\n",
       "    if (output.metadata[EXEC_MIME_TYPE][\"id\"] !== undefined) {\n",
       "      toinsert[toinsert.length - 1].firstChild.textContent = output.data[JS_MIME_TYPE];\n",
       "      // store reference to embed id on output_area\n",
       "      output_area._bokeh_element_id = output.metadata[EXEC_MIME_TYPE][\"id\"];\n",
       "    }\n",
       "    if (output.metadata[EXEC_MIME_TYPE][\"server_id\"] !== undefined) {\n",
       "      var bk_div = document.createElement(\"div\");\n",
       "      bk_div.innerHTML = output.data[HTML_MIME_TYPE];\n",
       "      var script_attrs = bk_div.children[0].attributes;\n",
       "      for (var i = 0; i < script_attrs.length; i++) {\n",
       "        toinsert[toinsert.length - 1].firstChild.setAttribute(script_attrs[i].name, script_attrs[i].value);\n",
       "      }\n",
       "      // store reference to server id on output_area\n",
       "      output_area._bokeh_server_id = output.metadata[EXEC_MIME_TYPE][\"server_id\"];\n",
       "    }\n",
       "  }\n",
       "\n",
       "  function register_renderer(events, OutputArea) {\n",
       "\n",
       "    function append_mime(data, metadata, element) {\n",
       "      // create a DOM node to render to\n",
       "      var toinsert = this.create_output_subarea(\n",
       "        metadata,\n",
       "        CLASS_NAME,\n",
       "        EXEC_MIME_TYPE\n",
       "      );\n",
       "      this.keyboard_manager.register_events(toinsert);\n",
       "      // Render to node\n",
       "      var props = {data: data, metadata: metadata[EXEC_MIME_TYPE]};\n",
       "      render(props, toinsert[toinsert.length - 1]);\n",
       "      element.append(toinsert);\n",
       "      return toinsert\n",
       "    }\n",
       "\n",
       "    /* Handle when an output is cleared or removed */\n",
       "    events.on('clear_output.CodeCell', handleClearOutput);\n",
       "    events.on('delete.Cell', handleClearOutput);\n",
       "\n",
       "    /* Handle when a new output is added */\n",
       "    events.on('output_added.OutputArea', handleAddOutput);\n",
       "\n",
       "    /**\n",
       "     * Register the mime type and append_mime function with output_area\n",
       "     */\n",
       "    OutputArea.prototype.register_mime_type(EXEC_MIME_TYPE, append_mime, {\n",
       "      /* Is output safe? */\n",
       "      safe: true,\n",
       "      /* Index of renderer in `output_area.display_order` */\n",
       "      index: 0\n",
       "    });\n",
       "  }\n",
       "\n",
       "  // register the mime type if in Jupyter Notebook environment and previously unregistered\n",
       "  if (root.Jupyter !== undefined) {\n",
       "    var events = require('base/js/events');\n",
       "    var OutputArea = require('notebook/js/outputarea').OutputArea;\n",
       "\n",
       "    if (OutputArea.prototype.mime_types().indexOf(EXEC_MIME_TYPE) == -1) {\n",
       "      register_renderer(events, OutputArea);\n",
       "    }\n",
       "  }\n",
       "\n",
       "  \n",
       "  if (typeof (root._bokeh_timeout) === \"undefined\" || force === true) {\n",
       "    root._bokeh_timeout = Date.now() + 5000;\n",
       "    root._bokeh_failed_load = false;\n",
       "  }\n",
       "\n",
       "  var NB_LOAD_WARNING = {'data': {'text/html':\n",
       "     \"<div style='background-color: #fdd'>\\n\"+\n",
       "     \"<p>\\n\"+\n",
       "     \"BokehJS does not appear to have successfully loaded. If loading BokehJS from CDN, this \\n\"+\n",
       "     \"may be due to a slow or bad network connection. Possible fixes:\\n\"+\n",
       "     \"</p>\\n\"+\n",
       "     \"<ul>\\n\"+\n",
       "     \"<li>re-rerun `output_notebook()` to attempt to load from CDN again, or</li>\\n\"+\n",
       "     \"<li>use INLINE resources instead, as so:</li>\\n\"+\n",
       "     \"</ul>\\n\"+\n",
       "     \"<code>\\n\"+\n",
       "     \"from bokeh.resources import INLINE\\n\"+\n",
       "     \"output_notebook(resources=INLINE)\\n\"+\n",
       "     \"</code>\\n\"+\n",
       "     \"</div>\"}};\n",
       "\n",
       "  function display_loaded() {\n",
       "    var el = document.getElementById(\"1001\");\n",
       "    if (el != null) {\n",
       "      el.textContent = \"BokehJS is loading...\";\n",
       "    }\n",
       "    if (root.Bokeh !== undefined) {\n",
       "      if (el != null) {\n",
       "        el.textContent = \"BokehJS \" + root.Bokeh.version + \" successfully loaded.\";\n",
       "      }\n",
       "    } else if (Date.now() < root._bokeh_timeout) {\n",
       "      setTimeout(display_loaded, 100)\n",
       "    }\n",
       "  }\n",
       "\n",
       "\n",
       "  function run_callbacks() {\n",
       "    try {\n",
       "      root._bokeh_onload_callbacks.forEach(function(callback) { callback() });\n",
       "    }\n",
       "    finally {\n",
       "      delete root._bokeh_onload_callbacks\n",
       "    }\n",
       "    console.info(\"Bokeh: all callbacks have finished\");\n",
       "  }\n",
       "\n",
       "  function load_libs(js_urls, callback) {\n",
       "    root._bokeh_onload_callbacks.push(callback);\n",
       "    if (root._bokeh_is_loading > 0) {\n",
       "      console.log(\"Bokeh: BokehJS is being loaded, scheduling callback at\", now());\n",
       "      return null;\n",
       "    }\n",
       "    if (js_urls == null || js_urls.length === 0) {\n",
       "      run_callbacks();\n",
       "      return null;\n",
       "    }\n",
       "    console.log(\"Bokeh: BokehJS not loaded, scheduling load and callback at\", now());\n",
       "    root._bokeh_is_loading = js_urls.length;\n",
       "    for (var i = 0; i < js_urls.length; i++) {\n",
       "      var url = js_urls[i];\n",
       "      var s = document.createElement('script');\n",
       "      s.src = url;\n",
       "      s.async = false;\n",
       "      s.onreadystatechange = s.onload = function() {\n",
       "        root._bokeh_is_loading--;\n",
       "        if (root._bokeh_is_loading === 0) {\n",
       "          console.log(\"Bokeh: all BokehJS libraries loaded\");\n",
       "          run_callbacks()\n",
       "        }\n",
       "      };\n",
       "      s.onerror = function() {\n",
       "        console.warn(\"failed to load library \" + url);\n",
       "      };\n",
       "      console.log(\"Bokeh: injecting script tag for BokehJS library: \", url);\n",
       "      document.getElementsByTagName(\"head\")[0].appendChild(s);\n",
       "    }\n",
       "  };var element = document.getElementById(\"1001\");\n",
       "  if (element == null) {\n",
       "    console.log(\"Bokeh: ERROR: autoload.js configured with elementid '1001' but no matching script tag was found. \")\n",
       "    return false;\n",
       "  }\n",
       "\n",
       "  var js_urls = [\"https://cdn.pydata.org/bokeh/release/bokeh-1.0.2.min.js\", \"https://cdn.pydata.org/bokeh/release/bokeh-widgets-1.0.2.min.js\", \"https://cdn.pydata.org/bokeh/release/bokeh-tables-1.0.2.min.js\", \"https://cdn.pydata.org/bokeh/release/bokeh-gl-1.0.2.min.js\"];\n",
       "\n",
       "  var inline_js = [\n",
       "    function(Bokeh) {\n",
       "      Bokeh.set_log_level(\"info\");\n",
       "    },\n",
       "    \n",
       "    function(Bokeh) {\n",
       "      \n",
       "    },\n",
       "    function(Bokeh) {\n",
       "      console.log(\"Bokeh: injecting CSS: https://cdn.pydata.org/bokeh/release/bokeh-1.0.2.min.css\");\n",
       "      Bokeh.embed.inject_css(\"https://cdn.pydata.org/bokeh/release/bokeh-1.0.2.min.css\");\n",
       "      console.log(\"Bokeh: injecting CSS: https://cdn.pydata.org/bokeh/release/bokeh-widgets-1.0.2.min.css\");\n",
       "      Bokeh.embed.inject_css(\"https://cdn.pydata.org/bokeh/release/bokeh-widgets-1.0.2.min.css\");\n",
       "      console.log(\"Bokeh: injecting CSS: https://cdn.pydata.org/bokeh/release/bokeh-tables-1.0.2.min.css\");\n",
       "      Bokeh.embed.inject_css(\"https://cdn.pydata.org/bokeh/release/bokeh-tables-1.0.2.min.css\");\n",
       "    }\n",
       "  ];\n",
       "\n",
       "  function run_inline_js() {\n",
       "    \n",
       "    if ((root.Bokeh !== undefined) || (force === true)) {\n",
       "      for (var i = 0; i < inline_js.length; i++) {\n",
       "        inline_js[i].call(root, root.Bokeh);\n",
       "      }if (force === true) {\n",
       "        display_loaded();\n",
       "      }} else if (Date.now() < root._bokeh_timeout) {\n",
       "      setTimeout(run_inline_js, 100);\n",
       "    } else if (!root._bokeh_failed_load) {\n",
       "      console.log(\"Bokeh: BokehJS failed to load within specified timeout.\");\n",
       "      root._bokeh_failed_load = true;\n",
       "    } else if (force !== true) {\n",
       "      var cell = $(document.getElementById(\"1001\")).parents('.cell').data().cell;\n",
       "      cell.output_area.append_execute_result(NB_LOAD_WARNING)\n",
       "    }\n",
       "\n",
       "  }\n",
       "\n",
       "  if (root._bokeh_is_loading === 0) {\n",
       "    console.log(\"Bokeh: BokehJS loaded, going straight to plotting\");\n",
       "    run_inline_js();\n",
       "  } else {\n",
       "    load_libs(js_urls, function() {\n",
       "      console.log(\"Bokeh: BokehJS plotting callback run at\", now());\n",
       "      run_inline_js();\n",
       "    });\n",
       "  }\n",
       "}(window));"
      ],
      "application/vnd.bokehjs_load.v0+json": "\n(function(root) {\n  function now() {\n    return new Date();\n  }\n\n  var force = true;\n\n  if (typeof (root._bokeh_onload_callbacks) === \"undefined\" || force === true) {\n    root._bokeh_onload_callbacks = [];\n    root._bokeh_is_loading = undefined;\n  }\n\n  \n\n  \n  if (typeof (root._bokeh_timeout) === \"undefined\" || force === true) {\n    root._bokeh_timeout = Date.now() + 5000;\n    root._bokeh_failed_load = false;\n  }\n\n  var NB_LOAD_WARNING = {'data': {'text/html':\n     \"<div style='background-color: #fdd'>\\n\"+\n     \"<p>\\n\"+\n     \"BokehJS does not appear to have successfully loaded. If loading BokehJS from CDN, this \\n\"+\n     \"may be due to a slow or bad network connection. Possible fixes:\\n\"+\n     \"</p>\\n\"+\n     \"<ul>\\n\"+\n     \"<li>re-rerun `output_notebook()` to attempt to load from CDN again, or</li>\\n\"+\n     \"<li>use INLINE resources instead, as so:</li>\\n\"+\n     \"</ul>\\n\"+\n     \"<code>\\n\"+\n     \"from bokeh.resources import INLINE\\n\"+\n     \"output_notebook(resources=INLINE)\\n\"+\n     \"</code>\\n\"+\n     \"</div>\"}};\n\n  function display_loaded() {\n    var el = document.getElementById(\"1001\");\n    if (el != null) {\n      el.textContent = \"BokehJS is loading...\";\n    }\n    if (root.Bokeh !== undefined) {\n      if (el != null) {\n        el.textContent = \"BokehJS \" + root.Bokeh.version + \" successfully loaded.\";\n      }\n    } else if (Date.now() < root._bokeh_timeout) {\n      setTimeout(display_loaded, 100)\n    }\n  }\n\n\n  function run_callbacks() {\n    try {\n      root._bokeh_onload_callbacks.forEach(function(callback) { callback() });\n    }\n    finally {\n      delete root._bokeh_onload_callbacks\n    }\n    console.info(\"Bokeh: all callbacks have finished\");\n  }\n\n  function load_libs(js_urls, callback) {\n    root._bokeh_onload_callbacks.push(callback);\n    if (root._bokeh_is_loading > 0) {\n      console.log(\"Bokeh: BokehJS is being loaded, scheduling callback at\", now());\n      return null;\n    }\n    if (js_urls == null || js_urls.length === 0) {\n      run_callbacks();\n      return null;\n    }\n    console.log(\"Bokeh: BokehJS not loaded, scheduling load and callback at\", now());\n    root._bokeh_is_loading = js_urls.length;\n    for (var i = 0; i < js_urls.length; i++) {\n      var url = js_urls[i];\n      var s = document.createElement('script');\n      s.src = url;\n      s.async = false;\n      s.onreadystatechange = s.onload = function() {\n        root._bokeh_is_loading--;\n        if (root._bokeh_is_loading === 0) {\n          console.log(\"Bokeh: all BokehJS libraries loaded\");\n          run_callbacks()\n        }\n      };\n      s.onerror = function() {\n        console.warn(\"failed to load library \" + url);\n      };\n      console.log(\"Bokeh: injecting script tag for BokehJS library: \", url);\n      document.getElementsByTagName(\"head\")[0].appendChild(s);\n    }\n  };var element = document.getElementById(\"1001\");\n  if (element == null) {\n    console.log(\"Bokeh: ERROR: autoload.js configured with elementid '1001' but no matching script tag was found. \")\n    return false;\n  }\n\n  var js_urls = [\"https://cdn.pydata.org/bokeh/release/bokeh-1.0.2.min.js\", \"https://cdn.pydata.org/bokeh/release/bokeh-widgets-1.0.2.min.js\", \"https://cdn.pydata.org/bokeh/release/bokeh-tables-1.0.2.min.js\", \"https://cdn.pydata.org/bokeh/release/bokeh-gl-1.0.2.min.js\"];\n\n  var inline_js = [\n    function(Bokeh) {\n      Bokeh.set_log_level(\"info\");\n    },\n    \n    function(Bokeh) {\n      \n    },\n    function(Bokeh) {\n      console.log(\"Bokeh: injecting CSS: https://cdn.pydata.org/bokeh/release/bokeh-1.0.2.min.css\");\n      Bokeh.embed.inject_css(\"https://cdn.pydata.org/bokeh/release/bokeh-1.0.2.min.css\");\n      console.log(\"Bokeh: injecting CSS: https://cdn.pydata.org/bokeh/release/bokeh-widgets-1.0.2.min.css\");\n      Bokeh.embed.inject_css(\"https://cdn.pydata.org/bokeh/release/bokeh-widgets-1.0.2.min.css\");\n      console.log(\"Bokeh: injecting CSS: https://cdn.pydata.org/bokeh/release/bokeh-tables-1.0.2.min.css\");\n      Bokeh.embed.inject_css(\"https://cdn.pydata.org/bokeh/release/bokeh-tables-1.0.2.min.css\");\n    }\n  ];\n\n  function run_inline_js() {\n    \n    if ((root.Bokeh !== undefined) || (force === true)) {\n      for (var i = 0; i < inline_js.length; i++) {\n        inline_js[i].call(root, root.Bokeh);\n      }if (force === true) {\n        display_loaded();\n      }} else if (Date.now() < root._bokeh_timeout) {\n      setTimeout(run_inline_js, 100);\n    } else if (!root._bokeh_failed_load) {\n      console.log(\"Bokeh: BokehJS failed to load within specified timeout.\");\n      root._bokeh_failed_load = true;\n    } else if (force !== true) {\n      var cell = $(document.getElementById(\"1001\")).parents('.cell').data().cell;\n      cell.output_area.append_execute_result(NB_LOAD_WARNING)\n    }\n\n  }\n\n  if (root._bokeh_is_loading === 0) {\n    console.log(\"Bokeh: BokehJS loaded, going straight to plotting\");\n    run_inline_js();\n  } else {\n    load_libs(js_urls, function() {\n      console.log(\"Bokeh: BokehJS plotting callback run at\", now());\n      run_inline_js();\n    });\n  }\n}(window));"
     },
     "metadata": {},
     "output_type": "display_data"
    }
   ],
   "source": [
    "import model_funcs\n",
    "import sympy as sm\n",
    "from scipy import interpolate\n",
    "from bokeh.io import output_notebook,show\n",
    "from bokeh.layouts import row\n",
    "output_notebook()"
   ]
  },
  {
   "cell_type": "markdown",
   "metadata": {},
   "source": [
    "# Our Model"
   ]
  },
  {
   "cell_type": "markdown",
   "metadata": {},
   "source": [
    "Our model is the classic solowmodel, but instead of having a fixed savings rate, in each period the savings rate is decided by a micro-household optimization problem. We will get back to this later but first we will solve the simple Solow model with a fixed savingsrate."
   ]
  },
  {
   "cell_type": "markdown",
   "metadata": {},
   "source": [
    "**Macro foundations**\n",
    "\n",
    "The basic solow model consists of the following equations:\n",
    "$$\n",
    "Y_t = A K^{\\alpha} L^{1-\\alpha}\n",
    "$$$$\n",
    "K_{t+1}=s_{K}\\cdot Y_{t}+\\left(1-\\delta\\right)K_{t}\n",
    "$$$$\n",
    "L_{t+1}=\\left(1+n\\right) L_{t}\n",
    "$$\n",
    "\n",
    "By denoting $k_{t},y_{t}=\\frac{K_{t}}{L_{t}},\\frac{Y_{t}}{L_{t}}$ the following transition equation can be derived:\n",
    "$$\n",
    "k_{t+1}= \\frac{1}{1+n} \\left(s_{Kt}\\cdot A k_{t}^{\\alpha} + \\left(1+\\delta\\right)k_{t} \\right)\n",
    "$$"
   ]
  },
  {
   "cell_type": "markdown",
   "metadata": {},
   "source": [
    "# Solving the basic Solow model"
   ]
  },
  {
   "cell_type": "markdown",
   "metadata": {},
   "source": [
    "For a fixed savings rate we know that basic Solow model has convergenge to steady state (Inada-conditions). Convergence will imply $k_{t+1}=k_{t}=k^{*}$ thus we have from the transtition equation that:\n",
    "$$\n",
    "k^{*}= \\frac{1}{1+n} \\left(s_{Kt}\\cdot A {k^{*}}^{\\alpha} + \\left(1+\\delta\\right)k^{*} \\right)\n",
    "$$\n",
    "And can use sympy to derive our steady state capital for a given fixed savings will be:"
   ]
  },
  {
   "cell_type": "code",
   "execution_count": 3,
   "metadata": {},
   "outputs": [
    {
     "data": {
      "image/png": "[encoded data removed]",
      "text/latex": [
       "$$k^{*} = \\left(\\frac{A s_{K}}{\\delta + n}\\right)^{- \\frac{1}{\\alpha - 1}}$$"
      ],
      "text/plain": [
       "                 -1  \n",
       "                ─────\n",
       "                α - 1\n",
       "         ⎛A⋅s_K⎞     \n",
       "k__{*} = ⎜─────⎟     \n",
       "         ⎝δ + n⎠     "
      ]
     },
     "execution_count": 3,
     "metadata": {},
     "output_type": "execute_result"
    }
   ],
   "source": [
    "sm.init_printing(use_unicode=True)\n",
    "# Function that solve the transtion equation\n",
    "ss_k = model_funcs.steadystate()\n",
    "ss_k"
   ]
  },
  {
   "cell_type": "code",
   "execution_count": 4,
   "metadata": {},
   "outputs": [],
   "source": [
    "sm.init_printing(use_unicode=False)"
   ]
  },
  {
   "cell_type": "markdown",
   "metadata": {},
   "source": [
    "We can also simulate the model with a function defined in model_funcs.py and show it visually.\n",
    "First we set up reasonable parameter values"
   ]
  },
  {
   "cell_type": "markdown",
   "metadata": {},
   "source": [
    "$\\alpha$, with a Cobb-Douglas production function the incomeshare of capital, is set to $\\frac{1}{3}$, a ordinary macro-assumption. <br>\n",
    "$\\delta$, capital depreciation, is set to $5\\%$. <br>\n",
    "$n$, population growth is set to $0.8\\%$ representing average european population growth. <br>\n",
    "$s_{K}$, the fixed savings rate is set to $20\\%$. <br>\n",
    "$A$ and $L_{0}$ is both normalized to 1. <br>\n",
    "$K_{0}$ is set to 5, below the steady state. <br>"
   ]
  },
  {
   "cell_type": "code",
   "execution_count": 5,
   "metadata": {},
   "outputs": [
    {
     "ename": "NameError",
     "evalue": "name 'b' is not defined",
     "output_type": "error",
     "traceback": [
      "\u001b[0;31m---------------------------------------------------------------------------\u001b[0m",
      "\u001b[0;31mNameError\u001b[0m                                 Traceback (most recent call last)",
      "\u001b[0;32m<ipython-input-5-8c0e5a2391f3>\u001b[0m in \u001b[0;36m<module>\u001b[0;34m\u001b[0m\n\u001b[1;32m     17\u001b[0m \u001b[0;34m\u001b[0m\u001b[0m\n\u001b[1;32m     18\u001b[0m \u001b[0;31m# Steady state kapital pr. worker:\u001b[0m\u001b[0;34m\u001b[0m\u001b[0;34m\u001b[0m\u001b[0;34m\u001b[0m\u001b[0m\n\u001b[0;32m---> 19\u001b[0;31m \u001b[0mk_star\u001b[0m \u001b[0;34m=\u001b[0m \u001b[0mmodel_funcs\u001b[0m\u001b[0;34m.\u001b[0m\u001b[0mfind_ssk_k\u001b[0m\u001b[0;34m(\u001b[0m\u001b[0msk\u001b[0m\u001b[0;34m,\u001b[0m\u001b[0mb\u001b[0m\u001b[0;34m,\u001b[0m\u001b[0mdelta\u001b[0m\u001b[0;34m,\u001b[0m\u001b[0mn\u001b[0m\u001b[0;34m,\u001b[0m\u001b[0malpha\u001b[0m\u001b[0;34m)\u001b[0m\u001b[0;34m\u001b[0m\u001b[0;34m\u001b[0m\u001b[0m\n\u001b[0m\u001b[1;32m     20\u001b[0m \u001b[0mk_stars\u001b[0m  \u001b[0;34m=\u001b[0m\u001b[0;34m[\u001b[0m\u001b[0mk_star\u001b[0m \u001b[0;32mfor\u001b[0m \u001b[0mi\u001b[0m \u001b[0;32min\u001b[0m \u001b[0mrange\u001b[0m\u001b[0;34m(\u001b[0m\u001b[0mtimeline\u001b[0m\u001b[0;34m)\u001b[0m\u001b[0;34m]\u001b[0m\u001b[0;34m\u001b[0m\u001b[0;34m\u001b[0m\u001b[0m\n\u001b[1;32m     21\u001b[0m \u001b[0;34m\u001b[0m\u001b[0m\n",
      "\u001b[0;31mNameError\u001b[0m: name 'b' is not defined"
     ]
    }
   ],
   "source": [
    "# Reasonable parameters:\n",
    "#Macro:\n",
    "alpha = 1/3\n",
    "delta = 0.05\n",
    "n = 0.008\n",
    "sk = 0.2\n",
    "\n",
    "\n",
    "# production:\n",
    "a = 1\n",
    "k0 = 5\n",
    "l0 = 1\n",
    "\n",
    "# Our timeline:\n",
    "timeline = 200\n",
    "\n",
    "\n",
    "# Steady state kapital pr. worker:\n",
    "k_star = model_funcs.find_ssk_k(sk,a,delta,n,alpha)\n",
    "k_stars  =[k_star for i in range(timeline)]\n",
    "\n",
    "# The evolution of the normal solow model:\n",
    "trad_k_pr, trad_y_pr = model_funcs.solowwalk(\n",
    "    k0, a, l0, n, sk, alpha, delta, timeline)\n",
    "\n",
    "p = model_funcs.plotting(\"T\",['Solow path', 'Steady state'], range(timeline), [trad_k_pr,k_stars],\n",
    "                    y_name='Capital pr. capita', title = 'Traditional Solowpath',\n",
    "                    legendlocation ='bottom_center', width = 600)\n",
    "show(p,notebook_handle=True)"
   ]
  },
  {
   "cell_type": "markdown",
   "metadata": {},
   "source": [
    "# The micro model"
   ]
  },
  {
   "cell_type": "markdown",
   "metadata": {},
   "source": [
    "Now that we have seen the solow model with a fixed savingsrate. We will show how the the savingsrate is formed in our micromodel:"
   ]
  },
  {
   "cell_type": "markdown",
   "metadata": {},
   "source": [
    "**Micro-foundation of the savingsrate** \n",
    "\n",
    "Representative household utilityfunction in single periode:\n",
    "$$\n",
    "u\\left(c_{t}\\right)=\\frac{c^{1-\\theta}-1}{1-\\theta}\n",
    "$$\n",
    "When the household sums its total utility for mulitple future periods, it disocunts future consumption for immediate consumption by $1-\\beta$ so utility for all periods from period 0 to period T, given a vector C of consumption in each period is:\n",
    "$$\n",
    "U\\left(C\\right)=\\sum_{t=0}^{T}\\beta^{t}\\frac{c_{t}^{1-\\theta}-1}{1-\\theta}\n",
    "$$\n",
    "We assume that the household understands how the solow model works, e.g. how production for consumption is made and how capital accumulation works. From the calulations above we have:\n",
    "$$\n",
    "y_{t}=A k_{t}^{\\alpha} \\Rightarrow\n",
    "c_{t} = \\left(1-s_{Kt}\\right) A k_{t}^{\\alpha}\n",
    "$$ $$\n",
    "k_{t+1}= \\frac{1}{1+n} \\left(s_{Kt}\\cdot A k_{t}^{\\alpha} + \\left(1+\\delta\\right)k_{t} \\right)\n",
    "$$\n",
    "This is our 'budget constraint' more precisely defined as production constraints for all periods \n",
    "\n",
    "So the final optimizationproblem is:\n",
    "$$\n",
    "\\max_{s_{K_t}}U\\left(C\\right)=\\sum_{t=0}^{T}\\beta^{t}\\frac{c_{t}^{1-\\theta}-1}{1-\\theta}\n",
    "$$\n",
    "$$ s.t.$$$$\n",
    "c_{t} = \\left(1-s_{Kt}\\right) A k_{t}^{\\alpha},\\;t\\in [0,T]\n",
    "$$$$\n",
    "k_{t}=\n",
    "\\begin{cases}\n",
    "k_{0}& \\text{if }t=0\\\\\n",
    "\\frac{1}{1+n} \\left(s_{Kt-1}\\cdot A k_{t-1}^{\\alpha} + \\left(1+\\delta\\right)k_{t-1} \\right)& \\text{if }t\\in\\left[1,T\\right]\n",
    "\\end{cases}\n",
    "$$$$\n",
    "k_{0} \\text{ given}\n",
    "$$\n",
    "It's important to note that although the optimizationsolution, $s_{Kt}$, is solved for all periods. Only the solution for t=0 is used, since the problem is solved again in the next period. E.g. in each period the household formualtes a plan for current and future comsumption. In the current period the plan is pursued but in the following period a new plan is formulated, which is then also only followed for one period. "
   ]
  },
  {
   "cell_type": "markdown",
   "metadata": {},
   "source": [
    "First we set up microparameter values: <br>\n",
    "$\\theta$, determining the representative household's aversion to fluctations in consumption is as base, set to 0.5, but values below and above are also looked at, as we don't know an approximate of the true value<br>\n",
    "$\\beta$, determining how much the representative households values immediate above future consumption, is set to 0.99. Representing a low preference. <br>\n",
    "$t$, the amount of future time periods considered by the household, is set to 40 for two reasons: <br>\n",
    "1. Computational limitations, honestely speed becomes a factor when we simulate a more foresighted representative household.\n",
    "2. It approximately represents the average remaining lifetime of the working population. As we asumme no 'warm glow' from bequesting, this will also be the timeline that the population cares about on average. "
   ]
  },
  {
   "cell_type": "code",
   "execution_count": null,
   "metadata": {},
   "outputs": [],
   "source": [
    "# Parameters\n",
    "#Micro:\n",
    "theta = 0.5\n",
    "beta = 0.99\n",
    "\n",
    "t = 40\n",
    "\n",
    "# time preference utility weights and population growth \n",
    "# are precomputed to save time:\n",
    "weight = np.array([beta**i for i in range(t)])\n",
    "l = np.array([l0*(1+n)**i for i in range(t)])"
   ]
  },
  {
   "cell_type": "markdown",
   "metadata": {},
   "source": [
    "**Solving the micro-foundation numerically**"
   ]
  },
  {
   "cell_type": "markdown",
   "metadata": {},
   "source": [
    "First we look at how, for different thetas, optimal savings rate in period t=0, depends on the level of initial capital:"
   ]
  },
  {
   "cell_type": "code",
   "execution_count": null,
   "metadata": {},
   "outputs": [],
   "source": [
    "'''We find the prefered savings rate in period t=0\n",
    "for different thetas an initial capitals'''\n",
    "k_n = 100\n",
    "thetas = [0.3,0.5,0.7,1.5]\n",
    "sks = [np.zeros(k_n) for i in range(len(thetas))]\n",
    "k0s = np.linspace(0.001,30,k_n)\n",
    "\n",
    "for j in range(len(thetas)):\n",
    "    for i in range(k_n):\n",
    "            sks[j][i] = model_funcs.optimal_sks(\n",
    "                t, b, l, weight, delta, alpha, thetas[j], k0s[i])\n",
    "            \n",
    "# We save these resoluts as a interpolater for use in Macro model\n",
    "sk_interpers = [interpolate.RegularGridInterpolator([k0s], sks[i],\n",
    "        bounds_error=False,fill_value=None) for i in range(len(thetas))]   "
   ]
  },
  {
   "cell_type": "code",
   "execution_count": null,
   "metadata": {},
   "outputs": [],
   "source": [
    "''' We use Bokeh to plot and have defined a function in model_funcs.py \n",
    "that calls the plot to bokeh ''' \n",
    "\n",
    "y_names=[]\n",
    "# \\u03B8 is code for theta \n",
    "for theta in thetas:\n",
    "    y_names.append(f'\\u03B8 = {theta:.1f}')\n",
    "\n",
    "p = model_funcs.plotting(\"Capital pr. capita\",y_names, k0s, sks, width=600)\n",
    "show(p,notebook_handle=True)"
   ]
  },
  {
   "cell_type": "markdown",
   "metadata": {},
   "source": [
    "So our models implies a negative relationship between amount of capital pr. capita. This makes well intuitive sense, since marginal product of capital is relatively smaller, when there is more of it, and thus the household will choose to consume more now, rather than making a bad investment for future consumption. This also bodes well for our model having convergence, to explain why first we plot the same graph, but with a line indicating steady state for a given fixed savings rate. To do this we use the below formula derived ealier and plot it for varying $s_{K}$.\n",
    "$$\n",
    "k^{*}=\\left(\\frac{B\\cdot s_{K}}{\\delta+n}\\right)^{\\frac{1}{1-\\alpha}}\n",
    "$$\n"
   ]
  },
  {
   "cell_type": "code",
   "execution_count": null,
   "metadata": {},
   "outputs": [],
   "source": [
    "sksopt = model_funcs.find_ssk_sk(k0s,b,delta,n,alpha)\n",
    "y_names.append('Steady state')\n",
    "sks.append(sksopt)"
   ]
  },
  {
   "cell_type": "code",
   "execution_count": null,
   "metadata": {},
   "outputs": [],
   "source": [
    "figure1 = model_funcs.plotting(\"Capital pr. capita\",y_names, k0s, sks,title='Optimal savings rate for varying \\u03B8 and capital pr. capita',width= 600)\n",
    "show(figure1,notebook_handle=True)"
   ]
  },
  {
   "cell_type": "markdown",
   "metadata": {},
   "source": [
    "Now we can see that we have convergence. Furthermore we acutaully have faster convergence, than in the traditional solow model. For at fixed savings rate $k_{t}<k^{*}$, the transition equation would imply $\\Delta k_{t}>0$. But now, if $k_{t}<k^{*}$ the chosen savings rate by the household will be bigger than at the steady state-level, savings will thus be bigger, implying a bigger $\\Delta k_{t}$ when $k_{t} \\rightarrow k^{*}$ we will see $s_{Kt} \\rightarrow s_{K}^{*}$ and the chosen savings rate will be fixed. <br>\n",
    "Since we have simple solow model, we know that the real optimal fixed savings rate for maximum overall consumption in the long is acutally $s_{K}^{**}=\\alpha$ which in our case is $\\frac{1}{3}$, but we see that this steady state can't be achieved in our model. This is because our representative household is shortsighted and values immediate consumption above future consumption."
   ]
  },
  {
   "cell_type": "markdown",
   "metadata": {},
   "source": [
    "**Plotting the compsumption plan**"
   ]
  },
  {
   "cell_type": "markdown",
   "metadata": {},
   "source": [
    "Another way of visually showing convergence is by plotting the compsumption plan of the representative houshold. We will do this below. We slightly alter our model when doing this because we now assume that the representative household plans for a 200 periods, e.g. considers and cares about consumption in the next many many periods. Because we now do this we can se that the consummer will stick to the plan made in period 1, in the following period untill it hits steady state where it will stay since there are no chocks in our model. "
   ]
  },
  {
   "cell_type": "code",
   "execution_count": null,
   "metadata": {},
   "outputs": [],
   "source": []
  },
  {
   "cell_type": "markdown",
   "metadata": {},
   "source": [
    "# The modified solow walk"
   ]
  },
  {
   "cell_type": "markdown",
   "metadata": {},
   "source": [
    "Now that we have showed in theory that the model will have convergence, we will show it with a simulation of our model, we will look at a timerange of 150 periods and compare how fast this model compares to the traditional solow-model with a fixed savings rate set at the steady state level savings of our model."
   ]
  },
  {
   "cell_type": "code",
   "execution_count": null,
   "metadata": {},
   "outputs": [],
   "source": [
    "timeline = 150\n",
    "k0 = 5\n",
    "'''This function finds the implied steady state values of s_k and k_t in our model,\n",
    "basicly by finding the crossing in the above figure.\n",
    "'''\n",
    "\n",
    "k_star, sk_star = model_funcs.find_ss(\n",
    "    t, b, n, beta, delta, alpha, thetas[1], bracket=[0.1,30])\n",
    "\n",
    "# The evolution of the normal solow model:\n",
    "trad_k_pr, trad_y_pr = model_funcs.solowwalk(\n",
    "    k0, b, l0, n, sk_star, alpha, delta, timeline)\n",
    "\n",
    "# The evolution of the modified solowmodel:\n",
    "k_pr, y_pr, sk_path = model_funcs.new_mod_solowwalk(\n",
    "    k0, l0, b,n, alpha, delta, sk_interpers[1], timeline)\n"
   ]
  },
  {
   "cell_type": "code",
   "execution_count": null,
   "metadata": {},
   "outputs": [],
   "source": [
    "# Again plotting with the help of bokeh:\n",
    "# These are the ones that are shown:\n",
    "y_names = ['Model path', 'Fixed Savings rate','Steady state level']\n",
    "\n",
    "ys = [k_pr ,trad_k_pr, [k_star for i in range(timeline)]]\n",
    "\n",
    "p1 = model_funcs.plotting(\"T\",y_names, list(range(timeline)), ys, \n",
    "                     y_name= 'Capital pr. capita',legendlocation ='bottom_center',\n",
    "                    title = 'Evolution of capital')\n",
    "\n",
    "ys2 = [sk_path, [sk_star for i in range(timeline)]]\n",
    "\n",
    "p2 = model_funcs.plotting(\"T\",['Model','Steady state/Fixed'], list(range(timeline)), ys2,\n",
    "                     y_name= 'Savings rate',legendlocation ='top_center',\n",
    "                    title = 'Evolution of the savings rate')\n",
    "\n",
    "show(row(p1,p2),notebook_handle=True)"
   ]
  },
  {
   "cell_type": "markdown",
   "metadata": {},
   "source": [
    "Thus we see the faster convergence to the same steady state. we get the same result if our intial $k_{0}>k^{*}$. Lets try with $k_{0}=25$ implying that in the first period, the representative household will actually not want to save any money for the future in the first period."
   ]
  },
  {
   "cell_type": "code",
   "execution_count": null,
   "metadata": {},
   "outputs": [],
   "source": [
    "k0 = 20\n",
    "# Exactly the same as before\n",
    "k_star, sk_star = model_funcs.find_ss(\n",
    "    t, b, n, beta, delta, alpha, thetas[1], bracket=[5,30])\n",
    "\n",
    "trad_k_pr, trad_y_pr = model_funcs.solowwalk(\n",
    "    k0, b, l0, n, sk_star, alpha, delta,timeline)\n",
    "\n",
    "k_pr, y_pr, sk_path = model_funcs.new_mod_solowwalk(\n",
    "    k0, l0, b,n, alpha, delta, sk_interpers[1], timeline)"
   ]
  },
  {
   "cell_type": "code",
   "execution_count": null,
   "metadata": {},
   "outputs": [],
   "source": [
    "y_names = ['Model_path', 'Fixed Savings rate','Steady state level']\n",
    "ys = [k_pr ,trad_k_pr, [k_star for i in range(timeline)]]\n",
    "p1 = model_funcs.plotting(\"T\",y_names, list(range(timeline)), ys, \n",
    "                     y_name= 'Capital pr. capita',legendlocation ='top_center',\n",
    "                    title='Evolution of capital')\n",
    "ys2 = [sk_path, [sk_star for i in range(timeline)]]\n",
    "p2 = model_funcs.plotting(\"T\",['Model','Steady state/Fixed'], list(range(timeline)), ys2, \n",
    "                     y_name= 'Savings rate', legendlocation ='bottom_center', \n",
    "                     title ='Evolution of savings rate')\n",
    "show(row(p1,p2),notebook_handle=True)"
   ]
  },
  {
   "cell_type": "markdown",
   "metadata": {},
   "source": [
    "# The model for different values of $\\theta$"
   ]
  },
  {
   "cell_type": "markdown",
   "metadata": {},
   "source": [
    "Now we look at the evolution of the model for different values of theta in the household utility function. Both for initially low and initially high $k^{*}$."
   ]
  },
  {
   "cell_type": "code",
   "execution_count": null,
   "metadata": {},
   "outputs": [],
   "source": [
    "k_prs_low = []\n",
    "sk_paths_low = []\n",
    "\n",
    "k0 = 5\n",
    "for i in range(4):\n",
    "    k_pr, y_pr, sk_path = model_funcs.new_mod_solowwalk(\n",
    "        k0, l0, b,n, alpha, delta, sk_interpers[i], timeline)\n",
    "    k_prs_low.append(k_pr)\n",
    "    sk_paths_low.append(sk_path)\n",
    "    \n",
    "    \n",
    "\n",
    "k_prs_high = []\n",
    "sk_paths_high = []\n",
    "\n",
    "k0 = 20\n",
    "for i in range(4):\n",
    "    k_pr, y_pr, sk_path = model_funcs.new_mod_solowwalk(\n",
    "        k0, l0, b,n, alpha, delta, sk_interpers[i], timeline)\n",
    "    k_prs_high.append(k_pr)\n",
    "    sk_paths_high.append(sk_path)\n",
    "    "
   ]
  },
  {
   "cell_type": "code",
   "execution_count": null,
   "metadata": {},
   "outputs": [],
   "source": [
    "theta_names = ['\\u03B8 = 0.3', '\\u03B8 = 0.5','\\u03B8 = 0.7','\\u03B8 = 1.5']\n",
    "\n",
    "p1 = model_funcs.plotting(\"T\",theta_names, list(range(timeline)), k_prs_low,\n",
    "                     y_name= 'Capital pr. capita',legendlocation ='bottom_center',\n",
    "                    title = 'Evolution of the capita pr. capita for different values of \\u03B8')\n",
    "\n",
    "p2 = model_funcs.plotting(\"T\",theta_names, list(range(timeline)), sk_paths_low,\n",
    "                     y_name= 'Savings rate',legendlocation ='top_center',\n",
    "                    title = 'Evolution of the savingsrate for different values of \\u03B8')\n",
    "\n",
    "\n",
    "p3 = model_funcs.plotting(\"T\",theta_names, list(range(timeline)), k_prs_high,\n",
    "                     y_name= 'Capital pr. capita',legendlocation ='top_center',\n",
    "                    title = 'Evolution of the capita pr. capita for different values of \\u03B8')\n",
    "\n",
    "p4 = model_funcs.plotting(\"T\",theta_names, list(range(timeline)), sk_paths_high,\n",
    "                     y_name= 'Savings rate',legendlocation ='bottom_center',\n",
    "                    title = 'Evolution of the savingsrate for different values of \\u03B8')\n"
   ]
  },
  {
   "cell_type": "markdown",
   "metadata": {},
   "source": [
    "Before we show the figures of the simulation of the macro model, we remind ourselfs of the figure showing the optimal savingsrate for different $\\theta$s \n",
    "The crossing of the steady state-line with the lines of optimal savings rate, shows our steady state for the given $\\theta$. Also it would make sence if the steeper the optimalsavings-line is, the faster the convergence towards the steady state will be. Since the savingsrate will be adjusted more, and the capitalaccumulation will be faster. "
   ]
  },
  {
   "cell_type": "code",
   "execution_count": null,
   "metadata": {},
   "outputs": [],
   "source": [
    "show(figure1,notebook_handle=True)"
   ]
  },
  {
   "cell_type": "code",
   "execution_count": null,
   "metadata": {},
   "outputs": [],
   "source": [
    "show(row(p1,p2),notebook_handle=True)\n",
    "show(row(p3,p4),notebook_handle=True)"
   ]
  }
 ],
 "metadata": {
  "kernelspec": {
   "display_name": "Python 3",
   "language": "python",
   "name": "python3"
  },
  "language_info": {
   "codemirror_mode": {
    "name": "ipython",
    "version": 3
   },
   "file_extension": ".py",
   "mimetype": "text/x-python",
   "name": "python",
   "nbconvert_exporter": "python",
   "pygments_lexer": "ipython3",
   "version": "3.7.1"
  }
 },
 "nbformat": 4,
 "nbformat_minor": 2
}
